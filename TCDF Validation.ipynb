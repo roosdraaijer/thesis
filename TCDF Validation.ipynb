{
 "cells": [
  {
   "cell_type": "markdown",
   "metadata": {},
   "source": [
    "# TCDF Validation with provided data \n",
    "In this notebook I provide TCDF network runs with provided (preprocessed) data from the Finance dataset, available from https://github.com/M-Nauta/TCDF. This serves as further support for model validation and the additional implementation in this network by R. Draaijer."
   ]
  },
  {
   "cell_type": "markdown",
   "metadata": {},
   "source": [
    "### Prepare for running TCDF"
   ]
  },
  {
   "cell_type": "code",
   "execution_count": 1,
   "metadata": {},
   "outputs": [
    {
     "data": {
      "text/plain": [
       "'C:\\\\Users\\\\10528504\\\\Documents\\\\GitHub\\\\thesis\\\\TCDF'"
      ]
     },
     "execution_count": 1,
     "metadata": {},
     "output_type": "execute_result"
    }
   ],
   "source": [
    "import os\n",
    "\n",
    "# Create universally (i.e. across various operating systems) recognized paths\n",
    "\n",
    "notebook_path = os.path.abspath('TCDF Validation.ipynb')               # Jupyter notebook path\n",
    "TCDF_path = os.path.join(os.path.dirname(notebook_path), 'TCDF')       # TCDF folder path\n",
    "TCDFdata_path = os.path.join(TCDF_path, 'data')                        # TCDF/data folder path\n",
    "\n",
    "# Define needed directory\n",
    "directory = TCDF_path\n",
    "\n",
    "# Check current working directory\n",
    "current_directory = os.getcwd()\n",
    "\n",
    "# Change working directory to perform TCDF\n",
    "if current_directory != directory:\n",
    "    os.chdir(TCDF_path)\n",
    "\n",
    "# Check new current working directory\n",
    "os.getcwd()"
   ]
  },
  {
   "cell_type": "code",
   "execution_count": 2,
   "metadata": {},
   "outputs": [
    {
     "name": "stdout",
     "output_type": "stream",
     "text": [
      "Collecting package metadata (current_repodata.json): ...working... done\n",
      "Solving environment: ...working... done\n",
      "\n",
      "# All requested packages already installed.\n",
      "\n",
      "Requirement already satisfied: torchvision in c:\\users\\10528504\\anaconda3\\lib\\site-packages (0.10.0)\n",
      "Requirement already satisfied: pillow>=5.3.0 in c:\\users\\10528504\\anaconda3\\lib\\site-packages (from torchvision) (8.2.0)\n",
      "Requirement already satisfied: numpy in c:\\users\\10528504\\anaconda3\\lib\\site-packages (from torchvision) (1.20.1)\n",
      "Requirement already satisfied: torch==1.9.0 in c:\\users\\10528504\\anaconda3\\lib\\site-packages (from torchvision) (1.9.0)\n",
      "Requirement already satisfied: typing-extensions in c:\\users\\10528504\\anaconda3\\lib\\site-packages (from torch==1.9.0->torchvision) (3.7.4.3)\n"
     ]
    }
   ],
   "source": [
    "# Install conda- and pip packages in the current Jupyter kernel\n",
    "import sys\n",
    "!conda install --yes --prefix {sys.prefix} git\n",
    "!{sys.executable} -m pip install torchvision"
   ]
  },
  {
   "cell_type": "markdown",
   "metadata": {},
   "source": [
    "### Run Finance datasets \n",
    "I have chosen to run these datasets with either 0 or 1 hidden layer(s), since these gave the best results according to Nauta et al. (2019). In total there are 9 datasets, and they are run with the additionally implemented early stopping and adaptive learning rate. To use these results comparitively to the tritrophic dataset, the datasets are run in triplicate as well."
   ]
  },
  {
   "cell_type": "markdown",
   "metadata": {},
   "source": [
    "#### TCDF Dataset random-rels_20_1A.csv: first run (in triplicate, 1 hidden layer) "
   ]
  },
  {
   "cell_type": "code",
   "execution_count": null,
   "metadata": {
    "scrolled": true
   },
   "outputs": [
    {
     "name": "stdout",
     "output_type": "stream",
     "text": [
      "Arguments: Namespace(cuda=False, data=None, dilation_coefficient=4, early_stopping=True, epochs=5000, ground_truth={'data/random-rels_20_1A_returns30007000_header.csv': 'data/random-rels_20_1A.csv'}, hidden_layers=1, kernel_size=4, learning_rate=0.01, log_interval=1000, lr_scheduler=True, optimizer='Adam', plot=True, seed=13076, significance=0.8)\n",
      "\n",
      " Dataset:  random-rels_20_1A_returns30007000_header.csv\n",
      "\n",
      " Analysis started for target:  S0\n",
      "INFO: Initializing learning rate scheduler\n",
      "INFO: Initializing early stopping\n",
      "Epoch:  1 [0%] \tLoss: 1.001290\n",
      "Epoch   354: reducing learning rate of group 0 to 1.0000e-03.\n",
      "Epoch: 1000 [20%] \tLoss: 0.169367\n",
      "Epoch: 2000 [40%] \tLoss: 0.166904\n",
      "Epoch  2811: reducing learning rate of group 0 to 1.0000e-04.\n",
      "Epoch  2823: reducing learning rate of group 0 to 1.0000e-05.\n",
      "Epoch  2834: reducing learning rate of group 0 to 1.0000e-06.\n",
      "Epoch: 3000 [60%] \tLoss: 0.165297\n",
      "INFO: Early stopping\n",
      "Potential causes:  [8, 6, 2]\n",
      "Validated causes:  []\n",
      "\n",
      " Analysis started for target:  S1\n",
      "INFO: Initializing learning rate scheduler\n",
      "INFO: Initializing early stopping\n",
      "Epoch:  1 [0%] \tLoss: 0.863634\n",
      "Epoch   303: reducing learning rate of group 0 to 1.0000e-03.\n",
      "Epoch: 1000 [20%] \tLoss: 0.155194\n",
      "Epoch: 2000 [40%] \tLoss: 0.148971\n",
      "Epoch  2327: reducing learning rate of group 0 to 1.0000e-04.\n",
      "Epoch  2342: reducing learning rate of group 0 to 1.0000e-05.\n",
      "Epoch  2353: reducing learning rate of group 0 to 1.0000e-06.\n",
      "INFO: Early stopping\n",
      "Potential causes:  [2, 18, 11, 6]\n",
      "Validated causes:  [11]\n",
      "\n",
      " Analysis started for target:  S2\n",
      "INFO: Initializing learning rate scheduler\n",
      "INFO: Initializing early stopping\n",
      "Epoch:  1 [0%] \tLoss: 0.721742\n",
      "Epoch   368: reducing learning rate of group 0 to 1.0000e-03.\n",
      "Epoch: 1000 [20%] \tLoss: 0.125095\n",
      "Epoch  1923: reducing learning rate of group 0 to 1.0000e-04.\n",
      "Epoch  1938: reducing learning rate of group 0 to 1.0000e-05.\n",
      "Epoch  1959: reducing learning rate of group 0 to 1.0000e-06.\n",
      "Epoch: 2000 [40%] \tLoss: 0.115670\n",
      "INFO: Early stopping\n",
      "Potential causes:  [2, 0, 7, 22, 17, 18, 6]\n",
      "Validated causes:  [2, 7]\n",
      "\n",
      " Analysis started for target:  S3\n",
      "INFO: Initializing learning rate scheduler\n",
      "INFO: Initializing early stopping\n",
      "Epoch:  1 [0%] \tLoss: 0.529781\n",
      "Epoch   345: reducing learning rate of group 0 to 1.0000e-03.\n",
      "Epoch: 1000 [20%] \tLoss: 0.111431\n",
      "Epoch: 2000 [40%] \tLoss: 0.090390\n",
      "Epoch  2611: reducing learning rate of group 0 to 1.0000e-04.\n",
      "Epoch  2626: reducing learning rate of group 0 to 1.0000e-05.\n",
      "Epoch  2647: reducing learning rate of group 0 to 1.0000e-06.\n",
      "INFO: Early stopping\n",
      "Potential causes:  [18, 2, 8, 10]\n",
      "Validated causes:  [18]\n",
      "\n",
      " Analysis started for target:  S4\n",
      "INFO: Initializing learning rate scheduler\n",
      "INFO: Initializing early stopping\n",
      "Epoch:  1 [0%] \tLoss: 0.547776\n",
      "Epoch   426: reducing learning rate of group 0 to 1.0000e-03.\n",
      "Epoch   437: reducing learning rate of group 0 to 1.0000e-04.\n",
      "Epoch   448: reducing learning rate of group 0 to 1.0000e-05.\n",
      "Epoch   459: reducing learning rate of group 0 to 1.0000e-06.\n",
      "INFO: Early stopping\n",
      "Potential causes:  [9, 0]\n",
      "Validated causes:  [9]\n",
      "\n",
      " Analysis started for target:  S5\n",
      "INFO: Initializing learning rate scheduler\n",
      "INFO: Initializing early stopping\n",
      "Epoch:  1 [0%] \tLoss: 1.214927\n",
      "Epoch   397: reducing learning rate of group 0 to 1.0000e-03.\n",
      "Epoch   427: reducing learning rate of group 0 to 1.0000e-04.\n",
      "Epoch   449: reducing learning rate of group 0 to 1.0000e-05.\n",
      "Epoch   460: reducing learning rate of group 0 to 1.0000e-06.\n",
      "INFO: Early stopping\n",
      "Potential causes:  [10, 16, 6]\n",
      "Validated causes:  [16]\n",
      "\n",
      " Analysis started for target:  S6\n",
      "INFO: Initializing learning rate scheduler\n",
      "INFO: Initializing early stopping\n",
      "Epoch:  1 [0%] \tLoss: 0.717641\n",
      "Epoch   303: reducing learning rate of group 0 to 1.0000e-03.\n",
      "Epoch: 1000 [20%] \tLoss: 0.096976\n",
      "Epoch: 2000 [40%] \tLoss: 0.095545\n",
      "Epoch  2558: reducing learning rate of group 0 to 1.0000e-04.\n",
      "Epoch  2572: reducing learning rate of group 0 to 1.0000e-05.\n",
      "Epoch  2583: reducing learning rate of group 0 to 1.0000e-06.\n",
      "INFO: Early stopping\n",
      "Potential causes:  [0, 18]\n",
      "Validated causes:  []\n",
      "\n",
      " Analysis started for target:  S7\n",
      "INFO: Initializing learning rate scheduler\n",
      "INFO: Initializing early stopping\n",
      "Epoch:  1 [0%] \tLoss: 0.565037\n",
      "Epoch   273: reducing learning rate of group 0 to 1.0000e-03.\n",
      "Epoch: 1000 [20%] \tLoss: 0.088074\n",
      "Epoch: 2000 [40%] \tLoss: 0.085024\n",
      "Epoch  2126: reducing learning rate of group 0 to 1.0000e-04.\n",
      "Epoch  2138: reducing learning rate of group 0 to 1.0000e-05.\n",
      "Epoch  2149: reducing learning rate of group 0 to 1.0000e-06.\n",
      "INFO: Early stopping\n",
      "Potential causes:  [2, 0, 6, 18]\n",
      "Validated causes:  []\n",
      "\n",
      " Analysis started for target:  S8\n",
      "INFO: Initializing learning rate scheduler\n",
      "INFO: Initializing early stopping\n",
      "Epoch:  1 [0%] \tLoss: 0.595640\n",
      "Epoch   326: reducing learning rate of group 0 to 1.0000e-03.\n",
      "Epoch: 1000 [20%] \tLoss: 0.088227\n",
      "Epoch: 2000 [40%] \tLoss: 0.082323\n",
      "Epoch  2377: reducing learning rate of group 0 to 1.0000e-04.\n",
      "Epoch  2391: reducing learning rate of group 0 to 1.0000e-05.\n",
      "Epoch  2402: reducing learning rate of group 0 to 1.0000e-06.\n",
      "INFO: Early stopping\n",
      "Potential causes:  [18, 16]\n",
      "Validated causes:  [16]\n",
      "\n",
      " Analysis started for target:  S9\n",
      "INFO: Initializing learning rate scheduler\n",
      "INFO: Initializing early stopping\n",
      "Epoch:  1 [0%] \tLoss: 0.841349\n",
      "Epoch   209: reducing learning rate of group 0 to 1.0000e-03.\n",
      "Epoch: 1000 [20%] \tLoss: 0.140777\n",
      "Epoch  1366: reducing learning rate of group 0 to 1.0000e-04.\n",
      "Epoch  1381: reducing learning rate of group 0 to 1.0000e-05.\n",
      "Epoch  1401: reducing learning rate of group 0 to 1.0000e-06.\n",
      "INFO: Early stopping\n",
      "Potential causes:  [19, 18, 10, 2]\n",
      "Validated causes:  [19, 10]\n",
      "\n",
      " Analysis started for target:  S10\n",
      "INFO: Initializing learning rate scheduler\n",
      "INFO: Initializing early stopping\n",
      "Epoch:  1 [0%] \tLoss: 1.082691\n",
      "Epoch   246: reducing learning rate of group 0 to 1.0000e-03.\n",
      "Epoch: 1000 [20%] \tLoss: 0.136228\n",
      "Epoch: 2000 [40%] \tLoss: 0.132319\n",
      "Epoch  2109: reducing learning rate of group 0 to 1.0000e-04.\n",
      "Epoch  2123: reducing learning rate of group 0 to 1.0000e-05.\n",
      "Epoch  2134: reducing learning rate of group 0 to 1.0000e-06.\n",
      "INFO: Early stopping\n",
      "Potential causes:  [6, 0]\n",
      "Validated causes:  []\n",
      "\n",
      " Analysis started for target:  S11\n",
      "INFO: Initializing learning rate scheduler\n",
      "INFO: Initializing early stopping\n",
      "Epoch:  1 [0%] \tLoss: 0.677595\n",
      "Epoch   243: reducing learning rate of group 0 to 1.0000e-03.\n",
      "Epoch: 1000 [20%] \tLoss: 0.087541\n",
      "Epoch: 2000 [40%] \tLoss: 0.083078\n",
      "Epoch  2114: reducing learning rate of group 0 to 1.0000e-04.\n",
      "Epoch  2129: reducing learning rate of group 0 to 1.0000e-05.\n",
      "Epoch  2140: reducing learning rate of group 0 to 1.0000e-06.\n",
      "INFO: Early stopping\n",
      "Potential causes:  [6, 18, 0, 10, 22]\n",
      "Validated causes:  []\n",
      "\n",
      " Analysis started for target:  S12\n",
      "INFO: Initializing learning rate scheduler\n",
      "INFO: Initializing early stopping\n",
      "Epoch:  1 [0%] \tLoss: 0.544162\n",
      "Epoch   213: reducing learning rate of group 0 to 1.0000e-03.\n",
      "Epoch: 1000 [20%] \tLoss: 0.092184\n",
      "Epoch  1757: reducing learning rate of group 0 to 1.0000e-04.\n",
      "Epoch  1771: reducing learning rate of group 0 to 1.0000e-05.\n",
      "Epoch  1782: reducing learning rate of group 0 to 1.0000e-06.\n",
      "Epoch: 2000 [40%] \tLoss: 0.089328\n",
      "INFO: Early stopping\n",
      "Potential causes:  [6, 18]\n",
      "Validated causes:  []\n",
      "\n",
      " Analysis started for target:  S13\n",
      "INFO: Initializing learning rate scheduler\n",
      "INFO: Initializing early stopping\n",
      "Epoch:  1 [0%] \tLoss: 0.670654\n",
      "Epoch   327: reducing learning rate of group 0 to 1.0000e-03.\n",
      "Epoch: 1000 [20%] \tLoss: 0.156264\n",
      "Epoch: 2000 [40%] \tLoss: 0.148503\n",
      "Epoch  2262: reducing learning rate of group 0 to 1.0000e-04.\n",
      "Epoch  2276: reducing learning rate of group 0 to 1.0000e-05.\n",
      "Epoch  2287: reducing learning rate of group 0 to 1.0000e-06.\n",
      "INFO: Early stopping\n",
      "Potential causes:  [2, 22, 8, 20]\n",
      "Validated causes:  [2]\n",
      "\n",
      " Analysis started for target:  S14\n",
      "INFO: Initializing learning rate scheduler\n",
      "INFO: Initializing early stopping\n",
      "Epoch:  1 [0%] \tLoss: 0.780782\n",
      "Epoch   267: reducing learning rate of group 0 to 1.0000e-03.\n",
      "Epoch: 1000 [20%] \tLoss: 0.172316\n",
      "Epoch  1620: reducing learning rate of group 0 to 1.0000e-04.\n",
      "Epoch  1645: reducing learning rate of group 0 to 1.0000e-05.\n",
      "Epoch  1656: reducing learning rate of group 0 to 1.0000e-06.\n"
     ]
    },
    {
     "name": "stdout",
     "output_type": "stream",
     "text": [
      "Epoch: 2000 [40%] \tLoss: 0.163943\n",
      "INFO: Early stopping\n",
      "Potential causes:  [2, 5, 16]\n",
      "Validated causes:  [5, 16]\n",
      "\n",
      " Analysis started for target:  S15\n",
      "INFO: Initializing learning rate scheduler\n",
      "INFO: Initializing early stopping\n",
      "Epoch:  1 [0%] \tLoss: 1.100129\n",
      "Epoch   285: reducing learning rate of group 0 to 1.0000e-03.\n",
      "Epoch: 1000 [20%] \tLoss: 0.138279\n",
      "Epoch  1595: reducing learning rate of group 0 to 1.0000e-04.\n",
      "Epoch  1615: reducing learning rate of group 0 to 1.0000e-05.\n",
      "Epoch  1626: reducing learning rate of group 0 to 1.0000e-06.\n",
      "Epoch: 2000 [40%] \tLoss: 0.131944\n",
      "INFO: Early stopping\n",
      "Potential causes:  [21, 16, 5, 10, 18, 1, 20, 14, 22, 0]\n",
      "Validated causes:  [16, 5]\n",
      "\n",
      " Analysis started for target:  S16\n",
      "INFO: Initializing learning rate scheduler\n",
      "INFO: Initializing early stopping\n",
      "Epoch:  1 [0%] \tLoss: 0.733847\n",
      "Epoch   245: reducing learning rate of group 0 to 1.0000e-03.\n",
      "Epoch: 1000 [20%] \tLoss: 0.115229\n",
      "Epoch: 2000 [40%] \tLoss: 0.112587\n",
      "Epoch  2418: reducing learning rate of group 0 to 1.0000e-04.\n",
      "Epoch  2438: reducing learning rate of group 0 to 1.0000e-05.\n",
      "Epoch  2449: reducing learning rate of group 0 to 1.0000e-06.\n",
      "INFO: Early stopping\n",
      "Potential causes:  [21, 6]\n",
      "Validated causes:  []\n",
      "\n",
      " Analysis started for target:  S17\n",
      "INFO: Initializing learning rate scheduler\n",
      "INFO: Initializing early stopping\n",
      "Epoch:  1 [0%] \tLoss: 0.936712\n",
      "Epoch   346: reducing learning rate of group 0 to 1.0000e-03.\n",
      "Epoch: 1000 [20%] \tLoss: 0.151982\n",
      "Epoch: 2000 [40%] \tLoss: 0.140293\n",
      "Epoch  2089: reducing learning rate of group 0 to 1.0000e-04.\n",
      "Epoch  2103: reducing learning rate of group 0 to 1.0000e-05.\n",
      "Epoch  2114: reducing learning rate of group 0 to 1.0000e-06.\n",
      "INFO: Early stopping\n",
      "Potential causes:  [0, 2]\n",
      "Validated causes:  [0, 2]\n",
      "\n",
      " Analysis started for target:  S18\n",
      "INFO: Initializing learning rate scheduler\n",
      "INFO: Initializing early stopping\n",
      "Epoch:  1 [0%] \tLoss: 0.726133\n",
      "Epoch   400: reducing learning rate of group 0 to 1.0000e-03.\n",
      "Epoch: 1000 [20%] \tLoss: 0.121824\n",
      "Epoch: 2000 [40%] \tLoss: 0.118525\n",
      "Epoch  2289: reducing learning rate of group 0 to 1.0000e-04.\n",
      "Epoch  2314: reducing learning rate of group 0 to 1.0000e-05.\n",
      "Epoch  2325: reducing learning rate of group 0 to 1.0000e-06.\n",
      "INFO: Early stopping\n",
      "Potential causes:  [2, 7]\n",
      "Validated causes:  [7]\n",
      "\n",
      " Analysis started for target:  S19\n",
      "INFO: Initializing learning rate scheduler\n",
      "INFO: Initializing early stopping\n",
      "Epoch:  1 [0%] \tLoss: 0.983127\n",
      "Epoch   341: reducing learning rate of group 0 to 1.0000e-03.\n",
      "Epoch: 1000 [20%] \tLoss: 0.220152\n",
      "Epoch: 2000 [40%] \tLoss: 0.215806\n",
      "Epoch  2120: reducing learning rate of group 0 to 1.0000e-04.\n",
      "Epoch  2134: reducing learning rate of group 0 to 1.0000e-05.\n",
      "Epoch  2145: reducing learning rate of group 0 to 1.0000e-06.\n",
      "INFO: Early stopping\n",
      "Potential causes:  [10, 18]\n",
      "Validated causes:  [10]\n",
      "\n",
      " Analysis started for target:  S20\n",
      "INFO: Initializing learning rate scheduler\n",
      "INFO: Initializing early stopping\n",
      "Epoch:  1 [0%] \tLoss: 1.451898\n",
      "Epoch   352: reducing learning rate of group 0 to 1.0000e-03.\n",
      "Epoch: 1000 [20%] \tLoss: 0.172080\n",
      "Epoch  1846: reducing learning rate of group 0 to 1.0000e-04.\n",
      "Epoch  1866: reducing learning rate of group 0 to 1.0000e-05.\n",
      "Epoch  1885: reducing learning rate of group 0 to 1.0000e-06.\n",
      "Epoch: 2000 [40%] \tLoss: 0.145809\n",
      "INFO: Early stopping\n",
      "Potential causes:  [0, 14, 17, 18, 4, 22, 1, 2, 10]\n",
      "Validated causes:  [14, 1]\n",
      "\n",
      " Analysis started for target:  S21\n",
      "INFO: Initializing learning rate scheduler\n",
      "INFO: Initializing early stopping\n",
      "Epoch:  1 [0%] \tLoss: 0.984919\n",
      "Epoch   288: reducing learning rate of group 0 to 1.0000e-03.\n",
      "Epoch: 1000 [20%] \tLoss: 0.122939\n",
      "Epoch  1659: reducing learning rate of group 0 to 1.0000e-04.\n",
      "Epoch  1684: reducing learning rate of group 0 to 1.0000e-05.\n",
      "Epoch  1695: reducing learning rate of group 0 to 1.0000e-06.\n",
      "Epoch: 2000 [40%] \tLoss: 0.118111\n",
      "INFO: Early stopping\n",
      "Potential causes:  [22, 18, 2, 14]\n",
      "Validated causes:  []\n",
      "\n",
      " Analysis started for target:  S22\n",
      "INFO: Initializing learning rate scheduler\n",
      "INFO: Initializing early stopping\n",
      "Epoch:  1 [0%] \tLoss: 1.027673\n",
      "Epoch   260: reducing learning rate of group 0 to 1.0000e-03.\n",
      "Epoch: 1000 [20%] \tLoss: 0.195895\n",
      "Epoch  1917: reducing learning rate of group 0 to 1.0000e-04.\n",
      "Epoch  1931: reducing learning rate of group 0 to 1.0000e-05.\n",
      "Epoch  1942: reducing learning rate of group 0 to 1.0000e-06.\n",
      "Epoch: 2000 [40%] \tLoss: 0.189795\n",
      "INFO: Early stopping\n",
      "Potential causes:  [21, 14, 22, 18]\n",
      "Validated causes:  [21, 22]\n",
      "\n",
      " Analysis started for target:  S23\n",
      "INFO: Initializing learning rate scheduler\n",
      "INFO: Initializing early stopping\n",
      "Epoch:  1 [0%] \tLoss: 0.920316\n",
      "Epoch   267: reducing learning rate of group 0 to 1.0000e-03.\n",
      "Epoch: 1000 [20%] \tLoss: 0.156122\n",
      "Epoch  1911: reducing learning rate of group 0 to 1.0000e-04.\n",
      "Epoch  1926: reducing learning rate of group 0 to 1.0000e-05.\n",
      "Epoch  1937: reducing learning rate of group 0 to 1.0000e-06.\n",
      "Epoch: 2000 [40%] \tLoss: 0.149324\n",
      "INFO: Early stopping\n",
      "Potential causes:  [2, 17, 18, 0, 22, 21]\n",
      "Validated causes:  [2]\n",
      "\n",
      " Analysis started for target:  S24\n",
      "INFO: Initializing learning rate scheduler\n",
      "INFO: Initializing early stopping\n",
      "Epoch:  1 [0%] \tLoss: 1.059441\n",
      "Epoch   292: reducing learning rate of group 0 to 1.0000e-03.\n",
      "Epoch: 1000 [20%] \tLoss: 0.266477\n",
      "Epoch  1996: reducing learning rate of group 0 to 1.0000e-04.\n",
      "Epoch: 2000 [40%] \tLoss: 0.257066\n",
      "Epoch  2010: reducing learning rate of group 0 to 1.0000e-05.\n",
      "Epoch  2021: reducing learning rate of group 0 to 1.0000e-06.\n",
      "INFO: Early stopping\n",
      "Potential causes:  [21, 18]\n",
      "Validated causes:  []\n",
      "\n",
      "===================Results for random-rels_20_1A_returns30007000_header.csv ==================================\n",
      "S11 causes S1 with a delay of 1 time steps.\n",
      "S2 causes S2 with a delay of 1 time steps.\n",
      "S7 causes S2 with a delay of 1 time steps.\n",
      "S18 causes S3 with a delay of 1 time steps.\n",
      "S9 causes S4 with a delay of 1 time steps.\n",
      "S16 causes S5 with a delay of 1 time steps.\n",
      "S16 causes S8 with a delay of 1 time steps.\n",
      "S19 causes S9 with a delay of 1 time steps.\n",
      "S10 causes S9 with a delay of 2 time steps.\n",
      "S2 causes S13 with a delay of 2 time steps.\n",
      "S5 causes S14 with a delay of 1 time steps.\n",
      "S16 causes S14 with a delay of 2 time steps.\n",
      "S16 causes S15 with a delay of 2 time steps.\n",
      "S5 causes S15 with a delay of 1 time steps.\n",
      "S0 causes S17 with a delay of 1 time steps.\n",
      "S2 causes S17 with a delay of 1 time steps.\n",
      "S7 causes S18 with a delay of 1 time steps.\n",
      "S10 causes S19 with a delay of 1 time steps.\n",
      "S14 causes S20 with a delay of 1 time steps.\n",
      "S1 causes S20 with a delay of 1 time steps.\n",
      "S21 causes S22 with a delay of 0 time steps.\n",
      "S22 causes S22 with a delay of 1 time steps.\n",
      "S2 causes S23 with a delay of 1 time steps.\n",
      "\n",
      "===================Evaluation for random-rels_20_1A_returns30007000_header.csv ===============================\n",
      "Total False Positives':  2\n",
      "Total True Positives':  21\n",
      "Total False Negatives:  3\n",
      "Total Direct False Positives:  6\n",
      "Total Direct True Positives:  17\n",
      "TPs':  [(1, 11), (2, 2), (2, 7), (3, 18), (4, 9), (5, 16), (8, 16), (9, 19), (9, 10), (13, 2), (14, 5), (14, 16), (15, 16), (15, 5), (17, 0), (18, 7), (19, 10), (20, 14), (20, 1), (22, 22), (23, 2)]\n",
      "FPs':  [(17, 2), (22, 21)]\n",
      "TPs direct:  [(1, 11), (2, 2), (2, 7), (3, 18), (4, 9), (5, 16), (8, 16), (9, 19), (14, 5), (15, 5), (17, 0), (18, 7), (19, 10), (20, 14), (20, 1), (22, 22), (23, 2)]\n",
      "FPs direct:  [(9, 10), (13, 2), (14, 16), (15, 16), (17, 2), (22, 21)]\n",
      "FNs:  [(1, 7), (13, 23), (17, 1)]\n",
      "Precision':  0.9130434782608695\n",
      "Recall':  0.875\n",
      "F1' score:  0.8936170212765957 (includes direct and indirect causal relationships)\n",
      "Precision:  0.7391304347826086\n",
      "Recall:  0.85\n",
      "F1 score:  0.7906976744186046 (includes only direct causal relationships)\n",
      "Percentage of delays that are correctly discovered:  100.0 %\n",
      "==================================================================================\n"
     ]
    }
   ],
   "source": [
    "%matplotlib inline\n",
    "\n",
    "# Run TCDF with a provided dataset of Finance (see https://github.com/M-Nauta/TCDF)\n",
    "\n",
    "%run -i \"runTCDF.py\"  --ground_truth data/random-rels_20_1A_returns30007000_header.csv=data/random-rels_20_1A.csv --learning_rate 0.01 --hidden_layers 1 --epochs 5000 --log_interval 1000 --significance 0.8 --dilation_coefficient 4 --kernel_size 4 --seed 13076"
   ]
  },
  {
   "cell_type": "code",
   "execution_count": null,
   "metadata": {
    "scrolled": true
   },
   "outputs": [
    {
     "name": "stdout",
     "output_type": "stream",
     "text": [
      "Arguments: Namespace(cuda=False, data=['data/random-rels_20_1A_returns30007000_header.csv'], dilation_coefficient=4, early_stopping=True, epochs=2000, hidden_layers=1, kernel_size=4, learning_rate=0.01, log_interval=1000, lr_scheduler=True, optimizer='Adam', plot=True, seed=13076, train_test_split=0.8)\n",
      "\n",
      " Analysis started for target:  S0\n",
      "INFO: Initializing learning rate scheduler\n",
      "INFO: Initializing early stopping\n",
      "Epoch:  1 [0%] \tLoss: 1.067259\n",
      "Epoch   358: reducing learning rate of group 0 to 1.0000e-03.\n",
      "Epoch   378: reducing learning rate of group 0 to 1.0000e-04.\n",
      "Epoch   401: reducing learning rate of group 0 to 1.0000e-05.\n",
      "Epoch   412: reducing learning rate of group 0 to 1.0000e-06.\n",
      "INFO: Early stopping\n",
      "\n",
      " Analysis started for target:  S1\n",
      "INFO: Initializing learning rate scheduler\n",
      "INFO: Initializing early stopping\n",
      "Epoch:  1 [0%] \tLoss: 0.924162\n",
      "Epoch   238: reducing learning rate of group 0 to 1.0000e-03.\n",
      "Epoch: 1000 [50%] \tLoss: 0.154090\n",
      "Epoch: 2000 [100%] \tLoss: 0.137314\n",
      "\n",
      " Analysis started for target:  S2\n",
      "INFO: Initializing learning rate scheduler\n",
      "INFO: Initializing early stopping\n",
      "Epoch:  1 [0%] \tLoss: 0.764270\n",
      "Epoch   340: reducing learning rate of group 0 to 1.0000e-03.\n",
      "Epoch: 1000 [50%] \tLoss: 0.128012\n",
      "Epoch  1767: reducing learning rate of group 0 to 1.0000e-04.\n",
      "Epoch  1782: reducing learning rate of group 0 to 1.0000e-05.\n",
      "Epoch  1804: reducing learning rate of group 0 to 1.0000e-06.\n",
      "Epoch: 2000 [100%] \tLoss: 0.117676\n",
      "\n",
      " Analysis started for target:  S3\n",
      "INFO: Initializing learning rate scheduler\n",
      "INFO: Initializing early stopping\n",
      "Epoch:  1 [0%] \tLoss: 0.558067\n",
      "Epoch   302: reducing learning rate of group 0 to 1.0000e-03.\n",
      "Epoch: 1000 [50%] \tLoss: 0.111570\n",
      "Epoch: 2000 [100%] \tLoss: 0.106581\n",
      "\n",
      " Analysis started for target:  S4\n",
      "INFO: Initializing learning rate scheduler\n",
      "INFO: Initializing early stopping\n",
      "Epoch:  1 [0%] \tLoss: 0.579859\n",
      "Epoch   506: reducing learning rate of group 0 to 1.0000e-03.\n",
      "Epoch: 1000 [50%] \tLoss: 0.102436\n",
      "Epoch: 2000 [100%] \tLoss: 0.096461\n",
      "\n",
      " Analysis started for target:  S5\n",
      "INFO: Initializing learning rate scheduler\n",
      "INFO: Initializing early stopping\n",
      "Epoch:  1 [0%] \tLoss: 1.300941\n"
     ]
    }
   ],
   "source": [
    "# Run TCDF for predictive accuracy\n",
    "\n",
    "%run -i \"evaluate_predictions_TCDF.py\" --data data/random-rels_20_1A_returns30007000_header.csv --learning_rate 0.01 --hidden_layers 1 --epochs 2000 --log_interval 1000 --dilation_coefficient 4 --kernel_size 4 --seed 13076 --plot --train_test_split 0.8"
   ]
  },
  {
   "cell_type": "code",
   "execution_count": null,
   "metadata": {
    "scrolled": true
   },
   "outputs": [],
   "source": [
    "%matplotlib inline\n",
    "\n",
    "# Run TCDF with a provided dataset of Finance (see https://github.com/M-Nauta/TCDF)\n",
    "\n",
    "%run -i \"runTCDF.py\"  --ground_truth data/random-rels_20_1A_returns30007000_header.csv=data/random-rels_20_1A.csv --learning_rate 0.01 --hidden_layers 1 --epochs 5000 --log_interval 1000 --significance 0.8 --dilation_coefficient 4 --kernel_size 4 --seed 12356"
   ]
  },
  {
   "cell_type": "code",
   "execution_count": null,
   "metadata": {
    "scrolled": true
   },
   "outputs": [],
   "source": [
    "# Run TCDF for predictive accuracy\n",
    "\n",
    "%run -i \"evaluate_predictions_TCDF.py\" --data data/random-rels_20_1A_returns30007000_header.csv --learning_rate 0.01 --hidden_layers 1 --epochs 2000 --log_interval 1000 --dilation_coefficient 4 --kernel_size 4 --seed 12356 --plot --train_test_split 0.8"
   ]
  },
  {
   "cell_type": "code",
   "execution_count": null,
   "metadata": {
    "scrolled": true
   },
   "outputs": [],
   "source": [
    "%matplotlib inline\n",
    "\n",
    "# Run TCDF with a provided dataset of Finance (see https://github.com/M-Nauta/TCDF)\n",
    "\n",
    "%run -i \"runTCDF.py\"  --ground_truth data/random-rels_20_1A_returns30007000_header.csv=data/random-rels_20_1A.csv --learning_rate 0.01 --hidden_layers 1 --epochs 5000 --log_interval 1000 --significance 0.8 --dilation_coefficient 4 --kernel_size 4 --seed 53444"
   ]
  },
  {
   "cell_type": "code",
   "execution_count": null,
   "metadata": {
    "scrolled": true
   },
   "outputs": [],
   "source": [
    "# Run TCDF for predictive accuracy\n",
    "\n",
    "%run -i \"evaluate_predictions_TCDF.py\" --data data/random-rels_20_1A_returns30007000_header.csv --learning_rate 0.01 --hidden_layers 1 --epochs 2000 --log_interval 1000 --dilation_coefficient 4 --kernel_size 4 --seed 53444 --plot --train_test_split 0.8"
   ]
  },
  {
   "cell_type": "markdown",
   "metadata": {},
   "source": [
    "#### TCDF Dataset random-rels_20_1A.csv: second run (in triplicate, 0 hidden layers) "
   ]
  },
  {
   "cell_type": "code",
   "execution_count": null,
   "metadata": {
    "scrolled": true
   },
   "outputs": [],
   "source": [
    "%matplotlib inline\n",
    "\n",
    "# Run TCDF with a provided dataset of Finance (see https://github.com/M-Nauta/TCDF)\n",
    "\n",
    "%run -i \"runTCDF.py\"  --ground_truth data/random-rels_20_1A_returns30007000_header.csv=data/random-rels_20_1A.csv --learning_rate 0.01 --hidden_layers 0 --epochs 5000 --log_interval 1000 --significance 0.8 --dilation_coefficient 4 --kernel_size 4 --seed 68519"
   ]
  },
  {
   "cell_type": "code",
   "execution_count": null,
   "metadata": {
    "scrolled": true
   },
   "outputs": [],
   "source": [
    "# Run TCDF for predictive accuracy\n",
    "\n",
    "%run -i \"evaluate_predictions_TCDF.py\" --data data/random-rels_20_1A_returns30007000_header.csv --learning_rate 0.01 --hidden_layers 0 --epochs 2000 --log_interval 1000 --dilation_coefficient 4 --kernel_size 4 --seed 68519 --plot --train_test_split 0.8"
   ]
  },
  {
   "cell_type": "code",
   "execution_count": null,
   "metadata": {
    "scrolled": true
   },
   "outputs": [],
   "source": [
    "%matplotlib inline\n",
    "\n",
    "# Run TCDF with a provided dataset of Finance (see https://github.com/M-Nauta/TCDF)\n",
    "\n",
    "%run -i \"runTCDF.py\"  --ground_truth data/random-rels_20_1A_returns30007000_header.csv=data/random-rels_20_1A.csv --learning_rate 0.01 --hidden_layers 0 --epochs 5000 --log_interval 1000 --significance 0.8 --dilation_coefficient 4 --kernel_size 4 --seed 62626"
   ]
  },
  {
   "cell_type": "code",
   "execution_count": null,
   "metadata": {
    "scrolled": true
   },
   "outputs": [],
   "source": [
    "# Run TCDF for predictive accuracy\n",
    "\n",
    "%run -i \"evaluate_predictions_TCDF.py\" --data data/random-rels_20_1A_returns30007000_header.csv --learning_rate 0.01 --hidden_layers 0 --epochs 2000 --log_interval 1000 --dilation_coefficient 4 --kernel_size 4 --seed 62626 --plot --train_test_split 0.8"
   ]
  },
  {
   "cell_type": "code",
   "execution_count": null,
   "metadata": {
    "scrolled": true
   },
   "outputs": [],
   "source": [
    "%matplotlib inline\n",
    "\n",
    "# Run TCDF with a provided dataset of Finance (see https://github.com/M-Nauta/TCDF)\n",
    "\n",
    "%run -i \"runTCDF.py\"  --ground_truth data/random-rels_20_1A_returns30007000_header.csv=data/random-rels_20_1A.csv --learning_rate 0.01 --hidden_layers 0 --epochs 5000 --log_interval 1000 --significance 0.8 --dilation_coefficient 4 --kernel_size 4 --seed 65119"
   ]
  },
  {
   "cell_type": "code",
   "execution_count": null,
   "metadata": {
    "scrolled": true
   },
   "outputs": [],
   "source": [
    "# Run TCDF for predictive accuracy\n",
    "\n",
    "%run -i \"evaluate_predictions_TCDF.py\" --data data/random-rels_20_1A_returns30007000_header.csv --learning_rate 0.01 --hidden_layers 0 --epochs 2000 --log_interval 1000 --dilation_coefficient 4 --kernel_size 4 --seed 65119 --plot --train_test_split 0.8"
   ]
  },
  {
   "cell_type": "markdown",
   "metadata": {},
   "source": [
    "#### TCDF Dataset random-rels_20_1B.csv: first run (in triplicate, 1 hidden layer) "
   ]
  },
  {
   "cell_type": "code",
   "execution_count": null,
   "metadata": {
    "scrolled": true
   },
   "outputs": [],
   "source": [
    "%matplotlib inline\n",
    "\n",
    "# Run TCDF with a provided dataset of Finance (see https://github.com/M-Nauta/TCDF)\n",
    "\n",
    "%run -i \"runTCDF.py\"  --ground_truth data/random-rels_20_1B_returns30007000_header.csv=data/random-rels_20_1B.csv --learning_rate 0.01 --hidden_layers 1 --epochs 5000 --log_interval 1000 --significance 0.8 --dilation_coefficient 4 --kernel_size 4 --seed 31815"
   ]
  },
  {
   "cell_type": "code",
   "execution_count": null,
   "metadata": {
    "scrolled": true
   },
   "outputs": [],
   "source": [
    "# Run TCDF for predictive accuracy\n",
    "\n",
    "%run -i \"evaluate_predictions_TCDF.py\" --data data/random-rels_20_1B_returns30007000_header.csv --learning_rate 0.01 --hidden_layers 1 --epochs 2000 --log_interval 1000 --dilation_coefficient 4 --kernel_size 4 --seed 31815 --plot --train_test_split 0.8"
   ]
  },
  {
   "cell_type": "code",
   "execution_count": null,
   "metadata": {
    "scrolled": true
   },
   "outputs": [],
   "source": [
    "%matplotlib inline\n",
    "\n",
    "# Run TCDF with a provided dataset of Finance (see https://github.com/M-Nauta/TCDF)\n",
    "\n",
    "%run -i \"runTCDF.py\"  --ground_truth data/random-rels_20_1B_returns30007000_header.csv=data/random-rels_20_1B.csv --learning_rate 0.01 --hidden_layers 1 --epochs 5000 --log_interval 1000 --significance 0.8 --dilation_coefficient 4 --kernel_size 4 --seed 74632"
   ]
  },
  {
   "cell_type": "code",
   "execution_count": null,
   "metadata": {
    "scrolled": true
   },
   "outputs": [],
   "source": [
    "# Run TCDF for predictive accuracy\n",
    "\n",
    "%run -i \"evaluate_predictions_TCDF.py\" --data data/random-rels_20_1B_returns30007000_header.csv --learning_rate 0.01 --hidden_layers 1 --epochs 2000 --log_interval 1000 --dilation_coefficient 4 --kernel_size 4 --seed 74632 --plot --train_test_split 0.8"
   ]
  },
  {
   "cell_type": "code",
   "execution_count": null,
   "metadata": {
    "scrolled": true
   },
   "outputs": [],
   "source": [
    "%matplotlib inline\n",
    "\n",
    "# Run TCDF with a provided dataset of Finance (see https://github.com/M-Nauta/TCDF)\n",
    "\n",
    "%run -i \"runTCDF.py\"  --ground_truth data/random-rels_20_1B_returns30007000_header.csv=data/random-rels_20_1B.csv --learning_rate 0.01 --hidden_layers 1 --epochs 5000 --log_interval 1000 --significance 0.8 --dilation_coefficient 4 --kernel_size 4 --seed 99775"
   ]
  },
  {
   "cell_type": "code",
   "execution_count": null,
   "metadata": {
    "scrolled": true
   },
   "outputs": [],
   "source": [
    "# Run TCDF for predictive accuracy\n",
    "\n",
    "%run -i \"evaluate_predictions_TCDF.py\" --data data/random-rels_20_1B_returns30007000_header.csv --learning_rate 0.01 --hidden_layers 1 --epochs 2000 --log_interval 1000 --dilation_coefficient 4 --kernel_size 4 --seed 99775 --plot --train_test_split 0.8"
   ]
  },
  {
   "cell_type": "markdown",
   "metadata": {},
   "source": [
    "#### TCDF Dataset random-rels_20_1B.csv: second run (in triplicate, 0 hidden layers) "
   ]
  },
  {
   "cell_type": "code",
   "execution_count": null,
   "metadata": {
    "scrolled": true
   },
   "outputs": [],
   "source": [
    "%matplotlib inline\n",
    "\n",
    "# Run TCDF with a provided dataset of Finance (see https://github.com/M-Nauta/TCDF)\n",
    "\n",
    "%run -i \"runTCDF.py\"  --ground_truth data/random-rels_20_1B_returns30007000_header.csv=data/random-rels_20_1B.csv --learning_rate 0.01 --hidden_layers 0 --epochs 5000 --log_interval 1000 --significance 0.8 --dilation_coefficient 4 --kernel_size 4 --seed 14367"
   ]
  },
  {
   "cell_type": "code",
   "execution_count": null,
   "metadata": {
    "scrolled": true
   },
   "outputs": [],
   "source": [
    "# Run TCDF for predictive accuracy\n",
    "\n",
    "%run -i \"evaluate_predictions_TCDF.py\" --data data/random-rels_20_1B_returns30007000_header.csv --learning_rate 0.01 --hidden_layers 0 --epochs 2000 --log_interval 1000 --dilation_coefficient 4 --kernel_size 4 --seed 14367 --plot --train_test_split 0.8"
   ]
  },
  {
   "cell_type": "code",
   "execution_count": null,
   "metadata": {
    "scrolled": true
   },
   "outputs": [],
   "source": [
    "%matplotlib inline\n",
    "\n",
    "# Run TCDF with a provided dataset of Finance (see https://github.com/M-Nauta/TCDF)\n",
    "\n",
    "%run -i \"runTCDF.py\"  --ground_truth data/random-rels_20_1B_returns30007000_header.csv=data/random-rels_20_1B.csv --learning_rate 0.01 --hidden_layers 0 --epochs 5000 --log_interval 1000 --significance 0.8 --dilation_coefficient 4 --kernel_size 4 --seed 555"
   ]
  },
  {
   "cell_type": "code",
   "execution_count": null,
   "metadata": {
    "scrolled": true
   },
   "outputs": [],
   "source": [
    "# Run TCDF for predictive accuracy\n",
    "\n",
    "%run -i \"evaluate_predictions_TCDF.py\" --data data/random-rels_20_1B_returns30007000_header.csv --learning_rate 0.01 --hidden_layers 0 --epochs 2000 --log_interval 1000 --dilation_coefficient 4 --kernel_size 4 --seed 555 --plot --train_test_split 0.8"
   ]
  },
  {
   "cell_type": "code",
   "execution_count": null,
   "metadata": {
    "scrolled": true
   },
   "outputs": [],
   "source": [
    "%matplotlib inline\n",
    "\n",
    "# Run TCDF with a provided dataset of Finance (see https://github.com/M-Nauta/TCDF)\n",
    "\n",
    "%run -i \"runTCDF.py\"  --ground_truth data/random-rels_20_1B_returns30007000_header.csv=data/random-rels_20_1B.csv --learning_rate 0.01 --hidden_layers 0 --epochs 5000 --log_interval 1000 --significance 0.8 --dilation_coefficient 4 --kernel_size 4 --seed 71390"
   ]
  },
  {
   "cell_type": "code",
   "execution_count": null,
   "metadata": {
    "scrolled": true
   },
   "outputs": [],
   "source": [
    "# Run TCDF for predictive accuracy\n",
    "\n",
    "%run -i \"evaluate_predictions_TCDF.py\" --data data/random-rels_20_1B_returns30007000_header.csv --learning_rate 0.01 --hidden_layers 0 --epochs 2000 --log_interval 1000 --dilation_coefficient 4 --kernel_size 4 --seed 71390 --plot --train_test_split 0.8"
   ]
  },
  {
   "cell_type": "markdown",
   "metadata": {},
   "source": [
    "#### TCDF Dataset random-rels_20_1C.csv: first run (in triplicate, 1 hidden layer) "
   ]
  },
  {
   "cell_type": "code",
   "execution_count": null,
   "metadata": {
    "scrolled": true
   },
   "outputs": [],
   "source": [
    "%matplotlib inline\n",
    "\n",
    "# Run TCDF with a provided dataset of Finance (see https://github.com/M-Nauta/TCDF)\n",
    "\n",
    "%run -i \"runTCDF.py\"  --ground_truth data/random-rels_20_1C_returns30007000_header.csv=data/random-rels_20_1C.csv --learning_rate 0.01 --hidden_layers 1 --epochs 5000 --log_interval 1000 --significance 0.8 --dilation_coefficient 4 --kernel_size 4 --seed 31815"
   ]
  },
  {
   "cell_type": "code",
   "execution_count": null,
   "metadata": {
    "scrolled": true
   },
   "outputs": [],
   "source": [
    "# Run TCDF for predictive accuracy\n",
    "\n",
    "%run -i \"evaluate_predictions_TCDF.py\" --data data/random-rels_20_1C_returns30007000_header.csv --learning_rate 0.01 --hidden_layers 1 --epochs 2000 --log_interval 1000 --dilation_coefficient 4 --kernel_size 4 --seed 31815 --plot --train_test_split 0.8"
   ]
  },
  {
   "cell_type": "code",
   "execution_count": null,
   "metadata": {
    "scrolled": true
   },
   "outputs": [],
   "source": [
    "%matplotlib inline\n",
    "\n",
    "# Run TCDF with a provided dataset of Finance (see https://github.com/M-Nauta/TCDF)\n",
    "\n",
    "%run -i \"runTCDF.py\"  --ground_truth data/random-rels_20_1C_returns30007000_header.csv=data/random-rels_20_1C.csv --learning_rate 0.01 --hidden_layers 1 --epochs 5000 --log_interval 1000 --significance 0.8 --dilation_coefficient 4 --kernel_size 4 --seed 74632"
   ]
  },
  {
   "cell_type": "code",
   "execution_count": null,
   "metadata": {
    "scrolled": true
   },
   "outputs": [],
   "source": [
    "# Run TCDF for predictive accuracy\n",
    "\n",
    "%run -i \"evaluate_predictions_TCDF.py\" --data data/random-rels_20_1C_returns30007000_header.csv --learning_rate 0.01 --hidden_layers 1 --epochs 2000 --log_interval 1000 --dilation_coefficient 4 --kernel_size 4 --seed 74632 --plot --train_test_split 0.8"
   ]
  },
  {
   "cell_type": "code",
   "execution_count": null,
   "metadata": {
    "scrolled": true
   },
   "outputs": [],
   "source": [
    "%matplotlib inline\n",
    "\n",
    "# Run TCDF with a provided dataset of Finance (see https://github.com/M-Nauta/TCDF)\n",
    "\n",
    "%run -i \"runTCDF.py\"  --ground_truth data/random-rels_20_1C_returns30007000_header.csv=data/random-rels_20_1C.csv --learning_rate 0.01 --hidden_layers 1 --epochs 5000 --log_interval 1000 --significance 0.8 --dilation_coefficient 4 --kernel_size 4 --seed 99775"
   ]
  },
  {
   "cell_type": "code",
   "execution_count": null,
   "metadata": {
    "scrolled": true
   },
   "outputs": [],
   "source": [
    "# Run TCDF for predictive accuracy\n",
    "\n",
    "%run -i \"evaluate_predictions_TCDF.py\" --data data/random-rels_20_1C_returns30007000_header.csv --learning_rate 0.01 --hidden_layers 1 --epochs 2000 --log_interval 1000 --dilation_coefficient 4 --kernel_size 4 --seed 99775 --plot --train_test_split 0.8"
   ]
  },
  {
   "cell_type": "markdown",
   "metadata": {},
   "source": [
    "#### TCDF Dataset random-rels_20_1C.csv: second run (in triplicate, 0 hidden layers) "
   ]
  },
  {
   "cell_type": "code",
   "execution_count": null,
   "metadata": {
    "scrolled": true
   },
   "outputs": [],
   "source": [
    "%matplotlib inline\n",
    "\n",
    "# Run TCDF with a provided dataset of Finance (see https://github.com/M-Nauta/TCDF)\n",
    "\n",
    "%run -i \"runTCDF.py\"  --ground_truth data/random-rels_20_1C_returns30007000_header.csv=data/random-rels_20_1C.csv --learning_rate 0.01 --hidden_layers 0 --epochs 5000 --log_interval 1000 --significance 0.8 --dilation_coefficient 4 --kernel_size 4 --seed 98545"
   ]
  },
  {
   "cell_type": "code",
   "execution_count": null,
   "metadata": {
    "scrolled": true
   },
   "outputs": [],
   "source": [
    "# Run TCDF for predictive accuracy\n",
    "\n",
    "%run -i \"evaluate_predictions_TCDF.py\" --data data/random-rels_20_1C_returns30007000_header.csv --learning_rate 0.01 --hidden_layers 0 --epochs 2000 --log_interval 1000 --dilation_coefficient 4 --kernel_size 4 --seed 98545 --plot --train_test_split 0.8"
   ]
  },
  {
   "cell_type": "code",
   "execution_count": null,
   "metadata": {
    "scrolled": true
   },
   "outputs": [],
   "source": [
    "%matplotlib inline\n",
    "\n",
    "# Run TCDF with a provided dataset of Finance (see https://github.com/M-Nauta/TCDF)\n",
    "\n",
    "%run -i \"runTCDF.py\"  --ground_truth data/random-rels_20_1C_returns30007000_header.csv=data/random-rels_20_1C.csv --learning_rate 0.01 --hidden_layers 0 --epochs 5000 --log_interval 1000 --significance 0.8 --dilation_coefficient 4 --kernel_size 4 --seed 26393"
   ]
  },
  {
   "cell_type": "code",
   "execution_count": null,
   "metadata": {
    "scrolled": true
   },
   "outputs": [],
   "source": [
    "# Run TCDF for predictive accuracy\n",
    "\n",
    "%run -i \"evaluate_predictions_TCDF.py\" --data data/random-rels_20_1C_returns30007000_header.csv --learning_rate 0.01 --hidden_layers 0 --epochs 2000 --log_interval 1000 --dilation_coefficient 4 --kernel_size 4 --seed 26393 --plot --train_test_split 0.8"
   ]
  },
  {
   "cell_type": "code",
   "execution_count": null,
   "metadata": {
    "scrolled": true
   },
   "outputs": [],
   "source": [
    "%matplotlib inline\n",
    "\n",
    "# Run TCDF with a provided dataset of Finance (see https://github.com/M-Nauta/TCDF)\n",
    "\n",
    "%run -i \"runTCDF.py\"  --ground_truth data/random-rels_20_1C_returns30007000_header.csv=data/random-rels_20_1C.csv --learning_rate 0.01 --hidden_layers 0 --epochs 5000 --log_interval 1000 --significance 0.8 --dilation_coefficient 4 --kernel_size 4 --seed 75253"
   ]
  },
  {
   "cell_type": "code",
   "execution_count": null,
   "metadata": {
    "scrolled": true
   },
   "outputs": [],
   "source": [
    "# Run TCDF for predictive accuracy\n",
    "\n",
    "%run -i \"evaluate_predictions_TCDF.py\" --data data/random-rels_20_1C_returns30007000_header.csv --learning_rate 0.01 --hidden_layers 0 --epochs 2000 --log_interval 1000 --dilation_coefficient 4 --kernel_size 4 --seed 75253 --plot --train_test_split 0.8"
   ]
  },
  {
   "cell_type": "markdown",
   "metadata": {},
   "source": [
    "#### TCDF Dataset random-rels_20_1D.csv: first run (in triplicate, 1 hidden layer) "
   ]
  },
  {
   "cell_type": "code",
   "execution_count": null,
   "metadata": {
    "scrolled": true
   },
   "outputs": [],
   "source": [
    "%matplotlib inline\n",
    "\n",
    "# Run TCDF with a provided dataset of Finance (see https://github.com/M-Nauta/TCDF)\n",
    "\n",
    "%run -i \"runTCDF.py\"  --ground_truth data/random-rels_20_1D_returns30007000_header.csv=data/random-rels_20_1D.csv --learning_rate 0.01 --hidden_layers 1 --epochs 5000 --log_interval 1000 --significance 0.8 --dilation_coefficient 4 --kernel_size 4 --seed 33516"
   ]
  },
  {
   "cell_type": "code",
   "execution_count": null,
   "metadata": {
    "scrolled": true
   },
   "outputs": [],
   "source": [
    "# Run TCDF for predictive accuracy\n",
    "\n",
    "%run -i \"evaluate_predictions_TCDF.py\" --data data/random-rels_20_1D_returns30007000_header.csv --learning_rate 0.01 --hidden_layers 1 --epochs 2000 --log_interval 1000 --dilation_coefficient 4 --kernel_size 4 --seed 33516 --plot --train_test_split 0.8"
   ]
  },
  {
   "cell_type": "code",
   "execution_count": null,
   "metadata": {
    "scrolled": true
   },
   "outputs": [],
   "source": [
    "%matplotlib inline\n",
    "\n",
    "# Run TCDF with a provided dataset of Finance (see https://github.com/M-Nauta/TCDF)\n",
    "\n",
    "%run -i \"runTCDF.py\"  --ground_truth data/random-rels_20_1D_returns30007000_header.csv=data/random-rels_20_1D.csv --learning_rate 0.01 --hidden_layers 1 --epochs 5000 --log_interval 1000 --significance 0.8 --dilation_coefficient 4 --kernel_size 4 --seed 10878"
   ]
  },
  {
   "cell_type": "code",
   "execution_count": null,
   "metadata": {
    "scrolled": true
   },
   "outputs": [],
   "source": [
    "# Run TCDF for predictive accuracy\n",
    "\n",
    "%run -i \"evaluate_predictions_TCDF.py\" --data data/random-rels_20_1D_returns30007000_header.csv --learning_rate 0.01 --hidden_layers 1 --epochs 2000 --log_interval 1000 --dilation_coefficient 4 --kernel_size 4 --seed 10878 --plot --train_test_split 0.8"
   ]
  },
  {
   "cell_type": "code",
   "execution_count": null,
   "metadata": {
    "scrolled": true
   },
   "outputs": [],
   "source": [
    "%matplotlib inline\n",
    "\n",
    "# Run TCDF with a provided dataset of Finance (see https://github.com/M-Nauta/TCDF)\n",
    "\n",
    "%run -i \"runTCDF.py\"  --ground_truth data/random-rels_20_1D_returns30007000_header.csv=data/random-rels_20_1D.csv --learning_rate 0.01 --hidden_layers 1 --epochs 5000 --log_interval 1000 --significance 0.8 --dilation_coefficient 4 --kernel_size 4 --seed 87051"
   ]
  },
  {
   "cell_type": "code",
   "execution_count": null,
   "metadata": {
    "scrolled": true
   },
   "outputs": [],
   "source": [
    "# Run TCDF for predictive accuracy\n",
    "\n",
    "%run -i \"evaluate_predictions_TCDF.py\" --data data/random-rels_20_1D_returns30007000_header.csv --learning_rate 0.01 --hidden_layers 1 --epochs 2000 --log_interval 1000 --dilation_coefficient 4 --kernel_size 4 --seed 87051 --plot --train_test_split 0.8"
   ]
  },
  {
   "cell_type": "markdown",
   "metadata": {},
   "source": [
    "#### TCDF Dataset random-rels_20_1D.csv: second run (in triplicate, 0 hidden layers) "
   ]
  },
  {
   "cell_type": "code",
   "execution_count": null,
   "metadata": {
    "scrolled": true
   },
   "outputs": [],
   "source": [
    "%matplotlib inline\n",
    "\n",
    "# Run TCDF with a provided dataset of Finance (see https://github.com/M-Nauta/TCDF)\n",
    "\n",
    "%run -i \"runTCDF.py\"  --ground_truth data/random-rels_20_1D_returns30007000_header.csv=data/random-rels_20_1D.csv --learning_rate 0.01 --hidden_layers 0 --epochs 5000 --log_interval 1000 --significance 0.8 --dilation_coefficient 4 --kernel_size 4 --seed 9084"
   ]
  },
  {
   "cell_type": "code",
   "execution_count": null,
   "metadata": {
    "scrolled": true
   },
   "outputs": [],
   "source": [
    "# Run TCDF for predictive accuracy\n",
    "\n",
    "%run -i \"evaluate_predictions_TCDF.py\" --data data/random-rels_20_1D_returns30007000_header.csv --learning_rate 0.01 --hidden_layers 0 --epochs 2000 --log_interval 1000 --dilation_coefficient 4 --kernel_size 4 --seed 9084 --plot --train_test_split 0.8"
   ]
  },
  {
   "cell_type": "code",
   "execution_count": null,
   "metadata": {
    "scrolled": true
   },
   "outputs": [],
   "source": [
    "%matplotlib inline\n",
    "\n",
    "# Run TCDF with a provided dataset of Finance (see https://github.com/M-Nauta/TCDF)\n",
    "\n",
    "%run -i \"runTCDF.py\"  --ground_truth data/random-rels_20_1D_returns30007000_header.csv=data/random-rels_20_1D.csv --learning_rate 0.01 --hidden_layers 0 --epochs 5000 --log_interval 1000 --significance 0.8 --dilation_coefficient 4 --kernel_size 4 --seed 83667"
   ]
  },
  {
   "cell_type": "code",
   "execution_count": null,
   "metadata": {
    "scrolled": true
   },
   "outputs": [],
   "source": [
    "# Run TCDF for predictive accuracy\n",
    "\n",
    "%run -i \"evaluate_predictions_TCDF.py\" --data data/random-rels_20_1D_returns30007000_header.csv --learning_rate 0.01 --hidden_layers 0 --epochs 2000 --log_interval 1000 --dilation_coefficient 4 --kernel_size 4 --seed 83667 --plot --train_test_split 0.8"
   ]
  },
  {
   "cell_type": "code",
   "execution_count": null,
   "metadata": {
    "scrolled": true
   },
   "outputs": [],
   "source": [
    "%matplotlib inline\n",
    "\n",
    "# Run TCDF with a provided dataset of Finance (see https://github.com/M-Nauta/TCDF)\n",
    "\n",
    "%run -i \"runTCDF.py\"  --ground_truth data/random-rels_20_1D_returns30007000_header.csv=data/random-rels_20_1D.csv --learning_rate 0.01 --hidden_layers 0 --epochs 5000 --log_interval 1000 --significance 0.8 --dilation_coefficient 4 --kernel_size 4 --seed 75145"
   ]
  },
  {
   "cell_type": "code",
   "execution_count": null,
   "metadata": {
    "scrolled": true
   },
   "outputs": [],
   "source": [
    "# Run TCDF for predictive accuracy\n",
    "\n",
    "%run -i \"evaluate_predictions_TCDF.py\" --data data/random-rels_20_1D_returns30007000_header.csv --learning_rate 0.01 --hidden_layers 0 --epochs 2000 --log_interval 1000 --dilation_coefficient 4 --kernel_size 4 --seed 75145 --plot --train_test_split 0.8"
   ]
  },
  {
   "cell_type": "markdown",
   "metadata": {},
   "source": [
    "#### TCDF Dataset random-rels_20_1E.csv: first run (in triplicate, 1 hidden layer) "
   ]
  },
  {
   "cell_type": "code",
   "execution_count": null,
   "metadata": {
    "scrolled": true
   },
   "outputs": [],
   "source": [
    "%matplotlib inline\n",
    "\n",
    "# Run TCDF with a provided dataset of Finance (see https://github.com/M-Nauta/TCDF)\n",
    "\n",
    "%run -i \"runTCDF.py\"  --ground_truth data/random-rels_20_1E_returns30007000_header.csv=data/random-rels_20_1E.csv --learning_rate 0.01 --hidden_layers 1 --epochs 5000 --log_interval 1000 --significance 0.8 --dilation_coefficient 4 --kernel_size 4 --seed 406"
   ]
  },
  {
   "cell_type": "code",
   "execution_count": null,
   "metadata": {
    "scrolled": true
   },
   "outputs": [],
   "source": [
    "# Run TCDF for predictive accuracy\n",
    "\n",
    "%run -i \"evaluate_predictions_TCDF.py\" --data data/random-rels_20_1E_returns30007000_header.csv --learning_rate 0.01 --hidden_layers 1 --epochs 2000 --log_interval 1000 --dilation_coefficient 4 --kernel_size 4 --seed 406 --plot --train_test_split 0.8"
   ]
  },
  {
   "cell_type": "code",
   "execution_count": null,
   "metadata": {
    "scrolled": true
   },
   "outputs": [],
   "source": [
    "%matplotlib inline\n",
    "\n",
    "# Run TCDF with a provided dataset of Finance (see https://github.com/M-Nauta/TCDF)\n",
    "\n",
    "%run -i \"runTCDF.py\"  --ground_truth data/random-rels_20_1E_returns30007000_header.csv=data/random-rels_20_1E.csv --learning_rate 0.01 --hidden_layers 1 --epochs 5000 --log_interval 1000 --significance 0.8 --dilation_coefficient 4 --kernel_size 4 --seed 25495"
   ]
  },
  {
   "cell_type": "code",
   "execution_count": null,
   "metadata": {
    "scrolled": true
   },
   "outputs": [],
   "source": [
    "# Run TCDF for predictive accuracy\n",
    "\n",
    "%run -i \"evaluate_predictions_TCDF.py\" --data data/random-rels_20_1E_returns30007000_header.csv --learning_rate 0.01 --hidden_layers 1 --epochs 2000 --log_interval 1000 --dilation_coefficient 4 --kernel_size 4 --seed 25495 --plot --train_test_split 0.8"
   ]
  },
  {
   "cell_type": "code",
   "execution_count": null,
   "metadata": {
    "scrolled": true
   },
   "outputs": [],
   "source": [
    "%matplotlib inline\n",
    "\n",
    "# Run TCDF with a provided dataset of Finance (see https://github.com/M-Nauta/TCDF)\n",
    "\n",
    "%run -i \"runTCDF.py\"  --ground_truth data/random-rels_20_1E_returns30007000_header.csv=data/random-rels_20_1E.csv --learning_rate 0.01 --hidden_layers 1 --epochs 5000 --log_interval 1000 --significance 0.8 --dilation_coefficient 4 --kernel_size 4 --seed 96564"
   ]
  },
  {
   "cell_type": "code",
   "execution_count": null,
   "metadata": {
    "scrolled": true
   },
   "outputs": [],
   "source": [
    "# Run TCDF for predictive accuracy\n",
    "\n",
    "%run -i \"evaluate_predictions_TCDF.py\" --data data/random-rels_20_1E_returns30007000_header.csv --learning_rate 0.01 --hidden_layers 1 --epochs 2000 --log_interval 1000 --dilation_coefficient 4 --kernel_size 4 --seed 96564 --plot --train_test_split 0.8"
   ]
  },
  {
   "cell_type": "markdown",
   "metadata": {},
   "source": [
    "#### TCDF Dataset random-rels_20_1E.csv: second run (in triplicate, 0 hidden layers) "
   ]
  },
  {
   "cell_type": "code",
   "execution_count": null,
   "metadata": {
    "scrolled": true
   },
   "outputs": [],
   "source": [
    "%matplotlib inline\n",
    "\n",
    "# Run TCDF with a provided dataset of Finance (see https://github.com/M-Nauta/TCDF)\n",
    "\n",
    "%run -i \"runTCDF.py\"  --ground_truth data/random-rels_20_1E_returns30007000_header.csv=data/random-rels_20_1E.csv --learning_rate 0.01 --hidden_layers 0 --epochs 5000 --log_interval 1000 --significance 0.8 --dilation_coefficient 4 --kernel_size 4 --seed 2324"
   ]
  },
  {
   "cell_type": "code",
   "execution_count": null,
   "metadata": {
    "scrolled": true
   },
   "outputs": [],
   "source": [
    "# Run TCDF for predictive accuracy\n",
    "\n",
    "%run -i \"evaluate_predictions_TCDF.py\" --data data/random-rels_20_1E_returns30007000_header.csv --learning_rate 0.01 --hidden_layers 0 --epochs 2000 --log_interval 1000 --dilation_coefficient 4 --kernel_size 4 --seed 2324 --plot --train_test_split 0.8"
   ]
  },
  {
   "cell_type": "code",
   "execution_count": null,
   "metadata": {
    "scrolled": true
   },
   "outputs": [],
   "source": [
    "%matplotlib inline\n",
    "\n",
    "# Run TCDF with a provided dataset of Finance (see https://github.com/M-Nauta/TCDF)\n",
    "\n",
    "%run -i \"runTCDF.py\"  --ground_truth data/random-rels_20_1E_returns30007000_header.csv=data/random-rels_20_1E.csv --learning_rate 0.01 --hidden_layers 0 --epochs 5000 --log_interval 1000 --significance 0.8 --dilation_coefficient 4 --kernel_size 4 --seed 33030"
   ]
  },
  {
   "cell_type": "code",
   "execution_count": null,
   "metadata": {
    "scrolled": true
   },
   "outputs": [],
   "source": [
    "# Run TCDF for predictive accuracy\n",
    "\n",
    "%run -i \"evaluate_predictions_TCDF.py\" --data data/random-rels_20_1E_returns30007000_header.csv --learning_rate 0.01 --hidden_layers 0 --epochs 2000 --log_interval 1000 --dilation_coefficient 4 --kernel_size 4 --seed 33030 --plot --train_test_split 0.8"
   ]
  },
  {
   "cell_type": "code",
   "execution_count": null,
   "metadata": {
    "scrolled": true
   },
   "outputs": [],
   "source": [
    "%matplotlib inline\n",
    "\n",
    "# Run TCDF with a provided dataset of Finance (see https://github.com/M-Nauta/TCDF)\n",
    "\n",
    "%run -i \"runTCDF.py\"  --ground_truth data/random-rels_20_1E_returns30007000_header.csv=data/random-rels_20_1E.csv --learning_rate 0.01 --hidden_layers 0 --epochs 5000 --log_interval 1000 --significance 0.8 --dilation_coefficient 4 --kernel_size 4 --seed 29838"
   ]
  },
  {
   "cell_type": "code",
   "execution_count": null,
   "metadata": {
    "scrolled": true
   },
   "outputs": [],
   "source": [
    "# Run TCDF for predictive accuracy\n",
    "\n",
    "%run -i \"evaluate_predictions_TCDF.py\" --data data/random-rels_20_1E_returns30007000_header.csv --learning_rate 0.01 --hidden_layers 0 --epochs 2000 --log_interval 1000 --dilation_coefficient 4 --kernel_size 4 --seed 29838 --plot --train_test_split 0.8"
   ]
  },
  {
   "cell_type": "markdown",
   "metadata": {},
   "source": [
    "#### TCDF Dataset random-rels_20_1_3.csv: first run (in triplicate, 1 hidden layer) "
   ]
  },
  {
   "cell_type": "code",
   "execution_count": null,
   "metadata": {
    "scrolled": true
   },
   "outputs": [],
   "source": [
    "%matplotlib inline\n",
    "\n",
    "# Run TCDF with a provided dataset of Finance (see https://github.com/M-Nauta/TCDF)\n",
    "\n",
    "%run -i \"runTCDF.py\"  --ground_truth data/random-rels_20_1_3_returns30007000_header.csv=data/random-rels_20_1_3.csv --learning_rate 0.01 --hidden_layers 1 --epochs 5000 --log_interval 1000 --significance 0.8 --dilation_coefficient 4 --kernel_size 4 --seed 5467"
   ]
  },
  {
   "cell_type": "code",
   "execution_count": null,
   "metadata": {
    "scrolled": true
   },
   "outputs": [],
   "source": [
    "# Run TCDF for predictive accuracy\n",
    "\n",
    "%run -i \"evaluate_predictions_TCDF.py\" --data data/random-rels_20_1_3_returns30007000_header.csv --learning_rate 0.01 --hidden_layers 1 --epochs 2000 --log_interval 1000 --dilation_coefficient 4 --kernel_size 4 --seed 5467 --plot --train_test_split 0.8"
   ]
  },
  {
   "cell_type": "code",
   "execution_count": null,
   "metadata": {
    "scrolled": true
   },
   "outputs": [],
   "source": [
    "%matplotlib inline\n",
    "\n",
    "# Run TCDF with a provided dataset of Finance (see https://github.com/M-Nauta/TCDF)\n",
    "\n",
    "%run -i \"runTCDF.py\"  --ground_truth data/random-rels_20_1_3_returns30007000_header.csv=data/random-rels_20_1_3.csv --learning_rate 0.01 --hidden_layers 1 --epochs 5000 --log_interval 1000 --significance 0.8 --dilation_coefficient 4 --kernel_size 4 --seed 88232"
   ]
  },
  {
   "cell_type": "code",
   "execution_count": null,
   "metadata": {
    "scrolled": true
   },
   "outputs": [],
   "source": [
    "# Run TCDF for predictive accuracy\n",
    "\n",
    "%run -i \"evaluate_predictions_TCDF.py\" --data data/random-rels_20_1_3_returns30007000_header.csv --learning_rate 0.01 --hidden_layers 1 --epochs 2000 --log_interval 1000 --dilation_coefficient 4 --kernel_size 4 --seed 88232 --plot --train_test_split 0.8"
   ]
  },
  {
   "cell_type": "code",
   "execution_count": null,
   "metadata": {
    "scrolled": true
   },
   "outputs": [],
   "source": [
    "%matplotlib inline\n",
    "\n",
    "# Run TCDF with a provided dataset of Finance (see https://github.com/M-Nauta/TCDF)\n",
    "\n",
    "%run -i \"runTCDF.py\"  --ground_truth data/random-rels_20_1_3_returns30007000_header.csv=data/random-rels_20_1_3.csv --learning_rate 0.01 --hidden_layers 1 --epochs 5000 --log_interval 1000 --significance 0.8 --dilation_coefficient 4 --kernel_size 4 --seed 77217"
   ]
  },
  {
   "cell_type": "code",
   "execution_count": null,
   "metadata": {
    "scrolled": true
   },
   "outputs": [],
   "source": [
    "# Run TCDF for predictive accuracy\n",
    "\n",
    "%run -i \"evaluate_predictions_TCDF.py\" --data data/random-rels_20_1_3_returns30007000_header.csv --learning_rate 0.01 --hidden_layers 1 --epochs 2000 --log_interval 1000 --dilation_coefficient 4 --kernel_size 4 --seed 77217 --plot --train_test_split 0.8"
   ]
  },
  {
   "cell_type": "markdown",
   "metadata": {},
   "source": [
    "#### TCDF Dataset random-rels_20_1_3.csv: second run (in triplicate, 0 hidden layers) "
   ]
  },
  {
   "cell_type": "code",
   "execution_count": null,
   "metadata": {
    "scrolled": true
   },
   "outputs": [],
   "source": [
    "%matplotlib inline\n",
    "\n",
    "# Run TCDF with a provided dataset of Finance (see https://github.com/M-Nauta/TCDF)\n",
    "\n",
    "%run -i \"runTCDF.py\"  --ground_truth data/random-rels_20_1_3_returns30007000_header.csv=data/random-rels_20_1_3.csv --learning_rate 0.01 --hidden_layers 0 --epochs 5000 --log_interval 1000 --significance 0.8 --dilation_coefficient 4 --kernel_size 4 --seed 88447"
   ]
  },
  {
   "cell_type": "code",
   "execution_count": null,
   "metadata": {
    "scrolled": true
   },
   "outputs": [],
   "source": [
    "# Run TCDF for predictive accuracy\n",
    "\n",
    "%run -i \"evaluate_predictions_TCDF.py\" --data data/random-rels_20_1_3_returns30007000_header.csv --learning_rate 0.01 --hidden_layers 0 --epochs 2000 --log_interval 1000 --dilation_coefficient 4 --kernel_size 4 --seed 88447 --plot --train_test_split 0.8"
   ]
  },
  {
   "cell_type": "code",
   "execution_count": null,
   "metadata": {
    "scrolled": true
   },
   "outputs": [],
   "source": [
    "%matplotlib inline\n",
    "\n",
    "# Run TCDF with a provided dataset of Finance (see https://github.com/M-Nauta/TCDF)\n",
    "\n",
    "%run -i \"runTCDF.py\"  --ground_truth data/random-rels_20_1_3_returns30007000_header.csv=data/random-rels_20_1_3.csv --learning_rate 0.01 --hidden_layers 0 --epochs 5000 --log_interval 1000 --significance 0.8 --dilation_coefficient 4 --kernel_size 4 --seed 4305"
   ]
  },
  {
   "cell_type": "code",
   "execution_count": null,
   "metadata": {
    "scrolled": true
   },
   "outputs": [],
   "source": [
    "# Run TCDF for predictive accuracy\n",
    "\n",
    "%run -i \"evaluate_predictions_TCDF.py\" --data data/random-rels_20_1_3_returns30007000_header.csv --learning_rate 0.01 --hidden_layers 0 --epochs 2000 --log_interval 1000 --dilation_coefficient 4 --kernel_size 4 --seed 4305 --plot --train_test_split 0.8"
   ]
  },
  {
   "cell_type": "code",
   "execution_count": null,
   "metadata": {
    "scrolled": true
   },
   "outputs": [],
   "source": [
    "%matplotlib inline\n",
    "\n",
    "# Run TCDF with a provided dataset of Finance (see https://github.com/M-Nauta/TCDF)\n",
    "\n",
    "%run -i \"runTCDF.py\"  --ground_truth data/random-rels_20_1_3_returns30007000_header.csv=data/random-rels_20_1_3.csv --learning_rate 0.01 --hidden_layers 0 --epochs 5000 --log_interval 1000 --significance 0.8 --dilation_coefficient 4 --kernel_size 4 --seed 39655"
   ]
  },
  {
   "cell_type": "code",
   "execution_count": null,
   "metadata": {
    "scrolled": true
   },
   "outputs": [],
   "source": [
    "# Run TCDF for predictive accuracy\n",
    "\n",
    "%run -i \"evaluate_predictions_TCDF.py\" --data data/random-rels_20_1_3_returns30007000_header.csv --learning_rate 0.01 --hidden_layers 0 --epochs 2000 --log_interval 1000 --dilation_coefficient 4 --kernel_size 4 --seed 39655 --plot --train_test_split 0.8"
   ]
  },
  {
   "cell_type": "markdown",
   "metadata": {},
   "source": [
    "#### TCDF Dataset random-rels_40_1.csv: first run (in triplicate, 1 hidden layer) "
   ]
  },
  {
   "cell_type": "code",
   "execution_count": null,
   "metadata": {
    "scrolled": true
   },
   "outputs": [],
   "source": [
    "%matplotlib inline\n",
    "\n",
    "# Run TCDF with a provided dataset of Finance (see https://github.com/M-Nauta/TCDF)\n",
    "\n",
    "%run -i \"runTCDF.py\"  --ground_truth data/random-rels_40_1_returns30007000_header.csv=data/random-rels_40_1.csv --learning_rate 0.01 --hidden_layers 1 --epochs 5000 --log_interval 1000 --significance 0.8 --dilation_coefficient 4 --kernel_size 4 --seed 5467"
   ]
  },
  {
   "cell_type": "code",
   "execution_count": null,
   "metadata": {
    "scrolled": true
   },
   "outputs": [],
   "source": [
    "# Run TCDF for predictive accuracy\n",
    "\n",
    "%run -i \"evaluate_predictions_TCDF.py\" --data data/random-rels_40_1_returns30007000_header.csv --learning_rate 0.01 --hidden_layers 1 --epochs 2000 --log_interval 1000 --dilation_coefficient 4 --kernel_size 4 --seed 5467 --plot --train_test_split 0.8"
   ]
  },
  {
   "cell_type": "code",
   "execution_count": null,
   "metadata": {
    "scrolled": true
   },
   "outputs": [],
   "source": [
    "%matplotlib inline\n",
    "\n",
    "# Run TCDF with a provided dataset of Finance (see https://github.com/M-Nauta/TCDF)\n",
    "\n",
    "%run -i \"runTCDF.py\"  --ground_truth data/random-rels_40_1_returns30007000_header.csv=data/random-rels_40_1.csv --learning_rate 0.01 --hidden_layers 1 --epochs 5000 --log_interval 1000 --significance 0.8 --dilation_coefficient 4 --kernel_size 4 --seed 68400"
   ]
  },
  {
   "cell_type": "code",
   "execution_count": null,
   "metadata": {
    "scrolled": true
   },
   "outputs": [],
   "source": [
    "# Run TCDF for predictive accuracy\n",
    "\n",
    "%run -i \"evaluate_predictions_TCDF.py\" --data data/random-rels_40_1_returns30007000_header.csv --learning_rate 0.01 --hidden_layers 1 --epochs 2000 --log_interval 1000 --dilation_coefficient 4 --kernel_size 4 --seed 68400 --plot --train_test_split 0.8"
   ]
  },
  {
   "cell_type": "code",
   "execution_count": null,
   "metadata": {
    "scrolled": true
   },
   "outputs": [],
   "source": [
    "%matplotlib inline\n",
    "\n",
    "# Run TCDF with a provided dataset of Finance (see https://github.com/M-Nauta/TCDF)\n",
    "\n",
    "%run -i \"runTCDF.py\"  --ground_truth data/random-rels_40_1_returns30007000_header.csv=data/random-rels_40_1.csv --learning_rate 0.01 --hidden_layers 1 --epochs 5000 --log_interval 1000 --significance 0.8 --dilation_coefficient 4 --kernel_size 4 --seed 44601"
   ]
  },
  {
   "cell_type": "code",
   "execution_count": null,
   "metadata": {
    "scrolled": true
   },
   "outputs": [],
   "source": [
    "# Run TCDF for predictive accuracy\n",
    "\n",
    "%run -i \"evaluate_predictions_TCDF.py\" --data data/random-rels_40_1_returns30007000_header.csv --learning_rate 0.01 --hidden_layers 1 --epochs 2000 --log_interval 1000 --dilation_coefficient 4 --kernel_size 4 --seed 44601 --plot --train_test_split 0.8"
   ]
  },
  {
   "cell_type": "markdown",
   "metadata": {},
   "source": [
    "#### TCDF Dataset random-rels_40_1.csv: second run (in triplicate, 0 hidden layers) "
   ]
  },
  {
   "cell_type": "code",
   "execution_count": null,
   "metadata": {
    "scrolled": true
   },
   "outputs": [],
   "source": [
    "%matplotlib inline\n",
    "\n",
    "# Run TCDF with a provided dataset of Finance (see https://github.com/M-Nauta/TCDF)\n",
    "\n",
    "%run -i \"runTCDF.py\"  --ground_truth data/random-rels_40_1_returns30007000_header.csv=data/random-rels_40_1.csv --learning_rate 0.01 --hidden_layers 0 --epochs 5000 --log_interval 1000 --significance 0.8 --dilation_coefficient 4 --kernel_size 4 --seed 25356"
   ]
  },
  {
   "cell_type": "code",
   "execution_count": null,
   "metadata": {
    "scrolled": true
   },
   "outputs": [],
   "source": [
    "# Run TCDF for predictive accuracy\n",
    "\n",
    "%run -i \"evaluate_predictions_TCDF.py\" --data data/random-rels_40_1_returns30007000_header.csv --learning_rate 0.01 --hidden_layers 0 --epochs 2000 --log_interval 1000 --dilation_coefficient 4 --kernel_size 4 --seed 25356 --plot --train_test_split 0.8"
   ]
  },
  {
   "cell_type": "code",
   "execution_count": null,
   "metadata": {
    "scrolled": true
   },
   "outputs": [],
   "source": [
    "%matplotlib inline\n",
    "\n",
    "# Run TCDF with a provided dataset of Finance (see https://github.com/M-Nauta/TCDF)\n",
    "\n",
    "%run -i \"runTCDF.py\"  --ground_truth data/random-rels_40_1_returns30007000_header.csv=data/random-rels_40_1.csv --learning_rate 0.01 --hidden_layers 0 --epochs 5000 --log_interval 1000 --significance 0.8 --dilation_coefficient 4 --kernel_size 4 --seed 75370"
   ]
  },
  {
   "cell_type": "code",
   "execution_count": null,
   "metadata": {
    "scrolled": true
   },
   "outputs": [],
   "source": [
    "# Run TCDF for predictive accuracy\n",
    "\n",
    "%run -i \"evaluate_predictions_TCDF.py\" --data data/random-rels_40_1_returns30007000_header.csv --learning_rate 0.01 --hidden_layers 0 --epochs 2000 --log_interval 1000 --dilation_coefficient 4 --kernel_size 4 --seed 75370 --plot --train_test_split 0.8"
   ]
  },
  {
   "cell_type": "code",
   "execution_count": null,
   "metadata": {
    "scrolled": true
   },
   "outputs": [],
   "source": [
    "%matplotlib inline\n",
    "\n",
    "# Run TCDF with a provided dataset of Finance (see https://github.com/M-Nauta/TCDF)\n",
    "\n",
    "%run -i \"runTCDF.py\"  --ground_truth data/random-rels_40_1_returns30007000_header.csv=data/random-rels_40_1.csv --learning_rate 0.01 --hidden_layers 0 --epochs 5000 --log_interval 1000 --significance 0.8 --dilation_coefficient 4 --kernel_size 4 --seed 91996"
   ]
  },
  {
   "cell_type": "code",
   "execution_count": null,
   "metadata": {
    "scrolled": true
   },
   "outputs": [],
   "source": [
    "# Run TCDF for predictive accuracy\n",
    "\n",
    "%run -i \"evaluate_predictions_TCDF.py\" --data data/random-rels_40_1_returns30007000_header.csv --learning_rate 0.01 --hidden_layers 0 --epochs 2000 --log_interval 1000 --dilation_coefficient 4 --kernel_size 4 --seed 91996 --plot --train_test_split 0.8"
   ]
  },
  {
   "cell_type": "markdown",
   "metadata": {},
   "source": [
    "#### TCDF Dataset random-rels_40_1_3.csv: first run (in triplicate, 1 hidden layer) "
   ]
  },
  {
   "cell_type": "code",
   "execution_count": null,
   "metadata": {
    "scrolled": true
   },
   "outputs": [],
   "source": [
    "%matplotlib inline\n",
    "\n",
    "# Run TCDF with a provided dataset of Finance (see https://github.com/M-Nauta/TCDF)\n",
    "\n",
    "%run -i \"runTCDF.py\"  --ground_truth data/random-rels_40_1_3_returns30007000_header.csv=data/random-rels_40_1_3.csv --learning_rate 0.01 --hidden_layers 1 --epochs 5000 --log_interval 1000 --significance 0.8 --dilation_coefficient 4 --kernel_size 4 --seed 5467"
   ]
  },
  {
   "cell_type": "code",
   "execution_count": null,
   "metadata": {
    "scrolled": true
   },
   "outputs": [],
   "source": [
    "# Run TCDF for predictive accuracy\n",
    "\n",
    "%run -i \"evaluate_predictions_TCDF.py\" --data data/random-rels_40_1_3_returns30007000_header.csv --learning_rate 0.01 --hidden_layers 1 --epochs 2000 --log_interval 1000 --dilation_coefficient 4 --kernel_size 4 --seed 5467 --plot --train_test_split 0.8"
   ]
  },
  {
   "cell_type": "code",
   "execution_count": null,
   "metadata": {
    "scrolled": true
   },
   "outputs": [],
   "source": [
    "%matplotlib inline\n",
    "\n",
    "# Run TCDF with a provided dataset of Finance (see https://github.com/M-Nauta/TCDF)\n",
    "\n",
    "%run -i \"runTCDF.py\"  --ground_truth data/random-rels_40_1_3_returns30007000_header.csv=data/random-rels_40_1_3.csv --learning_rate 0.01 --hidden_layers 1 --epochs 5000 --log_interval 1000 --significance 0.8 --dilation_coefficient 4 --kernel_size 4 --seed 68400"
   ]
  },
  {
   "cell_type": "code",
   "execution_count": null,
   "metadata": {
    "scrolled": true
   },
   "outputs": [],
   "source": [
    "# Run TCDF for predictive accuracy\n",
    "\n",
    "%run -i \"evaluate_predictions_TCDF.py\" --data data/random-rels_40_1_3_returns30007000_header.csv --learning_rate 0.01 --hidden_layers 1 --epochs 2000 --log_interval 1000 --dilation_coefficient 4 --kernel_size 4 --seed 68400 --plot --train_test_split 0.8"
   ]
  },
  {
   "cell_type": "code",
   "execution_count": null,
   "metadata": {
    "scrolled": true
   },
   "outputs": [],
   "source": [
    "%matplotlib inline\n",
    "\n",
    "# Run TCDF with a provided dataset of Finance (see https://github.com/M-Nauta/TCDF)\n",
    "\n",
    "%run -i \"runTCDF.py\"  --ground_truth data/random-rels_40_1_3_returns30007000_header.csv=data/random-rels_40_1_3.csv --learning_rate 0.01 --hidden_layers 1 --epochs 5000 --log_interval 1000 --significance 0.8 --dilation_coefficient 4 --kernel_size 4 --seed 44601"
   ]
  },
  {
   "cell_type": "code",
   "execution_count": null,
   "metadata": {
    "scrolled": true
   },
   "outputs": [],
   "source": [
    "# Run TCDF for predictive accuracy\n",
    "\n",
    "%run -i \"evaluate_predictions_TCDF.py\" --data data/random-rels_40_1_3_returns30007000_header.csv --learning_rate 0.01 --hidden_layers 1 --epochs 2000 --log_interval 1000 --dilation_coefficient 4 --kernel_size 4 --seed 44601 --plot --train_test_split 0.8"
   ]
  },
  {
   "cell_type": "markdown",
   "metadata": {},
   "source": [
    "#### TCDF Dataset random-rels_40_1_3.csv: second run (in triplicate, 0 hidden layers) "
   ]
  },
  {
   "cell_type": "code",
   "execution_count": null,
   "metadata": {
    "scrolled": true
   },
   "outputs": [],
   "source": [
    "%matplotlib inline\n",
    "\n",
    "# Run TCDF with a provided dataset of Finance (see https://github.com/M-Nauta/TCDF)\n",
    "\n",
    "%run -i \"runTCDF.py\"  --ground_truth data/random-rels_40_1_3_returns30007000_header.csv=data/random-rels_40_1_3.csv --learning_rate 0.01 --hidden_layers 0 --epochs 5000 --log_interval 1000 --significance 0.8 --dilation_coefficient 4 --kernel_size 4 --seed 25356"
   ]
  },
  {
   "cell_type": "code",
   "execution_count": null,
   "metadata": {
    "scrolled": true
   },
   "outputs": [],
   "source": [
    "# Run TCDF for predictive accuracy\n",
    "\n",
    "%run -i \"evaluate_predictions_TCDF.py\" --data data/random-rels_40_1_3_returns30007000_header.csv --learning_rate 0.01 --hidden_layers 0 --epochs 2000 --log_interval 1000 --dilation_coefficient 4 --kernel_size 4 --seed 25356 --plot --train_test_split 0.8"
   ]
  },
  {
   "cell_type": "code",
   "execution_count": null,
   "metadata": {
    "scrolled": true
   },
   "outputs": [],
   "source": [
    "%matplotlib inline\n",
    "\n",
    "# Run TCDF with a provided dataset of Finance (see https://github.com/M-Nauta/TCDF)\n",
    "\n",
    "%run -i \"runTCDF.py\"  --ground_truth data/random-rels_40_1_3_returns30007000_header.csv=data/random-rels_40_1_3.csv --learning_rate 0.01 --hidden_layers 0 --epochs 5000 --log_interval 1000 --significance 0.8 --dilation_coefficient 4 --kernel_size 4 --seed 75370"
   ]
  },
  {
   "cell_type": "code",
   "execution_count": null,
   "metadata": {
    "scrolled": true
   },
   "outputs": [],
   "source": [
    "# Run TCDF for predictive accuracy\n",
    "\n",
    "%run -i \"evaluate_predictions_TCDF.py\" --data data/random-rels_40_1_3_returns30007000_header.csv --learning_rate 0.01 --hidden_layers 0 --epochs 2000 --log_interval 1000 --dilation_coefficient 4 --kernel_size 4 --seed 75370 --plot --train_test_split 0.8"
   ]
  },
  {
   "cell_type": "code",
   "execution_count": null,
   "metadata": {
    "scrolled": true
   },
   "outputs": [],
   "source": [
    "%matplotlib inline\n",
    "\n",
    "# Run TCDF with a provided dataset of Finance (see https://github.com/M-Nauta/TCDF)\n",
    "\n",
    "%run -i \"runTCDF.py\"  --ground_truth data/random-rels_40_1_3_returns30007000_header.csv=data/random-rels_40_1_3.csv --learning_rate 0.01 --hidden_layers 0 --epochs 5000 --log_interval 1000 --significance 0.8 --dilation_coefficient 4 --kernel_size 4 --seed 91996"
   ]
  },
  {
   "cell_type": "code",
   "execution_count": null,
   "metadata": {
    "scrolled": true
   },
   "outputs": [],
   "source": [
    "# Run TCDF for predictive accuracy\n",
    "\n",
    "%run -i \"evaluate_predictions_TCDF.py\" --data data/random-rels_40_1_3_returns30007000_header.csv --learning_rate 0.01 --hidden_layers 0 --epochs 2000 --log_interval 1000 --dilation_coefficient 4 --kernel_size 4 --seed 91996 --plot --train_test_split 0.8"
   ]
  },
  {
   "cell_type": "code",
   "execution_count": null,
   "metadata": {},
   "outputs": [],
   "source": []
  }
 ],
 "metadata": {
  "kernelspec": {
   "display_name": "Python 3",
   "language": "python",
   "name": "python3"
  },
  "language_info": {
   "codemirror_mode": {
    "name": "ipython",
    "version": 3
   },
   "file_extension": ".py",
   "mimetype": "text/x-python",
   "name": "python",
   "nbconvert_exporter": "python",
   "pygments_lexer": "ipython3",
   "version": "3.8.8"
  }
 },
 "nbformat": 4,
 "nbformat_minor": 4
}
