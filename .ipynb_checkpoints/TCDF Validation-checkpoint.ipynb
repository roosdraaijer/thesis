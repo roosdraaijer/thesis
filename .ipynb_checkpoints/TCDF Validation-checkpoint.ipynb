{
 "cells": [
  {
   "cell_type": "markdown",
   "metadata": {},
   "source": [
    "# TCDF Validation with provided data \n",
    "In this notebook I provide TCDF network runs with provided (preprocessed) data from the Finance dataset, available from https://github.com/M-Nauta/TCDF. This serves as further support for model validation and the additional implementation in this network by R. Draaijer."
   ]
  },
  {
   "cell_type": "markdown",
   "metadata": {},
   "source": [
    "### Prepare for running TCDF"
   ]
  },
  {
   "cell_type": "code",
   "execution_count": 1,
   "metadata": {},
   "outputs": [
    {
     "data": {
      "text/plain": [
       "'C:\\\\Users\\\\10528504\\\\Documents\\\\GitHub\\\\thesis\\\\TCDF'"
      ]
     },
     "execution_count": 1,
     "metadata": {},
     "output_type": "execute_result"
    }
   ],
   "source": [
    "import os\n",
    "\n",
    "# Create universally (i.e. across various operating systems) recognized paths\n",
    "\n",
    "notebook_path = os.path.abspath('TCDF Validation.ipynb')               # Jupyter notebook path\n",
    "TCDF_path = os.path.join(os.path.dirname(notebook_path), 'TCDF')       # TCDF folder path\n",
    "TCDFdata_path = os.path.join(TCDF_path, 'data')                        # TCDF/data folder path\n",
    "\n",
    "# Define needed directory\n",
    "directory = TCDF_path\n",
    "\n",
    "# Check current working directory\n",
    "current_directory = os.getcwd()\n",
    "\n",
    "# Change working directory to perform TCDF\n",
    "if current_directory != directory:\n",
    "    os.chdir(TCDF_path)\n",
    "\n",
    "# Check new current working directory\n",
    "os.getcwd()"
   ]
  },
  {
   "cell_type": "code",
   "execution_count": 2,
   "metadata": {},
   "outputs": [
    {
     "name": "stdout",
     "output_type": "stream",
     "text": [
      "Collecting package metadata (current_repodata.json): ...working... done\n",
      "Solving environment: ...working... done\n",
      "\n",
      "# All requested packages already installed.\n",
      "\n",
      "Requirement already satisfied: torchvision in c:\\users\\10528504\\anaconda3\\lib\\site-packages (0.10.0)\n",
      "Requirement already satisfied: torch==1.9.0 in c:\\users\\10528504\\anaconda3\\lib\\site-packages (from torchvision) (1.9.0)\n",
      "Requirement already satisfied: pillow>=5.3.0 in c:\\users\\10528504\\anaconda3\\lib\\site-packages (from torchvision) (8.2.0)\n",
      "Requirement already satisfied: numpy in c:\\users\\10528504\\anaconda3\\lib\\site-packages (from torchvision) (1.20.1)\n",
      "Requirement already satisfied: typing-extensions in c:\\users\\10528504\\anaconda3\\lib\\site-packages (from torch==1.9.0->torchvision) (3.7.4.3)\n"
     ]
    }
   ],
   "source": [
    "# Install conda- and pip packages in the current Jupyter kernel\n",
    "import sys\n",
    "!conda install --yes --prefix {sys.prefix} git\n",
    "!{sys.executable} -m pip install torchvision"
   ]
  },
  {
   "cell_type": "markdown",
   "metadata": {},
   "source": [
    "### Run Finance datasets \n",
    "I have chosen to run these datasets with either 0 or 1 hidden layer(s), since these gave the best results according to Nauta et al. (2019). In total there are 9 datasets, and they are run with the additionally implemented early stopping and adaptive learning rate. To use these results comparitively to the tritrophic dataset, the datasets are run in triplicate as well."
   ]
  },
  {
   "cell_type": "markdown",
   "metadata": {},
   "source": [
    "#### TCDF Dataset random-rels_20_1A.csv: first run (in triplicate, 1 hidden layer) "
   ]
  },
  {
   "cell_type": "code",
   "execution_count": null,
   "metadata": {
    "scrolled": true
   },
   "outputs": [
    {
     "name": "stdout",
     "output_type": "stream",
     "text": [
      "Arguments: Namespace(cuda=False, data=None, dilation_coefficient=4, early_stopping=True, epochs=5000, ground_truth={'data/random-rels_20_1A_returns30007000_header.csv': 'data/random-rels_20_1A.csv'}, hidden_layers=1, kernel_size=4, learning_rate=0.01, log_interval=1000, lr_scheduler=True, optimizer='Adam', plot=True, seed=13076, significance=0.8)\n",
      "\n",
      " Dataset:  random-rels_20_1A_returns30007000_header.csv\n",
      "\n",
      " Analysis started for target:  S0\n",
      "INFO: Initializing learning rate scheduler\n",
      "INFO: Initializing early stopping\n",
      "Epoch:  1 [0%] \tLoss: 1.001290\n",
      "Epoch   354: reducing learning rate of group 0 to 1.0000e-03.\n",
      "Epoch: 1000 [20%] \tLoss: 0.169367\n",
      "Epoch: 2000 [40%] \tLoss: 0.166904\n",
      "Epoch  2811: reducing learning rate of group 0 to 1.0000e-04.\n",
      "Epoch  2823: reducing learning rate of group 0 to 1.0000e-05.\n",
      "Epoch  2834: reducing learning rate of group 0 to 1.0000e-06.\n",
      "Epoch: 3000 [60%] \tLoss: 0.165297\n",
      "INFO: Early stopping\n",
      "Potential causes:  [8, 6, 2]\n",
      "Validated causes:  []\n",
      "\n",
      " Analysis started for target:  S1\n",
      "INFO: Initializing learning rate scheduler\n",
      "INFO: Initializing early stopping\n",
      "Epoch:  1 [0%] \tLoss: 0.863634\n",
      "Epoch   303: reducing learning rate of group 0 to 1.0000e-03.\n",
      "Epoch: 1000 [20%] \tLoss: 0.155194\n",
      "Epoch: 2000 [40%] \tLoss: 0.148971\n",
      "Epoch  2327: reducing learning rate of group 0 to 1.0000e-04.\n",
      "Epoch  2342: reducing learning rate of group 0 to 1.0000e-05.\n",
      "Epoch  2353: reducing learning rate of group 0 to 1.0000e-06.\n",
      "INFO: Early stopping\n",
      "Potential causes:  [2, 18, 11, 6]\n",
      "Validated causes:  [11]\n",
      "\n",
      " Analysis started for target:  S2\n",
      "INFO: Initializing learning rate scheduler\n",
      "INFO: Initializing early stopping\n",
      "Epoch:  1 [0%] \tLoss: 0.721742\n",
      "Epoch   368: reducing learning rate of group 0 to 1.0000e-03.\n",
      "Epoch: 1000 [20%] \tLoss: 0.125095\n",
      "Epoch  1923: reducing learning rate of group 0 to 1.0000e-04.\n",
      "Epoch  1938: reducing learning rate of group 0 to 1.0000e-05.\n",
      "Epoch  1959: reducing learning rate of group 0 to 1.0000e-06.\n",
      "Epoch: 2000 [40%] \tLoss: 0.115670\n",
      "INFO: Early stopping\n",
      "Potential causes:  [2, 0, 7, 22, 17, 18, 6]\n",
      "Validated causes:  [2, 7]\n",
      "\n",
      " Analysis started for target:  S3\n",
      "INFO: Initializing learning rate scheduler\n",
      "INFO: Initializing early stopping\n",
      "Epoch:  1 [0%] \tLoss: 0.529781\n",
      "Epoch   345: reducing learning rate of group 0 to 1.0000e-03.\n",
      "Epoch: 1000 [20%] \tLoss: 0.111431\n",
      "Epoch: 2000 [40%] \tLoss: 0.090390\n",
      "Epoch  2611: reducing learning rate of group 0 to 1.0000e-04.\n",
      "Epoch  2626: reducing learning rate of group 0 to 1.0000e-05.\n",
      "Epoch  2647: reducing learning rate of group 0 to 1.0000e-06.\n",
      "INFO: Early stopping\n",
      "Potential causes:  [18, 2, 8, 10]\n",
      "Validated causes:  [18]\n",
      "\n",
      " Analysis started for target:  S4\n",
      "INFO: Initializing learning rate scheduler\n",
      "INFO: Initializing early stopping\n",
      "Epoch:  1 [0%] \tLoss: 0.547776\n",
      "Epoch   426: reducing learning rate of group 0 to 1.0000e-03.\n",
      "Epoch   437: reducing learning rate of group 0 to 1.0000e-04.\n",
      "Epoch   448: reducing learning rate of group 0 to 1.0000e-05.\n",
      "Epoch   459: reducing learning rate of group 0 to 1.0000e-06.\n",
      "INFO: Early stopping\n",
      "Potential causes:  [9, 0]\n",
      "Validated causes:  [9]\n",
      "\n",
      " Analysis started for target:  S5\n",
      "INFO: Initializing learning rate scheduler\n",
      "INFO: Initializing early stopping\n",
      "Epoch:  1 [0%] \tLoss: 1.214927\n",
      "Epoch   397: reducing learning rate of group 0 to 1.0000e-03.\n",
      "Epoch   427: reducing learning rate of group 0 to 1.0000e-04.\n",
      "Epoch   449: reducing learning rate of group 0 to 1.0000e-05.\n",
      "Epoch   460: reducing learning rate of group 0 to 1.0000e-06.\n",
      "INFO: Early stopping\n",
      "Potential causes:  [10, 16, 6]\n",
      "Validated causes:  [16]\n",
      "\n",
      " Analysis started for target:  S6\n",
      "INFO: Initializing learning rate scheduler\n",
      "INFO: Initializing early stopping\n",
      "Epoch:  1 [0%] \tLoss: 0.717641\n",
      "Epoch   303: reducing learning rate of group 0 to 1.0000e-03.\n",
      "Epoch: 1000 [20%] \tLoss: 0.096976\n",
      "Epoch: 2000 [40%] \tLoss: 0.095545\n",
      "Epoch  2558: reducing learning rate of group 0 to 1.0000e-04.\n",
      "Epoch  2572: reducing learning rate of group 0 to 1.0000e-05.\n",
      "Epoch  2583: reducing learning rate of group 0 to 1.0000e-06.\n",
      "INFO: Early stopping\n",
      "Potential causes:  [0, 18]\n",
      "Validated causes:  []\n",
      "\n",
      " Analysis started for target:  S7\n",
      "INFO: Initializing learning rate scheduler\n",
      "INFO: Initializing early stopping\n",
      "Epoch:  1 [0%] \tLoss: 0.565037\n",
      "Epoch   273: reducing learning rate of group 0 to 1.0000e-03.\n",
      "Epoch: 1000 [20%] \tLoss: 0.088074\n",
      "Epoch: 2000 [40%] \tLoss: 0.085024\n",
      "Epoch  2126: reducing learning rate of group 0 to 1.0000e-04.\n",
      "Epoch  2138: reducing learning rate of group 0 to 1.0000e-05.\n",
      "Epoch  2149: reducing learning rate of group 0 to 1.0000e-06.\n",
      "INFO: Early stopping\n",
      "Potential causes:  [2, 0, 6, 18]\n",
      "Validated causes:  []\n",
      "\n",
      " Analysis started for target:  S8\n",
      "INFO: Initializing learning rate scheduler\n",
      "INFO: Initializing early stopping\n",
      "Epoch:  1 [0%] \tLoss: 0.595640\n",
      "Epoch   326: reducing learning rate of group 0 to 1.0000e-03.\n",
      "Epoch: 1000 [20%] \tLoss: 0.088227\n",
      "Epoch: 2000 [40%] \tLoss: 0.082323\n",
      "Epoch  2377: reducing learning rate of group 0 to 1.0000e-04.\n",
      "Epoch  2391: reducing learning rate of group 0 to 1.0000e-05.\n",
      "Epoch  2402: reducing learning rate of group 0 to 1.0000e-06.\n",
      "INFO: Early stopping\n",
      "Potential causes:  [18, 16]\n",
      "Validated causes:  [16]\n",
      "\n",
      " Analysis started for target:  S9\n",
      "INFO: Initializing learning rate scheduler\n",
      "INFO: Initializing early stopping\n",
      "Epoch:  1 [0%] \tLoss: 0.841349\n",
      "Epoch   209: reducing learning rate of group 0 to 1.0000e-03.\n",
      "Epoch: 1000 [20%] \tLoss: 0.140777\n",
      "Epoch  1366: reducing learning rate of group 0 to 1.0000e-04.\n",
      "Epoch  1381: reducing learning rate of group 0 to 1.0000e-05.\n",
      "Epoch  1401: reducing learning rate of group 0 to 1.0000e-06.\n",
      "INFO: Early stopping\n",
      "Potential causes:  [19, 18, 10, 2]\n",
      "Validated causes:  [19, 10]\n",
      "\n",
      " Analysis started for target:  S10\n",
      "INFO: Initializing learning rate scheduler\n",
      "INFO: Initializing early stopping\n",
      "Epoch:  1 [0%] \tLoss: 1.082691\n",
      "Epoch   246: reducing learning rate of group 0 to 1.0000e-03.\n",
      "Epoch: 1000 [20%] \tLoss: 0.136228\n",
      "Epoch: 2000 [40%] \tLoss: 0.132319\n",
      "Epoch  2109: reducing learning rate of group 0 to 1.0000e-04.\n",
      "Epoch  2123: reducing learning rate of group 0 to 1.0000e-05.\n",
      "Epoch  2134: reducing learning rate of group 0 to 1.0000e-06.\n",
      "INFO: Early stopping\n",
      "Potential causes:  [6, 0]\n",
      "Validated causes:  []\n",
      "\n",
      " Analysis started for target:  S11\n",
      "INFO: Initializing learning rate scheduler\n",
      "INFO: Initializing early stopping\n",
      "Epoch:  1 [0%] \tLoss: 0.677595\n",
      "Epoch   243: reducing learning rate of group 0 to 1.0000e-03.\n",
      "Epoch: 1000 [20%] \tLoss: 0.087541\n",
      "Epoch: 2000 [40%] \tLoss: 0.083078\n",
      "Epoch  2114: reducing learning rate of group 0 to 1.0000e-04.\n",
      "Epoch  2129: reducing learning rate of group 0 to 1.0000e-05.\n",
      "Epoch  2140: reducing learning rate of group 0 to 1.0000e-06.\n",
      "INFO: Early stopping\n",
      "Potential causes:  [6, 18, 0, 10, 22]\n",
      "Validated causes:  []\n",
      "\n",
      " Analysis started for target:  S12\n",
      "INFO: Initializing learning rate scheduler\n",
      "INFO: Initializing early stopping\n",
      "Epoch:  1 [0%] \tLoss: 0.544162\n",
      "Epoch   213: reducing learning rate of group 0 to 1.0000e-03.\n",
      "Epoch: 1000 [20%] \tLoss: 0.092184\n",
      "Epoch  1757: reducing learning rate of group 0 to 1.0000e-04.\n",
      "Epoch  1771: reducing learning rate of group 0 to 1.0000e-05.\n",
      "Epoch  1782: reducing learning rate of group 0 to 1.0000e-06.\n",
      "Epoch: 2000 [40%] \tLoss: 0.089328\n",
      "INFO: Early stopping\n",
      "Potential causes:  [6, 18]\n",
      "Validated causes:  []\n",
      "\n",
      " Analysis started for target:  S13\n",
      "INFO: Initializing learning rate scheduler\n",
      "INFO: Initializing early stopping\n",
      "Epoch:  1 [0%] \tLoss: 0.670654\n",
      "Epoch   327: reducing learning rate of group 0 to 1.0000e-03.\n",
      "Epoch: 1000 [20%] \tLoss: 0.156264\n",
      "Epoch: 2000 [40%] \tLoss: 0.148503\n",
      "Epoch  2262: reducing learning rate of group 0 to 1.0000e-04.\n",
      "Epoch  2276: reducing learning rate of group 0 to 1.0000e-05.\n",
      "Epoch  2287: reducing learning rate of group 0 to 1.0000e-06.\n",
      "INFO: Early stopping\n",
      "Potential causes:  [2, 22, 8, 20]\n",
      "Validated causes:  [2]\n",
      "\n",
      " Analysis started for target:  S14\n",
      "INFO: Initializing learning rate scheduler\n",
      "INFO: Initializing early stopping\n",
      "Epoch:  1 [0%] \tLoss: 0.780782\n",
      "Epoch   267: reducing learning rate of group 0 to 1.0000e-03.\n",
      "Epoch: 1000 [20%] \tLoss: 0.172316\n",
      "Epoch  1620: reducing learning rate of group 0 to 1.0000e-04.\n",
      "Epoch  1645: reducing learning rate of group 0 to 1.0000e-05.\n",
      "Epoch  1656: reducing learning rate of group 0 to 1.0000e-06.\n"
     ]
    },
    {
     "name": "stdout",
     "output_type": "stream",
     "text": [
      "Epoch: 2000 [40%] \tLoss: 0.163943\n",
      "INFO: Early stopping\n",
      "Potential causes:  [2, 5, 16]\n",
      "Validated causes:  [5, 16]\n",
      "\n",
      " Analysis started for target:  S15\n",
      "INFO: Initializing learning rate scheduler\n",
      "INFO: Initializing early stopping\n",
      "Epoch:  1 [0%] \tLoss: 1.100129\n",
      "Epoch   285: reducing learning rate of group 0 to 1.0000e-03.\n",
      "Epoch: 1000 [20%] \tLoss: 0.138279\n",
      "Epoch  1595: reducing learning rate of group 0 to 1.0000e-04.\n",
      "Epoch  1615: reducing learning rate of group 0 to 1.0000e-05.\n",
      "Epoch  1626: reducing learning rate of group 0 to 1.0000e-06.\n",
      "Epoch: 2000 [40%] \tLoss: 0.131944\n",
      "INFO: Early stopping\n",
      "Potential causes:  [21, 16, 5, 10, 18, 1, 20, 14, 22, 0]\n",
      "Validated causes:  [16, 5]\n",
      "\n",
      " Analysis started for target:  S16\n",
      "INFO: Initializing learning rate scheduler\n",
      "INFO: Initializing early stopping\n",
      "Epoch:  1 [0%] \tLoss: 0.733847\n",
      "Epoch   245: reducing learning rate of group 0 to 1.0000e-03.\n",
      "Epoch: 1000 [20%] \tLoss: 0.115229\n",
      "Epoch: 2000 [40%] \tLoss: 0.112587\n",
      "Epoch  2418: reducing learning rate of group 0 to 1.0000e-04.\n",
      "Epoch  2438: reducing learning rate of group 0 to 1.0000e-05.\n",
      "Epoch  2449: reducing learning rate of group 0 to 1.0000e-06.\n",
      "INFO: Early stopping\n",
      "Potential causes:  [21, 6]\n",
      "Validated causes:  []\n",
      "\n",
      " Analysis started for target:  S17\n",
      "INFO: Initializing learning rate scheduler\n",
      "INFO: Initializing early stopping\n",
      "Epoch:  1 [0%] \tLoss: 0.936712\n",
      "Epoch   346: reducing learning rate of group 0 to 1.0000e-03.\n",
      "Epoch: 1000 [20%] \tLoss: 0.151982\n",
      "Epoch: 2000 [40%] \tLoss: 0.140293\n",
      "Epoch  2089: reducing learning rate of group 0 to 1.0000e-04.\n",
      "Epoch  2103: reducing learning rate of group 0 to 1.0000e-05.\n",
      "Epoch  2114: reducing learning rate of group 0 to 1.0000e-06.\n",
      "INFO: Early stopping\n",
      "Potential causes:  [0, 2]\n",
      "Validated causes:  [0, 2]\n",
      "\n",
      " Analysis started for target:  S18\n",
      "INFO: Initializing learning rate scheduler\n",
      "INFO: Initializing early stopping\n",
      "Epoch:  1 [0%] \tLoss: 0.726133\n",
      "Epoch   400: reducing learning rate of group 0 to 1.0000e-03.\n",
      "Epoch: 1000 [20%] \tLoss: 0.121824\n",
      "Epoch: 2000 [40%] \tLoss: 0.118525\n",
      "Epoch  2289: reducing learning rate of group 0 to 1.0000e-04.\n",
      "Epoch  2314: reducing learning rate of group 0 to 1.0000e-05.\n",
      "Epoch  2325: reducing learning rate of group 0 to 1.0000e-06.\n",
      "INFO: Early stopping\n",
      "Potential causes:  [2, 7]\n",
      "Validated causes:  [7]\n",
      "\n",
      " Analysis started for target:  S19\n",
      "INFO: Initializing learning rate scheduler\n",
      "INFO: Initializing early stopping\n",
      "Epoch:  1 [0%] \tLoss: 0.983127\n",
      "Epoch   341: reducing learning rate of group 0 to 1.0000e-03.\n",
      "Epoch: 1000 [20%] \tLoss: 0.220152\n",
      "Epoch: 2000 [40%] \tLoss: 0.215806\n",
      "Epoch  2120: reducing learning rate of group 0 to 1.0000e-04.\n",
      "Epoch  2134: reducing learning rate of group 0 to 1.0000e-05.\n",
      "Epoch  2145: reducing learning rate of group 0 to 1.0000e-06.\n",
      "INFO: Early stopping\n",
      "Potential causes:  [10, 18]\n",
      "Validated causes:  [10]\n",
      "\n",
      " Analysis started for target:  S20\n",
      "INFO: Initializing learning rate scheduler\n",
      "INFO: Initializing early stopping\n",
      "Epoch:  1 [0%] \tLoss: 1.451898\n",
      "Epoch   352: reducing learning rate of group 0 to 1.0000e-03.\n",
      "Epoch: 1000 [20%] \tLoss: 0.172080\n",
      "Epoch  1846: reducing learning rate of group 0 to 1.0000e-04.\n",
      "Epoch  1866: reducing learning rate of group 0 to 1.0000e-05.\n",
      "Epoch  1885: reducing learning rate of group 0 to 1.0000e-06.\n",
      "Epoch: 2000 [40%] \tLoss: 0.145809\n",
      "INFO: Early stopping\n",
      "Potential causes:  [0, 14, 17, 18, 4, 22, 1, 2, 10]\n",
      "Validated causes:  [14, 1]\n",
      "\n",
      " Analysis started for target:  S21\n",
      "INFO: Initializing learning rate scheduler\n",
      "INFO: Initializing early stopping\n",
      "Epoch:  1 [0%] \tLoss: 0.984919\n",
      "Epoch   288: reducing learning rate of group 0 to 1.0000e-03.\n",
      "Epoch: 1000 [20%] \tLoss: 0.122939\n",
      "Epoch  1659: reducing learning rate of group 0 to 1.0000e-04.\n",
      "Epoch  1684: reducing learning rate of group 0 to 1.0000e-05.\n",
      "Epoch  1695: reducing learning rate of group 0 to 1.0000e-06.\n",
      "Epoch: 2000 [40%] \tLoss: 0.118111\n",
      "INFO: Early stopping\n",
      "Potential causes:  [22, 18, 2, 14]\n",
      "Validated causes:  []\n",
      "\n",
      " Analysis started for target:  S22\n",
      "INFO: Initializing learning rate scheduler\n",
      "INFO: Initializing early stopping\n",
      "Epoch:  1 [0%] \tLoss: 1.027673\n",
      "Epoch   260: reducing learning rate of group 0 to 1.0000e-03.\n",
      "Epoch: 1000 [20%] \tLoss: 0.195895\n",
      "Epoch  1917: reducing learning rate of group 0 to 1.0000e-04.\n",
      "Epoch  1931: reducing learning rate of group 0 to 1.0000e-05.\n",
      "Epoch  1942: reducing learning rate of group 0 to 1.0000e-06.\n",
      "Epoch: 2000 [40%] \tLoss: 0.189795\n",
      "INFO: Early stopping\n",
      "Potential causes:  [21, 14, 22, 18]\n",
      "Validated causes:  [21, 22]\n",
      "\n",
      " Analysis started for target:  S23\n",
      "INFO: Initializing learning rate scheduler\n",
      "INFO: Initializing early stopping\n",
      "Epoch:  1 [0%] \tLoss: 0.920316\n",
      "Epoch   267: reducing learning rate of group 0 to 1.0000e-03.\n",
      "Epoch: 1000 [20%] \tLoss: 0.156122\n",
      "Epoch  1911: reducing learning rate of group 0 to 1.0000e-04.\n",
      "Epoch  1926: reducing learning rate of group 0 to 1.0000e-05.\n",
      "Epoch  1937: reducing learning rate of group 0 to 1.0000e-06.\n",
      "Epoch: 2000 [40%] \tLoss: 0.149324\n",
      "INFO: Early stopping\n",
      "Potential causes:  [2, 17, 18, 0, 22, 21]\n",
      "Validated causes:  [2]\n",
      "\n",
      " Analysis started for target:  S24\n",
      "INFO: Initializing learning rate scheduler\n",
      "INFO: Initializing early stopping\n",
      "Epoch:  1 [0%] \tLoss: 1.059441\n",
      "Epoch   292: reducing learning rate of group 0 to 1.0000e-03.\n",
      "Epoch: 1000 [20%] \tLoss: 0.266477\n",
      "Epoch  1996: reducing learning rate of group 0 to 1.0000e-04.\n",
      "Epoch: 2000 [40%] \tLoss: 0.257066\n",
      "Epoch  2010: reducing learning rate of group 0 to 1.0000e-05.\n",
      "Epoch  2021: reducing learning rate of group 0 to 1.0000e-06.\n",
      "INFO: Early stopping\n",
      "Potential causes:  [21, 18]\n",
      "Validated causes:  []\n",
      "\n",
      "===================Results for random-rels_20_1A_returns30007000_header.csv ==================================\n",
      "S11 causes S1 with a delay of 1 time steps.\n",
      "S2 causes S2 with a delay of 1 time steps.\n",
      "S7 causes S2 with a delay of 1 time steps.\n",
      "S18 causes S3 with a delay of 1 time steps.\n",
      "S9 causes S4 with a delay of 1 time steps.\n",
      "S16 causes S5 with a delay of 1 time steps.\n",
      "S16 causes S8 with a delay of 1 time steps.\n",
      "S19 causes S9 with a delay of 1 time steps.\n",
      "S10 causes S9 with a delay of 2 time steps.\n",
      "S2 causes S13 with a delay of 2 time steps.\n",
      "S5 causes S14 with a delay of 1 time steps.\n",
      "S16 causes S14 with a delay of 2 time steps.\n",
      "S16 causes S15 with a delay of 2 time steps.\n",
      "S5 causes S15 with a delay of 1 time steps.\n",
      "S0 causes S17 with a delay of 1 time steps.\n",
      "S2 causes S17 with a delay of 1 time steps.\n",
      "S7 causes S18 with a delay of 1 time steps.\n",
      "S10 causes S19 with a delay of 1 time steps.\n",
      "S14 causes S20 with a delay of 1 time steps.\n",
      "S1 causes S20 with a delay of 1 time steps.\n",
      "S21 causes S22 with a delay of 0 time steps.\n",
      "S22 causes S22 with a delay of 1 time steps.\n",
      "S2 causes S23 with a delay of 1 time steps.\n",
      "\n",
      "===================Evaluation for random-rels_20_1A_returns30007000_header.csv ===============================\n",
      "Total False Positives':  2\n",
      "Total True Positives':  21\n",
      "Total False Negatives:  3\n",
      "Total Direct False Positives:  6\n",
      "Total Direct True Positives:  17\n",
      "TPs':  [(1, 11), (2, 2), (2, 7), (3, 18), (4, 9), (5, 16), (8, 16), (9, 19), (9, 10), (13, 2), (14, 5), (14, 16), (15, 16), (15, 5), (17, 0), (18, 7), (19, 10), (20, 14), (20, 1), (22, 22), (23, 2)]\n",
      "FPs':  [(17, 2), (22, 21)]\n",
      "TPs direct:  [(1, 11), (2, 2), (2, 7), (3, 18), (4, 9), (5, 16), (8, 16), (9, 19), (14, 5), (15, 5), (17, 0), (18, 7), (19, 10), (20, 14), (20, 1), (22, 22), (23, 2)]\n",
      "FPs direct:  [(9, 10), (13, 2), (14, 16), (15, 16), (17, 2), (22, 21)]\n",
      "FNs:  [(1, 7), (13, 23), (17, 1)]\n",
      "Precision':  0.9130434782608695\n",
      "Recall':  0.875\n",
      "F1' score:  0.8936170212765957 (includes direct and indirect causal relationships)\n",
      "Precision:  0.7391304347826086\n",
      "Recall:  0.85\n",
      "F1 score:  0.7906976744186046 (includes only direct causal relationships)\n",
      "Percentage of delays that are correctly discovered:  100.0 %\n",
      "==================================================================================\n"
     ]
    }
   ],
   "source": [
    "%matplotlib inline\n",
    "\n",
    "# Run TCDF with a provided dataset of Finance (see https://github.com/M-Nauta/TCDF)\n",
    "\n",
    "%run -i \"runTCDF.py\"  --ground_truth data/random-rels_20_1A_returns30007000_header.csv=data/random-rels_20_1A.csv --learning_rate 0.01 --hidden_layers 1 --epochs 5000 --log_interval 1000 --significance 0.8 --dilation_coefficient 4 --kernel_size 4 --seed 13076 --plot"
   ]
  },
  {
   "cell_type": "code",
   "execution_count": null,
   "metadata": {
    "scrolled": true
   },
   "outputs": [],
   "source": [
    "# Run TCDF for predictive accuracy\n",
    "\n",
    "%run -i \"evaluate_predictions_TCDF.py\" --data data/random-rels_20_1A_returns30007000_header.csv --learning_rate 0.01 --hidden_layers 1 --epochs 2000 --log_interval 1000 --dilation_coefficient 4 --kernel_size 4 --seed 13076 --plot --train_test_split 0.8"
   ]
  },
  {
   "cell_type": "code",
   "execution_count": null,
   "metadata": {
    "scrolled": true
   },
   "outputs": [],
   "source": [
    "%matplotlib inline\n",
    "\n",
    "# Run TCDF with a provided dataset of Finance (see https://github.com/M-Nauta/TCDF)\n",
    "\n",
    "%run -i \"runTCDF.py\"  --ground_truth data/random-rels_20_1A_returns30007000_header.csv=data/random-rels_20_1A.csv --learning_rate 0.01 --hidden_layers 1 --epochs 5000 --log_interval 1000 --significance 0.8 --dilation_coefficient 4 --kernel_size 4 --seed 12356 --plot"
   ]
  },
  {
   "cell_type": "code",
   "execution_count": null,
   "metadata": {
    "scrolled": true
   },
   "outputs": [],
   "source": [
    "# Run TCDF for predictive accuracy\n",
    "\n",
    "%run -i \"evaluate_predictions_TCDF.py\" --data data/random-rels_20_1A_returns30007000_header.csv --learning_rate 0.01 --hidden_layers 1 --epochs 2000 --log_interval 1000 --dilation_coefficient 4 --kernel_size 4 --seed 12356 --plot --train_test_split 0.8"
   ]
  },
  {
   "cell_type": "code",
   "execution_count": null,
   "metadata": {
    "scrolled": true
   },
   "outputs": [],
   "source": [
    "%matplotlib inline\n",
    "\n",
    "# Run TCDF with a provided dataset of Finance (see https://github.com/M-Nauta/TCDF)\n",
    "\n",
    "%run -i \"runTCDF.py\"  --ground_truth data/random-rels_20_1A_returns30007000_header.csv=data/random-rels_20_1A.csv --learning_rate 0.01 --hidden_layers 1 --epochs 5000 --log_interval 1000 --significance 0.8 --dilation_coefficient 4 --kernel_size 4 --seed 53444 --plot"
   ]
  },
  {
   "cell_type": "code",
   "execution_count": null,
   "metadata": {
    "scrolled": true
   },
   "outputs": [],
   "source": [
    "# Run TCDF for predictive accuracy\n",
    "\n",
    "%run -i \"evaluate_predictions_TCDF.py\" --data data/random-rels_20_1A_returns30007000_header.csv --learning_rate 0.01 --hidden_layers 1 --epochs 2000 --log_interval 1000 --dilation_coefficient 4 --kernel_size 4 --seed 53444 --plot --train_test_split 0.8"
   ]
  },
  {
   "cell_type": "markdown",
   "metadata": {},
   "source": [
    "#### TCDF Dataset random-rels_20_1A.csv: second run (in triplicate, 0 hidden layers) "
   ]
  },
  {
   "cell_type": "code",
   "execution_count": null,
   "metadata": {
    "scrolled": true
   },
   "outputs": [],
   "source": [
    "%matplotlib inline\n",
    "\n",
    "# Run TCDF with a provided dataset of Finance (see https://github.com/M-Nauta/TCDF)\n",
    "\n",
    "%run -i \"runTCDF.py\"  --ground_truth data/random-rels_20_1A_returns30007000_header.csv=data/random-rels_20_1A.csv --learning_rate 0.01 --hidden_layers 0 --epochs 5000 --log_interval 1000 --significance 0.8 --dilation_coefficient 4 --kernel_size 4 --seed 68519 --plot"
   ]
  },
  {
   "cell_type": "code",
   "execution_count": null,
   "metadata": {
    "scrolled": true
   },
   "outputs": [],
   "source": [
    "# Run TCDF for predictive accuracy\n",
    "\n",
    "%run -i \"evaluate_predictions_TCDF.py\" --data data/random-rels_20_1A_returns30007000_header.csv --learning_rate 0.01 --hidden_layers 0 --epochs 2000 --log_interval 1000 --dilation_coefficient 4 --kernel_size 4 --seed 68519 --plot --train_test_split 0.8"
   ]
  },
  {
   "cell_type": "code",
   "execution_count": null,
   "metadata": {
    "scrolled": true
   },
   "outputs": [],
   "source": [
    "%matplotlib inline\n",
    "\n",
    "# Run TCDF with a provided dataset of Finance (see https://github.com/M-Nauta/TCDF)\n",
    "\n",
    "%run -i \"runTCDF.py\"  --ground_truth data/random-rels_20_1A_returns30007000_header.csv=data/random-rels_20_1A.csv --learning_rate 0.01 --hidden_layers 0 --epochs 5000 --log_interval 1000 --significance 0.8 --dilation_coefficient 4 --kernel_size 4 --seed 62626 --plot"
   ]
  },
  {
   "cell_type": "code",
   "execution_count": null,
   "metadata": {
    "scrolled": true
   },
   "outputs": [],
   "source": [
    "# Run TCDF for predictive accuracy\n",
    "\n",
    "%run -i \"evaluate_predictions_TCDF.py\" --data data/random-rels_20_1A_returns30007000_header.csv --learning_rate 0.01 --hidden_layers 0 --epochs 2000 --log_interval 1000 --dilation_coefficient 4 --kernel_size 4 --seed 62626 --plot --train_test_split 0.8"
   ]
  },
  {
   "cell_type": "code",
   "execution_count": null,
   "metadata": {
    "scrolled": true
   },
   "outputs": [],
   "source": [
    "%matplotlib inline\n",
    "\n",
    "# Run TCDF with a provided dataset of Finance (see https://github.com/M-Nauta/TCDF)\n",
    "\n",
    "%run -i \"runTCDF.py\"  --ground_truth data/random-rels_20_1A_returns30007000_header.csv=data/random-rels_20_1A.csv --learning_rate 0.01 --hidden_layers 0 --epochs 5000 --log_interval 1000 --significance 0.8 --dilation_coefficient 4 --kernel_size 4 --seed 65119 --plot"
   ]
  },
  {
   "cell_type": "code",
   "execution_count": null,
   "metadata": {
    "scrolled": true
   },
   "outputs": [],
   "source": [
    "# Run TCDF for predictive accuracy\n",
    "\n",
    "%run -i \"evaluate_predictions_TCDF.py\" --data data/random-rels_20_1A_returns30007000_header.csv --learning_rate 0.01 --hidden_layers 0 --epochs 2000 --log_interval 1000 --dilation_coefficient 4 --kernel_size 4 --seed 65119 --plot --train_test_split 0.8"
   ]
  },
  {
   "cell_type": "markdown",
   "metadata": {},
   "source": [
    "#### TCDF Dataset random-rels_20_1B.csv: first run (in triplicate, 1 hidden layer) "
   ]
  },
  {
   "cell_type": "code",
   "execution_count": null,
   "metadata": {
    "scrolled": true
   },
   "outputs": [],
   "source": [
    "%matplotlib inline\n",
    "\n",
    "# Run TCDF with a provided dataset of Finance (see https://github.com/M-Nauta/TCDF)\n",
    "\n",
    "%run -i \"runTCDF.py\"  --ground_truth data/random-rels_20_1B_returns30007000_header.csv=data/random-rels_20_1B.csv --learning_rate 0.01 --hidden_layers 1 --epochs 5000 --log_interval 1000 --significance 0.8 --dilation_coefficient 4 --kernel_size 4 --seed 31815 --plot"
   ]
  },
  {
   "cell_type": "code",
   "execution_count": null,
   "metadata": {
    "scrolled": true
   },
   "outputs": [],
   "source": [
    "# Run TCDF for predictive accuracy\n",
    "\n",
    "%run -i \"evaluate_predictions_TCDF.py\" --data data/random-rels_20_1B_returns30007000_header.csv --learning_rate 0.01 --hidden_layers 1 --epochs 2000 --log_interval 1000 --dilation_coefficient 4 --kernel_size 4 --seed 31815 --plot --train_test_split 0.8"
   ]
  },
  {
   "cell_type": "code",
   "execution_count": null,
   "metadata": {
    "scrolled": true
   },
   "outputs": [],
   "source": [
    "%matplotlib inline\n",
    "\n",
    "# Run TCDF with a provided dataset of Finance (see https://github.com/M-Nauta/TCDF)\n",
    "\n",
    "%run -i \"runTCDF.py\"  --ground_truth data/random-rels_20_1B_returns30007000_header.csv=data/random-rels_20_1B.csv --learning_rate 0.01 --hidden_layers 1 --epochs 5000 --log_interval 1000 --significance 0.8 --dilation_coefficient 4 --kernel_size 4 --seed 74632 --plot"
   ]
  },
  {
   "cell_type": "code",
   "execution_count": null,
   "metadata": {
    "scrolled": true
   },
   "outputs": [],
   "source": [
    "# Run TCDF for predictive accuracy\n",
    "\n",
    "%run -i \"evaluate_predictions_TCDF.py\" --data data/random-rels_20_1B_returns30007000_header.csv --learning_rate 0.01 --hidden_layers 1 --epochs 2000 --log_interval 1000 --dilation_coefficient 4 --kernel_size 4 --seed 74632 --plot --train_test_split 0.8"
   ]
  },
  {
   "cell_type": "code",
   "execution_count": null,
   "metadata": {
    "scrolled": true
   },
   "outputs": [],
   "source": [
    "%matplotlib inline\n",
    "\n",
    "# Run TCDF with a provided dataset of Finance (see https://github.com/M-Nauta/TCDF)\n",
    "\n",
    "%run -i \"runTCDF.py\"  --ground_truth data/random-rels_20_1B_returns30007000_header.csv=data/random-rels_20_1B.csv --learning_rate 0.01 --hidden_layers 1 --epochs 5000 --log_interval 1000 --significance 0.8 --dilation_coefficient 4 --kernel_size 4 --seed 99775 --plot"
   ]
  },
  {
   "cell_type": "code",
   "execution_count": null,
   "metadata": {
    "scrolled": true
   },
   "outputs": [],
   "source": [
    "# Run TCDF for predictive accuracy\n",
    "\n",
    "%run -i \"evaluate_predictions_TCDF.py\" --data data/random-rels_20_1B_returns30007000_header.csv --learning_rate 0.01 --hidden_layers 1 --epochs 2000 --log_interval 1000 --dilation_coefficient 4 --kernel_size 4 --seed 99775 --plot --train_test_split 0.8"
   ]
  },
  {
   "cell_type": "markdown",
   "metadata": {},
   "source": [
    "#### TCDF Dataset random-rels_20_1B.csv: second run (in triplicate, 0 hidden layers) "
   ]
  },
  {
   "cell_type": "code",
   "execution_count": null,
   "metadata": {
    "scrolled": true
   },
   "outputs": [],
   "source": [
    "%matplotlib inline\n",
    "\n",
    "# Run TCDF with a provided dataset of Finance (see https://github.com/M-Nauta/TCDF)\n",
    "\n",
    "%run -i \"runTCDF.py\"  --ground_truth data/random-rels_20_1B_returns30007000_header.csv=data/random-rels_20_1B.csv --learning_rate 0.01 --hidden_layers 0 --epochs 5000 --log_interval 1000 --significance 0.8 --dilation_coefficient 4 --kernel_size 4 --seed 14367 --plot"
   ]
  },
  {
   "cell_type": "code",
   "execution_count": null,
   "metadata": {
    "scrolled": true
   },
   "outputs": [],
   "source": [
    "# Run TCDF for predictive accuracy\n",
    "\n",
    "%run -i \"evaluate_predictions_TCDF.py\" --data data/random-rels_20_1B_returns30007000_header.csv --learning_rate 0.01 --hidden_layers 0 --epochs 2000 --log_interval 1000 --dilation_coefficient 4 --kernel_size 4 --seed 14367 --plot --train_test_split 0.8"
   ]
  },
  {
   "cell_type": "code",
   "execution_count": null,
   "metadata": {
    "scrolled": true
   },
   "outputs": [],
   "source": [
    "%matplotlib inline\n",
    "\n",
    "# Run TCDF with a provided dataset of Finance (see https://github.com/M-Nauta/TCDF)\n",
    "\n",
    "%run -i \"runTCDF.py\"  --ground_truth data/random-rels_20_1B_returns30007000_header.csv=data/random-rels_20_1B.csv --learning_rate 0.01 --hidden_layers 0 --epochs 5000 --log_interval 1000 --significance 0.8 --dilation_coefficient 4 --kernel_size 4 --seed 555 --plot"
   ]
  },
  {
   "cell_type": "code",
   "execution_count": null,
   "metadata": {
    "scrolled": true
   },
   "outputs": [],
   "source": [
    "# Run TCDF for predictive accuracy\n",
    "\n",
    "%run -i \"evaluate_predictions_TCDF.py\" --data data/random-rels_20_1B_returns30007000_header.csv --learning_rate 0.01 --hidden_layers 0 --epochs 2000 --log_interval 1000 --dilation_coefficient 4 --kernel_size 4 --seed 555 --plot --train_test_split 0.8"
   ]
  },
  {
   "cell_type": "code",
   "execution_count": null,
   "metadata": {
    "scrolled": true
   },
   "outputs": [],
   "source": [
    "%matplotlib inline\n",
    "\n",
    "# Run TCDF with a provided dataset of Finance (see https://github.com/M-Nauta/TCDF)\n",
    "\n",
    "%run -i \"runTCDF.py\"  --ground_truth data/random-rels_20_1B_returns30007000_header.csv=data/random-rels_20_1B.csv --learning_rate 0.01 --hidden_layers 0 --epochs 5000 --log_interval 1000 --significance 0.8 --dilation_coefficient 4 --kernel_size 4 --seed 71390 --plot"
   ]
  },
  {
   "cell_type": "code",
   "execution_count": null,
   "metadata": {
    "scrolled": true
   },
   "outputs": [],
   "source": [
    "# Run TCDF for predictive accuracy\n",
    "\n",
    "%run -i \"evaluate_predictions_TCDF.py\" --data data/random-rels_20_1B_returns30007000_header.csv --learning_rate 0.01 --hidden_layers 0 --epochs 2000 --log_interval 1000 --dilation_coefficient 4 --kernel_size 4 --seed 71390 --plot --train_test_split 0.8"
   ]
  },
  {
   "cell_type": "markdown",
   "metadata": {},
   "source": [
    "#### TCDF Dataset random-rels_20_1C.csv: first run (in triplicate, 1 hidden layer) "
   ]
  },
  {
   "cell_type": "code",
   "execution_count": null,
   "metadata": {
    "scrolled": true
   },
   "outputs": [],
   "source": [
    "%matplotlib inline\n",
    "\n",
    "# Run TCDF with a provided dataset of Finance (see https://github.com/M-Nauta/TCDF)\n",
    "\n",
    "%run -i \"runTCDF.py\"  --ground_truth data/random-rels_20_1C_returns30007000_header.csv=data/random-rels_20_1C.csv --learning_rate 0.01 --hidden_layers 1 --epochs 5000 --log_interval 1000 --significance 0.8 --dilation_coefficient 4 --kernel_size 4 --seed 31815 --plot"
   ]
  },
  {
   "cell_type": "code",
   "execution_count": null,
   "metadata": {
    "scrolled": true
   },
   "outputs": [],
   "source": [
    "# Run TCDF for predictive accuracy\n",
    "\n",
    "%run -i \"evaluate_predictions_TCDF.py\" --data data/random-rels_20_1C_returns30007000_header.csv --learning_rate 0.01 --hidden_layers 1 --epochs 2000 --log_interval 1000 --dilation_coefficient 4 --kernel_size 4 --seed 31815 --plot --train_test_split 0.8"
   ]
  },
  {
   "cell_type": "code",
   "execution_count": null,
   "metadata": {
    "scrolled": true
   },
   "outputs": [],
   "source": [
    "%matplotlib inline\n",
    "\n",
    "# Run TCDF with a provided dataset of Finance (see https://github.com/M-Nauta/TCDF)\n",
    "\n",
    "%run -i \"runTCDF.py\"  --ground_truth data/random-rels_20_1C_returns30007000_header.csv=data/random-rels_20_1C.csv --learning_rate 0.01 --hidden_layers 1 --epochs 5000 --log_interval 1000 --significance 0.8 --dilation_coefficient 4 --kernel_size 4 --seed 74632 --plot"
   ]
  },
  {
   "cell_type": "code",
   "execution_count": null,
   "metadata": {
    "scrolled": true
   },
   "outputs": [],
   "source": [
    "# Run TCDF for predictive accuracy\n",
    "\n",
    "%run -i \"evaluate_predictions_TCDF.py\" --data data/random-rels_20_1C_returns30007000_header.csv --learning_rate 0.01 --hidden_layers 1 --epochs 2000 --log_interval 1000 --dilation_coefficient 4 --kernel_size 4 --seed 74632 --plot --train_test_split 0.8"
   ]
  },
  {
   "cell_type": "code",
   "execution_count": null,
   "metadata": {
    "scrolled": true
   },
   "outputs": [],
   "source": [
    "%matplotlib inline\n",
    "\n",
    "# Run TCDF with a provided dataset of Finance (see https://github.com/M-Nauta/TCDF)\n",
    "\n",
    "%run -i \"runTCDF.py\"  --ground_truth data/random-rels_20_1C_returns30007000_header.csv=data/random-rels_20_1C.csv --learning_rate 0.01 --hidden_layers 1 --epochs 5000 --log_interval 1000 --significance 0.8 --dilation_coefficient 4 --kernel_size 4 --seed 99775 --plot"
   ]
  },
  {
   "cell_type": "code",
   "execution_count": null,
   "metadata": {
    "scrolled": true
   },
   "outputs": [],
   "source": [
    "# Run TCDF for predictive accuracy\n",
    "\n",
    "%run -i \"evaluate_predictions_TCDF.py\" --data data/random-rels_20_1C_returns30007000_header.csv --learning_rate 0.01 --hidden_layers 1 --epochs 2000 --log_interval 1000 --dilation_coefficient 4 --kernel_size 4 --seed 99775 --plot --train_test_split 0.8"
   ]
  },
  {
   "cell_type": "markdown",
   "metadata": {},
   "source": [
    "#### TCDF Dataset random-rels_20_1C.csv: second run (in triplicate, 0 hidden layers) "
   ]
  },
  {
   "cell_type": "code",
   "execution_count": null,
   "metadata": {
    "scrolled": true
   },
   "outputs": [],
   "source": [
    "%matplotlib inline\n",
    "\n",
    "# Run TCDF with a provided dataset of Finance (see https://github.com/M-Nauta/TCDF)\n",
    "\n",
    "%run -i \"runTCDF.py\"  --ground_truth data/random-rels_20_1C_returns30007000_header.csv=data/random-rels_20_1C.csv --learning_rate 0.01 --hidden_layers 0 --epochs 5000 --log_interval 1000 --significance 0.8 --dilation_coefficient 4 --kernel_size 4 --seed 98545 --plot"
   ]
  },
  {
   "cell_type": "code",
   "execution_count": null,
   "metadata": {
    "scrolled": true
   },
   "outputs": [],
   "source": [
    "# Run TCDF for predictive accuracy\n",
    "\n",
    "%run -i \"evaluate_predictions_TCDF.py\" --data data/random-rels_20_1C_returns30007000_header.csv --learning_rate 0.01 --hidden_layers 0 --epochs 2000 --log_interval 1000 --dilation_coefficient 4 --kernel_size 4 --seed 98545 --plot --train_test_split 0.8"
   ]
  },
  {
   "cell_type": "code",
   "execution_count": null,
   "metadata": {
    "scrolled": true
   },
   "outputs": [],
   "source": [
    "%matplotlib inline\n",
    "\n",
    "# Run TCDF with a provided dataset of Finance (see https://github.com/M-Nauta/TCDF)\n",
    "\n",
    "%run -i \"runTCDF.py\"  --ground_truth data/random-rels_20_1C_returns30007000_header.csv=data/random-rels_20_1C.csv --learning_rate 0.01 --hidden_layers 0 --epochs 5000 --log_interval 1000 --significance 0.8 --dilation_coefficient 4 --kernel_size 4 --seed 26393 --plot"
   ]
  },
  {
   "cell_type": "code",
   "execution_count": null,
   "metadata": {
    "scrolled": true
   },
   "outputs": [],
   "source": [
    "# Run TCDF for predictive accuracy\n",
    "\n",
    "%run -i \"evaluate_predictions_TCDF.py\" --data data/random-rels_20_1C_returns30007000_header.csv --learning_rate 0.01 --hidden_layers 0 --epochs 2000 --log_interval 1000 --dilation_coefficient 4 --kernel_size 4 --seed 26393 --plot --train_test_split 0.8"
   ]
  },
  {
   "cell_type": "code",
   "execution_count": null,
   "metadata": {
    "scrolled": true
   },
   "outputs": [],
   "source": [
    "%matplotlib inline\n",
    "\n",
    "# Run TCDF with a provided dataset of Finance (see https://github.com/M-Nauta/TCDF)\n",
    "\n",
    "%run -i \"runTCDF.py\"  --ground_truth data/random-rels_20_1C_returns30007000_header.csv=data/random-rels_20_1C.csv --learning_rate 0.01 --hidden_layers 0 --epochs 5000 --log_interval 1000 --significance 0.8 --dilation_coefficient 4 --kernel_size 4 --seed 75253 --plot"
   ]
  },
  {
   "cell_type": "code",
   "execution_count": null,
   "metadata": {
    "scrolled": true
   },
   "outputs": [],
   "source": [
    "# Run TCDF for predictive accuracy\n",
    "\n",
    "%run -i \"evaluate_predictions_TCDF.py\" --data data/random-rels_20_1C_returns30007000_header.csv --learning_rate 0.01 --hidden_layers 0 --epochs 2000 --log_interval 1000 --dilation_coefficient 4 --kernel_size 4 --seed 75253 --plot --train_test_split 0.8"
   ]
  },
  {
   "cell_type": "markdown",
   "metadata": {},
   "source": [
    "#### TCDF Dataset random-rels_20_1D.csv: first run (in triplicate, 1 hidden layer) "
   ]
  },
  {
   "cell_type": "code",
   "execution_count": null,
   "metadata": {
    "scrolled": true
   },
   "outputs": [],
   "source": [
    "%matplotlib inline\n",
    "\n",
    "# Run TCDF with a provided dataset of Finance (see https://github.com/M-Nauta/TCDF)\n",
    "\n",
    "%run -i \"runTCDF.py\"  --ground_truth data/random-rels_20_1D_returns30007000_header.csv=data/random-rels_20_1D.csv --learning_rate 0.01 --hidden_layers 1 --epochs 5000 --log_interval 1000 --significance 0.8 --dilation_coefficient 4 --kernel_size 4 --seed 33516 --plot"
   ]
  },
  {
   "cell_type": "code",
   "execution_count": null,
   "metadata": {
    "scrolled": true
   },
   "outputs": [],
   "source": [
    "# Run TCDF for predictive accuracy\n",
    "\n",
    "%run -i \"evaluate_predictions_TCDF.py\" --data data/random-rels_20_1D_returns30007000_header.csv --learning_rate 0.01 --hidden_layers 1 --epochs 2000 --log_interval 1000 --dilation_coefficient 4 --kernel_size 4 --seed 33516 --plot --train_test_split 0.8"
   ]
  },
  {
   "cell_type": "code",
   "execution_count": null,
   "metadata": {
    "scrolled": true
   },
   "outputs": [],
   "source": [
    "%matplotlib inline\n",
    "\n",
    "# Run TCDF with a provided dataset of Finance (see https://github.com/M-Nauta/TCDF)\n",
    "\n",
    "%run -i \"runTCDF.py\"  --ground_truth data/random-rels_20_1D_returns30007000_header.csv=data/random-rels_20_1D.csv --learning_rate 0.01 --hidden_layers 1 --epochs 5000 --log_interval 1000 --significance 0.8 --dilation_coefficient 4 --kernel_size 4 --seed 10878 --plot"
   ]
  },
  {
   "cell_type": "code",
   "execution_count": null,
   "metadata": {
    "scrolled": true
   },
   "outputs": [],
   "source": [
    "# Run TCDF for predictive accuracy\n",
    "\n",
    "%run -i \"evaluate_predictions_TCDF.py\" --data data/random-rels_20_1D_returns30007000_header.csv --learning_rate 0.01 --hidden_layers 1 --epochs 2000 --log_interval 1000 --dilation_coefficient 4 --kernel_size 4 --seed 10878 --plot --train_test_split 0.8"
   ]
  },
  {
   "cell_type": "code",
   "execution_count": null,
   "metadata": {
    "scrolled": true
   },
   "outputs": [],
   "source": [
    "%matplotlib inline\n",
    "\n",
    "# Run TCDF with a provided dataset of Finance (see https://github.com/M-Nauta/TCDF)\n",
    "\n",
    "%run -i \"runTCDF.py\"  --ground_truth data/random-rels_20_1D_returns30007000_header.csv=data/random-rels_20_1D.csv --learning_rate 0.01 --hidden_layers 1 --epochs 5000 --log_interval 1000 --significance 0.8 --dilation_coefficient 4 --kernel_size 4 --seed 87051 --plot"
   ]
  },
  {
   "cell_type": "code",
   "execution_count": null,
   "metadata": {
    "scrolled": true
   },
   "outputs": [],
   "source": [
    "# Run TCDF for predictive accuracy\n",
    "\n",
    "%run -i \"evaluate_predictions_TCDF.py\" --data data/random-rels_20_1D_returns30007000_header.csv --learning_rate 0.01 --hidden_layers 1 --epochs 2000 --log_interval 1000 --dilation_coefficient 4 --kernel_size 4 --seed 87051 --plot --train_test_split 0.8"
   ]
  },
  {
   "cell_type": "markdown",
   "metadata": {},
   "source": [
    "#### TCDF Dataset random-rels_20_1D.csv: second run (in triplicate, 0 hidden layers) "
   ]
  },
  {
   "cell_type": "code",
   "execution_count": null,
   "metadata": {
    "scrolled": true
   },
   "outputs": [],
   "source": [
    "%matplotlib inline\n",
    "\n",
    "# Run TCDF with a provided dataset of Finance (see https://github.com/M-Nauta/TCDF)\n",
    "\n",
    "%run -i \"runTCDF.py\"  --ground_truth data/random-rels_20_1D_returns30007000_header.csv=data/random-rels_20_1D.csv --learning_rate 0.01 --hidden_layers 0 --epochs 5000 --log_interval 1000 --significance 0.8 --dilation_coefficient 4 --kernel_size 4 --seed 9084 --plot"
   ]
  },
  {
   "cell_type": "code",
   "execution_count": null,
   "metadata": {
    "scrolled": true
   },
   "outputs": [],
   "source": [
    "# Run TCDF for predictive accuracy\n",
    "\n",
    "%run -i \"evaluate_predictions_TCDF.py\" --data data/random-rels_20_1D_returns30007000_header.csv --learning_rate 0.01 --hidden_layers 0 --epochs 2000 --log_interval 1000 --dilation_coefficient 4 --kernel_size 4 --seed 9084 --plot --train_test_split 0.8"
   ]
  },
  {
   "cell_type": "code",
   "execution_count": null,
   "metadata": {
    "scrolled": true
   },
   "outputs": [],
   "source": [
    "%matplotlib inline\n",
    "\n",
    "# Run TCDF with a provided dataset of Finance (see https://github.com/M-Nauta/TCDF)\n",
    "\n",
    "%run -i \"runTCDF.py\"  --ground_truth data/random-rels_20_1D_returns30007000_header.csv=data/random-rels_20_1D.csv --learning_rate 0.01 --hidden_layers 0 --epochs 5000 --log_interval 1000 --significance 0.8 --dilation_coefficient 4 --kernel_size 4 --seed 83667 --plot"
   ]
  },
  {
   "cell_type": "code",
   "execution_count": null,
   "metadata": {
    "scrolled": true
   },
   "outputs": [],
   "source": [
    "# Run TCDF for predictive accuracy\n",
    "\n",
    "%run -i \"evaluate_predictions_TCDF.py\" --data data/random-rels_20_1D_returns30007000_header.csv --learning_rate 0.01 --hidden_layers 0 --epochs 2000 --log_interval 1000 --dilation_coefficient 4 --kernel_size 4 --seed 83667 --plot --train_test_split 0.8"
   ]
  },
  {
   "cell_type": "code",
   "execution_count": null,
   "metadata": {
    "scrolled": true
   },
   "outputs": [],
   "source": [
    "%matplotlib inline\n",
    "\n",
    "# Run TCDF with a provided dataset of Finance (see https://github.com/M-Nauta/TCDF)\n",
    "\n",
    "%run -i \"runTCDF.py\"  --ground_truth data/random-rels_20_1D_returns30007000_header.csv=data/random-rels_20_1D.csv --learning_rate 0.01 --hidden_layers 0 --epochs 5000 --log_interval 1000 --significance 0.8 --dilation_coefficient 4 --kernel_size 4 --seed 75145 --plot"
   ]
  },
  {
   "cell_type": "code",
   "execution_count": null,
   "metadata": {
    "scrolled": true
   },
   "outputs": [],
   "source": [
    "# Run TCDF for predictive accuracy\n",
    "\n",
    "%run -i \"evaluate_predictions_TCDF.py\" --data data/random-rels_20_1D_returns30007000_header.csv --learning_rate 0.01 --hidden_layers 0 --epochs 2000 --log_interval 1000 --dilation_coefficient 4 --kernel_size 4 --seed 75145 --plot --train_test_split 0.8"
   ]
  },
  {
   "cell_type": "markdown",
   "metadata": {},
   "source": [
    "#### TCDF Dataset random-rels_20_1E.csv: first run (in triplicate, 1 hidden layer) "
   ]
  },
  {
   "cell_type": "code",
   "execution_count": null,
   "metadata": {
    "scrolled": true
   },
   "outputs": [],
   "source": [
    "%matplotlib inline\n",
    "\n",
    "# Run TCDF with a provided dataset of Finance (see https://github.com/M-Nauta/TCDF)\n",
    "\n",
    "%run -i \"runTCDF.py\"  --ground_truth data/random-rels_20_1E_returns30007000_header.csv=data/random-rels_20_1E.csv --learning_rate 0.01 --hidden_layers 1 --epochs 5000 --log_interval 1000 --significance 0.8 --dilation_coefficient 4 --kernel_size 4 --seed 406 --plot"
   ]
  },
  {
   "cell_type": "code",
   "execution_count": null,
   "metadata": {
    "scrolled": true
   },
   "outputs": [],
   "source": [
    "# Run TCDF for predictive accuracy\n",
    "\n",
    "%run -i \"evaluate_predictions_TCDF.py\" --data data/random-rels_20_1E_returns30007000_header.csv --learning_rate 0.01 --hidden_layers 1 --epochs 2000 --log_interval 1000 --dilation_coefficient 4 --kernel_size 4 --seed 406 --plot --train_test_split 0.8"
   ]
  },
  {
   "cell_type": "code",
   "execution_count": null,
   "metadata": {
    "scrolled": true
   },
   "outputs": [],
   "source": [
    "%matplotlib inline\n",
    "\n",
    "# Run TCDF with a provided dataset of Finance (see https://github.com/M-Nauta/TCDF)\n",
    "\n",
    "%run -i \"runTCDF.py\"  --ground_truth data/random-rels_20_1E_returns30007000_header.csv=data/random-rels_20_1E.csv --learning_rate 0.01 --hidden_layers 1 --epochs 5000 --log_interval 1000 --significance 0.8 --dilation_coefficient 4 --kernel_size 4 --seed 25495 --plot"
   ]
  },
  {
   "cell_type": "code",
   "execution_count": null,
   "metadata": {
    "scrolled": true
   },
   "outputs": [],
   "source": [
    "# Run TCDF for predictive accuracy\n",
    "\n",
    "%run -i \"evaluate_predictions_TCDF.py\" --data data/random-rels_20_1E_returns30007000_header.csv --learning_rate 0.01 --hidden_layers 1 --epochs 2000 --log_interval 1000 --dilation_coefficient 4 --kernel_size 4 --seed 25495 --plot --train_test_split 0.8"
   ]
  },
  {
   "cell_type": "code",
   "execution_count": null,
   "metadata": {
    "scrolled": true
   },
   "outputs": [],
   "source": [
    "%matplotlib inline\n",
    "\n",
    "# Run TCDF with a provided dataset of Finance (see https://github.com/M-Nauta/TCDF)\n",
    "\n",
    "%run -i \"runTCDF.py\"  --ground_truth data/random-rels_20_1E_returns30007000_header.csv=data/random-rels_20_1E.csv --learning_rate 0.01 --hidden_layers 1 --epochs 5000 --log_interval 1000 --significance 0.8 --dilation_coefficient 4 --kernel_size 4 --seed 96564 --plot"
   ]
  },
  {
   "cell_type": "code",
   "execution_count": null,
   "metadata": {
    "scrolled": true
   },
   "outputs": [],
   "source": [
    "# Run TCDF for predictive accuracy\n",
    "\n",
    "%run -i \"evaluate_predictions_TCDF.py\" --data data/random-rels_20_1E_returns30007000_header.csv --learning_rate 0.01 --hidden_layers 1 --epochs 2000 --log_interval 1000 --dilation_coefficient 4 --kernel_size 4 --seed 96564 --plot --train_test_split 0.8"
   ]
  },
  {
   "cell_type": "markdown",
   "metadata": {},
   "source": [
    "#### TCDF Dataset random-rels_20_1E.csv: second run (in triplicate, 0 hidden layers) "
   ]
  },
  {
   "cell_type": "code",
   "execution_count": null,
   "metadata": {
    "scrolled": true
   },
   "outputs": [],
   "source": [
    "%matplotlib inline\n",
    "\n",
    "# Run TCDF with a provided dataset of Finance (see https://github.com/M-Nauta/TCDF)\n",
    "\n",
    "%run -i \"runTCDF.py\"  --ground_truth data/random-rels_20_1E_returns30007000_header.csv=data/random-rels_20_1E.csv --learning_rate 0.01 --hidden_layers 0 --epochs 5000 --log_interval 1000 --significance 0.8 --dilation_coefficient 4 --kernel_size 4 --seed 2324 --plot"
   ]
  },
  {
   "cell_type": "code",
   "execution_count": null,
   "metadata": {
    "scrolled": true
   },
   "outputs": [],
   "source": [
    "# Run TCDF for predictive accuracy\n",
    "\n",
    "%run -i \"evaluate_predictions_TCDF.py\" --data data/random-rels_20_1E_returns30007000_header.csv --learning_rate 0.01 --hidden_layers 0 --epochs 2000 --log_interval 1000 --dilation_coefficient 4 --kernel_size 4 --seed 2324 --plot --train_test_split 0.8"
   ]
  },
  {
   "cell_type": "code",
   "execution_count": null,
   "metadata": {
    "scrolled": true
   },
   "outputs": [],
   "source": [
    "%matplotlib inline\n",
    "\n",
    "# Run TCDF with a provided dataset of Finance (see https://github.com/M-Nauta/TCDF)\n",
    "\n",
    "%run -i \"runTCDF.py\"  --ground_truth data/random-rels_20_1E_returns30007000_header.csv=data/random-rels_20_1E.csv --learning_rate 0.01 --hidden_layers 0 --epochs 5000 --log_interval 1000 --significance 0.8 --dilation_coefficient 4 --kernel_size 4 --seed 33030 --plot"
   ]
  },
  {
   "cell_type": "code",
   "execution_count": null,
   "metadata": {
    "scrolled": true
   },
   "outputs": [],
   "source": [
    "# Run TCDF for predictive accuracy\n",
    "\n",
    "%run -i \"evaluate_predictions_TCDF.py\" --data data/random-rels_20_1E_returns30007000_header.csv --learning_rate 0.01 --hidden_layers 0 --epochs 2000 --log_interval 1000 --dilation_coefficient 4 --kernel_size 4 --seed 33030 --plot --train_test_split 0.8"
   ]
  },
  {
   "cell_type": "code",
   "execution_count": null,
   "metadata": {
    "scrolled": true
   },
   "outputs": [],
   "source": [
    "%matplotlib inline\n",
    "\n",
    "# Run TCDF with a provided dataset of Finance (see https://github.com/M-Nauta/TCDF)\n",
    "\n",
    "%run -i \"runTCDF.py\"  --ground_truth data/random-rels_20_1E_returns30007000_header.csv=data/random-rels_20_1E.csv --learning_rate 0.01 --hidden_layers 0 --epochs 5000 --log_interval 1000 --significance 0.8 --dilation_coefficient 4 --kernel_size 4 --seed 29838 --plot"
   ]
  },
  {
   "cell_type": "code",
   "execution_count": null,
   "metadata": {
    "scrolled": true
   },
   "outputs": [],
   "source": [
    "# Run TCDF for predictive accuracy\n",
    "\n",
    "%run -i \"evaluate_predictions_TCDF.py\" --data data/random-rels_20_1E_returns30007000_header.csv --learning_rate 0.01 --hidden_layers 0 --epochs 2000 --log_interval 1000 --dilation_coefficient 4 --kernel_size 4 --seed 29838 --plot --train_test_split 0.8"
   ]
  },
  {
   "cell_type": "markdown",
   "metadata": {},
   "source": [
    "#### TCDF Dataset random-rels_20_1_3.csv: first run (in triplicate, 1 hidden layer) "
   ]
  },
  {
   "cell_type": "code",
   "execution_count": 3,
   "metadata": {
    "scrolled": true
   },
   "outputs": [
    {
     "ename": "KeyboardInterrupt",
     "evalue": "",
     "output_type": "error",
     "traceback": [
      "\u001b[1;31m---------------------------------------------------------------------------\u001b[0m",
      "\u001b[1;31mKeyboardInterrupt\u001b[0m                         Traceback (most recent call last)",
      "\u001b[1;32m~\\Documents\\GitHub\\thesis\\TCDF\\runTCDF.py\u001b[0m in \u001b[0;36m<module>\u001b[1;34m\u001b[0m\n\u001b[1;32m----> 1\u001b[1;33m \u001b[1;32mimport\u001b[0m \u001b[0mTCDF\u001b[0m\u001b[1;33m\u001b[0m\u001b[1;33m\u001b[0m\u001b[0m\n\u001b[0m\u001b[0;32m      2\u001b[0m \u001b[1;32mimport\u001b[0m \u001b[0margparse\u001b[0m\u001b[1;33m\u001b[0m\u001b[1;33m\u001b[0m\u001b[0m\n\u001b[0;32m      3\u001b[0m \u001b[1;32mimport\u001b[0m \u001b[0mtorch\u001b[0m\u001b[1;33m\u001b[0m\u001b[1;33m\u001b[0m\u001b[0m\n\u001b[0;32m      4\u001b[0m \u001b[1;32mimport\u001b[0m \u001b[0mpandas\u001b[0m \u001b[1;32mas\u001b[0m \u001b[0mpd\u001b[0m\u001b[1;33m\u001b[0m\u001b[1;33m\u001b[0m\u001b[0m\n\u001b[0;32m      5\u001b[0m \u001b[1;32mimport\u001b[0m \u001b[0mnumpy\u001b[0m \u001b[1;32mas\u001b[0m \u001b[0mnp\u001b[0m\u001b[1;33m\u001b[0m\u001b[1;33m\u001b[0m\u001b[0m\n",
      "\u001b[1;32m~\\Anaconda3\\lib\\importlib\\_bootstrap.py\u001b[0m in \u001b[0;36m_find_and_load\u001b[1;34m(name, import_)\u001b[0m\n",
      "\u001b[1;32m~\\Anaconda3\\lib\\importlib\\_bootstrap.py\u001b[0m in \u001b[0;36m_find_and_load_unlocked\u001b[1;34m(name, import_)\u001b[0m\n",
      "\u001b[1;32m~\\Anaconda3\\lib\\importlib\\_bootstrap.py\u001b[0m in \u001b[0;36m_load_unlocked\u001b[1;34m(spec)\u001b[0m\n",
      "\u001b[1;32m~\\Anaconda3\\lib\\importlib\\_bootstrap_external.py\u001b[0m in \u001b[0;36mexec_module\u001b[1;34m(self, module)\u001b[0m\n",
      "\u001b[1;32m~\\Anaconda3\\lib\\importlib\\_bootstrap_external.py\u001b[0m in \u001b[0;36mget_code\u001b[1;34m(self, fullname)\u001b[0m\n",
      "\u001b[1;32m~\\Anaconda3\\lib\\importlib\\_bootstrap_external.py\u001b[0m in \u001b[0;36mget_data\u001b[1;34m(self, path)\u001b[0m\n",
      "\u001b[1;31mKeyboardInterrupt\u001b[0m: "
     ]
    }
   ],
   "source": [
    "%matplotlib inline\n",
    "\n",
    "# Run TCDF with a provided dataset of Finance (see https://github.com/M-Nauta/TCDF)\n",
    "\n",
    "%run -i \"runTCDF.py\"  --ground_truth data/random-rels_20_1_3_returns30007000_header.csv=data/random-rels_20_1_3.csv --learning_rate 0.01 --hidden_layers 1 --epochs 5000 --log_interval 1000 --significance 0.8 --dilation_coefficient 4 --kernel_size 4 --seed 5467 --plot"
   ]
  },
  {
   "cell_type": "code",
   "execution_count": 4,
   "metadata": {
    "scrolled": true
   },
   "outputs": [
    {
     "ename": "KeyboardInterrupt",
     "evalue": "",
     "output_type": "error",
     "traceback": [
      "\u001b[1;31m---------------------------------------------------------------------------\u001b[0m",
      "\u001b[1;31mKeyboardInterrupt\u001b[0m                         Traceback (most recent call last)",
      "\u001b[1;32m~\\Documents\\GitHub\\thesis\\TCDF\\evaluate_predictions_TCDF.py\u001b[0m in \u001b[0;36m<module>\u001b[1;34m\u001b[0m\n\u001b[1;32m----> 1\u001b[1;33m \u001b[1;32mimport\u001b[0m \u001b[0mTCDF\u001b[0m\u001b[1;33m\u001b[0m\u001b[1;33m\u001b[0m\u001b[0m\n\u001b[0m\u001b[0;32m      2\u001b[0m \u001b[1;32mimport\u001b[0m \u001b[0margparse\u001b[0m\u001b[1;33m\u001b[0m\u001b[1;33m\u001b[0m\u001b[0m\n\u001b[0;32m      3\u001b[0m \u001b[1;32mimport\u001b[0m \u001b[0mtorch\u001b[0m\u001b[1;33m\u001b[0m\u001b[1;33m\u001b[0m\u001b[0m\n\u001b[0;32m      4\u001b[0m \u001b[1;32mimport\u001b[0m \u001b[0mtorch\u001b[0m\u001b[1;33m.\u001b[0m\u001b[0moptim\u001b[0m \u001b[1;32mas\u001b[0m \u001b[0moptim\u001b[0m\u001b[1;33m\u001b[0m\u001b[1;33m\u001b[0m\u001b[0m\n\u001b[0;32m      5\u001b[0m \u001b[1;32mfrom\u001b[0m \u001b[0mmodel\u001b[0m \u001b[1;32mimport\u001b[0m \u001b[0mADDSTCN\u001b[0m\u001b[1;33m\u001b[0m\u001b[1;33m\u001b[0m\u001b[0m\n",
      "\u001b[1;32m~\\Documents\\GitHub\\thesis\\TCDF\\TCDF.py\u001b[0m in \u001b[0;36m<module>\u001b[1;34m\u001b[0m\n\u001b[1;32m----> 1\u001b[1;33m \u001b[1;32mimport\u001b[0m \u001b[0mtorch\u001b[0m\u001b[1;33m\u001b[0m\u001b[1;33m\u001b[0m\u001b[0m\n\u001b[0m\u001b[0;32m      2\u001b[0m \u001b[1;32mimport\u001b[0m \u001b[0mtorch\u001b[0m\u001b[1;33m.\u001b[0m\u001b[0moptim\u001b[0m \u001b[1;32mas\u001b[0m \u001b[0moptim\u001b[0m\u001b[1;33m\u001b[0m\u001b[1;33m\u001b[0m\u001b[0m\n\u001b[0;32m      3\u001b[0m \u001b[1;32mimport\u001b[0m \u001b[0mtorch\u001b[0m\u001b[1;33m.\u001b[0m\u001b[0mnn\u001b[0m\u001b[1;33m.\u001b[0m\u001b[0mfunctional\u001b[0m \u001b[1;32mas\u001b[0m \u001b[0mF\u001b[0m\u001b[1;33m\u001b[0m\u001b[1;33m\u001b[0m\u001b[0m\n\u001b[0;32m      4\u001b[0m \u001b[1;32mfrom\u001b[0m \u001b[0mtorch\u001b[0m\u001b[1;33m.\u001b[0m\u001b[0mautograd\u001b[0m \u001b[1;32mimport\u001b[0m \u001b[0mVariable\u001b[0m\u001b[1;33m\u001b[0m\u001b[1;33m\u001b[0m\u001b[0m\n\u001b[0;32m      5\u001b[0m \u001b[1;32mfrom\u001b[0m \u001b[0mmodel\u001b[0m \u001b[1;32mimport\u001b[0m \u001b[0mADDSTCN\u001b[0m\u001b[1;33m\u001b[0m\u001b[1;33m\u001b[0m\u001b[0m\n",
      "\u001b[1;32m~\\Anaconda3\\lib\\site-packages\\torch\\__init__.py\u001b[0m in \u001b[0;36m<module>\u001b[1;34m\u001b[0m\n\u001b[0;32m    117\u001b[0m         \u001b[0mis_loaded\u001b[0m \u001b[1;33m=\u001b[0m \u001b[1;32mFalse\u001b[0m\u001b[1;33m\u001b[0m\u001b[1;33m\u001b[0m\u001b[0m\n\u001b[0;32m    118\u001b[0m         \u001b[1;32mif\u001b[0m \u001b[0mwith_load_library_flags\u001b[0m\u001b[1;33m:\u001b[0m\u001b[1;33m\u001b[0m\u001b[1;33m\u001b[0m\u001b[0m\n\u001b[1;32m--> 119\u001b[1;33m             \u001b[0mres\u001b[0m \u001b[1;33m=\u001b[0m \u001b[0mkernel32\u001b[0m\u001b[1;33m.\u001b[0m\u001b[0mLoadLibraryExW\u001b[0m\u001b[1;33m(\u001b[0m\u001b[0mdll\u001b[0m\u001b[1;33m,\u001b[0m \u001b[1;32mNone\u001b[0m\u001b[1;33m,\u001b[0m \u001b[1;36m0x00001100\u001b[0m\u001b[1;33m)\u001b[0m\u001b[1;33m\u001b[0m\u001b[1;33m\u001b[0m\u001b[0m\n\u001b[0m\u001b[0;32m    120\u001b[0m             \u001b[0mlast_error\u001b[0m \u001b[1;33m=\u001b[0m \u001b[0mctypes\u001b[0m\u001b[1;33m.\u001b[0m\u001b[0mget_last_error\u001b[0m\u001b[1;33m(\u001b[0m\u001b[1;33m)\u001b[0m\u001b[1;33m\u001b[0m\u001b[1;33m\u001b[0m\u001b[0m\n\u001b[0;32m    121\u001b[0m             \u001b[1;32mif\u001b[0m \u001b[0mres\u001b[0m \u001b[1;32mis\u001b[0m \u001b[1;32mNone\u001b[0m \u001b[1;32mand\u001b[0m \u001b[0mlast_error\u001b[0m \u001b[1;33m!=\u001b[0m \u001b[1;36m126\u001b[0m\u001b[1;33m:\u001b[0m\u001b[1;33m\u001b[0m\u001b[1;33m\u001b[0m\u001b[0m\n",
      "\u001b[1;31mKeyboardInterrupt\u001b[0m: "
     ]
    }
   ],
   "source": [
    "# Run TCDF for predictive accuracy\n",
    "\n",
    "%run -i \"evaluate_predictions_TCDF.py\" --data data/random-rels_20_1_3_returns30007000_header.csv --learning_rate 0.01 --hidden_layers 1 --epochs 2000 --log_interval 1000 --dilation_coefficient 4 --kernel_size 4 --seed 5467 --plot --train_test_split 0.8"
   ]
  },
  {
   "cell_type": "code",
   "execution_count": 5,
   "metadata": {
    "scrolled": true
   },
   "outputs": [
    {
     "name": "stdout",
     "output_type": "stream",
     "text": [
      "Arguments: Namespace(cuda=False, data=None, dilation_coefficient=4, early_stopping=True, epochs=5000, ground_truth={'data/random-rels_20_1_3_returns30007000_header.csv': 'data/random-rels_20_1_3.csv'}, hidden_layers=1, kernel_size=4, learning_rate=0.01, log_interval=1000, lr_scheduler=True, optimizer='Adam', plot=True, seed=88232, significance=0.8)\n",
      "\n",
      " Dataset:  random-rels_20_1_3_returns30007000_header.csv\n"
     ]
    },
    {
     "ename": "KeyboardInterrupt",
     "evalue": "",
     "output_type": "error",
     "traceback": [
      "\u001b[1;31m---------------------------------------------------------------------------\u001b[0m",
      "\u001b[1;31mKeyboardInterrupt\u001b[0m                         Traceback (most recent call last)",
      "\u001b[1;32m~\\Documents\\GitHub\\thesis\\TCDF\\runTCDF.py\u001b[0m in \u001b[0;36m<module>\u001b[1;34m\u001b[0m\n\u001b[0;32m    356\u001b[0m \u001b[1;32mif\u001b[0m \u001b[0margs\u001b[0m\u001b[1;33m.\u001b[0m\u001b[0mground_truth\u001b[0m \u001b[1;32mis\u001b[0m \u001b[1;32mnot\u001b[0m \u001b[1;32mNone\u001b[0m\u001b[1;33m:\u001b[0m\u001b[1;33m\u001b[0m\u001b[1;33m\u001b[0m\u001b[0m\n\u001b[0;32m    357\u001b[0m     \u001b[0mdatafiles\u001b[0m \u001b[1;33m=\u001b[0m \u001b[0margs\u001b[0m\u001b[1;33m.\u001b[0m\u001b[0mground_truth\u001b[0m\u001b[1;33m\u001b[0m\u001b[1;33m\u001b[0m\u001b[0m\n\u001b[1;32m--> 358\u001b[1;33m     \u001b[0mmain\u001b[0m\u001b[1;33m(\u001b[0m\u001b[0mdatafiles\u001b[0m\u001b[1;33m,\u001b[0m \u001b[0mevaluation\u001b[0m\u001b[1;33m=\u001b[0m\u001b[1;32mTrue\u001b[0m\u001b[1;33m)\u001b[0m\u001b[1;33m\u001b[0m\u001b[1;33m\u001b[0m\u001b[0m\n\u001b[0m\u001b[0;32m    359\u001b[0m \u001b[1;33m\u001b[0m\u001b[0m\n\u001b[0;32m    360\u001b[0m \u001b[1;32melse\u001b[0m\u001b[1;33m:\u001b[0m\u001b[1;33m\u001b[0m\u001b[1;33m\u001b[0m\u001b[0m\n",
      "\u001b[1;32m~\\Documents\\GitHub\\thesis\\TCDF\\runTCDF.py\u001b[0m in \u001b[0;36mmain\u001b[1;34m(datafiles, evaluation)\u001b[0m\n\u001b[0;32m    268\u001b[0m \u001b[1;33m\u001b[0m\u001b[0m\n\u001b[0;32m    269\u001b[0m         \u001b[1;31m# run TCDF\u001b[0m\u001b[1;33m\u001b[0m\u001b[1;33m\u001b[0m\u001b[1;33m\u001b[0m\u001b[0m\n\u001b[1;32m--> 270\u001b[1;33m         \u001b[0mallcauses\u001b[0m\u001b[1;33m,\u001b[0m \u001b[0malldelays\u001b[0m\u001b[1;33m,\u001b[0m \u001b[0mallreallosses\u001b[0m\u001b[1;33m,\u001b[0m \u001b[0mallscores\u001b[0m\u001b[1;33m,\u001b[0m \u001b[0mcolumns\u001b[0m\u001b[1;33m,\u001b[0m \u001b[0malllosses\u001b[0m \u001b[1;33m=\u001b[0m \u001b[0mrunTCDF\u001b[0m\u001b[1;33m(\u001b[0m\u001b[0mdatafile\u001b[0m\u001b[1;33m)\u001b[0m \u001b[1;31m#results of TCDF containing indices of causes and effects\u001b[0m\u001b[1;33m\u001b[0m\u001b[1;33m\u001b[0m\u001b[0m\n\u001b[0m\u001b[0;32m    271\u001b[0m \u001b[1;33m\u001b[0m\u001b[0m\n\u001b[0;32m    272\u001b[0m         \u001b[0mprint\u001b[0m\u001b[1;33m(\u001b[0m\u001b[1;34m\"\\n===================Results for\"\u001b[0m\u001b[1;33m,\u001b[0m \u001b[0mstringdatafile\u001b[0m\u001b[1;33m,\u001b[0m\u001b[1;34m\"==================================\"\u001b[0m\u001b[1;33m)\u001b[0m\u001b[1;33m\u001b[0m\u001b[1;33m\u001b[0m\u001b[0m\n",
      "\u001b[1;32m~\\Documents\\GitHub\\thesis\\TCDF\\runTCDF.py\u001b[0m in \u001b[0;36mrunTCDF\u001b[1;34m(datafile)\u001b[0m\n\u001b[0;32m    192\u001b[0m \u001b[1;32mdef\u001b[0m \u001b[0mrunTCDF\u001b[0m\u001b[1;33m(\u001b[0m\u001b[0mdatafile\u001b[0m\u001b[1;33m)\u001b[0m\u001b[1;33m:\u001b[0m\u001b[1;33m\u001b[0m\u001b[1;33m\u001b[0m\u001b[0m\n\u001b[0;32m    193\u001b[0m     \u001b[1;34m\"\"\"Loops through all variables in a dataset and return the discovered causes, time delays, losses, attention scores and variable names.\"\"\"\u001b[0m\u001b[1;33m\u001b[0m\u001b[1;33m\u001b[0m\u001b[0m\n\u001b[1;32m--> 194\u001b[1;33m     \u001b[0mdf_data\u001b[0m \u001b[1;33m=\u001b[0m \u001b[0mpd\u001b[0m\u001b[1;33m.\u001b[0m\u001b[0mread_csv\u001b[0m\u001b[1;33m(\u001b[0m\u001b[0mdatafile\u001b[0m\u001b[1;33m)\u001b[0m\u001b[1;33m\u001b[0m\u001b[1;33m\u001b[0m\u001b[0m\n\u001b[0m\u001b[0;32m    195\u001b[0m \u001b[1;33m\u001b[0m\u001b[0m\n\u001b[0;32m    196\u001b[0m     \u001b[0mallcauses\u001b[0m \u001b[1;33m=\u001b[0m \u001b[0mdict\u001b[0m\u001b[1;33m(\u001b[0m\u001b[1;33m)\u001b[0m\u001b[1;33m\u001b[0m\u001b[1;33m\u001b[0m\u001b[0m\n",
      "\u001b[1;32m~\\Anaconda3\\lib\\site-packages\\pandas\\io\\parsers.py\u001b[0m in \u001b[0;36mread_csv\u001b[1;34m(filepath_or_buffer, sep, delimiter, header, names, index_col, usecols, squeeze, prefix, mangle_dupe_cols, dtype, engine, converters, true_values, false_values, skipinitialspace, skiprows, skipfooter, nrows, na_values, keep_default_na, na_filter, verbose, skip_blank_lines, parse_dates, infer_datetime_format, keep_date_col, date_parser, dayfirst, cache_dates, iterator, chunksize, compression, thousands, decimal, lineterminator, quotechar, quoting, doublequote, escapechar, comment, encoding, dialect, error_bad_lines, warn_bad_lines, delim_whitespace, low_memory, memory_map, float_precision, storage_options)\u001b[0m\n\u001b[0;32m    608\u001b[0m     \u001b[0mkwds\u001b[0m\u001b[1;33m.\u001b[0m\u001b[0mupdate\u001b[0m\u001b[1;33m(\u001b[0m\u001b[0mkwds_defaults\u001b[0m\u001b[1;33m)\u001b[0m\u001b[1;33m\u001b[0m\u001b[1;33m\u001b[0m\u001b[0m\n\u001b[0;32m    609\u001b[0m \u001b[1;33m\u001b[0m\u001b[0m\n\u001b[1;32m--> 610\u001b[1;33m     \u001b[1;32mreturn\u001b[0m \u001b[0m_read\u001b[0m\u001b[1;33m(\u001b[0m\u001b[0mfilepath_or_buffer\u001b[0m\u001b[1;33m,\u001b[0m \u001b[0mkwds\u001b[0m\u001b[1;33m)\u001b[0m\u001b[1;33m\u001b[0m\u001b[1;33m\u001b[0m\u001b[0m\n\u001b[0m\u001b[0;32m    611\u001b[0m \u001b[1;33m\u001b[0m\u001b[0m\n\u001b[0;32m    612\u001b[0m \u001b[1;33m\u001b[0m\u001b[0m\n",
      "\u001b[1;32m~\\Anaconda3\\lib\\site-packages\\pandas\\io\\parsers.py\u001b[0m in \u001b[0;36m_read\u001b[1;34m(filepath_or_buffer, kwds)\u001b[0m\n\u001b[0;32m    466\u001b[0m \u001b[1;33m\u001b[0m\u001b[0m\n\u001b[0;32m    467\u001b[0m     \u001b[1;32mwith\u001b[0m \u001b[0mparser\u001b[0m\u001b[1;33m:\u001b[0m\u001b[1;33m\u001b[0m\u001b[1;33m\u001b[0m\u001b[0m\n\u001b[1;32m--> 468\u001b[1;33m         \u001b[1;32mreturn\u001b[0m \u001b[0mparser\u001b[0m\u001b[1;33m.\u001b[0m\u001b[0mread\u001b[0m\u001b[1;33m(\u001b[0m\u001b[0mnrows\u001b[0m\u001b[1;33m)\u001b[0m\u001b[1;33m\u001b[0m\u001b[1;33m\u001b[0m\u001b[0m\n\u001b[0m\u001b[0;32m    469\u001b[0m \u001b[1;33m\u001b[0m\u001b[0m\n\u001b[0;32m    470\u001b[0m \u001b[1;33m\u001b[0m\u001b[0m\n",
      "\u001b[1;32m~\\Anaconda3\\lib\\site-packages\\pandas\\io\\parsers.py\u001b[0m in \u001b[0;36mread\u001b[1;34m(self, nrows)\u001b[0m\n\u001b[0;32m   1067\u001b[0m             \u001b[0mnew_rows\u001b[0m \u001b[1;33m=\u001b[0m \u001b[0mlen\u001b[0m\u001b[1;33m(\u001b[0m\u001b[0mindex\u001b[0m\u001b[1;33m)\u001b[0m\u001b[1;33m\u001b[0m\u001b[1;33m\u001b[0m\u001b[0m\n\u001b[0;32m   1068\u001b[0m \u001b[1;33m\u001b[0m\u001b[0m\n\u001b[1;32m-> 1069\u001b[1;33m         \u001b[0mdf\u001b[0m \u001b[1;33m=\u001b[0m \u001b[0mDataFrame\u001b[0m\u001b[1;33m(\u001b[0m\u001b[0mcol_dict\u001b[0m\u001b[1;33m,\u001b[0m \u001b[0mcolumns\u001b[0m\u001b[1;33m=\u001b[0m\u001b[0mcolumns\u001b[0m\u001b[1;33m,\u001b[0m \u001b[0mindex\u001b[0m\u001b[1;33m=\u001b[0m\u001b[0mindex\u001b[0m\u001b[1;33m)\u001b[0m\u001b[1;33m\u001b[0m\u001b[1;33m\u001b[0m\u001b[0m\n\u001b[0m\u001b[0;32m   1070\u001b[0m \u001b[1;33m\u001b[0m\u001b[0m\n\u001b[0;32m   1071\u001b[0m         \u001b[0mself\u001b[0m\u001b[1;33m.\u001b[0m\u001b[0m_currow\u001b[0m \u001b[1;33m+=\u001b[0m \u001b[0mnew_rows\u001b[0m\u001b[1;33m\u001b[0m\u001b[1;33m\u001b[0m\u001b[0m\n",
      "\u001b[1;32m~\\Anaconda3\\lib\\site-packages\\pandas\\core\\frame.py\u001b[0m in \u001b[0;36m__init__\u001b[1;34m(self, data, index, columns, dtype, copy)\u001b[0m\n\u001b[0;32m    527\u001b[0m \u001b[1;33m\u001b[0m\u001b[0m\n\u001b[0;32m    528\u001b[0m         \u001b[1;32melif\u001b[0m \u001b[0misinstance\u001b[0m\u001b[1;33m(\u001b[0m\u001b[0mdata\u001b[0m\u001b[1;33m,\u001b[0m \u001b[0mdict\u001b[0m\u001b[1;33m)\u001b[0m\u001b[1;33m:\u001b[0m\u001b[1;33m\u001b[0m\u001b[1;33m\u001b[0m\u001b[0m\n\u001b[1;32m--> 529\u001b[1;33m             \u001b[0mmgr\u001b[0m \u001b[1;33m=\u001b[0m \u001b[0minit_dict\u001b[0m\u001b[1;33m(\u001b[0m\u001b[0mdata\u001b[0m\u001b[1;33m,\u001b[0m \u001b[0mindex\u001b[0m\u001b[1;33m,\u001b[0m \u001b[0mcolumns\u001b[0m\u001b[1;33m,\u001b[0m \u001b[0mdtype\u001b[0m\u001b[1;33m=\u001b[0m\u001b[0mdtype\u001b[0m\u001b[1;33m)\u001b[0m\u001b[1;33m\u001b[0m\u001b[1;33m\u001b[0m\u001b[0m\n\u001b[0m\u001b[0;32m    530\u001b[0m         \u001b[1;32melif\u001b[0m \u001b[0misinstance\u001b[0m\u001b[1;33m(\u001b[0m\u001b[0mdata\u001b[0m\u001b[1;33m,\u001b[0m \u001b[0mma\u001b[0m\u001b[1;33m.\u001b[0m\u001b[0mMaskedArray\u001b[0m\u001b[1;33m)\u001b[0m\u001b[1;33m:\u001b[0m\u001b[1;33m\u001b[0m\u001b[1;33m\u001b[0m\u001b[0m\n\u001b[0;32m    531\u001b[0m             \u001b[1;32mimport\u001b[0m \u001b[0mnumpy\u001b[0m\u001b[1;33m.\u001b[0m\u001b[0mma\u001b[0m\u001b[1;33m.\u001b[0m\u001b[0mmrecords\u001b[0m \u001b[1;32mas\u001b[0m \u001b[0mmrecords\u001b[0m\u001b[1;33m\u001b[0m\u001b[1;33m\u001b[0m\u001b[0m\n",
      "\u001b[1;32m~\\Anaconda3\\lib\\site-packages\\pandas\\core\\internals\\construction.py\u001b[0m in \u001b[0;36minit_dict\u001b[1;34m(data, index, columns, dtype)\u001b[0m\n\u001b[0;32m    285\u001b[0m             \u001b[0marr\u001b[0m \u001b[1;32mif\u001b[0m \u001b[1;32mnot\u001b[0m \u001b[0mis_datetime64tz_dtype\u001b[0m\u001b[1;33m(\u001b[0m\u001b[0marr\u001b[0m\u001b[1;33m)\u001b[0m \u001b[1;32melse\u001b[0m \u001b[0marr\u001b[0m\u001b[1;33m.\u001b[0m\u001b[0mcopy\u001b[0m\u001b[1;33m(\u001b[0m\u001b[1;33m)\u001b[0m \u001b[1;32mfor\u001b[0m \u001b[0marr\u001b[0m \u001b[1;32min\u001b[0m \u001b[0marrays\u001b[0m\u001b[1;33m\u001b[0m\u001b[1;33m\u001b[0m\u001b[0m\n\u001b[0;32m    286\u001b[0m         ]\n\u001b[1;32m--> 287\u001b[1;33m     \u001b[1;32mreturn\u001b[0m \u001b[0marrays_to_mgr\u001b[0m\u001b[1;33m(\u001b[0m\u001b[0marrays\u001b[0m\u001b[1;33m,\u001b[0m \u001b[0mdata_names\u001b[0m\u001b[1;33m,\u001b[0m \u001b[0mindex\u001b[0m\u001b[1;33m,\u001b[0m \u001b[0mcolumns\u001b[0m\u001b[1;33m,\u001b[0m \u001b[0mdtype\u001b[0m\u001b[1;33m=\u001b[0m\u001b[0mdtype\u001b[0m\u001b[1;33m)\u001b[0m\u001b[1;33m\u001b[0m\u001b[1;33m\u001b[0m\u001b[0m\n\u001b[0m\u001b[0;32m    288\u001b[0m \u001b[1;33m\u001b[0m\u001b[0m\n\u001b[0;32m    289\u001b[0m \u001b[1;33m\u001b[0m\u001b[0m\n",
      "\u001b[1;32m~\\Anaconda3\\lib\\site-packages\\pandas\\core\\internals\\construction.py\u001b[0m in \u001b[0;36marrays_to_mgr\u001b[1;34m(arrays, arr_names, index, columns, dtype, verify_integrity)\u001b[0m\n\u001b[0;32m     93\u001b[0m     \u001b[0maxes\u001b[0m \u001b[1;33m=\u001b[0m \u001b[1;33m[\u001b[0m\u001b[0mcolumns\u001b[0m\u001b[1;33m,\u001b[0m \u001b[0mindex\u001b[0m\u001b[1;33m]\u001b[0m\u001b[1;33m\u001b[0m\u001b[1;33m\u001b[0m\u001b[0m\n\u001b[0;32m     94\u001b[0m \u001b[1;33m\u001b[0m\u001b[0m\n\u001b[1;32m---> 95\u001b[1;33m     \u001b[1;32mreturn\u001b[0m \u001b[0mcreate_block_manager_from_arrays\u001b[0m\u001b[1;33m(\u001b[0m\u001b[0marrays\u001b[0m\u001b[1;33m,\u001b[0m \u001b[0marr_names\u001b[0m\u001b[1;33m,\u001b[0m \u001b[0maxes\u001b[0m\u001b[1;33m)\u001b[0m\u001b[1;33m\u001b[0m\u001b[1;33m\u001b[0m\u001b[0m\n\u001b[0m\u001b[0;32m     96\u001b[0m \u001b[1;33m\u001b[0m\u001b[0m\n\u001b[0;32m     97\u001b[0m \u001b[1;33m\u001b[0m\u001b[0m\n",
      "\u001b[1;32m~\\Anaconda3\\lib\\site-packages\\pandas\\core\\internals\\managers.py\u001b[0m in \u001b[0;36mcreate_block_manager_from_arrays\u001b[1;34m(arrays, names, axes)\u001b[0m\n\u001b[0;32m   1699\u001b[0m     \u001b[0marrays\u001b[0m \u001b[1;33m=\u001b[0m \u001b[1;33m[\u001b[0m\u001b[0mx\u001b[0m \u001b[1;32mif\u001b[0m \u001b[1;32mnot\u001b[0m \u001b[0misinstance\u001b[0m\u001b[1;33m(\u001b[0m\u001b[0mx\u001b[0m\u001b[1;33m,\u001b[0m \u001b[0mABCPandasArray\u001b[0m\u001b[1;33m)\u001b[0m \u001b[1;32melse\u001b[0m \u001b[0mx\u001b[0m\u001b[1;33m.\u001b[0m\u001b[0mto_numpy\u001b[0m\u001b[1;33m(\u001b[0m\u001b[1;33m)\u001b[0m \u001b[1;32mfor\u001b[0m \u001b[0mx\u001b[0m \u001b[1;32min\u001b[0m \u001b[0marrays\u001b[0m\u001b[1;33m]\u001b[0m\u001b[1;33m\u001b[0m\u001b[1;33m\u001b[0m\u001b[0m\n\u001b[0;32m   1700\u001b[0m     \u001b[1;32mtry\u001b[0m\u001b[1;33m:\u001b[0m\u001b[1;33m\u001b[0m\u001b[1;33m\u001b[0m\u001b[0m\n\u001b[1;32m-> 1701\u001b[1;33m         \u001b[0mblocks\u001b[0m \u001b[1;33m=\u001b[0m \u001b[0m_form_blocks\u001b[0m\u001b[1;33m(\u001b[0m\u001b[0marrays\u001b[0m\u001b[1;33m,\u001b[0m \u001b[0mnames\u001b[0m\u001b[1;33m,\u001b[0m \u001b[0maxes\u001b[0m\u001b[1;33m)\u001b[0m\u001b[1;33m\u001b[0m\u001b[1;33m\u001b[0m\u001b[0m\n\u001b[0m\u001b[0;32m   1702\u001b[0m         \u001b[0mmgr\u001b[0m \u001b[1;33m=\u001b[0m \u001b[0mBlockManager\u001b[0m\u001b[1;33m(\u001b[0m\u001b[0mblocks\u001b[0m\u001b[1;33m,\u001b[0m \u001b[0maxes\u001b[0m\u001b[1;33m)\u001b[0m\u001b[1;33m\u001b[0m\u001b[1;33m\u001b[0m\u001b[0m\n\u001b[0;32m   1703\u001b[0m         \u001b[0mmgr\u001b[0m\u001b[1;33m.\u001b[0m\u001b[0m_consolidate_inplace\u001b[0m\u001b[1;33m(\u001b[0m\u001b[1;33m)\u001b[0m\u001b[1;33m\u001b[0m\u001b[1;33m\u001b[0m\u001b[0m\n",
      "\u001b[1;32m~\\Anaconda3\\lib\\site-packages\\pandas\\core\\internals\\managers.py\u001b[0m in \u001b[0;36m_form_blocks\u001b[1;34m(arrays, names, axes)\u001b[0m\n\u001b[0;32m   1739\u001b[0m     \u001b[0mnames_idx\u001b[0m \u001b[1;33m=\u001b[0m \u001b[0mnames\u001b[0m\u001b[1;33m\u001b[0m\u001b[1;33m\u001b[0m\u001b[0m\n\u001b[0;32m   1740\u001b[0m     \u001b[1;32mif\u001b[0m \u001b[0mnames_idx\u001b[0m\u001b[1;33m.\u001b[0m\u001b[0mequals\u001b[0m\u001b[1;33m(\u001b[0m\u001b[0maxes\u001b[0m\u001b[1;33m[\u001b[0m\u001b[1;36m0\u001b[0m\u001b[1;33m]\u001b[0m\u001b[1;33m)\u001b[0m\u001b[1;33m:\u001b[0m\u001b[1;33m\u001b[0m\u001b[1;33m\u001b[0m\u001b[0m\n\u001b[1;32m-> 1741\u001b[1;33m         \u001b[0mnames_indexer\u001b[0m \u001b[1;33m=\u001b[0m \u001b[0mnp\u001b[0m\u001b[1;33m.\u001b[0m\u001b[0marange\u001b[0m\u001b[1;33m(\u001b[0m\u001b[0mlen\u001b[0m\u001b[1;33m(\u001b[0m\u001b[0mnames_idx\u001b[0m\u001b[1;33m)\u001b[0m\u001b[1;33m)\u001b[0m\u001b[1;33m\u001b[0m\u001b[1;33m\u001b[0m\u001b[0m\n\u001b[0m\u001b[0;32m   1742\u001b[0m     \u001b[1;32melse\u001b[0m\u001b[1;33m:\u001b[0m\u001b[1;33m\u001b[0m\u001b[1;33m\u001b[0m\u001b[0m\n\u001b[0;32m   1743\u001b[0m         \u001b[1;32massert\u001b[0m \u001b[0mnames_idx\u001b[0m\u001b[1;33m.\u001b[0m\u001b[0mintersection\u001b[0m\u001b[1;33m(\u001b[0m\u001b[0maxes\u001b[0m\u001b[1;33m[\u001b[0m\u001b[1;36m0\u001b[0m\u001b[1;33m]\u001b[0m\u001b[1;33m)\u001b[0m\u001b[1;33m.\u001b[0m\u001b[0mis_unique\u001b[0m\u001b[1;33m\u001b[0m\u001b[1;33m\u001b[0m\u001b[0m\n",
      "\u001b[1;31mKeyboardInterrupt\u001b[0m: "
     ]
    }
   ],
   "source": [
    "%matplotlib inline\n",
    "\n",
    "# Run TCDF with a provided dataset of Finance (see https://github.com/M-Nauta/TCDF)\n",
    "\n",
    "%run -i \"runTCDF.py\"  --ground_truth data/random-rels_20_1_3_returns30007000_header.csv=data/random-rels_20_1_3.csv --learning_rate 0.01 --hidden_layers 1 --epochs 5000 --log_interval 1000 --significance 0.8 --dilation_coefficient 4 --kernel_size 4 --seed 88232 --plot"
   ]
  },
  {
   "cell_type": "code",
   "execution_count": 6,
   "metadata": {
    "scrolled": true
   },
   "outputs": [
    {
     "name": "stdout",
     "output_type": "stream",
     "text": [
      "Arguments: Namespace(cuda=False, data=['data/random-rels_20_1_3_returns30007000_header.csv'], dilation_coefficient=4, early_stopping=True, epochs=2000, hidden_layers=1, kernel_size=4, learning_rate=0.01, log_interval=1000, lr_scheduler=True, optimizer='Adam', plot=True, seed=88232, train_test_split=0.8)\n",
      "\n",
      " Analysis started for target:  S0\n"
     ]
    },
    {
     "ename": "AttributeError",
     "evalue": "module 'torch' has no attribute '_six'",
     "output_type": "error",
     "traceback": [
      "\u001b[1;31m---------------------------------------------------------------------------\u001b[0m",
      "\u001b[1;31mAttributeError\u001b[0m                            Traceback (most recent call last)",
      "\u001b[1;32m~\\Documents\\GitHub\\thesis\\TCDF\\evaluate_predictions_TCDF.py\u001b[0m in \u001b[0;36m<module>\u001b[1;34m\u001b[0m\n\u001b[0;32m    231\u001b[0m \u001b[0mallres\u001b[0m \u001b[1;33m=\u001b[0m \u001b[1;33m[\u001b[0m\u001b[1;33m]\u001b[0m\u001b[1;33m\u001b[0m\u001b[1;33m\u001b[0m\u001b[0m\n\u001b[0;32m    232\u001b[0m \u001b[1;32mfor\u001b[0m \u001b[0mdatafile\u001b[0m \u001b[1;32min\u001b[0m \u001b[0mdatasets\u001b[0m\u001b[1;33m:\u001b[0m\u001b[1;33m\u001b[0m\u001b[1;33m\u001b[0m\u001b[0m\n\u001b[1;32m--> 233\u001b[1;33m     \u001b[0mallres\u001b[0m\u001b[1;33m,\u001b[0m\u001b[0mavg\u001b[0m\u001b[1;33m,\u001b[0m\u001b[0mstd\u001b[0m\u001b[1;33m,\u001b[0m\u001b[0mpredictions\u001b[0m\u001b[1;33m,\u001b[0m\u001b[0maccuracy\u001b[0m \u001b[1;33m=\u001b[0m \u001b[0mevaluate\u001b[0m\u001b[1;33m(\u001b[0m\u001b[0mdatafile\u001b[0m\u001b[1;33m)\u001b[0m\u001b[1;33m\u001b[0m\u001b[1;33m\u001b[0m\u001b[0m\n\u001b[0m\u001b[0;32m    234\u001b[0m     \u001b[0mevalresults\u001b[0m\u001b[1;33m[\u001b[0m\u001b[0mdatafile\u001b[0m\u001b[1;33m]\u001b[0m\u001b[1;33m=\u001b[0m\u001b[1;33m(\u001b[0m\u001b[0mavg\u001b[0m\u001b[1;33m,\u001b[0m \u001b[0mstd\u001b[0m\u001b[1;33m)\u001b[0m\u001b[1;33m\u001b[0m\u001b[1;33m\u001b[0m\u001b[0m\n\u001b[0;32m    235\u001b[0m     \u001b[0mprint\u001b[0m\u001b[1;33m(\u001b[0m\u001b[1;34m\"\\nMean Absolute Scaled Error (MASE) averaged over all time series in\"\u001b[0m\u001b[1;33m,\u001b[0m \u001b[0mdatafile\u001b[0m\u001b[1;33m,\u001b[0m\u001b[1;34m\":\"\u001b[0m\u001b[1;33m,\u001b[0m\u001b[0mevalresults\u001b[0m\u001b[1;33m[\u001b[0m\u001b[0mdatafile\u001b[0m\u001b[1;33m]\u001b[0m\u001b[1;33m[\u001b[0m\u001b[1;36m0\u001b[0m\u001b[1;33m]\u001b[0m\u001b[1;33m,\u001b[0m\u001b[1;34m\"with standard deviation\"\u001b[0m\u001b[1;33m,\u001b[0m\u001b[0mevalresults\u001b[0m\u001b[1;33m[\u001b[0m\u001b[0mdatafile\u001b[0m\u001b[1;33m]\u001b[0m\u001b[1;33m[\u001b[0m\u001b[1;36m1\u001b[0m\u001b[1;33m]\u001b[0m\u001b[1;33m)\u001b[0m\u001b[1;33m\u001b[0m\u001b[1;33m\u001b[0m\u001b[0m\n",
      "\u001b[1;32m~\\Documents\\GitHub\\thesis\\TCDF\\evaluate_predictions_TCDF.py\u001b[0m in \u001b[0;36mevaluate\u001b[1;34m(datafile)\u001b[0m\n\u001b[0;32m    167\u001b[0m     \u001b[0maccuracy\u001b[0m \u001b[1;33m=\u001b[0m \u001b[0mdict\u001b[0m\u001b[1;33m(\u001b[0m\u001b[1;33m)\u001b[0m\u001b[1;33m\u001b[0m\u001b[1;33m\u001b[0m\u001b[0m\n\u001b[0;32m    168\u001b[0m     \u001b[1;32mfor\u001b[0m \u001b[0mc\u001b[0m \u001b[1;32min\u001b[0m \u001b[0mcolumns\u001b[0m\u001b[1;33m:\u001b[0m\u001b[1;33m\u001b[0m\u001b[1;33m\u001b[0m\u001b[0m\n\u001b[1;32m--> 169\u001b[1;33m         MASE, prediction = evaluate_prediction(c, cuda=cuda, epochs=nrepochs, \n\u001b[0m\u001b[0;32m    170\u001b[0m         \u001b[0mkernel_size\u001b[0m\u001b[1;33m=\u001b[0m\u001b[0mkernel_size\u001b[0m\u001b[1;33m,\u001b[0m \u001b[0mlayers\u001b[0m\u001b[1;33m=\u001b[0m\u001b[0mlevels\u001b[0m\u001b[1;33m,\u001b[0m \u001b[0mlog_interval\u001b[0m\u001b[1;33m=\u001b[0m\u001b[0mlog_interval\u001b[0m\u001b[1;33m,\u001b[0m\u001b[1;33m\u001b[0m\u001b[1;33m\u001b[0m\u001b[0m\n\u001b[0;32m    171\u001b[0m         \u001b[0mlr\u001b[0m\u001b[1;33m=\u001b[0m\u001b[0mlearningrate\u001b[0m\u001b[1;33m,\u001b[0m \u001b[0moptimizername\u001b[0m\u001b[1;33m=\u001b[0m\u001b[0moptimizername\u001b[0m\u001b[1;33m,\u001b[0m\u001b[1;33m\u001b[0m\u001b[1;33m\u001b[0m\u001b[0m\n",
      "\u001b[1;32m~\\Documents\\GitHub\\thesis\\TCDF\\evaluate_predictions_TCDF.py\u001b[0m in \u001b[0;36mevaluate_prediction\u001b[1;34m(target, cuda, epochs, kernel_size, layers, log_interval, lr, optimizername, seed, dilation_c, split, file, lr_scheduler, early_stopping)\u001b[0m\n\u001b[0;32m     68\u001b[0m     \u001b[0mtargetidx\u001b[0m \u001b[1;33m=\u001b[0m \u001b[0mpd\u001b[0m\u001b[1;33m.\u001b[0m\u001b[0mread_csv\u001b[0m\u001b[1;33m(\u001b[0m\u001b[0mfile\u001b[0m\u001b[1;33m)\u001b[0m\u001b[1;33m.\u001b[0m\u001b[0mcolumns\u001b[0m\u001b[1;33m.\u001b[0m\u001b[0mget_loc\u001b[0m\u001b[1;33m(\u001b[0m\u001b[0mtarget\u001b[0m\u001b[1;33m)\u001b[0m\u001b[1;33m\u001b[0m\u001b[1;33m\u001b[0m\u001b[0m\n\u001b[0;32m     69\u001b[0m \u001b[1;33m\u001b[0m\u001b[0m\n\u001b[1;32m---> 70\u001b[1;33m     \u001b[0mmodel\u001b[0m \u001b[1;33m=\u001b[0m \u001b[0mADDSTCN\u001b[0m\u001b[1;33m(\u001b[0m\u001b[0mtargetidx\u001b[0m\u001b[1;33m,\u001b[0m \u001b[0minput_channels\u001b[0m\u001b[1;33m,\u001b[0m \u001b[0mlevels\u001b[0m\u001b[1;33m,\u001b[0m \u001b[0mkernel_size\u001b[0m\u001b[1;33m=\u001b[0m\u001b[0mkernel_size\u001b[0m\u001b[1;33m,\u001b[0m \u001b[0mcuda\u001b[0m\u001b[1;33m=\u001b[0m\u001b[0mcuda\u001b[0m\u001b[1;33m,\u001b[0m \u001b[0mdilation_c\u001b[0m\u001b[1;33m=\u001b[0m\u001b[0mdilation_c\u001b[0m\u001b[1;33m)\u001b[0m\u001b[1;33m\u001b[0m\u001b[1;33m\u001b[0m\u001b[0m\n\u001b[0m\u001b[0;32m     71\u001b[0m     \u001b[1;32mif\u001b[0m \u001b[0mcuda\u001b[0m\u001b[1;33m:\u001b[0m\u001b[1;33m\u001b[0m\u001b[1;33m\u001b[0m\u001b[0m\n\u001b[0;32m     72\u001b[0m         \u001b[0mmodel\u001b[0m\u001b[1;33m.\u001b[0m\u001b[0mcuda\u001b[0m\u001b[1;33m(\u001b[0m\u001b[1;33m)\u001b[0m\u001b[1;33m\u001b[0m\u001b[1;33m\u001b[0m\u001b[0m\n",
      "\u001b[1;32m~\\Documents\\GitHub\\thesis\\TCDF\\model.py\u001b[0m in \u001b[0;36m__init__\u001b[1;34m(self, target, input_size, num_levels, kernel_size, cuda, dilation_c)\u001b[0m\n\u001b[0;32m     12\u001b[0m \u001b[1;33m\u001b[0m\u001b[0m\n\u001b[0;32m     13\u001b[0m         \u001b[0mself\u001b[0m\u001b[1;33m.\u001b[0m\u001b[0mtarget\u001b[0m\u001b[1;33m=\u001b[0m\u001b[0mtarget\u001b[0m\u001b[1;33m\u001b[0m\u001b[1;33m\u001b[0m\u001b[0m\n\u001b[1;32m---> 14\u001b[1;33m         \u001b[0mself\u001b[0m\u001b[1;33m.\u001b[0m\u001b[0mdwn\u001b[0m \u001b[1;33m=\u001b[0m \u001b[0mDepthwiseNet\u001b[0m\u001b[1;33m(\u001b[0m\u001b[0mself\u001b[0m\u001b[1;33m.\u001b[0m\u001b[0mtarget\u001b[0m\u001b[1;33m,\u001b[0m \u001b[0minput_size\u001b[0m\u001b[1;33m,\u001b[0m \u001b[0mnum_levels\u001b[0m\u001b[1;33m,\u001b[0m \u001b[0mkernel_size\u001b[0m\u001b[1;33m=\u001b[0m\u001b[0mkernel_size\u001b[0m\u001b[1;33m,\u001b[0m \u001b[0mdilation_c\u001b[0m\u001b[1;33m=\u001b[0m\u001b[0mdilation_c\u001b[0m\u001b[1;33m)\u001b[0m\u001b[1;33m\u001b[0m\u001b[1;33m\u001b[0m\u001b[0m\n\u001b[0m\u001b[0;32m     15\u001b[0m         \u001b[0mself\u001b[0m\u001b[1;33m.\u001b[0m\u001b[0mpointwise\u001b[0m \u001b[1;33m=\u001b[0m \u001b[0mnn\u001b[0m\u001b[1;33m.\u001b[0m\u001b[0mConv1d\u001b[0m\u001b[1;33m(\u001b[0m\u001b[0minput_size\u001b[0m\u001b[1;33m,\u001b[0m \u001b[1;36m1\u001b[0m\u001b[1;33m,\u001b[0m \u001b[1;36m1\u001b[0m\u001b[1;33m)\u001b[0m\u001b[1;33m\u001b[0m\u001b[1;33m\u001b[0m\u001b[0m\n\u001b[0;32m     16\u001b[0m \u001b[1;33m\u001b[0m\u001b[0m\n",
      "\u001b[1;32m~\\Documents\\GitHub\\thesis\\TCDF\\depthwise.py\u001b[0m in \u001b[0;36m__init__\u001b[1;34m(self, target, num_inputs, num_levels, kernel_size, dilation_c)\u001b[0m\n\u001b[0;32m     81\u001b[0m             \u001b[0mdilation_size\u001b[0m \u001b[1;33m=\u001b[0m \u001b[0mdilation_c\u001b[0m \u001b[1;33m**\u001b[0m \u001b[0ml\u001b[0m\u001b[1;33m\u001b[0m\u001b[1;33m\u001b[0m\u001b[0m\n\u001b[0;32m     82\u001b[0m             \u001b[1;32mif\u001b[0m \u001b[0ml\u001b[0m\u001b[1;33m==\u001b[0m\u001b[1;36m0\u001b[0m\u001b[1;33m:\u001b[0m\u001b[1;33m\u001b[0m\u001b[1;33m\u001b[0m\u001b[0m\n\u001b[1;32m---> 83\u001b[1;33m                 layers += [FirstBlock(target, in_channels, out_channels, kernel_size, stride=1, dilation=dilation_size,\n\u001b[0m\u001b[0;32m     84\u001b[0m                                      padding=(kernel_size-1) * dilation_size)]\n\u001b[0;32m     85\u001b[0m             \u001b[1;32melif\u001b[0m \u001b[0ml\u001b[0m\u001b[1;33m==\u001b[0m\u001b[0mnum_levels\u001b[0m\u001b[1;33m-\u001b[0m\u001b[1;36m1\u001b[0m\u001b[1;33m:\u001b[0m\u001b[1;33m\u001b[0m\u001b[1;33m\u001b[0m\u001b[0m\n",
      "\u001b[1;32m~\\Documents\\GitHub\\thesis\\TCDF\\depthwise.py\u001b[0m in \u001b[0;36m__init__\u001b[1;34m(self, target, n_inputs, n_outputs, kernel_size, stride, dilation, padding)\u001b[0m\n\u001b[0;32m     17\u001b[0m \u001b[1;33m\u001b[0m\u001b[0m\n\u001b[0;32m     18\u001b[0m         \u001b[0mself\u001b[0m\u001b[1;33m.\u001b[0m\u001b[0mtarget\u001b[0m \u001b[1;33m=\u001b[0m \u001b[0mtarget\u001b[0m\u001b[1;33m\u001b[0m\u001b[1;33m\u001b[0m\u001b[0m\n\u001b[1;32m---> 19\u001b[1;33m         self.conv1 = nn.Conv1d(n_inputs, n_outputs, kernel_size,\n\u001b[0m\u001b[0;32m     20\u001b[0m                                            stride=stride, padding=padding, dilation=dilation, groups=n_outputs)\n\u001b[0;32m     21\u001b[0m \u001b[1;33m\u001b[0m\u001b[0m\n",
      "\u001b[1;32m~\\Anaconda3\\lib\\site-packages\\torch\\nn\\modules\\conv.py\u001b[0m in \u001b[0;36m__init__\u001b[1;34m(self, in_channels, out_channels, kernel_size, stride, padding, dilation, groups, bias, padding_mode, device, dtype)\u001b[0m\n\u001b[0;32m    283\u001b[0m         \u001b[0mpadding_\u001b[0m \u001b[1;33m=\u001b[0m \u001b[0mpadding\u001b[0m \u001b[1;32mif\u001b[0m \u001b[0misinstance\u001b[0m\u001b[1;33m(\u001b[0m\u001b[0mpadding\u001b[0m\u001b[1;33m,\u001b[0m \u001b[0mstr\u001b[0m\u001b[1;33m)\u001b[0m \u001b[1;32melse\u001b[0m \u001b[0m_single\u001b[0m\u001b[1;33m(\u001b[0m\u001b[0mpadding\u001b[0m\u001b[1;33m)\u001b[0m\u001b[1;33m\u001b[0m\u001b[1;33m\u001b[0m\u001b[0m\n\u001b[0;32m    284\u001b[0m         \u001b[0mdilation_\u001b[0m \u001b[1;33m=\u001b[0m \u001b[0m_single\u001b[0m\u001b[1;33m(\u001b[0m\u001b[0mdilation\u001b[0m\u001b[1;33m)\u001b[0m\u001b[1;33m\u001b[0m\u001b[1;33m\u001b[0m\u001b[0m\n\u001b[1;32m--> 285\u001b[1;33m         super(Conv1d, self).__init__(\n\u001b[0m\u001b[0;32m    286\u001b[0m             \u001b[0min_channels\u001b[0m\u001b[1;33m,\u001b[0m \u001b[0mout_channels\u001b[0m\u001b[1;33m,\u001b[0m \u001b[0mkernel_size_\u001b[0m\u001b[1;33m,\u001b[0m \u001b[0mstride_\u001b[0m\u001b[1;33m,\u001b[0m \u001b[0mpadding_\u001b[0m\u001b[1;33m,\u001b[0m \u001b[0mdilation_\u001b[0m\u001b[1;33m,\u001b[0m\u001b[1;33m\u001b[0m\u001b[1;33m\u001b[0m\u001b[0m\n\u001b[0;32m    287\u001b[0m             False, _single(0), groups, bias, padding_mode, **factory_kwargs)\n",
      "\u001b[1;32m~\\Anaconda3\\lib\\site-packages\\torch\\nn\\modules\\conv.py\u001b[0m in \u001b[0;36m__init__\u001b[1;34m(self, in_channels, out_channels, kernel_size, stride, padding, dilation, transposed, output_padding, groups, bias, padding_mode, device, dtype)\u001b[0m\n\u001b[0;32m    129\u001b[0m                 (in_channels, out_channels // groups, *kernel_size), **factory_kwargs))\n\u001b[0;32m    130\u001b[0m         \u001b[1;32melse\u001b[0m\u001b[1;33m:\u001b[0m\u001b[1;33m\u001b[0m\u001b[1;33m\u001b[0m\u001b[0m\n\u001b[1;32m--> 131\u001b[1;33m             self.weight = Parameter(torch.empty(\n\u001b[0m\u001b[0;32m    132\u001b[0m                 (out_channels, in_channels // groups, *kernel_size), **factory_kwargs))\n\u001b[0;32m    133\u001b[0m         \u001b[1;32mif\u001b[0m \u001b[0mbias\u001b[0m\u001b[1;33m:\u001b[0m\u001b[1;33m\u001b[0m\u001b[1;33m\u001b[0m\u001b[0m\n",
      "\u001b[1;32m~\\Anaconda3\\lib\\site-packages\\torch\\nn\\modules\\module.py\u001b[0m in \u001b[0;36m__setattr__\u001b[1;34m(self, name, value)\u001b[0m\n\u001b[0;32m   1146\u001b[0m                     \"cannot assign parameters before Module.__init__() call\")\n\u001b[0;32m   1147\u001b[0m             \u001b[0mremove_from\u001b[0m\u001b[1;33m(\u001b[0m\u001b[0mself\u001b[0m\u001b[1;33m.\u001b[0m\u001b[0m__dict__\u001b[0m\u001b[1;33m,\u001b[0m \u001b[0mself\u001b[0m\u001b[1;33m.\u001b[0m\u001b[0m_buffers\u001b[0m\u001b[1;33m,\u001b[0m \u001b[0mself\u001b[0m\u001b[1;33m.\u001b[0m\u001b[0m_modules\u001b[0m\u001b[1;33m,\u001b[0m \u001b[0mself\u001b[0m\u001b[1;33m.\u001b[0m\u001b[0m_non_persistent_buffers_set\u001b[0m\u001b[1;33m)\u001b[0m\u001b[1;33m\u001b[0m\u001b[1;33m\u001b[0m\u001b[0m\n\u001b[1;32m-> 1148\u001b[1;33m             \u001b[0mself\u001b[0m\u001b[1;33m.\u001b[0m\u001b[0mregister_parameter\u001b[0m\u001b[1;33m(\u001b[0m\u001b[0mname\u001b[0m\u001b[1;33m,\u001b[0m \u001b[0mvalue\u001b[0m\u001b[1;33m)\u001b[0m\u001b[1;33m\u001b[0m\u001b[1;33m\u001b[0m\u001b[0m\n\u001b[0m\u001b[0;32m   1149\u001b[0m         \u001b[1;32melif\u001b[0m \u001b[0mparams\u001b[0m \u001b[1;32mis\u001b[0m \u001b[1;32mnot\u001b[0m \u001b[1;32mNone\u001b[0m \u001b[1;32mand\u001b[0m \u001b[0mname\u001b[0m \u001b[1;32min\u001b[0m \u001b[0mparams\u001b[0m\u001b[1;33m:\u001b[0m\u001b[1;33m\u001b[0m\u001b[1;33m\u001b[0m\u001b[0m\n\u001b[0;32m   1150\u001b[0m             \u001b[1;32mif\u001b[0m \u001b[0mvalue\u001b[0m \u001b[1;32mis\u001b[0m \u001b[1;32mnot\u001b[0m \u001b[1;32mNone\u001b[0m\u001b[1;33m:\u001b[0m\u001b[1;33m\u001b[0m\u001b[1;33m\u001b[0m\u001b[0m\n",
      "\u001b[1;32m~\\Anaconda3\\lib\\site-packages\\torch\\nn\\modules\\module.py\u001b[0m in \u001b[0;36mregister_parameter\u001b[1;34m(self, name, param)\u001b[0m\n\u001b[0;32m    334\u001b[0m                 \"cannot assign parameter before Module.__init__() call\")\n\u001b[0;32m    335\u001b[0m \u001b[1;33m\u001b[0m\u001b[0m\n\u001b[1;32m--> 336\u001b[1;33m         \u001b[1;32melif\u001b[0m \u001b[1;32mnot\u001b[0m \u001b[0misinstance\u001b[0m\u001b[1;33m(\u001b[0m\u001b[0mname\u001b[0m\u001b[1;33m,\u001b[0m \u001b[0mtorch\u001b[0m\u001b[1;33m.\u001b[0m\u001b[0m_six\u001b[0m\u001b[1;33m.\u001b[0m\u001b[0mstring_classes\u001b[0m\u001b[1;33m)\u001b[0m\u001b[1;33m:\u001b[0m\u001b[1;33m\u001b[0m\u001b[1;33m\u001b[0m\u001b[0m\n\u001b[0m\u001b[0;32m    337\u001b[0m             raise TypeError(\"parameter name should be a string. \"\n\u001b[0;32m    338\u001b[0m                             \"Got {}\".format(torch.typename(name)))\n",
      "\u001b[1;31mAttributeError\u001b[0m: module 'torch' has no attribute '_six'"
     ]
    }
   ],
   "source": [
    "# Run TCDF for predictive accuracy\n",
    "\n",
    "%run -i \"evaluate_predictions_TCDF.py\" --data data/random-rels_20_1_3_returns30007000_header.csv --learning_rate 0.01 --hidden_layers 1 --epochs 2000 --log_interval 1000 --dilation_coefficient 4 --kernel_size 4 --seed 88232 --plot --train_test_split 0.8"
   ]
  },
  {
   "cell_type": "code",
   "execution_count": 7,
   "metadata": {
    "scrolled": true
   },
   "outputs": [
    {
     "name": "stdout",
     "output_type": "stream",
     "text": [
      "Arguments: Namespace(cuda=False, data=None, dilation_coefficient=4, early_stopping=True, epochs=5000, ground_truth={'data/random-rels_20_1_3_returns30007000_header.csv': 'data/random-rels_20_1_3.csv'}, hidden_layers=1, kernel_size=4, learning_rate=0.01, log_interval=1000, lr_scheduler=True, optimizer='Adam', plot=True, seed=77217, significance=0.8)\n",
      "\n",
      " Dataset:  random-rels_20_1_3_returns30007000_header.csv\n",
      "\n",
      " Analysis started for target:  S0\n"
     ]
    },
    {
     "ename": "ParserError",
     "evalue": "Error tokenizing data. C error: Calling read(nbytes) on source failed. Try engine='python'.",
     "output_type": "error",
     "traceback": [
      "\u001b[1;31m---------------------------------------------------------------------------\u001b[0m",
      "\u001b[1;31mParserError\u001b[0m                               Traceback (most recent call last)",
      "\u001b[1;32m~\\Documents\\GitHub\\thesis\\TCDF\\runTCDF.py\u001b[0m in \u001b[0;36m<module>\u001b[1;34m\u001b[0m\n\u001b[0;32m    356\u001b[0m \u001b[1;32mif\u001b[0m \u001b[0margs\u001b[0m\u001b[1;33m.\u001b[0m\u001b[0mground_truth\u001b[0m \u001b[1;32mis\u001b[0m \u001b[1;32mnot\u001b[0m \u001b[1;32mNone\u001b[0m\u001b[1;33m:\u001b[0m\u001b[1;33m\u001b[0m\u001b[1;33m\u001b[0m\u001b[0m\n\u001b[0;32m    357\u001b[0m     \u001b[0mdatafiles\u001b[0m \u001b[1;33m=\u001b[0m \u001b[0margs\u001b[0m\u001b[1;33m.\u001b[0m\u001b[0mground_truth\u001b[0m\u001b[1;33m\u001b[0m\u001b[1;33m\u001b[0m\u001b[0m\n\u001b[1;32m--> 358\u001b[1;33m     \u001b[0mmain\u001b[0m\u001b[1;33m(\u001b[0m\u001b[0mdatafiles\u001b[0m\u001b[1;33m,\u001b[0m \u001b[0mevaluation\u001b[0m\u001b[1;33m=\u001b[0m\u001b[1;32mTrue\u001b[0m\u001b[1;33m)\u001b[0m\u001b[1;33m\u001b[0m\u001b[1;33m\u001b[0m\u001b[0m\n\u001b[0m\u001b[0;32m    359\u001b[0m \u001b[1;33m\u001b[0m\u001b[0m\n\u001b[0;32m    360\u001b[0m \u001b[1;32melse\u001b[0m\u001b[1;33m:\u001b[0m\u001b[1;33m\u001b[0m\u001b[1;33m\u001b[0m\u001b[0m\n",
      "\u001b[1;32m~\\Documents\\GitHub\\thesis\\TCDF\\runTCDF.py\u001b[0m in \u001b[0;36mmain\u001b[1;34m(datafiles, evaluation)\u001b[0m\n\u001b[0;32m    268\u001b[0m \u001b[1;33m\u001b[0m\u001b[0m\n\u001b[0;32m    269\u001b[0m         \u001b[1;31m# run TCDF\u001b[0m\u001b[1;33m\u001b[0m\u001b[1;33m\u001b[0m\u001b[1;33m\u001b[0m\u001b[0m\n\u001b[1;32m--> 270\u001b[1;33m         \u001b[0mallcauses\u001b[0m\u001b[1;33m,\u001b[0m \u001b[0malldelays\u001b[0m\u001b[1;33m,\u001b[0m \u001b[0mallreallosses\u001b[0m\u001b[1;33m,\u001b[0m \u001b[0mallscores\u001b[0m\u001b[1;33m,\u001b[0m \u001b[0mcolumns\u001b[0m\u001b[1;33m,\u001b[0m \u001b[0malllosses\u001b[0m \u001b[1;33m=\u001b[0m \u001b[0mrunTCDF\u001b[0m\u001b[1;33m(\u001b[0m\u001b[0mdatafile\u001b[0m\u001b[1;33m)\u001b[0m \u001b[1;31m#results of TCDF containing indices of causes and effects\u001b[0m\u001b[1;33m\u001b[0m\u001b[1;33m\u001b[0m\u001b[0m\n\u001b[0m\u001b[0;32m    271\u001b[0m \u001b[1;33m\u001b[0m\u001b[0m\n\u001b[0;32m    272\u001b[0m         \u001b[0mprint\u001b[0m\u001b[1;33m(\u001b[0m\u001b[1;34m\"\\n===================Results for\"\u001b[0m\u001b[1;33m,\u001b[0m \u001b[0mstringdatafile\u001b[0m\u001b[1;33m,\u001b[0m\u001b[1;34m\"==================================\"\u001b[0m\u001b[1;33m)\u001b[0m\u001b[1;33m\u001b[0m\u001b[1;33m\u001b[0m\u001b[0m\n",
      "\u001b[1;32m~\\Documents\\GitHub\\thesis\\TCDF\\runTCDF.py\u001b[0m in \u001b[0;36mrunTCDF\u001b[1;34m(datafile)\u001b[0m\n\u001b[0;32m    209\u001b[0m     \u001b[1;32mfor\u001b[0m \u001b[0mc\u001b[0m \u001b[1;32min\u001b[0m \u001b[0mcolumns\u001b[0m\u001b[1;33m:\u001b[0m\u001b[1;33m\u001b[0m\u001b[1;33m\u001b[0m\u001b[0m\n\u001b[0;32m    210\u001b[0m         \u001b[0midx\u001b[0m \u001b[1;33m=\u001b[0m \u001b[0mdf_data\u001b[0m\u001b[1;33m.\u001b[0m\u001b[0mcolumns\u001b[0m\u001b[1;33m.\u001b[0m\u001b[0mget_loc\u001b[0m\u001b[1;33m(\u001b[0m\u001b[0mc\u001b[0m\u001b[1;33m)\u001b[0m\u001b[1;33m\u001b[0m\u001b[1;33m\u001b[0m\u001b[0m\n\u001b[1;32m--> 211\u001b[1;33m         causes, causeswithdelay, realloss, scores, losses = TCDF.findcauses(c, cuda=cuda, epochs=nrepochs, \n\u001b[0m\u001b[0;32m    212\u001b[0m         \u001b[0mkernel_size\u001b[0m\u001b[1;33m=\u001b[0m\u001b[0mkernel_size\u001b[0m\u001b[1;33m,\u001b[0m \u001b[0mlayers\u001b[0m\u001b[1;33m=\u001b[0m\u001b[0mlevels\u001b[0m\u001b[1;33m,\u001b[0m \u001b[0mlog_interval\u001b[0m\u001b[1;33m=\u001b[0m\u001b[0mloginterval\u001b[0m\u001b[1;33m,\u001b[0m\u001b[1;33m\u001b[0m\u001b[1;33m\u001b[0m\u001b[0m\n\u001b[0;32m    213\u001b[0m         \u001b[0mlr\u001b[0m\u001b[1;33m=\u001b[0m\u001b[0mlearningrate\u001b[0m\u001b[1;33m,\u001b[0m \u001b[0moptimizername\u001b[0m\u001b[1;33m=\u001b[0m\u001b[0moptimizername\u001b[0m\u001b[1;33m,\u001b[0m\u001b[1;33m\u001b[0m\u001b[1;33m\u001b[0m\u001b[0m\n",
      "\u001b[1;32m~\\Documents\\GitHub\\thesis\\TCDF\\TCDF.py\u001b[0m in \u001b[0;36mfindcauses\u001b[1;34m(target, cuda, epochs, kernel_size, layers, log_interval, lr, optimizername, seed, dilation_c, significance, file, lr_scheduler, early_stopping)\u001b[0m\n\u001b[0;32m     68\u001b[0m     \u001b[0minput_channels\u001b[0m \u001b[1;33m=\u001b[0m \u001b[0mX_train\u001b[0m\u001b[1;33m.\u001b[0m\u001b[0msize\u001b[0m\u001b[1;33m(\u001b[0m\u001b[1;33m)\u001b[0m\u001b[1;33m[\u001b[0m\u001b[1;36m1\u001b[0m\u001b[1;33m]\u001b[0m\u001b[1;33m\u001b[0m\u001b[1;33m\u001b[0m\u001b[0m\n\u001b[0;32m     69\u001b[0m \u001b[1;33m\u001b[0m\u001b[0m\n\u001b[1;32m---> 70\u001b[1;33m     \u001b[0mtargetidx\u001b[0m \u001b[1;33m=\u001b[0m \u001b[0mpd\u001b[0m\u001b[1;33m.\u001b[0m\u001b[0mread_csv\u001b[0m\u001b[1;33m(\u001b[0m\u001b[0mfile\u001b[0m\u001b[1;33m)\u001b[0m\u001b[1;33m.\u001b[0m\u001b[0mcolumns\u001b[0m\u001b[1;33m.\u001b[0m\u001b[0mget_loc\u001b[0m\u001b[1;33m(\u001b[0m\u001b[0mtarget\u001b[0m\u001b[1;33m)\u001b[0m\u001b[1;33m\u001b[0m\u001b[1;33m\u001b[0m\u001b[0m\n\u001b[0m\u001b[0;32m     71\u001b[0m \u001b[1;33m\u001b[0m\u001b[0m\n\u001b[0;32m     72\u001b[0m     \u001b[0mmodel\u001b[0m \u001b[1;33m=\u001b[0m \u001b[0mADDSTCN\u001b[0m\u001b[1;33m(\u001b[0m\u001b[0mtargetidx\u001b[0m\u001b[1;33m,\u001b[0m \u001b[0minput_channels\u001b[0m\u001b[1;33m,\u001b[0m \u001b[0mlayers\u001b[0m\u001b[1;33m,\u001b[0m \u001b[0mkernel_size\u001b[0m\u001b[1;33m=\u001b[0m\u001b[0mkernel_size\u001b[0m\u001b[1;33m,\u001b[0m \u001b[0mcuda\u001b[0m\u001b[1;33m=\u001b[0m\u001b[0mcuda\u001b[0m\u001b[1;33m,\u001b[0m \u001b[0mdilation_c\u001b[0m\u001b[1;33m=\u001b[0m\u001b[0mdilation_c\u001b[0m\u001b[1;33m)\u001b[0m\u001b[1;33m\u001b[0m\u001b[1;33m\u001b[0m\u001b[0m\n",
      "\u001b[1;32m~\\Anaconda3\\lib\\site-packages\\pandas\\io\\parsers.py\u001b[0m in \u001b[0;36mread_csv\u001b[1;34m(filepath_or_buffer, sep, delimiter, header, names, index_col, usecols, squeeze, prefix, mangle_dupe_cols, dtype, engine, converters, true_values, false_values, skipinitialspace, skiprows, skipfooter, nrows, na_values, keep_default_na, na_filter, verbose, skip_blank_lines, parse_dates, infer_datetime_format, keep_date_col, date_parser, dayfirst, cache_dates, iterator, chunksize, compression, thousands, decimal, lineterminator, quotechar, quoting, doublequote, escapechar, comment, encoding, dialect, error_bad_lines, warn_bad_lines, delim_whitespace, low_memory, memory_map, float_precision, storage_options)\u001b[0m\n\u001b[0;32m    608\u001b[0m     \u001b[0mkwds\u001b[0m\u001b[1;33m.\u001b[0m\u001b[0mupdate\u001b[0m\u001b[1;33m(\u001b[0m\u001b[0mkwds_defaults\u001b[0m\u001b[1;33m)\u001b[0m\u001b[1;33m\u001b[0m\u001b[1;33m\u001b[0m\u001b[0m\n\u001b[0;32m    609\u001b[0m \u001b[1;33m\u001b[0m\u001b[0m\n\u001b[1;32m--> 610\u001b[1;33m     \u001b[1;32mreturn\u001b[0m \u001b[0m_read\u001b[0m\u001b[1;33m(\u001b[0m\u001b[0mfilepath_or_buffer\u001b[0m\u001b[1;33m,\u001b[0m \u001b[0mkwds\u001b[0m\u001b[1;33m)\u001b[0m\u001b[1;33m\u001b[0m\u001b[1;33m\u001b[0m\u001b[0m\n\u001b[0m\u001b[0;32m    611\u001b[0m \u001b[1;33m\u001b[0m\u001b[0m\n\u001b[0;32m    612\u001b[0m \u001b[1;33m\u001b[0m\u001b[0m\n",
      "\u001b[1;32m~\\Anaconda3\\lib\\site-packages\\pandas\\io\\parsers.py\u001b[0m in \u001b[0;36m_read\u001b[1;34m(filepath_or_buffer, kwds)\u001b[0m\n\u001b[0;32m    466\u001b[0m \u001b[1;33m\u001b[0m\u001b[0m\n\u001b[0;32m    467\u001b[0m     \u001b[1;32mwith\u001b[0m \u001b[0mparser\u001b[0m\u001b[1;33m:\u001b[0m\u001b[1;33m\u001b[0m\u001b[1;33m\u001b[0m\u001b[0m\n\u001b[1;32m--> 468\u001b[1;33m         \u001b[1;32mreturn\u001b[0m \u001b[0mparser\u001b[0m\u001b[1;33m.\u001b[0m\u001b[0mread\u001b[0m\u001b[1;33m(\u001b[0m\u001b[0mnrows\u001b[0m\u001b[1;33m)\u001b[0m\u001b[1;33m\u001b[0m\u001b[1;33m\u001b[0m\u001b[0m\n\u001b[0m\u001b[0;32m    469\u001b[0m \u001b[1;33m\u001b[0m\u001b[0m\n\u001b[0;32m    470\u001b[0m \u001b[1;33m\u001b[0m\u001b[0m\n",
      "\u001b[1;32m~\\Anaconda3\\lib\\site-packages\\pandas\\io\\parsers.py\u001b[0m in \u001b[0;36mread\u001b[1;34m(self, nrows)\u001b[0m\n\u001b[0;32m   1055\u001b[0m     \u001b[1;32mdef\u001b[0m \u001b[0mread\u001b[0m\u001b[1;33m(\u001b[0m\u001b[0mself\u001b[0m\u001b[1;33m,\u001b[0m \u001b[0mnrows\u001b[0m\u001b[1;33m=\u001b[0m\u001b[1;32mNone\u001b[0m\u001b[1;33m)\u001b[0m\u001b[1;33m:\u001b[0m\u001b[1;33m\u001b[0m\u001b[1;33m\u001b[0m\u001b[0m\n\u001b[0;32m   1056\u001b[0m         \u001b[0mnrows\u001b[0m \u001b[1;33m=\u001b[0m \u001b[0mvalidate_integer\u001b[0m\u001b[1;33m(\u001b[0m\u001b[1;34m\"nrows\"\u001b[0m\u001b[1;33m,\u001b[0m \u001b[0mnrows\u001b[0m\u001b[1;33m)\u001b[0m\u001b[1;33m\u001b[0m\u001b[1;33m\u001b[0m\u001b[0m\n\u001b[1;32m-> 1057\u001b[1;33m         \u001b[0mindex\u001b[0m\u001b[1;33m,\u001b[0m \u001b[0mcolumns\u001b[0m\u001b[1;33m,\u001b[0m \u001b[0mcol_dict\u001b[0m \u001b[1;33m=\u001b[0m \u001b[0mself\u001b[0m\u001b[1;33m.\u001b[0m\u001b[0m_engine\u001b[0m\u001b[1;33m.\u001b[0m\u001b[0mread\u001b[0m\u001b[1;33m(\u001b[0m\u001b[0mnrows\u001b[0m\u001b[1;33m)\u001b[0m\u001b[1;33m\u001b[0m\u001b[1;33m\u001b[0m\u001b[0m\n\u001b[0m\u001b[0;32m   1058\u001b[0m \u001b[1;33m\u001b[0m\u001b[0m\n\u001b[0;32m   1059\u001b[0m         \u001b[1;32mif\u001b[0m \u001b[0mindex\u001b[0m \u001b[1;32mis\u001b[0m \u001b[1;32mNone\u001b[0m\u001b[1;33m:\u001b[0m\u001b[1;33m\u001b[0m\u001b[1;33m\u001b[0m\u001b[0m\n",
      "\u001b[1;32m~\\Anaconda3\\lib\\site-packages\\pandas\\io\\parsers.py\u001b[0m in \u001b[0;36mread\u001b[1;34m(self, nrows)\u001b[0m\n\u001b[0;32m   2059\u001b[0m     \u001b[1;32mdef\u001b[0m \u001b[0mread\u001b[0m\u001b[1;33m(\u001b[0m\u001b[0mself\u001b[0m\u001b[1;33m,\u001b[0m \u001b[0mnrows\u001b[0m\u001b[1;33m=\u001b[0m\u001b[1;32mNone\u001b[0m\u001b[1;33m)\u001b[0m\u001b[1;33m:\u001b[0m\u001b[1;33m\u001b[0m\u001b[1;33m\u001b[0m\u001b[0m\n\u001b[0;32m   2060\u001b[0m         \u001b[1;32mtry\u001b[0m\u001b[1;33m:\u001b[0m\u001b[1;33m\u001b[0m\u001b[1;33m\u001b[0m\u001b[0m\n\u001b[1;32m-> 2061\u001b[1;33m             \u001b[0mdata\u001b[0m \u001b[1;33m=\u001b[0m \u001b[0mself\u001b[0m\u001b[1;33m.\u001b[0m\u001b[0m_reader\u001b[0m\u001b[1;33m.\u001b[0m\u001b[0mread\u001b[0m\u001b[1;33m(\u001b[0m\u001b[0mnrows\u001b[0m\u001b[1;33m)\u001b[0m\u001b[1;33m\u001b[0m\u001b[1;33m\u001b[0m\u001b[0m\n\u001b[0m\u001b[0;32m   2062\u001b[0m         \u001b[1;32mexcept\u001b[0m \u001b[0mStopIteration\u001b[0m\u001b[1;33m:\u001b[0m\u001b[1;33m\u001b[0m\u001b[1;33m\u001b[0m\u001b[0m\n\u001b[0;32m   2063\u001b[0m             \u001b[1;32mif\u001b[0m \u001b[0mself\u001b[0m\u001b[1;33m.\u001b[0m\u001b[0m_first_chunk\u001b[0m\u001b[1;33m:\u001b[0m\u001b[1;33m\u001b[0m\u001b[1;33m\u001b[0m\u001b[0m\n",
      "\u001b[1;32mpandas\\_libs\\parsers.pyx\u001b[0m in \u001b[0;36mpandas._libs.parsers.TextReader.read\u001b[1;34m()\u001b[0m\n",
      "\u001b[1;32mpandas\\_libs\\parsers.pyx\u001b[0m in \u001b[0;36mpandas._libs.parsers.TextReader._read_low_memory\u001b[1;34m()\u001b[0m\n",
      "\u001b[1;32mpandas\\_libs\\parsers.pyx\u001b[0m in \u001b[0;36mpandas._libs.parsers.TextReader._read_rows\u001b[1;34m()\u001b[0m\n",
      "\u001b[1;32mpandas\\_libs\\parsers.pyx\u001b[0m in \u001b[0;36mpandas._libs.parsers.TextReader._tokenize_rows\u001b[1;34m()\u001b[0m\n",
      "\u001b[1;32mpandas\\_libs\\parsers.pyx\u001b[0m in \u001b[0;36mpandas._libs.parsers.raise_parser_error\u001b[1;34m()\u001b[0m\n",
      "\u001b[1;31mParserError\u001b[0m: Error tokenizing data. C error: Calling read(nbytes) on source failed. Try engine='python'."
     ]
    }
   ],
   "source": [
    "%matplotlib inline\n",
    "\n",
    "# Run TCDF with a provided dataset of Finance (see https://github.com/M-Nauta/TCDF)\n",
    "\n",
    "%run -i \"runTCDF.py\"  --ground_truth data/random-rels_20_1_3_returns30007000_header.csv=data/random-rels_20_1_3.csv --learning_rate 0.01 --hidden_layers 1 --epochs 5000 --log_interval 1000 --significance 0.8 --dilation_coefficient 4 --kernel_size 4 --seed 77217 --plot"
   ]
  },
  {
   "cell_type": "code",
   "execution_count": 8,
   "metadata": {
    "scrolled": true
   },
   "outputs": [
    {
     "name": "stdout",
     "output_type": "stream",
     "text": [
      "Arguments: Namespace(cuda=False, data=['data/random-rels_20_1_3_returns30007000_header.csv'], dilation_coefficient=4, early_stopping=True, epochs=2000, hidden_layers=1, kernel_size=4, learning_rate=0.01, log_interval=1000, lr_scheduler=True, optimizer='Adam', plot=True, seed=77217, train_test_split=0.8)\n",
      "\n",
      " Analysis started for target:  S0\n"
     ]
    },
    {
     "ename": "AttributeError",
     "evalue": "module 'torch' has no attribute '_six'",
     "output_type": "error",
     "traceback": [
      "\u001b[1;31m---------------------------------------------------------------------------\u001b[0m",
      "\u001b[1;31mAttributeError\u001b[0m                            Traceback (most recent call last)",
      "\u001b[1;32m~\\Documents\\GitHub\\thesis\\TCDF\\evaluate_predictions_TCDF.py\u001b[0m in \u001b[0;36m<module>\u001b[1;34m\u001b[0m\n\u001b[0;32m    231\u001b[0m \u001b[0mallres\u001b[0m \u001b[1;33m=\u001b[0m \u001b[1;33m[\u001b[0m\u001b[1;33m]\u001b[0m\u001b[1;33m\u001b[0m\u001b[1;33m\u001b[0m\u001b[0m\n\u001b[0;32m    232\u001b[0m \u001b[1;32mfor\u001b[0m \u001b[0mdatafile\u001b[0m \u001b[1;32min\u001b[0m \u001b[0mdatasets\u001b[0m\u001b[1;33m:\u001b[0m\u001b[1;33m\u001b[0m\u001b[1;33m\u001b[0m\u001b[0m\n\u001b[1;32m--> 233\u001b[1;33m     \u001b[0mallres\u001b[0m\u001b[1;33m,\u001b[0m\u001b[0mavg\u001b[0m\u001b[1;33m,\u001b[0m\u001b[0mstd\u001b[0m\u001b[1;33m,\u001b[0m\u001b[0mpredictions\u001b[0m\u001b[1;33m,\u001b[0m\u001b[0maccuracy\u001b[0m \u001b[1;33m=\u001b[0m \u001b[0mevaluate\u001b[0m\u001b[1;33m(\u001b[0m\u001b[0mdatafile\u001b[0m\u001b[1;33m)\u001b[0m\u001b[1;33m\u001b[0m\u001b[1;33m\u001b[0m\u001b[0m\n\u001b[0m\u001b[0;32m    234\u001b[0m     \u001b[0mevalresults\u001b[0m\u001b[1;33m[\u001b[0m\u001b[0mdatafile\u001b[0m\u001b[1;33m]\u001b[0m\u001b[1;33m=\u001b[0m\u001b[1;33m(\u001b[0m\u001b[0mavg\u001b[0m\u001b[1;33m,\u001b[0m \u001b[0mstd\u001b[0m\u001b[1;33m)\u001b[0m\u001b[1;33m\u001b[0m\u001b[1;33m\u001b[0m\u001b[0m\n\u001b[0;32m    235\u001b[0m     \u001b[0mprint\u001b[0m\u001b[1;33m(\u001b[0m\u001b[1;34m\"\\nMean Absolute Scaled Error (MASE) averaged over all time series in\"\u001b[0m\u001b[1;33m,\u001b[0m \u001b[0mdatafile\u001b[0m\u001b[1;33m,\u001b[0m\u001b[1;34m\":\"\u001b[0m\u001b[1;33m,\u001b[0m\u001b[0mevalresults\u001b[0m\u001b[1;33m[\u001b[0m\u001b[0mdatafile\u001b[0m\u001b[1;33m]\u001b[0m\u001b[1;33m[\u001b[0m\u001b[1;36m0\u001b[0m\u001b[1;33m]\u001b[0m\u001b[1;33m,\u001b[0m\u001b[1;34m\"with standard deviation\"\u001b[0m\u001b[1;33m,\u001b[0m\u001b[0mevalresults\u001b[0m\u001b[1;33m[\u001b[0m\u001b[0mdatafile\u001b[0m\u001b[1;33m]\u001b[0m\u001b[1;33m[\u001b[0m\u001b[1;36m1\u001b[0m\u001b[1;33m]\u001b[0m\u001b[1;33m)\u001b[0m\u001b[1;33m\u001b[0m\u001b[1;33m\u001b[0m\u001b[0m\n",
      "\u001b[1;32m~\\Documents\\GitHub\\thesis\\TCDF\\evaluate_predictions_TCDF.py\u001b[0m in \u001b[0;36mevaluate\u001b[1;34m(datafile)\u001b[0m\n\u001b[0;32m    167\u001b[0m     \u001b[0maccuracy\u001b[0m \u001b[1;33m=\u001b[0m \u001b[0mdict\u001b[0m\u001b[1;33m(\u001b[0m\u001b[1;33m)\u001b[0m\u001b[1;33m\u001b[0m\u001b[1;33m\u001b[0m\u001b[0m\n\u001b[0;32m    168\u001b[0m     \u001b[1;32mfor\u001b[0m \u001b[0mc\u001b[0m \u001b[1;32min\u001b[0m \u001b[0mcolumns\u001b[0m\u001b[1;33m:\u001b[0m\u001b[1;33m\u001b[0m\u001b[1;33m\u001b[0m\u001b[0m\n\u001b[1;32m--> 169\u001b[1;33m         MASE, prediction = evaluate_prediction(c, cuda=cuda, epochs=nrepochs, \n\u001b[0m\u001b[0;32m    170\u001b[0m         \u001b[0mkernel_size\u001b[0m\u001b[1;33m=\u001b[0m\u001b[0mkernel_size\u001b[0m\u001b[1;33m,\u001b[0m \u001b[0mlayers\u001b[0m\u001b[1;33m=\u001b[0m\u001b[0mlevels\u001b[0m\u001b[1;33m,\u001b[0m \u001b[0mlog_interval\u001b[0m\u001b[1;33m=\u001b[0m\u001b[0mlog_interval\u001b[0m\u001b[1;33m,\u001b[0m\u001b[1;33m\u001b[0m\u001b[1;33m\u001b[0m\u001b[0m\n\u001b[0;32m    171\u001b[0m         \u001b[0mlr\u001b[0m\u001b[1;33m=\u001b[0m\u001b[0mlearningrate\u001b[0m\u001b[1;33m,\u001b[0m \u001b[0moptimizername\u001b[0m\u001b[1;33m=\u001b[0m\u001b[0moptimizername\u001b[0m\u001b[1;33m,\u001b[0m\u001b[1;33m\u001b[0m\u001b[1;33m\u001b[0m\u001b[0m\n",
      "\u001b[1;32m~\\Documents\\GitHub\\thesis\\TCDF\\evaluate_predictions_TCDF.py\u001b[0m in \u001b[0;36mevaluate_prediction\u001b[1;34m(target, cuda, epochs, kernel_size, layers, log_interval, lr, optimizername, seed, dilation_c, split, file, lr_scheduler, early_stopping)\u001b[0m\n\u001b[0;32m     68\u001b[0m     \u001b[0mtargetidx\u001b[0m \u001b[1;33m=\u001b[0m \u001b[0mpd\u001b[0m\u001b[1;33m.\u001b[0m\u001b[0mread_csv\u001b[0m\u001b[1;33m(\u001b[0m\u001b[0mfile\u001b[0m\u001b[1;33m)\u001b[0m\u001b[1;33m.\u001b[0m\u001b[0mcolumns\u001b[0m\u001b[1;33m.\u001b[0m\u001b[0mget_loc\u001b[0m\u001b[1;33m(\u001b[0m\u001b[0mtarget\u001b[0m\u001b[1;33m)\u001b[0m\u001b[1;33m\u001b[0m\u001b[1;33m\u001b[0m\u001b[0m\n\u001b[0;32m     69\u001b[0m \u001b[1;33m\u001b[0m\u001b[0m\n\u001b[1;32m---> 70\u001b[1;33m     \u001b[0mmodel\u001b[0m \u001b[1;33m=\u001b[0m \u001b[0mADDSTCN\u001b[0m\u001b[1;33m(\u001b[0m\u001b[0mtargetidx\u001b[0m\u001b[1;33m,\u001b[0m \u001b[0minput_channels\u001b[0m\u001b[1;33m,\u001b[0m \u001b[0mlevels\u001b[0m\u001b[1;33m,\u001b[0m \u001b[0mkernel_size\u001b[0m\u001b[1;33m=\u001b[0m\u001b[0mkernel_size\u001b[0m\u001b[1;33m,\u001b[0m \u001b[0mcuda\u001b[0m\u001b[1;33m=\u001b[0m\u001b[0mcuda\u001b[0m\u001b[1;33m,\u001b[0m \u001b[0mdilation_c\u001b[0m\u001b[1;33m=\u001b[0m\u001b[0mdilation_c\u001b[0m\u001b[1;33m)\u001b[0m\u001b[1;33m\u001b[0m\u001b[1;33m\u001b[0m\u001b[0m\n\u001b[0m\u001b[0;32m     71\u001b[0m     \u001b[1;32mif\u001b[0m \u001b[0mcuda\u001b[0m\u001b[1;33m:\u001b[0m\u001b[1;33m\u001b[0m\u001b[1;33m\u001b[0m\u001b[0m\n\u001b[0;32m     72\u001b[0m         \u001b[0mmodel\u001b[0m\u001b[1;33m.\u001b[0m\u001b[0mcuda\u001b[0m\u001b[1;33m(\u001b[0m\u001b[1;33m)\u001b[0m\u001b[1;33m\u001b[0m\u001b[1;33m\u001b[0m\u001b[0m\n",
      "\u001b[1;32m~\\Documents\\GitHub\\thesis\\TCDF\\model.py\u001b[0m in \u001b[0;36m__init__\u001b[1;34m(self, target, input_size, num_levels, kernel_size, cuda, dilation_c)\u001b[0m\n\u001b[0;32m     12\u001b[0m \u001b[1;33m\u001b[0m\u001b[0m\n\u001b[0;32m     13\u001b[0m         \u001b[0mself\u001b[0m\u001b[1;33m.\u001b[0m\u001b[0mtarget\u001b[0m\u001b[1;33m=\u001b[0m\u001b[0mtarget\u001b[0m\u001b[1;33m\u001b[0m\u001b[1;33m\u001b[0m\u001b[0m\n\u001b[1;32m---> 14\u001b[1;33m         \u001b[0mself\u001b[0m\u001b[1;33m.\u001b[0m\u001b[0mdwn\u001b[0m \u001b[1;33m=\u001b[0m \u001b[0mDepthwiseNet\u001b[0m\u001b[1;33m(\u001b[0m\u001b[0mself\u001b[0m\u001b[1;33m.\u001b[0m\u001b[0mtarget\u001b[0m\u001b[1;33m,\u001b[0m \u001b[0minput_size\u001b[0m\u001b[1;33m,\u001b[0m \u001b[0mnum_levels\u001b[0m\u001b[1;33m,\u001b[0m \u001b[0mkernel_size\u001b[0m\u001b[1;33m=\u001b[0m\u001b[0mkernel_size\u001b[0m\u001b[1;33m,\u001b[0m \u001b[0mdilation_c\u001b[0m\u001b[1;33m=\u001b[0m\u001b[0mdilation_c\u001b[0m\u001b[1;33m)\u001b[0m\u001b[1;33m\u001b[0m\u001b[1;33m\u001b[0m\u001b[0m\n\u001b[0m\u001b[0;32m     15\u001b[0m         \u001b[0mself\u001b[0m\u001b[1;33m.\u001b[0m\u001b[0mpointwise\u001b[0m \u001b[1;33m=\u001b[0m \u001b[0mnn\u001b[0m\u001b[1;33m.\u001b[0m\u001b[0mConv1d\u001b[0m\u001b[1;33m(\u001b[0m\u001b[0minput_size\u001b[0m\u001b[1;33m,\u001b[0m \u001b[1;36m1\u001b[0m\u001b[1;33m,\u001b[0m \u001b[1;36m1\u001b[0m\u001b[1;33m)\u001b[0m\u001b[1;33m\u001b[0m\u001b[1;33m\u001b[0m\u001b[0m\n\u001b[0;32m     16\u001b[0m \u001b[1;33m\u001b[0m\u001b[0m\n",
      "\u001b[1;32m~\\Documents\\GitHub\\thesis\\TCDF\\depthwise.py\u001b[0m in \u001b[0;36m__init__\u001b[1;34m(self, target, num_inputs, num_levels, kernel_size, dilation_c)\u001b[0m\n\u001b[0;32m     81\u001b[0m             \u001b[0mdilation_size\u001b[0m \u001b[1;33m=\u001b[0m \u001b[0mdilation_c\u001b[0m \u001b[1;33m**\u001b[0m \u001b[0ml\u001b[0m\u001b[1;33m\u001b[0m\u001b[1;33m\u001b[0m\u001b[0m\n\u001b[0;32m     82\u001b[0m             \u001b[1;32mif\u001b[0m \u001b[0ml\u001b[0m\u001b[1;33m==\u001b[0m\u001b[1;36m0\u001b[0m\u001b[1;33m:\u001b[0m\u001b[1;33m\u001b[0m\u001b[1;33m\u001b[0m\u001b[0m\n\u001b[1;32m---> 83\u001b[1;33m                 layers += [FirstBlock(target, in_channels, out_channels, kernel_size, stride=1, dilation=dilation_size,\n\u001b[0m\u001b[0;32m     84\u001b[0m                                      padding=(kernel_size-1) * dilation_size)]\n\u001b[0;32m     85\u001b[0m             \u001b[1;32melif\u001b[0m \u001b[0ml\u001b[0m\u001b[1;33m==\u001b[0m\u001b[0mnum_levels\u001b[0m\u001b[1;33m-\u001b[0m\u001b[1;36m1\u001b[0m\u001b[1;33m:\u001b[0m\u001b[1;33m\u001b[0m\u001b[1;33m\u001b[0m\u001b[0m\n",
      "\u001b[1;32m~\\Documents\\GitHub\\thesis\\TCDF\\depthwise.py\u001b[0m in \u001b[0;36m__init__\u001b[1;34m(self, target, n_inputs, n_outputs, kernel_size, stride, dilation, padding)\u001b[0m\n\u001b[0;32m     17\u001b[0m \u001b[1;33m\u001b[0m\u001b[0m\n\u001b[0;32m     18\u001b[0m         \u001b[0mself\u001b[0m\u001b[1;33m.\u001b[0m\u001b[0mtarget\u001b[0m \u001b[1;33m=\u001b[0m \u001b[0mtarget\u001b[0m\u001b[1;33m\u001b[0m\u001b[1;33m\u001b[0m\u001b[0m\n\u001b[1;32m---> 19\u001b[1;33m         self.conv1 = nn.Conv1d(n_inputs, n_outputs, kernel_size,\n\u001b[0m\u001b[0;32m     20\u001b[0m                                            stride=stride, padding=padding, dilation=dilation, groups=n_outputs)\n\u001b[0;32m     21\u001b[0m \u001b[1;33m\u001b[0m\u001b[0m\n",
      "\u001b[1;32m~\\Anaconda3\\lib\\site-packages\\torch\\nn\\modules\\conv.py\u001b[0m in \u001b[0;36m__init__\u001b[1;34m(self, in_channels, out_channels, kernel_size, stride, padding, dilation, groups, bias, padding_mode, device, dtype)\u001b[0m\n\u001b[0;32m    283\u001b[0m         \u001b[0mpadding_\u001b[0m \u001b[1;33m=\u001b[0m \u001b[0mpadding\u001b[0m \u001b[1;32mif\u001b[0m \u001b[0misinstance\u001b[0m\u001b[1;33m(\u001b[0m\u001b[0mpadding\u001b[0m\u001b[1;33m,\u001b[0m \u001b[0mstr\u001b[0m\u001b[1;33m)\u001b[0m \u001b[1;32melse\u001b[0m \u001b[0m_single\u001b[0m\u001b[1;33m(\u001b[0m\u001b[0mpadding\u001b[0m\u001b[1;33m)\u001b[0m\u001b[1;33m\u001b[0m\u001b[1;33m\u001b[0m\u001b[0m\n\u001b[0;32m    284\u001b[0m         \u001b[0mdilation_\u001b[0m \u001b[1;33m=\u001b[0m \u001b[0m_single\u001b[0m\u001b[1;33m(\u001b[0m\u001b[0mdilation\u001b[0m\u001b[1;33m)\u001b[0m\u001b[1;33m\u001b[0m\u001b[1;33m\u001b[0m\u001b[0m\n\u001b[1;32m--> 285\u001b[1;33m         super(Conv1d, self).__init__(\n\u001b[0m\u001b[0;32m    286\u001b[0m             \u001b[0min_channels\u001b[0m\u001b[1;33m,\u001b[0m \u001b[0mout_channels\u001b[0m\u001b[1;33m,\u001b[0m \u001b[0mkernel_size_\u001b[0m\u001b[1;33m,\u001b[0m \u001b[0mstride_\u001b[0m\u001b[1;33m,\u001b[0m \u001b[0mpadding_\u001b[0m\u001b[1;33m,\u001b[0m \u001b[0mdilation_\u001b[0m\u001b[1;33m,\u001b[0m\u001b[1;33m\u001b[0m\u001b[1;33m\u001b[0m\u001b[0m\n\u001b[0;32m    287\u001b[0m             False, _single(0), groups, bias, padding_mode, **factory_kwargs)\n",
      "\u001b[1;32m~\\Anaconda3\\lib\\site-packages\\torch\\nn\\modules\\conv.py\u001b[0m in \u001b[0;36m__init__\u001b[1;34m(self, in_channels, out_channels, kernel_size, stride, padding, dilation, transposed, output_padding, groups, bias, padding_mode, device, dtype)\u001b[0m\n\u001b[0;32m    129\u001b[0m                 (in_channels, out_channels // groups, *kernel_size), **factory_kwargs))\n\u001b[0;32m    130\u001b[0m         \u001b[1;32melse\u001b[0m\u001b[1;33m:\u001b[0m\u001b[1;33m\u001b[0m\u001b[1;33m\u001b[0m\u001b[0m\n\u001b[1;32m--> 131\u001b[1;33m             self.weight = Parameter(torch.empty(\n\u001b[0m\u001b[0;32m    132\u001b[0m                 (out_channels, in_channels // groups, *kernel_size), **factory_kwargs))\n\u001b[0;32m    133\u001b[0m         \u001b[1;32mif\u001b[0m \u001b[0mbias\u001b[0m\u001b[1;33m:\u001b[0m\u001b[1;33m\u001b[0m\u001b[1;33m\u001b[0m\u001b[0m\n",
      "\u001b[1;32m~\\Anaconda3\\lib\\site-packages\\torch\\nn\\modules\\module.py\u001b[0m in \u001b[0;36m__setattr__\u001b[1;34m(self, name, value)\u001b[0m\n\u001b[0;32m   1146\u001b[0m                     \"cannot assign parameters before Module.__init__() call\")\n\u001b[0;32m   1147\u001b[0m             \u001b[0mremove_from\u001b[0m\u001b[1;33m(\u001b[0m\u001b[0mself\u001b[0m\u001b[1;33m.\u001b[0m\u001b[0m__dict__\u001b[0m\u001b[1;33m,\u001b[0m \u001b[0mself\u001b[0m\u001b[1;33m.\u001b[0m\u001b[0m_buffers\u001b[0m\u001b[1;33m,\u001b[0m \u001b[0mself\u001b[0m\u001b[1;33m.\u001b[0m\u001b[0m_modules\u001b[0m\u001b[1;33m,\u001b[0m \u001b[0mself\u001b[0m\u001b[1;33m.\u001b[0m\u001b[0m_non_persistent_buffers_set\u001b[0m\u001b[1;33m)\u001b[0m\u001b[1;33m\u001b[0m\u001b[1;33m\u001b[0m\u001b[0m\n\u001b[1;32m-> 1148\u001b[1;33m             \u001b[0mself\u001b[0m\u001b[1;33m.\u001b[0m\u001b[0mregister_parameter\u001b[0m\u001b[1;33m(\u001b[0m\u001b[0mname\u001b[0m\u001b[1;33m,\u001b[0m \u001b[0mvalue\u001b[0m\u001b[1;33m)\u001b[0m\u001b[1;33m\u001b[0m\u001b[1;33m\u001b[0m\u001b[0m\n\u001b[0m\u001b[0;32m   1149\u001b[0m         \u001b[1;32melif\u001b[0m \u001b[0mparams\u001b[0m \u001b[1;32mis\u001b[0m \u001b[1;32mnot\u001b[0m \u001b[1;32mNone\u001b[0m \u001b[1;32mand\u001b[0m \u001b[0mname\u001b[0m \u001b[1;32min\u001b[0m \u001b[0mparams\u001b[0m\u001b[1;33m:\u001b[0m\u001b[1;33m\u001b[0m\u001b[1;33m\u001b[0m\u001b[0m\n\u001b[0;32m   1150\u001b[0m             \u001b[1;32mif\u001b[0m \u001b[0mvalue\u001b[0m \u001b[1;32mis\u001b[0m \u001b[1;32mnot\u001b[0m \u001b[1;32mNone\u001b[0m\u001b[1;33m:\u001b[0m\u001b[1;33m\u001b[0m\u001b[1;33m\u001b[0m\u001b[0m\n",
      "\u001b[1;32m~\\Anaconda3\\lib\\site-packages\\torch\\nn\\modules\\module.py\u001b[0m in \u001b[0;36mregister_parameter\u001b[1;34m(self, name, param)\u001b[0m\n\u001b[0;32m    334\u001b[0m                 \"cannot assign parameter before Module.__init__() call\")\n\u001b[0;32m    335\u001b[0m \u001b[1;33m\u001b[0m\u001b[0m\n\u001b[1;32m--> 336\u001b[1;33m         \u001b[1;32melif\u001b[0m \u001b[1;32mnot\u001b[0m \u001b[0misinstance\u001b[0m\u001b[1;33m(\u001b[0m\u001b[0mname\u001b[0m\u001b[1;33m,\u001b[0m \u001b[0mtorch\u001b[0m\u001b[1;33m.\u001b[0m\u001b[0m_six\u001b[0m\u001b[1;33m.\u001b[0m\u001b[0mstring_classes\u001b[0m\u001b[1;33m)\u001b[0m\u001b[1;33m:\u001b[0m\u001b[1;33m\u001b[0m\u001b[1;33m\u001b[0m\u001b[0m\n\u001b[0m\u001b[0;32m    337\u001b[0m             raise TypeError(\"parameter name should be a string. \"\n\u001b[0;32m    338\u001b[0m                             \"Got {}\".format(torch.typename(name)))\n",
      "\u001b[1;31mAttributeError\u001b[0m: module 'torch' has no attribute '_six'"
     ]
    }
   ],
   "source": [
    "# Run TCDF for predictive accuracy\n",
    "\n",
    "%run -i \"evaluate_predictions_TCDF.py\" --data data/random-rels_20_1_3_returns30007000_header.csv --learning_rate 0.01 --hidden_layers 1 --epochs 2000 --log_interval 1000 --dilation_coefficient 4 --kernel_size 4 --seed 77217 --plot --train_test_split 0.8"
   ]
  },
  {
   "cell_type": "markdown",
   "metadata": {},
   "source": [
    "#### TCDF Dataset random-rels_20_1_3.csv: second run (in triplicate, 0 hidden layers) "
   ]
  },
  {
   "cell_type": "code",
   "execution_count": 9,
   "metadata": {
    "scrolled": true
   },
   "outputs": [
    {
     "name": "stdout",
     "output_type": "stream",
     "text": [
      "Arguments: Namespace(cuda=False, data=None, dilation_coefficient=4, early_stopping=True, epochs=5000, ground_truth={'data/random-rels_20_1_3_returns30007000_header.csv': 'data/random-rels_20_1_3.csv'}, hidden_layers=0, kernel_size=4, learning_rate=0.01, log_interval=1000, lr_scheduler=True, optimizer='Adam', plot=True, seed=88447, significance=0.8)\n",
      "\n",
      " Dataset:  random-rels_20_1_3_returns30007000_header.csv\n",
      "\n",
      " Analysis started for target:  S0\n"
     ]
    },
    {
     "ename": "AttributeError",
     "evalue": "module 'torch' has no attribute '_six'",
     "output_type": "error",
     "traceback": [
      "\u001b[1;31m---------------------------------------------------------------------------\u001b[0m",
      "\u001b[1;31mAttributeError\u001b[0m                            Traceback (most recent call last)",
      "\u001b[1;32m~\\Documents\\GitHub\\thesis\\TCDF\\runTCDF.py\u001b[0m in \u001b[0;36m<module>\u001b[1;34m\u001b[0m\n\u001b[0;32m    356\u001b[0m \u001b[1;32mif\u001b[0m \u001b[0margs\u001b[0m\u001b[1;33m.\u001b[0m\u001b[0mground_truth\u001b[0m \u001b[1;32mis\u001b[0m \u001b[1;32mnot\u001b[0m \u001b[1;32mNone\u001b[0m\u001b[1;33m:\u001b[0m\u001b[1;33m\u001b[0m\u001b[1;33m\u001b[0m\u001b[0m\n\u001b[0;32m    357\u001b[0m     \u001b[0mdatafiles\u001b[0m \u001b[1;33m=\u001b[0m \u001b[0margs\u001b[0m\u001b[1;33m.\u001b[0m\u001b[0mground_truth\u001b[0m\u001b[1;33m\u001b[0m\u001b[1;33m\u001b[0m\u001b[0m\n\u001b[1;32m--> 358\u001b[1;33m     \u001b[0mmain\u001b[0m\u001b[1;33m(\u001b[0m\u001b[0mdatafiles\u001b[0m\u001b[1;33m,\u001b[0m \u001b[0mevaluation\u001b[0m\u001b[1;33m=\u001b[0m\u001b[1;32mTrue\u001b[0m\u001b[1;33m)\u001b[0m\u001b[1;33m\u001b[0m\u001b[1;33m\u001b[0m\u001b[0m\n\u001b[0m\u001b[0;32m    359\u001b[0m \u001b[1;33m\u001b[0m\u001b[0m\n\u001b[0;32m    360\u001b[0m \u001b[1;32melse\u001b[0m\u001b[1;33m:\u001b[0m\u001b[1;33m\u001b[0m\u001b[1;33m\u001b[0m\u001b[0m\n",
      "\u001b[1;32m~\\Documents\\GitHub\\thesis\\TCDF\\runTCDF.py\u001b[0m in \u001b[0;36mmain\u001b[1;34m(datafiles, evaluation)\u001b[0m\n\u001b[0;32m    268\u001b[0m \u001b[1;33m\u001b[0m\u001b[0m\n\u001b[0;32m    269\u001b[0m         \u001b[1;31m# run TCDF\u001b[0m\u001b[1;33m\u001b[0m\u001b[1;33m\u001b[0m\u001b[1;33m\u001b[0m\u001b[0m\n\u001b[1;32m--> 270\u001b[1;33m         \u001b[0mallcauses\u001b[0m\u001b[1;33m,\u001b[0m \u001b[0malldelays\u001b[0m\u001b[1;33m,\u001b[0m \u001b[0mallreallosses\u001b[0m\u001b[1;33m,\u001b[0m \u001b[0mallscores\u001b[0m\u001b[1;33m,\u001b[0m \u001b[0mcolumns\u001b[0m\u001b[1;33m,\u001b[0m \u001b[0malllosses\u001b[0m \u001b[1;33m=\u001b[0m \u001b[0mrunTCDF\u001b[0m\u001b[1;33m(\u001b[0m\u001b[0mdatafile\u001b[0m\u001b[1;33m)\u001b[0m \u001b[1;31m#results of TCDF containing indices of causes and effects\u001b[0m\u001b[1;33m\u001b[0m\u001b[1;33m\u001b[0m\u001b[0m\n\u001b[0m\u001b[0;32m    271\u001b[0m \u001b[1;33m\u001b[0m\u001b[0m\n\u001b[0;32m    272\u001b[0m         \u001b[0mprint\u001b[0m\u001b[1;33m(\u001b[0m\u001b[1;34m\"\\n===================Results for\"\u001b[0m\u001b[1;33m,\u001b[0m \u001b[0mstringdatafile\u001b[0m\u001b[1;33m,\u001b[0m\u001b[1;34m\"==================================\"\u001b[0m\u001b[1;33m)\u001b[0m\u001b[1;33m\u001b[0m\u001b[1;33m\u001b[0m\u001b[0m\n",
      "\u001b[1;32m~\\Documents\\GitHub\\thesis\\TCDF\\runTCDF.py\u001b[0m in \u001b[0;36mrunTCDF\u001b[1;34m(datafile)\u001b[0m\n\u001b[0;32m    209\u001b[0m     \u001b[1;32mfor\u001b[0m \u001b[0mc\u001b[0m \u001b[1;32min\u001b[0m \u001b[0mcolumns\u001b[0m\u001b[1;33m:\u001b[0m\u001b[1;33m\u001b[0m\u001b[1;33m\u001b[0m\u001b[0m\n\u001b[0;32m    210\u001b[0m         \u001b[0midx\u001b[0m \u001b[1;33m=\u001b[0m \u001b[0mdf_data\u001b[0m\u001b[1;33m.\u001b[0m\u001b[0mcolumns\u001b[0m\u001b[1;33m.\u001b[0m\u001b[0mget_loc\u001b[0m\u001b[1;33m(\u001b[0m\u001b[0mc\u001b[0m\u001b[1;33m)\u001b[0m\u001b[1;33m\u001b[0m\u001b[1;33m\u001b[0m\u001b[0m\n\u001b[1;32m--> 211\u001b[1;33m         causes, causeswithdelay, realloss, scores, losses = TCDF.findcauses(c, cuda=cuda, epochs=nrepochs, \n\u001b[0m\u001b[0;32m    212\u001b[0m         \u001b[0mkernel_size\u001b[0m\u001b[1;33m=\u001b[0m\u001b[0mkernel_size\u001b[0m\u001b[1;33m,\u001b[0m \u001b[0mlayers\u001b[0m\u001b[1;33m=\u001b[0m\u001b[0mlevels\u001b[0m\u001b[1;33m,\u001b[0m \u001b[0mlog_interval\u001b[0m\u001b[1;33m=\u001b[0m\u001b[0mloginterval\u001b[0m\u001b[1;33m,\u001b[0m\u001b[1;33m\u001b[0m\u001b[1;33m\u001b[0m\u001b[0m\n\u001b[0;32m    213\u001b[0m         \u001b[0mlr\u001b[0m\u001b[1;33m=\u001b[0m\u001b[0mlearningrate\u001b[0m\u001b[1;33m,\u001b[0m \u001b[0moptimizername\u001b[0m\u001b[1;33m=\u001b[0m\u001b[0moptimizername\u001b[0m\u001b[1;33m,\u001b[0m\u001b[1;33m\u001b[0m\u001b[1;33m\u001b[0m\u001b[0m\n",
      "\u001b[1;32m~\\Documents\\GitHub\\thesis\\TCDF\\TCDF.py\u001b[0m in \u001b[0;36mfindcauses\u001b[1;34m(target, cuda, epochs, kernel_size, layers, log_interval, lr, optimizername, seed, dilation_c, significance, file, lr_scheduler, early_stopping)\u001b[0m\n\u001b[0;32m     70\u001b[0m     \u001b[0mtargetidx\u001b[0m \u001b[1;33m=\u001b[0m \u001b[0mpd\u001b[0m\u001b[1;33m.\u001b[0m\u001b[0mread_csv\u001b[0m\u001b[1;33m(\u001b[0m\u001b[0mfile\u001b[0m\u001b[1;33m)\u001b[0m\u001b[1;33m.\u001b[0m\u001b[0mcolumns\u001b[0m\u001b[1;33m.\u001b[0m\u001b[0mget_loc\u001b[0m\u001b[1;33m(\u001b[0m\u001b[0mtarget\u001b[0m\u001b[1;33m)\u001b[0m\u001b[1;33m\u001b[0m\u001b[1;33m\u001b[0m\u001b[0m\n\u001b[0;32m     71\u001b[0m \u001b[1;33m\u001b[0m\u001b[0m\n\u001b[1;32m---> 72\u001b[1;33m     \u001b[0mmodel\u001b[0m \u001b[1;33m=\u001b[0m \u001b[0mADDSTCN\u001b[0m\u001b[1;33m(\u001b[0m\u001b[0mtargetidx\u001b[0m\u001b[1;33m,\u001b[0m \u001b[0minput_channels\u001b[0m\u001b[1;33m,\u001b[0m \u001b[0mlayers\u001b[0m\u001b[1;33m,\u001b[0m \u001b[0mkernel_size\u001b[0m\u001b[1;33m=\u001b[0m\u001b[0mkernel_size\u001b[0m\u001b[1;33m,\u001b[0m \u001b[0mcuda\u001b[0m\u001b[1;33m=\u001b[0m\u001b[0mcuda\u001b[0m\u001b[1;33m,\u001b[0m \u001b[0mdilation_c\u001b[0m\u001b[1;33m=\u001b[0m\u001b[0mdilation_c\u001b[0m\u001b[1;33m)\u001b[0m\u001b[1;33m\u001b[0m\u001b[1;33m\u001b[0m\u001b[0m\n\u001b[0m\u001b[0;32m     73\u001b[0m     \u001b[1;32mif\u001b[0m \u001b[0mcuda\u001b[0m\u001b[1;33m:\u001b[0m\u001b[1;33m\u001b[0m\u001b[1;33m\u001b[0m\u001b[0m\n\u001b[0;32m     74\u001b[0m         \u001b[0mmodel\u001b[0m\u001b[1;33m.\u001b[0m\u001b[0mcuda\u001b[0m\u001b[1;33m(\u001b[0m\u001b[1;33m)\u001b[0m\u001b[1;33m\u001b[0m\u001b[1;33m\u001b[0m\u001b[0m\n",
      "\u001b[1;32m~\\Documents\\GitHub\\thesis\\TCDF\\model.py\u001b[0m in \u001b[0;36m__init__\u001b[1;34m(self, target, input_size, num_levels, kernel_size, cuda, dilation_c)\u001b[0m\n\u001b[0;32m     12\u001b[0m \u001b[1;33m\u001b[0m\u001b[0m\n\u001b[0;32m     13\u001b[0m         \u001b[0mself\u001b[0m\u001b[1;33m.\u001b[0m\u001b[0mtarget\u001b[0m\u001b[1;33m=\u001b[0m\u001b[0mtarget\u001b[0m\u001b[1;33m\u001b[0m\u001b[1;33m\u001b[0m\u001b[0m\n\u001b[1;32m---> 14\u001b[1;33m         \u001b[0mself\u001b[0m\u001b[1;33m.\u001b[0m\u001b[0mdwn\u001b[0m \u001b[1;33m=\u001b[0m \u001b[0mDepthwiseNet\u001b[0m\u001b[1;33m(\u001b[0m\u001b[0mself\u001b[0m\u001b[1;33m.\u001b[0m\u001b[0mtarget\u001b[0m\u001b[1;33m,\u001b[0m \u001b[0minput_size\u001b[0m\u001b[1;33m,\u001b[0m \u001b[0mnum_levels\u001b[0m\u001b[1;33m,\u001b[0m \u001b[0mkernel_size\u001b[0m\u001b[1;33m=\u001b[0m\u001b[0mkernel_size\u001b[0m\u001b[1;33m,\u001b[0m \u001b[0mdilation_c\u001b[0m\u001b[1;33m=\u001b[0m\u001b[0mdilation_c\u001b[0m\u001b[1;33m)\u001b[0m\u001b[1;33m\u001b[0m\u001b[1;33m\u001b[0m\u001b[0m\n\u001b[0m\u001b[0;32m     15\u001b[0m         \u001b[0mself\u001b[0m\u001b[1;33m.\u001b[0m\u001b[0mpointwise\u001b[0m \u001b[1;33m=\u001b[0m \u001b[0mnn\u001b[0m\u001b[1;33m.\u001b[0m\u001b[0mConv1d\u001b[0m\u001b[1;33m(\u001b[0m\u001b[0minput_size\u001b[0m\u001b[1;33m,\u001b[0m \u001b[1;36m1\u001b[0m\u001b[1;33m,\u001b[0m \u001b[1;36m1\u001b[0m\u001b[1;33m)\u001b[0m\u001b[1;33m\u001b[0m\u001b[1;33m\u001b[0m\u001b[0m\n\u001b[0;32m     16\u001b[0m \u001b[1;33m\u001b[0m\u001b[0m\n",
      "\u001b[1;32m~\\Documents\\GitHub\\thesis\\TCDF\\depthwise.py\u001b[0m in \u001b[0;36m__init__\u001b[1;34m(self, target, num_inputs, num_levels, kernel_size, dilation_c)\u001b[0m\n\u001b[0;32m     81\u001b[0m             \u001b[0mdilation_size\u001b[0m \u001b[1;33m=\u001b[0m \u001b[0mdilation_c\u001b[0m \u001b[1;33m**\u001b[0m \u001b[0ml\u001b[0m\u001b[1;33m\u001b[0m\u001b[1;33m\u001b[0m\u001b[0m\n\u001b[0;32m     82\u001b[0m             \u001b[1;32mif\u001b[0m \u001b[0ml\u001b[0m\u001b[1;33m==\u001b[0m\u001b[1;36m0\u001b[0m\u001b[1;33m:\u001b[0m\u001b[1;33m\u001b[0m\u001b[1;33m\u001b[0m\u001b[0m\n\u001b[1;32m---> 83\u001b[1;33m                 layers += [FirstBlock(target, in_channels, out_channels, kernel_size, stride=1, dilation=dilation_size,\n\u001b[0m\u001b[0;32m     84\u001b[0m                                      padding=(kernel_size-1) * dilation_size)]\n\u001b[0;32m     85\u001b[0m             \u001b[1;32melif\u001b[0m \u001b[0ml\u001b[0m\u001b[1;33m==\u001b[0m\u001b[0mnum_levels\u001b[0m\u001b[1;33m-\u001b[0m\u001b[1;36m1\u001b[0m\u001b[1;33m:\u001b[0m\u001b[1;33m\u001b[0m\u001b[1;33m\u001b[0m\u001b[0m\n",
      "\u001b[1;32m~\\Documents\\GitHub\\thesis\\TCDF\\depthwise.py\u001b[0m in \u001b[0;36m__init__\u001b[1;34m(self, target, n_inputs, n_outputs, kernel_size, stride, dilation, padding)\u001b[0m\n\u001b[0;32m     17\u001b[0m \u001b[1;33m\u001b[0m\u001b[0m\n\u001b[0;32m     18\u001b[0m         \u001b[0mself\u001b[0m\u001b[1;33m.\u001b[0m\u001b[0mtarget\u001b[0m \u001b[1;33m=\u001b[0m \u001b[0mtarget\u001b[0m\u001b[1;33m\u001b[0m\u001b[1;33m\u001b[0m\u001b[0m\n\u001b[1;32m---> 19\u001b[1;33m         self.conv1 = nn.Conv1d(n_inputs, n_outputs, kernel_size,\n\u001b[0m\u001b[0;32m     20\u001b[0m                                            stride=stride, padding=padding, dilation=dilation, groups=n_outputs)\n\u001b[0;32m     21\u001b[0m \u001b[1;33m\u001b[0m\u001b[0m\n",
      "\u001b[1;32m~\\Anaconda3\\lib\\site-packages\\torch\\nn\\modules\\conv.py\u001b[0m in \u001b[0;36m__init__\u001b[1;34m(self, in_channels, out_channels, kernel_size, stride, padding, dilation, groups, bias, padding_mode, device, dtype)\u001b[0m\n\u001b[0;32m    283\u001b[0m         \u001b[0mpadding_\u001b[0m \u001b[1;33m=\u001b[0m \u001b[0mpadding\u001b[0m \u001b[1;32mif\u001b[0m \u001b[0misinstance\u001b[0m\u001b[1;33m(\u001b[0m\u001b[0mpadding\u001b[0m\u001b[1;33m,\u001b[0m \u001b[0mstr\u001b[0m\u001b[1;33m)\u001b[0m \u001b[1;32melse\u001b[0m \u001b[0m_single\u001b[0m\u001b[1;33m(\u001b[0m\u001b[0mpadding\u001b[0m\u001b[1;33m)\u001b[0m\u001b[1;33m\u001b[0m\u001b[1;33m\u001b[0m\u001b[0m\n\u001b[0;32m    284\u001b[0m         \u001b[0mdilation_\u001b[0m \u001b[1;33m=\u001b[0m \u001b[0m_single\u001b[0m\u001b[1;33m(\u001b[0m\u001b[0mdilation\u001b[0m\u001b[1;33m)\u001b[0m\u001b[1;33m\u001b[0m\u001b[1;33m\u001b[0m\u001b[0m\n\u001b[1;32m--> 285\u001b[1;33m         super(Conv1d, self).__init__(\n\u001b[0m\u001b[0;32m    286\u001b[0m             \u001b[0min_channels\u001b[0m\u001b[1;33m,\u001b[0m \u001b[0mout_channels\u001b[0m\u001b[1;33m,\u001b[0m \u001b[0mkernel_size_\u001b[0m\u001b[1;33m,\u001b[0m \u001b[0mstride_\u001b[0m\u001b[1;33m,\u001b[0m \u001b[0mpadding_\u001b[0m\u001b[1;33m,\u001b[0m \u001b[0mdilation_\u001b[0m\u001b[1;33m,\u001b[0m\u001b[1;33m\u001b[0m\u001b[1;33m\u001b[0m\u001b[0m\n\u001b[0;32m    287\u001b[0m             False, _single(0), groups, bias, padding_mode, **factory_kwargs)\n",
      "\u001b[1;32m~\\Anaconda3\\lib\\site-packages\\torch\\nn\\modules\\conv.py\u001b[0m in \u001b[0;36m__init__\u001b[1;34m(self, in_channels, out_channels, kernel_size, stride, padding, dilation, transposed, output_padding, groups, bias, padding_mode, device, dtype)\u001b[0m\n\u001b[0;32m    129\u001b[0m                 (in_channels, out_channels // groups, *kernel_size), **factory_kwargs))\n\u001b[0;32m    130\u001b[0m         \u001b[1;32melse\u001b[0m\u001b[1;33m:\u001b[0m\u001b[1;33m\u001b[0m\u001b[1;33m\u001b[0m\u001b[0m\n\u001b[1;32m--> 131\u001b[1;33m             self.weight = Parameter(torch.empty(\n\u001b[0m\u001b[0;32m    132\u001b[0m                 (out_channels, in_channels // groups, *kernel_size), **factory_kwargs))\n\u001b[0;32m    133\u001b[0m         \u001b[1;32mif\u001b[0m \u001b[0mbias\u001b[0m\u001b[1;33m:\u001b[0m\u001b[1;33m\u001b[0m\u001b[1;33m\u001b[0m\u001b[0m\n",
      "\u001b[1;32m~\\Anaconda3\\lib\\site-packages\\torch\\nn\\modules\\module.py\u001b[0m in \u001b[0;36m__setattr__\u001b[1;34m(self, name, value)\u001b[0m\n\u001b[0;32m   1146\u001b[0m                     \"cannot assign parameters before Module.__init__() call\")\n\u001b[0;32m   1147\u001b[0m             \u001b[0mremove_from\u001b[0m\u001b[1;33m(\u001b[0m\u001b[0mself\u001b[0m\u001b[1;33m.\u001b[0m\u001b[0m__dict__\u001b[0m\u001b[1;33m,\u001b[0m \u001b[0mself\u001b[0m\u001b[1;33m.\u001b[0m\u001b[0m_buffers\u001b[0m\u001b[1;33m,\u001b[0m \u001b[0mself\u001b[0m\u001b[1;33m.\u001b[0m\u001b[0m_modules\u001b[0m\u001b[1;33m,\u001b[0m \u001b[0mself\u001b[0m\u001b[1;33m.\u001b[0m\u001b[0m_non_persistent_buffers_set\u001b[0m\u001b[1;33m)\u001b[0m\u001b[1;33m\u001b[0m\u001b[1;33m\u001b[0m\u001b[0m\n\u001b[1;32m-> 1148\u001b[1;33m             \u001b[0mself\u001b[0m\u001b[1;33m.\u001b[0m\u001b[0mregister_parameter\u001b[0m\u001b[1;33m(\u001b[0m\u001b[0mname\u001b[0m\u001b[1;33m,\u001b[0m \u001b[0mvalue\u001b[0m\u001b[1;33m)\u001b[0m\u001b[1;33m\u001b[0m\u001b[1;33m\u001b[0m\u001b[0m\n\u001b[0m\u001b[0;32m   1149\u001b[0m         \u001b[1;32melif\u001b[0m \u001b[0mparams\u001b[0m \u001b[1;32mis\u001b[0m \u001b[1;32mnot\u001b[0m \u001b[1;32mNone\u001b[0m \u001b[1;32mand\u001b[0m \u001b[0mname\u001b[0m \u001b[1;32min\u001b[0m \u001b[0mparams\u001b[0m\u001b[1;33m:\u001b[0m\u001b[1;33m\u001b[0m\u001b[1;33m\u001b[0m\u001b[0m\n\u001b[0;32m   1150\u001b[0m             \u001b[1;32mif\u001b[0m \u001b[0mvalue\u001b[0m \u001b[1;32mis\u001b[0m \u001b[1;32mnot\u001b[0m \u001b[1;32mNone\u001b[0m\u001b[1;33m:\u001b[0m\u001b[1;33m\u001b[0m\u001b[1;33m\u001b[0m\u001b[0m\n",
      "\u001b[1;32m~\\Anaconda3\\lib\\site-packages\\torch\\nn\\modules\\module.py\u001b[0m in \u001b[0;36mregister_parameter\u001b[1;34m(self, name, param)\u001b[0m\n\u001b[0;32m    334\u001b[0m                 \"cannot assign parameter before Module.__init__() call\")\n\u001b[0;32m    335\u001b[0m \u001b[1;33m\u001b[0m\u001b[0m\n\u001b[1;32m--> 336\u001b[1;33m         \u001b[1;32melif\u001b[0m \u001b[1;32mnot\u001b[0m \u001b[0misinstance\u001b[0m\u001b[1;33m(\u001b[0m\u001b[0mname\u001b[0m\u001b[1;33m,\u001b[0m \u001b[0mtorch\u001b[0m\u001b[1;33m.\u001b[0m\u001b[0m_six\u001b[0m\u001b[1;33m.\u001b[0m\u001b[0mstring_classes\u001b[0m\u001b[1;33m)\u001b[0m\u001b[1;33m:\u001b[0m\u001b[1;33m\u001b[0m\u001b[1;33m\u001b[0m\u001b[0m\n\u001b[0m\u001b[0;32m    337\u001b[0m             raise TypeError(\"parameter name should be a string. \"\n\u001b[0;32m    338\u001b[0m                             \"Got {}\".format(torch.typename(name)))\n",
      "\u001b[1;31mAttributeError\u001b[0m: module 'torch' has no attribute '_six'"
     ]
    }
   ],
   "source": [
    "%matplotlib inline\n",
    "\n",
    "# Run TCDF with a provided dataset of Finance (see https://github.com/M-Nauta/TCDF)\n",
    "\n",
    "%run -i \"runTCDF.py\"  --ground_truth data/random-rels_20_1_3_returns30007000_header.csv=data/random-rels_20_1_3.csv --learning_rate 0.01 --hidden_layers 0 --epochs 5000 --log_interval 1000 --significance 0.8 --dilation_coefficient 4 --kernel_size 4 --seed 88447 --plot"
   ]
  },
  {
   "cell_type": "code",
   "execution_count": 10,
   "metadata": {
    "scrolled": true
   },
   "outputs": [
    {
     "name": "stdout",
     "output_type": "stream",
     "text": [
      "Arguments: Namespace(cuda=False, data=['data/random-rels_20_1_3_returns30007000_header.csv'], dilation_coefficient=4, early_stopping=True, epochs=2000, hidden_layers=0, kernel_size=4, learning_rate=0.01, log_interval=1000, lr_scheduler=True, optimizer='Adam', plot=True, seed=88447, train_test_split=0.8)\n",
      "\n",
      " Analysis started for target:  S0\n"
     ]
    },
    {
     "ename": "AttributeError",
     "evalue": "module 'torch' has no attribute '_six'",
     "output_type": "error",
     "traceback": [
      "\u001b[1;31m---------------------------------------------------------------------------\u001b[0m",
      "\u001b[1;31mAttributeError\u001b[0m                            Traceback (most recent call last)",
      "\u001b[1;32m~\\Documents\\GitHub\\thesis\\TCDF\\evaluate_predictions_TCDF.py\u001b[0m in \u001b[0;36m<module>\u001b[1;34m\u001b[0m\n\u001b[0;32m    231\u001b[0m \u001b[0mallres\u001b[0m \u001b[1;33m=\u001b[0m \u001b[1;33m[\u001b[0m\u001b[1;33m]\u001b[0m\u001b[1;33m\u001b[0m\u001b[1;33m\u001b[0m\u001b[0m\n\u001b[0;32m    232\u001b[0m \u001b[1;32mfor\u001b[0m \u001b[0mdatafile\u001b[0m \u001b[1;32min\u001b[0m \u001b[0mdatasets\u001b[0m\u001b[1;33m:\u001b[0m\u001b[1;33m\u001b[0m\u001b[1;33m\u001b[0m\u001b[0m\n\u001b[1;32m--> 233\u001b[1;33m     \u001b[0mallres\u001b[0m\u001b[1;33m,\u001b[0m\u001b[0mavg\u001b[0m\u001b[1;33m,\u001b[0m\u001b[0mstd\u001b[0m\u001b[1;33m,\u001b[0m\u001b[0mpredictions\u001b[0m\u001b[1;33m,\u001b[0m\u001b[0maccuracy\u001b[0m \u001b[1;33m=\u001b[0m \u001b[0mevaluate\u001b[0m\u001b[1;33m(\u001b[0m\u001b[0mdatafile\u001b[0m\u001b[1;33m)\u001b[0m\u001b[1;33m\u001b[0m\u001b[1;33m\u001b[0m\u001b[0m\n\u001b[0m\u001b[0;32m    234\u001b[0m     \u001b[0mevalresults\u001b[0m\u001b[1;33m[\u001b[0m\u001b[0mdatafile\u001b[0m\u001b[1;33m]\u001b[0m\u001b[1;33m=\u001b[0m\u001b[1;33m(\u001b[0m\u001b[0mavg\u001b[0m\u001b[1;33m,\u001b[0m \u001b[0mstd\u001b[0m\u001b[1;33m)\u001b[0m\u001b[1;33m\u001b[0m\u001b[1;33m\u001b[0m\u001b[0m\n\u001b[0;32m    235\u001b[0m     \u001b[0mprint\u001b[0m\u001b[1;33m(\u001b[0m\u001b[1;34m\"\\nMean Absolute Scaled Error (MASE) averaged over all time series in\"\u001b[0m\u001b[1;33m,\u001b[0m \u001b[0mdatafile\u001b[0m\u001b[1;33m,\u001b[0m\u001b[1;34m\":\"\u001b[0m\u001b[1;33m,\u001b[0m\u001b[0mevalresults\u001b[0m\u001b[1;33m[\u001b[0m\u001b[0mdatafile\u001b[0m\u001b[1;33m]\u001b[0m\u001b[1;33m[\u001b[0m\u001b[1;36m0\u001b[0m\u001b[1;33m]\u001b[0m\u001b[1;33m,\u001b[0m\u001b[1;34m\"with standard deviation\"\u001b[0m\u001b[1;33m,\u001b[0m\u001b[0mevalresults\u001b[0m\u001b[1;33m[\u001b[0m\u001b[0mdatafile\u001b[0m\u001b[1;33m]\u001b[0m\u001b[1;33m[\u001b[0m\u001b[1;36m1\u001b[0m\u001b[1;33m]\u001b[0m\u001b[1;33m)\u001b[0m\u001b[1;33m\u001b[0m\u001b[1;33m\u001b[0m\u001b[0m\n",
      "\u001b[1;32m~\\Documents\\GitHub\\thesis\\TCDF\\evaluate_predictions_TCDF.py\u001b[0m in \u001b[0;36mevaluate\u001b[1;34m(datafile)\u001b[0m\n\u001b[0;32m    167\u001b[0m     \u001b[0maccuracy\u001b[0m \u001b[1;33m=\u001b[0m \u001b[0mdict\u001b[0m\u001b[1;33m(\u001b[0m\u001b[1;33m)\u001b[0m\u001b[1;33m\u001b[0m\u001b[1;33m\u001b[0m\u001b[0m\n\u001b[0;32m    168\u001b[0m     \u001b[1;32mfor\u001b[0m \u001b[0mc\u001b[0m \u001b[1;32min\u001b[0m \u001b[0mcolumns\u001b[0m\u001b[1;33m:\u001b[0m\u001b[1;33m\u001b[0m\u001b[1;33m\u001b[0m\u001b[0m\n\u001b[1;32m--> 169\u001b[1;33m         MASE, prediction = evaluate_prediction(c, cuda=cuda, epochs=nrepochs, \n\u001b[0m\u001b[0;32m    170\u001b[0m         \u001b[0mkernel_size\u001b[0m\u001b[1;33m=\u001b[0m\u001b[0mkernel_size\u001b[0m\u001b[1;33m,\u001b[0m \u001b[0mlayers\u001b[0m\u001b[1;33m=\u001b[0m\u001b[0mlevels\u001b[0m\u001b[1;33m,\u001b[0m \u001b[0mlog_interval\u001b[0m\u001b[1;33m=\u001b[0m\u001b[0mlog_interval\u001b[0m\u001b[1;33m,\u001b[0m\u001b[1;33m\u001b[0m\u001b[1;33m\u001b[0m\u001b[0m\n\u001b[0;32m    171\u001b[0m         \u001b[0mlr\u001b[0m\u001b[1;33m=\u001b[0m\u001b[0mlearningrate\u001b[0m\u001b[1;33m,\u001b[0m \u001b[0moptimizername\u001b[0m\u001b[1;33m=\u001b[0m\u001b[0moptimizername\u001b[0m\u001b[1;33m,\u001b[0m\u001b[1;33m\u001b[0m\u001b[1;33m\u001b[0m\u001b[0m\n",
      "\u001b[1;32m~\\Documents\\GitHub\\thesis\\TCDF\\evaluate_predictions_TCDF.py\u001b[0m in \u001b[0;36mevaluate_prediction\u001b[1;34m(target, cuda, epochs, kernel_size, layers, log_interval, lr, optimizername, seed, dilation_c, split, file, lr_scheduler, early_stopping)\u001b[0m\n\u001b[0;32m     68\u001b[0m     \u001b[0mtargetidx\u001b[0m \u001b[1;33m=\u001b[0m \u001b[0mpd\u001b[0m\u001b[1;33m.\u001b[0m\u001b[0mread_csv\u001b[0m\u001b[1;33m(\u001b[0m\u001b[0mfile\u001b[0m\u001b[1;33m)\u001b[0m\u001b[1;33m.\u001b[0m\u001b[0mcolumns\u001b[0m\u001b[1;33m.\u001b[0m\u001b[0mget_loc\u001b[0m\u001b[1;33m(\u001b[0m\u001b[0mtarget\u001b[0m\u001b[1;33m)\u001b[0m\u001b[1;33m\u001b[0m\u001b[1;33m\u001b[0m\u001b[0m\n\u001b[0;32m     69\u001b[0m \u001b[1;33m\u001b[0m\u001b[0m\n\u001b[1;32m---> 70\u001b[1;33m     \u001b[0mmodel\u001b[0m \u001b[1;33m=\u001b[0m \u001b[0mADDSTCN\u001b[0m\u001b[1;33m(\u001b[0m\u001b[0mtargetidx\u001b[0m\u001b[1;33m,\u001b[0m \u001b[0minput_channels\u001b[0m\u001b[1;33m,\u001b[0m \u001b[0mlevels\u001b[0m\u001b[1;33m,\u001b[0m \u001b[0mkernel_size\u001b[0m\u001b[1;33m=\u001b[0m\u001b[0mkernel_size\u001b[0m\u001b[1;33m,\u001b[0m \u001b[0mcuda\u001b[0m\u001b[1;33m=\u001b[0m\u001b[0mcuda\u001b[0m\u001b[1;33m,\u001b[0m \u001b[0mdilation_c\u001b[0m\u001b[1;33m=\u001b[0m\u001b[0mdilation_c\u001b[0m\u001b[1;33m)\u001b[0m\u001b[1;33m\u001b[0m\u001b[1;33m\u001b[0m\u001b[0m\n\u001b[0m\u001b[0;32m     71\u001b[0m     \u001b[1;32mif\u001b[0m \u001b[0mcuda\u001b[0m\u001b[1;33m:\u001b[0m\u001b[1;33m\u001b[0m\u001b[1;33m\u001b[0m\u001b[0m\n\u001b[0;32m     72\u001b[0m         \u001b[0mmodel\u001b[0m\u001b[1;33m.\u001b[0m\u001b[0mcuda\u001b[0m\u001b[1;33m(\u001b[0m\u001b[1;33m)\u001b[0m\u001b[1;33m\u001b[0m\u001b[1;33m\u001b[0m\u001b[0m\n",
      "\u001b[1;32m~\\Documents\\GitHub\\thesis\\TCDF\\model.py\u001b[0m in \u001b[0;36m__init__\u001b[1;34m(self, target, input_size, num_levels, kernel_size, cuda, dilation_c)\u001b[0m\n\u001b[0;32m     12\u001b[0m \u001b[1;33m\u001b[0m\u001b[0m\n\u001b[0;32m     13\u001b[0m         \u001b[0mself\u001b[0m\u001b[1;33m.\u001b[0m\u001b[0mtarget\u001b[0m\u001b[1;33m=\u001b[0m\u001b[0mtarget\u001b[0m\u001b[1;33m\u001b[0m\u001b[1;33m\u001b[0m\u001b[0m\n\u001b[1;32m---> 14\u001b[1;33m         \u001b[0mself\u001b[0m\u001b[1;33m.\u001b[0m\u001b[0mdwn\u001b[0m \u001b[1;33m=\u001b[0m \u001b[0mDepthwiseNet\u001b[0m\u001b[1;33m(\u001b[0m\u001b[0mself\u001b[0m\u001b[1;33m.\u001b[0m\u001b[0mtarget\u001b[0m\u001b[1;33m,\u001b[0m \u001b[0minput_size\u001b[0m\u001b[1;33m,\u001b[0m \u001b[0mnum_levels\u001b[0m\u001b[1;33m,\u001b[0m \u001b[0mkernel_size\u001b[0m\u001b[1;33m=\u001b[0m\u001b[0mkernel_size\u001b[0m\u001b[1;33m,\u001b[0m \u001b[0mdilation_c\u001b[0m\u001b[1;33m=\u001b[0m\u001b[0mdilation_c\u001b[0m\u001b[1;33m)\u001b[0m\u001b[1;33m\u001b[0m\u001b[1;33m\u001b[0m\u001b[0m\n\u001b[0m\u001b[0;32m     15\u001b[0m         \u001b[0mself\u001b[0m\u001b[1;33m.\u001b[0m\u001b[0mpointwise\u001b[0m \u001b[1;33m=\u001b[0m \u001b[0mnn\u001b[0m\u001b[1;33m.\u001b[0m\u001b[0mConv1d\u001b[0m\u001b[1;33m(\u001b[0m\u001b[0minput_size\u001b[0m\u001b[1;33m,\u001b[0m \u001b[1;36m1\u001b[0m\u001b[1;33m,\u001b[0m \u001b[1;36m1\u001b[0m\u001b[1;33m)\u001b[0m\u001b[1;33m\u001b[0m\u001b[1;33m\u001b[0m\u001b[0m\n\u001b[0;32m     16\u001b[0m \u001b[1;33m\u001b[0m\u001b[0m\n",
      "\u001b[1;32m~\\Documents\\GitHub\\thesis\\TCDF\\depthwise.py\u001b[0m in \u001b[0;36m__init__\u001b[1;34m(self, target, num_inputs, num_levels, kernel_size, dilation_c)\u001b[0m\n\u001b[0;32m     81\u001b[0m             \u001b[0mdilation_size\u001b[0m \u001b[1;33m=\u001b[0m \u001b[0mdilation_c\u001b[0m \u001b[1;33m**\u001b[0m \u001b[0ml\u001b[0m\u001b[1;33m\u001b[0m\u001b[1;33m\u001b[0m\u001b[0m\n\u001b[0;32m     82\u001b[0m             \u001b[1;32mif\u001b[0m \u001b[0ml\u001b[0m\u001b[1;33m==\u001b[0m\u001b[1;36m0\u001b[0m\u001b[1;33m:\u001b[0m\u001b[1;33m\u001b[0m\u001b[1;33m\u001b[0m\u001b[0m\n\u001b[1;32m---> 83\u001b[1;33m                 layers += [FirstBlock(target, in_channels, out_channels, kernel_size, stride=1, dilation=dilation_size,\n\u001b[0m\u001b[0;32m     84\u001b[0m                                      padding=(kernel_size-1) * dilation_size)]\n\u001b[0;32m     85\u001b[0m             \u001b[1;32melif\u001b[0m \u001b[0ml\u001b[0m\u001b[1;33m==\u001b[0m\u001b[0mnum_levels\u001b[0m\u001b[1;33m-\u001b[0m\u001b[1;36m1\u001b[0m\u001b[1;33m:\u001b[0m\u001b[1;33m\u001b[0m\u001b[1;33m\u001b[0m\u001b[0m\n",
      "\u001b[1;32m~\\Documents\\GitHub\\thesis\\TCDF\\depthwise.py\u001b[0m in \u001b[0;36m__init__\u001b[1;34m(self, target, n_inputs, n_outputs, kernel_size, stride, dilation, padding)\u001b[0m\n\u001b[0;32m     17\u001b[0m \u001b[1;33m\u001b[0m\u001b[0m\n\u001b[0;32m     18\u001b[0m         \u001b[0mself\u001b[0m\u001b[1;33m.\u001b[0m\u001b[0mtarget\u001b[0m \u001b[1;33m=\u001b[0m \u001b[0mtarget\u001b[0m\u001b[1;33m\u001b[0m\u001b[1;33m\u001b[0m\u001b[0m\n\u001b[1;32m---> 19\u001b[1;33m         self.conv1 = nn.Conv1d(n_inputs, n_outputs, kernel_size,\n\u001b[0m\u001b[0;32m     20\u001b[0m                                            stride=stride, padding=padding, dilation=dilation, groups=n_outputs)\n\u001b[0;32m     21\u001b[0m \u001b[1;33m\u001b[0m\u001b[0m\n",
      "\u001b[1;32m~\\Anaconda3\\lib\\site-packages\\torch\\nn\\modules\\conv.py\u001b[0m in \u001b[0;36m__init__\u001b[1;34m(self, in_channels, out_channels, kernel_size, stride, padding, dilation, groups, bias, padding_mode, device, dtype)\u001b[0m\n\u001b[0;32m    283\u001b[0m         \u001b[0mpadding_\u001b[0m \u001b[1;33m=\u001b[0m \u001b[0mpadding\u001b[0m \u001b[1;32mif\u001b[0m \u001b[0misinstance\u001b[0m\u001b[1;33m(\u001b[0m\u001b[0mpadding\u001b[0m\u001b[1;33m,\u001b[0m \u001b[0mstr\u001b[0m\u001b[1;33m)\u001b[0m \u001b[1;32melse\u001b[0m \u001b[0m_single\u001b[0m\u001b[1;33m(\u001b[0m\u001b[0mpadding\u001b[0m\u001b[1;33m)\u001b[0m\u001b[1;33m\u001b[0m\u001b[1;33m\u001b[0m\u001b[0m\n\u001b[0;32m    284\u001b[0m         \u001b[0mdilation_\u001b[0m \u001b[1;33m=\u001b[0m \u001b[0m_single\u001b[0m\u001b[1;33m(\u001b[0m\u001b[0mdilation\u001b[0m\u001b[1;33m)\u001b[0m\u001b[1;33m\u001b[0m\u001b[1;33m\u001b[0m\u001b[0m\n\u001b[1;32m--> 285\u001b[1;33m         super(Conv1d, self).__init__(\n\u001b[0m\u001b[0;32m    286\u001b[0m             \u001b[0min_channels\u001b[0m\u001b[1;33m,\u001b[0m \u001b[0mout_channels\u001b[0m\u001b[1;33m,\u001b[0m \u001b[0mkernel_size_\u001b[0m\u001b[1;33m,\u001b[0m \u001b[0mstride_\u001b[0m\u001b[1;33m,\u001b[0m \u001b[0mpadding_\u001b[0m\u001b[1;33m,\u001b[0m \u001b[0mdilation_\u001b[0m\u001b[1;33m,\u001b[0m\u001b[1;33m\u001b[0m\u001b[1;33m\u001b[0m\u001b[0m\n\u001b[0;32m    287\u001b[0m             False, _single(0), groups, bias, padding_mode, **factory_kwargs)\n",
      "\u001b[1;32m~\\Anaconda3\\lib\\site-packages\\torch\\nn\\modules\\conv.py\u001b[0m in \u001b[0;36m__init__\u001b[1;34m(self, in_channels, out_channels, kernel_size, stride, padding, dilation, transposed, output_padding, groups, bias, padding_mode, device, dtype)\u001b[0m\n\u001b[0;32m    129\u001b[0m                 (in_channels, out_channels // groups, *kernel_size), **factory_kwargs))\n\u001b[0;32m    130\u001b[0m         \u001b[1;32melse\u001b[0m\u001b[1;33m:\u001b[0m\u001b[1;33m\u001b[0m\u001b[1;33m\u001b[0m\u001b[0m\n\u001b[1;32m--> 131\u001b[1;33m             self.weight = Parameter(torch.empty(\n\u001b[0m\u001b[0;32m    132\u001b[0m                 (out_channels, in_channels // groups, *kernel_size), **factory_kwargs))\n\u001b[0;32m    133\u001b[0m         \u001b[1;32mif\u001b[0m \u001b[0mbias\u001b[0m\u001b[1;33m:\u001b[0m\u001b[1;33m\u001b[0m\u001b[1;33m\u001b[0m\u001b[0m\n",
      "\u001b[1;32m~\\Anaconda3\\lib\\site-packages\\torch\\nn\\modules\\module.py\u001b[0m in \u001b[0;36m__setattr__\u001b[1;34m(self, name, value)\u001b[0m\n\u001b[0;32m   1146\u001b[0m                     \"cannot assign parameters before Module.__init__() call\")\n\u001b[0;32m   1147\u001b[0m             \u001b[0mremove_from\u001b[0m\u001b[1;33m(\u001b[0m\u001b[0mself\u001b[0m\u001b[1;33m.\u001b[0m\u001b[0m__dict__\u001b[0m\u001b[1;33m,\u001b[0m \u001b[0mself\u001b[0m\u001b[1;33m.\u001b[0m\u001b[0m_buffers\u001b[0m\u001b[1;33m,\u001b[0m \u001b[0mself\u001b[0m\u001b[1;33m.\u001b[0m\u001b[0m_modules\u001b[0m\u001b[1;33m,\u001b[0m \u001b[0mself\u001b[0m\u001b[1;33m.\u001b[0m\u001b[0m_non_persistent_buffers_set\u001b[0m\u001b[1;33m)\u001b[0m\u001b[1;33m\u001b[0m\u001b[1;33m\u001b[0m\u001b[0m\n\u001b[1;32m-> 1148\u001b[1;33m             \u001b[0mself\u001b[0m\u001b[1;33m.\u001b[0m\u001b[0mregister_parameter\u001b[0m\u001b[1;33m(\u001b[0m\u001b[0mname\u001b[0m\u001b[1;33m,\u001b[0m \u001b[0mvalue\u001b[0m\u001b[1;33m)\u001b[0m\u001b[1;33m\u001b[0m\u001b[1;33m\u001b[0m\u001b[0m\n\u001b[0m\u001b[0;32m   1149\u001b[0m         \u001b[1;32melif\u001b[0m \u001b[0mparams\u001b[0m \u001b[1;32mis\u001b[0m \u001b[1;32mnot\u001b[0m \u001b[1;32mNone\u001b[0m \u001b[1;32mand\u001b[0m \u001b[0mname\u001b[0m \u001b[1;32min\u001b[0m \u001b[0mparams\u001b[0m\u001b[1;33m:\u001b[0m\u001b[1;33m\u001b[0m\u001b[1;33m\u001b[0m\u001b[0m\n\u001b[0;32m   1150\u001b[0m             \u001b[1;32mif\u001b[0m \u001b[0mvalue\u001b[0m \u001b[1;32mis\u001b[0m \u001b[1;32mnot\u001b[0m \u001b[1;32mNone\u001b[0m\u001b[1;33m:\u001b[0m\u001b[1;33m\u001b[0m\u001b[1;33m\u001b[0m\u001b[0m\n",
      "\u001b[1;32m~\\Anaconda3\\lib\\site-packages\\torch\\nn\\modules\\module.py\u001b[0m in \u001b[0;36mregister_parameter\u001b[1;34m(self, name, param)\u001b[0m\n\u001b[0;32m    334\u001b[0m                 \"cannot assign parameter before Module.__init__() call\")\n\u001b[0;32m    335\u001b[0m \u001b[1;33m\u001b[0m\u001b[0m\n\u001b[1;32m--> 336\u001b[1;33m         \u001b[1;32melif\u001b[0m \u001b[1;32mnot\u001b[0m \u001b[0misinstance\u001b[0m\u001b[1;33m(\u001b[0m\u001b[0mname\u001b[0m\u001b[1;33m,\u001b[0m \u001b[0mtorch\u001b[0m\u001b[1;33m.\u001b[0m\u001b[0m_six\u001b[0m\u001b[1;33m.\u001b[0m\u001b[0mstring_classes\u001b[0m\u001b[1;33m)\u001b[0m\u001b[1;33m:\u001b[0m\u001b[1;33m\u001b[0m\u001b[1;33m\u001b[0m\u001b[0m\n\u001b[0m\u001b[0;32m    337\u001b[0m             raise TypeError(\"parameter name should be a string. \"\n\u001b[0;32m    338\u001b[0m                             \"Got {}\".format(torch.typename(name)))\n",
      "\u001b[1;31mAttributeError\u001b[0m: module 'torch' has no attribute '_six'"
     ]
    }
   ],
   "source": [
    "# Run TCDF for predictive accuracy\n",
    "\n",
    "%run -i \"evaluate_predictions_TCDF.py\" --data data/random-rels_20_1_3_returns30007000_header.csv --learning_rate 0.01 --hidden_layers 0 --epochs 2000 --log_interval 1000 --dilation_coefficient 4 --kernel_size 4 --seed 88447 --plot --train_test_split 0.8"
   ]
  },
  {
   "cell_type": "code",
   "execution_count": 11,
   "metadata": {
    "scrolled": true
   },
   "outputs": [
    {
     "name": "stderr",
     "output_type": "stream",
     "text": [
      "ERROR:root:Internal Python error in the inspect module.\n",
      "Below is the traceback from this internal error.\n",
      "\n"
     ]
    },
    {
     "name": "stdout",
     "output_type": "stream",
     "text": [
      "Arguments: Namespace(cuda=False, data=None, dilation_coefficient=4, early_stopping=True, epochs=5000, ground_truth={'data/random-rels_20_1_3_returns30007000_header.csv': 'data/random-rels_20_1_3.csv'}, hidden_layers=0, kernel_size=4, learning_rate=0.01, log_interval=1000, lr_scheduler=True, optimizer='Adam', plot=True, seed=4305, significance=0.8)\n",
      "\n",
      " Dataset:  random-rels_20_1_3_returns30007000_header.csv\n",
      "Traceback (most recent call last):\n",
      "  File \"C:\\Users\\10528504.UVA\\Anaconda3\\lib\\site-packages\\IPython\\core\\interactiveshell.py\", line 2757, in safe_execfile\n",
      "    py3compat.execfile(\n",
      "  File \"C:\\Users\\10528504.UVA\\Anaconda3\\lib\\site-packages\\IPython\\utils\\py3compat.py\", line 168, in execfile\n",
      "    exec(compiler(f.read(), fname, 'exec'), glob, loc)\n",
      "  File \"C:\\Users\\10528504.UVA\\Documents\\GitHub\\thesis\\TCDF\\runTCDF.py\", line 358, in <module>\n",
      "    main(datafiles, evaluation=True)\n",
      "  File \"C:\\Users\\10528504.UVA\\Documents\\GitHub\\thesis\\TCDF\\runTCDF.py\", line 270, in main\n",
      "    allcauses, alldelays, allreallosses, allscores, columns, alllosses = runTCDF(datafile) #results of TCDF containing indices of causes and effects\n",
      "  File \"C:\\Users\\10528504.UVA\\Documents\\GitHub\\thesis\\TCDF\\runTCDF.py\", line 194, in runTCDF\n",
      "    df_data = pd.read_csv(datafile)\n",
      "  File \"C:\\Users\\10528504.UVA\\Anaconda3\\lib\\site-packages\\pandas\\io\\parsers.py\", line 610, in read_csv\n",
      "    return _read(filepath_or_buffer, kwds)\n",
      "  File \"C:\\Users\\10528504.UVA\\Anaconda3\\lib\\site-packages\\pandas\\io\\parsers.py\", line 468, in _read\n",
      "    return parser.read(nrows)\n",
      "  File \"C:\\Users\\10528504.UVA\\Anaconda3\\lib\\site-packages\\pandas\\io\\parsers.py\", line 1057, in read\n",
      "    index, columns, col_dict = self._engine.read(nrows)\n",
      "  File \"C:\\Users\\10528504.UVA\\Anaconda3\\lib\\site-packages\\pandas\\io\\parsers.py\", line 2061, in read\n",
      "    data = self._reader.read(nrows)\n",
      "  File \"pandas\\_libs\\parsers.pyx\", line 756, in pandas._libs.parsers.TextReader.read\n",
      "  File \"pandas\\_libs\\parsers.pyx\", line 771, in pandas._libs.parsers.TextReader._read_low_memory\n",
      "  File \"pandas\\_libs\\parsers.pyx\", line 827, in pandas._libs.parsers.TextReader._read_rows\n",
      "  File \"pandas\\_libs\\parsers.pyx\", line 814, in pandas._libs.parsers.TextReader._tokenize_rows\n",
      "  File \"pandas\\_libs\\parsers.pyx\", line 1951, in pandas._libs.parsers.raise_parser_error\n",
      "pandas.errors.ParserError: Error tokenizing data. C error: Calling read(nbytes) on source failed. Try engine='python'.\n",
      "\n",
      "During handling of the above exception, another exception occurred:\n",
      "\n",
      "Traceback (most recent call last):\n",
      "  File \"C:\\Users\\10528504.UVA\\Anaconda3\\lib\\site-packages\\IPython\\core\\interactiveshell.py\", line 2061, in showtraceback\n",
      "    stb = value._render_traceback_()\n",
      "AttributeError: 'ParserError' object has no attribute '_render_traceback_'\n",
      "\n",
      "During handling of the above exception, another exception occurred:\n",
      "\n",
      "Traceback (most recent call last):\n",
      "  File \"C:\\Users\\10528504.UVA\\Anaconda3\\lib\\genericpath.py\", line 19, in exists\n",
      "    os.stat(path)\n",
      "FileNotFoundError: [WinError 3] The system cannot find the path specified: 'pandas\\\\_libs\\\\parsers.pyx'\n",
      "\n",
      "During handling of the above exception, another exception occurred:\n",
      "\n",
      "Traceback (most recent call last):\n",
      "  File \"C:\\Users\\10528504.UVA\\Anaconda3\\lib\\site-packages\\IPython\\core\\ultratb.py\", line 1101, in get_records\n",
      "    return _fixed_getinnerframes(etb, number_of_lines_of_context, tb_offset)\n",
      "  File \"C:\\Users\\10528504.UVA\\Anaconda3\\lib\\site-packages\\IPython\\core\\ultratb.py\", line 248, in wrapped\n",
      "    return f(*args, **kwargs)\n",
      "  File \"C:\\Users\\10528504.UVA\\Anaconda3\\lib\\site-packages\\IPython\\core\\ultratb.py\", line 281, in _fixed_getinnerframes\n",
      "    records = fix_frame_records_filenames(inspect.getinnerframes(etb, context))\n",
      "  File \"C:\\Users\\10528504.UVA\\Anaconda3\\lib\\inspect.py\", line 1515, in getinnerframes\n",
      "    frameinfo = (tb.tb_frame,) + getframeinfo(tb, context)\n",
      "  File \"C:\\Users\\10528504.UVA\\Anaconda3\\lib\\inspect.py\", line 1477, in getframeinfo\n",
      "    lines, lnum = findsource(frame)\n",
      "  File \"C:\\Users\\10528504.UVA\\Anaconda3\\lib\\site-packages\\IPython\\core\\ultratb.py\", line 170, in findsource\n",
      "    file = getsourcefile(object) or getfile(object)\n",
      "  File \"C:\\Users\\10528504.UVA\\Anaconda3\\lib\\inspect.py\", line 705, in getsourcefile\n",
      "    if os.path.exists(filename):\n",
      "  File \"C:\\Users\\10528504.UVA\\Anaconda3\\lib\\genericpath.py\", line 19, in exists\n",
      "    os.stat(path)\n",
      "KeyboardInterrupt\n"
     ]
    },
    {
     "ename": "TypeError",
     "evalue": "object of type 'NoneType' has no len()",
     "output_type": "error",
     "traceback": [
      "\u001b[1;31m---------------------------------------------------------------------------\u001b[0m",
      "\u001b[1;31mParserError\u001b[0m                               Traceback (most recent call last)",
      "\u001b[1;32m~\\Anaconda3\\lib\\site-packages\\IPython\\core\\interactiveshell.py\u001b[0m in \u001b[0;36msafe_execfile\u001b[1;34m(self, fname, exit_ignore, raise_exceptions, shell_futures, *where)\u001b[0m\n\u001b[0;32m   2756\u001b[0m                 \u001b[0mglob\u001b[0m\u001b[1;33m,\u001b[0m \u001b[0mloc\u001b[0m \u001b[1;33m=\u001b[0m \u001b[1;33m(\u001b[0m\u001b[0mwhere\u001b[0m \u001b[1;33m+\u001b[0m \u001b[1;33m(\u001b[0m\u001b[1;32mNone\u001b[0m\u001b[1;33m,\u001b[0m \u001b[1;33m)\u001b[0m\u001b[1;33m)\u001b[0m\u001b[1;33m[\u001b[0m\u001b[1;33m:\u001b[0m\u001b[1;36m2\u001b[0m\u001b[1;33m]\u001b[0m\u001b[1;33m\u001b[0m\u001b[1;33m\u001b[0m\u001b[0m\n\u001b[1;32m-> 2757\u001b[1;33m                 py3compat.execfile(\n\u001b[0m\u001b[0;32m   2758\u001b[0m                     \u001b[0mfname\u001b[0m\u001b[1;33m,\u001b[0m \u001b[0mglob\u001b[0m\u001b[1;33m,\u001b[0m \u001b[0mloc\u001b[0m\u001b[1;33m,\u001b[0m\u001b[1;33m\u001b[0m\u001b[1;33m\u001b[0m\u001b[0m\n",
      "\u001b[1;32m~\\Anaconda3\\lib\\site-packages\\IPython\\utils\\py3compat.py\u001b[0m in \u001b[0;36mexecfile\u001b[1;34m(fname, glob, loc, compiler)\u001b[0m\n\u001b[0;32m    167\u001b[0m         \u001b[0mcompiler\u001b[0m \u001b[1;33m=\u001b[0m \u001b[0mcompiler\u001b[0m \u001b[1;32mor\u001b[0m \u001b[0mcompile\u001b[0m\u001b[1;33m\u001b[0m\u001b[1;33m\u001b[0m\u001b[0m\n\u001b[1;32m--> 168\u001b[1;33m         \u001b[0mexec\u001b[0m\u001b[1;33m(\u001b[0m\u001b[0mcompiler\u001b[0m\u001b[1;33m(\u001b[0m\u001b[0mf\u001b[0m\u001b[1;33m.\u001b[0m\u001b[0mread\u001b[0m\u001b[1;33m(\u001b[0m\u001b[1;33m)\u001b[0m\u001b[1;33m,\u001b[0m \u001b[0mfname\u001b[0m\u001b[1;33m,\u001b[0m \u001b[1;34m'exec'\u001b[0m\u001b[1;33m)\u001b[0m\u001b[1;33m,\u001b[0m \u001b[0mglob\u001b[0m\u001b[1;33m,\u001b[0m \u001b[0mloc\u001b[0m\u001b[1;33m)\u001b[0m\u001b[1;33m\u001b[0m\u001b[1;33m\u001b[0m\u001b[0m\n\u001b[0m\u001b[0;32m    169\u001b[0m \u001b[1;33m\u001b[0m\u001b[0m\n",
      "\u001b[1;32m~\\Documents\\GitHub\\thesis\\TCDF\\runTCDF.py\u001b[0m in \u001b[0;36m<module>\u001b[1;34m\u001b[0m\n\u001b[0;32m    357\u001b[0m     \u001b[0mdatafiles\u001b[0m \u001b[1;33m=\u001b[0m \u001b[0margs\u001b[0m\u001b[1;33m.\u001b[0m\u001b[0mground_truth\u001b[0m\u001b[1;33m\u001b[0m\u001b[1;33m\u001b[0m\u001b[0m\n\u001b[1;32m--> 358\u001b[1;33m     \u001b[0mmain\u001b[0m\u001b[1;33m(\u001b[0m\u001b[0mdatafiles\u001b[0m\u001b[1;33m,\u001b[0m \u001b[0mevaluation\u001b[0m\u001b[1;33m=\u001b[0m\u001b[1;32mTrue\u001b[0m\u001b[1;33m)\u001b[0m\u001b[1;33m\u001b[0m\u001b[1;33m\u001b[0m\u001b[0m\n\u001b[0m\u001b[0;32m    359\u001b[0m \u001b[1;33m\u001b[0m\u001b[0m\n",
      "\u001b[1;32m~\\Documents\\GitHub\\thesis\\TCDF\\runTCDF.py\u001b[0m in \u001b[0;36mmain\u001b[1;34m(datafiles, evaluation)\u001b[0m\n\u001b[0;32m    269\u001b[0m         \u001b[1;31m# run TCDF\u001b[0m\u001b[1;33m\u001b[0m\u001b[1;33m\u001b[0m\u001b[1;33m\u001b[0m\u001b[0m\n\u001b[1;32m--> 270\u001b[1;33m         \u001b[0mallcauses\u001b[0m\u001b[1;33m,\u001b[0m \u001b[0malldelays\u001b[0m\u001b[1;33m,\u001b[0m \u001b[0mallreallosses\u001b[0m\u001b[1;33m,\u001b[0m \u001b[0mallscores\u001b[0m\u001b[1;33m,\u001b[0m \u001b[0mcolumns\u001b[0m\u001b[1;33m,\u001b[0m \u001b[0malllosses\u001b[0m \u001b[1;33m=\u001b[0m \u001b[0mrunTCDF\u001b[0m\u001b[1;33m(\u001b[0m\u001b[0mdatafile\u001b[0m\u001b[1;33m)\u001b[0m \u001b[1;31m#results of TCDF containing indices of causes and effects\u001b[0m\u001b[1;33m\u001b[0m\u001b[1;33m\u001b[0m\u001b[0m\n\u001b[0m\u001b[0;32m    271\u001b[0m \u001b[1;33m\u001b[0m\u001b[0m\n",
      "\u001b[1;32m~\\Documents\\GitHub\\thesis\\TCDF\\runTCDF.py\u001b[0m in \u001b[0;36mrunTCDF\u001b[1;34m(datafile)\u001b[0m\n\u001b[0;32m    193\u001b[0m     \u001b[1;34m\"\"\"Loops through all variables in a dataset and return the discovered causes, time delays, losses, attention scores and variable names.\"\"\"\u001b[0m\u001b[1;33m\u001b[0m\u001b[1;33m\u001b[0m\u001b[0m\n\u001b[1;32m--> 194\u001b[1;33m     \u001b[0mdf_data\u001b[0m \u001b[1;33m=\u001b[0m \u001b[0mpd\u001b[0m\u001b[1;33m.\u001b[0m\u001b[0mread_csv\u001b[0m\u001b[1;33m(\u001b[0m\u001b[0mdatafile\u001b[0m\u001b[1;33m)\u001b[0m\u001b[1;33m\u001b[0m\u001b[1;33m\u001b[0m\u001b[0m\n\u001b[0m\u001b[0;32m    195\u001b[0m \u001b[1;33m\u001b[0m\u001b[0m\n",
      "\u001b[1;32m~\\Anaconda3\\lib\\site-packages\\pandas\\io\\parsers.py\u001b[0m in \u001b[0;36mread_csv\u001b[1;34m(filepath_or_buffer, sep, delimiter, header, names, index_col, usecols, squeeze, prefix, mangle_dupe_cols, dtype, engine, converters, true_values, false_values, skipinitialspace, skiprows, skipfooter, nrows, na_values, keep_default_na, na_filter, verbose, skip_blank_lines, parse_dates, infer_datetime_format, keep_date_col, date_parser, dayfirst, cache_dates, iterator, chunksize, compression, thousands, decimal, lineterminator, quotechar, quoting, doublequote, escapechar, comment, encoding, dialect, error_bad_lines, warn_bad_lines, delim_whitespace, low_memory, memory_map, float_precision, storage_options)\u001b[0m\n\u001b[0;32m    609\u001b[0m \u001b[1;33m\u001b[0m\u001b[0m\n\u001b[1;32m--> 610\u001b[1;33m     \u001b[1;32mreturn\u001b[0m \u001b[0m_read\u001b[0m\u001b[1;33m(\u001b[0m\u001b[0mfilepath_or_buffer\u001b[0m\u001b[1;33m,\u001b[0m \u001b[0mkwds\u001b[0m\u001b[1;33m)\u001b[0m\u001b[1;33m\u001b[0m\u001b[1;33m\u001b[0m\u001b[0m\n\u001b[0m\u001b[0;32m    611\u001b[0m \u001b[1;33m\u001b[0m\u001b[0m\n",
      "\u001b[1;32m~\\Anaconda3\\lib\\site-packages\\pandas\\io\\parsers.py\u001b[0m in \u001b[0;36m_read\u001b[1;34m(filepath_or_buffer, kwds)\u001b[0m\n\u001b[0;32m    467\u001b[0m     \u001b[1;32mwith\u001b[0m \u001b[0mparser\u001b[0m\u001b[1;33m:\u001b[0m\u001b[1;33m\u001b[0m\u001b[1;33m\u001b[0m\u001b[0m\n\u001b[1;32m--> 468\u001b[1;33m         \u001b[1;32mreturn\u001b[0m \u001b[0mparser\u001b[0m\u001b[1;33m.\u001b[0m\u001b[0mread\u001b[0m\u001b[1;33m(\u001b[0m\u001b[0mnrows\u001b[0m\u001b[1;33m)\u001b[0m\u001b[1;33m\u001b[0m\u001b[1;33m\u001b[0m\u001b[0m\n\u001b[0m\u001b[0;32m    469\u001b[0m \u001b[1;33m\u001b[0m\u001b[0m\n",
      "\u001b[1;32m~\\Anaconda3\\lib\\site-packages\\pandas\\io\\parsers.py\u001b[0m in \u001b[0;36mread\u001b[1;34m(self, nrows)\u001b[0m\n\u001b[0;32m   1056\u001b[0m         \u001b[0mnrows\u001b[0m \u001b[1;33m=\u001b[0m \u001b[0mvalidate_integer\u001b[0m\u001b[1;33m(\u001b[0m\u001b[1;34m\"nrows\"\u001b[0m\u001b[1;33m,\u001b[0m \u001b[0mnrows\u001b[0m\u001b[1;33m)\u001b[0m\u001b[1;33m\u001b[0m\u001b[1;33m\u001b[0m\u001b[0m\n\u001b[1;32m-> 1057\u001b[1;33m         \u001b[0mindex\u001b[0m\u001b[1;33m,\u001b[0m \u001b[0mcolumns\u001b[0m\u001b[1;33m,\u001b[0m \u001b[0mcol_dict\u001b[0m \u001b[1;33m=\u001b[0m \u001b[0mself\u001b[0m\u001b[1;33m.\u001b[0m\u001b[0m_engine\u001b[0m\u001b[1;33m.\u001b[0m\u001b[0mread\u001b[0m\u001b[1;33m(\u001b[0m\u001b[0mnrows\u001b[0m\u001b[1;33m)\u001b[0m\u001b[1;33m\u001b[0m\u001b[1;33m\u001b[0m\u001b[0m\n\u001b[0m\u001b[0;32m   1058\u001b[0m \u001b[1;33m\u001b[0m\u001b[0m\n",
      "\u001b[1;32m~\\Anaconda3\\lib\\site-packages\\pandas\\io\\parsers.py\u001b[0m in \u001b[0;36mread\u001b[1;34m(self, nrows)\u001b[0m\n\u001b[0;32m   2060\u001b[0m         \u001b[1;32mtry\u001b[0m\u001b[1;33m:\u001b[0m\u001b[1;33m\u001b[0m\u001b[1;33m\u001b[0m\u001b[0m\n\u001b[1;32m-> 2061\u001b[1;33m             \u001b[0mdata\u001b[0m \u001b[1;33m=\u001b[0m \u001b[0mself\u001b[0m\u001b[1;33m.\u001b[0m\u001b[0m_reader\u001b[0m\u001b[1;33m.\u001b[0m\u001b[0mread\u001b[0m\u001b[1;33m(\u001b[0m\u001b[0mnrows\u001b[0m\u001b[1;33m)\u001b[0m\u001b[1;33m\u001b[0m\u001b[1;33m\u001b[0m\u001b[0m\n\u001b[0m\u001b[0;32m   2062\u001b[0m         \u001b[1;32mexcept\u001b[0m \u001b[0mStopIteration\u001b[0m\u001b[1;33m:\u001b[0m\u001b[1;33m\u001b[0m\u001b[1;33m\u001b[0m\u001b[0m\n",
      "\u001b[1;32mpandas\\_libs\\parsers.pyx\u001b[0m in \u001b[0;36mpandas._libs.parsers.TextReader.read\u001b[1;34m()\u001b[0m\n",
      "\u001b[1;32mpandas\\_libs\\parsers.pyx\u001b[0m in \u001b[0;36mpandas._libs.parsers.TextReader._read_low_memory\u001b[1;34m()\u001b[0m\n",
      "\u001b[1;32mpandas\\_libs\\parsers.pyx\u001b[0m in \u001b[0;36mpandas._libs.parsers.TextReader._read_rows\u001b[1;34m()\u001b[0m\n",
      "\u001b[1;32mpandas\\_libs\\parsers.pyx\u001b[0m in \u001b[0;36mpandas._libs.parsers.TextReader._tokenize_rows\u001b[1;34m()\u001b[0m\n",
      "\u001b[1;32mpandas\\_libs\\parsers.pyx\u001b[0m in \u001b[0;36mpandas._libs.parsers.raise_parser_error\u001b[1;34m()\u001b[0m\n",
      "\u001b[1;31mParserError\u001b[0m: Error tokenizing data. C error: Calling read(nbytes) on source failed. Try engine='python'.",
      "\nDuring handling of the above exception, another exception occurred:\n",
      "\u001b[1;31mAttributeError\u001b[0m                            Traceback (most recent call last)",
      "\u001b[1;32m~\\Anaconda3\\lib\\site-packages\\IPython\\core\\interactiveshell.py\u001b[0m in \u001b[0;36mshowtraceback\u001b[1;34m(self, exc_tuple, filename, tb_offset, exception_only, running_compiled_code)\u001b[0m\n\u001b[0;32m   2060\u001b[0m                         \u001b[1;31m# in the engines. This should return a list of strings.\u001b[0m\u001b[1;33m\u001b[0m\u001b[1;33m\u001b[0m\u001b[1;33m\u001b[0m\u001b[0m\n\u001b[1;32m-> 2061\u001b[1;33m                         \u001b[0mstb\u001b[0m \u001b[1;33m=\u001b[0m \u001b[0mvalue\u001b[0m\u001b[1;33m.\u001b[0m\u001b[0m_render_traceback_\u001b[0m\u001b[1;33m(\u001b[0m\u001b[1;33m)\u001b[0m\u001b[1;33m\u001b[0m\u001b[1;33m\u001b[0m\u001b[0m\n\u001b[0m\u001b[0;32m   2062\u001b[0m                     \u001b[1;32mexcept\u001b[0m \u001b[0mException\u001b[0m\u001b[1;33m:\u001b[0m\u001b[1;33m\u001b[0m\u001b[1;33m\u001b[0m\u001b[0m\n",
      "\u001b[1;31mAttributeError\u001b[0m: 'ParserError' object has no attribute '_render_traceback_'",
      "\nDuring handling of the above exception, another exception occurred:\n",
      "\u001b[1;31mTypeError\u001b[0m                                 Traceback (most recent call last)",
      "\u001b[1;32m~\\Documents\\GitHub\\thesis\\TCDF\\runTCDF.py\u001b[0m in \u001b[0;36m<module>\u001b[1;34m\u001b[0m\n\u001b[0;32m      3\u001b[0m \u001b[1;31m# Run TCDF with a provided dataset of Finance (see https://github.com/M-Nauta/TCDF)\u001b[0m\u001b[1;33m\u001b[0m\u001b[1;33m\u001b[0m\u001b[1;33m\u001b[0m\u001b[0m\n\u001b[0;32m      4\u001b[0m \u001b[1;33m\u001b[0m\u001b[0m\n\u001b[1;32m----> 5\u001b[1;33m \u001b[0mget_ipython\u001b[0m\u001b[1;33m(\u001b[0m\u001b[1;33m)\u001b[0m\u001b[1;33m.\u001b[0m\u001b[0mrun_line_magic\u001b[0m\u001b[1;33m(\u001b[0m\u001b[1;34m'run'\u001b[0m\u001b[1;33m,\u001b[0m \u001b[1;34m'-i \"runTCDF.py\"  --ground_truth data/random-rels_20_1_3_returns30007000_header.csv=data/random-rels_20_1_3.csv --learning_rate 0.01 --hidden_layers 0 --epochs 5000 --log_interval 1000 --significance 0.8 --dilation_coefficient 4 --kernel_size 4 --seed 4305 --plot'\u001b[0m\u001b[1;33m)\u001b[0m\u001b[1;33m\u001b[0m\u001b[1;33m\u001b[0m\u001b[0m\n\u001b[0m",
      "\u001b[1;32m~\\Anaconda3\\lib\\site-packages\\IPython\\core\\interactiveshell.py\u001b[0m in \u001b[0;36mrun_line_magic\u001b[1;34m(self, magic_name, line, _stack_depth)\u001b[0m\n\u001b[0;32m   2342\u001b[0m                 \u001b[0mkwargs\u001b[0m\u001b[1;33m[\u001b[0m\u001b[1;34m'local_ns'\u001b[0m\u001b[1;33m]\u001b[0m \u001b[1;33m=\u001b[0m \u001b[0mself\u001b[0m\u001b[1;33m.\u001b[0m\u001b[0mget_local_scope\u001b[0m\u001b[1;33m(\u001b[0m\u001b[0mstack_depth\u001b[0m\u001b[1;33m)\u001b[0m\u001b[1;33m\u001b[0m\u001b[1;33m\u001b[0m\u001b[0m\n\u001b[0;32m   2343\u001b[0m             \u001b[1;32mwith\u001b[0m \u001b[0mself\u001b[0m\u001b[1;33m.\u001b[0m\u001b[0mbuiltin_trap\u001b[0m\u001b[1;33m:\u001b[0m\u001b[1;33m\u001b[0m\u001b[1;33m\u001b[0m\u001b[0m\n\u001b[1;32m-> 2344\u001b[1;33m                 \u001b[0mresult\u001b[0m \u001b[1;33m=\u001b[0m \u001b[0mfn\u001b[0m\u001b[1;33m(\u001b[0m\u001b[1;33m*\u001b[0m\u001b[0margs\u001b[0m\u001b[1;33m,\u001b[0m \u001b[1;33m**\u001b[0m\u001b[0mkwargs\u001b[0m\u001b[1;33m)\u001b[0m\u001b[1;33m\u001b[0m\u001b[1;33m\u001b[0m\u001b[0m\n\u001b[0m\u001b[0;32m   2345\u001b[0m             \u001b[1;32mreturn\u001b[0m \u001b[0mresult\u001b[0m\u001b[1;33m\u001b[0m\u001b[1;33m\u001b[0m\u001b[0m\n\u001b[0;32m   2346\u001b[0m \u001b[1;33m\u001b[0m\u001b[0m\n",
      "\u001b[1;32m~\\Anaconda3\\lib\\site-packages\\decorator.py\u001b[0m in \u001b[0;36mfun\u001b[1;34m(*args, **kw)\u001b[0m\n\u001b[0;32m    229\u001b[0m             \u001b[1;32mif\u001b[0m \u001b[1;32mnot\u001b[0m \u001b[0mkwsyntax\u001b[0m\u001b[1;33m:\u001b[0m\u001b[1;33m\u001b[0m\u001b[1;33m\u001b[0m\u001b[0m\n\u001b[0;32m    230\u001b[0m                 \u001b[0margs\u001b[0m\u001b[1;33m,\u001b[0m \u001b[0mkw\u001b[0m \u001b[1;33m=\u001b[0m \u001b[0mfix\u001b[0m\u001b[1;33m(\u001b[0m\u001b[0margs\u001b[0m\u001b[1;33m,\u001b[0m \u001b[0mkw\u001b[0m\u001b[1;33m,\u001b[0m \u001b[0msig\u001b[0m\u001b[1;33m)\u001b[0m\u001b[1;33m\u001b[0m\u001b[1;33m\u001b[0m\u001b[0m\n\u001b[1;32m--> 231\u001b[1;33m             \u001b[1;32mreturn\u001b[0m \u001b[0mcaller\u001b[0m\u001b[1;33m(\u001b[0m\u001b[0mfunc\u001b[0m\u001b[1;33m,\u001b[0m \u001b[1;33m*\u001b[0m\u001b[1;33m(\u001b[0m\u001b[0mextras\u001b[0m \u001b[1;33m+\u001b[0m \u001b[0margs\u001b[0m\u001b[1;33m)\u001b[0m\u001b[1;33m,\u001b[0m \u001b[1;33m**\u001b[0m\u001b[0mkw\u001b[0m\u001b[1;33m)\u001b[0m\u001b[1;33m\u001b[0m\u001b[1;33m\u001b[0m\u001b[0m\n\u001b[0m\u001b[0;32m    232\u001b[0m     \u001b[0mfun\u001b[0m\u001b[1;33m.\u001b[0m\u001b[0m__name__\u001b[0m \u001b[1;33m=\u001b[0m \u001b[0mfunc\u001b[0m\u001b[1;33m.\u001b[0m\u001b[0m__name__\u001b[0m\u001b[1;33m\u001b[0m\u001b[1;33m\u001b[0m\u001b[0m\n\u001b[0;32m    233\u001b[0m     \u001b[0mfun\u001b[0m\u001b[1;33m.\u001b[0m\u001b[0m__doc__\u001b[0m \u001b[1;33m=\u001b[0m \u001b[0mfunc\u001b[0m\u001b[1;33m.\u001b[0m\u001b[0m__doc__\u001b[0m\u001b[1;33m\u001b[0m\u001b[1;33m\u001b[0m\u001b[0m\n",
      "\u001b[1;32m~\\Anaconda3\\lib\\site-packages\\IPython\\core\\magic.py\u001b[0m in \u001b[0;36m<lambda>\u001b[1;34m(f, *a, **k)\u001b[0m\n\u001b[0;32m    185\u001b[0m     \u001b[1;31m# but it's overkill for just that one bit of state.\u001b[0m\u001b[1;33m\u001b[0m\u001b[1;33m\u001b[0m\u001b[1;33m\u001b[0m\u001b[0m\n\u001b[0;32m    186\u001b[0m     \u001b[1;32mdef\u001b[0m \u001b[0mmagic_deco\u001b[0m\u001b[1;33m(\u001b[0m\u001b[0marg\u001b[0m\u001b[1;33m)\u001b[0m\u001b[1;33m:\u001b[0m\u001b[1;33m\u001b[0m\u001b[1;33m\u001b[0m\u001b[0m\n\u001b[1;32m--> 187\u001b[1;33m         \u001b[0mcall\u001b[0m \u001b[1;33m=\u001b[0m \u001b[1;32mlambda\u001b[0m \u001b[0mf\u001b[0m\u001b[1;33m,\u001b[0m \u001b[1;33m*\u001b[0m\u001b[0ma\u001b[0m\u001b[1;33m,\u001b[0m \u001b[1;33m**\u001b[0m\u001b[0mk\u001b[0m\u001b[1;33m:\u001b[0m \u001b[0mf\u001b[0m\u001b[1;33m(\u001b[0m\u001b[1;33m*\u001b[0m\u001b[0ma\u001b[0m\u001b[1;33m,\u001b[0m \u001b[1;33m**\u001b[0m\u001b[0mk\u001b[0m\u001b[1;33m)\u001b[0m\u001b[1;33m\u001b[0m\u001b[1;33m\u001b[0m\u001b[0m\n\u001b[0m\u001b[0;32m    188\u001b[0m \u001b[1;33m\u001b[0m\u001b[0m\n\u001b[0;32m    189\u001b[0m         \u001b[1;32mif\u001b[0m \u001b[0mcallable\u001b[0m\u001b[1;33m(\u001b[0m\u001b[0marg\u001b[0m\u001b[1;33m)\u001b[0m\u001b[1;33m:\u001b[0m\u001b[1;33m\u001b[0m\u001b[1;33m\u001b[0m\u001b[0m\n",
      "\u001b[1;32m~\\Anaconda3\\lib\\site-packages\\IPython\\core\\magics\\execution.py\u001b[0m in \u001b[0;36mrun\u001b[1;34m(self, parameter_s, runner, file_finder)\u001b[0m\n\u001b[0;32m    834\u001b[0m                     \u001b[1;32melse\u001b[0m\u001b[1;33m:\u001b[0m\u001b[1;33m\u001b[0m\u001b[1;33m\u001b[0m\u001b[0m\n\u001b[0;32m    835\u001b[0m                         \u001b[1;31m# regular execution\u001b[0m\u001b[1;33m\u001b[0m\u001b[1;33m\u001b[0m\u001b[1;33m\u001b[0m\u001b[0m\n\u001b[1;32m--> 836\u001b[1;33m                         \u001b[0mrun\u001b[0m\u001b[1;33m(\u001b[0m\u001b[1;33m)\u001b[0m\u001b[1;33m\u001b[0m\u001b[1;33m\u001b[0m\u001b[0m\n\u001b[0m\u001b[0;32m    837\u001b[0m \u001b[1;33m\u001b[0m\u001b[0m\n\u001b[0;32m    838\u001b[0m             \u001b[1;32mif\u001b[0m \u001b[1;34m'i'\u001b[0m \u001b[1;32min\u001b[0m \u001b[0mopts\u001b[0m\u001b[1;33m:\u001b[0m\u001b[1;33m\u001b[0m\u001b[1;33m\u001b[0m\u001b[0m\n",
      "\u001b[1;32m~\\Anaconda3\\lib\\site-packages\\IPython\\core\\magics\\execution.py\u001b[0m in \u001b[0;36mrun\u001b[1;34m()\u001b[0m\n\u001b[0;32m    819\u001b[0m \u001b[1;33m\u001b[0m\u001b[0m\n\u001b[0;32m    820\u001b[0m                         \u001b[1;32mdef\u001b[0m \u001b[0mrun\u001b[0m\u001b[1;33m(\u001b[0m\u001b[1;33m)\u001b[0m\u001b[1;33m:\u001b[0m\u001b[1;33m\u001b[0m\u001b[1;33m\u001b[0m\u001b[0m\n\u001b[1;32m--> 821\u001b[1;33m                             runner(filename, prog_ns, prog_ns,\n\u001b[0m\u001b[0;32m    822\u001b[0m                                     exit_ignore=exit_ignore)\n\u001b[0;32m    823\u001b[0m \u001b[1;33m\u001b[0m\u001b[0m\n",
      "\u001b[1;32m~\\Anaconda3\\lib\\site-packages\\IPython\\core\\pylabtools.py\u001b[0m in \u001b[0;36mmpl_execfile\u001b[1;34m(fname, *where, **kw)\u001b[0m\n\u001b[0;32m    179\u001b[0m         \u001b[0mis_interactive\u001b[0m \u001b[1;33m=\u001b[0m \u001b[0mmatplotlib\u001b[0m\u001b[1;33m.\u001b[0m\u001b[0mrcParams\u001b[0m\u001b[1;33m[\u001b[0m\u001b[1;34m'interactive'\u001b[0m\u001b[1;33m]\u001b[0m\u001b[1;33m\u001b[0m\u001b[1;33m\u001b[0m\u001b[0m\n\u001b[0;32m    180\u001b[0m         \u001b[0mmatplotlib\u001b[0m\u001b[1;33m.\u001b[0m\u001b[0minteractive\u001b[0m\u001b[1;33m(\u001b[0m\u001b[1;32mFalse\u001b[0m\u001b[1;33m)\u001b[0m\u001b[1;33m\u001b[0m\u001b[1;33m\u001b[0m\u001b[0m\n\u001b[1;32m--> 181\u001b[1;33m         \u001b[0msafe_execfile\u001b[0m\u001b[1;33m(\u001b[0m\u001b[0mfname\u001b[0m\u001b[1;33m,\u001b[0m\u001b[1;33m*\u001b[0m\u001b[0mwhere\u001b[0m\u001b[1;33m,\u001b[0m\u001b[1;33m**\u001b[0m\u001b[0mkw\u001b[0m\u001b[1;33m)\u001b[0m\u001b[1;33m\u001b[0m\u001b[1;33m\u001b[0m\u001b[0m\n\u001b[0m\u001b[0;32m    182\u001b[0m         \u001b[0mmatplotlib\u001b[0m\u001b[1;33m.\u001b[0m\u001b[0minteractive\u001b[0m\u001b[1;33m(\u001b[0m\u001b[0mis_interactive\u001b[0m\u001b[1;33m)\u001b[0m\u001b[1;33m\u001b[0m\u001b[1;33m\u001b[0m\u001b[0m\n\u001b[0;32m    183\u001b[0m         \u001b[1;31m# make rendering call now, if the user tried to do it\u001b[0m\u001b[1;33m\u001b[0m\u001b[1;33m\u001b[0m\u001b[1;33m\u001b[0m\u001b[0m\n",
      "\u001b[1;32m~\\Anaconda3\\lib\\site-packages\\IPython\\core\\interactiveshell.py\u001b[0m in \u001b[0;36msafe_execfile\u001b[1;34m(self, fname, exit_ignore, raise_exceptions, shell_futures, *where)\u001b[0m\n\u001b[0;32m   2777\u001b[0m                     \u001b[1;32mraise\u001b[0m\u001b[1;33m\u001b[0m\u001b[1;33m\u001b[0m\u001b[0m\n\u001b[0;32m   2778\u001b[0m                 \u001b[1;31m# tb offset is 2 because we wrap execfile\u001b[0m\u001b[1;33m\u001b[0m\u001b[1;33m\u001b[0m\u001b[1;33m\u001b[0m\u001b[0m\n\u001b[1;32m-> 2779\u001b[1;33m                 \u001b[0mself\u001b[0m\u001b[1;33m.\u001b[0m\u001b[0mshowtraceback\u001b[0m\u001b[1;33m(\u001b[0m\u001b[0mtb_offset\u001b[0m\u001b[1;33m=\u001b[0m\u001b[1;36m2\u001b[0m\u001b[1;33m)\u001b[0m\u001b[1;33m\u001b[0m\u001b[1;33m\u001b[0m\u001b[0m\n\u001b[0m\u001b[0;32m   2780\u001b[0m \u001b[1;33m\u001b[0m\u001b[0m\n\u001b[0;32m   2781\u001b[0m     \u001b[1;32mdef\u001b[0m \u001b[0msafe_execfile_ipy\u001b[0m\u001b[1;33m(\u001b[0m\u001b[0mself\u001b[0m\u001b[1;33m,\u001b[0m \u001b[0mfname\u001b[0m\u001b[1;33m,\u001b[0m \u001b[0mshell_futures\u001b[0m\u001b[1;33m=\u001b[0m\u001b[1;32mFalse\u001b[0m\u001b[1;33m,\u001b[0m \u001b[0mraise_exceptions\u001b[0m\u001b[1;33m=\u001b[0m\u001b[1;32mFalse\u001b[0m\u001b[1;33m)\u001b[0m\u001b[1;33m:\u001b[0m\u001b[1;33m\u001b[0m\u001b[1;33m\u001b[0m\u001b[0m\n",
      "\u001b[1;32m~\\Anaconda3\\lib\\site-packages\\IPython\\core\\interactiveshell.py\u001b[0m in \u001b[0;36mshowtraceback\u001b[1;34m(self, exc_tuple, filename, tb_offset, exception_only, running_compiled_code)\u001b[0m\n\u001b[0;32m   2061\u001b[0m                         \u001b[0mstb\u001b[0m \u001b[1;33m=\u001b[0m \u001b[0mvalue\u001b[0m\u001b[1;33m.\u001b[0m\u001b[0m_render_traceback_\u001b[0m\u001b[1;33m(\u001b[0m\u001b[1;33m)\u001b[0m\u001b[1;33m\u001b[0m\u001b[1;33m\u001b[0m\u001b[0m\n\u001b[0;32m   2062\u001b[0m                     \u001b[1;32mexcept\u001b[0m \u001b[0mException\u001b[0m\u001b[1;33m:\u001b[0m\u001b[1;33m\u001b[0m\u001b[1;33m\u001b[0m\u001b[0m\n\u001b[1;32m-> 2063\u001b[1;33m                         stb = self.InteractiveTB.structured_traceback(etype,\n\u001b[0m\u001b[0;32m   2064\u001b[0m                                             value, tb, tb_offset=tb_offset)\n\u001b[0;32m   2065\u001b[0m \u001b[1;33m\u001b[0m\u001b[0m\n",
      "\u001b[1;32m~\\Anaconda3\\lib\\site-packages\\IPython\\core\\ultratb.py\u001b[0m in \u001b[0;36mstructured_traceback\u001b[1;34m(self, etype, value, tb, tb_offset, number_of_lines_of_context)\u001b[0m\n\u001b[0;32m   1365\u001b[0m         \u001b[1;32melse\u001b[0m\u001b[1;33m:\u001b[0m\u001b[1;33m\u001b[0m\u001b[1;33m\u001b[0m\u001b[0m\n\u001b[0;32m   1366\u001b[0m             \u001b[0mself\u001b[0m\u001b[1;33m.\u001b[0m\u001b[0mtb\u001b[0m \u001b[1;33m=\u001b[0m \u001b[0mtb\u001b[0m\u001b[1;33m\u001b[0m\u001b[1;33m\u001b[0m\u001b[0m\n\u001b[1;32m-> 1367\u001b[1;33m         return FormattedTB.structured_traceback(\n\u001b[0m\u001b[0;32m   1368\u001b[0m             self, etype, value, tb, tb_offset, number_of_lines_of_context)\n\u001b[0;32m   1369\u001b[0m \u001b[1;33m\u001b[0m\u001b[0m\n",
      "\u001b[1;32m~\\Anaconda3\\lib\\site-packages\\IPython\\core\\ultratb.py\u001b[0m in \u001b[0;36mstructured_traceback\u001b[1;34m(self, etype, value, tb, tb_offset, number_of_lines_of_context)\u001b[0m\n\u001b[0;32m   1265\u001b[0m         \u001b[1;32mif\u001b[0m \u001b[0mmode\u001b[0m \u001b[1;32min\u001b[0m \u001b[0mself\u001b[0m\u001b[1;33m.\u001b[0m\u001b[0mverbose_modes\u001b[0m\u001b[1;33m:\u001b[0m\u001b[1;33m\u001b[0m\u001b[1;33m\u001b[0m\u001b[0m\n\u001b[0;32m   1266\u001b[0m             \u001b[1;31m# Verbose modes need a full traceback\u001b[0m\u001b[1;33m\u001b[0m\u001b[1;33m\u001b[0m\u001b[1;33m\u001b[0m\u001b[0m\n\u001b[1;32m-> 1267\u001b[1;33m             return VerboseTB.structured_traceback(\n\u001b[0m\u001b[0;32m   1268\u001b[0m                 \u001b[0mself\u001b[0m\u001b[1;33m,\u001b[0m \u001b[0metype\u001b[0m\u001b[1;33m,\u001b[0m \u001b[0mvalue\u001b[0m\u001b[1;33m,\u001b[0m \u001b[0mtb\u001b[0m\u001b[1;33m,\u001b[0m \u001b[0mtb_offset\u001b[0m\u001b[1;33m,\u001b[0m \u001b[0mnumber_of_lines_of_context\u001b[0m\u001b[1;33m\u001b[0m\u001b[1;33m\u001b[0m\u001b[0m\n\u001b[0;32m   1269\u001b[0m             )\n",
      "\u001b[1;32m~\\Anaconda3\\lib\\site-packages\\IPython\\core\\ultratb.py\u001b[0m in \u001b[0;36mstructured_traceback\u001b[1;34m(self, etype, evalue, etb, tb_offset, number_of_lines_of_context)\u001b[0m\n\u001b[0;32m   1122\u001b[0m         \u001b[1;34m\"\"\"Return a nice text document describing the traceback.\"\"\"\u001b[0m\u001b[1;33m\u001b[0m\u001b[1;33m\u001b[0m\u001b[0m\n\u001b[0;32m   1123\u001b[0m \u001b[1;33m\u001b[0m\u001b[0m\n\u001b[1;32m-> 1124\u001b[1;33m         formatted_exception = self.format_exception_as_a_whole(etype, evalue, etb, number_of_lines_of_context,\n\u001b[0m\u001b[0;32m   1125\u001b[0m                                                                tb_offset)\n\u001b[0;32m   1126\u001b[0m \u001b[1;33m\u001b[0m\u001b[0m\n",
      "\u001b[1;32m~\\Anaconda3\\lib\\site-packages\\IPython\\core\\ultratb.py\u001b[0m in \u001b[0;36mformat_exception_as_a_whole\u001b[1;34m(self, etype, evalue, etb, number_of_lines_of_context, tb_offset)\u001b[0m\n\u001b[0;32m   1080\u001b[0m \u001b[1;33m\u001b[0m\u001b[0m\n\u001b[0;32m   1081\u001b[0m \u001b[1;33m\u001b[0m\u001b[0m\n\u001b[1;32m-> 1082\u001b[1;33m         \u001b[0mlast_unique\u001b[0m\u001b[1;33m,\u001b[0m \u001b[0mrecursion_repeat\u001b[0m \u001b[1;33m=\u001b[0m \u001b[0mfind_recursion\u001b[0m\u001b[1;33m(\u001b[0m\u001b[0morig_etype\u001b[0m\u001b[1;33m,\u001b[0m \u001b[0mevalue\u001b[0m\u001b[1;33m,\u001b[0m \u001b[0mrecords\u001b[0m\u001b[1;33m)\u001b[0m\u001b[1;33m\u001b[0m\u001b[1;33m\u001b[0m\u001b[0m\n\u001b[0m\u001b[0;32m   1083\u001b[0m \u001b[1;33m\u001b[0m\u001b[0m\n\u001b[0;32m   1084\u001b[0m         \u001b[0mframes\u001b[0m \u001b[1;33m=\u001b[0m \u001b[0mself\u001b[0m\u001b[1;33m.\u001b[0m\u001b[0mformat_records\u001b[0m\u001b[1;33m(\u001b[0m\u001b[0mrecords\u001b[0m\u001b[1;33m,\u001b[0m \u001b[0mlast_unique\u001b[0m\u001b[1;33m,\u001b[0m \u001b[0mrecursion_repeat\u001b[0m\u001b[1;33m)\u001b[0m\u001b[1;33m\u001b[0m\u001b[1;33m\u001b[0m\u001b[0m\n",
      "\u001b[1;32m~\\Anaconda3\\lib\\site-packages\\IPython\\core\\ultratb.py\u001b[0m in \u001b[0;36mfind_recursion\u001b[1;34m(etype, value, records)\u001b[0m\n\u001b[0;32m    380\u001b[0m     \u001b[1;31m# first frame (from in to out) that looks different.\u001b[0m\u001b[1;33m\u001b[0m\u001b[1;33m\u001b[0m\u001b[1;33m\u001b[0m\u001b[0m\n\u001b[0;32m    381\u001b[0m     \u001b[1;32mif\u001b[0m \u001b[1;32mnot\u001b[0m \u001b[0mis_recursion_error\u001b[0m\u001b[1;33m(\u001b[0m\u001b[0metype\u001b[0m\u001b[1;33m,\u001b[0m \u001b[0mvalue\u001b[0m\u001b[1;33m,\u001b[0m \u001b[0mrecords\u001b[0m\u001b[1;33m)\u001b[0m\u001b[1;33m:\u001b[0m\u001b[1;33m\u001b[0m\u001b[1;33m\u001b[0m\u001b[0m\n\u001b[1;32m--> 382\u001b[1;33m         \u001b[1;32mreturn\u001b[0m \u001b[0mlen\u001b[0m\u001b[1;33m(\u001b[0m\u001b[0mrecords\u001b[0m\u001b[1;33m)\u001b[0m\u001b[1;33m,\u001b[0m \u001b[1;36m0\u001b[0m\u001b[1;33m\u001b[0m\u001b[1;33m\u001b[0m\u001b[0m\n\u001b[0m\u001b[0;32m    383\u001b[0m \u001b[1;33m\u001b[0m\u001b[0m\n\u001b[0;32m    384\u001b[0m     \u001b[1;31m# Select filename, lineno, func_name to track frames with\u001b[0m\u001b[1;33m\u001b[0m\u001b[1;33m\u001b[0m\u001b[1;33m\u001b[0m\u001b[0m\n",
      "\u001b[1;31mTypeError\u001b[0m: object of type 'NoneType' has no len()"
     ]
    }
   ],
   "source": [
    "%matplotlib inline\n",
    "\n",
    "# Run TCDF with a provided dataset of Finance (see https://github.com/M-Nauta/TCDF)\n",
    "\n",
    "%run -i \"runTCDF.py\"  --ground_truth data/random-rels_20_1_3_returns30007000_header.csv=data/random-rels_20_1_3.csv --learning_rate 0.01 --hidden_layers 0 --epochs 5000 --log_interval 1000 --significance 0.8 --dilation_coefficient 4 --kernel_size 4 --seed 4305 --plot"
   ]
  },
  {
   "cell_type": "code",
   "execution_count": null,
   "metadata": {
    "scrolled": true
   },
   "outputs": [],
   "source": [
    "# Run TCDF for predictive accuracy\n",
    "\n",
    "%run -i \"evaluate_predictions_TCDF.py\" --data data/random-rels_20_1_3_returns30007000_header.csv --learning_rate 0.01 --hidden_layers 0 --epochs 2000 --log_interval 1000 --dilation_coefficient 4 --kernel_size 4 --seed 4305 --plot --train_test_split 0.8"
   ]
  },
  {
   "cell_type": "code",
   "execution_count": null,
   "metadata": {
    "scrolled": true
   },
   "outputs": [],
   "source": [
    "%matplotlib inline\n",
    "\n",
    "# Run TCDF with a provided dataset of Finance (see https://github.com/M-Nauta/TCDF)\n",
    "\n",
    "%run -i \"runTCDF.py\"  --ground_truth data/random-rels_20_1_3_returns30007000_header.csv=data/random-rels_20_1_3.csv --learning_rate 0.01 --hidden_layers 0 --epochs 5000 --log_interval 1000 --significance 0.8 --dilation_coefficient 4 --kernel_size 4 --seed 39655 --plot"
   ]
  },
  {
   "cell_type": "code",
   "execution_count": null,
   "metadata": {
    "scrolled": true
   },
   "outputs": [],
   "source": [
    "# Run TCDF for predictive accuracy\n",
    "\n",
    "%run -i \"evaluate_predictions_TCDF.py\" --data data/random-rels_20_1_3_returns30007000_header.csv --learning_rate 0.01 --hidden_layers 0 --epochs 2000 --log_interval 1000 --dilation_coefficient 4 --kernel_size 4 --seed 39655 --plot --train_test_split 0.8"
   ]
  },
  {
   "cell_type": "markdown",
   "metadata": {},
   "source": [
    "#### TCDF Dataset random-rels_40_1.csv: first run (in triplicate, 1 hidden layer) "
   ]
  },
  {
   "cell_type": "code",
   "execution_count": null,
   "metadata": {
    "scrolled": true
   },
   "outputs": [],
   "source": [
    "%matplotlib inline\n",
    "\n",
    "# Run TCDF with a provided dataset of Finance (see https://github.com/M-Nauta/TCDF)\n",
    "\n",
    "%run -i \"runTCDF.py\"  --ground_truth data/random-rels_40_1_returns30007000_header.csv=data/random-rels_40_1.csv --learning_rate 0.01 --hidden_layers 1 --epochs 5000 --log_interval 1000 --significance 0.8 --dilation_coefficient 4 --kernel_size 4 --seed 5467 --plot"
   ]
  },
  {
   "cell_type": "code",
   "execution_count": null,
   "metadata": {
    "scrolled": true
   },
   "outputs": [],
   "source": [
    "# Run TCDF for predictive accuracy\n",
    "\n",
    "%run -i \"evaluate_predictions_TCDF.py\" --data data/random-rels_40_1_returns30007000_header.csv --learning_rate 0.01 --hidden_layers 1 --epochs 2000 --log_interval 1000 --dilation_coefficient 4 --kernel_size 4 --seed 5467 --plot --train_test_split 0.8"
   ]
  },
  {
   "cell_type": "code",
   "execution_count": null,
   "metadata": {
    "scrolled": true
   },
   "outputs": [],
   "source": [
    "%matplotlib inline\n",
    "\n",
    "# Run TCDF with a provided dataset of Finance (see https://github.com/M-Nauta/TCDF)\n",
    "\n",
    "%run -i \"runTCDF.py\"  --ground_truth data/random-rels_40_1_returns30007000_header.csv=data/random-rels_40_1.csv --learning_rate 0.01 --hidden_layers 1 --epochs 5000 --log_interval 1000 --significance 0.8 --dilation_coefficient 4 --kernel_size 4 --seed 68400 --plot"
   ]
  },
  {
   "cell_type": "code",
   "execution_count": null,
   "metadata": {
    "scrolled": true
   },
   "outputs": [],
   "source": [
    "# Run TCDF for predictive accuracy\n",
    "\n",
    "%run -i \"evaluate_predictions_TCDF.py\" --data data/random-rels_40_1_returns30007000_header.csv --learning_rate 0.01 --hidden_layers 1 --epochs 2000 --log_interval 1000 --dilation_coefficient 4 --kernel_size 4 --seed 68400 --plot --train_test_split 0.8"
   ]
  },
  {
   "cell_type": "code",
   "execution_count": null,
   "metadata": {
    "scrolled": true
   },
   "outputs": [],
   "source": [
    "%matplotlib inline\n",
    "\n",
    "# Run TCDF with a provided dataset of Finance (see https://github.com/M-Nauta/TCDF)\n",
    "\n",
    "%run -i \"runTCDF.py\"  --ground_truth data/random-rels_40_1_returns30007000_header.csv=data/random-rels_40_1.csv --learning_rate 0.01 --hidden_layers 1 --epochs 5000 --log_interval 1000 --significance 0.8 --dilation_coefficient 4 --kernel_size 4 --seed 44601 --plot"
   ]
  },
  {
   "cell_type": "code",
   "execution_count": null,
   "metadata": {
    "scrolled": true
   },
   "outputs": [],
   "source": [
    "# Run TCDF for predictive accuracy\n",
    "\n",
    "%run -i \"evaluate_predictions_TCDF.py\" --data data/random-rels_40_1_returns30007000_header.csv --learning_rate 0.01 --hidden_layers 1 --epochs 2000 --log_interval 1000 --dilation_coefficient 4 --kernel_size 4 --seed 44601 --plot --train_test_split 0.8"
   ]
  },
  {
   "cell_type": "markdown",
   "metadata": {},
   "source": [
    "#### TCDF Dataset random-rels_40_1.csv: second run (in triplicate, 0 hidden layers) "
   ]
  },
  {
   "cell_type": "code",
   "execution_count": null,
   "metadata": {
    "scrolled": true
   },
   "outputs": [],
   "source": [
    "%matplotlib inline\n",
    "\n",
    "# Run TCDF with a provided dataset of Finance (see https://github.com/M-Nauta/TCDF)\n",
    "\n",
    "%run -i \"runTCDF.py\"  --ground_truth data/random-rels_40_1_returns30007000_header.csv=data/random-rels_40_1.csv --learning_rate 0.01 --hidden_layers 0 --epochs 5000 --log_interval 1000 --significance 0.8 --dilation_coefficient 4 --kernel_size 4 --seed 25356 --plot"
   ]
  },
  {
   "cell_type": "code",
   "execution_count": null,
   "metadata": {
    "scrolled": true
   },
   "outputs": [],
   "source": [
    "# Run TCDF for predictive accuracy\n",
    "\n",
    "%run -i \"evaluate_predictions_TCDF.py\" --data data/random-rels_40_1_returns30007000_header.csv --learning_rate 0.01 --hidden_layers 0 --epochs 2000 --log_interval 1000 --dilation_coefficient 4 --kernel_size 4 --seed 25356 --plot --train_test_split 0.8"
   ]
  },
  {
   "cell_type": "code",
   "execution_count": null,
   "metadata": {
    "scrolled": true
   },
   "outputs": [],
   "source": [
    "%matplotlib inline\n",
    "\n",
    "# Run TCDF with a provided dataset of Finance (see https://github.com/M-Nauta/TCDF)\n",
    "\n",
    "%run -i \"runTCDF.py\"  --ground_truth data/random-rels_40_1_returns30007000_header.csv=data/random-rels_40_1.csv --learning_rate 0.01 --hidden_layers 0 --epochs 5000 --log_interval 1000 --significance 0.8 --dilation_coefficient 4 --kernel_size 4 --seed 75370 --plot"
   ]
  },
  {
   "cell_type": "code",
   "execution_count": null,
   "metadata": {
    "scrolled": true
   },
   "outputs": [],
   "source": [
    "# Run TCDF for predictive accuracy\n",
    "\n",
    "%run -i \"evaluate_predictions_TCDF.py\" --data data/random-rels_40_1_returns30007000_header.csv --learning_rate 0.01 --hidden_layers 0 --epochs 2000 --log_interval 1000 --dilation_coefficient 4 --kernel_size 4 --seed 75370 --plot --train_test_split 0.8"
   ]
  },
  {
   "cell_type": "code",
   "execution_count": null,
   "metadata": {
    "scrolled": true
   },
   "outputs": [],
   "source": [
    "%matplotlib inline\n",
    "\n",
    "# Run TCDF with a provided dataset of Finance (see https://github.com/M-Nauta/TCDF)\n",
    "\n",
    "%run -i \"runTCDF.py\"  --ground_truth data/random-rels_40_1_returns30007000_header.csv=data/random-rels_40_1.csv --learning_rate 0.01 --hidden_layers 0 --epochs 5000 --log_interval 1000 --significance 0.8 --dilation_coefficient 4 --kernel_size 4 --seed 91996 --plot"
   ]
  },
  {
   "cell_type": "code",
   "execution_count": null,
   "metadata": {
    "scrolled": true
   },
   "outputs": [],
   "source": [
    "# Run TCDF for predictive accuracy\n",
    "\n",
    "%run -i \"evaluate_predictions_TCDF.py\" --data data/random-rels_40_1_returns30007000_header.csv --learning_rate 0.01 --hidden_layers 0 --epochs 2000 --log_interval 1000 --dilation_coefficient 4 --kernel_size 4 --seed 91996 --plot --train_test_split 0.8"
   ]
  },
  {
   "cell_type": "markdown",
   "metadata": {},
   "source": [
    "#### TCDF Dataset random-rels_40_1_3.csv: first run (in triplicate, 1 hidden layer) "
   ]
  },
  {
   "cell_type": "code",
   "execution_count": null,
   "metadata": {
    "scrolled": true
   },
   "outputs": [],
   "source": [
    "%matplotlib inline\n",
    "\n",
    "# Run TCDF with a provided dataset of Finance (see https://github.com/M-Nauta/TCDF)\n",
    "\n",
    "%run -i \"runTCDF.py\"  --ground_truth data/random-rels_40_1_3_returns30007000_header.csv=data/random-rels_40_1_3.csv --learning_rate 0.01 --hidden_layers 1 --epochs 5000 --log_interval 1000 --significance 0.8 --dilation_coefficient 4 --kernel_size 4 --seed 5467 --plot"
   ]
  },
  {
   "cell_type": "code",
   "execution_count": null,
   "metadata": {
    "scrolled": true
   },
   "outputs": [],
   "source": [
    "# Run TCDF for predictive accuracy\n",
    "\n",
    "%run -i \"evaluate_predictions_TCDF.py\" --data data/random-rels_40_1_3_returns30007000_header.csv --learning_rate 0.01 --hidden_layers 1 --epochs 2000 --log_interval 1000 --dilation_coefficient 4 --kernel_size 4 --seed 5467 --plot --train_test_split 0.8"
   ]
  },
  {
   "cell_type": "code",
   "execution_count": null,
   "metadata": {
    "scrolled": true
   },
   "outputs": [],
   "source": [
    "%matplotlib inline\n",
    "\n",
    "# Run TCDF with a provided dataset of Finance (see https://github.com/M-Nauta/TCDF)\n",
    "\n",
    "%run -i \"runTCDF.py\"  --ground_truth data/random-rels_40_1_3_returns30007000_header.csv=data/random-rels_40_1_3.csv --learning_rate 0.01 --hidden_layers 1 --epochs 5000 --log_interval 1000 --significance 0.8 --dilation_coefficient 4 --kernel_size 4 --seed 68400 --plot"
   ]
  },
  {
   "cell_type": "code",
   "execution_count": null,
   "metadata": {
    "scrolled": true
   },
   "outputs": [],
   "source": [
    "# Run TCDF for predictive accuracy\n",
    "\n",
    "%run -i \"evaluate_predictions_TCDF.py\" --data data/random-rels_40_1_3_returns30007000_header.csv --learning_rate 0.01 --hidden_layers 1 --epochs 2000 --log_interval 1000 --dilation_coefficient 4 --kernel_size 4 --seed 68400 --plot --train_test_split 0.8"
   ]
  },
  {
   "cell_type": "code",
   "execution_count": null,
   "metadata": {
    "scrolled": true
   },
   "outputs": [],
   "source": [
    "%matplotlib inline\n",
    "\n",
    "# Run TCDF with a provided dataset of Finance (see https://github.com/M-Nauta/TCDF)\n",
    "\n",
    "%run -i \"runTCDF.py\"  --ground_truth data/random-rels_40_1_3_returns30007000_header.csv=data/random-rels_40_1_3.csv --learning_rate 0.01 --hidden_layers 1 --epochs 5000 --log_interval 1000 --significance 0.8 --dilation_coefficient 4 --kernel_size 4 --seed 44601 --plot"
   ]
  },
  {
   "cell_type": "code",
   "execution_count": null,
   "metadata": {
    "scrolled": true
   },
   "outputs": [],
   "source": [
    "# Run TCDF for predictive accuracy\n",
    "\n",
    "%run -i \"evaluate_predictions_TCDF.py\" --data data/random-rels_40_1_3_returns30007000_header.csv --learning_rate 0.01 --hidden_layers 1 --epochs 2000 --log_interval 1000 --dilation_coefficient 4 --kernel_size 4 --seed 44601 --plot --train_test_split 0.8"
   ]
  },
  {
   "cell_type": "markdown",
   "metadata": {},
   "source": [
    "#### TCDF Dataset random-rels_40_1_3.csv: second run (in triplicate, 0 hidden layers) "
   ]
  },
  {
   "cell_type": "code",
   "execution_count": null,
   "metadata": {
    "scrolled": true
   },
   "outputs": [],
   "source": [
    "%matplotlib inline\n",
    "\n",
    "# Run TCDF with a provided dataset of Finance (see https://github.com/M-Nauta/TCDF)\n",
    "\n",
    "%run -i \"runTCDF.py\"  --ground_truth data/random-rels_40_1_3_returns30007000_header.csv=data/random-rels_40_1_3.csv --learning_rate 0.01 --hidden_layers 0 --epochs 5000 --log_interval 1000 --significance 0.8 --dilation_coefficient 4 --kernel_size 4 --seed 25356 --plot"
   ]
  },
  {
   "cell_type": "code",
   "execution_count": null,
   "metadata": {
    "scrolled": true
   },
   "outputs": [],
   "source": [
    "# Run TCDF for predictive accuracy\n",
    "\n",
    "%run -i \"evaluate_predictions_TCDF.py\" --data data/random-rels_40_1_3_returns30007000_header.csv --learning_rate 0.01 --hidden_layers 0 --epochs 2000 --log_interval 1000 --dilation_coefficient 4 --kernel_size 4 --seed 25356 --plot --train_test_split 0.8"
   ]
  },
  {
   "cell_type": "code",
   "execution_count": null,
   "metadata": {
    "scrolled": true
   },
   "outputs": [],
   "source": [
    "%matplotlib inline\n",
    "\n",
    "# Run TCDF with a provided dataset of Finance (see https://github.com/M-Nauta/TCDF)\n",
    "\n",
    "%run -i \"runTCDF.py\"  --ground_truth data/random-rels_40_1_3_returns30007000_header.csv=data/random-rels_40_1_3.csv --learning_rate 0.01 --hidden_layers 0 --epochs 5000 --log_interval 1000 --significance 0.8 --dilation_coefficient 4 --kernel_size 4 --seed 75370 --plot"
   ]
  },
  {
   "cell_type": "code",
   "execution_count": null,
   "metadata": {
    "scrolled": true
   },
   "outputs": [],
   "source": [
    "# Run TCDF for predictive accuracy\n",
    "\n",
    "%run -i \"evaluate_predictions_TCDF.py\" --data data/random-rels_40_1_3_returns30007000_header.csv --learning_rate 0.01 --hidden_layers 0 --epochs 2000 --log_interval 1000 --dilation_coefficient 4 --kernel_size 4 --seed 75370 --plot --train_test_split 0.8"
   ]
  },
  {
   "cell_type": "code",
   "execution_count": null,
   "metadata": {
    "scrolled": true
   },
   "outputs": [],
   "source": [
    "%matplotlib inline\n",
    "\n",
    "# Run TCDF with a provided dataset of Finance (see https://github.com/M-Nauta/TCDF)\n",
    "\n",
    "%run -i \"runTCDF.py\"  --ground_truth data/random-rels_40_1_3_returns30007000_header.csv=data/random-rels_40_1_3.csv --learning_rate 0.01 --hidden_layers 0 --epochs 5000 --log_interval 1000 --significance 0.8 --dilation_coefficient 4 --kernel_size 4 --seed 91996 --plot"
   ]
  },
  {
   "cell_type": "code",
   "execution_count": null,
   "metadata": {
    "scrolled": true
   },
   "outputs": [],
   "source": [
    "# Run TCDF for predictive accuracy\n",
    "\n",
    "%run -i \"evaluate_predictions_TCDF.py\" --data data/random-rels_40_1_3_returns30007000_header.csv --learning_rate 0.01 --hidden_layers 0 --epochs 2000 --log_interval 1000 --dilation_coefficient 4 --kernel_size 4 --seed 91996 --plot --train_test_split 0.8"
   ]
  }
 ],
 "metadata": {
  "kernelspec": {
   "display_name": "Python 3",
   "language": "python",
   "name": "python3"
  },
  "language_info": {
   "codemirror_mode": {
    "name": "ipython",
    "version": 3
   },
   "file_extension": ".py",
   "mimetype": "text/x-python",
   "name": "python",
   "nbconvert_exporter": "python",
   "pygments_lexer": "ipython3",
   "version": "3.8.8"
  }
 },
 "nbformat": 4,
 "nbformat_minor": 4
}
