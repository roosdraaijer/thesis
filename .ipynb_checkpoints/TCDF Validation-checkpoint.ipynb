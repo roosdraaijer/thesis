{
 "cells": [
  {
   "cell_type": "markdown",
   "metadata": {},
   "source": [
    "# TCDF Validation with provided data \n",
    "In this notebook I provide TCDF network runs with provided (preprocessed) data from the Finance dataset, available from https://github.com/M-Nauta/TCDF. This serves as further support for model validation and the additional implementation in this network by R. Draaijer."
   ]
  },
  {
   "cell_type": "markdown",
   "metadata": {},
   "source": [
    "### Prepare for running TCDF"
   ]
  },
  {
   "cell_type": "code",
   "execution_count": 1,
   "metadata": {},
   "outputs": [
    {
     "data": {
      "text/plain": [
       "'C:\\\\Users\\\\10528504\\\\Documents\\\\GitHub\\\\thesis\\\\TCDF'"
      ]
     },
     "execution_count": 1,
     "metadata": {},
     "output_type": "execute_result"
    }
   ],
   "source": [
    "import os\n",
    "\n",
    "# Create universally (i.e. across various operating systems) recognized paths\n",
    "\n",
    "notebook_path = os.path.abspath('TCDF Validation.ipynb')               # Jupyter notebook path\n",
    "TCDF_path = os.path.join(os.path.dirname(notebook_path), 'TCDF')       # TCDF folder path\n",
    "TCDFdata_path = os.path.join(TCDF_path, 'data')                        # TCDF/data folder path\n",
    "\n",
    "# Define needed directory\n",
    "directory = TCDF_path\n",
    "\n",
    "# Check current working directory\n",
    "current_directory = os.getcwd()\n",
    "\n",
    "# Change working directory to perform TCDF\n",
    "if current_directory != directory:\n",
    "    os.chdir(TCDF_path)\n",
    "\n",
    "# Check new current working directory\n",
    "os.getcwd()"
   ]
  },
  {
   "cell_type": "code",
   "execution_count": 2,
   "metadata": {},
   "outputs": [
    {
     "name": "stdout",
     "output_type": "stream",
     "text": [
      "Collecting package metadata (current_repodata.json): ...working... done\n",
      "Solving environment: ...working... done\n",
      "\n",
      "# All requested packages already installed.\n",
      "\n",
      "Requirement already satisfied: torchvision in c:\\users\\10528504\\anaconda3\\lib\\site-packages (0.10.0)\n",
      "Requirement already satisfied: pillow>=5.3.0 in c:\\users\\10528504\\anaconda3\\lib\\site-packages (from torchvision) (8.2.0)\n",
      "Requirement already satisfied: numpy in c:\\users\\10528504\\anaconda3\\lib\\site-packages (from torchvision) (1.20.1)\n",
      "Requirement already satisfied: torch==1.9.0 in c:\\users\\10528504\\anaconda3\\lib\\site-packages (from torchvision) (1.9.0)\n",
      "Requirement already satisfied: typing-extensions in c:\\users\\10528504\\anaconda3\\lib\\site-packages (from torch==1.9.0->torchvision) (3.7.4.3)\n"
     ]
    }
   ],
   "source": [
    "# Install conda- and pip packages in the current Jupyter kernel\n",
    "import sys\n",
    "!conda install --yes --prefix {sys.prefix} git\n",
    "!{sys.executable} -m pip install torchvision"
   ]
  },
  {
   "cell_type": "markdown",
   "metadata": {},
   "source": [
    "### Run Finance datasets \n",
    "I have chosen to run these datasets with either 0 or 1 hidden layer(s), since these gave the best results according to Nauta et al. (2019). In total there are 9 datasets, and they are run with the additionally implemented early stopping and adaptive learning rate. To use these results comparitively to the tritrophic dataset, the datasets are run in triplicate as well."
   ]
  },
  {
   "cell_type": "markdown",
   "metadata": {},
   "source": [
    "#### TCDF Dataset random-rels_20_1A.csv: first run (in triplicate, 1 hidden layer) "
   ]
  },
  {
   "cell_type": "code",
   "execution_count": null,
   "metadata": {
    "scrolled": true
   },
   "outputs": [
    {
     "name": "stdout",
     "output_type": "stream",
     "text": [
      "Arguments: Namespace(cuda=False, data=None, dilation_coefficient=4, early_stopping=True, epochs=5000, ground_truth={'data/random-rels_20_1A_returns30007000_header.csv': 'data/random-rels_20_1A.csv'}, hidden_layers=1, kernel_size=4, learning_rate=0.01, log_interval=1000, lr_scheduler=True, optimizer='Adam', plot=True, seed=13076, significance=0.8)\n",
      "\n",
      " Dataset:  random-rels_20_1A_returns30007000_header.csv\n",
      "\n",
      " Analysis started for target:  S0\n",
      "INFO: Initializing learning rate scheduler\n",
      "INFO: Initializing early stopping\n",
      "Epoch:  1 [0%] \tLoss: 1.001290\n",
      "Epoch   354: reducing learning rate of group 0 to 1.0000e-03.\n",
      "Epoch: 1000 [20%] \tLoss: 0.169367\n",
      "Epoch: 2000 [40%] \tLoss: 0.166904\n",
      "Epoch  2811: reducing learning rate of group 0 to 1.0000e-04.\n",
      "Epoch  2823: reducing learning rate of group 0 to 1.0000e-05.\n",
      "Epoch  2834: reducing learning rate of group 0 to 1.0000e-06.\n",
      "Epoch: 3000 [60%] \tLoss: 0.165297\n",
      "INFO: Early stopping\n",
      "Potential causes:  [8, 6, 2]\n",
      "Validated causes:  []\n",
      "\n",
      " Analysis started for target:  S1\n",
      "INFO: Initializing learning rate scheduler\n",
      "INFO: Initializing early stopping\n",
      "Epoch:  1 [0%] \tLoss: 0.863634\n",
      "Epoch   303: reducing learning rate of group 0 to 1.0000e-03.\n",
      "Epoch: 1000 [20%] \tLoss: 0.155194\n",
      "Epoch: 2000 [40%] \tLoss: 0.148971\n",
      "Epoch  2327: reducing learning rate of group 0 to 1.0000e-04.\n",
      "Epoch  2342: reducing learning rate of group 0 to 1.0000e-05.\n",
      "Epoch  2353: reducing learning rate of group 0 to 1.0000e-06.\n",
      "INFO: Early stopping\n",
      "Potential causes:  [2, 18, 11, 6]\n",
      "Validated causes:  [11]\n",
      "\n",
      " Analysis started for target:  S2\n",
      "INFO: Initializing learning rate scheduler\n",
      "INFO: Initializing early stopping\n",
      "Epoch:  1 [0%] \tLoss: 0.721742\n",
      "Epoch   368: reducing learning rate of group 0 to 1.0000e-03.\n",
      "Epoch: 1000 [20%] \tLoss: 0.125095\n",
      "Epoch  1923: reducing learning rate of group 0 to 1.0000e-04.\n",
      "Epoch  1938: reducing learning rate of group 0 to 1.0000e-05.\n",
      "Epoch  1959: reducing learning rate of group 0 to 1.0000e-06.\n",
      "Epoch: 2000 [40%] \tLoss: 0.115670\n",
      "INFO: Early stopping\n",
      "Potential causes:  [2, 0, 7, 22, 17, 18, 6]\n",
      "Validated causes:  [2, 7]\n",
      "\n",
      " Analysis started for target:  S3\n",
      "INFO: Initializing learning rate scheduler\n",
      "INFO: Initializing early stopping\n",
      "Epoch:  1 [0%] \tLoss: 0.529781\n",
      "Epoch   345: reducing learning rate of group 0 to 1.0000e-03.\n",
      "Epoch: 1000 [20%] \tLoss: 0.111431\n",
      "Epoch: 2000 [40%] \tLoss: 0.090390\n",
      "Epoch  2611: reducing learning rate of group 0 to 1.0000e-04.\n",
      "Epoch  2626: reducing learning rate of group 0 to 1.0000e-05.\n",
      "Epoch  2647: reducing learning rate of group 0 to 1.0000e-06.\n",
      "INFO: Early stopping\n",
      "Potential causes:  [18, 2, 8, 10]\n",
      "Validated causes:  [18]\n",
      "\n",
      " Analysis started for target:  S4\n",
      "INFO: Initializing learning rate scheduler\n",
      "INFO: Initializing early stopping\n",
      "Epoch:  1 [0%] \tLoss: 0.547776\n",
      "Epoch   426: reducing learning rate of group 0 to 1.0000e-03.\n",
      "Epoch   437: reducing learning rate of group 0 to 1.0000e-04.\n",
      "Epoch   448: reducing learning rate of group 0 to 1.0000e-05.\n",
      "Epoch   459: reducing learning rate of group 0 to 1.0000e-06.\n",
      "INFO: Early stopping\n",
      "Potential causes:  [9, 0]\n",
      "Validated causes:  [9]\n",
      "\n",
      " Analysis started for target:  S5\n",
      "INFO: Initializing learning rate scheduler\n",
      "INFO: Initializing early stopping\n",
      "Epoch:  1 [0%] \tLoss: 1.214927\n",
      "Epoch   397: reducing learning rate of group 0 to 1.0000e-03.\n",
      "Epoch   427: reducing learning rate of group 0 to 1.0000e-04.\n",
      "Epoch   449: reducing learning rate of group 0 to 1.0000e-05.\n",
      "Epoch   460: reducing learning rate of group 0 to 1.0000e-06.\n",
      "INFO: Early stopping\n",
      "Potential causes:  [10, 16, 6]\n",
      "Validated causes:  [16]\n",
      "\n",
      " Analysis started for target:  S6\n",
      "INFO: Initializing learning rate scheduler\n",
      "INFO: Initializing early stopping\n",
      "Epoch:  1 [0%] \tLoss: 0.717641\n",
      "Epoch   303: reducing learning rate of group 0 to 1.0000e-03.\n",
      "Epoch: 1000 [20%] \tLoss: 0.096976\n",
      "Epoch: 2000 [40%] \tLoss: 0.095545\n",
      "Epoch  2558: reducing learning rate of group 0 to 1.0000e-04.\n",
      "Epoch  2572: reducing learning rate of group 0 to 1.0000e-05.\n",
      "Epoch  2583: reducing learning rate of group 0 to 1.0000e-06.\n",
      "INFO: Early stopping\n",
      "Potential causes:  [0, 18]\n",
      "Validated causes:  []\n",
      "\n",
      " Analysis started for target:  S7\n",
      "INFO: Initializing learning rate scheduler\n",
      "INFO: Initializing early stopping\n",
      "Epoch:  1 [0%] \tLoss: 0.565037\n",
      "Epoch   273: reducing learning rate of group 0 to 1.0000e-03.\n",
      "Epoch: 1000 [20%] \tLoss: 0.088074\n",
      "Epoch: 2000 [40%] \tLoss: 0.085024\n",
      "Epoch  2126: reducing learning rate of group 0 to 1.0000e-04.\n",
      "Epoch  2138: reducing learning rate of group 0 to 1.0000e-05.\n",
      "Epoch  2149: reducing learning rate of group 0 to 1.0000e-06.\n",
      "INFO: Early stopping\n",
      "Potential causes:  [2, 0, 6, 18]\n",
      "Validated causes:  []\n",
      "\n",
      " Analysis started for target:  S8\n",
      "INFO: Initializing learning rate scheduler\n",
      "INFO: Initializing early stopping\n",
      "Epoch:  1 [0%] \tLoss: 0.595640\n",
      "Epoch   326: reducing learning rate of group 0 to 1.0000e-03.\n",
      "Epoch: 1000 [20%] \tLoss: 0.088227\n",
      "Epoch: 2000 [40%] \tLoss: 0.082323\n",
      "Epoch  2377: reducing learning rate of group 0 to 1.0000e-04.\n",
      "Epoch  2391: reducing learning rate of group 0 to 1.0000e-05.\n",
      "Epoch  2402: reducing learning rate of group 0 to 1.0000e-06.\n",
      "INFO: Early stopping\n",
      "Potential causes:  [18, 16]\n",
      "Validated causes:  [16]\n",
      "\n",
      " Analysis started for target:  S9\n",
      "INFO: Initializing learning rate scheduler\n",
      "INFO: Initializing early stopping\n",
      "Epoch:  1 [0%] \tLoss: 0.841349\n",
      "Epoch   209: reducing learning rate of group 0 to 1.0000e-03.\n",
      "Epoch: 1000 [20%] \tLoss: 0.140777\n",
      "Epoch  1366: reducing learning rate of group 0 to 1.0000e-04.\n",
      "Epoch  1381: reducing learning rate of group 0 to 1.0000e-05.\n",
      "Epoch  1401: reducing learning rate of group 0 to 1.0000e-06.\n",
      "INFO: Early stopping\n",
      "Potential causes:  [19, 18, 10, 2]\n",
      "Validated causes:  [19, 10]\n",
      "\n",
      " Analysis started for target:  S10\n",
      "INFO: Initializing learning rate scheduler\n",
      "INFO: Initializing early stopping\n",
      "Epoch:  1 [0%] \tLoss: 1.082691\n",
      "Epoch   246: reducing learning rate of group 0 to 1.0000e-03.\n",
      "Epoch: 1000 [20%] \tLoss: 0.136228\n",
      "Epoch: 2000 [40%] \tLoss: 0.132319\n",
      "Epoch  2109: reducing learning rate of group 0 to 1.0000e-04.\n",
      "Epoch  2123: reducing learning rate of group 0 to 1.0000e-05.\n",
      "Epoch  2134: reducing learning rate of group 0 to 1.0000e-06.\n",
      "INFO: Early stopping\n",
      "Potential causes:  [6, 0]\n",
      "Validated causes:  []\n",
      "\n",
      " Analysis started for target:  S11\n",
      "INFO: Initializing learning rate scheduler\n",
      "INFO: Initializing early stopping\n",
      "Epoch:  1 [0%] \tLoss: 0.677595\n",
      "Epoch   243: reducing learning rate of group 0 to 1.0000e-03.\n",
      "Epoch: 1000 [20%] \tLoss: 0.087541\n",
      "Epoch: 2000 [40%] \tLoss: 0.083078\n",
      "Epoch  2114: reducing learning rate of group 0 to 1.0000e-04.\n",
      "Epoch  2129: reducing learning rate of group 0 to 1.0000e-05.\n",
      "Epoch  2140: reducing learning rate of group 0 to 1.0000e-06.\n",
      "INFO: Early stopping\n",
      "Potential causes:  [6, 18, 0, 10, 22]\n",
      "Validated causes:  []\n",
      "\n",
      " Analysis started for target:  S12\n",
      "INFO: Initializing learning rate scheduler\n",
      "INFO: Initializing early stopping\n",
      "Epoch:  1 [0%] \tLoss: 0.544162\n",
      "Epoch   213: reducing learning rate of group 0 to 1.0000e-03.\n",
      "Epoch: 1000 [20%] \tLoss: 0.092184\n",
      "Epoch  1757: reducing learning rate of group 0 to 1.0000e-04.\n",
      "Epoch  1771: reducing learning rate of group 0 to 1.0000e-05.\n",
      "Epoch  1782: reducing learning rate of group 0 to 1.0000e-06.\n",
      "Epoch: 2000 [40%] \tLoss: 0.089328\n",
      "INFO: Early stopping\n",
      "Potential causes:  [6, 18]\n",
      "Validated causes:  []\n",
      "\n",
      " Analysis started for target:  S13\n",
      "INFO: Initializing learning rate scheduler\n",
      "INFO: Initializing early stopping\n",
      "Epoch:  1 [0%] \tLoss: 0.670654\n",
      "Epoch   327: reducing learning rate of group 0 to 1.0000e-03.\n",
      "Epoch: 1000 [20%] \tLoss: 0.156264\n",
      "Epoch: 2000 [40%] \tLoss: 0.148503\n",
      "Epoch  2262: reducing learning rate of group 0 to 1.0000e-04.\n",
      "Epoch  2276: reducing learning rate of group 0 to 1.0000e-05.\n",
      "Epoch  2287: reducing learning rate of group 0 to 1.0000e-06.\n",
      "INFO: Early stopping\n",
      "Potential causes:  [2, 22, 8, 20]\n",
      "Validated causes:  [2]\n",
      "\n",
      " Analysis started for target:  S14\n",
      "INFO: Initializing learning rate scheduler\n",
      "INFO: Initializing early stopping\n",
      "Epoch:  1 [0%] \tLoss: 0.780782\n",
      "Epoch   267: reducing learning rate of group 0 to 1.0000e-03.\n",
      "Epoch: 1000 [20%] \tLoss: 0.172316\n",
      "Epoch  1620: reducing learning rate of group 0 to 1.0000e-04.\n",
      "Epoch  1645: reducing learning rate of group 0 to 1.0000e-05.\n",
      "Epoch  1656: reducing learning rate of group 0 to 1.0000e-06.\n"
     ]
    },
    {
     "name": "stdout",
     "output_type": "stream",
     "text": [
      "Epoch: 2000 [40%] \tLoss: 0.163943\n",
      "INFO: Early stopping\n",
      "Potential causes:  [2, 5, 16]\n",
      "Validated causes:  [5, 16]\n",
      "\n",
      " Analysis started for target:  S15\n",
      "INFO: Initializing learning rate scheduler\n",
      "INFO: Initializing early stopping\n",
      "Epoch:  1 [0%] \tLoss: 1.100129\n",
      "Epoch   285: reducing learning rate of group 0 to 1.0000e-03.\n",
      "Epoch: 1000 [20%] \tLoss: 0.138279\n",
      "Epoch  1595: reducing learning rate of group 0 to 1.0000e-04.\n",
      "Epoch  1615: reducing learning rate of group 0 to 1.0000e-05.\n",
      "Epoch  1626: reducing learning rate of group 0 to 1.0000e-06.\n",
      "Epoch: 2000 [40%] \tLoss: 0.131944\n",
      "INFO: Early stopping\n",
      "Potential causes:  [21, 16, 5, 10, 18, 1, 20, 14, 22, 0]\n",
      "Validated causes:  [16, 5]\n",
      "\n",
      " Analysis started for target:  S16\n",
      "INFO: Initializing learning rate scheduler\n",
      "INFO: Initializing early stopping\n",
      "Epoch:  1 [0%] \tLoss: 0.733847\n",
      "Epoch   245: reducing learning rate of group 0 to 1.0000e-03.\n",
      "Epoch: 1000 [20%] \tLoss: 0.115229\n",
      "Epoch: 2000 [40%] \tLoss: 0.112587\n",
      "Epoch  2418: reducing learning rate of group 0 to 1.0000e-04.\n",
      "Epoch  2438: reducing learning rate of group 0 to 1.0000e-05.\n",
      "Epoch  2449: reducing learning rate of group 0 to 1.0000e-06.\n",
      "INFO: Early stopping\n",
      "Potential causes:  [21, 6]\n",
      "Validated causes:  []\n",
      "\n",
      " Analysis started for target:  S17\n",
      "INFO: Initializing learning rate scheduler\n",
      "INFO: Initializing early stopping\n",
      "Epoch:  1 [0%] \tLoss: 0.936712\n",
      "Epoch   346: reducing learning rate of group 0 to 1.0000e-03.\n",
      "Epoch: 1000 [20%] \tLoss: 0.151982\n",
      "Epoch: 2000 [40%] \tLoss: 0.140293\n",
      "Epoch  2089: reducing learning rate of group 0 to 1.0000e-04.\n",
      "Epoch  2103: reducing learning rate of group 0 to 1.0000e-05.\n",
      "Epoch  2114: reducing learning rate of group 0 to 1.0000e-06.\n",
      "INFO: Early stopping\n",
      "Potential causes:  [0, 2]\n",
      "Validated causes:  [0, 2]\n",
      "\n",
      " Analysis started for target:  S18\n",
      "INFO: Initializing learning rate scheduler\n",
      "INFO: Initializing early stopping\n",
      "Epoch:  1 [0%] \tLoss: 0.726133\n",
      "Epoch   400: reducing learning rate of group 0 to 1.0000e-03.\n",
      "Epoch: 1000 [20%] \tLoss: 0.121824\n",
      "Epoch: 2000 [40%] \tLoss: 0.118525\n",
      "Epoch  2289: reducing learning rate of group 0 to 1.0000e-04.\n",
      "Epoch  2314: reducing learning rate of group 0 to 1.0000e-05.\n",
      "Epoch  2325: reducing learning rate of group 0 to 1.0000e-06.\n",
      "INFO: Early stopping\n",
      "Potential causes:  [2, 7]\n",
      "Validated causes:  [7]\n",
      "\n",
      " Analysis started for target:  S19\n",
      "INFO: Initializing learning rate scheduler\n",
      "INFO: Initializing early stopping\n",
      "Epoch:  1 [0%] \tLoss: 0.983127\n",
      "Epoch   341: reducing learning rate of group 0 to 1.0000e-03.\n",
      "Epoch: 1000 [20%] \tLoss: 0.220152\n",
      "Epoch: 2000 [40%] \tLoss: 0.215806\n",
      "Epoch  2120: reducing learning rate of group 0 to 1.0000e-04.\n",
      "Epoch  2134: reducing learning rate of group 0 to 1.0000e-05.\n",
      "Epoch  2145: reducing learning rate of group 0 to 1.0000e-06.\n",
      "INFO: Early stopping\n",
      "Potential causes:  [10, 18]\n",
      "Validated causes:  [10]\n",
      "\n",
      " Analysis started for target:  S20\n",
      "INFO: Initializing learning rate scheduler\n",
      "INFO: Initializing early stopping\n",
      "Epoch:  1 [0%] \tLoss: 1.451898\n",
      "Epoch   352: reducing learning rate of group 0 to 1.0000e-03.\n",
      "Epoch: 1000 [20%] \tLoss: 0.172080\n",
      "Epoch  1846: reducing learning rate of group 0 to 1.0000e-04.\n",
      "Epoch  1866: reducing learning rate of group 0 to 1.0000e-05.\n",
      "Epoch  1885: reducing learning rate of group 0 to 1.0000e-06.\n",
      "Epoch: 2000 [40%] \tLoss: 0.145809\n",
      "INFO: Early stopping\n",
      "Potential causes:  [0, 14, 17, 18, 4, 22, 1, 2, 10]\n",
      "Validated causes:  [14, 1]\n",
      "\n",
      " Analysis started for target:  S21\n",
      "INFO: Initializing learning rate scheduler\n",
      "INFO: Initializing early stopping\n",
      "Epoch:  1 [0%] \tLoss: 0.984919\n",
      "Epoch   288: reducing learning rate of group 0 to 1.0000e-03.\n",
      "Epoch: 1000 [20%] \tLoss: 0.122939\n",
      "Epoch  1659: reducing learning rate of group 0 to 1.0000e-04.\n",
      "Epoch  1684: reducing learning rate of group 0 to 1.0000e-05.\n",
      "Epoch  1695: reducing learning rate of group 0 to 1.0000e-06.\n",
      "Epoch: 2000 [40%] \tLoss: 0.118111\n",
      "INFO: Early stopping\n",
      "Potential causes:  [22, 18, 2, 14]\n",
      "Validated causes:  []\n",
      "\n",
      " Analysis started for target:  S22\n",
      "INFO: Initializing learning rate scheduler\n",
      "INFO: Initializing early stopping\n",
      "Epoch:  1 [0%] \tLoss: 1.027673\n",
      "Epoch   260: reducing learning rate of group 0 to 1.0000e-03.\n",
      "Epoch: 1000 [20%] \tLoss: 0.195895\n",
      "Epoch  1917: reducing learning rate of group 0 to 1.0000e-04.\n",
      "Epoch  1931: reducing learning rate of group 0 to 1.0000e-05.\n",
      "Epoch  1942: reducing learning rate of group 0 to 1.0000e-06.\n",
      "Epoch: 2000 [40%] \tLoss: 0.189795\n",
      "INFO: Early stopping\n",
      "Potential causes:  [21, 14, 22, 18]\n",
      "Validated causes:  [21, 22]\n",
      "\n",
      " Analysis started for target:  S23\n",
      "INFO: Initializing learning rate scheduler\n",
      "INFO: Initializing early stopping\n",
      "Epoch:  1 [0%] \tLoss: 0.920316\n",
      "Epoch   267: reducing learning rate of group 0 to 1.0000e-03.\n",
      "Epoch: 1000 [20%] \tLoss: 0.156122\n",
      "Epoch  1911: reducing learning rate of group 0 to 1.0000e-04.\n",
      "Epoch  1926: reducing learning rate of group 0 to 1.0000e-05.\n",
      "Epoch  1937: reducing learning rate of group 0 to 1.0000e-06.\n",
      "Epoch: 2000 [40%] \tLoss: 0.149324\n",
      "INFO: Early stopping\n",
      "Potential causes:  [2, 17, 18, 0, 22, 21]\n",
      "Validated causes:  [2]\n",
      "\n",
      " Analysis started for target:  S24\n",
      "INFO: Initializing learning rate scheduler\n",
      "INFO: Initializing early stopping\n",
      "Epoch:  1 [0%] \tLoss: 1.059441\n",
      "Epoch   292: reducing learning rate of group 0 to 1.0000e-03.\n",
      "Epoch: 1000 [20%] \tLoss: 0.266477\n",
      "Epoch  1996: reducing learning rate of group 0 to 1.0000e-04.\n",
      "Epoch: 2000 [40%] \tLoss: 0.257066\n",
      "Epoch  2010: reducing learning rate of group 0 to 1.0000e-05.\n",
      "Epoch  2021: reducing learning rate of group 0 to 1.0000e-06.\n",
      "INFO: Early stopping\n",
      "Potential causes:  [21, 18]\n",
      "Validated causes:  []\n",
      "\n",
      "===================Results for random-rels_20_1A_returns30007000_header.csv ==================================\n",
      "S11 causes S1 with a delay of 1 time steps.\n",
      "S2 causes S2 with a delay of 1 time steps.\n",
      "S7 causes S2 with a delay of 1 time steps.\n",
      "S18 causes S3 with a delay of 1 time steps.\n",
      "S9 causes S4 with a delay of 1 time steps.\n",
      "S16 causes S5 with a delay of 1 time steps.\n",
      "S16 causes S8 with a delay of 1 time steps.\n",
      "S19 causes S9 with a delay of 1 time steps.\n",
      "S10 causes S9 with a delay of 2 time steps.\n",
      "S2 causes S13 with a delay of 2 time steps.\n",
      "S5 causes S14 with a delay of 1 time steps.\n",
      "S16 causes S14 with a delay of 2 time steps.\n",
      "S16 causes S15 with a delay of 2 time steps.\n",
      "S5 causes S15 with a delay of 1 time steps.\n",
      "S0 causes S17 with a delay of 1 time steps.\n",
      "S2 causes S17 with a delay of 1 time steps.\n",
      "S7 causes S18 with a delay of 1 time steps.\n",
      "S10 causes S19 with a delay of 1 time steps.\n",
      "S14 causes S20 with a delay of 1 time steps.\n",
      "S1 causes S20 with a delay of 1 time steps.\n",
      "S21 causes S22 with a delay of 0 time steps.\n",
      "S22 causes S22 with a delay of 1 time steps.\n",
      "S2 causes S23 with a delay of 1 time steps.\n",
      "\n",
      "===================Evaluation for random-rels_20_1A_returns30007000_header.csv ===============================\n",
      "Total False Positives':  2\n",
      "Total True Positives':  21\n",
      "Total False Negatives:  3\n",
      "Total Direct False Positives:  6\n",
      "Total Direct True Positives:  17\n",
      "TPs':  [(1, 11), (2, 2), (2, 7), (3, 18), (4, 9), (5, 16), (8, 16), (9, 19), (9, 10), (13, 2), (14, 5), (14, 16), (15, 16), (15, 5), (17, 0), (18, 7), (19, 10), (20, 14), (20, 1), (22, 22), (23, 2)]\n",
      "FPs':  [(17, 2), (22, 21)]\n",
      "TPs direct:  [(1, 11), (2, 2), (2, 7), (3, 18), (4, 9), (5, 16), (8, 16), (9, 19), (14, 5), (15, 5), (17, 0), (18, 7), (19, 10), (20, 14), (20, 1), (22, 22), (23, 2)]\n",
      "FPs direct:  [(9, 10), (13, 2), (14, 16), (15, 16), (17, 2), (22, 21)]\n",
      "FNs:  [(1, 7), (13, 23), (17, 1)]\n",
      "Precision':  0.9130434782608695\n",
      "Recall':  0.875\n",
      "F1' score:  0.8936170212765957 (includes direct and indirect causal relationships)\n",
      "Precision:  0.7391304347826086\n",
      "Recall:  0.85\n",
      "F1 score:  0.7906976744186046 (includes only direct causal relationships)\n",
      "Percentage of delays that are correctly discovered:  100.0 %\n",
      "==================================================================================\n"
     ]
    }
   ],
   "source": [
    "%matplotlib inline\n",
    "\n",
    "# Run TCDF with a provided dataset of Finance (see https://github.com/M-Nauta/TCDF)\n",
    "\n",
    "%run -i \"runTCDF.py\"  --ground_truth data/random-rels_20_1A_returns30007000_header.csv=data/random-rels_20_1A.csv --learning_rate 0.01 --hidden_layers 1 --epochs 5000 --log_interval 1000 --significance 0.8 --dilation_coefficient 4 --kernel_size 4 --seed 13076"
   ]
  },
  {
   "cell_type": "code",
   "execution_count": null,
   "metadata": {
    "scrolled": true
   },
   "outputs": [
    {
     "name": "stdout",
     "output_type": "stream",
     "text": [
      "Arguments: Namespace(cuda=False, data=['data/random-rels_20_1A_returns30007000_header.csv'], dilation_coefficient=4, early_stopping=True, epochs=2000, hidden_layers=1, kernel_size=4, learning_rate=0.01, log_interval=1000, lr_scheduler=True, optimizer='Adam', plot=True, seed=13076, train_test_split=0.8)\n",
      "\n",
      " Analysis started for target:  S0\n",
      "INFO: Initializing learning rate scheduler\n",
      "INFO: Initializing early stopping\n",
      "Epoch:  1 [0%] \tLoss: 1.067259\n",
      "Epoch   358: reducing learning rate of group 0 to 1.0000e-03.\n",
      "Epoch   378: reducing learning rate of group 0 to 1.0000e-04.\n",
      "Epoch   401: reducing learning rate of group 0 to 1.0000e-05.\n",
      "Epoch   412: reducing learning rate of group 0 to 1.0000e-06.\n",
      "INFO: Early stopping\n",
      "\n",
      " Analysis started for target:  S1\n",
      "INFO: Initializing learning rate scheduler\n",
      "INFO: Initializing early stopping\n",
      "Epoch:  1 [0%] \tLoss: 0.924162\n",
      "Epoch   238: reducing learning rate of group 0 to 1.0000e-03.\n",
      "Epoch: 1000 [50%] \tLoss: 0.154090\n",
      "Epoch: 2000 [100%] \tLoss: 0.137314\n",
      "\n",
      " Analysis started for target:  S2\n",
      "INFO: Initializing learning rate scheduler\n",
      "INFO: Initializing early stopping\n",
      "Epoch:  1 [0%] \tLoss: 0.764270\n",
      "Epoch   340: reducing learning rate of group 0 to 1.0000e-03.\n",
      "Epoch: 1000 [50%] \tLoss: 0.128012\n",
      "Epoch  1767: reducing learning rate of group 0 to 1.0000e-04.\n",
      "Epoch  1782: reducing learning rate of group 0 to 1.0000e-05.\n",
      "Epoch  1804: reducing learning rate of group 0 to 1.0000e-06.\n",
      "Epoch: 2000 [100%] \tLoss: 0.117676\n",
      "\n",
      " Analysis started for target:  S3\n",
      "INFO: Initializing learning rate scheduler\n",
      "INFO: Initializing early stopping\n",
      "Epoch:  1 [0%] \tLoss: 0.558067\n",
      "Epoch   302: reducing learning rate of group 0 to 1.0000e-03.\n",
      "Epoch: 1000 [50%] \tLoss: 0.111570\n",
      "Epoch: 2000 [100%] \tLoss: 0.106581\n",
      "\n",
      " Analysis started for target:  S4\n",
      "INFO: Initializing learning rate scheduler\n",
      "INFO: Initializing early stopping\n",
      "Epoch:  1 [0%] \tLoss: 0.579859\n",
      "Epoch   506: reducing learning rate of group 0 to 1.0000e-03.\n",
      "Epoch: 1000 [50%] \tLoss: 0.102436\n",
      "Epoch: 2000 [100%] \tLoss: 0.096461\n",
      "\n",
      " Analysis started for target:  S5\n",
      "INFO: Initializing learning rate scheduler\n",
      "INFO: Initializing early stopping\n",
      "Epoch:  1 [0%] \tLoss: 1.300941\n",
      "Epoch   419: reducing learning rate of group 0 to 1.0000e-03.\n",
      "Epoch   444: reducing learning rate of group 0 to 1.0000e-04.\n",
      "Epoch   455: reducing learning rate of group 0 to 1.0000e-05.\n",
      "Epoch   467: reducing learning rate of group 0 to 1.0000e-06.\n",
      "INFO: Early stopping\n",
      "\n",
      " Analysis started for target:  S6\n",
      "INFO: Initializing learning rate scheduler\n",
      "INFO: Initializing early stopping\n",
      "Epoch:  1 [0%] \tLoss: 0.770249\n",
      "Epoch   278: reducing learning rate of group 0 to 1.0000e-03.\n",
      "Epoch: 1000 [50%] \tLoss: 0.098081\n",
      "Epoch: 2000 [100%] \tLoss: 0.095680\n",
      "\n",
      " Analysis started for target:  S7\n",
      "INFO: Initializing learning rate scheduler\n",
      "INFO: Initializing early stopping\n",
      "Epoch:  1 [0%] \tLoss: 0.605440\n",
      "Epoch   265: reducing learning rate of group 0 to 1.0000e-03.\n",
      "Epoch: 1000 [50%] \tLoss: 0.087678\n",
      "Epoch  1896: reducing learning rate of group 0 to 1.0000e-04.\n",
      "Epoch  1916: reducing learning rate of group 0 to 1.0000e-05.\n",
      "Epoch  1927: reducing learning rate of group 0 to 1.0000e-06.\n",
      "Epoch: 2000 [100%] \tLoss: 0.083342\n",
      "\n",
      " Analysis started for target:  S8\n",
      "INFO: Initializing learning rate scheduler\n",
      "INFO: Initializing early stopping\n",
      "Epoch:  1 [0%] \tLoss: 0.633236\n",
      "Epoch   268: reducing learning rate of group 0 to 1.0000e-03.\n",
      "Epoch: 1000 [50%] \tLoss: 0.088336\n",
      "Epoch: 2000 [100%] \tLoss: 0.082755\n",
      "\n",
      " Analysis started for target:  S9\n",
      "INFO: Initializing learning rate scheduler\n",
      "INFO: Initializing early stopping\n",
      "Epoch:  1 [0%] \tLoss: 0.870134\n",
      "Epoch   433: reducing learning rate of group 0 to 1.0000e-03.\n",
      "Epoch: 1000 [50%] \tLoss: 0.137309\n",
      "Epoch: 2000 [100%] \tLoss: 0.127452\n",
      "\n",
      " Analysis started for target:  S10\n",
      "INFO: Initializing learning rate scheduler\n",
      "INFO: Initializing early stopping\n",
      "Epoch:  1 [0%] \tLoss: 1.145431\n",
      "Epoch   274: reducing learning rate of group 0 to 1.0000e-03.\n",
      "Epoch: 1000 [50%] \tLoss: 0.137346\n",
      "Epoch: 2000 [100%] \tLoss: 0.134009\n",
      "\n",
      " Analysis started for target:  S11\n",
      "INFO: Initializing learning rate scheduler\n",
      "INFO: Initializing early stopping\n",
      "Epoch:  1 [0%] \tLoss: 0.717141\n",
      "Epoch   395: reducing learning rate of group 0 to 1.0000e-03.\n",
      "Epoch   415: reducing learning rate of group 0 to 1.0000e-04.\n",
      "Epoch   436: reducing learning rate of group 0 to 1.0000e-05.\n",
      "Epoch   447: reducing learning rate of group 0 to 1.0000e-06.\n",
      "INFO: Early stopping\n",
      "\n",
      " Analysis started for target:  S12\n",
      "INFO: Initializing learning rate scheduler\n",
      "INFO: Initializing early stopping\n",
      "Epoch:  1 [0%] \tLoss: 0.581847\n",
      "Epoch   230: reducing learning rate of group 0 to 1.0000e-03.\n",
      "Epoch: 1000 [50%] \tLoss: 0.091750\n",
      "Epoch: 2000 [100%] \tLoss: 0.088330\n",
      "\n",
      " Analysis started for target:  S13\n",
      "INFO: Initializing learning rate scheduler\n",
      "INFO: Initializing early stopping\n",
      "Epoch:  1 [0%] \tLoss: 0.705669\n",
      "Epoch   371: reducing learning rate of group 0 to 1.0000e-03.\n",
      "Epoch: 1000 [50%] \tLoss: 0.155430\n",
      "Epoch: 2000 [100%] \tLoss: 0.149794\n",
      "\n",
      " Analysis started for target:  S14\n",
      "INFO: Initializing learning rate scheduler\n",
      "INFO: Initializing early stopping\n",
      "Epoch:  1 [0%] \tLoss: 0.835562\n",
      "Epoch   440: reducing learning rate of group 0 to 1.0000e-03.\n",
      "Epoch   451: reducing learning rate of group 0 to 1.0000e-04.\n",
      "Epoch   474: reducing learning rate of group 0 to 1.0000e-05.\n",
      "Epoch   485: reducing learning rate of group 0 to 1.0000e-06.\n",
      "Epoch: 1000 [50%] \tLoss: 0.174928\n",
      "INFO: Early stopping\n",
      "\n",
      " Analysis started for target:  S15\n",
      "INFO: Initializing learning rate scheduler\n",
      "INFO: Initializing early stopping\n",
      "Epoch:  1 [0%] \tLoss: 1.152983\n",
      "Epoch   444: reducing learning rate of group 0 to 1.0000e-03.\n",
      "Epoch: 1000 [50%] \tLoss: 0.133217\n",
      "Epoch: 2000 [100%] \tLoss: 0.129643\n",
      "\n",
      " Analysis started for target:  S16\n",
      "INFO: Initializing learning rate scheduler\n",
      "INFO: Initializing early stopping\n",
      "Epoch:  1 [0%] \tLoss: 0.771062\n",
      "Epoch   199: reducing learning rate of group 0 to 1.0000e-03.\n",
      "Epoch: 1000 [50%] \tLoss: 0.117769\n",
      "Epoch  1775: reducing learning rate of group 0 to 1.0000e-04.\n",
      "Epoch  1789: reducing learning rate of group 0 to 1.0000e-05.\n",
      "Epoch  1800: reducing learning rate of group 0 to 1.0000e-06.\n",
      "Epoch: 2000 [100%] \tLoss: 0.114393\n",
      "\n",
      " Analysis started for target:  S17\n",
      "INFO: Initializing learning rate scheduler\n",
      "INFO: Initializing early stopping\n",
      "Epoch:  1 [0%] \tLoss: 0.963802\n",
      "Epoch   257: reducing learning rate of group 0 to 1.0000e-03.\n",
      "Epoch: 1000 [50%] \tLoss: 0.168031\n",
      "Epoch  1836: reducing learning rate of group 0 to 1.0000e-04.\n",
      "Epoch  1860: reducing learning rate of group 0 to 1.0000e-05.\n",
      "Epoch  1871: reducing learning rate of group 0 to 1.0000e-06.\n",
      "Epoch: 2000 [100%] \tLoss: 0.141880\n",
      "\n",
      " Analysis started for target:  S18\n",
      "INFO: Initializing learning rate scheduler\n",
      "INFO: Initializing early stopping\n",
      "Epoch:  1 [0%] \tLoss: 0.757727\n",
      "Epoch   429: reducing learning rate of group 0 to 1.0000e-03.\n",
      "Epoch   449: reducing learning rate of group 0 to 1.0000e-04.\n",
      "Epoch   471: reducing learning rate of group 0 to 1.0000e-05.\n",
      "Epoch   482: reducing learning rate of group 0 to 1.0000e-06.\n",
      "INFO: Early stopping\n",
      "\n",
      " Analysis started for target:  S19\n",
      "INFO: Initializing learning rate scheduler\n",
      "INFO: Initializing early stopping\n",
      "Epoch:  1 [0%] \tLoss: 1.010699\n",
      "Epoch   344: reducing learning rate of group 0 to 1.0000e-03.\n",
      "Epoch: 1000 [50%] \tLoss: 0.215616\n",
      "Epoch  1597: reducing learning rate of group 0 to 1.0000e-04.\n",
      "Epoch  1611: reducing learning rate of group 0 to 1.0000e-05.\n",
      "Epoch  1622: reducing learning rate of group 0 to 1.0000e-06.\n",
      "INFO: Early stopping\n",
      "\n",
      " Analysis started for target:  S20\n",
      "INFO: Initializing learning rate scheduler\n",
      "INFO: Initializing early stopping\n",
      "Epoch:  1 [0%] \tLoss: 1.501281\n",
      "Epoch   325: reducing learning rate of group 0 to 1.0000e-03.\n",
      "Epoch: 1000 [50%] \tLoss: 0.182930\n",
      "Epoch  1727: reducing learning rate of group 0 to 1.0000e-04.\n",
      "Epoch  1752: reducing learning rate of group 0 to 1.0000e-05.\n",
      "Epoch  1773: reducing learning rate of group 0 to 1.0000e-06.\n",
      "Epoch: 2000 [100%] \tLoss: 0.149854\n",
      "\n",
      " Analysis started for target:  S21\n",
      "INFO: Initializing learning rate scheduler\n",
      "INFO: Initializing early stopping\n",
      "Epoch:  1 [0%] \tLoss: 1.015588\n",
      "Epoch   446: reducing learning rate of group 0 to 1.0000e-03.\n",
      "Epoch   457: reducing learning rate of group 0 to 1.0000e-04.\n",
      "Epoch   597: reducing learning rate of group 0 to 1.0000e-05.\n"
     ]
    },
    {
     "name": "stdout",
     "output_type": "stream",
     "text": [
      "Epoch   609: reducing learning rate of group 0 to 1.0000e-06.\n",
      "Epoch: 1000 [50%] \tLoss: 0.123874\n",
      "INFO: Early stopping\n",
      "\n",
      " Analysis started for target:  S22\n",
      "INFO: Initializing learning rate scheduler\n",
      "INFO: Initializing early stopping\n",
      "Epoch:  1 [0%] \tLoss: 1.061600\n",
      "Epoch   214: reducing learning rate of group 0 to 1.0000e-03.\n",
      "Epoch: 1000 [50%] \tLoss: 0.193901\n",
      "Epoch  1770: reducing learning rate of group 0 to 1.0000e-04.\n",
      "Epoch  1785: reducing learning rate of group 0 to 1.0000e-05.\n",
      "Epoch  1796: reducing learning rate of group 0 to 1.0000e-06.\n",
      "Epoch: 2000 [100%] \tLoss: 0.188384\n",
      "\n",
      " Analysis started for target:  S23\n",
      "INFO: Initializing learning rate scheduler\n",
      "INFO: Initializing early stopping\n",
      "Epoch:  1 [0%] \tLoss: 0.943878\n",
      "Epoch   268: reducing learning rate of group 0 to 1.0000e-03.\n",
      "Epoch: 1000 [50%] \tLoss: 0.154957\n",
      "Epoch  1785: reducing learning rate of group 0 to 1.0000e-04.\n",
      "Epoch  1805: reducing learning rate of group 0 to 1.0000e-05.\n",
      "Epoch  1816: reducing learning rate of group 0 to 1.0000e-06.\n",
      "Epoch: 2000 [100%] \tLoss: 0.147833\n",
      "\n",
      " Analysis started for target:  S24\n",
      "INFO: Initializing learning rate scheduler\n",
      "INFO: Initializing early stopping\n",
      "Epoch:  1 [0%] \tLoss: 1.087903\n",
      "Epoch   316: reducing learning rate of group 0 to 1.0000e-03.\n",
      "Epoch: 1000 [50%] \tLoss: 0.260761\n",
      "Epoch: 2000 [100%] \tLoss: 0.249750\n",
      "\n",
      "Mean Absolute Scaled Error (MASE) averaged over all time series in data/random-rels_20_1A_returns30007000_header.csv : 0.3805660432860368 with standard deviation 0.04681641467634542\n"
     ]
    }
   ],
   "source": [
    "# Run TCDF for predictive accuracy\n",
    "\n",
    "%run -i \"evaluate_predictions_TCDF.py\" --data data/random-rels_20_1A_returns30007000_header.csv --learning_rate 0.01 --hidden_layers 1 --epochs 2000 --log_interval 1000 --dilation_coefficient 4 --kernel_size 4 --seed 13076 --train_test_split 0.8"
   ]
  },
  {
   "cell_type": "code",
   "execution_count": 3,
   "metadata": {
    "scrolled": true
   },
   "outputs": [
    {
     "name": "stdout",
     "output_type": "stream",
     "text": [
      "Arguments: Namespace(cuda=False, data=None, dilation_coefficient=4, early_stopping=True, epochs=5000, ground_truth={'data/random-rels_20_1A_returns30007000_header.csv': 'data/random-rels_20_1A.csv'}, hidden_layers=1, kernel_size=4, learning_rate=0.01, log_interval=1000, lr_scheduler=True, optimizer='Adam', plot=False, seed=12356, significance=0.8)\n",
      "\n",
      " Dataset:  random-rels_20_1A_returns30007000_header.csv\n",
      "\n",
      " Analysis started for target:  S0\n",
      "INFO: Initializing learning rate scheduler\n",
      "INFO: Initializing early stopping\n",
      "Epoch:  1 [0%] \tLoss: 0.993832\n",
      "Epoch   439: reducing learning rate of group 0 to 1.0000e-03.\n",
      "Epoch   454: reducing learning rate of group 0 to 1.0000e-04.\n",
      "Epoch   476: reducing learning rate of group 0 to 1.0000e-05.\n",
      "Epoch   487: reducing learning rate of group 0 to 1.0000e-06.\n",
      "INFO: Early stopping\n",
      "Potential causes:  [5, 10]\n",
      "Validated causes:  []\n",
      "\n",
      " Analysis started for target:  S1\n",
      "INFO: Initializing learning rate scheduler\n",
      "INFO: Initializing early stopping\n",
      "Epoch:  1 [0%] \tLoss: 0.860603\n",
      "Epoch   273: reducing learning rate of group 0 to 1.0000e-03.\n",
      "Epoch: 1000 [20%] \tLoss: 0.149743\n",
      "Epoch  1912: reducing learning rate of group 0 to 1.0000e-04.\n",
      "Epoch  1937: reducing learning rate of group 0 to 1.0000e-05.\n",
      "Epoch  1948: reducing learning rate of group 0 to 1.0000e-06.\n",
      "Epoch: 2000 [40%] \tLoss: 0.139770\n",
      "INFO: Early stopping\n",
      "Potential causes:  [11, 5]\n",
      "Validated causes:  [11]\n",
      "\n",
      " Analysis started for target:  S2\n",
      "INFO: Initializing learning rate scheduler\n",
      "INFO: Initializing early stopping\n",
      "Epoch:  1 [0%] \tLoss: 0.718915\n",
      "Epoch   324: reducing learning rate of group 0 to 1.0000e-03.\n",
      "Epoch: 1000 [20%] \tLoss: 0.136465\n",
      "Epoch: 2000 [40%] \tLoss: 0.119972\n",
      "Epoch  2202: reducing learning rate of group 0 to 1.0000e-04.\n",
      "Epoch  2217: reducing learning rate of group 0 to 1.0000e-05.\n",
      "Epoch  2238: reducing learning rate of group 0 to 1.0000e-06.\n",
      "INFO: Early stopping\n",
      "Potential causes:  [3, 7, 2, 22, 5, 1, 15, 17, 9, 11]\n",
      "Validated causes:  [7, 2, 1]\n",
      "\n",
      " Analysis started for target:  S3\n",
      "INFO: Initializing learning rate scheduler\n",
      "INFO: Initializing early stopping\n",
      "Epoch:  1 [0%] \tLoss: 0.527811\n",
      "Epoch   647: reducing learning rate of group 0 to 1.0000e-03.\n",
      "Epoch   658: reducing learning rate of group 0 to 1.0000e-04.\n",
      "Epoch   669: reducing learning rate of group 0 to 1.0000e-05.\n",
      "Epoch   680: reducing learning rate of group 0 to 1.0000e-06.\n",
      "INFO: Early stopping\n",
      "Potential causes:  [7, 19, 18, 9]\n",
      "Validated causes:  [7, 19, 18]\n",
      "\n",
      " Analysis started for target:  S4\n",
      "INFO: Initializing learning rate scheduler\n",
      "INFO: Initializing early stopping\n",
      "Epoch:  1 [0%] \tLoss: 0.547018\n",
      "Epoch   394: reducing learning rate of group 0 to 1.0000e-03.\n",
      "Epoch: 1000 [20%] \tLoss: 0.101310\n",
      "Epoch: 2000 [40%] \tLoss: 0.092691\n",
      "Epoch  2314: reducing learning rate of group 0 to 1.0000e-04.\n",
      "Epoch  2334: reducing learning rate of group 0 to 1.0000e-05.\n",
      "Epoch  2345: reducing learning rate of group 0 to 1.0000e-06.\n",
      "INFO: Early stopping\n",
      "Potential causes:  [19, 9, 10]\n",
      "Validated causes:  [19, 9, 10]\n",
      "\n",
      " Analysis started for target:  S5\n",
      "INFO: Initializing learning rate scheduler\n",
      "INFO: Initializing early stopping\n",
      "Epoch:  1 [0%] \tLoss: 1.209742\n",
      "Epoch   443: reducing learning rate of group 0 to 1.0000e-03.\n",
      "Epoch: 1000 [20%] \tLoss: 0.130760\n",
      "Epoch: 2000 [40%] \tLoss: 0.124873\n",
      "Epoch  2841: reducing learning rate of group 0 to 1.0000e-04.\n",
      "Epoch  2860: reducing learning rate of group 0 to 1.0000e-05.\n",
      "Epoch  2871: reducing learning rate of group 0 to 1.0000e-06.\n",
      "Epoch: 3000 [60%] \tLoss: 0.122512\n",
      "INFO: Early stopping\n",
      "Potential causes:  [16, 7]\n",
      "Validated causes:  [16]\n",
      "\n",
      " Analysis started for target:  S6\n",
      "INFO: Initializing learning rate scheduler\n",
      "INFO: Initializing early stopping\n",
      "Epoch:  1 [0%] \tLoss: 0.714418\n",
      "Epoch   545: reducing learning rate of group 0 to 1.0000e-03.\n",
      "Epoch: 1000 [20%] \tLoss: 0.097405\n",
      "Epoch  1786: reducing learning rate of group 0 to 1.0000e-04.\n",
      "Epoch  1798: reducing learning rate of group 0 to 1.0000e-05.\n",
      "Epoch  1809: reducing learning rate of group 0 to 1.0000e-06.\n",
      "Epoch: 2000 [40%] \tLoss: 0.095923\n",
      "INFO: Early stopping\n",
      "Potential causes:  [5, 14, 11, 9, 3, 10, 15]\n",
      "Validated causes:  []\n",
      "\n",
      " Analysis started for target:  S7\n",
      "INFO: Initializing learning rate scheduler\n",
      "INFO: Initializing early stopping\n",
      "Epoch:  1 [0%] \tLoss: 0.563169\n",
      "Epoch   365: reducing learning rate of group 0 to 1.0000e-03.\n",
      "Epoch   385: reducing learning rate of group 0 to 1.0000e-04.\n",
      "Epoch   396: reducing learning rate of group 0 to 1.0000e-05.\n",
      "Epoch   408: reducing learning rate of group 0 to 1.0000e-06.\n",
      "INFO: Early stopping\n",
      "Potential causes:  [5, 9, 11]\n",
      "Validated causes:  []\n",
      "\n",
      " Analysis started for target:  S8\n",
      "INFO: Initializing learning rate scheduler\n",
      "INFO: Initializing early stopping\n",
      "Epoch:  1 [0%] \tLoss: 0.593756\n",
      "Epoch   262: reducing learning rate of group 0 to 1.0000e-03.\n",
      "Epoch: 1000 [20%] \tLoss: 0.089096\n",
      "Epoch: 2000 [40%] \tLoss: 0.083774\n",
      "Epoch  2219: reducing learning rate of group 0 to 1.0000e-04.\n",
      "Epoch  2239: reducing learning rate of group 0 to 1.0000e-05.\n",
      "Epoch  2250: reducing learning rate of group 0 to 1.0000e-06.\n",
      "INFO: Early stopping\n",
      "Potential causes:  [16, 5, 9, 19, 15, 20]\n",
      "Validated causes:  [16]\n",
      "\n",
      " Analysis started for target:  S9\n",
      "INFO: Initializing learning rate scheduler\n",
      "INFO: Initializing early stopping\n",
      "Epoch:  1 [0%] \tLoss: 0.840063\n",
      "Epoch   345: reducing learning rate of group 0 to 1.0000e-03.\n",
      "Epoch: 1000 [20%] \tLoss: 0.140188\n",
      "Epoch: 2000 [40%] \tLoss: 0.128533\n",
      "Epoch  2127: reducing learning rate of group 0 to 1.0000e-04.\n",
      "Epoch  2152: reducing learning rate of group 0 to 1.0000e-05.\n",
      "Epoch  2163: reducing learning rate of group 0 to 1.0000e-06.\n",
      "INFO: Early stopping\n",
      "Potential causes:  [10, 19]\n",
      "Validated causes:  [10, 19]\n",
      "\n",
      " Analysis started for target:  S10\n",
      "INFO: Initializing learning rate scheduler\n",
      "INFO: Initializing early stopping\n",
      "Epoch:  1 [0%] \tLoss: 1.078188\n",
      "Epoch   408: reducing learning rate of group 0 to 1.0000e-03.\n",
      "Epoch: 1000 [20%] \tLoss: 0.137249\n",
      "Epoch: 2000 [40%] \tLoss: 0.133962\n",
      "Epoch  2446: reducing learning rate of group 0 to 1.0000e-04.\n",
      "Epoch  2458: reducing learning rate of group 0 to 1.0000e-05.\n",
      "Epoch  2469: reducing learning rate of group 0 to 1.0000e-06.\n",
      "INFO: Early stopping\n",
      "Potential causes:  [5, 20]\n",
      "Validated causes:  []\n",
      "\n",
      " Analysis started for target:  S11\n",
      "INFO: Initializing learning rate scheduler\n",
      "INFO: Initializing early stopping\n",
      "Epoch:  1 [0%] \tLoss: 0.674811\n",
      "Epoch   329: reducing learning rate of group 0 to 1.0000e-03.\n",
      "Epoch: 1000 [20%] \tLoss: 0.090304\n",
      "Epoch: 2000 [40%] \tLoss: 0.086143\n",
      "Epoch  2281: reducing learning rate of group 0 to 1.0000e-04.\n",
      "Epoch  2294: reducing learning rate of group 0 to 1.0000e-05.\n",
      "Epoch  2306: reducing learning rate of group 0 to 1.0000e-06.\n",
      "INFO: Early stopping\n",
      "Potential causes:  [5, 15, 10, 9, 8, 20, 6]\n",
      "Validated causes:  []\n",
      "\n",
      " Analysis started for target:  S12\n",
      "INFO: Initializing learning rate scheduler\n",
      "INFO: Initializing early stopping\n",
      "Epoch:  1 [0%] \tLoss: 0.541644\n",
      "Epoch   215: reducing learning rate of group 0 to 1.0000e-03.\n",
      "Epoch: 1000 [20%] \tLoss: 0.093200\n",
      "Epoch: 2000 [40%] \tLoss: 0.089015\n",
      "Epoch  2112: reducing learning rate of group 0 to 1.0000e-04.\n",
      "Epoch  2127: reducing learning rate of group 0 to 1.0000e-05.\n",
      "Epoch  2138: reducing learning rate of group 0 to 1.0000e-06.\n",
      "INFO: Early stopping\n",
      "Potential causes:  [5, 9, 15, 8]\n",
      "Validated causes:  []\n",
      "\n",
      " Analysis started for target:  S13\n",
      "INFO: Initializing learning rate scheduler\n",
      "INFO: Initializing early stopping\n",
      "Epoch:  1 [0%] \tLoss: 0.668640\n",
      "Epoch   403: reducing learning rate of group 0 to 1.0000e-03.\n",
      "Epoch: 1000 [20%] \tLoss: 0.152415\n",
      "Epoch: 2000 [40%] \tLoss: 0.142957\n",
      "Epoch  2088: reducing learning rate of group 0 to 1.0000e-04.\n",
      "Epoch  2108: reducing learning rate of group 0 to 1.0000e-05.\n",
      "Epoch  2119: reducing learning rate of group 0 to 1.0000e-06.\n",
      "INFO: Early stopping\n",
      "Potential causes:  [23, 9, 5, 19, 2]\n",
      "Validated causes:  [23, 2]\n",
      "\n",
      " Analysis started for target:  S14\n",
      "INFO: Initializing learning rate scheduler\n",
      "INFO: Initializing early stopping\n",
      "Epoch:  1 [0%] \tLoss: 0.780365\n",
      "Epoch   349: reducing learning rate of group 0 to 1.0000e-03.\n",
      "Epoch: 1000 [20%] \tLoss: 0.174911\n",
      "Epoch  1739: reducing learning rate of group 0 to 1.0000e-04.\n",
      "Epoch  1754: reducing learning rate of group 0 to 1.0000e-05.\n",
      "Epoch  1765: reducing learning rate of group 0 to 1.0000e-06.\n"
     ]
    },
    {
     "name": "stdout",
     "output_type": "stream",
     "text": [
      "Epoch: 2000 [40%] \tLoss: 0.158790\n",
      "INFO: Early stopping\n",
      "Potential causes:  [8, 16, 5, 10, 19, 9, 15, 23, 20]\n",
      "Validated causes:  [16, 5]\n",
      "\n",
      " Analysis started for target:  S15\n",
      "INFO: Initializing learning rate scheduler\n",
      "INFO: Initializing early stopping\n",
      "Epoch:  1 [0%] \tLoss: 1.096540\n",
      "Epoch   438: reducing learning rate of group 0 to 1.0000e-03.\n",
      "Epoch   453: reducing learning rate of group 0 to 1.0000e-04.\n",
      "Epoch   476: reducing learning rate of group 0 to 1.0000e-05.\n",
      "Epoch   487: reducing learning rate of group 0 to 1.0000e-06.\n",
      "INFO: Early stopping\n",
      "Potential causes:  [20, 5, 16, 14]\n",
      "Validated causes:  [5, 16]\n",
      "\n",
      " Analysis started for target:  S16\n",
      "INFO: Initializing learning rate scheduler\n",
      "INFO: Initializing early stopping\n",
      "Epoch:  1 [0%] \tLoss: 0.729596\n",
      "Epoch   348: reducing learning rate of group 0 to 1.0000e-03.\n",
      "Epoch   368: reducing learning rate of group 0 to 1.0000e-04.\n",
      "Epoch   379: reducing learning rate of group 0 to 1.0000e-05.\n",
      "Epoch   390: reducing learning rate of group 0 to 1.0000e-06.\n",
      "INFO: Early stopping\n",
      "Potential causes:  [9, 15, 10]\n",
      "Validated causes:  []\n",
      "\n",
      " Analysis started for target:  S17\n",
      "INFO: Initializing learning rate scheduler\n",
      "INFO: Initializing early stopping\n",
      "Epoch:  1 [0%] \tLoss: 0.933790\n",
      "Epoch   362: reducing learning rate of group 0 to 1.0000e-03.\n",
      "Epoch: 1000 [20%] \tLoss: 0.160298\n",
      "Epoch: 2000 [40%] \tLoss: 0.135516\n",
      "Epoch  2111: reducing learning rate of group 0 to 1.0000e-04.\n",
      "Epoch  2126: reducing learning rate of group 0 to 1.0000e-05.\n",
      "Epoch  2137: reducing learning rate of group 0 to 1.0000e-06.\n",
      "INFO: Early stopping\n",
      "Potential causes:  [1, 2, 16, 0, 14, 15, 3, 5, 9]\n",
      "Validated causes:  [1, 2, 16, 0, 5]\n",
      "\n",
      " Analysis started for target:  S18\n",
      "INFO: Initializing learning rate scheduler\n",
      "INFO: Initializing early stopping\n",
      "Epoch:  1 [0%] \tLoss: 0.723933\n",
      "Epoch   411: reducing learning rate of group 0 to 1.0000e-03.\n",
      "Epoch: 1000 [20%] \tLoss: 0.120634\n",
      "Epoch: 2000 [40%] \tLoss: 0.118994\n",
      "Epoch  2705: reducing learning rate of group 0 to 1.0000e-04.\n",
      "Epoch  2730: reducing learning rate of group 0 to 1.0000e-05.\n",
      "Epoch  2741: reducing learning rate of group 0 to 1.0000e-06.\n",
      "Epoch: 3000 [60%] \tLoss: 0.115552\n",
      "INFO: Early stopping\n",
      "Potential causes:  [7, 10, 15, 19, 22, 9, 20]\n",
      "Validated causes:  [7]\n",
      "\n",
      " Analysis started for target:  S19\n",
      "INFO: Initializing learning rate scheduler\n",
      "INFO: Initializing early stopping\n",
      "Epoch:  1 [0%] \tLoss: 0.981532\n",
      "Epoch   355: reducing learning rate of group 0 to 1.0000e-03.\n",
      "Epoch: 1000 [20%] \tLoss: 0.224084\n",
      "Epoch: 2000 [40%] \tLoss: 0.217314\n",
      "Epoch  2647: reducing learning rate of group 0 to 1.0000e-04.\n",
      "Epoch  2661: reducing learning rate of group 0 to 1.0000e-05.\n",
      "Epoch  2672: reducing learning rate of group 0 to 1.0000e-06.\n",
      "INFO: Early stopping\n",
      "Potential causes:  [10, 5, 20, 17, 23, 15, 16, 14, 9]\n",
      "Validated causes:  [10]\n",
      "\n",
      " Analysis started for target:  S20\n",
      "INFO: Initializing learning rate scheduler\n",
      "INFO: Initializing early stopping\n",
      "Epoch:  1 [0%] \tLoss: 1.447282\n",
      "Epoch   333: reducing learning rate of group 0 to 1.0000e-03.\n",
      "Epoch: 1000 [20%] \tLoss: 0.172683\n",
      "Epoch: 2000 [40%] \tLoss: 0.156587\n",
      "Epoch  2485: reducing learning rate of group 0 to 1.0000e-04.\n",
      "Epoch  2501: reducing learning rate of group 0 to 1.0000e-05.\n",
      "Epoch  2512: reducing learning rate of group 0 to 1.0000e-06.\n",
      "INFO: Early stopping\n",
      "Potential causes:  [14, 8, 15, 16, 1, 2, 10, 22, 20, 5]\n",
      "Validated causes:  [14, 16, 1, 5]\n",
      "\n",
      " Analysis started for target:  S21\n",
      "INFO: Initializing learning rate scheduler\n",
      "INFO: Initializing early stopping\n",
      "Epoch:  1 [0%] \tLoss: 0.980533\n",
      "Epoch   266: reducing learning rate of group 0 to 1.0000e-03.\n",
      "Epoch: 1000 [20%] \tLoss: 0.125750\n",
      "Epoch  1676: reducing learning rate of group 0 to 1.0000e-04.\n",
      "Epoch  1696: reducing learning rate of group 0 to 1.0000e-05.\n",
      "Epoch  1707: reducing learning rate of group 0 to 1.0000e-06.\n",
      "Epoch: 2000 [40%] \tLoss: 0.121962\n",
      "INFO: Early stopping\n",
      "Potential causes:  [20, 24, 15, 22, 23]\n",
      "Validated causes:  []\n",
      "\n",
      " Analysis started for target:  S22\n",
      "INFO: Initializing learning rate scheduler\n",
      "INFO: Initializing early stopping\n",
      "Epoch:  1 [0%] \tLoss: 1.023400\n",
      "Epoch   267: reducing learning rate of group 0 to 1.0000e-03.\n",
      "Epoch: 1000 [20%] \tLoss: 0.198574\n",
      "Epoch: 2000 [40%] \tLoss: 0.188259\n",
      "Epoch  2012: reducing learning rate of group 0 to 1.0000e-04.\n",
      "Epoch  2032: reducing learning rate of group 0 to 1.0000e-05.\n",
      "Epoch  2043: reducing learning rate of group 0 to 1.0000e-06.\n",
      "INFO: Early stopping\n",
      "Potential causes:  [22, 24, 20, 15, 14, 19, 16, 23, 21, 8]\n",
      "Validated causes:  [22, 21]\n",
      "\n",
      " Analysis started for target:  S23\n",
      "INFO: Initializing learning rate scheduler\n",
      "INFO: Initializing early stopping\n",
      "Epoch:  1 [0%] \tLoss: 0.916263\n",
      "Epoch   339: reducing learning rate of group 0 to 1.0000e-03.\n",
      "Epoch: 1000 [20%] \tLoss: 0.162112\n",
      "Epoch: 2000 [40%] \tLoss: 0.150498\n",
      "Epoch  2107: reducing learning rate of group 0 to 1.0000e-04.\n",
      "Epoch  2122: reducing learning rate of group 0 to 1.0000e-05.\n",
      "Epoch  2133: reducing learning rate of group 0 to 1.0000e-06.\n",
      "INFO: Early stopping\n",
      "Potential causes:  [14, 2]\n",
      "Validated causes:  [2]\n",
      "\n",
      " Analysis started for target:  S24\n",
      "INFO: Initializing learning rate scheduler\n",
      "INFO: Initializing early stopping\n",
      "Epoch:  1 [0%] \tLoss: 1.055974\n",
      "Epoch   254: reducing learning rate of group 0 to 1.0000e-03.\n",
      "Epoch: 1000 [20%] \tLoss: 0.270402\n",
      "Epoch  1990: reducing learning rate of group 0 to 1.0000e-04.\n",
      "Epoch: 2000 [40%] \tLoss: 0.257240\n",
      "Epoch  2004: reducing learning rate of group 0 to 1.0000e-05.\n",
      "Epoch  2015: reducing learning rate of group 0 to 1.0000e-06.\n",
      "INFO: Early stopping\n",
      "Potential causes:  [14, 23, 15, 9, 10, 22, 19, 8, 5]\n",
      "Validated causes:  []\n",
      "\n",
      "===================Results for random-rels_20_1A_returns30007000_header.csv ==================================\n",
      "S11 causes S1 with a delay of 1 time steps.\n",
      "S7 causes S2 with a delay of 1 time steps.\n",
      "S2 causes S2 with a delay of 1 time steps.\n",
      "S1 causes S2 with a delay of 1 time steps.\n",
      "S7 causes S3 with a delay of 2 time steps.\n",
      "S19 causes S3 with a delay of 1 time steps.\n",
      "S18 causes S3 with a delay of 1 time steps.\n",
      "S19 causes S4 with a delay of 2 time steps.\n",
      "S9 causes S4 with a delay of 1 time steps.\n",
      "S10 causes S4 with a delay of 3 time steps.\n",
      "S16 causes S5 with a delay of 1 time steps.\n",
      "S16 causes S8 with a delay of 1 time steps.\n",
      "S10 causes S9 with a delay of 2 time steps.\n",
      "S19 causes S9 with a delay of 1 time steps.\n",
      "S23 causes S13 with a delay of 1 time steps.\n",
      "S2 causes S13 with a delay of 2 time steps.\n",
      "S16 causes S14 with a delay of 2 time steps.\n",
      "S5 causes S14 with a delay of 1 time steps.\n",
      "S5 causes S15 with a delay of 1 time steps.\n",
      "S16 causes S15 with a delay of 6 time steps.\n",
      "S1 causes S17 with a delay of 1 time steps.\n",
      "S2 causes S17 with a delay of 1 time steps.\n",
      "S16 causes S17 with a delay of 14 time steps.\n",
      "S0 causes S17 with a delay of 1 time steps.\n",
      "S5 causes S17 with a delay of 1 time steps.\n",
      "S7 causes S18 with a delay of 1 time steps.\n",
      "S10 causes S19 with a delay of 1 time steps.\n",
      "S14 causes S20 with a delay of 1 time steps.\n",
      "S16 causes S20 with a delay of 11 time steps.\n",
      "S1 causes S20 with a delay of 1 time steps.\n",
      "S5 causes S20 with a delay of 2 time steps.\n",
      "S22 causes S22 with a delay of 1 time steps.\n",
      "S21 causes S22 with a delay of 4 time steps.\n",
      "S2 causes S23 with a delay of 1 time steps.\n",
      "\n",
      "===================Evaluation for random-rels_20_1A_returns30007000_header.csv ===============================\n",
      "Total False Positives':  8\n",
      "Total True Positives':  26\n",
      "Total False Negatives:  1\n",
      "Total Direct False Positives:  15\n",
      "Total Direct True Positives:  19\n",
      "TPs':  [(1, 11), (2, 7), (2, 2), (3, 7), (3, 18), (4, 19), (4, 9), (5, 16), (8, 16), (9, 10), (9, 19), (13, 23), (13, 2), (14, 16), (14, 5), (15, 5), (15, 16), (17, 1), (17, 0), (18, 7), (19, 10), (20, 14), (20, 1), (20, 5), (22, 22), (23, 2)]\n",
      "FPs':  [(2, 1), (3, 19), (4, 10), (17, 2), (17, 16), (17, 5), (20, 16), (22, 21)]\n",
      "TPs direct:  [(1, 11), (2, 7), (2, 2), (3, 18), (4, 9), (5, 16), (8, 16), (9, 19), (13, 23), (14, 5), (15, 5), (17, 1), (17, 0), (18, 7), (19, 10), (20, 14), (20, 1), (22, 22), (23, 2)]\n",
      "FPs direct:  [(2, 1), (3, 7), (3, 19), (4, 19), (4, 10), (9, 10), (13, 2), (14, 16), (15, 16), (17, 2), (17, 16), (17, 5), (20, 16), (20, 5), (22, 21)]\n",
      "FNs:  [(1, 7)]\n",
      "Precision':  0.7647058823529411\n",
      "Recall':  0.9629629629629629\n",
      "F1' score:  0.8524590163934426 (includes direct and indirect causal relationships)\n",
      "Precision:  0.5588235294117647\n",
      "Recall:  0.95\n",
      "F1 score:  0.7037037037037037 (includes only direct causal relationships)\n",
      "Percentage of delays that are correctly discovered:  96.15384615384616 %\n",
      "==================================================================================\n"
     ]
    }
   ],
   "source": [
    "%matplotlib inline\n",
    "\n",
    "# Run TCDF with a provided dataset of Finance (see https://github.com/M-Nauta/TCDF)\n",
    "\n",
    "%run -i \"runTCDF.py\"  --ground_truth data/random-rels_20_1A_returns30007000_header.csv=data/random-rels_20_1A.csv --learning_rate 0.01 --hidden_layers 1 --epochs 5000 --log_interval 1000 --significance 0.8 --dilation_coefficient 4 --kernel_size 4 --seed 12356"
   ]
  },
  {
   "cell_type": "code",
   "execution_count": 4,
   "metadata": {
    "scrolled": true
   },
   "outputs": [
    {
     "name": "stdout",
     "output_type": "stream",
     "text": [
      "Arguments: Namespace(cuda=False, data=['data/random-rels_20_1A_returns30007000_header.csv'], dilation_coefficient=4, early_stopping=True, epochs=2000, hidden_layers=1, kernel_size=4, learning_rate=0.01, log_interval=1000, lr_scheduler=True, optimizer='Adam', plot=False, seed=12356, train_test_split=0.8)\n",
      "\n",
      " Analysis started for target:  S0\n",
      "INFO: Initializing learning rate scheduler\n",
      "INFO: Initializing early stopping\n",
      "Epoch:  1 [0%] \tLoss: 1.061502\n",
      "Epoch   372: reducing learning rate of group 0 to 1.0000e-03.\n",
      "Epoch: 1000 [50%] \tLoss: 0.174577\n",
      "Epoch: 2000 [100%] \tLoss: 0.171500\n",
      "\n",
      " Analysis started for target:  S1\n",
      "INFO: Initializing learning rate scheduler\n",
      "INFO: Initializing early stopping\n",
      "Epoch:  1 [0%] \tLoss: 0.921992\n",
      "Epoch   313: reducing learning rate of group 0 to 1.0000e-03.\n",
      "Epoch: 1000 [50%] \tLoss: 0.148608\n",
      "Epoch  1925: reducing learning rate of group 0 to 1.0000e-04.\n",
      "Epoch  1945: reducing learning rate of group 0 to 1.0000e-05.\n",
      "Epoch  1956: reducing learning rate of group 0 to 1.0000e-06.\n",
      "Epoch: 2000 [100%] \tLoss: 0.137354\n",
      "\n",
      " Analysis started for target:  S2\n",
      "INFO: Initializing learning rate scheduler\n",
      "INFO: Initializing early stopping\n",
      "Epoch:  1 [0%] \tLoss: 0.762990\n",
      "Epoch   310: reducing learning rate of group 0 to 1.0000e-03.\n",
      "Epoch: 1000 [50%] \tLoss: 0.139915\n",
      "Epoch  1904: reducing learning rate of group 0 to 1.0000e-04.\n",
      "Epoch  1919: reducing learning rate of group 0 to 1.0000e-05.\n",
      "Epoch  1939: reducing learning rate of group 0 to 1.0000e-06.\n",
      "Epoch: 2000 [100%] \tLoss: 0.121660\n",
      "\n",
      " Analysis started for target:  S3\n",
      "INFO: Initializing learning rate scheduler\n",
      "INFO: Initializing early stopping\n",
      "Epoch:  1 [0%] \tLoss: 0.556197\n",
      "Epoch   360: reducing learning rate of group 0 to 1.0000e-03.\n",
      "Epoch: 1000 [50%] \tLoss: 0.092838\n",
      "Epoch  1819: reducing learning rate of group 0 to 1.0000e-04.\n",
      "Epoch  1844: reducing learning rate of group 0 to 1.0000e-05.\n",
      "Epoch  1855: reducing learning rate of group 0 to 1.0000e-06.\n",
      "Epoch: 2000 [100%] \tLoss: 0.084769\n",
      "\n",
      " Analysis started for target:  S4\n",
      "INFO: Initializing learning rate scheduler\n",
      "INFO: Initializing early stopping\n",
      "Epoch:  1 [0%] \tLoss: 0.581142\n",
      "Epoch   479: reducing learning rate of group 0 to 1.0000e-03.\n",
      "Epoch   490: reducing learning rate of group 0 to 1.0000e-04.\n",
      "Epoch   501: reducing learning rate of group 0 to 1.0000e-05.\n",
      "Epoch   512: reducing learning rate of group 0 to 1.0000e-06.\n",
      "INFO: Early stopping\n",
      "\n",
      " Analysis started for target:  S5\n",
      "INFO: Initializing learning rate scheduler\n",
      "INFO: Initializing early stopping\n",
      "Epoch:  1 [0%] \tLoss: 1.297134\n",
      "Epoch   424: reducing learning rate of group 0 to 1.0000e-03.\n",
      "Epoch: 1000 [50%] \tLoss: 0.133383\n",
      "Epoch: 2000 [100%] \tLoss: 0.126268\n",
      "\n",
      " Analysis started for target:  S6\n",
      "INFO: Initializing learning rate scheduler\n",
      "INFO: Initializing early stopping\n",
      "Epoch:  1 [0%] \tLoss: 0.767853\n",
      "Epoch   558: reducing learning rate of group 0 to 1.0000e-03.\n",
      "Epoch   578: reducing learning rate of group 0 to 1.0000e-04.\n",
      "Epoch   601: reducing learning rate of group 0 to 1.0000e-05.\n",
      "Epoch   612: reducing learning rate of group 0 to 1.0000e-06.\n",
      "INFO: Early stopping\n",
      "\n",
      " Analysis started for target:  S7\n",
      "INFO: Initializing learning rate scheduler\n",
      "INFO: Initializing early stopping\n",
      "Epoch:  1 [0%] \tLoss: 0.604843\n",
      "Epoch   327: reducing learning rate of group 0 to 1.0000e-03.\n",
      "Epoch: 1000 [50%] \tLoss: 0.087921\n",
      "Epoch: 2000 [100%] \tLoss: 0.084089\n",
      "\n",
      " Analysis started for target:  S8\n",
      "INFO: Initializing learning rate scheduler\n",
      "INFO: Initializing early stopping\n",
      "Epoch:  1 [0%] \tLoss: 0.632564\n",
      "Epoch   325: reducing learning rate of group 0 to 1.0000e-03.\n",
      "Epoch: 1000 [50%] \tLoss: 0.087308\n",
      "Epoch: 2000 [100%] \tLoss: 0.083367\n",
      "\n",
      " Analysis started for target:  S9\n",
      "INFO: Initializing learning rate scheduler\n",
      "INFO: Initializing early stopping\n",
      "Epoch:  1 [0%] \tLoss: 0.870338\n",
      "Epoch   332: reducing learning rate of group 0 to 1.0000e-03.\n",
      "Epoch: 1000 [50%] \tLoss: 0.144501\n",
      "Epoch  1990: reducing learning rate of group 0 to 1.0000e-04.\n",
      "Epoch: 2000 [100%] \tLoss: 0.129413\n",
      "\n",
      " Analysis started for target:  S10\n",
      "INFO: Initializing learning rate scheduler\n",
      "INFO: Initializing early stopping\n",
      "Epoch:  1 [0%] \tLoss: 1.140992\n",
      "Epoch   553: reducing learning rate of group 0 to 1.0000e-03.\n",
      "Epoch   588: reducing learning rate of group 0 to 1.0000e-04.\n",
      "Epoch   610: reducing learning rate of group 0 to 1.0000e-05.\n",
      "Epoch   621: reducing learning rate of group 0 to 1.0000e-06.\n",
      "INFO: Early stopping\n",
      "\n",
      " Analysis started for target:  S11\n",
      "INFO: Initializing learning rate scheduler\n",
      "INFO: Initializing early stopping\n",
      "Epoch:  1 [0%] \tLoss: 0.715077\n",
      "Epoch   182: reducing learning rate of group 0 to 1.0000e-03.\n",
      "Epoch: 1000 [50%] \tLoss: 0.093446\n",
      "Epoch: 2000 [100%] \tLoss: 0.083608\n",
      "\n",
      " Analysis started for target:  S12\n",
      "INFO: Initializing learning rate scheduler\n",
      "INFO: Initializing early stopping\n",
      "Epoch:  1 [0%] \tLoss: 0.579897\n",
      "Epoch   267: reducing learning rate of group 0 to 1.0000e-03.\n",
      "Epoch: 1000 [50%] \tLoss: 0.093314\n",
      "Epoch: 2000 [100%] \tLoss: 0.088161\n",
      "\n",
      " Analysis started for target:  S13\n",
      "INFO: Initializing learning rate scheduler\n",
      "INFO: Initializing early stopping\n",
      "Epoch:  1 [0%] \tLoss: 0.704125\n",
      "Epoch   299: reducing learning rate of group 0 to 1.0000e-03.\n",
      "Epoch: 1000 [50%] \tLoss: 0.153099\n",
      "Epoch  1646: reducing learning rate of group 0 to 1.0000e-04.\n",
      "Epoch  1658: reducing learning rate of group 0 to 1.0000e-05.\n",
      "Epoch  1669: reducing learning rate of group 0 to 1.0000e-06.\n",
      "Epoch: 2000 [100%] \tLoss: 0.144690\n",
      "\n",
      " Analysis started for target:  S14\n",
      "INFO: Initializing learning rate scheduler\n",
      "INFO: Initializing early stopping\n",
      "Epoch:  1 [0%] \tLoss: 0.836756\n",
      "Epoch   418: reducing learning rate of group 0 to 1.0000e-03.\n",
      "Epoch: 1000 [50%] \tLoss: 0.179391\n",
      "Epoch  1898: reducing learning rate of group 0 to 1.0000e-04.\n",
      "Epoch  1918: reducing learning rate of group 0 to 1.0000e-05.\n",
      "Epoch  1940: reducing learning rate of group 0 to 1.0000e-06.\n",
      "Epoch: 2000 [100%] \tLoss: 0.161119\n",
      "\n",
      " Analysis started for target:  S15\n",
      "INFO: Initializing learning rate scheduler\n",
      "INFO: Initializing early stopping\n",
      "Epoch:  1 [0%] \tLoss: 1.150175\n",
      "Epoch   487: reducing learning rate of group 0 to 1.0000e-03.\n",
      "Epoch   512: reducing learning rate of group 0 to 1.0000e-04.\n",
      "Epoch   534: reducing learning rate of group 0 to 1.0000e-05.\n",
      "Epoch   545: reducing learning rate of group 0 to 1.0000e-06.\n",
      "INFO: Early stopping\n",
      "\n",
      " Analysis started for target:  S16\n",
      "INFO: Initializing learning rate scheduler\n",
      "INFO: Initializing early stopping\n",
      "Epoch:  1 [0%] \tLoss: 0.767572\n",
      "Epoch   348: reducing learning rate of group 0 to 1.0000e-03.\n",
      "Epoch: 1000 [50%] \tLoss: 0.117890\n",
      "Epoch: 2000 [100%] \tLoss: 0.115171\n",
      "\n",
      " Analysis started for target:  S17\n",
      "INFO: Initializing learning rate scheduler\n",
      "INFO: Initializing early stopping\n",
      "Epoch:  1 [0%] \tLoss: 0.962001\n",
      "Epoch   468: reducing learning rate of group 0 to 1.0000e-03.\n",
      "Epoch   483: reducing learning rate of group 0 to 1.0000e-04.\n",
      "Epoch   511: reducing learning rate of group 0 to 1.0000e-05.\n",
      "Epoch   553: reducing learning rate of group 0 to 1.0000e-06.\n",
      "Epoch: 1000 [50%] \tLoss: 0.163040\n",
      "INFO: Early stopping\n",
      "\n",
      " Analysis started for target:  S18\n",
      "INFO: Initializing learning rate scheduler\n",
      "INFO: Initializing early stopping\n",
      "Epoch:  1 [0%] \tLoss: 0.755201\n",
      "Epoch   466: reducing learning rate of group 0 to 1.0000e-03.\n",
      "Epoch   486: reducing learning rate of group 0 to 1.0000e-04.\n",
      "Epoch   497: reducing learning rate of group 0 to 1.0000e-05.\n",
      "Epoch   509: reducing learning rate of group 0 to 1.0000e-06.\n",
      "INFO: Early stopping\n",
      "\n",
      " Analysis started for target:  S19\n",
      "INFO: Initializing learning rate scheduler\n",
      "INFO: Initializing early stopping\n",
      "Epoch:  1 [0%] \tLoss: 1.009230\n",
      "Epoch   339: reducing learning rate of group 0 to 1.0000e-03.\n",
      "Epoch: 1000 [50%] \tLoss: 0.225376\n",
      "Epoch: 2000 [100%] \tLoss: 0.213273\n",
      "\n",
      " Analysis started for target:  S20\n",
      "INFO: Initializing learning rate scheduler\n",
      "INFO: Initializing early stopping\n",
      "Epoch:  1 [0%] \tLoss: 1.494875\n",
      "Epoch   256: reducing learning rate of group 0 to 1.0000e-03.\n",
      "Epoch: 1000 [50%] \tLoss: 0.184224\n",
      "Epoch  1558: reducing learning rate of group 0 to 1.0000e-04.\n",
      "Epoch: 2000 [100%] \tLoss: 0.157551\n",
      "\n",
      " Analysis started for target:  S21\n",
      "INFO: Initializing learning rate scheduler\n",
      "INFO: Initializing early stopping\n",
      "Epoch:  1 [0%] \tLoss: 1.010479\n",
      "Epoch   307: reducing learning rate of group 0 to 1.0000e-03.\n",
      "Epoch: 1000 [50%] \tLoss: 0.127619\n"
     ]
    },
    {
     "name": "stdout",
     "output_type": "stream",
     "text": [
      "Epoch: 2000 [100%] \tLoss: 0.122231\n",
      "\n",
      " Analysis started for target:  S22\n",
      "INFO: Initializing learning rate scheduler\n",
      "INFO: Initializing early stopping\n",
      "Epoch:  1 [0%] \tLoss: 1.058840\n",
      "Epoch   292: reducing learning rate of group 0 to 1.0000e-03.\n",
      "Epoch   323: reducing learning rate of group 0 to 1.0000e-04.\n",
      "Epoch   344: reducing learning rate of group 0 to 1.0000e-05.\n",
      "Epoch   355: reducing learning rate of group 0 to 1.0000e-06.\n",
      "INFO: Early stopping\n",
      "\n",
      " Analysis started for target:  S23\n",
      "INFO: Initializing learning rate scheduler\n",
      "INFO: Initializing early stopping\n",
      "Epoch:  1 [0%] \tLoss: 0.939908\n",
      "Epoch   257: reducing learning rate of group 0 to 1.0000e-03.\n",
      "Epoch: 1000 [50%] \tLoss: 0.163984\n",
      "Epoch  1818: reducing learning rate of group 0 to 1.0000e-04.\n",
      "Epoch  1843: reducing learning rate of group 0 to 1.0000e-05.\n",
      "Epoch  1854: reducing learning rate of group 0 to 1.0000e-06.\n",
      "Epoch: 2000 [100%] \tLoss: 0.148597\n",
      "\n",
      " Analysis started for target:  S24\n",
      "INFO: Initializing learning rate scheduler\n",
      "INFO: Initializing early stopping\n",
      "Epoch:  1 [0%] \tLoss: 1.085757\n",
      "Epoch   337: reducing learning rate of group 0 to 1.0000e-03.\n",
      "Epoch   352: reducing learning rate of group 0 to 1.0000e-04.\n",
      "Epoch   363: reducing learning rate of group 0 to 1.0000e-05.\n",
      "Epoch   392: reducing learning rate of group 0 to 1.0000e-06.\n",
      "INFO: Early stopping\n",
      "\n",
      "Mean Absolute Scaled Error (MASE) averaged over all time series in data/random-rels_20_1A_returns30007000_header.csv : 0.3796892508630761 with standard deviation 0.04282275560881898\n"
     ]
    }
   ],
   "source": [
    "# Run TCDF for predictive accuracy\n",
    "\n",
    "%run -i \"evaluate_predictions_TCDF.py\" --data data/random-rels_20_1A_returns30007000_header.csv --learning_rate 0.01 --hidden_layers 1 --epochs 2000 --log_interval 1000 --dilation_coefficient 4 --kernel_size 4 --seed 12356 --train_test_split 0.8"
   ]
  },
  {
   "cell_type": "code",
   "execution_count": 5,
   "metadata": {
    "scrolled": true
   },
   "outputs": [
    {
     "name": "stdout",
     "output_type": "stream",
     "text": [
      "Arguments: Namespace(cuda=False, data=None, dilation_coefficient=4, early_stopping=True, epochs=5000, ground_truth={'data/random-rels_20_1A_returns30007000_header.csv': 'data/random-rels_20_1A.csv'}, hidden_layers=1, kernel_size=4, learning_rate=0.01, log_interval=1000, lr_scheduler=True, optimizer='Adam', plot=False, seed=53444, significance=0.8)\n",
      "\n",
      " Dataset:  random-rels_20_1A_returns30007000_header.csv\n",
      "\n",
      " Analysis started for target:  S0\n",
      "INFO: Initializing learning rate scheduler\n",
      "INFO: Initializing early stopping\n",
      "Epoch:  1 [0%] \tLoss: 1.023685\n",
      "Epoch   264: reducing learning rate of group 0 to 1.0000e-03.\n",
      "Epoch: 1000 [20%] \tLoss: 0.172554\n",
      "Epoch: 2000 [40%] \tLoss: 0.168855\n",
      "Epoch  2373: reducing learning rate of group 0 to 1.0000e-04.\n",
      "Epoch  2393: reducing learning rate of group 0 to 1.0000e-05.\n",
      "Epoch  2404: reducing learning rate of group 0 to 1.0000e-06.\n",
      "INFO: Early stopping\n",
      "Potential causes:  [16, 11, 10, 9, 3, 1, 18, 2, 23]\n",
      "Validated causes:  []\n",
      "\n",
      " Analysis started for target:  S1\n",
      "INFO: Initializing learning rate scheduler\n",
      "INFO: Initializing early stopping\n",
      "Epoch:  1 [0%] \tLoss: 0.901207\n",
      "Epoch   262: reducing learning rate of group 0 to 1.0000e-03.\n",
      "Epoch: 1000 [20%] \tLoss: 0.147401\n",
      "Epoch: 2000 [40%] \tLoss: 0.139350\n",
      "Epoch  2371: reducing learning rate of group 0 to 1.0000e-04.\n",
      "Epoch  2385: reducing learning rate of group 0 to 1.0000e-05.\n",
      "Epoch  2396: reducing learning rate of group 0 to 1.0000e-06.\n",
      "INFO: Early stopping\n",
      "Potential causes:  [16, 11]\n",
      "Validated causes:  [16, 11]\n",
      "\n",
      " Analysis started for target:  S2\n",
      "INFO: Initializing learning rate scheduler\n",
      "INFO: Initializing early stopping\n",
      "Epoch:  1 [0%] \tLoss: 0.760103\n",
      "Epoch   280: reducing learning rate of group 0 to 1.0000e-03.\n",
      "Epoch: 1000 [20%] \tLoss: 0.128322\n",
      "Epoch: 2000 [40%] \tLoss: 0.121137\n",
      "Epoch  2077: reducing learning rate of group 0 to 1.0000e-04.\n",
      "Epoch  2097: reducing learning rate of group 0 to 1.0000e-05.\n",
      "Epoch  2108: reducing learning rate of group 0 to 1.0000e-06.\n",
      "INFO: Early stopping\n",
      "Potential causes:  [7, 2, 18, 21, 3, 1, 17, 0, 9, 14]\n",
      "Validated causes:  [7, 2, 1]\n",
      "\n",
      " Analysis started for target:  S3\n",
      "INFO: Initializing learning rate scheduler\n",
      "INFO: Initializing early stopping\n",
      "Epoch:  1 [0%] \tLoss: 0.571136\n",
      "Epoch   333: reducing learning rate of group 0 to 1.0000e-03.\n",
      "Epoch: 1000 [20%] \tLoss: 0.089119\n",
      "Epoch: 2000 [40%] \tLoss: 0.084841\n",
      "Epoch  2598: reducing learning rate of group 0 to 1.0000e-04.\n",
      "Epoch  2612: reducing learning rate of group 0 to 1.0000e-05.\n",
      "Epoch  2633: reducing learning rate of group 0 to 1.0000e-06.\n",
      "INFO: Early stopping\n",
      "Potential causes:  [18, 7]\n",
      "Validated causes:  [18, 7]\n",
      "\n",
      " Analysis started for target:  S4\n",
      "INFO: Initializing learning rate scheduler\n",
      "INFO: Initializing early stopping\n",
      "Epoch:  1 [0%] \tLoss: 0.593289\n",
      "Epoch   232: reducing learning rate of group 0 to 1.0000e-03.\n",
      "Epoch: 1000 [20%] \tLoss: 0.115107\n",
      "Epoch  1633: reducing learning rate of group 0 to 1.0000e-04.\n",
      "Epoch: 2000 [40%] \tLoss: 0.094848\n",
      "Epoch: 3000 [60%] \tLoss: 0.093169\n",
      "Epoch: 4000 [80%] \tLoss: 0.091463\n",
      "Epoch: 5000 [100%] \tLoss: 0.090121\n",
      "Potential causes:  [10, 9, 19, 18]\n",
      "Validated causes:  [10, 9, 19]\n",
      "\n",
      " Analysis started for target:  S5\n",
      "INFO: Initializing learning rate scheduler\n",
      "INFO: Initializing early stopping\n",
      "Epoch:  1 [0%] \tLoss: 1.244908\n",
      "Epoch   298: reducing learning rate of group 0 to 1.0000e-03.\n",
      "Epoch: 1000 [20%] \tLoss: 0.131760\n",
      "Epoch: 2000 [40%] \tLoss: 0.125386\n",
      "Epoch  2609: reducing learning rate of group 0 to 1.0000e-04.\n",
      "Epoch  2623: reducing learning rate of group 0 to 1.0000e-05.\n",
      "Epoch  2634: reducing learning rate of group 0 to 1.0000e-06.\n",
      "Epoch: 3000 [60%] \tLoss: 0.123287\n",
      "INFO: Early stopping\n",
      "Potential causes:  [16, 10, 7]\n",
      "Validated causes:  [16]\n",
      "\n",
      " Analysis started for target:  S6\n",
      "INFO: Initializing learning rate scheduler\n",
      "INFO: Initializing early stopping\n",
      "Epoch:  1 [0%] \tLoss: 0.754543\n",
      "Epoch   257: reducing learning rate of group 0 to 1.0000e-03.\n",
      "Epoch: 1000 [20%] \tLoss: 0.096142\n",
      "Epoch: 2000 [40%] \tLoss: 0.094341\n",
      "Epoch  2308: reducing learning rate of group 0 to 1.0000e-04.\n",
      "Epoch  2322: reducing learning rate of group 0 to 1.0000e-05.\n",
      "Epoch  2333: reducing learning rate of group 0 to 1.0000e-06.\n",
      "INFO: Early stopping\n",
      "Potential causes:  [16, 3]\n",
      "Validated causes:  []\n",
      "\n",
      " Analysis started for target:  S7\n",
      "INFO: Initializing learning rate scheduler\n",
      "INFO: Initializing early stopping\n",
      "Epoch:  1 [0%] \tLoss: 0.606641\n",
      "Epoch   459: reducing learning rate of group 0 to 1.0000e-03.\n",
      "Epoch: 1000 [20%] \tLoss: 0.083953\n",
      "Epoch: 2000 [40%] \tLoss: 0.082775\n",
      "Epoch  2630: reducing learning rate of group 0 to 1.0000e-04.\n",
      "Epoch  2644: reducing learning rate of group 0 to 1.0000e-05.\n",
      "Epoch  2655: reducing learning rate of group 0 to 1.0000e-06.\n",
      "INFO: Early stopping\n",
      "Potential causes:  [9, 11, 16, 18, 12, 10, 14, 2]\n",
      "Validated causes:  []\n",
      "\n",
      " Analysis started for target:  S8\n",
      "INFO: Initializing learning rate scheduler\n",
      "INFO: Initializing early stopping\n",
      "Epoch:  1 [0%] \tLoss: 0.637208\n",
      "Epoch   242: reducing learning rate of group 0 to 1.0000e-03.\n",
      "Epoch: 1000 [20%] \tLoss: 0.086783\n",
      "Epoch  1697: reducing learning rate of group 0 to 1.0000e-04.\n",
      "Epoch  1717: reducing learning rate of group 0 to 1.0000e-05.\n",
      "Epoch  1728: reducing learning rate of group 0 to 1.0000e-06.\n",
      "Epoch: 2000 [40%] \tLoss: 0.082739\n",
      "INFO: Early stopping\n",
      "Potential causes:  [16, 7]\n",
      "Validated causes:  [16]\n",
      "\n",
      " Analysis started for target:  S9\n",
      "INFO: Initializing learning rate scheduler\n",
      "INFO: Initializing early stopping\n",
      "Epoch:  1 [0%] \tLoss: 0.884863\n",
      "Epoch   301: reducing learning rate of group 0 to 1.0000e-03.\n",
      "Epoch: 1000 [20%] \tLoss: 0.141850\n",
      "Epoch  1867: reducing learning rate of group 0 to 1.0000e-04.\n",
      "Epoch  1887: reducing learning rate of group 0 to 1.0000e-05.\n",
      "Epoch  1898: reducing learning rate of group 0 to 1.0000e-06.\n",
      "Epoch: 2000 [40%] \tLoss: 0.131843\n",
      "INFO: Early stopping\n",
      "Potential causes:  [10, 19, 18, 3]\n",
      "Validated causes:  [10, 19]\n",
      "\n",
      " Analysis started for target:  S10\n",
      "INFO: Initializing learning rate scheduler\n",
      "INFO: Initializing early stopping\n",
      "Epoch:  1 [0%] \tLoss: 1.115026\n",
      "Epoch   345: reducing learning rate of group 0 to 1.0000e-03.\n",
      "Epoch   365: reducing learning rate of group 0 to 1.0000e-04.\n",
      "Epoch   387: reducing learning rate of group 0 to 1.0000e-05.\n",
      "Epoch   398: reducing learning rate of group 0 to 1.0000e-06.\n",
      "INFO: Early stopping\n",
      "Potential causes:  [16, 21, 20, 5]\n",
      "Validated causes:  []\n",
      "\n",
      " Analysis started for target:  S11\n",
      "INFO: Initializing learning rate scheduler\n",
      "INFO: Initializing early stopping\n",
      "Epoch:  1 [0%] \tLoss: 0.716002\n",
      "Epoch   311: reducing learning rate of group 0 to 1.0000e-03.\n",
      "Epoch   331: reducing learning rate of group 0 to 1.0000e-04.\n",
      "Epoch   353: reducing learning rate of group 0 to 1.0000e-05.\n",
      "Epoch   364: reducing learning rate of group 0 to 1.0000e-06.\n",
      "INFO: Early stopping\n",
      "Potential causes:  [16, 10, 22, 7, 3, 18, 9, 0, 20]\n",
      "Validated causes:  []\n",
      "\n",
      " Analysis started for target:  S12\n",
      "INFO: Initializing learning rate scheduler\n",
      "INFO: Initializing early stopping\n",
      "Epoch:  1 [0%] \tLoss: 0.583515\n",
      "Epoch   267: reducing learning rate of group 0 to 1.0000e-03.\n",
      "Epoch: 1000 [20%] \tLoss: 0.090841\n",
      "Epoch: 2000 [40%] \tLoss: 0.089295\n",
      "Epoch  2429: reducing learning rate of group 0 to 1.0000e-04.\n",
      "Epoch  2442: reducing learning rate of group 0 to 1.0000e-05.\n",
      "Epoch  2453: reducing learning rate of group 0 to 1.0000e-06.\n",
      "INFO: Early stopping\n",
      "Potential causes:  [7, 16, 14, 22, 18, 10]\n",
      "Validated causes:  []\n",
      "\n",
      " Analysis started for target:  S13\n",
      "INFO: Initializing learning rate scheduler\n",
      "INFO: Initializing early stopping\n",
      "Epoch:  1 [0%] \tLoss: 0.711731\n",
      "Epoch   344: reducing learning rate of group 0 to 1.0000e-03.\n",
      "Epoch: 1000 [20%] \tLoss: 0.149667\n",
      "Epoch: 2000 [40%] \tLoss: 0.144196\n",
      "Epoch  2346: reducing learning rate of group 0 to 1.0000e-04.\n",
      "Epoch  2361: reducing learning rate of group 0 to 1.0000e-05.\n",
      "Epoch  2381: reducing learning rate of group 0 to 1.0000e-06.\n",
      "INFO: Early stopping\n",
      "Potential causes:  [2, 23, 22, 16, 9, 18]\n",
      "Validated causes:  [2, 23, 16]\n",
      "\n",
      " Analysis started for target:  S14\n",
      "INFO: Initializing learning rate scheduler\n",
      "INFO: Initializing early stopping\n",
      "Epoch:  1 [0%] \tLoss: 0.827317\n",
      "Epoch   336: reducing learning rate of group 0 to 1.0000e-03.\n",
      "Epoch: 1000 [20%] \tLoss: 0.171685\n",
      "Epoch: 2000 [40%] \tLoss: 0.158740\n",
      "Epoch  2338: reducing learning rate of group 0 to 1.0000e-04.\n",
      "Epoch  2358: reducing learning rate of group 0 to 1.0000e-05.\n",
      "Epoch  2369: reducing learning rate of group 0 to 1.0000e-06.\n"
     ]
    },
    {
     "name": "stdout",
     "output_type": "stream",
     "text": [
      "INFO: Early stopping\n",
      "Potential causes:  [16, 5, 7]\n",
      "Validated causes:  [16, 5]\n",
      "\n",
      " Analysis started for target:  S15\n",
      "INFO: Initializing learning rate scheduler\n",
      "INFO: Initializing early stopping\n",
      "Epoch:  1 [0%] \tLoss: 1.135610\n",
      "Epoch   293: reducing learning rate of group 0 to 1.0000e-03.\n",
      "Epoch: 1000 [20%] \tLoss: 0.144095\n",
      "Epoch  1903: reducing learning rate of group 0 to 1.0000e-04.\n",
      "Epoch  1918: reducing learning rate of group 0 to 1.0000e-05.\n",
      "Epoch  1940: reducing learning rate of group 0 to 1.0000e-06.\n",
      "Epoch: 2000 [40%] \tLoss: 0.132685\n",
      "INFO: Early stopping\n",
      "Potential causes:  [16, 5, 14]\n",
      "Validated causes:  [16, 5]\n",
      "\n",
      " Analysis started for target:  S16\n",
      "INFO: Initializing learning rate scheduler\n",
      "INFO: Initializing early stopping\n",
      "Epoch:  1 [0%] \tLoss: 0.767191\n",
      "Epoch   256: reducing learning rate of group 0 to 1.0000e-03.\n",
      "Epoch: 1000 [20%] \tLoss: 0.114758\n",
      "Epoch: 2000 [40%] \tLoss: 0.112724\n",
      "Epoch  2283: reducing learning rate of group 0 to 1.0000e-04.\n",
      "Epoch  2297: reducing learning rate of group 0 to 1.0000e-05.\n",
      "Epoch  2308: reducing learning rate of group 0 to 1.0000e-06.\n",
      "INFO: Early stopping\n",
      "Potential causes:  [22, 10, 21, 9, 23, 18]\n",
      "Validated causes:  []\n",
      "\n",
      " Analysis started for target:  S17\n",
      "INFO: Initializing learning rate scheduler\n",
      "INFO: Initializing early stopping\n",
      "Epoch:  1 [0%] \tLoss: 0.974588\n",
      "Epoch   326: reducing learning rate of group 0 to 1.0000e-03.\n",
      "Epoch: 1000 [20%] \tLoss: 0.144229\n",
      "Epoch  1907: reducing learning rate of group 0 to 1.0000e-04.\n",
      "Epoch  1921: reducing learning rate of group 0 to 1.0000e-05.\n",
      "Epoch  1942: reducing learning rate of group 0 to 1.0000e-06.\n",
      "Epoch: 2000 [40%] \tLoss: 0.135319\n",
      "INFO: Early stopping\n",
      "Potential causes:  [2, 0, 23, 1, 11, 16]\n",
      "Validated causes:  [2, 0, 1, 11, 16]\n",
      "\n",
      " Analysis started for target:  S18\n",
      "INFO: Initializing learning rate scheduler\n",
      "INFO: Initializing early stopping\n",
      "Epoch:  1 [0%] \tLoss: 0.766528\n",
      "Epoch   358: reducing learning rate of group 0 to 1.0000e-03.\n",
      "Epoch: 1000 [20%] \tLoss: 0.122426\n",
      "Epoch: 2000 [40%] \tLoss: 0.119104\n",
      "Epoch  2365: reducing learning rate of group 0 to 1.0000e-04.\n",
      "Epoch  2379: reducing learning rate of group 0 to 1.0000e-05.\n",
      "Epoch  2390: reducing learning rate of group 0 to 1.0000e-06.\n",
      "INFO: Early stopping\n",
      "Potential causes:  [22, 7]\n",
      "Validated causes:  [7]\n",
      "\n",
      " Analysis started for target:  S19\n",
      "INFO: Initializing learning rate scheduler\n",
      "INFO: Initializing early stopping\n",
      "Epoch:  1 [0%] \tLoss: 1.025507\n",
      "Epoch   256: reducing learning rate of group 0 to 1.0000e-03.\n",
      "Epoch: 1000 [20%] \tLoss: 0.226603\n",
      "Epoch: 2000 [40%] \tLoss: 0.219036\n",
      "Epoch  2170: reducing learning rate of group 0 to 1.0000e-04.\n",
      "Epoch  2184: reducing learning rate of group 0 to 1.0000e-05.\n",
      "Epoch  2195: reducing learning rate of group 0 to 1.0000e-06.\n",
      "INFO: Early stopping\n",
      "Potential causes:  [10, 16, 18, 7, 14]\n",
      "Validated causes:  [10]\n",
      "\n",
      " Analysis started for target:  S20\n",
      "INFO: Initializing learning rate scheduler\n",
      "INFO: Initializing early stopping\n",
      "Epoch:  1 [0%] \tLoss: 1.483736\n",
      "Epoch   290: reducing learning rate of group 0 to 1.0000e-03.\n",
      "Epoch: 1000 [20%] \tLoss: 0.192942\n",
      "Epoch: 2000 [40%] \tLoss: 0.154269\n",
      "Epoch  2156: reducing learning rate of group 0 to 1.0000e-04.\n",
      "Epoch: 3000 [60%] \tLoss: 0.147753\n",
      "Epoch: 4000 [80%] \tLoss: 0.145231\n",
      "Epoch: 5000 [100%] \tLoss: 0.142658\n",
      "Potential causes:  [14, 16]\n",
      "Validated causes:  [14, 16]\n",
      "\n",
      " Analysis started for target:  S21\n",
      "INFO: Initializing learning rate scheduler\n",
      "INFO: Initializing early stopping\n",
      "Epoch:  1 [0%] \tLoss: 1.017655\n",
      "Epoch   410: reducing learning rate of group 0 to 1.0000e-03.\n",
      "Epoch   425: reducing learning rate of group 0 to 1.0000e-04.\n",
      "Epoch   436: reducing learning rate of group 0 to 1.0000e-05.\n",
      "Epoch   461: reducing learning rate of group 0 to 1.0000e-06.\n",
      "INFO: Early stopping\n",
      "Potential causes:  [22, 16]\n",
      "Validated causes:  []\n",
      "\n",
      " Analysis started for target:  S22\n",
      "INFO: Initializing learning rate scheduler\n",
      "INFO: Initializing early stopping\n",
      "Epoch:  1 [0%] \tLoss: 1.060837\n",
      "Epoch   219: reducing learning rate of group 0 to 1.0000e-03.\n",
      "Epoch: 1000 [20%] \tLoss: 0.194304\n",
      "Epoch  1604: reducing learning rate of group 0 to 1.0000e-04.\n",
      "Epoch  1618: reducing learning rate of group 0 to 1.0000e-05.\n",
      "Epoch  1629: reducing learning rate of group 0 to 1.0000e-06.\n",
      "Epoch: 2000 [40%] \tLoss: 0.186959\n",
      "INFO: Early stopping\n",
      "Potential causes:  [23, 16, 22, 18, 14]\n",
      "Validated causes:  [22]\n",
      "\n",
      " Analysis started for target:  S23\n",
      "INFO: Initializing learning rate scheduler\n",
      "INFO: Initializing early stopping\n",
      "Epoch:  1 [0%] \tLoss: 0.954173\n",
      "Epoch   322: reducing learning rate of group 0 to 1.0000e-03.\n",
      "Epoch: 1000 [20%] \tLoss: 0.161995\n",
      "Epoch: 2000 [40%] \tLoss: 0.152140\n",
      "Epoch  2002: reducing learning rate of group 0 to 1.0000e-04.\n",
      "Epoch  2022: reducing learning rate of group 0 to 1.0000e-05.\n",
      "Epoch  2033: reducing learning rate of group 0 to 1.0000e-06.\n",
      "INFO: Early stopping\n",
      "Potential causes:  [2, 22, 21, 18, 16]\n",
      "Validated causes:  [2]\n",
      "\n",
      " Analysis started for target:  S24\n",
      "INFO: Initializing learning rate scheduler\n",
      "INFO: Initializing early stopping\n",
      "Epoch:  1 [0%] \tLoss: 1.095335\n",
      "Epoch   378: reducing learning rate of group 0 to 1.0000e-03.\n",
      "Epoch: 1000 [20%] \tLoss: 0.265189\n",
      "Epoch: 2000 [40%] \tLoss: 0.257591\n",
      "Epoch  2296: reducing learning rate of group 0 to 1.0000e-04.\n",
      "Epoch  2309: reducing learning rate of group 0 to 1.0000e-05.\n",
      "Epoch  2320: reducing learning rate of group 0 to 1.0000e-06.\n",
      "INFO: Early stopping\n",
      "Potential causes:  [23, 22]\n",
      "Validated causes:  []\n",
      "\n",
      "===================Results for random-rels_20_1A_returns30007000_header.csv ==================================\n",
      "S16 causes S1 with a delay of 1 time steps.\n",
      "S11 causes S1 with a delay of 1 time steps.\n",
      "S7 causes S2 with a delay of 1 time steps.\n",
      "S2 causes S2 with a delay of 1 time steps.\n",
      "S1 causes S2 with a delay of 1 time steps.\n",
      "S18 causes S3 with a delay of 1 time steps.\n",
      "S7 causes S3 with a delay of 2 time steps.\n",
      "S10 causes S4 with a delay of 3 time steps.\n",
      "S9 causes S4 with a delay of 1 time steps.\n",
      "S19 causes S4 with a delay of 2 time steps.\n",
      "S16 causes S5 with a delay of 1 time steps.\n",
      "S16 causes S8 with a delay of 1 time steps.\n",
      "S10 causes S9 with a delay of 2 time steps.\n",
      "S19 causes S9 with a delay of 1 time steps.\n",
      "S2 causes S13 with a delay of 2 time steps.\n",
      "S23 causes S13 with a delay of 1 time steps.\n",
      "S16 causes S13 with a delay of 2 time steps.\n",
      "S16 causes S14 with a delay of 2 time steps.\n",
      "S5 causes S14 with a delay of 1 time steps.\n",
      "S16 causes S15 with a delay of 2 time steps.\n",
      "S5 causes S15 with a delay of 1 time steps.\n",
      "S2 causes S17 with a delay of 1 time steps.\n",
      "S0 causes S17 with a delay of 1 time steps.\n",
      "S1 causes S17 with a delay of 1 time steps.\n",
      "S11 causes S17 with a delay of 2 time steps.\n",
      "S16 causes S17 with a delay of 2 time steps.\n",
      "S7 causes S18 with a delay of 1 time steps.\n",
      "S10 causes S19 with a delay of 1 time steps.\n",
      "S14 causes S20 with a delay of 1 time steps.\n",
      "S16 causes S20 with a delay of 3 time steps.\n",
      "S22 causes S22 with a delay of 1 time steps.\n",
      "S2 causes S23 with a delay of 1 time steps.\n",
      "\n",
      "===================Evaluation for random-rels_20_1A_returns30007000_header.csv ===============================\n",
      "Total False Positives':  7\n",
      "Total True Positives':  25\n",
      "Total False Negatives:  2\n",
      "Total Direct False Positives:  14\n",
      "Total Direct True Positives:  18\n",
      "TPs':  [(1, 11), (2, 7), (2, 2), (3, 18), (3, 7), (4, 9), (4, 19), (5, 16), (8, 16), (9, 10), (9, 19), (13, 2), (13, 23), (14, 16), (14, 5), (15, 16), (15, 5), (17, 0), (17, 1), (17, 11), (18, 7), (19, 10), (20, 14), (22, 22), (23, 2)]\n",
      "FPs':  [(1, 16), (2, 1), (4, 10), (13, 16), (17, 2), (17, 16), (20, 16)]\n",
      "TPs direct:  [(1, 11), (2, 7), (2, 2), (3, 18), (4, 9), (5, 16), (8, 16), (9, 19), (13, 23), (14, 5), (15, 5), (17, 0), (17, 1), (18, 7), (19, 10), (20, 14), (22, 22), (23, 2)]\n",
      "FPs direct:  [(1, 16), (2, 1), (3, 7), (4, 10), (4, 19), (9, 10), (13, 2), (13, 16), (14, 16), (15, 16), (17, 2), (17, 11), (17, 16), (20, 16)]\n",
      "FNs:  [(1, 7), (20, 1)]\n",
      "Precision':  0.78125\n",
      "Recall':  0.9259259259259259\n",
      "F1' score:  0.847457627118644 (includes direct and indirect causal relationships)\n",
      "Precision:  0.5625\n",
      "Recall:  0.9\n",
      "F1 score:  0.6923076923076923 (includes only direct causal relationships)\n",
      "Percentage of delays that are correctly discovered:  100.0 %\n",
      "==================================================================================\n"
     ]
    }
   ],
   "source": [
    "%matplotlib inline\n",
    "\n",
    "# Run TCDF with a provided dataset of Finance (see https://github.com/M-Nauta/TCDF)\n",
    "\n",
    "%run -i \"runTCDF.py\"  --ground_truth data/random-rels_20_1A_returns30007000_header.csv=data/random-rels_20_1A.csv --learning_rate 0.01 --hidden_layers 1 --epochs 5000 --log_interval 1000 --significance 0.8 --dilation_coefficient 4 --kernel_size 4 --seed 53444"
   ]
  },
  {
   "cell_type": "code",
   "execution_count": null,
   "metadata": {
    "scrolled": true
   },
   "outputs": [
    {
     "name": "stdout",
     "output_type": "stream",
     "text": [
      "Arguments: Namespace(cuda=False, data=['data/random-rels_20_1A_returns30007000_header.csv'], dilation_coefficient=4, early_stopping=True, epochs=2000, hidden_layers=1, kernel_size=4, learning_rate=0.01, log_interval=1000, lr_scheduler=True, optimizer='Adam', plot=False, seed=53444, train_test_split=0.8)\n",
      "\n",
      " Analysis started for target:  S0\n",
      "INFO: Initializing learning rate scheduler\n",
      "INFO: Initializing early stopping\n",
      "Epoch:  1 [0%] \tLoss: 1.095462\n",
      "Epoch   229: reducing learning rate of group 0 to 1.0000e-03.\n",
      "Epoch: 1000 [50%] \tLoss: 0.175130\n",
      "Epoch: 2000 [100%] \tLoss: 0.170345\n",
      "\n",
      " Analysis started for target:  S1\n",
      "INFO: Initializing learning rate scheduler\n",
      "INFO: Initializing early stopping\n",
      "Epoch:  1 [0%] \tLoss: 0.964633\n",
      "Epoch   264: reducing learning rate of group 0 to 1.0000e-03.\n",
      "Epoch: 1000 [50%] \tLoss: 0.147806\n",
      "Epoch: 2000 [100%] \tLoss: 0.136928\n",
      "\n",
      " Analysis started for target:  S2\n",
      "INFO: Initializing learning rate scheduler\n",
      "INFO: Initializing early stopping\n",
      "Epoch:  1 [0%] \tLoss: 0.807908\n",
      "Epoch   368: reducing learning rate of group 0 to 1.0000e-03.\n",
      "Epoch   379: reducing learning rate of group 0 to 1.0000e-04.\n",
      "Epoch   390: reducing learning rate of group 0 to 1.0000e-05.\n",
      "Epoch   401: reducing learning rate of group 0 to 1.0000e-06.\n",
      "INFO: Early stopping\n",
      "\n",
      " Analysis started for target:  S3\n",
      "INFO: Initializing learning rate scheduler\n",
      "INFO: Initializing early stopping\n",
      "Epoch:  1 [0%] \tLoss: 0.599724\n",
      "Epoch   368: reducing learning rate of group 0 to 1.0000e-03.\n",
      "Epoch: 1000 [50%] \tLoss: 0.088695\n",
      "Epoch: 2000 [100%] \tLoss: 0.083958\n",
      "\n",
      " Analysis started for target:  S4\n",
      "INFO: Initializing learning rate scheduler\n",
      "INFO: Initializing early stopping\n",
      "Epoch:  1 [0%] \tLoss: 0.632353\n",
      "Epoch   246: reducing learning rate of group 0 to 1.0000e-03.\n",
      "Epoch: 1000 [50%] \tLoss: 0.114743\n",
      "Epoch  1554: reducing learning rate of group 0 to 1.0000e-04.\n",
      "Epoch  1574: reducing learning rate of group 0 to 1.0000e-05.\n",
      "Epoch  1595: reducing learning rate of group 0 to 1.0000e-06.\n",
      "INFO: Early stopping\n",
      "\n",
      " Analysis started for target:  S5\n",
      "INFO: Initializing learning rate scheduler\n",
      "INFO: Initializing early stopping\n",
      "Epoch:  1 [0%] \tLoss: 1.335602\n",
      "Epoch   295: reducing learning rate of group 0 to 1.0000e-03.\n",
      "Epoch: 1000 [50%] \tLoss: 0.132728\n",
      "Epoch: 2000 [100%] \tLoss: 0.125527\n",
      "\n",
      " Analysis started for target:  S6\n",
      "INFO: Initializing learning rate scheduler\n",
      "INFO: Initializing early stopping\n",
      "Epoch:  1 [0%] \tLoss: 0.809953\n",
      "Epoch   289: reducing learning rate of group 0 to 1.0000e-03.\n"
     ]
    }
   ],
   "source": [
    "# Run TCDF for predictive accuracy\n",
    "\n",
    "%run -i \"evaluate_predictions_TCDF.py\" --data data/random-rels_20_1A_returns30007000_header.csv --learning_rate 0.01 --hidden_layers 1 --epochs 2000 --log_interval 1000 --dilation_coefficient 4 --kernel_size 4 --seed 53444 --train_test_split 0.8"
   ]
  },
  {
   "cell_type": "markdown",
   "metadata": {},
   "source": [
    "#### TCDF Dataset random-rels_20_1A.csv: second run (in triplicate, 0 hidden layers) "
   ]
  },
  {
   "cell_type": "code",
   "execution_count": null,
   "metadata": {
    "scrolled": true
   },
   "outputs": [],
   "source": [
    "%matplotlib inline\n",
    "\n",
    "# Run TCDF with a provided dataset of Finance (see https://github.com/M-Nauta/TCDF)\n",
    "\n",
    "%run -i \"runTCDF.py\"  --ground_truth data/random-rels_20_1A_returns30007000_header.csv=data/random-rels_20_1A.csv --learning_rate 0.01 --hidden_layers 0 --epochs 5000 --log_interval 1000 --significance 0.8 --dilation_coefficient 4 --kernel_size 4 --seed 68519"
   ]
  },
  {
   "cell_type": "code",
   "execution_count": null,
   "metadata": {
    "scrolled": true
   },
   "outputs": [],
   "source": [
    "# Run TCDF for predictive accuracy\n",
    "\n",
    "%run -i \"evaluate_predictions_TCDF.py\" --data data/random-rels_20_1A_returns30007000_header.csv --learning_rate 0.01 --hidden_layers 0 --epochs 2000 --log_interval 1000 --dilation_coefficient 4 --kernel_size 4 --seed 68519 --train_test_split 0.8"
   ]
  },
  {
   "cell_type": "code",
   "execution_count": null,
   "metadata": {
    "scrolled": true
   },
   "outputs": [],
   "source": [
    "%matplotlib inline\n",
    "\n",
    "# Run TCDF with a provided dataset of Finance (see https://github.com/M-Nauta/TCDF)\n",
    "\n",
    "%run -i \"runTCDF.py\"  --ground_truth data/random-rels_20_1A_returns30007000_header.csv=data/random-rels_20_1A.csv --learning_rate 0.01 --hidden_layers 0 --epochs 5000 --log_interval 1000 --significance 0.8 --dilation_coefficient 4 --kernel_size 4 --seed 62626"
   ]
  },
  {
   "cell_type": "code",
   "execution_count": null,
   "metadata": {
    "scrolled": true
   },
   "outputs": [],
   "source": [
    "# Run TCDF for predictive accuracy\n",
    "\n",
    "%run -i \"evaluate_predictions_TCDF.py\" --data data/random-rels_20_1A_returns30007000_header.csv --learning_rate 0.01 --hidden_layers 0 --epochs 2000 --log_interval 1000 --dilation_coefficient 4 --kernel_size 4 --seed 62626 --train_test_split 0.8"
   ]
  },
  {
   "cell_type": "code",
   "execution_count": null,
   "metadata": {
    "scrolled": true
   },
   "outputs": [],
   "source": [
    "%matplotlib inline\n",
    "\n",
    "# Run TCDF with a provided dataset of Finance (see https://github.com/M-Nauta/TCDF)\n",
    "\n",
    "%run -i \"runTCDF.py\"  --ground_truth data/random-rels_20_1A_returns30007000_header.csv=data/random-rels_20_1A.csv --learning_rate 0.01 --hidden_layers 0 --epochs 5000 --log_interval 1000 --significance 0.8 --dilation_coefficient 4 --kernel_size 4 --seed 65119"
   ]
  },
  {
   "cell_type": "code",
   "execution_count": null,
   "metadata": {
    "scrolled": true
   },
   "outputs": [],
   "source": [
    "# Run TCDF for predictive accuracy\n",
    "\n",
    "%run -i \"evaluate_predictions_TCDF.py\" --data data/random-rels_20_1A_returns30007000_header.csv --learning_rate 0.01 --hidden_layers 0 --epochs 2000 --log_interval 1000 --dilation_coefficient 4 --kernel_size 4 --seed 65119 --train_test_split 0.8"
   ]
  },
  {
   "cell_type": "markdown",
   "metadata": {},
   "source": [
    "#### TCDF Dataset random-rels_20_1B.csv: first run (in triplicate, 1 hidden layer) "
   ]
  },
  {
   "cell_type": "code",
   "execution_count": null,
   "metadata": {
    "scrolled": true
   },
   "outputs": [],
   "source": [
    "%matplotlib inline\n",
    "\n",
    "# Run TCDF with a provided dataset of Finance (see https://github.com/M-Nauta/TCDF)\n",
    "\n",
    "%run -i \"runTCDF.py\"  --ground_truth data/random-rels_20_1B_returns30007000_header.csv=data/random-rels_20_1B.csv --learning_rate 0.01 --hidden_layers 1 --epochs 5000 --log_interval 1000 --significance 0.8 --dilation_coefficient 4 --kernel_size 4 --seed 31815"
   ]
  },
  {
   "cell_type": "code",
   "execution_count": null,
   "metadata": {
    "scrolled": true
   },
   "outputs": [],
   "source": [
    "# Run TCDF for predictive accuracy\n",
    "\n",
    "%run -i \"evaluate_predictions_TCDF.py\" --data data/random-rels_20_1B_returns30007000_header.csv --learning_rate 0.01 --hidden_layers 1 --epochs 2000 --log_interval 1000 --dilation_coefficient 4 --kernel_size 4 --seed 31815 --train_test_split 0.8"
   ]
  },
  {
   "cell_type": "code",
   "execution_count": null,
   "metadata": {
    "scrolled": true
   },
   "outputs": [],
   "source": [
    "%matplotlib inline\n",
    "\n",
    "# Run TCDF with a provided dataset of Finance (see https://github.com/M-Nauta/TCDF)\n",
    "\n",
    "%run -i \"runTCDF.py\"  --ground_truth data/random-rels_20_1B_returns30007000_header.csv=data/random-rels_20_1B.csv --learning_rate 0.01 --hidden_layers 1 --epochs 5000 --log_interval 1000 --significance 0.8 --dilation_coefficient 4 --kernel_size 4 --seed 74632"
   ]
  },
  {
   "cell_type": "code",
   "execution_count": null,
   "metadata": {
    "scrolled": true
   },
   "outputs": [],
   "source": [
    "# Run TCDF for predictive accuracy\n",
    "\n",
    "%run -i \"evaluate_predictions_TCDF.py\" --data data/random-rels_20_1B_returns30007000_header.csv --learning_rate 0.01 --hidden_layers 1 --epochs 2000 --log_interval 1000 --dilation_coefficient 4 --kernel_size 4 --seed 74632 --train_test_split 0.8"
   ]
  },
  {
   "cell_type": "code",
   "execution_count": null,
   "metadata": {
    "scrolled": true
   },
   "outputs": [],
   "source": [
    "%matplotlib inline\n",
    "\n",
    "# Run TCDF with a provided dataset of Finance (see https://github.com/M-Nauta/TCDF)\n",
    "\n",
    "%run -i \"runTCDF.py\"  --ground_truth data/random-rels_20_1B_returns30007000_header.csv=data/random-rels_20_1B.csv --learning_rate 0.01 --hidden_layers 1 --epochs 5000 --log_interval 1000 --significance 0.8 --dilation_coefficient 4 --kernel_size 4 --seed 99775"
   ]
  },
  {
   "cell_type": "code",
   "execution_count": null,
   "metadata": {
    "scrolled": true
   },
   "outputs": [],
   "source": [
    "# Run TCDF for predictive accuracy\n",
    "\n",
    "%run -i \"evaluate_predictions_TCDF.py\" --data data/random-rels_20_1B_returns30007000_header.csv --learning_rate 0.01 --hidden_layers 1 --epochs 2000 --log_interval 1000 --dilation_coefficient 4 --kernel_size 4 --seed 99775 --train_test_split 0.8"
   ]
  },
  {
   "cell_type": "markdown",
   "metadata": {},
   "source": [
    "#### TCDF Dataset random-rels_20_1B.csv: second run (in triplicate, 0 hidden layers) "
   ]
  },
  {
   "cell_type": "code",
   "execution_count": null,
   "metadata": {
    "scrolled": true
   },
   "outputs": [],
   "source": [
    "%matplotlib inline\n",
    "\n",
    "# Run TCDF with a provided dataset of Finance (see https://github.com/M-Nauta/TCDF)\n",
    "\n",
    "%run -i \"runTCDF.py\"  --ground_truth data/random-rels_20_1B_returns30007000_header.csv=data/random-rels_20_1B.csv --learning_rate 0.01 --hidden_layers 0 --epochs 5000 --log_interval 1000 --significance 0.8 --dilation_coefficient 4 --kernel_size 4 --seed 14367"
   ]
  },
  {
   "cell_type": "code",
   "execution_count": null,
   "metadata": {
    "scrolled": true
   },
   "outputs": [],
   "source": [
    "# Run TCDF for predictive accuracy\n",
    "\n",
    "%run -i \"evaluate_predictions_TCDF.py\" --data data/random-rels_20_1B_returns30007000_header.csv --learning_rate 0.01 --hidden_layers 0 --epochs 2000 --log_interval 1000 --dilation_coefficient 4 --kernel_size 4 --seed 14367 --train_test_split 0.8"
   ]
  },
  {
   "cell_type": "code",
   "execution_count": null,
   "metadata": {
    "scrolled": true
   },
   "outputs": [],
   "source": [
    "%matplotlib inline\n",
    "\n",
    "# Run TCDF with a provided dataset of Finance (see https://github.com/M-Nauta/TCDF)\n",
    "\n",
    "%run -i \"runTCDF.py\"  --ground_truth data/random-rels_20_1B_returns30007000_header.csv=data/random-rels_20_1B.csv --learning_rate 0.01 --hidden_layers 0 --epochs 5000 --log_interval 1000 --significance 0.8 --dilation_coefficient 4 --kernel_size 4 --seed 555"
   ]
  },
  {
   "cell_type": "code",
   "execution_count": null,
   "metadata": {
    "scrolled": true
   },
   "outputs": [],
   "source": [
    "# Run TCDF for predictive accuracy\n",
    "\n",
    "%run -i \"evaluate_predictions_TCDF.py\" --data data/random-rels_20_1B_returns30007000_header.csv --learning_rate 0.01 --hidden_layers 0 --epochs 2000 --log_interval 1000 --dilation_coefficient 4 --kernel_size 4 --seed 555 --train_test_split 0.8"
   ]
  },
  {
   "cell_type": "code",
   "execution_count": null,
   "metadata": {
    "scrolled": true
   },
   "outputs": [],
   "source": [
    "%matplotlib inline\n",
    "\n",
    "# Run TCDF with a provided dataset of Finance (see https://github.com/M-Nauta/TCDF)\n",
    "\n",
    "%run -i \"runTCDF.py\"  --ground_truth data/random-rels_20_1B_returns30007000_header.csv=data/random-rels_20_1B.csv --learning_rate 0.01 --hidden_layers 0 --epochs 5000 --log_interval 1000 --significance 0.8 --dilation_coefficient 4 --kernel_size 4 --seed 71390"
   ]
  },
  {
   "cell_type": "code",
   "execution_count": null,
   "metadata": {
    "scrolled": true
   },
   "outputs": [],
   "source": [
    "# Run TCDF for predictive accuracy\n",
    "\n",
    "%run -i \"evaluate_predictions_TCDF.py\" --data data/random-rels_20_1B_returns30007000_header.csv --learning_rate 0.01 --hidden_layers 0 --epochs 2000 --log_interval 1000 --dilation_coefficient 4 --kernel_size 4 --seed 71390 --train_test_split 0.8"
   ]
  },
  {
   "cell_type": "markdown",
   "metadata": {},
   "source": [
    "#### TCDF Dataset random-rels_20_1C.csv: first run (in triplicate, 1 hidden layer) "
   ]
  },
  {
   "cell_type": "code",
   "execution_count": null,
   "metadata": {
    "scrolled": true
   },
   "outputs": [],
   "source": [
    "%matplotlib inline\n",
    "\n",
    "# Run TCDF with a provided dataset of Finance (see https://github.com/M-Nauta/TCDF)\n",
    "\n",
    "%run -i \"runTCDF.py\"  --ground_truth data/random-rels_20_1C_returns30007000_header.csv=data/random-rels_20_1C.csv --learning_rate 0.01 --hidden_layers 1 --epochs 5000 --log_interval 1000 --significance 0.8 --dilation_coefficient 4 --kernel_size 4 --seed 31815"
   ]
  },
  {
   "cell_type": "code",
   "execution_count": null,
   "metadata": {
    "scrolled": true
   },
   "outputs": [],
   "source": [
    "# Run TCDF for predictive accuracy\n",
    "\n",
    "%run -i \"evaluate_predictions_TCDF.py\" --data data/random-rels_20_1C_returns30007000_header.csv --learning_rate 0.01 --hidden_layers 1 --epochs 2000 --log_interval 1000 --dilation_coefficient 4 --kernel_size 4 --seed 31815 --train_test_split 0.8"
   ]
  },
  {
   "cell_type": "code",
   "execution_count": null,
   "metadata": {
    "scrolled": true
   },
   "outputs": [],
   "source": [
    "%matplotlib inline\n",
    "\n",
    "# Run TCDF with a provided dataset of Finance (see https://github.com/M-Nauta/TCDF)\n",
    "\n",
    "%run -i \"runTCDF.py\"  --ground_truth data/random-rels_20_1C_returns30007000_header.csv=data/random-rels_20_1C.csv --learning_rate 0.01 --hidden_layers 1 --epochs 5000 --log_interval 1000 --significance 0.8 --dilation_coefficient 4 --kernel_size 4 --seed 74632"
   ]
  },
  {
   "cell_type": "code",
   "execution_count": null,
   "metadata": {
    "scrolled": true
   },
   "outputs": [],
   "source": [
    "# Run TCDF for predictive accuracy\n",
    "\n",
    "%run -i \"evaluate_predictions_TCDF.py\" --data data/random-rels_20_1C_returns30007000_header.csv --learning_rate 0.01 --hidden_layers 1 --epochs 2000 --log_interval 1000 --dilation_coefficient 4 --kernel_size 4 --seed 74632 --train_test_split 0.8"
   ]
  },
  {
   "cell_type": "code",
   "execution_count": null,
   "metadata": {
    "scrolled": true
   },
   "outputs": [],
   "source": [
    "%matplotlib inline\n",
    "\n",
    "# Run TCDF with a provided dataset of Finance (see https://github.com/M-Nauta/TCDF)\n",
    "\n",
    "%run -i \"runTCDF.py\"  --ground_truth data/random-rels_20_1C_returns30007000_header.csv=data/random-rels_20_1C.csv --learning_rate 0.01 --hidden_layers 1 --epochs 5000 --log_interval 1000 --significance 0.8 --dilation_coefficient 4 --kernel_size 4 --seed 99775"
   ]
  },
  {
   "cell_type": "code",
   "execution_count": null,
   "metadata": {
    "scrolled": true
   },
   "outputs": [],
   "source": [
    "# Run TCDF for predictive accuracy\n",
    "\n",
    "%run -i \"evaluate_predictions_TCDF.py\" --data data/random-rels_20_1C_returns30007000_header.csv --learning_rate 0.01 --hidden_layers 1 --epochs 2000 --log_interval 1000 --dilation_coefficient 4 --kernel_size 4 --seed 99775 --train_test_split 0.8"
   ]
  },
  {
   "cell_type": "markdown",
   "metadata": {},
   "source": [
    "#### TCDF Dataset random-rels_20_1C.csv: second run (in triplicate, 0 hidden layers) "
   ]
  },
  {
   "cell_type": "code",
   "execution_count": null,
   "metadata": {
    "scrolled": true
   },
   "outputs": [],
   "source": [
    "%matplotlib inline\n",
    "\n",
    "# Run TCDF with a provided dataset of Finance (see https://github.com/M-Nauta/TCDF)\n",
    "\n",
    "%run -i \"runTCDF.py\"  --ground_truth data/random-rels_20_1C_returns30007000_header.csv=data/random-rels_20_1C.csv --learning_rate 0.01 --hidden_layers 0 --epochs 5000 --log_interval 1000 --significance 0.8 --dilation_coefficient 4 --kernel_size 4 --seed 98545"
   ]
  },
  {
   "cell_type": "code",
   "execution_count": null,
   "metadata": {
    "scrolled": true
   },
   "outputs": [],
   "source": [
    "# Run TCDF for predictive accuracy\n",
    "\n",
    "%run -i \"evaluate_predictions_TCDF.py\" --data data/random-rels_20_1C_returns30007000_header.csv --learning_rate 0.01 --hidden_layers 0 --epochs 2000 --log_interval 1000 --dilation_coefficient 4 --kernel_size 4 --seed 98545 --train_test_split 0.8"
   ]
  },
  {
   "cell_type": "code",
   "execution_count": null,
   "metadata": {
    "scrolled": true
   },
   "outputs": [],
   "source": [
    "%matplotlib inline\n",
    "\n",
    "# Run TCDF with a provided dataset of Finance (see https://github.com/M-Nauta/TCDF)\n",
    "\n",
    "%run -i \"runTCDF.py\"  --ground_truth data/random-rels_20_1C_returns30007000_header.csv=data/random-rels_20_1C.csv --learning_rate 0.01 --hidden_layers 0 --epochs 5000 --log_interval 1000 --significance 0.8 --dilation_coefficient 4 --kernel_size 4 --seed 26393"
   ]
  },
  {
   "cell_type": "code",
   "execution_count": null,
   "metadata": {
    "scrolled": true
   },
   "outputs": [],
   "source": [
    "# Run TCDF for predictive accuracy\n",
    "\n",
    "%run -i \"evaluate_predictions_TCDF.py\" --data data/random-rels_20_1C_returns30007000_header.csv --learning_rate 0.01 --hidden_layers 0 --epochs 2000 --log_interval 1000 --dilation_coefficient 4 --kernel_size 4 --seed 26393 --train_test_split 0.8"
   ]
  },
  {
   "cell_type": "code",
   "execution_count": null,
   "metadata": {
    "scrolled": true
   },
   "outputs": [],
   "source": [
    "%matplotlib inline\n",
    "\n",
    "# Run TCDF with a provided dataset of Finance (see https://github.com/M-Nauta/TCDF)\n",
    "\n",
    "%run -i \"runTCDF.py\"  --ground_truth data/random-rels_20_1C_returns30007000_header.csv=data/random-rels_20_1C.csv --learning_rate 0.01 --hidden_layers 0 --epochs 5000 --log_interval 1000 --significance 0.8 --dilation_coefficient 4 --kernel_size 4 --seed 75253"
   ]
  },
  {
   "cell_type": "code",
   "execution_count": null,
   "metadata": {
    "scrolled": true
   },
   "outputs": [],
   "source": [
    "# Run TCDF for predictive accuracy\n",
    "\n",
    "%run -i \"evaluate_predictions_TCDF.py\" --data data/random-rels_20_1C_returns30007000_header.csv --learning_rate 0.01 --hidden_layers 0 --epochs 2000 --log_interval 1000 --dilation_coefficient 4 --kernel_size 4 --seed 75253 --train_test_split 0.8"
   ]
  },
  {
   "cell_type": "markdown",
   "metadata": {},
   "source": [
    "#### TCDF Dataset random-rels_20_1D.csv: first run (in triplicate, 1 hidden layer) "
   ]
  },
  {
   "cell_type": "code",
   "execution_count": null,
   "metadata": {
    "scrolled": true
   },
   "outputs": [],
   "source": [
    "%matplotlib inline\n",
    "\n",
    "# Run TCDF with a provided dataset of Finance (see https://github.com/M-Nauta/TCDF)\n",
    "\n",
    "%run -i \"runTCDF.py\"  --ground_truth data/random-rels_20_1D_returns30007000_header.csv=data/random-rels_20_1D.csv --learning_rate 0.01 --hidden_layers 1 --epochs 5000 --log_interval 1000 --significance 0.8 --dilation_coefficient 4 --kernel_size 4 --seed 33516"
   ]
  },
  {
   "cell_type": "code",
   "execution_count": null,
   "metadata": {
    "scrolled": true
   },
   "outputs": [],
   "source": [
    "# Run TCDF for predictive accuracy\n",
    "\n",
    "%run -i \"evaluate_predictions_TCDF.py\" --data data/random-rels_20_1D_returns30007000_header.csv --learning_rate 0.01 --hidden_layers 1 --epochs 2000 --log_interval 1000 --dilation_coefficient 4 --kernel_size 4 --seed 33516 --train_test_split 0.8"
   ]
  },
  {
   "cell_type": "code",
   "execution_count": null,
   "metadata": {
    "scrolled": true
   },
   "outputs": [],
   "source": [
    "%matplotlib inline\n",
    "\n",
    "# Run TCDF with a provided dataset of Finance (see https://github.com/M-Nauta/TCDF)\n",
    "\n",
    "%run -i \"runTCDF.py\"  --ground_truth data/random-rels_20_1D_returns30007000_header.csv=data/random-rels_20_1D.csv --learning_rate 0.01 --hidden_layers 1 --epochs 5000 --log_interval 1000 --significance 0.8 --dilation_coefficient 4 --kernel_size 4 --seed 10878"
   ]
  },
  {
   "cell_type": "code",
   "execution_count": null,
   "metadata": {
    "scrolled": true
   },
   "outputs": [],
   "source": [
    "# Run TCDF for predictive accuracy\n",
    "\n",
    "%run -i \"evaluate_predictions_TCDF.py\" --data data/random-rels_20_1D_returns30007000_header.csv --learning_rate 0.01 --hidden_layers 1 --epochs 2000 --log_interval 1000 --dilation_coefficient 4 --kernel_size 4 --seed 10878 --train_test_split 0.8"
   ]
  },
  {
   "cell_type": "code",
   "execution_count": null,
   "metadata": {
    "scrolled": true
   },
   "outputs": [],
   "source": [
    "%matplotlib inline\n",
    "\n",
    "# Run TCDF with a provided dataset of Finance (see https://github.com/M-Nauta/TCDF)\n",
    "\n",
    "%run -i \"runTCDF.py\"  --ground_truth data/random-rels_20_1D_returns30007000_header.csv=data/random-rels_20_1D.csv --learning_rate 0.01 --hidden_layers 1 --epochs 5000 --log_interval 1000 --significance 0.8 --dilation_coefficient 4 --kernel_size 4 --seed 87051"
   ]
  },
  {
   "cell_type": "code",
   "execution_count": null,
   "metadata": {
    "scrolled": true
   },
   "outputs": [],
   "source": [
    "# Run TCDF for predictive accuracy\n",
    "\n",
    "%run -i \"evaluate_predictions_TCDF.py\" --data data/random-rels_20_1D_returns30007000_header.csv --learning_rate 0.01 --hidden_layers 1 --epochs 2000 --log_interval 1000 --dilation_coefficient 4 --kernel_size 4 --seed 87051 --train_test_split 0.8"
   ]
  },
  {
   "cell_type": "markdown",
   "metadata": {},
   "source": [
    "#### TCDF Dataset random-rels_20_1D.csv: second run (in triplicate, 0 hidden layers) "
   ]
  },
  {
   "cell_type": "code",
   "execution_count": null,
   "metadata": {
    "scrolled": true
   },
   "outputs": [],
   "source": [
    "%matplotlib inline\n",
    "\n",
    "# Run TCDF with a provided dataset of Finance (see https://github.com/M-Nauta/TCDF)\n",
    "\n",
    "%run -i \"runTCDF.py\"  --ground_truth data/random-rels_20_1D_returns30007000_header.csv=data/random-rels_20_1D.csv --learning_rate 0.01 --hidden_layers 0 --epochs 5000 --log_interval 1000 --significance 0.8 --dilation_coefficient 4 --kernel_size 4 --seed 9084"
   ]
  },
  {
   "cell_type": "code",
   "execution_count": null,
   "metadata": {
    "scrolled": true
   },
   "outputs": [],
   "source": [
    "# Run TCDF for predictive accuracy\n",
    "\n",
    "%run -i \"evaluate_predictions_TCDF.py\" --data data/random-rels_20_1D_returns30007000_header.csv --learning_rate 0.01 --hidden_layers 0 --epochs 2000 --log_interval 1000 --dilation_coefficient 4 --kernel_size 4 --seed 9084 --train_test_split 0.8"
   ]
  },
  {
   "cell_type": "code",
   "execution_count": null,
   "metadata": {
    "scrolled": true
   },
   "outputs": [],
   "source": [
    "%matplotlib inline\n",
    "\n",
    "# Run TCDF with a provided dataset of Finance (see https://github.com/M-Nauta/TCDF)\n",
    "\n",
    "%run -i \"runTCDF.py\"  --ground_truth data/random-rels_20_1D_returns30007000_header.csv=data/random-rels_20_1D.csv --learning_rate 0.01 --hidden_layers 0 --epochs 5000 --log_interval 1000 --significance 0.8 --dilation_coefficient 4 --kernel_size 4 --seed 83667"
   ]
  },
  {
   "cell_type": "code",
   "execution_count": null,
   "metadata": {
    "scrolled": true
   },
   "outputs": [],
   "source": [
    "# Run TCDF for predictive accuracy\n",
    "\n",
    "%run -i \"evaluate_predictions_TCDF.py\" --data data/random-rels_20_1D_returns30007000_header.csv --learning_rate 0.01 --hidden_layers 0 --epochs 2000 --log_interval 1000 --dilation_coefficient 4 --kernel_size 4 --seed 83667 --train_test_split 0.8"
   ]
  },
  {
   "cell_type": "code",
   "execution_count": null,
   "metadata": {
    "scrolled": true
   },
   "outputs": [],
   "source": [
    "%matplotlib inline\n",
    "\n",
    "# Run TCDF with a provided dataset of Finance (see https://github.com/M-Nauta/TCDF)\n",
    "\n",
    "%run -i \"runTCDF.py\"  --ground_truth data/random-rels_20_1D_returns30007000_header.csv=data/random-rels_20_1D.csv --learning_rate 0.01 --hidden_layers 0 --epochs 5000 --log_interval 1000 --significance 0.8 --dilation_coefficient 4 --kernel_size 4 --seed 75145"
   ]
  },
  {
   "cell_type": "code",
   "execution_count": null,
   "metadata": {
    "scrolled": true
   },
   "outputs": [],
   "source": [
    "# Run TCDF for predictive accuracy\n",
    "\n",
    "%run -i \"evaluate_predictions_TCDF.py\" --data data/random-rels_20_1D_returns30007000_header.csv --learning_rate 0.01 --hidden_layers 0 --epochs 2000 --log_interval 1000 --dilation_coefficient 4 --kernel_size 4 --seed 75145 --train_test_split 0.8"
   ]
  },
  {
   "cell_type": "markdown",
   "metadata": {},
   "source": [
    "#### TCDF Dataset random-rels_20_1E.csv: first run (in triplicate, 1 hidden layer) "
   ]
  },
  {
   "cell_type": "code",
   "execution_count": null,
   "metadata": {
    "scrolled": true
   },
   "outputs": [],
   "source": [
    "%matplotlib inline\n",
    "\n",
    "# Run TCDF with a provided dataset of Finance (see https://github.com/M-Nauta/TCDF)\n",
    "\n",
    "%run -i \"runTCDF.py\"  --ground_truth data/random-rels_20_1E_returns30007000_header.csv=data/random-rels_20_1E.csv --learning_rate 0.01 --hidden_layers 1 --epochs 5000 --log_interval 1000 --significance 0.8 --dilation_coefficient 4 --kernel_size 4 --seed 406"
   ]
  },
  {
   "cell_type": "code",
   "execution_count": null,
   "metadata": {
    "scrolled": true
   },
   "outputs": [],
   "source": [
    "# Run TCDF for predictive accuracy\n",
    "\n",
    "%run -i \"evaluate_predictions_TCDF.py\" --data data/random-rels_20_1E_returns30007000_header.csv --learning_rate 0.01 --hidden_layers 1 --epochs 2000 --log_interval 1000 --dilation_coefficient 4 --kernel_size 4 --seed 406 --train_test_split 0.8"
   ]
  },
  {
   "cell_type": "code",
   "execution_count": null,
   "metadata": {
    "scrolled": true
   },
   "outputs": [],
   "source": [
    "%matplotlib inline\n",
    "\n",
    "# Run TCDF with a provided dataset of Finance (see https://github.com/M-Nauta/TCDF)\n",
    "\n",
    "%run -i \"runTCDF.py\"  --ground_truth data/random-rels_20_1E_returns30007000_header.csv=data/random-rels_20_1E.csv --learning_rate 0.01 --hidden_layers 1 --epochs 5000 --log_interval 1000 --significance 0.8 --dilation_coefficient 4 --kernel_size 4 --seed 25495"
   ]
  },
  {
   "cell_type": "code",
   "execution_count": null,
   "metadata": {
    "scrolled": true
   },
   "outputs": [],
   "source": [
    "# Run TCDF for predictive accuracy\n",
    "\n",
    "%run -i \"evaluate_predictions_TCDF.py\" --data data/random-rels_20_1E_returns30007000_header.csv --learning_rate 0.01 --hidden_layers 1 --epochs 2000 --log_interval 1000 --dilation_coefficient 4 --kernel_size 4 --seed 25495 --train_test_split 0.8"
   ]
  },
  {
   "cell_type": "code",
   "execution_count": null,
   "metadata": {
    "scrolled": true
   },
   "outputs": [],
   "source": [
    "%matplotlib inline\n",
    "\n",
    "# Run TCDF with a provided dataset of Finance (see https://github.com/M-Nauta/TCDF)\n",
    "\n",
    "%run -i \"runTCDF.py\"  --ground_truth data/random-rels_20_1E_returns30007000_header.csv=data/random-rels_20_1E.csv --learning_rate 0.01 --hidden_layers 1 --epochs 5000 --log_interval 1000 --significance 0.8 --dilation_coefficient 4 --kernel_size 4 --seed 96564"
   ]
  },
  {
   "cell_type": "code",
   "execution_count": null,
   "metadata": {
    "scrolled": true
   },
   "outputs": [],
   "source": [
    "# Run TCDF for predictive accuracy\n",
    "\n",
    "%run -i \"evaluate_predictions_TCDF.py\" --data data/random-rels_20_1E_returns30007000_header.csv --learning_rate 0.01 --hidden_layers 1 --epochs 2000 --log_interval 1000 --dilation_coefficient 4 --kernel_size 4 --seed 96564 --train_test_split 0.8"
   ]
  },
  {
   "cell_type": "markdown",
   "metadata": {},
   "source": [
    "#### TCDF Dataset random-rels_20_1E.csv: second run (in triplicate, 0 hidden layers) "
   ]
  },
  {
   "cell_type": "code",
   "execution_count": null,
   "metadata": {
    "scrolled": true
   },
   "outputs": [],
   "source": [
    "%matplotlib inline\n",
    "\n",
    "# Run TCDF with a provided dataset of Finance (see https://github.com/M-Nauta/TCDF)\n",
    "\n",
    "%run -i \"runTCDF.py\"  --ground_truth data/random-rels_20_1E_returns30007000_header.csv=data/random-rels_20_1E.csv --learning_rate 0.01 --hidden_layers 0 --epochs 5000 --log_interval 1000 --significance 0.8 --dilation_coefficient 4 --kernel_size 4 --seed 2324"
   ]
  },
  {
   "cell_type": "code",
   "execution_count": null,
   "metadata": {
    "scrolled": true
   },
   "outputs": [],
   "source": [
    "# Run TCDF for predictive accuracy\n",
    "\n",
    "%run -i \"evaluate_predictions_TCDF.py\" --data data/random-rels_20_1E_returns30007000_header.csv --learning_rate 0.01 --hidden_layers 0 --epochs 2000 --log_interval 1000 --dilation_coefficient 4 --kernel_size 4 --seed 2324 --train_test_split 0.8"
   ]
  },
  {
   "cell_type": "code",
   "execution_count": null,
   "metadata": {
    "scrolled": true
   },
   "outputs": [],
   "source": [
    "%matplotlib inline\n",
    "\n",
    "# Run TCDF with a provided dataset of Finance (see https://github.com/M-Nauta/TCDF)\n",
    "\n",
    "%run -i \"runTCDF.py\"  --ground_truth data/random-rels_20_1E_returns30007000_header.csv=data/random-rels_20_1E.csv --learning_rate 0.01 --hidden_layers 0 --epochs 5000 --log_interval 1000 --significance 0.8 --dilation_coefficient 4 --kernel_size 4 --seed 33030"
   ]
  },
  {
   "cell_type": "code",
   "execution_count": null,
   "metadata": {
    "scrolled": true
   },
   "outputs": [],
   "source": [
    "# Run TCDF for predictive accuracy\n",
    "\n",
    "%run -i \"evaluate_predictions_TCDF.py\" --data data/random-rels_20_1E_returns30007000_header.csv --learning_rate 0.01 --hidden_layers 0 --epochs 2000 --log_interval 1000 --dilation_coefficient 4 --kernel_size 4 --seed 33030 --train_test_split 0.8"
   ]
  },
  {
   "cell_type": "code",
   "execution_count": null,
   "metadata": {
    "scrolled": true
   },
   "outputs": [],
   "source": [
    "%matplotlib inline\n",
    "\n",
    "# Run TCDF with a provided dataset of Finance (see https://github.com/M-Nauta/TCDF)\n",
    "\n",
    "%run -i \"runTCDF.py\"  --ground_truth data/random-rels_20_1E_returns30007000_header.csv=data/random-rels_20_1E.csv --learning_rate 0.01 --hidden_layers 0 --epochs 5000 --log_interval 1000 --significance 0.8 --dilation_coefficient 4 --kernel_size 4 --seed 29838"
   ]
  },
  {
   "cell_type": "code",
   "execution_count": null,
   "metadata": {
    "scrolled": true
   },
   "outputs": [],
   "source": [
    "# Run TCDF for predictive accuracy\n",
    "\n",
    "%run -i \"evaluate_predictions_TCDF.py\" --data data/random-rels_20_1E_returns30007000_header.csv --learning_rate 0.01 --hidden_layers 0 --epochs 2000 --log_interval 1000 --dilation_coefficient 4 --kernel_size 4 --seed 29838 --train_test_split 0.8"
   ]
  },
  {
   "cell_type": "markdown",
   "metadata": {},
   "source": [
    "#### TCDF Dataset random-rels_20_1_3.csv: first run (in triplicate, 1 hidden layer) "
   ]
  },
  {
   "cell_type": "code",
   "execution_count": null,
   "metadata": {
    "scrolled": true
   },
   "outputs": [],
   "source": [
    "%matplotlib inline\n",
    "\n",
    "# Run TCDF with a provided dataset of Finance (see https://github.com/M-Nauta/TCDF)\n",
    "\n",
    "%run -i \"runTCDF.py\"  --ground_truth data/random-rels_20_1_3_returns30007000_header.csv=data/random-rels_20_1_3.csv --learning_rate 0.01 --hidden_layers 1 --epochs 5000 --log_interval 1000 --significance 0.8 --dilation_coefficient 4 --kernel_size 4 --seed 5467"
   ]
  },
  {
   "cell_type": "code",
   "execution_count": null,
   "metadata": {
    "scrolled": true
   },
   "outputs": [],
   "source": [
    "# Run TCDF for predictive accuracy\n",
    "\n",
    "%run -i \"evaluate_predictions_TCDF.py\" --data data/random-rels_20_1_3_returns30007000_header.csv --learning_rate 0.01 --hidden_layers 1 --epochs 2000 --log_interval 1000 --dilation_coefficient 4 --kernel_size 4 --seed 5467 --train_test_split 0.8"
   ]
  },
  {
   "cell_type": "code",
   "execution_count": null,
   "metadata": {
    "scrolled": true
   },
   "outputs": [],
   "source": [
    "%matplotlib inline\n",
    "\n",
    "# Run TCDF with a provided dataset of Finance (see https://github.com/M-Nauta/TCDF)\n",
    "\n",
    "%run -i \"runTCDF.py\"  --ground_truth data/random-rels_20_1_3_returns30007000_header.csv=data/random-rels_20_1_3.csv --learning_rate 0.01 --hidden_layers 1 --epochs 5000 --log_interval 1000 --significance 0.8 --dilation_coefficient 4 --kernel_size 4 --seed 88232"
   ]
  },
  {
   "cell_type": "code",
   "execution_count": null,
   "metadata": {
    "scrolled": true
   },
   "outputs": [],
   "source": [
    "# Run TCDF for predictive accuracy\n",
    "\n",
    "%run -i \"evaluate_predictions_TCDF.py\" --data data/random-rels_20_1_3_returns30007000_header.csv --learning_rate 0.01 --hidden_layers 1 --epochs 2000 --log_interval 1000 --dilation_coefficient 4 --kernel_size 4 --seed 88232 --train_test_split 0.8"
   ]
  },
  {
   "cell_type": "code",
   "execution_count": null,
   "metadata": {
    "scrolled": true
   },
   "outputs": [],
   "source": [
    "%matplotlib inline\n",
    "\n",
    "# Run TCDF with a provided dataset of Finance (see https://github.com/M-Nauta/TCDF)\n",
    "\n",
    "%run -i \"runTCDF.py\"  --ground_truth data/random-rels_20_1_3_returns30007000_header.csv=data/random-rels_20_1_3.csv --learning_rate 0.01 --hidden_layers 1 --epochs 5000 --log_interval 1000 --significance 0.8 --dilation_coefficient 4 --kernel_size 4 --seed 77217"
   ]
  },
  {
   "cell_type": "code",
   "execution_count": null,
   "metadata": {
    "scrolled": true
   },
   "outputs": [],
   "source": [
    "# Run TCDF for predictive accuracy\n",
    "\n",
    "%run -i \"evaluate_predictions_TCDF.py\" --data data/random-rels_20_1_3_returns30007000_header.csv --learning_rate 0.01 --hidden_layers 1 --epochs 2000 --log_interval 1000 --dilation_coefficient 4 --kernel_size 4 --seed 77217 --train_test_split 0.8"
   ]
  },
  {
   "cell_type": "markdown",
   "metadata": {},
   "source": [
    "#### TCDF Dataset random-rels_20_1_3.csv: second run (in triplicate, 0 hidden layers) "
   ]
  },
  {
   "cell_type": "code",
   "execution_count": null,
   "metadata": {
    "scrolled": true
   },
   "outputs": [],
   "source": [
    "%matplotlib inline\n",
    "\n",
    "# Run TCDF with a provided dataset of Finance (see https://github.com/M-Nauta/TCDF)\n",
    "\n",
    "%run -i \"runTCDF.py\"  --ground_truth data/random-rels_20_1_3_returns30007000_header.csv=data/random-rels_20_1_3.csv --learning_rate 0.01 --hidden_layers 0 --epochs 5000 --log_interval 1000 --significance 0.8 --dilation_coefficient 4 --kernel_size 4 --seed 88447"
   ]
  },
  {
   "cell_type": "code",
   "execution_count": null,
   "metadata": {
    "scrolled": true
   },
   "outputs": [],
   "source": [
    "# Run TCDF for predictive accuracy\n",
    "\n",
    "%run -i \"evaluate_predictions_TCDF.py\" --data data/random-rels_20_1_3_returns30007000_header.csv --learning_rate 0.01 --hidden_layers 0 --epochs 2000 --log_interval 1000 --dilation_coefficient 4 --kernel_size 4 --seed 88447 --train_test_split 0.8"
   ]
  },
  {
   "cell_type": "code",
   "execution_count": null,
   "metadata": {
    "scrolled": true
   },
   "outputs": [],
   "source": [
    "%matplotlib inline\n",
    "\n",
    "# Run TCDF with a provided dataset of Finance (see https://github.com/M-Nauta/TCDF)\n",
    "\n",
    "%run -i \"runTCDF.py\"  --ground_truth data/random-rels_20_1_3_returns30007000_header.csv=data/random-rels_20_1_3.csv --learning_rate 0.01 --hidden_layers 0 --epochs 5000 --log_interval 1000 --significance 0.8 --dilation_coefficient 4 --kernel_size 4 --seed 4305"
   ]
  },
  {
   "cell_type": "code",
   "execution_count": null,
   "metadata": {
    "scrolled": true
   },
   "outputs": [],
   "source": [
    "# Run TCDF for predictive accuracy\n",
    "\n",
    "%run -i \"evaluate_predictions_TCDF.py\" --data data/random-rels_20_1_3_returns30007000_header.csv --learning_rate 0.01 --hidden_layers 0 --epochs 2000 --log_interval 1000 --dilation_coefficient 4 --kernel_size 4 --seed 4305 --train_test_split 0.8"
   ]
  },
  {
   "cell_type": "code",
   "execution_count": null,
   "metadata": {
    "scrolled": true
   },
   "outputs": [],
   "source": [
    "%matplotlib inline\n",
    "\n",
    "# Run TCDF with a provided dataset of Finance (see https://github.com/M-Nauta/TCDF)\n",
    "\n",
    "%run -i \"runTCDF.py\"  --ground_truth data/random-rels_20_1_3_returns30007000_header.csv=data/random-rels_20_1_3.csv --learning_rate 0.01 --hidden_layers 0 --epochs 5000 --log_interval 1000 --significance 0.8 --dilation_coefficient 4 --kernel_size 4 --seed 39655"
   ]
  },
  {
   "cell_type": "code",
   "execution_count": null,
   "metadata": {
    "scrolled": true
   },
   "outputs": [],
   "source": [
    "# Run TCDF for predictive accuracy\n",
    "\n",
    "%run -i \"evaluate_predictions_TCDF.py\" --data data/random-rels_20_1_3_returns30007000_header.csv --learning_rate 0.01 --hidden_layers 0 --epochs 2000 --log_interval 1000 --dilation_coefficient 4 --kernel_size 4 --seed 39655 --train_test_split 0.8"
   ]
  },
  {
   "cell_type": "markdown",
   "metadata": {},
   "source": [
    "#### TCDF Dataset random-rels_40_1.csv: first run (in triplicate, 1 hidden layer) "
   ]
  },
  {
   "cell_type": "code",
   "execution_count": null,
   "metadata": {
    "scrolled": true
   },
   "outputs": [],
   "source": [
    "%matplotlib inline\n",
    "\n",
    "# Run TCDF with a provided dataset of Finance (see https://github.com/M-Nauta/TCDF)\n",
    "\n",
    "%run -i \"runTCDF.py\"  --ground_truth data/random-rels_40_1_returns30007000_header.csv=data/random-rels_40_1.csv --learning_rate 0.01 --hidden_layers 1 --epochs 5000 --log_interval 1000 --significance 0.8 --dilation_coefficient 4 --kernel_size 4 --seed 5467"
   ]
  },
  {
   "cell_type": "code",
   "execution_count": null,
   "metadata": {
    "scrolled": true
   },
   "outputs": [],
   "source": [
    "# Run TCDF for predictive accuracy\n",
    "\n",
    "%run -i \"evaluate_predictions_TCDF.py\" --data data/random-rels_40_1_returns30007000_header.csv --learning_rate 0.01 --hidden_layers 1 --epochs 2000 --log_interval 1000 --dilation_coefficient 4 --kernel_size 4 --seed 5467 --train_test_split 0.8"
   ]
  },
  {
   "cell_type": "code",
   "execution_count": null,
   "metadata": {
    "scrolled": true
   },
   "outputs": [],
   "source": [
    "%matplotlib inline\n",
    "\n",
    "# Run TCDF with a provided dataset of Finance (see https://github.com/M-Nauta/TCDF)\n",
    "\n",
    "%run -i \"runTCDF.py\"  --ground_truth data/random-rels_40_1_returns30007000_header.csv=data/random-rels_40_1.csv --learning_rate 0.01 --hidden_layers 1 --epochs 5000 --log_interval 1000 --significance 0.8 --dilation_coefficient 4 --kernel_size 4 --seed 68400"
   ]
  },
  {
   "cell_type": "code",
   "execution_count": null,
   "metadata": {
    "scrolled": true
   },
   "outputs": [],
   "source": [
    "# Run TCDF for predictive accuracy\n",
    "\n",
    "%run -i \"evaluate_predictions_TCDF.py\" --data data/random-rels_40_1_returns30007000_header.csv --learning_rate 0.01 --hidden_layers 1 --epochs 2000 --log_interval 1000 --dilation_coefficient 4 --kernel_size 4 --seed 68400 --train_test_split 0.8"
   ]
  },
  {
   "cell_type": "code",
   "execution_count": null,
   "metadata": {
    "scrolled": true
   },
   "outputs": [],
   "source": [
    "%matplotlib inline\n",
    "\n",
    "# Run TCDF with a provided dataset of Finance (see https://github.com/M-Nauta/TCDF)\n",
    "\n",
    "%run -i \"runTCDF.py\"  --ground_truth data/random-rels_40_1_returns30007000_header.csv=data/random-rels_40_1.csv --learning_rate 0.01 --hidden_layers 1 --epochs 5000 --log_interval 1000 --significance 0.8 --dilation_coefficient 4 --kernel_size 4 --seed 44601"
   ]
  },
  {
   "cell_type": "code",
   "execution_count": null,
   "metadata": {
    "scrolled": true
   },
   "outputs": [],
   "source": [
    "# Run TCDF for predictive accuracy\n",
    "\n",
    "%run -i \"evaluate_predictions_TCDF.py\" --data data/random-rels_40_1_returns30007000_header.csv --learning_rate 0.01 --hidden_layers 1 --epochs 2000 --log_interval 1000 --dilation_coefficient 4 --kernel_size 4 --seed 44601 --train_test_split 0.8"
   ]
  },
  {
   "cell_type": "markdown",
   "metadata": {},
   "source": [
    "#### TCDF Dataset random-rels_40_1.csv: second run (in triplicate, 0 hidden layers) "
   ]
  },
  {
   "cell_type": "code",
   "execution_count": null,
   "metadata": {
    "scrolled": true
   },
   "outputs": [],
   "source": [
    "%matplotlib inline\n",
    "\n",
    "# Run TCDF with a provided dataset of Finance (see https://github.com/M-Nauta/TCDF)\n",
    "\n",
    "%run -i \"runTCDF.py\"  --ground_truth data/random-rels_40_1_returns30007000_header.csv=data/random-rels_40_1.csv --learning_rate 0.01 --hidden_layers 0 --epochs 5000 --log_interval 1000 --significance 0.8 --dilation_coefficient 4 --kernel_size 4 --seed 25356"
   ]
  },
  {
   "cell_type": "code",
   "execution_count": null,
   "metadata": {
    "scrolled": true
   },
   "outputs": [],
   "source": [
    "# Run TCDF for predictive accuracy\n",
    "\n",
    "%run -i \"evaluate_predictions_TCDF.py\" --data data/random-rels_40_1_returns30007000_header.csv --learning_rate 0.01 --hidden_layers 0 --epochs 2000 --log_interval 1000 --dilation_coefficient 4 --kernel_size 4 --seed 25356 --train_test_split 0.8"
   ]
  },
  {
   "cell_type": "code",
   "execution_count": null,
   "metadata": {
    "scrolled": true
   },
   "outputs": [],
   "source": [
    "%matplotlib inline\n",
    "\n",
    "# Run TCDF with a provided dataset of Finance (see https://github.com/M-Nauta/TCDF)\n",
    "\n",
    "%run -i \"runTCDF.py\"  --ground_truth data/random-rels_40_1_returns30007000_header.csv=data/random-rels_40_1.csv --learning_rate 0.01 --hidden_layers 0 --epochs 5000 --log_interval 1000 --significance 0.8 --dilation_coefficient 4 --kernel_size 4 --seed 75370"
   ]
  },
  {
   "cell_type": "code",
   "execution_count": null,
   "metadata": {
    "scrolled": true
   },
   "outputs": [],
   "source": [
    "# Run TCDF for predictive accuracy\n",
    "\n",
    "%run -i \"evaluate_predictions_TCDF.py\" --data data/random-rels_40_1_returns30007000_header.csv --learning_rate 0.01 --hidden_layers 0 --epochs 2000 --log_interval 1000 --dilation_coefficient 4 --kernel_size 4 --seed 75370 --train_test_split 0.8"
   ]
  },
  {
   "cell_type": "code",
   "execution_count": null,
   "metadata": {
    "scrolled": true
   },
   "outputs": [],
   "source": [
    "%matplotlib inline\n",
    "\n",
    "# Run TCDF with a provided dataset of Finance (see https://github.com/M-Nauta/TCDF)\n",
    "\n",
    "%run -i \"runTCDF.py\"  --ground_truth data/random-rels_40_1_returns30007000_header.csv=data/random-rels_40_1.csv --learning_rate 0.01 --hidden_layers 0 --epochs 5000 --log_interval 1000 --significance 0.8 --dilation_coefficient 4 --kernel_size 4 --seed 91996"
   ]
  },
  {
   "cell_type": "code",
   "execution_count": null,
   "metadata": {
    "scrolled": true
   },
   "outputs": [],
   "source": [
    "# Run TCDF for predictive accuracy\n",
    "\n",
    "%run -i \"evaluate_predictions_TCDF.py\" --data data/random-rels_40_1_returns30007000_header.csv --learning_rate 0.01 --hidden_layers 0 --epochs 2000 --log_interval 1000 --dilation_coefficient 4 --kernel_size 4 --seed 91996 --train_test_split 0.8"
   ]
  },
  {
   "cell_type": "markdown",
   "metadata": {},
   "source": [
    "#### TCDF Dataset random-rels_40_1_3.csv: first run (in triplicate, 1 hidden layer) "
   ]
  },
  {
   "cell_type": "code",
   "execution_count": null,
   "metadata": {
    "scrolled": true
   },
   "outputs": [],
   "source": [
    "%matplotlib inline\n",
    "\n",
    "# Run TCDF with a provided dataset of Finance (see https://github.com/M-Nauta/TCDF)\n",
    "\n",
    "%run -i \"runTCDF.py\"  --ground_truth data/random-rels_40_1_3_returns30007000_header.csv=data/random-rels_40_1_3.csv --learning_rate 0.01 --hidden_layers 1 --epochs 5000 --log_interval 1000 --significance 0.8 --dilation_coefficient 4 --kernel_size 4 --seed 5467"
   ]
  },
  {
   "cell_type": "code",
   "execution_count": null,
   "metadata": {
    "scrolled": true
   },
   "outputs": [],
   "source": [
    "# Run TCDF for predictive accuracy\n",
    "\n",
    "%run -i \"evaluate_predictions_TCDF.py\" --data data/random-rels_40_1_3_returns30007000_header.csv --learning_rate 0.01 --hidden_layers 1 --epochs 2000 --log_interval 1000 --dilation_coefficient 4 --kernel_size 4 --seed 5467 --train_test_split 0.8"
   ]
  },
  {
   "cell_type": "code",
   "execution_count": null,
   "metadata": {
    "scrolled": true
   },
   "outputs": [],
   "source": [
    "%matplotlib inline\n",
    "\n",
    "# Run TCDF with a provided dataset of Finance (see https://github.com/M-Nauta/TCDF)\n",
    "\n",
    "%run -i \"runTCDF.py\"  --ground_truth data/random-rels_40_1_3_returns30007000_header.csv=data/random-rels_40_1_3.csv --learning_rate 0.01 --hidden_layers 1 --epochs 5000 --log_interval 1000 --significance 0.8 --dilation_coefficient 4 --kernel_size 4 --seed 68400"
   ]
  },
  {
   "cell_type": "code",
   "execution_count": null,
   "metadata": {
    "scrolled": true
   },
   "outputs": [],
   "source": [
    "# Run TCDF for predictive accuracy\n",
    "\n",
    "%run -i \"evaluate_predictions_TCDF.py\" --data data/random-rels_40_1_3_returns30007000_header.csv --learning_rate 0.01 --hidden_layers 1 --epochs 2000 --log_interval 1000 --dilation_coefficient 4 --kernel_size 4 --seed 68400 --train_test_split 0.8"
   ]
  },
  {
   "cell_type": "code",
   "execution_count": null,
   "metadata": {
    "scrolled": true
   },
   "outputs": [],
   "source": [
    "%matplotlib inline\n",
    "\n",
    "# Run TCDF with a provided dataset of Finance (see https://github.com/M-Nauta/TCDF)\n",
    "\n",
    "%run -i \"runTCDF.py\"  --ground_truth data/random-rels_40_1_3_returns30007000_header.csv=data/random-rels_40_1_3.csv --learning_rate 0.01 --hidden_layers 1 --epochs 5000 --log_interval 1000 --significance 0.8 --dilation_coefficient 4 --kernel_size 4 --seed 44601"
   ]
  },
  {
   "cell_type": "code",
   "execution_count": null,
   "metadata": {
    "scrolled": true
   },
   "outputs": [],
   "source": [
    "# Run TCDF for predictive accuracy\n",
    "\n",
    "%run -i \"evaluate_predictions_TCDF.py\" --data data/random-rels_40_1_3_returns30007000_header.csv --learning_rate 0.01 --hidden_layers 1 --epochs 2000 --log_interval 1000 --dilation_coefficient 4 --kernel_size 4 --seed 44601 --train_test_split 0.8"
   ]
  },
  {
   "cell_type": "markdown",
   "metadata": {},
   "source": [
    "#### TCDF Dataset random-rels_40_1_3.csv: second run (in triplicate, 0 hidden layers) "
   ]
  },
  {
   "cell_type": "code",
   "execution_count": null,
   "metadata": {
    "scrolled": true
   },
   "outputs": [],
   "source": [
    "%matplotlib inline\n",
    "\n",
    "# Run TCDF with a provided dataset of Finance (see https://github.com/M-Nauta/TCDF)\n",
    "\n",
    "%run -i \"runTCDF.py\"  --ground_truth data/random-rels_40_1_3_returns30007000_header.csv=data/random-rels_40_1_3.csv --learning_rate 0.01 --hidden_layers 0 --epochs 5000 --log_interval 1000 --significance 0.8 --dilation_coefficient 4 --kernel_size 4 --seed 25356"
   ]
  },
  {
   "cell_type": "code",
   "execution_count": null,
   "metadata": {
    "scrolled": true
   },
   "outputs": [],
   "source": [
    "# Run TCDF for predictive accuracy\n",
    "\n",
    "%run -i \"evaluate_predictions_TCDF.py\" --data data/random-rels_40_1_3_returns30007000_header.csv --learning_rate 0.01 --hidden_layers 0 --epochs 2000 --log_interval 1000 --dilation_coefficient 4 --kernel_size 4 --seed 25356 --train_test_split 0.8"
   ]
  },
  {
   "cell_type": "code",
   "execution_count": null,
   "metadata": {
    "scrolled": true
   },
   "outputs": [],
   "source": [
    "%matplotlib inline\n",
    "\n",
    "# Run TCDF with a provided dataset of Finance (see https://github.com/M-Nauta/TCDF)\n",
    "\n",
    "%run -i \"runTCDF.py\"  --ground_truth data/random-rels_40_1_3_returns30007000_header.csv=data/random-rels_40_1_3.csv --learning_rate 0.01 --hidden_layers 0 --epochs 5000 --log_interval 1000 --significance 0.8 --dilation_coefficient 4 --kernel_size 4 --seed 75370"
   ]
  },
  {
   "cell_type": "code",
   "execution_count": null,
   "metadata": {
    "scrolled": true
   },
   "outputs": [],
   "source": [
    "# Run TCDF for predictive accuracy\n",
    "\n",
    "%run -i \"evaluate_predictions_TCDF.py\" --data data/random-rels_40_1_3_returns30007000_header.csv --learning_rate 0.01 --hidden_layers 0 --epochs 2000 --log_interval 1000 --dilation_coefficient 4 --kernel_size 4 --seed 75370 --train_test_split 0.8"
   ]
  },
  {
   "cell_type": "code",
   "execution_count": null,
   "metadata": {
    "scrolled": true
   },
   "outputs": [],
   "source": [
    "%matplotlib inline\n",
    "\n",
    "# Run TCDF with a provided dataset of Finance (see https://github.com/M-Nauta/TCDF)\n",
    "\n",
    "%run -i \"runTCDF.py\"  --ground_truth data/random-rels_40_1_3_returns30007000_header.csv=data/random-rels_40_1_3.csv --learning_rate 0.01 --hidden_layers 0 --epochs 5000 --log_interval 1000 --significance 0.8 --dilation_coefficient 4 --kernel_size 4 --seed 91996"
   ]
  },
  {
   "cell_type": "code",
   "execution_count": null,
   "metadata": {
    "scrolled": true
   },
   "outputs": [],
   "source": [
    "# Run TCDF for predictive accuracy\n",
    "\n",
    "%run -i \"evaluate_predictions_TCDF.py\" --data data/random-rels_40_1_3_returns30007000_header.csv --learning_rate 0.01 --hidden_layers 0 --epochs 2000 --log_interval 1000 --dilation_coefficient 4 --kernel_size 4 --seed 91996 --train_test_split 0.8"
   ]
  },
  {
   "cell_type": "code",
   "execution_count": null,
   "metadata": {},
   "outputs": [],
   "source": []
  }
 ],
 "metadata": {
  "kernelspec": {
   "display_name": "Python 3",
   "language": "python",
   "name": "python3"
  },
  "language_info": {
   "codemirror_mode": {
    "name": "ipython",
    "version": 3
   },
   "file_extension": ".py",
   "mimetype": "text/x-python",
   "name": "python",
   "nbconvert_exporter": "python",
   "pygments_lexer": "ipython3",
   "version": "3.8.8"
  }
 },
 "nbformat": 4,
 "nbformat_minor": 4
}
