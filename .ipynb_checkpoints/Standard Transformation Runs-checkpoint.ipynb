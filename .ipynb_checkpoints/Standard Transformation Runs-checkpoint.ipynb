{
 "cells": [
  {
   "cell_type": "markdown",
   "id": "b36a3f2e",
   "metadata": {},
   "source": [
    "## Prologue\n",
    "\n",
    "Run these cells prior to running any cell below, in order for the script and models to function in a proper way."
   ]
  },
  {
   "cell_type": "code",
   "execution_count": null,
   "id": "615a60f9",
   "metadata": {},
   "outputs": [],
   "source": [
    "# Install libraries\n",
    "\n",
    "import os\n",
    "import sys\n",
    "import pandas as pd\n",
    "import numpy as np\n",
    "import math\n",
    "import matplotlib.pyplot as plt\n",
    "import matplotlib.lines as lines\n",
    "\n",
    "from sklearn.preprocessing import MinMaxScaler, PowerTransformer, StandardScaler\n",
    "from IPython.display import display, HTML\n",
    "\n",
    "# Ignore warnings \n",
    "pd.options.mode.chained_assignment = None\n",
    "\n",
    "# Set figure size\n",
    "plt.rcParams['figure.figsize'] = [25, 10]"
   ]
  },
  {
   "cell_type": "code",
   "execution_count": null,
   "id": "5ee76051",
   "metadata": {},
   "outputs": [],
   "source": [
    "# Create universally (i.e. across various operating systems) recognized paths\n",
    "\n",
    "notebook_path = os.path.abspath('Experiments Notebook.ipynb')          # Jupyter notebook path\n",
    "TCDF_path = os.path.join(os.path.dirname(notebook_path), 'TCDF')       # TCDF folder path\n",
    "TCDFdata_path = os.path.join(TCDF_path, 'data')                        # TCDF/data folder path\n",
    "EBT_path = os.path.join(os.path.dirname(notebook_path), 'EBT Data')    # EBT folder path\n",
    "DefaultCod_path = os.path.join(EBT_path, 'Modified Default Cod')       # EBT/Modified Default Cod folder path\n",
    "Cod_path = os.path.join(DefaultCod_path, 'Modified Default.out')       # EBT/Modified Default Cod/Modified Default.out file path"
   ]
  },
  {
   "cell_type": "code",
   "execution_count": null,
   "id": "e934bff9",
   "metadata": {
    "scrolled": true
   },
   "outputs": [],
   "source": [
    "# Install conda- and pip packages in the current Jupyter kernel\n",
    "\n",
    "!conda install -c anaconda tensorflow --y\n",
    "!pip3 install torch torchvision torchaudio\n",
    "!{sys.executable} -m pip install torchvision"
   ]
  },
  {
   "cell_type": "code",
   "execution_count": null,
   "id": "c44d42bf",
   "metadata": {},
   "outputs": [],
   "source": [
    "# Load clean data from EBT tool into DataFrame\n",
    "file_path = os.path.join(TCDFdata_path, 'EBT_dataset.csv')\n",
    "ebt = pd.read_csv(file_path, delimiter = ',', header = 0)\n",
    "\n",
    "# Define labels\n",
    "labels = ['Time (year)',\n",
    "          'Rs', 'Rj', 'Ra',                               # Shared resources biomass\n",
    "          'Sj', 'Sa', 'Sb',                               # Sprat stages biomass\n",
    "          'Cj', 'Ca', 'Cb',                               # Cod stages biomass\n",
    "          'Fc']\n",
    "biomass_labels = ['Rs', 'Rj', 'Ra',                       # Shared resources biomass\n",
    "                  'Sj', 'Sa', 'Sb',                       # Sprat stages biomass\n",
    "                  'Cj', 'Ca', 'Cb',                       # Cod stages biomass\n",
    "                  'Fc']\n",
    "\n",
    "ebt = ebt[labels]"
   ]
  },
  {
   "cell_type": "code",
   "execution_count": null,
   "id": "db290b7c",
   "metadata": {},
   "outputs": [],
   "source": [
    "# Define function for visualisation of scaled data \n",
    "\n",
    "def plot_data(data, years):                      # Add argument 'transformation', for (non)scaling methods\n",
    "    \"\"\"This function plots selected data within given timeframe [years] for the triptrophic community. \n",
    "    Provided data should be a DataFrame with at least columns [Cj, Ca, Cb, Sj, Sa, Sb, Rj, Rs, Ra].\n",
    "    The years argument is given as a list with two numbers between 0 and 100.\"\"\"\n",
    "    \n",
    "    # Select data to be visualized\n",
    "    cod = data[['Cj', 'Ca', 'Cb']]\n",
    "    sprat = data[['Sj', 'Sa', 'Sb']]\n",
    "    resource = data[['Rj', 'Rs', 'Ra']]\n",
    "    data['Time'] = np.linspace(years[0], years[1], len(data))\n",
    "    time = data['Time']\n",
    "\n",
    "    # Set subplot figure defaults\n",
    "    fig, [cod_plt, sprat_plt, resource_plt] = plt.subplots(3, 1, sharex = True)\n",
    "    fig.subplots_adjust(hspace = 0)\n",
    "    fig.suptitle('Cod-sprat-resource dynamics {start}-{stop} years (scaled)'.format(start=years[0],stop=years[1]))\n",
    "\n",
    "    # Set labels for shared x-axis and individual y-axes\n",
    "    cod_plt.set(ylabel = 'Cod biomass')\n",
    "    sprat_plt.set(ylabel = 'Sprat biomass')\n",
    "    resource_plt.set(ylabel = 'Resource biomass')\n",
    "    plt.xlabel('Time (years)')\n",
    "\n",
    "    # Visualize data\n",
    "    cod_plt.plot(time, cod)\n",
    "    sprat_plt.plot(time, sprat)\n",
    "    resource_plt.plot(time, resource)\n",
    "\n",
    "    # Add legends\n",
    "    cod_plt.legend(['Cj', 'Ca', 'Cb'], loc = 'center left')\n",
    "    sprat_plt.legend(['Sj', 'Sa', 'Sb'], loc = 'center left')\n",
    "    resource_plt.legend(['Rj', 'Rs', 'Ra'], loc = 'center left')\n",
    "\n",
    "    # Remove Time column\n",
    "    data.drop(['Time'], axis = 1, inplace = True)"
   ]
  },
  {
   "cell_type": "code",
   "execution_count": null,
   "id": "5f74e9d1",
   "metadata": {},
   "outputs": [],
   "source": [
    "# Define function that preprocesses (i.e. scale min-max) and select data from desired timeframe \n",
    "\n",
    "def select_data(data, start, stop, preprocessor='min-max'):        \n",
    "    \"\"\"This function preprocesses selected data.\n",
    "    Three processing methods can be used (min-max, standard, power transf) - min-max default.\n",
    "    Selection of data timeframe is specified with the [start] and [stop] arguments.\"\"\"\n",
    "\n",
    "    # Select information of datapoints\n",
    "    selected_data = data[(data['Time (year)'] >= start) & (data['Time (year)'] <= stop)]\n",
    "\n",
    "    # Normalize data\n",
    "    # Min-max normalization\n",
    "    if preprocessor == 'min-max':\n",
    "        scaler = MinMaxScaler()\n",
    "    # Power transformer normalization\n",
    "    elif preprocessor == 'power transf':\n",
    "        scaler = PowerTransformer()  \n",
    "    # Standard normalization\n",
    "    elif preprocessor == 'standard':\n",
    "        scaler = StandardScaler()\n",
    "    \n",
    "    scaled = scaler.fit_transform(selected_data[biomass_labels])\n",
    "    \n",
    "    # Write scaled data to DataFrame\n",
    "    processed_data = pd.DataFrame(scaled, columns = biomass_labels)\n",
    "\n",
    "    # Check the scaled DataFrame\n",
    "    display(processed_data.head(-10))\n",
    "    # Plot scaled data \n",
    "    plot_data(processed_data, [start,stop])\n",
    "    \n",
    "    return processed_data"
   ]
  },
  {
   "cell_type": "code",
   "execution_count": null,
   "id": "51dce155",
   "metadata": {},
   "outputs": [],
   "source": [
    "# Define function to plot the model's loss or accuracy (i.e. performance) after running \n",
    "\n",
    "def plot_performance(losses_or_accuracy):\n",
    "    \"\"\"This function plots the losses for each trained variable for the TCDF model.\n",
    "    Takes a dictionary with either losses or accuracy for each variable as input\"\"\"\n",
    "    \n",
    "    # Preallocate plots in subplots\n",
    "    fig, axs = plt.subplots(3, 3, sharex = True)\n",
    "    for ax in axs.flat:\n",
    "        ax.set(xlabel='Epochs', ylabel='Performance measure')\n",
    "\n",
    "    # Iterate over each key in dictionary\n",
    "    keys = list(losses_or_accuracy.keys())\n",
    "    \n",
    "    # Plot every variable in different subplot\n",
    "    axs[0, 0].plot(np.arange(len(losses_or_accuracy[keys[0]])), losses_or_accuracy[keys[0]])\n",
    "    axs[0, 0].set_title('Performance Rs')\n",
    "    axs[0, 1].plot(np.arange(len(losses_or_accuracy[keys[1]])), losses_or_accuracy[keys[1]])\n",
    "    axs[0, 1].set_title('Performance Rj')\n",
    "    axs[0, 2].plot(np.arange(len(losses_or_accuracy[keys[2]])), losses_or_accuracy[keys[2]])\n",
    "    axs[0, 2].set_title('Performance Ra')\n",
    "    axs[1, 0].plot(np.arange(len(losses_or_accuracy[keys[3]])), losses_or_accuracy[keys[3]])\n",
    "    axs[1, 0].set_title('Performance Sj')\n",
    "    axs[1, 1].plot(np.arange(len(losses_or_accuracy[keys[4]])), losses_or_accuracy[keys[4]])\n",
    "    axs[1, 1].set_title('Performance Sa')\n",
    "    axs[1, 2].plot(np.arange(len(losses_or_accuracy[keys[5]])), losses_or_accuracy[keys[5]])\n",
    "    axs[1, 2].set_title('Performance Sb')\n",
    "    axs[2, 0].plot(np.arange(len(losses_or_accuracy[keys[6]])), losses_or_accuracy[keys[6]])\n",
    "    axs[2, 0].set_title('Performance Cj')\n",
    "    axs[2, 1].plot(np.arange(len(losses_or_accuracy[keys[7]])), losses_or_accuracy[keys[7]])\n",
    "    axs[2, 1].set_title('Performance Ca')\n",
    "    axs[2, 2].plot(np.arange(len(losses_or_accuracy[keys[8]])), losses_or_accuracy[keys[8]])\n",
    "    axs[2, 2].set_title('Performance Cb')\n"
   ]
  },
  {
   "cell_type": "code",
   "execution_count": null,
   "id": "94fb520b",
   "metadata": {},
   "outputs": [],
   "source": [
    "# Define function for adding white noise\n",
    "def noise(signal, snr):\n",
    "    \"\"\"This function adds white Gaussian noise to a signal.\n",
    "    Noise is added to existing signal and created by a desired signal-to-noise ratio (SNR).\n",
    "    Function returns the original signal with added noise by the given SNR.\"\"\"\n",
    "\n",
    "    # Set mean noise to 0, indicative for white noise\n",
    "    mean_noise = 0\n",
    "    sample = len(signal)\n",
    "    \n",
    "    # Calculate averages to determine signal power\n",
    "    average_mean = np.mean(signal)\n",
    "    average_snr = (10 * np.log10(average_mean)) - snr    \n",
    "    average_noise = 10 ** (average_snr / 10)\n",
    "\n",
    "    # Generate noisy signal\n",
    "    noise_variation = np.random.normal(mean_noise, np.sqrt(average_noise), sample)\n",
    "    \n",
    "    # Add noise to the original signal\n",
    "    noise_signal = signal + noise_variation\n",
    "    \n",
    "    return noise_signal"
   ]
  },
  {
   "cell_type": "code",
   "execution_count": null,
   "id": "3a73851d",
   "metadata": {
    "scrolled": false
   },
   "outputs": [],
   "source": [
    "# Define function for creating noisy dataset\n",
    "def noisy_data(snr):\n",
    "\n",
    "    # Create dataframe for noisy data\n",
    "    noisy_ebt = pd.DataFrame(ebt)\n",
    "\n",
    "    # Add noise for relevant columns\n",
    "    for col in ebt[biomass_labels]:\n",
    "        noisy_ebt[col] = noise(ebt[col], snr)\n",
    "\n",
    "    # Visualise unscaled and scaled data \n",
    "    plot_data(noisy_ebt, [0,100])\n",
    "    \n",
    "    # Write the final dataset to DataFrame named noisy_ebt\n",
    "    noisy_ebt['Time (year)'] = ebt['Time (year)']\n",
    "    \n",
    "    return noisy_ebt"
   ]
  },
  {
   "cell_type": "code",
   "execution_count": null,
   "id": "572eaabc",
   "metadata": {},
   "outputs": [],
   "source": [
    "# Define needed directory\n",
    "directory = TCDF_path\n",
    "\n",
    "# Check current working directory\n",
    "current_directory = os.getcwd()\n",
    "\n",
    "# Change working directory to perform TCDF\n",
    "if current_directory != directory:\n",
    "    os.chdir(TCDF_path)\n",
    "\n",
    "# Check new current working directory\n",
    "os.getcwd()"
   ]
  },
  {
   "cell_type": "markdown",
   "id": "663c9f84",
   "metadata": {},
   "source": [
    "This part shows the functionality of TCDF.\n",
    "\n",
    "See the corresponding paper for more detail: [\"Causal Discovery with Attention-Based Convolutional Neural Networks\"](https://www.mdpi.com/2504-4990/1/1/19)."
   ]
  },
  {
   "cell_type": "markdown",
   "id": "268ca2ae",
   "metadata": {},
   "source": [
    "# TCDF\n",
    "\n",
    "These next code cells perform the analysis of the (demo) dataset with the TCDF. In the utils.py file you are able to adjust parameters for adaptive learning rate and early stopping. These parameters include type of optimizer (specified in runTCDF.py arguments), number of epochs before adapting learning rate, minimum learning rate, and size of decreasing learning rate factor. For early stopping two parameters are given, the number of epochs before stopping when loss is not improving and the minimum difference in loss improvement."
   ]
  },
  {
   "cell_type": "code",
   "execution_count": null,
   "id": "e85f5270",
   "metadata": {
    "scrolled": false
   },
   "outputs": [],
   "source": [
    "# Show all argument options\n",
    "\n",
    "%run -i \"runTCDF.py\" --help"
   ]
  },
  {
   "cell_type": "markdown",
   "id": "80c4ded5",
   "metadata": {},
   "source": [
    "# Start of Experiments\n",
    "\n",
    "## Standardized Scaling\n",
    "\n",
    "### Signal to Noise ratio 1:0"
   ]
  },
  {
   "cell_type": "markdown",
   "id": "71ab6fca",
   "metadata": {},
   "source": [
    "### TCDF with EBT total dynamics\n",
    "\n",
    "This data represents the tritrophic biomasses including the total dynamics (shift change). The system first is at its equilibrium and remains stable for ~20 years, fishing pressure is introduced and a new equilibrium is to be found (at 70 years it is stable again). Data is split into two 'total dynamics', 0 - 100 years and 20 - 70 years respectively.\n",
    "\n",
    "#### 20 - 70 years"
   ]
  },
  {
   "cell_type": "code",
   "execution_count": null,
   "id": "c45537ef",
   "metadata": {},
   "outputs": [],
   "source": [
    "# Select data between 20 and 70 years\n",
    "ebt_20_70 = select_data(ebt, 20, 70, 'standard')\n",
    "\n",
    "# Create file path for new file\n",
    "EBTScaled_path = os.path.join(TCDFdata_path, 'standard_EBT_20_70_dataset.csv')\n",
    "\n",
    "# Write clean dataframe demo_ebt to a new .csv file\n",
    "ebt_20_70.to_csv(EBTScaled_path, index = False)"
   ]
  },
  {
   "cell_type": "markdown",
   "id": "0e4156dd",
   "metadata": {},
   "source": [
    "#### TCDF 20-70 years: first run (in triplicate)"
   ]
  },
  {
   "cell_type": "code",
   "execution_count": null,
   "id": "448059f5",
   "metadata": {},
   "outputs": [],
   "source": [
    "%matplotlib inline\n",
    "\n",
    "# Run TCDF with the selected total dataset of EBT data\n",
    "\n",
    "%run -i \"runTCDF.py\"  --ground_truth data/standard_EBT_20_70_dataset.csv=data/EBT_demo_groundtruth.csv --learning_rate 0.1 --hidden_layers 3 --epochs 1000 --log_interval 250 --significance 0.9 --dilation_coefficient 3 --kernel_size 3 --seed 5467 --plot\n"
   ]
  },
  {
   "cell_type": "code",
   "execution_count": null,
   "id": "7a704fcf",
   "metadata": {},
   "outputs": [],
   "source": [
    "# Run TCDF for predictive accuracy\n",
    "\n",
    "%run -i \"evaluate_predictions_TCDF.py\" --data data/standard_EBT_20_70_dataset.csv --learning_rate 0.1 --hidden_layers 3 --epochs 1000 --log_interval 250 --dilation_coefficient 3 --kernel_size 3 --seed 5467 --plot --train_test_split 0.5"
   ]
  },
  {
   "cell_type": "code",
   "execution_count": null,
   "id": "4e78ab21",
   "metadata": {},
   "outputs": [],
   "source": [
    "%matplotlib inline\n",
    "\n",
    "# Run TCDF with the selected total dataset of EBT data\n",
    "\n",
    "%run -i \"runTCDF.py\"  --ground_truth data/standard_EBT_20_70_dataset.csv=data/EBT_demo_groundtruth.csv --learning_rate 0.1 --hidden_layers 3 --epochs 1000 --log_interval 250 --significance 0.9 --dilation_coefficient 3 --kernel_size 3 --seed 2371 --plot\n"
   ]
  },
  {
   "cell_type": "code",
   "execution_count": null,
   "id": "7720ca29",
   "metadata": {},
   "outputs": [],
   "source": [
    "# Run TCDF for predictive accuracy\n",
    "\n",
    "%run -i \"evaluate_predictions_TCDF.py\" --data data/standard_EBT_20_70_dataset.csv --learning_rate 0.1 --hidden_layers 3 --epochs 1000 --log_interval 250 --dilation_coefficient 3 --kernel_size 3 --seed 2371 --plot --train_test_split 0.5"
   ]
  },
  {
   "cell_type": "code",
   "execution_count": null,
   "id": "c707b954",
   "metadata": {},
   "outputs": [],
   "source": [
    "%matplotlib inline\n",
    "\n",
    "# Run TCDF with the selected total dataset of EBT data\n",
    "\n",
    "%run -i \"runTCDF.py\"  --ground_truth data/standard_EBT_20_70_dataset.csv=data/EBT_demo_groundtruth.csv --learning_rate 0.1 --hidden_layers 3 --epochs 1000 --log_interval 250 --significance 0.9 --dilation_coefficient 3 --kernel_size 3 --seed 1084 --plot\n"
   ]
  },
  {
   "cell_type": "code",
   "execution_count": null,
   "id": "fe201c12",
   "metadata": {},
   "outputs": [],
   "source": [
    "# Run TCDF for predictive accuracy\n",
    "\n",
    "%run -i \"evaluate_predictions_TCDF.py\" --data data/standard_EBT_20_70_dataset.csv --learning_rate 0.1 --hidden_layers 3 --epochs 1000 --log_interval 250 --dilation_coefficient 3 --kernel_size 3 --seed 1048 --plot --train_test_split 0.5"
   ]
  },
  {
   "cell_type": "code",
   "execution_count": null,
   "id": "1a041161",
   "metadata": {},
   "outputs": [],
   "source": [
    "%matplotlib inline\n",
    "# Set figure size \n",
    "plt.rcParams['figure.figsize'] = [25, 10]\n",
    "\n",
    "# Plot training losses\n",
    "plot_performance(alllosses)"
   ]
  },
  {
   "cell_type": "code",
   "execution_count": null,
   "id": "72de2033",
   "metadata": {},
   "outputs": [],
   "source": [
    "%matplotlib inline\n",
    "# Set figure size \n",
    "plt.rcParams['figure.figsize'] = [25, 10]\n",
    "\n",
    "# Plot accuracy (MASE values)\n",
    "plot_performance(accuracy)"
   ]
  },
  {
   "cell_type": "markdown",
   "id": "90ee94ba",
   "metadata": {},
   "source": [
    "#### TCDF 20-70 years: second run (decreased hidden layers by 1, incremented dilation coefficient and kernel size by 1)"
   ]
  },
  {
   "cell_type": "code",
   "execution_count": null,
   "id": "1d9b95dc",
   "metadata": {},
   "outputs": [],
   "source": [
    "%matplotlib inline\n",
    "\n",
    "# Run TCDF with the selected total dataset of EBT data\n",
    "\n",
    "%run -i \"runTCDF.py\"  --ground_truth data/standard_EBT_20_70_dataset.csv=data/EBT_demo_groundtruth.csv --learning_rate 0.1 --hidden_layers 2 --epochs 2000 --log_interval 250 --significance 0.9 --dilation_coefficient 4 --kernel_size 4 --seed 5467 --plot\n"
   ]
  },
  {
   "cell_type": "code",
   "execution_count": null,
   "id": "47513169",
   "metadata": {},
   "outputs": [],
   "source": [
    "# Run TCDF for predictive accuracy\n",
    "\n",
    "%run -i \"evaluate_predictions_TCDF.py\" --data data/standard_EBT_20_70_dataset.csv --learning_rate 0.1 --hidden_layers 2 --epochs 2000 --log_interval 250 --dilation_coefficient 4 --kernel_size 4 --seed 5467 --plot --train_test_split 0.5"
   ]
  },
  {
   "cell_type": "code",
   "execution_count": null,
   "id": "9875c471",
   "metadata": {},
   "outputs": [],
   "source": [
    "%matplotlib inline\n",
    "\n",
    "# Run TCDF with the selected total dataset of EBT data\n",
    "\n",
    "%run -i \"runTCDF.py\"  --ground_truth data/standard_EBT_20_70_dataset.csv=data/EBT_demo_groundtruth.csv --learning_rate 0.1 --hidden_layers 2 --epochs 2000 --log_interval 250 --significance 0.9 --dilation_coefficient 4 --kernel_size 4 --seed 9238 --plot\n"
   ]
  },
  {
   "cell_type": "code",
   "execution_count": null,
   "id": "6b86b379",
   "metadata": {},
   "outputs": [],
   "source": [
    "# Run TCDF for predictive accuracy\n",
    "\n",
    "%run -i \"evaluate_predictions_TCDF.py\" --data data/standard_EBT_20_70_dataset.csv --learning_rate 0.1 --hidden_layers 2 --epochs 2000 --log_interval 250 --dilation_coefficient 4 --kernel_size 4 --seed 9238 --plot --train_test_split 0.5"
   ]
  },
  {
   "cell_type": "code",
   "execution_count": null,
   "id": "8a5f7178",
   "metadata": {},
   "outputs": [],
   "source": [
    "%matplotlib inline\n",
    "\n",
    "# Run TCDF with the selected total dataset of EBT data\n",
    "\n",
    "%run -i \"runTCDF.py\"  --ground_truth data/standard_EBT_20_70_dataset.csv=data/EBT_demo_groundtruth.csv --learning_rate 0.1 --hidden_layers 2 --epochs 2000 --log_interval 250 --significance 0.9 --dilation_coefficient 4 --kernel_size 4 --seed 157 --plot\n"
   ]
  },
  {
   "cell_type": "code",
   "execution_count": null,
   "id": "574e5f0d",
   "metadata": {},
   "outputs": [],
   "source": [
    "# Run TCDF for predictive accuracy\n",
    "\n",
    "%run -i \"evaluate_predictions_TCDF.py\" --data data/standard_EBT_20_70_dataset.csv --learning_rate 0.1 --hidden_layers 2 --epochs 2000 --log_interval 250 --dilation_coefficient 4 --kernel_size 4 --seed 157 --plot --train_test_split 0.5"
   ]
  },
  {
   "cell_type": "code",
   "execution_count": null,
   "id": "76d45ab4",
   "metadata": {},
   "outputs": [],
   "source": [
    "%matplotlib inline\n",
    "# Set figure size \n",
    "plt.rcParams['figure.figsize'] = [25, 10]\n",
    "\n",
    "# Plot training losses\n",
    "plot_performance(alllosses)"
   ]
  },
  {
   "cell_type": "code",
   "execution_count": null,
   "id": "71e89814",
   "metadata": {},
   "outputs": [],
   "source": [
    "%matplotlib inline\n",
    "# Set figure size \n",
    "plt.rcParams['figure.figsize'] = [25, 10]\n",
    "\n",
    "# Plot accuracy (MASE values)\n",
    "plot_performance(accuracy)"
   ]
  },
  {
   "cell_type": "markdown",
   "id": "cee2932d",
   "metadata": {},
   "source": [
    "#### 0 - 100 years"
   ]
  },
  {
   "cell_type": "code",
   "execution_count": null,
   "id": "58f8c659",
   "metadata": {},
   "outputs": [],
   "source": [
    "# Select data between 0 and 100 years\n",
    "ebt_0_100 = select_data(ebt, 0, 100, 'standard')\n",
    "\n",
    "# Create file path for new file\n",
    "EBTScaled_path = os.path.join(TCDFdata_path, 'standard_EBT_0_100_dataset.csv')\n",
    "\n",
    "# Write clean dataframe demo_ebt to a new .csv file\n",
    "ebt_0_100.to_csv(EBTScaled_path, index = False)"
   ]
  },
  {
   "cell_type": "markdown",
   "id": "8d1b6190",
   "metadata": {},
   "source": [
    "#### TCDF 0-100 years: first run (in triplicate)"
   ]
  },
  {
   "cell_type": "code",
   "execution_count": null,
   "id": "b4207c52",
   "metadata": {},
   "outputs": [],
   "source": [
    "%matplotlib inline\n",
    "\n",
    "# Run TCDF with the selected total dataset of EBT data\n",
    "\n",
    "%run -i \"runTCDF.py\"  --ground_truth data/standard_EBT_0_100_dataset.csv=data/EBT_demo_groundtruth.csv --learning_rate 0.1 --hidden_layers 2 --epochs 2000 --log_interval 250 --significance 0.9 --dilation_coefficient 4 --kernel_size 4 --seed 37519 --plot"
   ]
  },
  {
   "cell_type": "code",
   "execution_count": null,
   "id": "c98fe48f",
   "metadata": {},
   "outputs": [],
   "source": [
    "# Run TCDF for predictive accuracy\n",
    "\n",
    "%run -i \"evaluate_predictions_TCDF.py\" --data data/standard_EBT_0_100_dataset.csv --learning_rate 0.1 --hidden_layers 2 --epochs 2000 --log_interval 250 --dilation_coefficient 4 --kernel_size 4 --seed 37519 --plot --train_test_split 0.4"
   ]
  },
  {
   "cell_type": "code",
   "execution_count": null,
   "id": "e215602c",
   "metadata": {},
   "outputs": [],
   "source": [
    "%matplotlib inline\n",
    "# Set figure size \n",
    "plt.rcParams['figure.figsize'] = [25, 10]\n",
    "\n",
    "# Plot training losses\n",
    "plot_performance(alllosses)"
   ]
  },
  {
   "cell_type": "code",
   "execution_count": null,
   "id": "b739e187",
   "metadata": {},
   "outputs": [],
   "source": [
    "%matplotlib inline\n",
    "# Set figure size \n",
    "plt.rcParams['figure.figsize'] = [25, 10]\n",
    "\n",
    "# Plot training losses\n",
    "plot_performance(accuracy)"
   ]
  },
  {
   "cell_type": "code",
   "execution_count": null,
   "id": "82979d34",
   "metadata": {},
   "outputs": [],
   "source": [
    "%matplotlib inline\n",
    "\n",
    "# Run TCDF with the selected total dataset of EBT data\n",
    "\n",
    "%run -i \"runTCDF.py\"  --ground_truth data/standard_EBT_0_100_dataset.csv=data/EBT_demo_groundtruth.csv --learning_rate 0.1 --hidden_layers 2 --epochs 2000 --log_interval 250 --significance 0.9 --dilation_coefficient 4 --kernel_size 4 --seed 15787 --plot"
   ]
  },
  {
   "cell_type": "code",
   "execution_count": null,
   "id": "5b20af0a",
   "metadata": {},
   "outputs": [],
   "source": [
    "# Run TCDF for predictive accuracy\n",
    "\n",
    "%run -i \"evaluate_predictions_TCDF.py\" --data data/standard_EBT_0_100_dataset.csv --learning_rate 0.1 --hidden_layers 2 --epochs 2000 --log_interval 250 --dilation_coefficient 4 --kernel_size 4 --seed 15787 --plot --train_test_split 0.4"
   ]
  },
  {
   "cell_type": "code",
   "execution_count": null,
   "id": "eb016209",
   "metadata": {},
   "outputs": [],
   "source": [
    "%matplotlib inline\n",
    "# Set figure size \n",
    "plt.rcParams['figure.figsize'] = [25, 10]\n",
    "\n",
    "# Plot training losses\n",
    "plot_performance(alllosses)"
   ]
  },
  {
   "cell_type": "code",
   "execution_count": null,
   "id": "69237e78",
   "metadata": {},
   "outputs": [],
   "source": [
    "%matplotlib inline\n",
    "# Set figure size \n",
    "plt.rcParams['figure.figsize'] = [25, 10]\n",
    "\n",
    "# Plot training losses\n",
    "plot_performance(accuracy)"
   ]
  },
  {
   "cell_type": "code",
   "execution_count": null,
   "id": "5d3a0c03",
   "metadata": {},
   "outputs": [],
   "source": [
    "%matplotlib inline\n",
    "\n",
    "# Run TCDF with the selected total dataset of EBT data\n",
    "\n",
    "%run -i \"runTCDF.py\"  --ground_truth data/standard_EBT_0_100_dataset.csv=data/EBT_demo_groundtruth.csv --learning_rate 0.1 --hidden_layers 2 --epochs 2000 --log_interval 250 --significance 0.9 --dilation_coefficient 4 --kernel_size 4 --seed 74326 --plot"
   ]
  },
  {
   "cell_type": "code",
   "execution_count": null,
   "id": "67b0c391",
   "metadata": {},
   "outputs": [],
   "source": [
    "# Run TCDF for predictive accuracy\n",
    "\n",
    "%run -i \"evaluate_predictions_TCDF.py\" --data data/standard_EBT_0_100_dataset.csv --learning_rate 0.1 --hidden_layers 2 --epochs 2000 --log_interval 250 --dilation_coefficient 4 --kernel_size 4 --seed 74326 --plot --train_test_split 0.4"
   ]
  },
  {
   "cell_type": "code",
   "execution_count": null,
   "id": "add218d8",
   "metadata": {},
   "outputs": [],
   "source": [
    "%matplotlib inline\n",
    "# Set figure size \n",
    "plt.rcParams['figure.figsize'] = [25, 10]\n",
    "\n",
    "# Plot training losses\n",
    "plot_performance(alllosses)"
   ]
  },
  {
   "cell_type": "code",
   "execution_count": null,
   "id": "285070fb",
   "metadata": {},
   "outputs": [],
   "source": [
    "%matplotlib inline\n",
    "# Set figure size \n",
    "plt.rcParams['figure.figsize'] = [25, 10]\n",
    "\n",
    "# Plot training losses\n",
    "plot_performance(accuracy)"
   ]
  },
  {
   "cell_type": "markdown",
   "id": "7929c265",
   "metadata": {},
   "source": [
    "#### TCDF 0-100 years: second run (increased hidden layers by 1, decreased dilation coefficient and kernel size by 1)"
   ]
  },
  {
   "cell_type": "code",
   "execution_count": null,
   "id": "2f3036d2",
   "metadata": {},
   "outputs": [],
   "source": [
    "%matplotlib inline\n",
    "\n",
    "# Run TCDF with the selected total dataset of EBT data\n",
    "\n",
    "%run -i \"runTCDF.py\"  --ground_truth data/standard_EBT_0_100_dataset.csv=data/EBT_demo_groundtruth.csv --learning_rate 0.1 --hidden_layers 3 --epochs 2000 --log_interval 250 --significance 0.9 --dilation_coefficient 3 --kernel_size 3 --seed 1111 --plot"
   ]
  },
  {
   "cell_type": "code",
   "execution_count": null,
   "id": "115740db",
   "metadata": {},
   "outputs": [],
   "source": [
    "# Run TCDF for predictive accuracy\n",
    "\n",
    "%run -i \"evaluate_predictions_TCDF.py\" --data data/standard_EBT_0_100_dataset.csv --learning_rate 0.1 --hidden_layers 3 --epochs 2000 --log_interval 250 --dilation_coefficient 3 --kernel_size 3 --seed 1111 --plot --train_test_split 0.4"
   ]
  },
  {
   "cell_type": "code",
   "execution_count": null,
   "id": "b7e8f31e",
   "metadata": {},
   "outputs": [],
   "source": [
    "%matplotlib inline\n",
    "# Set figure size \n",
    "plt.rcParams['figure.figsize'] = [25, 10]\n",
    "\n",
    "# Plot training losses\n",
    "plot_performance(alllosses)"
   ]
  },
  {
   "cell_type": "code",
   "execution_count": null,
   "id": "21e87e2e",
   "metadata": {},
   "outputs": [],
   "source": [
    "%matplotlib inline\n",
    "# Set figure size \n",
    "plt.rcParams['figure.figsize'] = [25, 10]\n",
    "\n",
    "# Plot training losses\n",
    "plot_performance(accuracy)"
   ]
  },
  {
   "cell_type": "code",
   "execution_count": null,
   "id": "57097512",
   "metadata": {},
   "outputs": [],
   "source": [
    "%matplotlib inline\n",
    "\n",
    "# Run TCDF with the selected total dataset of EBT data\n",
    "\n",
    "%run -i \"runTCDF.py\"  --ground_truth data/standard_EBT_0_100_dataset.csv=data/EBT_demo_groundtruth.csv --learning_rate 0.1 --hidden_layers 3 --epochs 2000 --log_interval 250 --significance 0.9 --dilation_coefficient 3 --kernel_size 3 --seed 18040 --plot"
   ]
  },
  {
   "cell_type": "code",
   "execution_count": null,
   "id": "143fa52f",
   "metadata": {},
   "outputs": [],
   "source": [
    "# Run TCDF for predictive accuracy\n",
    "\n",
    "%run -i \"evaluate_predictions_TCDF.py\" --data data/standard_EBT_0_100_dataset.csv --learning_rate 0.1 --hidden_layers 3 --epochs 2000 --log_interval 250 --dilation_coefficient 3 --kernel_size 3 --seed 18040 --plot --train_test_split 0.4"
   ]
  },
  {
   "cell_type": "code",
   "execution_count": null,
   "id": "02bcbd75",
   "metadata": {},
   "outputs": [],
   "source": [
    "%matplotlib inline\n",
    "# Set figure size \n",
    "plt.rcParams['figure.figsize'] = [25, 10]\n",
    "\n",
    "# Plot training losses\n",
    "plot_performance(alllosses)"
   ]
  },
  {
   "cell_type": "code",
   "execution_count": null,
   "id": "b6c128eb",
   "metadata": {},
   "outputs": [],
   "source": [
    "%matplotlib inline\n",
    "# Set figure size \n",
    "plt.rcParams['figure.figsize'] = [25, 10]\n",
    "\n",
    "# Plot training losses\n",
    "plot_performance(accuracy)"
   ]
  },
  {
   "cell_type": "code",
   "execution_count": null,
   "id": "cda65a28",
   "metadata": {},
   "outputs": [],
   "source": [
    "%matplotlib inline\n",
    "\n",
    "# Run TCDF with the selected total dataset of EBT data\n",
    "\n",
    "%run -i \"runTCDF.py\"  --ground_truth data/standard_EBT_0_100_dataset.csv=data/EBT_demo_groundtruth.csv --learning_rate 0.1 --hidden_layers 3 --epochs 2000 --log_interval 250 --significance 0.9 --dilation_coefficient 3 --kernel_size 3 --seed 86547 --plot"
   ]
  },
  {
   "cell_type": "code",
   "execution_count": null,
   "id": "f4114b54",
   "metadata": {},
   "outputs": [],
   "source": [
    "# Run TCDF for predictive accuracy\n",
    "\n",
    "%run -i \"evaluate_predictions_TCDF.py\" --data data/standard_EBT_0_100_dataset.csv --learning_rate 0.1 --hidden_layers 3 --epochs 2000 --log_interval 250 --dilation_coefficient 3 --kernel_size 3 --seed 86547 --plot --train_test_split 0.4"
   ]
  },
  {
   "cell_type": "code",
   "execution_count": null,
   "id": "1462e66e",
   "metadata": {},
   "outputs": [],
   "source": [
    "%matplotlib inline\n",
    "# Set figure size \n",
    "plt.rcParams['figure.figsize'] = [25, 10]\n",
    "\n",
    "# Plot training losses\n",
    "plot_performance(alllosses)"
   ]
  },
  {
   "cell_type": "code",
   "execution_count": null,
   "id": "cc8a762e",
   "metadata": {},
   "outputs": [],
   "source": [
    "%matplotlib inline\n",
    "# Set figure size \n",
    "plt.rcParams['figure.figsize'] = [25, 10]\n",
    "\n",
    "# Plot training losses\n",
    "plot_performance(accuracy)"
   ]
  },
  {
   "cell_type": "markdown",
   "id": "94023d93",
   "metadata": {},
   "source": [
    "### TCDF with EBT equilibrium dynamics\n",
    "\n",
    "This data represents the tritrophic biomasses before the introduced fishing pressure on cod. The system first finds it equilibrium and remains stable for ~20 years. Therefore, no relations should be found by the machine learning model.\n",
    "\n",
    "#### 0 - 20 years"
   ]
  },
  {
   "cell_type": "code",
   "execution_count": null,
   "id": "9f72979f",
   "metadata": {},
   "outputs": [],
   "source": [
    "# Select data between 0 and 20 years\n",
    "ebt_0_20 = select_data(ebt, 0, 20, 'standard')\n",
    "\n",
    "# Create file path for new file\n",
    "EBTScaled_path = os.path.join(TCDFdata_path, 'standard_EBT_0_20_dataset.csv')\n",
    "\n",
    "# Write clean dataframe demo_ebt to a new .csv file\n",
    "ebt_0_20.to_csv(EBTScaled_path, index = False)"
   ]
  },
  {
   "cell_type": "markdown",
   "id": "63e6f5d0",
   "metadata": {},
   "source": [
    "#### TCDF 0 - 20 years: first run (in triplicate)"
   ]
  },
  {
   "cell_type": "code",
   "execution_count": null,
   "id": "fb14050c",
   "metadata": {},
   "outputs": [],
   "source": [
    "%matplotlib inline\n",
    "\n",
    "# Run TCDF with the selected equilibrium dataset of EBT data\n",
    "\n",
    "%run -i \"runTCDF.py\"  --ground_truth data/standard_EBT_0_20_dataset.csv=data/EBT_demo_groundtruth.csv --learning_rate 0.1 --hidden_layers 2 --epochs 2000 --log_interval 250 --significance 0.9 --dilation_coefficient 4 --kernel_size 4 --seed 37519 --plot"
   ]
  },
  {
   "cell_type": "code",
   "execution_count": null,
   "id": "a48372ed",
   "metadata": {},
   "outputs": [],
   "source": [
    "# Run TCDF for predictive accuracy\n",
    "\n",
    "%run -i \"evaluate_predictions_TCDF.py\" --data data/standard_standard_EBT_0_20_dataset.csv --learning_rate 0.1 --hidden_layers 2 --epochs 2000 --log_interval 250 --dilation_coefficient 4 --kernel_size 4 --seed 37519 --plot --train_test_split 0.8"
   ]
  },
  {
   "cell_type": "code",
   "execution_count": null,
   "id": "38434c67",
   "metadata": {},
   "outputs": [],
   "source": [
    "%matplotlib inline\n",
    "# Set figure size \n",
    "plt.rcParams['figure.figsize'] = [25, 10]\n",
    "\n",
    "# Plot training losses\n",
    "plot_performance(alllosses)"
   ]
  },
  {
   "cell_type": "code",
   "execution_count": null,
   "id": "2717ed5e",
   "metadata": {},
   "outputs": [],
   "source": [
    "%matplotlib inline\n",
    "# Set figure size \n",
    "plt.rcParams['figure.figsize'] = [25, 10]\n",
    "\n",
    "# Plot accuracy (MASE values)\n",
    "plot_performance(accuracy)"
   ]
  },
  {
   "cell_type": "code",
   "execution_count": null,
   "id": "3ec0cc46",
   "metadata": {},
   "outputs": [],
   "source": [
    "%matplotlib inline\n",
    "\n",
    "# Run TCDF with the selected equilibrium dataset of EBT data\n",
    "\n",
    "%run -i \"runTCDF.py\"  --ground_truth data/standard_EBT_0_20_dataset.csv=data/EBT_demo_groundtruth.csv --learning_rate 0.1 --hidden_layers 2 --epochs 2000 --log_interval 250 --significance 0.9 --dilation_coefficient 4 --kernel_size 4 --seed 49741 --plot"
   ]
  },
  {
   "cell_type": "code",
   "execution_count": null,
   "id": "ef880df7",
   "metadata": {},
   "outputs": [],
   "source": [
    "# Run TCDF for predictive accuracy\n",
    "\n",
    "%run -i \"evaluate_predictions_TCDF.py\" --data data/standard_EBT_0_20_dataset.csv --learning_rate 0.1 --hidden_layers 2 --epochs 2000 --log_interval 250 --dilation_coefficient 4 --kernel_size 4 --seed 49741 --plot --train_test_split 0.8"
   ]
  },
  {
   "cell_type": "code",
   "execution_count": null,
   "id": "344768e3",
   "metadata": {},
   "outputs": [],
   "source": [
    "%matplotlib inline\n",
    "# Set figure size \n",
    "plt.rcParams['figure.figsize'] = [25, 10]\n",
    "\n",
    "# Plot training losses\n",
    "plot_performance(alllosses)"
   ]
  },
  {
   "cell_type": "code",
   "execution_count": null,
   "id": "97d0018d",
   "metadata": {},
   "outputs": [],
   "source": [
    "%matplotlib inline\n",
    "# Set figure size \n",
    "plt.rcParams['figure.figsize'] = [25, 10]\n",
    "\n",
    "# Plot accuracy (MASE values)\n",
    "plot_performance(accuracy)"
   ]
  },
  {
   "cell_type": "code",
   "execution_count": null,
   "id": "20430ac8",
   "metadata": {},
   "outputs": [],
   "source": [
    "%matplotlib inline\n",
    "\n",
    "# Run TCDF with the selected equilibrium dataset of EBT data\n",
    "\n",
    "%run -i \"runTCDF.py\"  --ground_truth data/standard_EBT_0_20_dataset.csv=data/EBT_demo_groundtruth.csv --learning_rate 0.1 --hidden_layers 2 --epochs 2000 --log_interval 250 --significance 0.9 --dilation_coefficient 4 --kernel_size 4 --seed 37786 --plot"
   ]
  },
  {
   "cell_type": "code",
   "execution_count": null,
   "id": "7d0cc2b1",
   "metadata": {},
   "outputs": [],
   "source": [
    "# Run TCDF for predictive accuracy\n",
    "\n",
    "%run -i \"evaluate_predictions_TCDF.py\" --data data/standard_EBT_0_20_dataset.csv --learning_rate 0.1 --hidden_layers 2 --epochs 2000 --log_interval 250 --dilation_coefficient 4 --kernel_size 4 --seed 37786 --plot --train_test_split 0.8"
   ]
  },
  {
   "cell_type": "code",
   "execution_count": null,
   "id": "20eae895",
   "metadata": {},
   "outputs": [],
   "source": [
    "%matplotlib inline\n",
    "# Set figure size \n",
    "plt.rcParams['figure.figsize'] = [25, 10]\n",
    "\n",
    "# Plot training losses\n",
    "plot_performance(alllosses)"
   ]
  },
  {
   "cell_type": "code",
   "execution_count": null,
   "id": "84c2782d",
   "metadata": {},
   "outputs": [],
   "source": [
    "%matplotlib inline\n",
    "# Set figure size \n",
    "plt.rcParams['figure.figsize'] = [25, 10]\n",
    "\n",
    "# Plot accuracy (MASE values)\n",
    "plot_performance(accuracy)"
   ]
  },
  {
   "cell_type": "markdown",
   "id": "6350b8d7",
   "metadata": {},
   "source": [
    "#### TCDF 0-20 years: second run (increased hidden layers by 1, decreased dilation coefficient and kernel size by 1)"
   ]
  },
  {
   "cell_type": "code",
   "execution_count": null,
   "id": "854039a0",
   "metadata": {},
   "outputs": [],
   "source": [
    "%matplotlib inline\n",
    "\n",
    "# Run TCDF with the selected equilibrium dataset of EBT data\n",
    "\n",
    "%run -i \"runTCDF.py\"  --ground_truth data/standard_EBT_0_20_dataset.csv=data/EBT_demo_groundtruth.csv --learning_rate 0.1 --hidden_layers 3 --epochs 2000 --log_interval 250 --significance 0.9 --dilation_coefficient 3 --kernel_size 3 --seed 94139 --plot\n"
   ]
  },
  {
   "cell_type": "code",
   "execution_count": null,
   "id": "e9b7b6fa",
   "metadata": {},
   "outputs": [],
   "source": [
    "# Run TCDF for predictive accuracy\n",
    "\n",
    "%run -i \"evaluate_predictions_TCDF.py\" --data data/standard_EBT_0_20_dataset.csv --learning_rate 0.1 --hidden_layers 3 --epochs 2000 --log_interval 250 --dilation_coefficient 3 --kernel_size 3 --seed 94139 --plot --train_test_split 0.8"
   ]
  },
  {
   "cell_type": "code",
   "execution_count": null,
   "id": "2ad6ebbd",
   "metadata": {},
   "outputs": [],
   "source": [
    "%matplotlib inline\n",
    "# Set figure size \n",
    "plt.rcParams['figure.figsize'] = [25, 10]\n",
    "\n",
    "# Plot training losses\n",
    "plot_performance(alllosses)"
   ]
  },
  {
   "cell_type": "code",
   "execution_count": null,
   "id": "b9f985ae",
   "metadata": {},
   "outputs": [],
   "source": [
    "%matplotlib inline\n",
    "# Set figure size \n",
    "plt.rcParams['figure.figsize'] = [25, 10]\n",
    "\n",
    "# Plot accuracy (MASE values)\n",
    "plot_performance(accuracy)"
   ]
  },
  {
   "cell_type": "code",
   "execution_count": null,
   "id": "b20a4a8d",
   "metadata": {},
   "outputs": [],
   "source": [
    "%matplotlib inline\n",
    "\n",
    "# Run TCDF with the selected equilibrium dataset of EBT data\n",
    "\n",
    "%run -i \"runTCDF.py\"  --ground_truth data/standard_EBT_0_20_dataset.csv=data/EBT_demo_groundtruth.csv --learning_rate 0.1 --hidden_layers 3 --epochs 2000 --log_interval 250 --significance 0.9 --dilation_coefficient 3 --kernel_size 3 --seed 18147 --plot\n"
   ]
  },
  {
   "cell_type": "code",
   "execution_count": null,
   "id": "3695f60b",
   "metadata": {},
   "outputs": [],
   "source": [
    "# Run TCDF for predictive accuracy\n",
    "\n",
    "%run -i \"evaluate_predictions_TCDF.py\" --data data/standard_EBT_0_20_dataset.csv --learning_rate 0.1 --hidden_layers 3 --epochs 2000 --log_interval 250 --dilation_coefficient 3 --kernel_size 3 --seed 18147 --plot --train_test_split 0.8"
   ]
  },
  {
   "cell_type": "code",
   "execution_count": null,
   "id": "3b526e7b",
   "metadata": {},
   "outputs": [],
   "source": [
    "%matplotlib inline\n",
    "# Set figure size \n",
    "plt.rcParams['figure.figsize'] = [25, 10]\n",
    "\n",
    "# Plot training losses\n",
    "plot_performance(alllosses)"
   ]
  },
  {
   "cell_type": "code",
   "execution_count": null,
   "id": "9ab44864",
   "metadata": {},
   "outputs": [],
   "source": [
    "%matplotlib inline\n",
    "# Set figure size \n",
    "plt.rcParams['figure.figsize'] = [25, 10]\n",
    "\n",
    "# Plot accuracy (MASE values)\n",
    "plot_performance(accuracy)"
   ]
  },
  {
   "cell_type": "code",
   "execution_count": null,
   "id": "0c013c50",
   "metadata": {},
   "outputs": [],
   "source": [
    "%matplotlib inline\n",
    "\n",
    "# Run TCDF with the selected equilibrium dataset of EBT data\n",
    "\n",
    "%run -i \"runTCDF.py\"  --ground_truth data/standard_EBT_0_20_dataset.csv=data/EBT_demo_groundtruth.csv --learning_rate 0.1 --hidden_layers 3 --epochs 2000 --log_interval 250 --significance 0.9 --dilation_coefficient 3 --kernel_size 3 --seed 69089 --plot\n"
   ]
  },
  {
   "cell_type": "code",
   "execution_count": null,
   "id": "a36cf0c5",
   "metadata": {},
   "outputs": [],
   "source": [
    "# Run TCDF for predictive accuracy\n",
    "\n",
    "%run -i \"evaluate_predictions_TCDF.py\" --data data/standard_EBT_0_20_dataset.csv --learning_rate 0.1 --hidden_layers 3 --epochs 2000 --log_interval 250 --dilation_coefficient 3 --kernel_size 3 --seed 69089 --plot --train_test_split 0.8"
   ]
  },
  {
   "cell_type": "code",
   "execution_count": null,
   "id": "e20e677f",
   "metadata": {},
   "outputs": [],
   "source": [
    "%matplotlib inline\n",
    "# Set figure size \n",
    "plt.rcParams['figure.figsize'] = [25, 10]\n",
    "\n",
    "# Plot training losses\n",
    "plot_performance(alllosses)"
   ]
  },
  {
   "cell_type": "code",
   "execution_count": null,
   "id": "42b39da7",
   "metadata": {},
   "outputs": [],
   "source": [
    "%matplotlib inline\n",
    "# Set figure size \n",
    "plt.rcParams['figure.figsize'] = [25, 10]\n",
    "\n",
    "# Plot accuracy (MASE values)\n",
    "plot_performance(accuracy)"
   ]
  },
  {
   "cell_type": "markdown",
   "id": "6a8532cb",
   "metadata": {},
   "source": [
    "#### 70 - 100 years"
   ]
  },
  {
   "cell_type": "code",
   "execution_count": null,
   "id": "f5e6843c",
   "metadata": {},
   "outputs": [],
   "source": [
    "# Select data between 70 and 100 years\n",
    "ebt_70_100 = select_data(ebt, 70, 100, 'standard')\n",
    "\n",
    "# Create file path for new file\n",
    "EBTScaled_path = os.path.join(TCDFdata_path, 'standard_EBT_70_100_dataset.csv')\n",
    "\n",
    "# Write clean dataframe demo_ebt to a new .csv file\n",
    "ebt_70_100.to_csv(EBTScaled_path, index = False)"
   ]
  },
  {
   "cell_type": "markdown",
   "id": "d2c65281",
   "metadata": {},
   "source": [
    "#### TCDF 70-100: first run (in triplicate)"
   ]
  },
  {
   "cell_type": "code",
   "execution_count": null,
   "id": "abbbef45",
   "metadata": {},
   "outputs": [],
   "source": [
    "%matplotlib inline\n",
    "\n",
    "# Run TCDF with the selected equilibrium dataset of EBT data\n",
    "\n",
    "%run -i \"runTCDF.py\"  --ground_truth data/standard_EBT_70_100_dataset.csv=data/EBT_demo_groundtruth.csv --learning_rate 0.1 --hidden_layers 2 --epochs 2000 --log_interval 250 --significance 0.9 --dilation_coefficient 4 --kernel_size 4 --seed 34321 --plot"
   ]
  },
  {
   "cell_type": "code",
   "execution_count": null,
   "id": "e685aedb",
   "metadata": {},
   "outputs": [],
   "source": [
    "# Run TCDF for predictive accuracy\n",
    "\n",
    "%run -i \"evaluate_predictions_TCDF.py\" --data data/standard_EBT_70_100_dataset.csv --learning_rate 0.1 --hidden_layers 2 --epochs 2000 --log_interval 250 --dilation_coefficient 4 --kernel_size 4 --seed 34321 --plot --train_test_split 0.8"
   ]
  },
  {
   "cell_type": "code",
   "execution_count": null,
   "id": "a1a28440",
   "metadata": {},
   "outputs": [],
   "source": [
    "%matplotlib inline\n",
    "# Set figure size \n",
    "plt.rcParams['figure.figsize'] = [25, 10]\n",
    "\n",
    "# Plot training losses\n",
    "plot_performance(alllosses)"
   ]
  },
  {
   "cell_type": "code",
   "execution_count": null,
   "id": "66aad15b",
   "metadata": {},
   "outputs": [],
   "source": [
    "%matplotlib inline\n",
    "# Set figure size \n",
    "plt.rcParams['figure.figsize'] = [25, 10]\n",
    "\n",
    "# Plot accuracy (MASE values)\n",
    "plot_performance(accuracy)"
   ]
  },
  {
   "cell_type": "code",
   "execution_count": null,
   "id": "67cca2eb",
   "metadata": {},
   "outputs": [],
   "source": [
    "%matplotlib inline\n",
    "\n",
    "# Run TCDF with the selected equilibrium dataset of EBT data\n",
    "\n",
    "%run -i \"runTCDF.py\"  --ground_truth data/standard_EBT_70_100_dataset.csv=data/EBT_demo_groundtruth.csv --learning_rate 0.1 --hidden_layers 2 --epochs 2000 --log_interval 250 --significance 0.9 --dilation_coefficient 4 --kernel_size 4 --seed 85672 --plot"
   ]
  },
  {
   "cell_type": "code",
   "execution_count": null,
   "id": "ef0d242d",
   "metadata": {},
   "outputs": [],
   "source": [
    "# Run TCDF for predictive accuracy\n",
    "\n",
    "%run -i \"evaluate_predictions_TCDF.py\" --data data/standard_EBT_70_100_dataset.csv --learning_rate 0.1 --hidden_layers 2 --epochs 2000 --log_interval 250 --dilation_coefficient 4 --kernel_size 4 --seed 85672 --plot --train_test_split 0.8"
   ]
  },
  {
   "cell_type": "code",
   "execution_count": null,
   "id": "6c484c1c",
   "metadata": {},
   "outputs": [],
   "source": [
    "%matplotlib inline\n",
    "# Set figure size \n",
    "plt.rcParams['figure.figsize'] = [25, 10]\n",
    "\n",
    "# Plot training losses\n",
    "plot_performance(alllosses)"
   ]
  },
  {
   "cell_type": "code",
   "execution_count": null,
   "id": "017a6645",
   "metadata": {},
   "outputs": [],
   "source": [
    "%matplotlib inline\n",
    "# Set figure size \n",
    "plt.rcParams['figure.figsize'] = [25, 10]\n",
    "\n",
    "# Plot accuracy (MASE values)\n",
    "plot_performance(accuracy)"
   ]
  },
  {
   "cell_type": "code",
   "execution_count": null,
   "id": "8feef414",
   "metadata": {},
   "outputs": [],
   "source": [
    "%matplotlib inline\n",
    "\n",
    "# Run TCDF with the selected equilibrium dataset of EBT data\n",
    "\n",
    "%run -i \"runTCDF.py\"  --ground_truth data/standard_EBT_70_100_dataset.csv=data/EBT_demo_groundtruth.csv --learning_rate 0.1 --hidden_layers 2 --epochs 2000 --log_interval 250 --significance 0.9 --dilation_coefficient 4 --kernel_size 4 --seed 63109 --plot"
   ]
  },
  {
   "cell_type": "code",
   "execution_count": null,
   "id": "c84e1b55",
   "metadata": {},
   "outputs": [],
   "source": [
    "# Run TCDF for predictive accuracy\n",
    "\n",
    "%run -i \"evaluate_predictions_TCDF.py\" --data data/standard_EBT_70_100_dataset.csv --learning_rate 0.1 --hidden_layers 2 --epochs 2000 --log_interval 250 --dilation_coefficient 4 --kernel_size 4 --seed 63109 --plot --train_test_split 0.8"
   ]
  },
  {
   "cell_type": "code",
   "execution_count": null,
   "id": "eb8f1e94",
   "metadata": {},
   "outputs": [],
   "source": [
    "%matplotlib inline\n",
    "# Set figure size \n",
    "plt.rcParams['figure.figsize'] = [25, 10]\n",
    "\n",
    "# Plot training losses\n",
    "plot_performance(alllosses)"
   ]
  },
  {
   "cell_type": "code",
   "execution_count": null,
   "id": "a2fd5eed",
   "metadata": {},
   "outputs": [],
   "source": [
    "%matplotlib inline\n",
    "# Set figure size \n",
    "plt.rcParams['figure.figsize'] = [25, 10]\n",
    "\n",
    "# Plot accuracy (MASE values)\n",
    "plot_performance(accuracy)"
   ]
  },
  {
   "cell_type": "markdown",
   "id": "1cea655a",
   "metadata": {},
   "source": [
    "#### TCDF 70-100: second run  (increased hidden layers by 1, decreased dilation coefficient and kernel size by 1)"
   ]
  },
  {
   "cell_type": "code",
   "execution_count": null,
   "id": "65c61c97",
   "metadata": {},
   "outputs": [],
   "source": [
    "%matplotlib inline\n",
    "\n",
    "# Run TCDF with the selected equilibrium dataset of EBT data\n",
    "\n",
    "%run -i \"runTCDF.py\"  --ground_truth data/standard_EBT_70_100_dataset.csv=data/EBT_demo_groundtruth.csv --learning_rate 0.1 --hidden_layers 3 --epochs 2000 --log_interval 250 --significance 0.9 --dilation_coefficient 3 --kernel_size 3 --seed 1238 --plot"
   ]
  },
  {
   "cell_type": "code",
   "execution_count": null,
   "id": "fede59f0",
   "metadata": {},
   "outputs": [],
   "source": [
    "# Run TCDF for predictive accuracy\n",
    "\n",
    "%run -i \"evaluate_predictions_TCDF.py\" --data data/standard_EBT_70_100_dataset.csv --learning_rate 0.1 --hidden_layers 3 --epochs 2000 --log_interval 250 --dilation_coefficient 3 --kernel_size 3 --seed 1238 --plot --train_test_split 0.8"
   ]
  },
  {
   "cell_type": "code",
   "execution_count": null,
   "id": "17a598b4",
   "metadata": {},
   "outputs": [],
   "source": [
    "%matplotlib inline\n",
    "# Set figure size \n",
    "plt.rcParams['figure.figsize'] = [25, 10]\n",
    "\n",
    "# Plot training losses\n",
    "plot_performance(alllosses)"
   ]
  },
  {
   "cell_type": "code",
   "execution_count": null,
   "id": "86f4d839",
   "metadata": {},
   "outputs": [],
   "source": [
    "%matplotlib inline\n",
    "# Set figure size \n",
    "plt.rcParams['figure.figsize'] = [25, 10]\n",
    "\n",
    "# Plot accuracy (MASE values)\n",
    "plot_performance(accuracy)"
   ]
  },
  {
   "cell_type": "code",
   "execution_count": null,
   "id": "a5a14c3c",
   "metadata": {},
   "outputs": [],
   "source": [
    "%matplotlib inline\n",
    "\n",
    "# Run TCDF with the selected equilibrium dataset of EBT data\n",
    "\n",
    "%run -i \"runTCDF.py\"  --ground_truth data/standard_EBT_70_100_dataset.csv=data/EBT_demo_groundtruth.csv --learning_rate 0.1 --hidden_layers 3 --epochs 2000 --log_interval 250 --significance 0.9 --dilation_coefficient 3 --kernel_size 3 --seed 53988 --plot"
   ]
  },
  {
   "cell_type": "code",
   "execution_count": null,
   "id": "e16260d3",
   "metadata": {},
   "outputs": [],
   "source": [
    "# Run TCDF for predictive accuracy\n",
    "\n",
    "%run -i \"evaluate_predictions_TCDF.py\" --data data/standard_EBT_70_100_dataset.csv --learning_rate 0.1 --hidden_layers 3 --epochs 2000 --log_interval 250 --dilation_coefficient 3 --kernel_size 3 --seed 53988 --plot --train_test_split 0.8"
   ]
  },
  {
   "cell_type": "code",
   "execution_count": null,
   "id": "2c6b3ed7",
   "metadata": {},
   "outputs": [],
   "source": [
    "%matplotlib inline\n",
    "# Set figure size \n",
    "plt.rcParams['figure.figsize'] = [25, 10]\n",
    "\n",
    "# Plot training losses\n",
    "plot_performance(alllosses)"
   ]
  },
  {
   "cell_type": "code",
   "execution_count": null,
   "id": "cc8f2554",
   "metadata": {},
   "outputs": [],
   "source": [
    "%matplotlib inline\n",
    "# Set figure size \n",
    "plt.rcParams['figure.figsize'] = [25, 10]\n",
    "\n",
    "# Plot accuracy (MASE values)\n",
    "plot_performance(accuracy)"
   ]
  },
  {
   "cell_type": "code",
   "execution_count": null,
   "id": "9bd1bd81",
   "metadata": {},
   "outputs": [],
   "source": [
    "%matplotlib inline\n",
    "\n",
    "# Run TCDF with the selected equilibrium dataset of EBT data\n",
    "\n",
    "%run -i \"runTCDF.py\"  --ground_truth data/standard_EBT_70_100_dataset.csv=data/EBT_demo_groundtruth.csv --learning_rate 0.1 --hidden_layers 3 --epochs 2000 --log_interval 250 --significance 0.9 --dilation_coefficient 3 --kernel_size 3 --seed 92422 --plot"
   ]
  },
  {
   "cell_type": "code",
   "execution_count": null,
   "id": "52885b39",
   "metadata": {},
   "outputs": [],
   "source": [
    "# Run TCDF for predictive accuracy\n",
    "\n",
    "%run -i \"evaluate_predictions_TCDF.py\" --data data/standard_EBT_70_100_dataset.csv --learning_rate 0.1 --hidden_layers 3 --epochs 2000 --log_interval 250 --dilation_coefficient 3 --kernel_size 3 --seed 92422 --plot --train_test_split 0.8"
   ]
  },
  {
   "cell_type": "code",
   "execution_count": null,
   "id": "a30983a7",
   "metadata": {},
   "outputs": [],
   "source": [
    "%matplotlib inline\n",
    "# Set figure size \n",
    "plt.rcParams['figure.figsize'] = [25, 10]\n",
    "\n",
    "# Plot training losses\n",
    "plot_performance(alllosses)"
   ]
  },
  {
   "cell_type": "code",
   "execution_count": null,
   "id": "9bfb454c",
   "metadata": {},
   "outputs": [],
   "source": [
    "%matplotlib inline\n",
    "# Set figure size \n",
    "plt.rcParams['figure.figsize'] = [25, 10]\n",
    "\n",
    "# Plot accuracy (MASE values)\n",
    "plot_performance(accuracy)"
   ]
  },
  {
   "cell_type": "markdown",
   "id": "645093c5",
   "metadata": {},
   "source": [
    "### TCDF with EBT transient dynamics\n",
    "\n",
    "This data represents the tritrophic biomasses during the introduced fishing pressure on cod. At 20 years Fc increases and is put to a halt on 40 years. Therefore I split the transient dynamics into two separate transient phases: 20-40 years (fishing pressure increases linearly) and 40-70 years (searching for a new equilibrium).\n",
    "\n",
    "#### 20 - 60 years"
   ]
  },
  {
   "cell_type": "code",
   "execution_count": null,
   "id": "84ffa861",
   "metadata": {},
   "outputs": [],
   "source": [
    "# Select data between 20 and 60 years\n",
    "ebt_20_60 = select_data(ebt, 20, 60, 'standard')\n",
    "\n",
    "# Create file path for new file\n",
    "EBTScaled_path = os.path.join(TCDFdata_path, 'standard_EBT_20_60_dataset.csv')\n",
    "\n",
    "# Write clean dataframe demo_ebt to a new .csv file\n",
    "ebt_20_60.to_csv(EBTScaled_path, index = False)"
   ]
  },
  {
   "cell_type": "markdown",
   "id": "d845d901",
   "metadata": {},
   "source": [
    "#### TCDF 20-60 years: first run (in triplicate)"
   ]
  },
  {
   "cell_type": "code",
   "execution_count": null,
   "id": "44de7671",
   "metadata": {},
   "outputs": [],
   "source": [
    "%matplotlib inline\n",
    "\n",
    "# Run TCDF with the selected equilibrium dataset of EBT data\n",
    "\n",
    "%run -i \"runTCDF.py\"  --ground_truth data/standard_EBT_20_60_dataset.csv=data/EBT_demo_groundtruth.csv --learning_rate 0.1 --hidden_layers 3 --epochs 1000 --log_interval 250 --significance 0.9 --dilation_coefficient 3 --kernel_size 3 --seed 24310 --plot"
   ]
  },
  {
   "cell_type": "code",
   "execution_count": null,
   "id": "5569e187",
   "metadata": {},
   "outputs": [],
   "source": [
    "# Run TCDF for predictive accuracy\n",
    "\n",
    "%run -i \"evaluate_predictions_TCDF.py\" --data data/standard_EBT_20_60_dataset.csv --learning_rate 0.1 --hidden_layers 3 --epochs 1000 --log_interval 250 --dilation_coefficient 3 --kernel_size 3 --seed 24310 --plot --train_test_split 0.7"
   ]
  },
  {
   "cell_type": "code",
   "execution_count": null,
   "id": "f69db4fd",
   "metadata": {},
   "outputs": [],
   "source": [
    "%matplotlib inline\n",
    "# Set figure size \n",
    "plt.rcParams['figure.figsize'] = [25, 10]\n",
    "\n",
    "# Plot training losses\n",
    "plot_performance(alllosses)"
   ]
  },
  {
   "cell_type": "code",
   "execution_count": null,
   "id": "184e3d0a",
   "metadata": {},
   "outputs": [],
   "source": [
    "%matplotlib inline\n",
    "# Set figure size \n",
    "plt.rcParams['figure.figsize'] = [25, 10]\n",
    "\n",
    "# Plot accuracy (MASE values)\n",
    "plot_performance(accuracy)"
   ]
  },
  {
   "cell_type": "code",
   "execution_count": null,
   "id": "46ec3a81",
   "metadata": {},
   "outputs": [],
   "source": [
    "%matplotlib inline\n",
    "\n",
    "# Run TCDF with the selected equilibrium dataset of EBT data\n",
    "\n",
    "%run -i \"runTCDF.py\"  --ground_truth data/standard_EBT_20_60_dataset.csv=data/EBT_demo_groundtruth.csv --learning_rate 0.1 --hidden_layers 3 --epochs 1000 --log_interval 250 --significance 0.9 --dilation_coefficient 3 --kernel_size 3 --seed 77139 --plot"
   ]
  },
  {
   "cell_type": "code",
   "execution_count": null,
   "id": "e68fced2",
   "metadata": {},
   "outputs": [],
   "source": [
    "# Run TCDF for predictive accuracy\n",
    "\n",
    "%run -i \"evaluate_predictions_TCDF.py\" --data data/standard_EBT_20_60_dataset.csv --learning_rate 0.1 --hidden_layers 3 --epochs 1000 --log_interval 250 --dilation_coefficient 3 --kernel_size 3 --seed 77139 --plot --train_test_split 0.7"
   ]
  },
  {
   "cell_type": "code",
   "execution_count": null,
   "id": "b4a64928",
   "metadata": {},
   "outputs": [],
   "source": [
    "%matplotlib inline\n",
    "# Set figure size \n",
    "plt.rcParams['figure.figsize'] = [25, 10]\n",
    "\n",
    "# Plot training losses\n",
    "plot_performance(alllosses)"
   ]
  },
  {
   "cell_type": "code",
   "execution_count": null,
   "id": "b3149950",
   "metadata": {},
   "outputs": [],
   "source": [
    "%matplotlib inline\n",
    "# Set figure size \n",
    "plt.rcParams['figure.figsize'] = [25, 10]\n",
    "\n",
    "# Plot accuracy (MASE values)\n",
    "plot_performance(accuracy)"
   ]
  },
  {
   "cell_type": "code",
   "execution_count": null,
   "id": "b7cddaf6",
   "metadata": {},
   "outputs": [],
   "source": [
    "%matplotlib inline\n",
    "\n",
    "# Run TCDF with the selected equilibrium dataset of EBT data\n",
    "\n",
    "%run -i \"runTCDF.py\"  --ground_truth data/standard_EBT_20_60_dataset.csv=data/EBT_demo_groundtruth.csv --learning_rate 0.1 --hidden_layers 3 --epochs 1000 --log_interval 250 --significance 0.9 --dilation_coefficient 3 --kernel_size 3 --seed 45184 --plot"
   ]
  },
  {
   "cell_type": "code",
   "execution_count": null,
   "id": "43030a96",
   "metadata": {},
   "outputs": [],
   "source": [
    "# Run TCDF for predictive accuracy\n",
    "\n",
    "%run -i \"evaluate_predictions_TCDF.py\" --data data/standard_EBT_20_60_dataset.csv --learning_rate 0.1 --hidden_layers 3 --epochs 1000 --log_interval 250 --dilation_coefficient 3 --kernel_size 3 --seed 45184 --plot --train_test_split 0.7"
   ]
  },
  {
   "cell_type": "code",
   "execution_count": null,
   "id": "4bf6cc6a",
   "metadata": {},
   "outputs": [],
   "source": [
    "%matplotlib inline\n",
    "# Set figure size \n",
    "plt.rcParams['figure.figsize'] = [25, 10]\n",
    "\n",
    "# Plot training losses\n",
    "plot_performance(alllosses)"
   ]
  },
  {
   "cell_type": "code",
   "execution_count": null,
   "id": "9af274bb",
   "metadata": {},
   "outputs": [],
   "source": [
    "%matplotlib inline\n",
    "# Set figure size \n",
    "plt.rcParams['figure.figsize'] = [25, 10]\n",
    "\n",
    "# Plot accuracy (MASE values)\n",
    "plot_performance(accuracy)"
   ]
  },
  {
   "cell_type": "markdown",
   "id": "b0f1adf2",
   "metadata": {},
   "source": [
    "#### TCDF 20-60 years: second run  (decreased hidden layers by 1, increased dilation coefficient and kernel size by 1)"
   ]
  },
  {
   "cell_type": "code",
   "execution_count": null,
   "id": "af023f6b",
   "metadata": {},
   "outputs": [],
   "source": [
    "%matplotlib inline\n",
    "\n",
    "# Run TCDF with the selected equilibrium dataset of EBT data\n",
    "\n",
    "%run -i \"runTCDF.py\"  --ground_truth data/standard_EBT_20_60_dataset.csv=data/EBT_demo_groundtruth.csv --learning_rate 0.1 --hidden_layers 2 --epochs 2000 --log_interval 250 --significance 0.9 --dilation_coefficient 4 --kernel_size 4 --seed 78025 --plot"
   ]
  },
  {
   "cell_type": "code",
   "execution_count": null,
   "id": "733cbd62",
   "metadata": {},
   "outputs": [],
   "source": [
    "# Run TCDF for predictive accuracy\n",
    "\n",
    "%run -i \"evaluate_predictions_TCDF.py\" --data data/standard_EBT_20_60_dataset.csv --learning_rate 0.1 --hidden_layers 2 --epochs 2000 --log_interval 250 --dilation_coefficient 4 --kernel_size 4 --seed 78025 --plot --train_test_split 0.7"
   ]
  },
  {
   "cell_type": "code",
   "execution_count": null,
   "id": "737558c8",
   "metadata": {},
   "outputs": [],
   "source": [
    "%matplotlib inline\n",
    "# Set figure size \n",
    "plt.rcParams['figure.figsize'] = [25, 10]\n",
    "\n",
    "# Plot training losses\n",
    "plot_performance(alllosses)"
   ]
  },
  {
   "cell_type": "code",
   "execution_count": null,
   "id": "b2e8eb1e",
   "metadata": {},
   "outputs": [],
   "source": [
    "%matplotlib inline\n",
    "# Set figure size \n",
    "plt.rcParams['figure.figsize'] = [25, 10]\n",
    "\n",
    "# Plot accuracy (MASE values)\n",
    "plot_performance(accuracy)"
   ]
  },
  {
   "cell_type": "code",
   "execution_count": null,
   "id": "fef7fc66",
   "metadata": {},
   "outputs": [],
   "source": [
    "%matplotlib inline\n",
    "\n",
    "# Run TCDF with the selected equilibrium dataset of EBT data\n",
    "\n",
    "%run -i \"runTCDF.py\"  --ground_truth data/standard_EBT_20_60_dataset.csv=data/EBT_demo_groundtruth.csv --learning_rate 0.1 --hidden_layers 2 --epochs 2000 --log_interval 250 --significance 0.9 --dilation_coefficient 4 --kernel_size 4 --seed 53391 --plot"
   ]
  },
  {
   "cell_type": "code",
   "execution_count": null,
   "id": "bd725662",
   "metadata": {},
   "outputs": [],
   "source": [
    "# Run TCDF for predictive accuracy\n",
    "\n",
    "%run -i \"evaluate_predictions_TCDF.py\" --data data/standard_EBT_20_60_dataset.csv --learning_rate 0.1 --hidden_layers 2 --epochs 2000 --log_interval 250 --dilation_coefficient 4 --kernel_size 4 --seed 53391 --plot --train_test_split 0.7"
   ]
  },
  {
   "cell_type": "code",
   "execution_count": null,
   "id": "3873c2e1",
   "metadata": {},
   "outputs": [],
   "source": [
    "%matplotlib inline\n",
    "# Set figure size \n",
    "plt.rcParams['figure.figsize'] = [25, 10]\n",
    "\n",
    "# Plot training losses\n",
    "plot_performance(alllosses)"
   ]
  },
  {
   "cell_type": "code",
   "execution_count": null,
   "id": "f57afe33",
   "metadata": {},
   "outputs": [],
   "source": [
    "%matplotlib inline\n",
    "# Set figure size \n",
    "plt.rcParams['figure.figsize'] = [25, 10]\n",
    "\n",
    "# Plot accuracy (MASE values)\n",
    "plot_performance(accuracy)"
   ]
  },
  {
   "cell_type": "code",
   "execution_count": null,
   "id": "9fc26f01",
   "metadata": {},
   "outputs": [],
   "source": [
    "%matplotlib inline\n",
    "\n",
    "# Run TCDF with the selected equilibrium dataset of EBT data\n",
    "\n",
    "%run -i \"runTCDF.py\"  --ground_truth data/standard_EBT_20_60_dataset.csv=data/EBT_demo_groundtruth.csv --learning_rate 0.1 --hidden_layers 2 --epochs 2000 --log_interval 250 --significance 0.9 --dilation_coefficient 4 --kernel_size 4 --seed 34061 --plot"
   ]
  },
  {
   "cell_type": "code",
   "execution_count": null,
   "id": "051fe84e",
   "metadata": {},
   "outputs": [],
   "source": [
    "# Run TCDF for predictive accuracy\n",
    "\n",
    "%run -i \"evaluate_predictions_TCDF.py\" --data data/standard_EBT_20_60_dataset.csv --learning_rate 0.1 --hidden_layers 2 --epochs 2000 --log_interval 250 --dilation_coefficient 4 --kernel_size 4 --seed 34061 --plot --train_test_split 0.7"
   ]
  },
  {
   "cell_type": "code",
   "execution_count": null,
   "id": "fa64249b",
   "metadata": {},
   "outputs": [],
   "source": [
    "%matplotlib inline\n",
    "# Set figure size \n",
    "plt.rcParams['figure.figsize'] = [25, 10]\n",
    "\n",
    "# Plot training losses\n",
    "plot_performance(alllosses)"
   ]
  },
  {
   "cell_type": "code",
   "execution_count": null,
   "id": "5f157c57",
   "metadata": {},
   "outputs": [],
   "source": [
    "%matplotlib inline\n",
    "# Set figure size \n",
    "plt.rcParams['figure.figsize'] = [25, 10]\n",
    "\n",
    "# Plot accuracy (MASE values)\n",
    "plot_performance(accuracy)"
   ]
  },
  {
   "cell_type": "markdown",
   "id": "55cd4fc4",
   "metadata": {},
   "source": [
    "#### 60 - 70 years"
   ]
  },
  {
   "cell_type": "code",
   "execution_count": null,
   "id": "0715980b",
   "metadata": {},
   "outputs": [],
   "source": [
    "# Select data between 60 and 70 years\n",
    "ebt_60_70 = select_data(ebt, 60, 70, 'standard')\n",
    "\n",
    "# Create file path for new file\n",
    "EBTScaled_path = os.path.join(TCDFdata_path, 'standard_EBT_60_70_dataset.csv')\n",
    "\n",
    "# Write clean dataframe demo_ebt to a new .csv file\n",
    "ebt_60_70.to_csv(EBTScaled_path, index = False)"
   ]
  },
  {
   "cell_type": "markdown",
   "id": "8ebaa148",
   "metadata": {},
   "source": [
    "#### TCDF 60-70 years: first run (in triplicate)"
   ]
  },
  {
   "cell_type": "code",
   "execution_count": null,
   "id": "5e783368",
   "metadata": {},
   "outputs": [],
   "source": [
    "%matplotlib inline\n",
    "\n",
    "# Run TCDF with the selected equilibrium dataset of EBT data\n",
    "\n",
    "%run -i \"runTCDF.py\"  --ground_truth data/standard_EBT_60_70_dataset.csv=data/EBT_demo_groundtruth.csv --learning_rate 0.1 --hidden_layers 3 --epochs 2000 --log_interval 250 --significance 0.9 --dilation_coefficient 3 --kernel_size 3 --seed 2369 --plot"
   ]
  },
  {
   "cell_type": "code",
   "execution_count": null,
   "id": "4816c3ad",
   "metadata": {},
   "outputs": [],
   "source": [
    "# Run TCDF for predictive accuracy\n",
    "\n",
    "%run -i \"evaluate_predictions_TCDF.py\" --data data/standard_EBT_60_70_dataset.csv --learning_rate 0.1 --hidden_layers 3 --epochs 2000 --log_interval 250 --dilation_coefficient 3 --kernel_size 3 --seed 2369 --plot --train_test_split 0.7"
   ]
  },
  {
   "cell_type": "code",
   "execution_count": null,
   "id": "b28878c0",
   "metadata": {},
   "outputs": [],
   "source": [
    "%matplotlib inline\n",
    "# Set figure size \n",
    "plt.rcParams['figure.figsize'] = [25, 10]\n",
    "\n",
    "# Plot training losses\n",
    "plot_performance(alllosses)"
   ]
  },
  {
   "cell_type": "code",
   "execution_count": null,
   "id": "cea5209b",
   "metadata": {},
   "outputs": [],
   "source": [
    "%matplotlib inline\n",
    "# Set figure size \n",
    "plt.rcParams['figure.figsize'] = [25, 10]\n",
    "\n",
    "# Plot accuracy (MASE values)\n",
    "plot_performance(accuracy)"
   ]
  },
  {
   "cell_type": "code",
   "execution_count": null,
   "id": "67671b46",
   "metadata": {},
   "outputs": [],
   "source": [
    "%matplotlib inline\n",
    "\n",
    "# Run TCDF with the selected equilibrium dataset of EBT data\n",
    "\n",
    "%run -i \"runTCDF.py\"  --ground_truth data/standard_EBT_60_70_dataset.csv=data/EBT_demo_groundtruth.csv --learning_rate 0.1 --hidden_layers 3 --epochs 2000 --log_interval 250 --significance 0.9 --dilation_coefficient 3 --kernel_size 3 --seed 33520 --plot"
   ]
  },
  {
   "cell_type": "code",
   "execution_count": null,
   "id": "3e8d68b2",
   "metadata": {},
   "outputs": [],
   "source": [
    "# Run TCDF for predictive accuracy\n",
    "\n",
    "%run -i \"evaluate_predictions_TCDF.py\" --data data/standard_EBT_60_70_dataset.csv --learning_rate 0.1 --hidden_layers 3 --epochs 2000 --log_interval 250 --dilation_coefficient 3 --kernel_size 3 --seed 33520 --plot --train_test_split 0.7"
   ]
  },
  {
   "cell_type": "code",
   "execution_count": null,
   "id": "1b7f971e",
   "metadata": {},
   "outputs": [],
   "source": [
    "%matplotlib inline\n",
    "# Set figure size \n",
    "plt.rcParams['figure.figsize'] = [25, 10]\n",
    "\n",
    "# Plot training losses\n",
    "plot_performance(alllosses)"
   ]
  },
  {
   "cell_type": "code",
   "execution_count": null,
   "id": "ce1dbbdc",
   "metadata": {},
   "outputs": [],
   "source": [
    "%matplotlib inline\n",
    "# Set figure size \n",
    "plt.rcParams['figure.figsize'] = [25, 10]\n",
    "\n",
    "# Plot accuracy (MASE values)\n",
    "plot_performance(accuracy)"
   ]
  },
  {
   "cell_type": "code",
   "execution_count": null,
   "id": "99741e95",
   "metadata": {},
   "outputs": [],
   "source": [
    "%matplotlib inline\n",
    "\n",
    "# Run TCDF with the selected equilibrium dataset of EBT data\n",
    "\n",
    "%run -i \"runTCDF.py\"  --ground_truth data/standard_EBT_60_70_dataset.csv=data/EBT_demo_groundtruth.csv --learning_rate 0.1 --hidden_layers 3 --epochs 2000 --log_interval 250 --significance 0.9 --dilation_coefficient 3 --kernel_size 3 --seed 66848 --plot"
   ]
  },
  {
   "cell_type": "code",
   "execution_count": null,
   "id": "039cbfcb",
   "metadata": {},
   "outputs": [],
   "source": [
    "# Run TCDF for predictive accuracy\n",
    "\n",
    "%run -i \"evaluate_predictions_TCDF.py\" --data data/standard_EBT_60_70_dataset.csv --learning_rate 0.1 --hidden_layers 3 --epochs 2000 --log_interval 250 --dilation_coefficient 3 --kernel_size 3 --seed 66848 --plot --train_test_split 0.7"
   ]
  },
  {
   "cell_type": "code",
   "execution_count": null,
   "id": "aec980ec",
   "metadata": {},
   "outputs": [],
   "source": [
    "%matplotlib inline\n",
    "# Set figure size \n",
    "plt.rcParams['figure.figsize'] = [25, 10]\n",
    "\n",
    "# Plot training losses\n",
    "plot_performance(alllosses)"
   ]
  },
  {
   "cell_type": "code",
   "execution_count": null,
   "id": "739b2523",
   "metadata": {},
   "outputs": [],
   "source": [
    "%matplotlib inline\n",
    "# Set figure size \n",
    "plt.rcParams['figure.figsize'] = [25, 10]\n",
    "\n",
    "# Plot accuracy (MASE values)\n",
    "plot_performance(accuracy)"
   ]
  },
  {
   "cell_type": "markdown",
   "id": "78a8dee3",
   "metadata": {},
   "source": [
    "#### TCDF 60-70 years: second run  (decreased hidden layers by 1, increased dilation coefficient and kernel size by 1)"
   ]
  },
  {
   "cell_type": "code",
   "execution_count": null,
   "id": "a8ced8a0",
   "metadata": {},
   "outputs": [],
   "source": [
    "%matplotlib inline\n",
    "\n",
    "# Run TCDF with the selected equilibrium dataset of EBT data\n",
    "\n",
    "%run -i \"runTCDF.py\"  --ground_truth data/standard_EBT_60_70_dataset.csv=data/EBT_demo_groundtruth.csv --learning_rate 0.1 --hidden_layers 2 --epochs 2000 --log_interval 250 --significance 0.9 --dilation_coefficient 4 --kernel_size 4 --seed 2369 --plot"
   ]
  },
  {
   "cell_type": "code",
   "execution_count": null,
   "id": "d18d010f",
   "metadata": {},
   "outputs": [],
   "source": [
    "# Run TCDF for predictive accuracy\n",
    "\n",
    "%run -i \"evaluate_predictions_TCDF.py\" --data data/standard_EBT_60_70_dataset.csv --learning_rate 0.1 --hidden_layers 2 --epochs 2000 --log_interval 250 --dilation_coefficient 4 --kernel_size 4 --seed 2369 --plot --train_test_split 0.7"
   ]
  },
  {
   "cell_type": "code",
   "execution_count": null,
   "id": "8d745cc7",
   "metadata": {},
   "outputs": [],
   "source": [
    "%matplotlib inline\n",
    "# Set figure size \n",
    "plt.rcParams['figure.figsize'] = [25, 10]\n",
    "\n",
    "# Plot training losses\n",
    "plot_performance(alllosses)"
   ]
  },
  {
   "cell_type": "code",
   "execution_count": null,
   "id": "a212da6c",
   "metadata": {},
   "outputs": [],
   "source": [
    "%matplotlib inline\n",
    "# Set figure size \n",
    "plt.rcParams['figure.figsize'] = [25, 10]\n",
    "\n",
    "# Plot accuracy (MASE values)\n",
    "plot_performance(accuracy)"
   ]
  },
  {
   "cell_type": "code",
   "execution_count": null,
   "id": "7ec82fa2",
   "metadata": {},
   "outputs": [],
   "source": [
    "%matplotlib inline\n",
    "\n",
    "# Run TCDF with the selected equilibrium dataset of EBT data\n",
    "\n",
    "%run -i \"runTCDF.py\"  --ground_truth data/standard_EBT_60_70_dataset.csv=data/EBT_demo_groundtruth.csv --learning_rate 0.1 --hidden_layers 2 --epochs 2000 --log_interval 250 --significance 0.9 --dilation_coefficient 4 --kernel_size 4 --seed 21312 --plot"
   ]
  },
  {
   "cell_type": "code",
   "execution_count": null,
   "id": "95322795",
   "metadata": {},
   "outputs": [],
   "source": [
    "# Run TCDF for predictive accuracy\n",
    "\n",
    "%run -i \"evaluate_predictions_TCDF.py\" --data data/standard_EBT_60_70_dataset.csv --learning_rate 0.1 --hidden_layers 2 --epochs 2000 --log_interval 250 --dilation_coefficient 4 --kernel_size 4 --seed 21312 --plot --train_test_split 0.7"
   ]
  },
  {
   "cell_type": "code",
   "execution_count": null,
   "id": "bc3b8293",
   "metadata": {},
   "outputs": [],
   "source": [
    "%matplotlib inline\n",
    "# Set figure size \n",
    "plt.rcParams['figure.figsize'] = [25, 10]\n",
    "\n",
    "# Plot training losses\n",
    "plot_performance(alllosses)"
   ]
  },
  {
   "cell_type": "code",
   "execution_count": null,
   "id": "592e7df3",
   "metadata": {},
   "outputs": [],
   "source": [
    "%matplotlib inline\n",
    "# Set figure size \n",
    "plt.rcParams['figure.figsize'] = [25, 10]\n",
    "\n",
    "# Plot accuracy (MASE values)\n",
    "plot_performance(accuracy)"
   ]
  },
  {
   "cell_type": "code",
   "execution_count": null,
   "id": "33311ded",
   "metadata": {},
   "outputs": [],
   "source": [
    "%matplotlib inline\n",
    "\n",
    "# Run TCDF with the selected equilibrium dataset of EBT data\n",
    "\n",
    "%run -i \"runTCDF.py\"  --ground_truth data/standard_EBT_60_70_dataset.csv=data/EBT_demo_groundtruth.csv --learning_rate 0.1 --hidden_layers 2 --epochs 2000 --log_interval 250 --significance 0.9 --dilation_coefficient 4 --kernel_size 4 --seed 8023 --plot"
   ]
  },
  {
   "cell_type": "code",
   "execution_count": null,
   "id": "3e423ce1",
   "metadata": {},
   "outputs": [],
   "source": [
    "# Run TCDF for predictive accuracy\n",
    "\n",
    "%run -i \"evaluate_predictions_TCDF.py\" --data data/standard_EBT_60_70_dataset.csv --learning_rate 0.1 --hidden_layers 2 --epochs 2000 --log_interval 250 --dilation_coefficient 4 --kernel_size 4 --seed 8023 --plot --train_test_split 0.7"
   ]
  },
  {
   "cell_type": "code",
   "execution_count": null,
   "id": "7ed44b7c",
   "metadata": {},
   "outputs": [],
   "source": [
    "%matplotlib inline\n",
    "# Set figure size \n",
    "plt.rcParams['figure.figsize'] = [25, 10]\n",
    "\n",
    "# Plot training losses\n",
    "plot_performance(alllosses)"
   ]
  },
  {
   "cell_type": "code",
   "execution_count": null,
   "id": "4f98155b",
   "metadata": {},
   "outputs": [],
   "source": [
    "%matplotlib inline\n",
    "# Set figure size \n",
    "plt.rcParams['figure.figsize'] = [25, 10]\n",
    "\n",
    "# Plot accuracy (MASE values)\n",
    "plot_performance(accuracy)"
   ]
  },
  {
   "cell_type": "markdown",
   "id": "d47a19eb",
   "metadata": {},
   "source": [
    "## TCDF: Noisy Data\n",
    "\n",
    "Same exact models are run with noisy data."
   ]
  },
  {
   "cell_type": "markdown",
   "id": "4a74413d",
   "metadata": {},
   "source": [
    "### Adding white noise (Additive White Gaussian Noise)\n",
    "\n",
    "Training the model with additive noise might be helpful in avoiding overfitting of the model. Data in this section is augmented by adding noise with additive white Gaussian noise. Three different datasets are provided - SNR 1:0.1, 1:1, 1:10. Each noisy dataset is analysed with optimized (hyper)parameters for the particular dataset to increase performance and accuracy."
   ]
  },
  {
   "cell_type": "markdown",
   "id": "5992b955",
   "metadata": {},
   "source": [
    "### Signal to Noise ratio 1:0.1"
   ]
  },
  {
   "cell_type": "code",
   "execution_count": null,
   "id": "dc7cc477",
   "metadata": {},
   "outputs": [],
   "source": [
    "# Create new dataset with snr 1:0.1\n",
    "noisy_ebt = noisy_data(10)"
   ]
  },
  {
   "cell_type": "markdown",
   "id": "b4bb5a23",
   "metadata": {},
   "source": [
    "#### 20 - 70 years"
   ]
  },
  {
   "cell_type": "code",
   "execution_count": null,
   "id": "bddddbf3",
   "metadata": {},
   "outputs": [],
   "source": [
    "# Select data between 20 and 70 years\n",
    "noisy_ebt_20_70 = select_data(noisy_ebt, 20, 70, 'standard')\n",
    "\n",
    "# Create file path for new file\n",
    "EBTScaled_path = os.path.join(TCDFdata_path, 'standard_1_0.1_noisy_EBT_20_70_dataset.csv')\n",
    "\n",
    "# Write clean dataframe demo_ebt to a new .csv file\n",
    "noisy_ebt_20_70.to_csv(EBTScaled_path, index = False)"
   ]
  },
  {
   "cell_type": "markdown",
   "id": "dc48d9f2",
   "metadata": {},
   "source": [
    "#### TCDF 20-70 years: first run (in triplicate)"
   ]
  },
  {
   "cell_type": "code",
   "execution_count": null,
   "id": "f26c48ea",
   "metadata": {},
   "outputs": [],
   "source": [
    "%matplotlib inline\n",
    "\n",
    "# Run TCDF with the selected total dataset of EBT data\n",
    "\n",
    "%run -i \"runTCDF.py\"  --ground_truth data/standard_1_0.1_noisy_EBT_20_70_dataset.csv=data/EBT_demo_groundtruth.csv --learning_rate 0.1 --hidden_layers 3 --epochs 2000 --log_interval 250 --significance 0.9 --dilation_coefficient 3 --kernel_size 3 --seed 5678\n"
   ]
  },
  {
   "cell_type": "code",
   "execution_count": null,
   "id": "2999a709",
   "metadata": {},
   "outputs": [],
   "source": [
    "# Run TCDF for predictive accuracy\n",
    "\n",
    "%run -i \"evaluate_predictions_TCDF.py\" --data data/standard_1_0.1_noisy_EBT_20_70_dataset.csv --learning_rate 0.1 --hidden_layers 3 --epochs 2000 --log_interval 250 --dilation_coefficient 3 --kernel_size 3 --seed 5467 --plot --train_test_split 0.5"
   ]
  },
  {
   "cell_type": "code",
   "execution_count": null,
   "id": "b8f15179",
   "metadata": {},
   "outputs": [],
   "source": [
    "%matplotlib inline\n",
    "\n",
    "# Run TCDF with the selected total dataset of EBT data\n",
    "\n",
    "%run -i \"runTCDF.py\"  --ground_truth data/standard_1_0.1_noisy_EBT_20_70_dataset.csv=data/EBT_demo_groundtruth.csv --learning_rate 0.1 --hidden_layers 3 --epochs 2000 --log_interval 250 --significance 0.9 --dilation_coefficient 3 --kernel_size 3 --seed 2371\n"
   ]
  },
  {
   "cell_type": "code",
   "execution_count": null,
   "id": "0dd474a0",
   "metadata": {},
   "outputs": [],
   "source": [
    "# Run TCDF for predictive accuracy\n",
    "\n",
    "%run -i \"evaluate_predictions_TCDF.py\" --data data/standard_1_0.1_noisy_EBT_20_70_dataset.csv --learning_rate 0.1 --hidden_layers 3 --epochs 2000 --log_interval 250 --dilation_coefficient 3 --kernel_size 3 --seed 2371 --plot --train_test_split 0.5"
   ]
  },
  {
   "cell_type": "code",
   "execution_count": null,
   "id": "618fd935",
   "metadata": {},
   "outputs": [],
   "source": [
    "%matplotlib inline\n",
    "\n",
    "# Run TCDF with the selected total dataset of EBT data\n",
    "\n",
    "%run -i \"runTCDF.py\"  --ground_truth data/standard_1_0.1_noisy_EBT_20_70_dataset.csv=data/EBT_demo_groundtruth.csv --learning_rate 0.1 --hidden_layers 3 --epochs 2000 --log_interval 250 --significance 0.9 --dilation_coefficient 3 --kernel_size 3 --seed 1084\n"
   ]
  },
  {
   "cell_type": "code",
   "execution_count": null,
   "id": "a1bcb7e9",
   "metadata": {},
   "outputs": [],
   "source": [
    "# Run TCDF for predictive accuracy\n",
    "\n",
    "%run -i \"evaluate_predictions_TCDF.py\" --data data/standard_1_0.1_noisy_EBT_20_70_dataset.csv --learning_rate 0.1 --hidden_layers 3 --epochs 2000 --log_interval 250 --dilation_coefficient 3 --kernel_size 3 --seed 1048 --plot --train_test_split 0.5"
   ]
  },
  {
   "cell_type": "code",
   "execution_count": null,
   "id": "4cabf1f6",
   "metadata": {},
   "outputs": [],
   "source": [
    "%matplotlib inline\n",
    "# Set figure size \n",
    "plt.rcParams['figure.figsize'] = [25, 10]\n",
    "\n",
    "# Plot training losses\n",
    "plot_performance(alllosses)"
   ]
  },
  {
   "cell_type": "code",
   "execution_count": null,
   "id": "f9a6d35a",
   "metadata": {},
   "outputs": [],
   "source": [
    "%matplotlib inline\n",
    "# Set figure size \n",
    "plt.rcParams['figure.figsize'] = [25, 10]\n",
    "\n",
    "# Plot accuracy (MASE values)\n",
    "plot_performance(accuracy)"
   ]
  },
  {
   "cell_type": "markdown",
   "id": "fe670fb6",
   "metadata": {},
   "source": [
    "#### TCDF 20-70 years: second run (decreased hidden layers by 1, incremented dilation coefficient and kernel size by 1)"
   ]
  },
  {
   "cell_type": "code",
   "execution_count": null,
   "id": "277a54d9",
   "metadata": {},
   "outputs": [],
   "source": [
    "%matplotlib inline\n",
    "\n",
    "# Run TCDF with the selected total dataset of EBT data\n",
    "\n",
    "%run -i \"runTCDF.py\"  --ground_truth data/standard_1_0.1_noisy_EBT_20_70_dataset.csv=data/EBT_demo_groundtruth.csv --learning_rate 0.1 --hidden_layers 2 --epochs 2000 --log_interval 250 --significance 0.9 --dilation_coefficient 4 --kernel_size 4 --seed 5467\n"
   ]
  },
  {
   "cell_type": "code",
   "execution_count": null,
   "id": "534a815d",
   "metadata": {},
   "outputs": [],
   "source": [
    "# Run TCDF for predictive accuracy\n",
    "\n",
    "%run -i \"evaluate_predictions_TCDF.py\" --data data/standard_1_0.1_noisy_EBT_20_70_dataset.csv --learning_rate 0.1 --hidden_layers 2 --epochs 2000 --log_interval 250 --dilation_coefficient 4 --kernel_size 4 --seed 5467 --plot --train_test_split 0.5"
   ]
  },
  {
   "cell_type": "code",
   "execution_count": null,
   "id": "b28df904",
   "metadata": {},
   "outputs": [],
   "source": [
    "%matplotlib inline\n",
    "\n",
    "# Run TCDF with the selected total dataset of EBT data\n",
    "\n",
    "%run -i \"runTCDF.py\"  --ground_truth data/standard_1_0.1_noisy_EBT_20_70_dataset.csv=data/EBT_demo_groundtruth.csv --learning_rate 0.1 --hidden_layers 2 --epochs 2000 --log_interval 250 --significance 0.9 --dilation_coefficient 4 --kernel_size 4 --seed 9238\n"
   ]
  },
  {
   "cell_type": "code",
   "execution_count": null,
   "id": "4aeea4af",
   "metadata": {},
   "outputs": [],
   "source": [
    "# Run TCDF for predictive accuracy\n",
    "\n",
    "%run -i \"evaluate_predictions_TCDF.py\" --data data/standard_1_0.1_noisy_EBT_20_70_dataset.csv --learning_rate 0.1 --hidden_layers 2 --epochs 2000 --log_interval 250 --dilation_coefficient 4 --kernel_size 4 --seed 9238 --plot --train_test_split 0.5"
   ]
  },
  {
   "cell_type": "code",
   "execution_count": null,
   "id": "e12db718",
   "metadata": {},
   "outputs": [],
   "source": [
    "%matplotlib inline\n",
    "\n",
    "# Run TCDF with the selected total dataset of EBT data\n",
    "\n",
    "%run -i \"runTCDF.py\"  --ground_truth data/standard_1_0.1_noisy_EBT_20_70_dataset.csv=data/EBT_demo_groundtruth.csv --learning_rate 0.1 --hidden_layers 2 --epochs 2000 --log_interval 250 --significance 0.9 --dilation_coefficient 4 --kernel_size 4 --seed 157\n"
   ]
  },
  {
   "cell_type": "code",
   "execution_count": null,
   "id": "b0dea4a6",
   "metadata": {},
   "outputs": [],
   "source": [
    "# Run TCDF for predictive accuracy\n",
    "\n",
    "%run -i \"evaluate_predictions_TCDF.py\" --data data/standard_1_0.1_noisy_EBT_20_70_dataset.csv --learning_rate 0.1 --hidden_layers 2 --epochs 2000 --log_interval 250 --dilation_coefficient 4 --kernel_size 4 --seed 157 --plot --train_test_split 0.5"
   ]
  },
  {
   "cell_type": "code",
   "execution_count": null,
   "id": "502c5a3e",
   "metadata": {},
   "outputs": [],
   "source": [
    "%matplotlib inline\n",
    "# Set figure size \n",
    "plt.rcParams['figure.figsize'] = [25, 10]\n",
    "\n",
    "# Plot training losses\n",
    "plot_performance(alllosses)"
   ]
  },
  {
   "cell_type": "code",
   "execution_count": null,
   "id": "10954bab",
   "metadata": {},
   "outputs": [],
   "source": [
    "%matplotlib inline\n",
    "# Set figure size \n",
    "plt.rcParams['figure.figsize'] = [25, 10]\n",
    "\n",
    "# Plot accuracy (MASE values)\n",
    "plot_performance(accuracy)"
   ]
  },
  {
   "cell_type": "markdown",
   "id": "5954b2b0",
   "metadata": {},
   "source": [
    "#### 0 - 100 years"
   ]
  },
  {
   "cell_type": "code",
   "execution_count": null,
   "id": "28bdab39",
   "metadata": {},
   "outputs": [],
   "source": [
    "# Select data between 0 and 100 years\n",
    "noisy_ebt_0_100 = select_data(noisy_ebt, 0, 100, 'standard')\n",
    "\n",
    "# Create file path for new file\n",
    "EBTScaled_path = os.path.join(TCDFdata_path, 'standard_1_0.1_noisy_EBT_0_100_dataset.csv')\n",
    "\n",
    "# Write clean dataframe demo_ebt to a new .csv file\n",
    "noisy_ebt_0_100.to_csv(EBTScaled_path, index = False)"
   ]
  },
  {
   "cell_type": "markdown",
   "id": "93a638ef",
   "metadata": {},
   "source": [
    "#### TCDF 0-100 years: first run (in triplicate)"
   ]
  },
  {
   "cell_type": "code",
   "execution_count": null,
   "id": "d34aaec9",
   "metadata": {},
   "outputs": [],
   "source": [
    "%matplotlib inline\n",
    "\n",
    "# Run TCDF with the selected total dataset of EBT data\n",
    "\n",
    "%run -i \"runTCDF.py\"  --ground_truth data/standard_1_0.1_noisy_EBT_0_100_dataset.csv=data/EBT_demo_groundtruth.csv --learning_rate 0.1 --hidden_layers 2 --epochs 2000 --log_interval 250 --significance 0.9 --dilation_coefficient 4 --kernel_size 4 --seed 37519"
   ]
  },
  {
   "cell_type": "code",
   "execution_count": null,
   "id": "3e2d9c78",
   "metadata": {},
   "outputs": [],
   "source": [
    "# Run TCDF for predictive accuracy\n",
    "\n",
    "%run -i \"evaluate_predictions_TCDF.py\" --data data/standard_1_0.1_noisy_EBT_0_100_dataset.csv --learning_rate 0.1 --hidden_layers 2 --epochs 2000 --log_interval 250 --dilation_coefficient 4 --kernel_size 4 --seed 37519 --plot --train_test_split 0.4"
   ]
  },
  {
   "cell_type": "code",
   "execution_count": null,
   "id": "db92a614",
   "metadata": {},
   "outputs": [],
   "source": [
    "%matplotlib inline\n",
    "# Set figure size \n",
    "plt.rcParams['figure.figsize'] = [25, 10]\n",
    "\n",
    "# Plot training losses\n",
    "plot_performance(alllosses)"
   ]
  },
  {
   "cell_type": "code",
   "execution_count": null,
   "id": "b0b801a2",
   "metadata": {},
   "outputs": [],
   "source": [
    "%matplotlib inline\n",
    "# Set figure size \n",
    "plt.rcParams['figure.figsize'] = [25, 10]\n",
    "\n",
    "# Plot training losses\n",
    "plot_performance(accuracy)"
   ]
  },
  {
   "cell_type": "code",
   "execution_count": null,
   "id": "56ce900c",
   "metadata": {},
   "outputs": [],
   "source": [
    "%matplotlib inline\n",
    "\n",
    "# Run TCDF with the selected total dataset of EBT data\n",
    "\n",
    "%run -i \"runTCDF.py\"  --ground_truth data/standard_1_0.1_noisy_EBT_0_100_dataset.csv=data/EBT_demo_groundtruth.csv --learning_rate 0.1 --hidden_layers 2 --epochs 2000 --log_interval 250 --significance 0.9 --dilation_coefficient 4 --kernel_size 4 --seed 15787"
   ]
  },
  {
   "cell_type": "code",
   "execution_count": null,
   "id": "f8d82a30",
   "metadata": {},
   "outputs": [],
   "source": [
    "# Run TCDF for predictive accuracy\n",
    "\n",
    "%run -i \"evaluate_predictions_TCDF.py\" --data data/standard_1_0.1_noisy_EBT_0_100_dataset.csv --learning_rate 0.1 --hidden_layers 2 --epochs 2000 --log_interval 250 --dilation_coefficient 4 --kernel_size 4 --seed 15787 --plot --train_test_split 0.4"
   ]
  },
  {
   "cell_type": "code",
   "execution_count": null,
   "id": "5025df02",
   "metadata": {},
   "outputs": [],
   "source": [
    "%matplotlib inline\n",
    "# Set figure size \n",
    "plt.rcParams['figure.figsize'] = [25, 10]\n",
    "\n",
    "# Plot training losses\n",
    "plot_performance(alllosses)"
   ]
  },
  {
   "cell_type": "code",
   "execution_count": null,
   "id": "a471546e",
   "metadata": {},
   "outputs": [],
   "source": [
    "%matplotlib inline\n",
    "# Set figure size \n",
    "plt.rcParams['figure.figsize'] = [25, 10]\n",
    "\n",
    "# Plot training losses\n",
    "plot_performance(accuracy)"
   ]
  },
  {
   "cell_type": "code",
   "execution_count": null,
   "id": "e2056e3f",
   "metadata": {},
   "outputs": [],
   "source": [
    "%matplotlib inline\n",
    "\n",
    "# Run TCDF with the selected total dataset of EBT data\n",
    "\n",
    "%run -i \"runTCDF.py\"  --ground_truth data/standard_1_0.1_noisy_EBT_0_100_dataset.csv=data/EBT_demo_groundtruth.csv --learning_rate 0.1 --hidden_layers 2 --epochs 2000 --log_interval 250 --significance 0.9 --dilation_coefficient 4 --kernel_size 4 --seed 74326"
   ]
  },
  {
   "cell_type": "code",
   "execution_count": null,
   "id": "fb5c01e4",
   "metadata": {},
   "outputs": [],
   "source": [
    "# Run TCDF for predictive accuracy\n",
    "\n",
    "%run -i \"evaluate_predictions_TCDF.py\" --data data/standard_1_0.1_noisy_EBT_0_100_dataset.csv --learning_rate 0.1 --hidden_layers 2 --epochs 2000 --log_interval 250 --dilation_coefficient 4 --kernel_size 4 --seed 74326 --plot --train_test_split 0.4"
   ]
  },
  {
   "cell_type": "code",
   "execution_count": null,
   "id": "2837709f",
   "metadata": {},
   "outputs": [],
   "source": [
    "%matplotlib inline\n",
    "# Set figure size \n",
    "plt.rcParams['figure.figsize'] = [25, 10]\n",
    "\n",
    "# Plot training losses\n",
    "plot_performance(alllosses)"
   ]
  },
  {
   "cell_type": "code",
   "execution_count": null,
   "id": "c08b570a",
   "metadata": {},
   "outputs": [],
   "source": [
    "%matplotlib inline\n",
    "# Set figure size \n",
    "plt.rcParams['figure.figsize'] = [25, 10]\n",
    "\n",
    "# Plot training losses\n",
    "plot_performance(accuracy)"
   ]
  },
  {
   "cell_type": "markdown",
   "id": "4241df26",
   "metadata": {},
   "source": [
    "#### TCDF 0-100 years: second run (increased hidden layers by 1, decreased dilation coefficient and kernel size by 1)"
   ]
  },
  {
   "cell_type": "code",
   "execution_count": null,
   "id": "ea40fa09",
   "metadata": {},
   "outputs": [],
   "source": [
    "%matplotlib inline\n",
    "\n",
    "# Run TCDF with the selected total dataset of EBT data\n",
    "\n",
    "%run -i \"runTCDF.py\"  --ground_truth data/standard_1_0.1_noisy_EBT_0_100_dataset.csv=data/EBT_demo_groundtruth.csv --learning_rate 0.1 --hidden_layers 3 --epochs 2000 --log_interval 250 --significance 0.9 --dilation_coefficient 3 --kernel_size 3 --seed 1111"
   ]
  },
  {
   "cell_type": "code",
   "execution_count": null,
   "id": "d6cb2927",
   "metadata": {},
   "outputs": [],
   "source": [
    "# Run TCDF for predictive accuracy\n",
    "\n",
    "%run -i \"evaluate_predictions_TCDF.py\" --data data/standard_1_0.1_noisy_EBT_0_100_dataset.csv --learning_rate 0.1 --hidden_layers 3 --epochs 2000 --log_interval 250 --dilation_coefficient 3 --kernel_size 3 --seed 1111 --plot --train_test_split 0.4"
   ]
  },
  {
   "cell_type": "code",
   "execution_count": null,
   "id": "104e2d80",
   "metadata": {},
   "outputs": [],
   "source": [
    "%matplotlib inline\n",
    "# Set figure size \n",
    "plt.rcParams['figure.figsize'] = [25, 10]\n",
    "\n",
    "# Plot training losses\n",
    "plot_performance(alllosses)"
   ]
  },
  {
   "cell_type": "code",
   "execution_count": null,
   "id": "93d679bf",
   "metadata": {},
   "outputs": [],
   "source": [
    "%matplotlib inline\n",
    "# Set figure size \n",
    "plt.rcParams['figure.figsize'] = [25, 10]\n",
    "\n",
    "# Plot training losses\n",
    "plot_performance(accuracy)"
   ]
  },
  {
   "cell_type": "code",
   "execution_count": null,
   "id": "0927a224",
   "metadata": {},
   "outputs": [],
   "source": [
    "%matplotlib inline\n",
    "\n",
    "# Run TCDF with the selected total dataset of EBT data\n",
    "\n",
    "%run -i \"runTCDF.py\"  --ground_truth data/standard_1_0.1_noisy_EBT_0_100_dataset.csv=data/EBT_demo_groundtruth.csv --learning_rate 0.1 --hidden_layers 3 --epochs 2000 --log_interval 250 --significance 0.9 --dilation_coefficient 3 --kernel_size 3 --seed 18040"
   ]
  },
  {
   "cell_type": "code",
   "execution_count": null,
   "id": "30b185c6",
   "metadata": {},
   "outputs": [],
   "source": [
    "# Run TCDF for predictive accuracy\n",
    "\n",
    "%run -i \"evaluate_predictions_TCDF.py\" --data data/standard_1_0.1_noisy_EBT_0_100_dataset.csv --learning_rate 0.1 --hidden_layers 3 --epochs 2000 --log_interval 250 --dilation_coefficient 3 --kernel_size 3 --seed 18040 --plot --train_test_split 0.4"
   ]
  },
  {
   "cell_type": "code",
   "execution_count": null,
   "id": "d9ae09c4",
   "metadata": {},
   "outputs": [],
   "source": [
    "%matplotlib inline\n",
    "# Set figure size \n",
    "plt.rcParams['figure.figsize'] = [25, 10]\n",
    "\n",
    "# Plot training losses\n",
    "plot_performance(alllosses)"
   ]
  },
  {
   "cell_type": "code",
   "execution_count": null,
   "id": "8967b11b",
   "metadata": {},
   "outputs": [],
   "source": [
    "%matplotlib inline\n",
    "# Set figure size \n",
    "plt.rcParams['figure.figsize'] = [25, 10]\n",
    "\n",
    "# Plot training losses\n",
    "plot_performance(accuracy)"
   ]
  },
  {
   "cell_type": "code",
   "execution_count": null,
   "id": "ddaa88f3",
   "metadata": {},
   "outputs": [],
   "source": [
    "%matplotlib inline\n",
    "\n",
    "# Run TCDF with the selected total dataset of EBT data\n",
    "\n",
    "%run -i \"runTCDF.py\"  --ground_truth data/standard_1_0.1_noisy_EBT_0_100_dataset.csv=data/EBT_demo_groundtruth.csv --learning_rate 0.1 --hidden_layers 3 --epochs 2000 --log_interval 250 --significance 0.9 --dilation_coefficient 3 --kernel_size 3 --seed 86547"
   ]
  },
  {
   "cell_type": "code",
   "execution_count": null,
   "id": "0101ec89",
   "metadata": {},
   "outputs": [],
   "source": [
    "# Run TCDF for predictive accuracy\n",
    "\n",
    "%run -i \"evaluate_predictions_TCDF.py\" --data data/standard_1_0.1_noisy_EBT_0_100_dataset.csv --learning_rate 0.1 --hidden_layers 3 --epochs 2000 --log_interval 250 --dilation_coefficient 3 --kernel_size 3 --seed 86547 --plot --train_test_split 0.4"
   ]
  },
  {
   "cell_type": "code",
   "execution_count": null,
   "id": "68cac2f3",
   "metadata": {},
   "outputs": [],
   "source": [
    "%matplotlib inline\n",
    "# Set figure size \n",
    "plt.rcParams['figure.figsize'] = [25, 10]\n",
    "\n",
    "# Plot training losses\n",
    "plot_performance(alllosses)"
   ]
  },
  {
   "cell_type": "code",
   "execution_count": null,
   "id": "4047d571",
   "metadata": {},
   "outputs": [],
   "source": [
    "%matplotlib inline\n",
    "# Set figure size \n",
    "plt.rcParams['figure.figsize'] = [25, 10]\n",
    "\n",
    "# Plot training losses\n",
    "plot_performance(accuracy)"
   ]
  },
  {
   "cell_type": "markdown",
   "id": "3c0c47d3",
   "metadata": {},
   "source": [
    "#### 0 - 20 years"
   ]
  },
  {
   "cell_type": "code",
   "execution_count": null,
   "id": "1c1cb019",
   "metadata": {},
   "outputs": [],
   "source": [
    "# Select data between 0 and 20 years\n",
    "noisy_ebt_0_20 = select_data(noisy_ebt, 0, 20, 'standard')\n",
    "\n",
    "# Create file path for new file\n",
    "EBTScaled_path = os.path.join(TCDFdata_path, 'standard_1_0.1_noisy_EBT_0_20_dataset.csv')\n",
    "\n",
    "# Write clean dataframe demo_ebt to a new .csv file\n",
    "noisy_ebt_0_20.to_csv(EBTScaled_path, index = False)"
   ]
  },
  {
   "cell_type": "markdown",
   "id": "716a1048",
   "metadata": {},
   "source": [
    "#### TCDF 0 - 20 years: first run (in triplicate)"
   ]
  },
  {
   "cell_type": "code",
   "execution_count": null,
   "id": "37f189fc",
   "metadata": {},
   "outputs": [],
   "source": [
    "%matplotlib inline\n",
    "\n",
    "# Run TCDF with the selected equilibrium dataset of EBT data\n",
    "\n",
    "%run -i \"runTCDF.py\"  --ground_truth data/standard_1_0.1_noisy_EBT_0_20_dataset.csv=data/EBT_demo_groundtruth.csv --learning_rate 0.1 --hidden_layers 2 --epochs 2000 --log_interval 250 --significance 0.9 --dilation_coefficient 4 --kernel_size 4 --seed 37519"
   ]
  },
  {
   "cell_type": "code",
   "execution_count": null,
   "id": "ef191a69",
   "metadata": {},
   "outputs": [],
   "source": [
    "# Run TCDF for predictive accuracy\n",
    "\n",
    "%run -i \"evaluate_predictions_TCDF.py\" --data data/standard_1_0.1_noisy_EBT_0_20_dataset.csv --learning_rate 0.1 --hidden_layers 2 --epochs 2000 --log_interval 250 --dilation_coefficient 4 --kernel_size 4 --seed 37519 --plot --train_test_split 0.8"
   ]
  },
  {
   "cell_type": "code",
   "execution_count": null,
   "id": "9c4cdf98",
   "metadata": {},
   "outputs": [],
   "source": [
    "%matplotlib inline\n",
    "# Set figure size \n",
    "plt.rcParams['figure.figsize'] = [25, 10]\n",
    "\n",
    "# Plot training losses\n",
    "plot_performance(alllosses)"
   ]
  },
  {
   "cell_type": "code",
   "execution_count": null,
   "id": "47dab742",
   "metadata": {},
   "outputs": [],
   "source": [
    "%matplotlib inline\n",
    "# Set figure size \n",
    "plt.rcParams['figure.figsize'] = [25, 10]\n",
    "\n",
    "# Plot accuracy (MASE values)\n",
    "plot_performance(accuracy)"
   ]
  },
  {
   "cell_type": "code",
   "execution_count": null,
   "id": "cbb389b4",
   "metadata": {},
   "outputs": [],
   "source": [
    "%matplotlib inline\n",
    "\n",
    "# Run TCDF with the selected equilibrium dataset of EBT data\n",
    "\n",
    "%run -i \"runTCDF.py\"  --ground_truth data/standard_1_0.1_noisy_EBT_0_20_dataset.csv=data/EBT_demo_groundtruth.csv --learning_rate 0.1 --hidden_layers 2 --epochs 2000 --log_interval 250 --significance 0.9 --dilation_coefficient 4 --kernel_size 4 --seed 49741"
   ]
  },
  {
   "cell_type": "code",
   "execution_count": null,
   "id": "3b8a94f9",
   "metadata": {},
   "outputs": [],
   "source": [
    "# Run TCDF for predictive accuracy\n",
    "\n",
    "%run -i \"evaluate_predictions_TCDF.py\" --data data/standard_1_0.1_noisy_EBT_0_20_dataset.csv --learning_rate 0.1 --hidden_layers 2 --epochs 2000 --log_interval 250 --dilation_coefficient 4 --kernel_size 4 --seed 49741 --plot --train_test_split 0.8"
   ]
  },
  {
   "cell_type": "code",
   "execution_count": null,
   "id": "70b58a8e",
   "metadata": {},
   "outputs": [],
   "source": [
    "%matplotlib inline\n",
    "# Set figure size \n",
    "plt.rcParams['figure.figsize'] = [25, 10]\n",
    "\n",
    "# Plot training losses\n",
    "plot_performance(alllosses)"
   ]
  },
  {
   "cell_type": "code",
   "execution_count": null,
   "id": "0892925e",
   "metadata": {},
   "outputs": [],
   "source": [
    "%matplotlib inline\n",
    "# Set figure size \n",
    "plt.rcParams['figure.figsize'] = [25, 10]\n",
    "\n",
    "# Plot accuracy (MASE values)\n",
    "plot_performance(accuracy)"
   ]
  },
  {
   "cell_type": "code",
   "execution_count": null,
   "id": "d0fe0ef8",
   "metadata": {},
   "outputs": [],
   "source": [
    "%matplotlib inline\n",
    "\n",
    "# Run TCDF with the selected equilibrium dataset of EBT data\n",
    "\n",
    "%run -i \"runTCDF.py\"  --ground_truth data/standard_1_0.1_noisy_EBT_0_20_dataset.csv=data/EBT_demo_groundtruth.csv --learning_rate 0.1 --hidden_layers 2 --epochs 2000 --log_interval 250 --significance 0.9 --dilation_coefficient 4 --kernel_size 4 --seed 37786"
   ]
  },
  {
   "cell_type": "code",
   "execution_count": null,
   "id": "1a8cd181",
   "metadata": {},
   "outputs": [],
   "source": [
    "# Run TCDF for predictive accuracy\n",
    "\n",
    "%run -i \"evaluate_predictions_TCDF.py\" --data data/standard_1_0.1_noisy_EBT_0_20_dataset.csv --learning_rate 0.1 --hidden_layers 2 --epochs 2000 --log_interval 250 --dilation_coefficient 4 --kernel_size 4 --seed 37786 --plot --train_test_split 0.8"
   ]
  },
  {
   "cell_type": "code",
   "execution_count": null,
   "id": "b2bdc225",
   "metadata": {},
   "outputs": [],
   "source": [
    "%matplotlib inline\n",
    "# Set figure size \n",
    "plt.rcParams['figure.figsize'] = [25, 10]\n",
    "\n",
    "# Plot training losses\n",
    "plot_performance(alllosses)"
   ]
  },
  {
   "cell_type": "code",
   "execution_count": null,
   "id": "9576ce52",
   "metadata": {},
   "outputs": [],
   "source": [
    "%matplotlib inline\n",
    "# Set figure size \n",
    "plt.rcParams['figure.figsize'] = [25, 10]\n",
    "\n",
    "# Plot accuracy (MASE values)\n",
    "plot_performance(accuracy)"
   ]
  },
  {
   "cell_type": "markdown",
   "id": "0fb4ac8c",
   "metadata": {},
   "source": [
    "#### TCDF 0-20 years: second run (increased hidden layers by 1, decreased dilation coefficient and kernel size by 1)"
   ]
  },
  {
   "cell_type": "code",
   "execution_count": null,
   "id": "eadcf8a7",
   "metadata": {},
   "outputs": [],
   "source": [
    "%matplotlib inline\n",
    "\n",
    "# Run TCDF with the selected equilibrium dataset of EBT data\n",
    "\n",
    "%run -i \"runTCDF.py\"  --ground_truth data/standard_1_0.1_noisy_EBT_0_20_dataset.csv=data/EBT_demo_groundtruth.csv --learning_rate 0.1 --hidden_layers 3 --epochs 2000 --log_interval 250 --significance 0.9 --dilation_coefficient 3 --kernel_size 3 --seed 94139\n"
   ]
  },
  {
   "cell_type": "code",
   "execution_count": null,
   "id": "b6b4d3b0",
   "metadata": {},
   "outputs": [],
   "source": [
    "# Run TCDF for predictive accuracy\n",
    "\n",
    "%run -i \"evaluate_predictions_TCDF.py\" --data data/standard_1_0.1_noisy_EBT_0_20_dataset.csv --learning_rate 0.1 --hidden_layers 3 --epochs 2000 --log_interval 250 --dilation_coefficient 3 --kernel_size 3 --seed 94139 --plot --train_test_split 0.8"
   ]
  },
  {
   "cell_type": "code",
   "execution_count": null,
   "id": "df7f80ee",
   "metadata": {},
   "outputs": [],
   "source": [
    "%matplotlib inline\n",
    "# Set figure size \n",
    "plt.rcParams['figure.figsize'] = [25, 10]\n",
    "\n",
    "# Plot training losses\n",
    "plot_performance(alllosses)"
   ]
  },
  {
   "cell_type": "code",
   "execution_count": null,
   "id": "c811fbd4",
   "metadata": {},
   "outputs": [],
   "source": [
    "%matplotlib inline\n",
    "# Set figure size \n",
    "plt.rcParams['figure.figsize'] = [25, 10]\n",
    "\n",
    "# Plot accuracy (MASE values)\n",
    "plot_performance(accuracy)"
   ]
  },
  {
   "cell_type": "code",
   "execution_count": null,
   "id": "a78819c8",
   "metadata": {},
   "outputs": [],
   "source": [
    "%matplotlib inline\n",
    "\n",
    "# Run TCDF with the selected equilibrium dataset of EBT data\n",
    "\n",
    "%run -i \"runTCDF.py\"  --ground_truth data/standard_1_0.1_noisy_EBT_0_20_dataset.csv=data/EBT_demo_groundtruth.csv --learning_rate 0.1 --hidden_layers 3 --epochs 2000 --log_interval 250 --significance 0.9 --dilation_coefficient 3 --kernel_size 3 --seed 18147\n"
   ]
  },
  {
   "cell_type": "code",
   "execution_count": null,
   "id": "7269c655",
   "metadata": {},
   "outputs": [],
   "source": [
    "# Run TCDF for predictive accuracy\n",
    "\n",
    "%run -i \"evaluate_predictions_TCDF.py\" --data data/standard_1_0.1_noisy_EBT_0_20_dataset.csv --learning_rate 0.1 --hidden_layers 3 --epochs 2000 --log_interval 250 --dilation_coefficient 3 --kernel_size 3 --seed 18147 --plot --train_test_split 0.8"
   ]
  },
  {
   "cell_type": "code",
   "execution_count": null,
   "id": "ad1c68b3",
   "metadata": {},
   "outputs": [],
   "source": [
    "%matplotlib inline\n",
    "# Set figure size \n",
    "plt.rcParams['figure.figsize'] = [25, 10]\n",
    "\n",
    "# Plot training losses\n",
    "plot_performance(alllosses)"
   ]
  },
  {
   "cell_type": "code",
   "execution_count": null,
   "id": "429352ce",
   "metadata": {},
   "outputs": [],
   "source": [
    "%matplotlib inline\n",
    "# Set figure size \n",
    "plt.rcParams['figure.figsize'] = [25, 10]\n",
    "\n",
    "# Plot accuracy (MASE values)\n",
    "plot_performance(accuracy)"
   ]
  },
  {
   "cell_type": "code",
   "execution_count": null,
   "id": "faefb050",
   "metadata": {},
   "outputs": [],
   "source": [
    "%matplotlib inline\n",
    "\n",
    "# Run TCDF with the selected equilibrium dataset of EBT data\n",
    "\n",
    "%run -i \"runTCDF.py\"  --ground_truth data/standard_1_0.1_noisy_EBT_0_20_dataset.csv=data/EBT_demo_groundtruth.csv --learning_rate 0.1 --hidden_layers 3 --epochs 2000 --log_interval 250 --significance 0.9 --dilation_coefficient 3 --kernel_size 3 --seed 69089\n"
   ]
  },
  {
   "cell_type": "code",
   "execution_count": null,
   "id": "5091a41f",
   "metadata": {},
   "outputs": [],
   "source": [
    "# Run TCDF for predictive accuracy\n",
    "\n",
    "%run -i \"evaluate_predictions_TCDF.py\" --data data/standard_1_0.1_noisy_EBT_0_20_dataset.csv --learning_rate 0.1 --hidden_layers 3 --epochs 2000 --log_interval 250 --dilation_coefficient 3 --kernel_size 3 --seed 69089 --plot --train_test_split 0.8"
   ]
  },
  {
   "cell_type": "code",
   "execution_count": null,
   "id": "1152bf3d",
   "metadata": {},
   "outputs": [],
   "source": [
    "%matplotlib inline\n",
    "# Set figure size \n",
    "plt.rcParams['figure.figsize'] = [25, 10]\n",
    "\n",
    "# Plot training losses\n",
    "plot_performance(alllosses)"
   ]
  },
  {
   "cell_type": "code",
   "execution_count": null,
   "id": "2ecaa56b",
   "metadata": {},
   "outputs": [],
   "source": [
    "%matplotlib inline\n",
    "# Set figure size \n",
    "plt.rcParams['figure.figsize'] = [25, 10]\n",
    "\n",
    "# Plot accuracy (MASE values)\n",
    "plot_performance(accuracy)"
   ]
  },
  {
   "cell_type": "markdown",
   "id": "a24a0252",
   "metadata": {},
   "source": [
    "#### 70 - 100 years"
   ]
  },
  {
   "cell_type": "code",
   "execution_count": null,
   "id": "fc7e6dc7",
   "metadata": {},
   "outputs": [],
   "source": [
    "# Select data between 70 and 100 years\n",
    "noisy_ebt_70_100 = select_data(noisy_ebt, 70, 100, 'standard')\n",
    "\n",
    "# Create file path for new file\n",
    "EBTScaled_path = os.path.join(TCDFdata_path, 'standard_1_0.1_noisy_EBT_70_100_dataset.csv')\n",
    "\n",
    "# Write clean dataframe demo_ebt to a new .csv file\n",
    "noisy_ebt_70_100.to_csv(EBTScaled_path, index = False)"
   ]
  },
  {
   "cell_type": "markdown",
   "id": "ddfe13d9",
   "metadata": {},
   "source": [
    "#### TCDF 70-100: first run (in triplicate)"
   ]
  },
  {
   "cell_type": "code",
   "execution_count": null,
   "id": "a93f0015",
   "metadata": {},
   "outputs": [],
   "source": [
    "%matplotlib inline\n",
    "\n",
    "# Run TCDF with the selected equilibrium dataset of EBT data\n",
    "\n",
    "%run -i \"runTCDF.py\"  --ground_truth data/standard_1_0.1_noisy_EBT_70_100_dataset.csv=data/EBT_demo_groundtruth.csv --learning_rate 0.1 --hidden_layers 2 --epochs 2000 --log_interval 250 --significance 0.9 --dilation_coefficient 4 --kernel_size 4 --seed 34321"
   ]
  },
  {
   "cell_type": "code",
   "execution_count": null,
   "id": "35f24605",
   "metadata": {},
   "outputs": [],
   "source": [
    "# Run TCDF for predictive accuracy\n",
    "\n",
    "%run -i \"evaluate_predictions_TCDF.py\" --data data/standard_1_0.1_noisy_EBT_70_100_dataset.csv --learning_rate 0.1 --hidden_layers 2 --epochs 2000 --log_interval 250 --dilation_coefficient 4 --kernel_size 4 --seed 34321 --plot --train_test_split 0.8"
   ]
  },
  {
   "cell_type": "code",
   "execution_count": null,
   "id": "bd27ec50",
   "metadata": {},
   "outputs": [],
   "source": [
    "%matplotlib inline\n",
    "# Set figure size \n",
    "plt.rcParams['figure.figsize'] = [25, 10]\n",
    "\n",
    "# Plot training losses\n",
    "plot_performance(alllosses)"
   ]
  },
  {
   "cell_type": "code",
   "execution_count": null,
   "id": "8429afd9",
   "metadata": {},
   "outputs": [],
   "source": [
    "%matplotlib inline\n",
    "# Set figure size \n",
    "plt.rcParams['figure.figsize'] = [25, 10]\n",
    "\n",
    "# Plot accuracy (MASE values)\n",
    "plot_performance(accuracy)"
   ]
  },
  {
   "cell_type": "code",
   "execution_count": null,
   "id": "1c95fb95",
   "metadata": {},
   "outputs": [],
   "source": [
    "%matplotlib inline\n",
    "\n",
    "# Run TCDF with the selected equilibrium dataset of EBT data\n",
    "\n",
    "%run -i \"runTCDF.py\"  --ground_truth data/standard_1_0.1_noisy_EBT_70_100_dataset.csv=data/EBT_demo_groundtruth.csv --learning_rate 0.1 --hidden_layers 2 --epochs 2000 --log_interval 250 --significance 0.9 --dilation_coefficient 4 --kernel_size 4 --seed 85672"
   ]
  },
  {
   "cell_type": "code",
   "execution_count": null,
   "id": "5a97fc87",
   "metadata": {},
   "outputs": [],
   "source": [
    "# Run TCDF for predictive accuracy\n",
    "\n",
    "%run -i \"evaluate_predictions_TCDF.py\" --data data/standard_1_0.1_noisy_EBT_70_100_dataset.csv --learning_rate 0.1 --hidden_layers 2 --epochs 2000 --log_interval 250 --dilation_coefficient 4 --kernel_size 4 --seed 85672 --plot --train_test_split 0.8"
   ]
  },
  {
   "cell_type": "code",
   "execution_count": null,
   "id": "d995c915",
   "metadata": {},
   "outputs": [],
   "source": [
    "%matplotlib inline\n",
    "# Set figure size \n",
    "plt.rcParams['figure.figsize'] = [25, 10]\n",
    "\n",
    "# Plot training losses\n",
    "plot_performance(alllosses)"
   ]
  },
  {
   "cell_type": "code",
   "execution_count": null,
   "id": "f6a03f28",
   "metadata": {},
   "outputs": [],
   "source": [
    "%matplotlib inline\n",
    "# Set figure size \n",
    "plt.rcParams['figure.figsize'] = [25, 10]\n",
    "\n",
    "# Plot accuracy (MASE values)\n",
    "plot_performance(accuracy)"
   ]
  },
  {
   "cell_type": "code",
   "execution_count": null,
   "id": "671a0738",
   "metadata": {},
   "outputs": [],
   "source": [
    "%matplotlib inline\n",
    "\n",
    "# Run TCDF with the selected equilibrium dataset of EBT data\n",
    "\n",
    "%run -i \"runTCDF.py\"  --ground_truth data/standard_1_0.1_noisy_EBT_70_100_dataset.csv=data/EBT_demo_groundtruth.csv --learning_rate 0.1 --hidden_layers 2 --epochs 2000 --log_interval 250 --significance 0.9 --dilation_coefficient 4 --kernel_size 4 --seed 63109"
   ]
  },
  {
   "cell_type": "code",
   "execution_count": null,
   "id": "05455335",
   "metadata": {},
   "outputs": [],
   "source": [
    "# Run TCDF for predictive accuracy\n",
    "\n",
    "%run -i \"evaluate_predictions_TCDF.py\" --data data/standard_1_0.1_noisy_EBT_70_100_dataset.csv --learning_rate 0.1 --hidden_layers 2 --epochs 2000 --log_interval 250 --dilation_coefficient 4 --kernel_size 4 --seed 63109 --plot --train_test_split 0.8"
   ]
  },
  {
   "cell_type": "code",
   "execution_count": null,
   "id": "7d4c9902",
   "metadata": {},
   "outputs": [],
   "source": [
    "%matplotlib inline\n",
    "# Set figure size \n",
    "plt.rcParams['figure.figsize'] = [25, 10]\n",
    "\n",
    "# Plot training losses\n",
    "plot_performance(alllosses)"
   ]
  },
  {
   "cell_type": "code",
   "execution_count": null,
   "id": "d9079fef",
   "metadata": {},
   "outputs": [],
   "source": [
    "%matplotlib inline\n",
    "# Set figure size \n",
    "plt.rcParams['figure.figsize'] = [25, 10]\n",
    "\n",
    "# Plot accuracy (MASE values)\n",
    "plot_performance(accuracy)"
   ]
  },
  {
   "cell_type": "markdown",
   "id": "911bbe34",
   "metadata": {},
   "source": [
    "#### TCDF 70-100: second run  (increased hidden layers by 1, decreased dilation coefficient and kernel size by 1)"
   ]
  },
  {
   "cell_type": "code",
   "execution_count": null,
   "id": "0b71b27d",
   "metadata": {},
   "outputs": [],
   "source": [
    "%matplotlib inline\n",
    "\n",
    "# Run TCDF with the selected equilibrium dataset of EBT data\n",
    "\n",
    "%run -i \"runTCDF.py\"  --ground_truth data/standard_1_0.1_noisy_EBT_70_100_dataset.csv=data/EBT_demo_groundtruth.csv --learning_rate 0.1 --hidden_layers 3 --epochs 2000 --log_interval 250 --significance 0.9 --dilation_coefficient 3 --kernel_size 3 --seed 1238"
   ]
  },
  {
   "cell_type": "code",
   "execution_count": null,
   "id": "181aea2a",
   "metadata": {},
   "outputs": [],
   "source": [
    "# Run TCDF for predictive accuracy\n",
    "\n",
    "%run -i \"evaluate_predictions_TCDF.py\" --data data/standard_1_0.1_noisy_EBT_70_100_dataset.csv --learning_rate 0.1 --hidden_layers 3 --epochs 2000 --log_interval 250 --dilation_coefficient 3 --kernel_size 3 --seed 1238 --plot --train_test_split 0.8"
   ]
  },
  {
   "cell_type": "code",
   "execution_count": null,
   "id": "e03c4790",
   "metadata": {},
   "outputs": [],
   "source": [
    "%matplotlib inline\n",
    "# Set figure size \n",
    "plt.rcParams['figure.figsize'] = [25, 10]\n",
    "\n",
    "# Plot training losses\n",
    "plot_performance(alllosses)"
   ]
  },
  {
   "cell_type": "code",
   "execution_count": null,
   "id": "087f1fda",
   "metadata": {},
   "outputs": [],
   "source": [
    "%matplotlib inline\n",
    "# Set figure size \n",
    "plt.rcParams['figure.figsize'] = [25, 10]\n",
    "\n",
    "# Plot accuracy (MASE values)\n",
    "plot_performance(accuracy)"
   ]
  },
  {
   "cell_type": "code",
   "execution_count": null,
   "id": "0fa3186a",
   "metadata": {},
   "outputs": [],
   "source": [
    "%matplotlib inline\n",
    "\n",
    "# Run TCDF with the selected equilibrium dataset of EBT data\n",
    "\n",
    "%run -i \"runTCDF.py\"  --ground_truth data/standard_1_0.1_noisy_EBT_70_100_dataset.csv=data/EBT_demo_groundtruth.csv --learning_rate 0.1 --hidden_layers 3 --epochs 2000 --log_interval 250 --significance 0.9 --dilation_coefficient 3 --kernel_size 3 --seed 53988"
   ]
  },
  {
   "cell_type": "code",
   "execution_count": null,
   "id": "ba57e879",
   "metadata": {},
   "outputs": [],
   "source": [
    "# Run TCDF for predictive accuracy\n",
    "\n",
    "%run -i \"evaluate_predictions_TCDF.py\" --data data/standard_1_0.1_noisy_EBT_70_100_dataset.csv --learning_rate 0.1 --hidden_layers 3 --epochs 2000 --log_interval 250 --dilation_coefficient 3 --kernel_size 3 --seed 53988 --plot --train_test_split 0.8"
   ]
  },
  {
   "cell_type": "code",
   "execution_count": null,
   "id": "b54ebe98",
   "metadata": {},
   "outputs": [],
   "source": [
    "%matplotlib inline\n",
    "# Set figure size \n",
    "plt.rcParams['figure.figsize'] = [25, 10]\n",
    "\n",
    "# Plot training losses\n",
    "plot_performance(alllosses)"
   ]
  },
  {
   "cell_type": "code",
   "execution_count": null,
   "id": "bb65935b",
   "metadata": {},
   "outputs": [],
   "source": [
    "%matplotlib inline\n",
    "# Set figure size \n",
    "plt.rcParams['figure.figsize'] = [25, 10]\n",
    "\n",
    "# Plot accuracy (MASE values)\n",
    "plot_performance(accuracy)"
   ]
  },
  {
   "cell_type": "code",
   "execution_count": null,
   "id": "0b1e41ff",
   "metadata": {},
   "outputs": [],
   "source": [
    "%matplotlib inline\n",
    "\n",
    "# Run TCDF with the selected equilibrium dataset of EBT data\n",
    "\n",
    "%run -i \"runTCDF.py\"  --ground_truth data/standard_1_0.1_noisy_EBT_70_100_dataset.csv=data/EBT_demo_groundtruth.csv --learning_rate 0.1 --hidden_layers 3 --epochs 2000 --log_interval 250 --significance 0.9 --dilation_coefficient 3 --kernel_size 3 --seed 92422"
   ]
  },
  {
   "cell_type": "code",
   "execution_count": null,
   "id": "991d5b58",
   "metadata": {},
   "outputs": [],
   "source": [
    "# Run TCDF for predictive accuracy\n",
    "\n",
    "%run -i \"evaluate_predictions_TCDF.py\" --data data/standard_1_0.1_noisy_EBT_70_100_dataset.csv --learning_rate 0.1 --hidden_layers 3 --epochs 2000 --log_interval 250 --dilation_coefficient 3 --kernel_size 3 --seed 92422 --plot --train_test_split 0.8"
   ]
  },
  {
   "cell_type": "code",
   "execution_count": null,
   "id": "b448d997",
   "metadata": {},
   "outputs": [],
   "source": [
    "%matplotlib inline\n",
    "# Set figure size \n",
    "plt.rcParams['figure.figsize'] = [25, 10]\n",
    "\n",
    "# Plot training losses\n",
    "plot_performance(alllosses)"
   ]
  },
  {
   "cell_type": "code",
   "execution_count": null,
   "id": "06d69109",
   "metadata": {},
   "outputs": [],
   "source": [
    "%matplotlib inline\n",
    "# Set figure size \n",
    "plt.rcParams['figure.figsize'] = [25, 10]\n",
    "\n",
    "# Plot accuracy (MASE values)\n",
    "plot_performance(accuracy)"
   ]
  },
  {
   "cell_type": "markdown",
   "id": "cfea4860",
   "metadata": {},
   "source": [
    "#### 20 - 60 years"
   ]
  },
  {
   "cell_type": "code",
   "execution_count": null,
   "id": "e8928be3",
   "metadata": {},
   "outputs": [],
   "source": [
    "# Select data between 20 and 60 years\n",
    "noisy_ebt_20_60 = select_data(noisy_ebt, 20, 60, 'standard')\n",
    "\n",
    "# Create file path for new file\n",
    "EBTScaled_path = os.path.join(TCDFdata_path, 'standard_1_0.1_noisy_EBT_20_60_dataset.csv')\n",
    "\n",
    "# Write clean dataframe demo_ebt to a new .csv file\n",
    "noisy_ebt_20_60.to_csv(EBTScaled_path, index = False)"
   ]
  },
  {
   "cell_type": "markdown",
   "id": "54cbbf46",
   "metadata": {},
   "source": [
    "#### TCDF 20-60 years: first run (in triplicate)"
   ]
  },
  {
   "cell_type": "code",
   "execution_count": null,
   "id": "d6579aa6",
   "metadata": {},
   "outputs": [],
   "source": [
    "%matplotlib inline\n",
    "\n",
    "# Run TCDF with the selected equilibrium dataset of EBT data\n",
    "\n",
    "%run -i \"runTCDF.py\"  --ground_truth data/standard_1_0.1_noisy_EBT_20_60_dataset.csv=data/EBT_demo_groundtruth.csv --learning_rate 0.1 --hidden_layers 3 --epochs 2000 --log_interval 250 --significance 0.9 --dilation_coefficient 3 --kernel_size 3 --seed 24310"
   ]
  },
  {
   "cell_type": "code",
   "execution_count": null,
   "id": "33f62c2a",
   "metadata": {},
   "outputs": [],
   "source": [
    "# Run TCDF for predictive accuracy\n",
    "\n",
    "%run -i \"evaluate_predictions_TCDF.py\" --data data/standard_1_0.1_noisy_EBT_20_60_dataset.csv --learning_rate 0.1 --hidden_layers 3 --epochs 2000 --log_interval 250 --dilation_coefficient 3 --kernel_size 3 --seed 24310 --plot --train_test_split 0.7"
   ]
  },
  {
   "cell_type": "code",
   "execution_count": null,
   "id": "a35d4849",
   "metadata": {},
   "outputs": [],
   "source": [
    "%matplotlib inline\n",
    "# Set figure size \n",
    "plt.rcParams['figure.figsize'] = [25, 10]\n",
    "\n",
    "# Plot training losses\n",
    "plot_performance(alllosses)"
   ]
  },
  {
   "cell_type": "code",
   "execution_count": null,
   "id": "83b450e4",
   "metadata": {},
   "outputs": [],
   "source": [
    "%matplotlib inline\n",
    "# Set figure size \n",
    "plt.rcParams['figure.figsize'] = [25, 10]\n",
    "\n",
    "# Plot accuracy (MASE values)\n",
    "plot_performance(accuracy)"
   ]
  },
  {
   "cell_type": "code",
   "execution_count": null,
   "id": "3cc22248",
   "metadata": {},
   "outputs": [],
   "source": [
    "%matplotlib inline\n",
    "\n",
    "# Run TCDF with the selected equilibrium dataset of EBT data\n",
    "\n",
    "%run -i \"runTCDF.py\"  --ground_truth data/standard_1_0.1_noisy_EBT_20_60_dataset.csv=data/EBT_demo_groundtruth.csv --learning_rate 0.1 --hidden_layers 3 --epochs 2000 --log_interval 250 --significance 0.9 --dilation_coefficient 3 --kernel_size 3 --seed 77139"
   ]
  },
  {
   "cell_type": "code",
   "execution_count": null,
   "id": "76e6d160",
   "metadata": {},
   "outputs": [],
   "source": [
    "# Run TCDF for predictive accuracy\n",
    "\n",
    "%run -i \"evaluate_predictions_TCDF.py\" --data data/standard_1_0.1_noisy_EBT_20_60_dataset.csv --learning_rate 0.1 --hidden_layers 3 --epochs 2000 --log_interval 250 --dilation_coefficient 3 --kernel_size 3 --seed 77139 --plot --train_test_split 0.7"
   ]
  },
  {
   "cell_type": "code",
   "execution_count": null,
   "id": "349b633d",
   "metadata": {},
   "outputs": [],
   "source": [
    "%matplotlib inline\n",
    "# Set figure size \n",
    "plt.rcParams['figure.figsize'] = [25, 10]\n",
    "\n",
    "# Plot training losses\n",
    "plot_performance(alllosses)"
   ]
  },
  {
   "cell_type": "code",
   "execution_count": null,
   "id": "5a7cc1d8",
   "metadata": {},
   "outputs": [],
   "source": [
    "%matplotlib inline\n",
    "# Set figure size \n",
    "plt.rcParams['figure.figsize'] = [25, 10]\n",
    "\n",
    "# Plot accuracy (MASE values)\n",
    "plot_performance(accuracy)"
   ]
  },
  {
   "cell_type": "code",
   "execution_count": null,
   "id": "1dbfd852",
   "metadata": {},
   "outputs": [],
   "source": [
    "%matplotlib inline\n",
    "\n",
    "# Run TCDF with the selected equilibrium dataset of EBT data\n",
    "\n",
    "%run -i \"runTCDF.py\"  --ground_truth data/standard_1_0.1_noisy_EBT_20_60_dataset.csv=data/EBT_demo_groundtruth.csv --learning_rate 0.1 --hidden_layers 3 --epochs 2000 --log_interval 250 --significance 0.9 --dilation_coefficient 3 --kernel_size 3 --seed 45184"
   ]
  },
  {
   "cell_type": "code",
   "execution_count": null,
   "id": "625d5eb6",
   "metadata": {},
   "outputs": [],
   "source": [
    "# Run TCDF for predictive accuracy\n",
    "\n",
    "%run -i \"evaluate_predictions_TCDF.py\" --data data/standard_1_0.1_noisy_EBT_20_60_dataset.csv --learning_rate 0.1 --hidden_layers 3 --epochs 2000 --log_interval 250 --dilation_coefficient 3 --kernel_size 3 --seed 45184 --plot --train_test_split 0.7"
   ]
  },
  {
   "cell_type": "code",
   "execution_count": null,
   "id": "adb3f6d8",
   "metadata": {},
   "outputs": [],
   "source": [
    "%matplotlib inline\n",
    "# Set figure size \n",
    "plt.rcParams['figure.figsize'] = [25, 10]\n",
    "\n",
    "# Plot training losses\n",
    "plot_performance(alllosses)"
   ]
  },
  {
   "cell_type": "code",
   "execution_count": null,
   "id": "9e77b75b",
   "metadata": {},
   "outputs": [],
   "source": [
    "%matplotlib inline\n",
    "# Set figure size \n",
    "plt.rcParams['figure.figsize'] = [25, 10]\n",
    "\n",
    "# Plot accuracy (MASE values)\n",
    "plot_performance(accuracy)"
   ]
  },
  {
   "cell_type": "markdown",
   "id": "76ba7ce7",
   "metadata": {},
   "source": [
    "#### TCDF 20-60 years: second run  (decreased hidden layers by 1, increased dilation coefficient and kernel size by 1)"
   ]
  },
  {
   "cell_type": "code",
   "execution_count": null,
   "id": "ebe22453",
   "metadata": {},
   "outputs": [],
   "source": [
    "%matplotlib inline\n",
    "\n",
    "# Run TCDF with the selected equilibrium dataset of EBT data\n",
    "\n",
    "%run -i \"runTCDF.py\"  --ground_truth data/standard_1_0.1_noisy_EBT_20_60_dataset.csv=data/EBT_demo_groundtruth.csv --learning_rate 0.1 --hidden_layers 2 --epochs 2000 --log_interval 250 --significance 0.9 --dilation_coefficient 4 --kernel_size 4 --seed 78025"
   ]
  },
  {
   "cell_type": "code",
   "execution_count": null,
   "id": "05598115",
   "metadata": {},
   "outputs": [],
   "source": [
    "# Run TCDF for predictive accuracy\n",
    "\n",
    "%run -i \"evaluate_predictions_TCDF.py\" --data data/standard_1_0.1_noisy_EBT_20_60_dataset.csv --learning_rate 0.1 --hidden_layers 2 --epochs 2000 --log_interval 250 --dilation_coefficient 4 --kernel_size 4 --seed 78025 --plot --train_test_split 0.7"
   ]
  },
  {
   "cell_type": "code",
   "execution_count": null,
   "id": "a9f37246",
   "metadata": {},
   "outputs": [],
   "source": [
    "%matplotlib inline\n",
    "# Set figure size \n",
    "plt.rcParams['figure.figsize'] = [25, 10]\n",
    "\n",
    "# Plot training losses\n",
    "plot_performance(alllosses)"
   ]
  },
  {
   "cell_type": "code",
   "execution_count": null,
   "id": "1bb243b6",
   "metadata": {},
   "outputs": [],
   "source": [
    "%matplotlib inline\n",
    "# Set figure size \n",
    "plt.rcParams['figure.figsize'] = [25, 10]\n",
    "\n",
    "# Plot accuracy (MASE values)\n",
    "plot_performance(accuracy)"
   ]
  },
  {
   "cell_type": "code",
   "execution_count": null,
   "id": "e8384389",
   "metadata": {},
   "outputs": [],
   "source": [
    "%matplotlib inline\n",
    "\n",
    "# Run TCDF with the selected equilibrium dataset of EBT data\n",
    "\n",
    "%run -i \"runTCDF.py\"  --ground_truth data/standard_1_0.1_noisy_EBT_20_60_dataset.csv=data/EBT_demo_groundtruth.csv --learning_rate 0.1 --hidden_layers 2 --epochs 2000 --log_interval 250 --significance 0.9 --dilation_coefficient 4 --kernel_size 4 --seed 53391"
   ]
  },
  {
   "cell_type": "code",
   "execution_count": null,
   "id": "73d5bc77",
   "metadata": {},
   "outputs": [],
   "source": [
    "# Run TCDF for predictive accuracy\n",
    "\n",
    "%run -i \"evaluate_predictions_TCDF.py\" --data data/standard_1_0.1_noisy_EBT_20_60_dataset.csv --learning_rate 0.1 --hidden_layers 2 --epochs 2000 --log_interval 250 --dilation_coefficient 4 --kernel_size 4 --seed 53391 --plot --train_test_split 0.7"
   ]
  },
  {
   "cell_type": "code",
   "execution_count": null,
   "id": "0a0460b9",
   "metadata": {},
   "outputs": [],
   "source": [
    "%matplotlib inline\n",
    "# Set figure size \n",
    "plt.rcParams['figure.figsize'] = [25, 10]\n",
    "\n",
    "# Plot training losses\n",
    "plot_performance(alllosses)"
   ]
  },
  {
   "cell_type": "code",
   "execution_count": null,
   "id": "aa1756fd",
   "metadata": {},
   "outputs": [],
   "source": [
    "%matplotlib inline\n",
    "# Set figure size \n",
    "plt.rcParams['figure.figsize'] = [25, 10]\n",
    "\n",
    "# Plot accuracy (MASE values)\n",
    "plot_performance(accuracy)"
   ]
  },
  {
   "cell_type": "code",
   "execution_count": null,
   "id": "93130c26",
   "metadata": {},
   "outputs": [],
   "source": [
    "%matplotlib inline\n",
    "\n",
    "# Run TCDF with the selected equilibrium dataset of EBT data\n",
    "\n",
    "%run -i \"runTCDF.py\"  --ground_truth data/standard_1_0.1_noisy_EBT_20_60_dataset.csv=data/EBT_demo_groundtruth.csv --learning_rate 0.1 --hidden_layers 2 --epochs 2000 --log_interval 250 --significance 0.9 --dilation_coefficient 4 --kernel_size 4 --seed 34061"
   ]
  },
  {
   "cell_type": "code",
   "execution_count": null,
   "id": "a039f271",
   "metadata": {},
   "outputs": [],
   "source": [
    "# Run TCDF for predictive accuracy\n",
    "\n",
    "%run -i \"evaluate_predictions_TCDF.py\" --data data/standard_1_0.1_noisy_EBT_20_60_dataset.csv --learning_rate 0.1 --hidden_layers 2 --epochs 2000 --log_interval 250 --dilation_coefficient 4 --kernel_size 4 --seed 34061 --plot --train_test_split 0.7"
   ]
  },
  {
   "cell_type": "code",
   "execution_count": null,
   "id": "5009fb2e",
   "metadata": {},
   "outputs": [],
   "source": [
    "%matplotlib inline\n",
    "# Set figure size \n",
    "plt.rcParams['figure.figsize'] = [25, 10]\n",
    "\n",
    "# Plot training losses\n",
    "plot_performance(alllosses)"
   ]
  },
  {
   "cell_type": "code",
   "execution_count": null,
   "id": "99e30ef0",
   "metadata": {},
   "outputs": [],
   "source": [
    "%matplotlib inline\n",
    "# Set figure size \n",
    "plt.rcParams['figure.figsize'] = [25, 10]\n",
    "\n",
    "# Plot accuracy (MASE values)\n",
    "plot_performance(accuracy)"
   ]
  },
  {
   "cell_type": "markdown",
   "id": "be52c024",
   "metadata": {},
   "source": [
    "#### 60 - 70 years"
   ]
  },
  {
   "cell_type": "code",
   "execution_count": null,
   "id": "7acac0da",
   "metadata": {},
   "outputs": [],
   "source": [
    "# Select data between 60 and 70 years\n",
    "noisy_ebt_60_70 = select_data(noisy_ebt, 60, 70, 'standard')\n",
    "\n",
    "# Create file path for new file\n",
    "EBTScaled_path = os.path.join(TCDFdata_path, 'standard_1_0.1_noisy_EBT_60_70_dataset.csv')\n",
    "\n",
    "# Write clean dataframe demo_ebt to a new .csv file\n",
    "noisy_ebt_60_70.to_csv(EBTScaled_path, index = False)"
   ]
  },
  {
   "cell_type": "markdown",
   "id": "9282b389",
   "metadata": {},
   "source": [
    "#### TCDF 60-70 years: first run (in triplicate)"
   ]
  },
  {
   "cell_type": "code",
   "execution_count": null,
   "id": "42846e4e",
   "metadata": {},
   "outputs": [],
   "source": [
    "%matplotlib inline\n",
    "\n",
    "# Run TCDF with the selected equilibrium dataset of EBT data\n",
    "\n",
    "%run -i \"runTCDF.py\"  --ground_truth data/standard_1_0.1_noisy_EBT_60_70_dataset.csv=data/EBT_demo_groundtruth.csv --learning_rate 0.1 --hidden_layers 3 --epochs 2000 --log_interval 250 --significance 0.9 --dilation_coefficient 3 --kernel_size 3 --seed 2369"
   ]
  },
  {
   "cell_type": "code",
   "execution_count": null,
   "id": "1280e7f0",
   "metadata": {},
   "outputs": [],
   "source": [
    "# Run TCDF for predictive accuracy\n",
    "\n",
    "%run -i \"evaluate_predictions_TCDF.py\" --data data/standard_1_0.1_noisy_EBT_60_70_dataset.csv --learning_rate 0.1 --hidden_layers 3 --epochs 2000 --log_interval 250 --dilation_coefficient 3 --kernel_size 3 --seed 2369 --plot --train_test_split 0.7"
   ]
  },
  {
   "cell_type": "code",
   "execution_count": null,
   "id": "c6e0010e",
   "metadata": {},
   "outputs": [],
   "source": [
    "%matplotlib inline\n",
    "# Set figure size \n",
    "plt.rcParams['figure.figsize'] = [25, 10]\n",
    "\n",
    "# Plot training losses\n",
    "plot_performance(alllosses)"
   ]
  },
  {
   "cell_type": "code",
   "execution_count": null,
   "id": "62f5c803",
   "metadata": {},
   "outputs": [],
   "source": [
    "%matplotlib inline\n",
    "# Set figure size \n",
    "plt.rcParams['figure.figsize'] = [25, 10]\n",
    "\n",
    "# Plot accuracy (MASE values)\n",
    "plot_performance(accuracy)"
   ]
  },
  {
   "cell_type": "code",
   "execution_count": null,
   "id": "26edad1f",
   "metadata": {},
   "outputs": [],
   "source": [
    "%matplotlib inline\n",
    "\n",
    "# Run TCDF with the selected equilibrium dataset of EBT data\n",
    "\n",
    "%run -i \"runTCDF.py\"  --ground_truth data/standard_1_0.1_noisy_EBT_60_70_dataset.csv=data/EBT_demo_groundtruth.csv --learning_rate 0.1 --hidden_layers 3 --epochs 2000 --log_interval 250 --significance 0.9 --dilation_coefficient 3 --kernel_size 3 --seed 33520"
   ]
  },
  {
   "cell_type": "code",
   "execution_count": null,
   "id": "6e8c86f5",
   "metadata": {},
   "outputs": [],
   "source": [
    "# Run TCDF for predictive accuracy\n",
    "\n",
    "%run -i \"evaluate_predictions_TCDF.py\" --data data/standard_1_0.1_noisy_EBT_60_70_dataset.csv --learning_rate 0.1 --hidden_layers 3 --epochs 2000 --log_interval 250 --dilation_coefficient 3 --kernel_size 3 --seed 33520 --plot --train_test_split 0.7"
   ]
  },
  {
   "cell_type": "code",
   "execution_count": null,
   "id": "4d908967",
   "metadata": {},
   "outputs": [],
   "source": [
    "%matplotlib inline\n",
    "# Set figure size \n",
    "plt.rcParams['figure.figsize'] = [25, 10]\n",
    "\n",
    "# Plot training losses\n",
    "plot_performance(alllosses)"
   ]
  },
  {
   "cell_type": "code",
   "execution_count": null,
   "id": "97fec116",
   "metadata": {},
   "outputs": [],
   "source": [
    "%matplotlib inline\n",
    "# Set figure size \n",
    "plt.rcParams['figure.figsize'] = [25, 10]\n",
    "\n",
    "# Plot accuracy (MASE values)\n",
    "plot_performance(accuracy)"
   ]
  },
  {
   "cell_type": "code",
   "execution_count": null,
   "id": "88d5c104",
   "metadata": {},
   "outputs": [],
   "source": [
    "%matplotlib inline\n",
    "\n",
    "# Run TCDF with the selected equilibrium dataset of EBT data\n",
    "\n",
    "%run -i \"runTCDF.py\"  --ground_truth data/standard_1_0.1_noisy_EBT_60_70_dataset.csv=data/EBT_demo_groundtruth.csv --learning_rate 0.1 --hidden_layers 3 --epochs 2000 --log_interval 250 --significance 0.9 --dilation_coefficient 3 --kernel_size 3 --seed 66848"
   ]
  },
  {
   "cell_type": "code",
   "execution_count": null,
   "id": "f2cb1706",
   "metadata": {},
   "outputs": [],
   "source": [
    "# Run TCDF for predictive accuracy\n",
    "\n",
    "%run -i \"evaluate_predictions_TCDF.py\" --data data/standard_1_0.1_noisy_EBT_60_70_dataset.csv --learning_rate 0.1 --hidden_layers 3 --epochs 2000 --log_interval 250 --dilation_coefficient 3 --kernel_size 3 --seed 66848 --plot --train_test_split 0.7"
   ]
  },
  {
   "cell_type": "code",
   "execution_count": null,
   "id": "ada29383",
   "metadata": {},
   "outputs": [],
   "source": [
    "%matplotlib inline\n",
    "# Set figure size \n",
    "plt.rcParams['figure.figsize'] = [25, 10]\n",
    "\n",
    "# Plot training losses\n",
    "plot_performance(alllosses)"
   ]
  },
  {
   "cell_type": "code",
   "execution_count": null,
   "id": "f85129f6",
   "metadata": {},
   "outputs": [],
   "source": [
    "%matplotlib inline\n",
    "# Set figure size \n",
    "plt.rcParams['figure.figsize'] = [25, 10]\n",
    "\n",
    "# Plot accuracy (MASE values)\n",
    "plot_performance(accuracy)"
   ]
  },
  {
   "cell_type": "markdown",
   "id": "7fb92ddf",
   "metadata": {},
   "source": [
    "#### TCDF 60-70 years: second run  (decreased hidden layers by 1, increased dilation coefficient and kernel size by 1)"
   ]
  },
  {
   "cell_type": "code",
   "execution_count": null,
   "id": "7415d3c8",
   "metadata": {},
   "outputs": [],
   "source": [
    "%matplotlib inline\n",
    "\n",
    "# Run TCDF with the selected equilibrium dataset of EBT data\n",
    "\n",
    "%run -i \"runTCDF.py\"  --ground_truth data/standard_1_0.1_noisy_EBT_60_70_dataset.csv=data/EBT_demo_groundtruth.csv --learning_rate 0.1 --hidden_layers 2 --epochs 2000 --log_interval 250 --significance 0.9 --dilation_coefficient 4 --kernel_size 4 --seed 2369"
   ]
  },
  {
   "cell_type": "code",
   "execution_count": null,
   "id": "8854dae3",
   "metadata": {},
   "outputs": [],
   "source": [
    "# Run TCDF for predictive accuracy\n",
    "\n",
    "%run -i \"evaluate_predictions_TCDF.py\" --data data/standard_1_0.1_noisy_EBT_60_70_dataset.csv --learning_rate 0.1 --hidden_layers 2 --epochs 2000 --log_interval 250 --dilation_coefficient 4 --kernel_size 4 --seed 2369 --plot --train_test_split 0.7"
   ]
  },
  {
   "cell_type": "code",
   "execution_count": null,
   "id": "d6b70074",
   "metadata": {},
   "outputs": [],
   "source": [
    "%matplotlib inline\n",
    "# Set figure size \n",
    "plt.rcParams['figure.figsize'] = [25, 10]\n",
    "\n",
    "# Plot training losses\n",
    "plot_performance(alllosses)"
   ]
  },
  {
   "cell_type": "code",
   "execution_count": null,
   "id": "5519b7ba",
   "metadata": {},
   "outputs": [],
   "source": [
    "%matplotlib inline\n",
    "# Set figure size \n",
    "plt.rcParams['figure.figsize'] = [25, 10]\n",
    "\n",
    "# Plot accuracy (MASE values)\n",
    "plot_performance(accuracy)"
   ]
  },
  {
   "cell_type": "code",
   "execution_count": null,
   "id": "c36a41d5",
   "metadata": {},
   "outputs": [],
   "source": [
    "%matplotlib inline\n",
    "\n",
    "# Run TCDF with the selected equilibrium dataset of EBT data\n",
    "\n",
    "%run -i \"runTCDF.py\"  --ground_truth data/standard_1_0.1_noisy_EBT_60_70_dataset.csv=data/EBT_demo_groundtruth.csv --learning_rate 0.1 --hidden_layers 2 --epochs 2000 --log_interval 250 --significance 0.9 --dilation_coefficient 4 --kernel_size 4 --seed 21312"
   ]
  },
  {
   "cell_type": "code",
   "execution_count": null,
   "id": "e5fab26a",
   "metadata": {},
   "outputs": [],
   "source": [
    "# Run TCDF for predictive accuracy\n",
    "\n",
    "%run -i \"evaluate_predictions_TCDF.py\" --data data/standard_1_0.1_noisy_EBT_60_70_dataset.csv --learning_rate 0.1 --hidden_layers 2 --epochs 2000 --log_interval 250 --dilation_coefficient 4 --kernel_size 4 --seed 21312 --plot --train_test_split 0.7"
   ]
  },
  {
   "cell_type": "code",
   "execution_count": null,
   "id": "ea530289",
   "metadata": {},
   "outputs": [],
   "source": [
    "%matplotlib inline\n",
    "# Set figure size \n",
    "plt.rcParams['figure.figsize'] = [25, 10]\n",
    "\n",
    "# Plot training losses\n",
    "plot_performance(alllosses)"
   ]
  },
  {
   "cell_type": "code",
   "execution_count": null,
   "id": "12f98689",
   "metadata": {},
   "outputs": [],
   "source": [
    "%matplotlib inline\n",
    "# Set figure size \n",
    "plt.rcParams['figure.figsize'] = [25, 10]\n",
    "\n",
    "# Plot accuracy (MASE values)\n",
    "plot_performance(accuracy)"
   ]
  },
  {
   "cell_type": "code",
   "execution_count": null,
   "id": "5d2ef79c",
   "metadata": {},
   "outputs": [],
   "source": [
    "%matplotlib inline\n",
    "\n",
    "# Run TCDF with the selected equilibrium dataset of EBT data\n",
    "\n",
    "%run -i \"runTCDF.py\"  --ground_truth data/standard_1_0.1_noisy_EBT_60_70_dataset.csv=data/EBT_demo_groundtruth.csv --learning_rate 0.1 --hidden_layers 2 --epochs 2000 --log_interval 250 --significance 0.9 --dilation_coefficient 4 --kernel_size 4 --seed 8023"
   ]
  },
  {
   "cell_type": "code",
   "execution_count": null,
   "id": "6f10c334",
   "metadata": {},
   "outputs": [],
   "source": [
    "# Run TCDF for predictive accuracy\n",
    "\n",
    "%run -i \"evaluate_predictions_TCDF.py\" --data data/standard_1_0.1_noisy_EBT_60_70_dataset.csv --learning_rate 0.1 --hidden_layers 2 --epochs 2000 --log_interval 250 --dilation_coefficient 4 --kernel_size 4 --seed 8023 --plot --train_test_split 0.7"
   ]
  },
  {
   "cell_type": "code",
   "execution_count": null,
   "id": "fe27f556",
   "metadata": {},
   "outputs": [],
   "source": [
    "%matplotlib inline\n",
    "# Set figure size \n",
    "plt.rcParams['figure.figsize'] = [25, 10]\n",
    "\n",
    "# Plot training losses\n",
    "plot_performance(alllosses)"
   ]
  },
  {
   "cell_type": "code",
   "execution_count": null,
   "id": "a4bf5152",
   "metadata": {},
   "outputs": [],
   "source": [
    "%matplotlib inline\n",
    "# Set figure size \n",
    "plt.rcParams['figure.figsize'] = [25, 10]\n",
    "\n",
    "# Plot accuracy (MASE values)\n",
    "plot_performance(accuracy)"
   ]
  },
  {
   "cell_type": "markdown",
   "id": "e6edf64b",
   "metadata": {},
   "source": [
    "### Signal to Noise ratio 1:1"
   ]
  },
  {
   "cell_type": "code",
   "execution_count": null,
   "id": "9bbe980a",
   "metadata": {},
   "outputs": [],
   "source": [
    "# Create new dataset with snr 1:1\n",
    "noisy_ebt = noisy_data(1)"
   ]
  },
  {
   "cell_type": "markdown",
   "id": "aa64dd7a",
   "metadata": {},
   "source": [
    "#### 20 - 70 years"
   ]
  },
  {
   "cell_type": "code",
   "execution_count": null,
   "id": "1caef445",
   "metadata": {},
   "outputs": [],
   "source": [
    "# Select data between 20 and 70 years\n",
    "noisy_ebt_20_70 = select_data(noisy_ebt, 20, 70, 'standard')\n",
    "\n",
    "# Create file path for new file\n",
    "EBTScaled_path = os.path.join(TCDFdata_path, 'standard_1_1_noisy_EBT_20_70_dataset.csv')\n",
    "\n",
    "# Write clean dataframe demo_ebt to a new .csv file\n",
    "noisy_ebt_20_70.to_csv(EBTScaled_path, index = False)"
   ]
  },
  {
   "cell_type": "markdown",
   "id": "2f349dd4",
   "metadata": {},
   "source": [
    "#### TCDF 20-70 years: first run (in triplicate)"
   ]
  },
  {
   "cell_type": "code",
   "execution_count": null,
   "id": "7ee718f8",
   "metadata": {},
   "outputs": [],
   "source": [
    "%matplotlib inline\n",
    "\n",
    "# Run TCDF with the selected total dataset of EBT data\n",
    "\n",
    "%run -i \"runTCDF.py\"  --ground_truth data/standard_1_1_noisy_EBT_20_70_dataset.csv=data/EBT_demo_groundtruth.csv --learning_rate 0.1 --hidden_layers 3 --epochs 2000 --log_interval 250 --significance 0.9 --dilation_coefficient 3 --kernel_size 3 --seed 5678\n"
   ]
  },
  {
   "cell_type": "code",
   "execution_count": null,
   "id": "6f2b30c6",
   "metadata": {},
   "outputs": [],
   "source": [
    "# Run TCDF for predictive accuracy\n",
    "\n",
    "%run -i \"evaluate_predictions_TCDF.py\" --data data/standard_1_1_noisy_EBT_20_70_dataset.csv --learning_rate 0.1 --hidden_layers 3 --epochs 2000 --log_interval 250 --dilation_coefficient 3 --kernel_size 3 --seed 5467 --plot --train_test_split 0.5"
   ]
  },
  {
   "cell_type": "code",
   "execution_count": null,
   "id": "375a51b6",
   "metadata": {},
   "outputs": [],
   "source": [
    "%matplotlib inline\n",
    "\n",
    "# Run TCDF with the selected total dataset of EBT data\n",
    "\n",
    "%run -i \"runTCDF.py\"  --ground_truth data/standard_1_1_noisy_EBT_20_70_dataset.csv=data/EBT_demo_groundtruth.csv --learning_rate 0.1 --hidden_layers 3 --epochs 2000 --log_interval 250 --significance 0.9 --dilation_coefficient 3 --kernel_size 3 --seed 2371\n"
   ]
  },
  {
   "cell_type": "code",
   "execution_count": null,
   "id": "071bbea9",
   "metadata": {},
   "outputs": [],
   "source": [
    "# Run TCDF for predictive accuracy\n",
    "\n",
    "%run -i \"evaluate_predictions_TCDF.py\" --data data/standard_1_1_noisy_EBT_20_70_dataset.csv --learning_rate 0.1 --hidden_layers 3 --epochs 2000 --log_interval 250 --dilation_coefficient 3 --kernel_size 3 --seed 2371 --plot --train_test_split 0.5"
   ]
  },
  {
   "cell_type": "code",
   "execution_count": null,
   "id": "e8485798",
   "metadata": {},
   "outputs": [],
   "source": [
    "%matplotlib inline\n",
    "\n",
    "# Run TCDF with the selected total dataset of EBT data\n",
    "\n",
    "%run -i \"runTCDF.py\"  --ground_truth data/standard_1_1_noisy_EBT_20_70_dataset.csv=data/EBT_demo_groundtruth.csv --learning_rate 0.1 --hidden_layers 3 --epochs 2000 --log_interval 250 --significance 0.9 --dilation_coefficient 3 --kernel_size 3 --seed 1084\n"
   ]
  },
  {
   "cell_type": "code",
   "execution_count": null,
   "id": "d2097c03",
   "metadata": {},
   "outputs": [],
   "source": [
    "# Run TCDF for predictive accuracy\n",
    "\n",
    "%run -i \"evaluate_predictions_TCDF.py\" --data data/standard_1_1_noisy_EBT_20_70_dataset.csv --learning_rate 0.1 --hidden_layers 3 --epochs 2000 --log_interval 250 --dilation_coefficient 3 --kernel_size 3 --seed 1048 --plot --train_test_split 0.5"
   ]
  },
  {
   "cell_type": "code",
   "execution_count": null,
   "id": "86edd015",
   "metadata": {},
   "outputs": [],
   "source": [
    "%matplotlib inline\n",
    "# Set figure size \n",
    "plt.rcParams['figure.figsize'] = [25, 10]\n",
    "\n",
    "# Plot training losses\n",
    "plot_performance(alllosses)"
   ]
  },
  {
   "cell_type": "code",
   "execution_count": null,
   "id": "d184f6db",
   "metadata": {},
   "outputs": [],
   "source": [
    "%matplotlib inline\n",
    "# Set figure size \n",
    "plt.rcParams['figure.figsize'] = [25, 10]\n",
    "\n",
    "# Plot accuracy (MASE values)\n",
    "plot_performance(accuracy)"
   ]
  },
  {
   "cell_type": "markdown",
   "id": "df06c81c",
   "metadata": {},
   "source": [
    "#### TCDF 20-70 years: second run (decreased hidden layers by 1, incremented dilation coefficient and kernel size by 1)"
   ]
  },
  {
   "cell_type": "code",
   "execution_count": null,
   "id": "625a373d",
   "metadata": {},
   "outputs": [],
   "source": [
    "%matplotlib inline\n",
    "\n",
    "# Run TCDF with the selected total dataset of EBT data\n",
    "\n",
    "%run -i \"runTCDF.py\"  --ground_truth data/standard_1_1_noisy_EBT_20_70_dataset.csv=data/EBT_demo_groundtruth.csv --learning_rate 0.1 --hidden_layers 2 --epochs 2000 --log_interval 250 --significance 0.9 --dilation_coefficient 4 --kernel_size 4 --seed 5467\n"
   ]
  },
  {
   "cell_type": "code",
   "execution_count": null,
   "id": "2e0fea1a",
   "metadata": {},
   "outputs": [],
   "source": [
    "# Run TCDF for predictive accuracy\n",
    "\n",
    "%run -i \"evaluate_predictions_TCDF.py\" --data data/standard_1_1_noisy_EBT_20_70_dataset.csv --learning_rate 0.1 --hidden_layers 2 --epochs 2000 --log_interval 250 --dilation_coefficient 4 --kernel_size 4 --seed 5467 --plot --train_test_split 0.5"
   ]
  },
  {
   "cell_type": "code",
   "execution_count": null,
   "id": "3dd4d22f",
   "metadata": {},
   "outputs": [],
   "source": [
    "%matplotlib inline\n",
    "\n",
    "# Run TCDF with the selected total dataset of EBT data\n",
    "\n",
    "%run -i \"runTCDF.py\"  --ground_truth data/standard_1_1_noisy_EBT_20_70_dataset.csv=data/EBT_demo_groundtruth.csv --learning_rate 0.1 --hidden_layers 2 --epochs 2000 --log_interval 250 --significance 0.9 --dilation_coefficient 4 --kernel_size 4 --seed 9238\n"
   ]
  },
  {
   "cell_type": "code",
   "execution_count": null,
   "id": "95968e41",
   "metadata": {},
   "outputs": [],
   "source": [
    "# Run TCDF for predictive accuracy\n",
    "\n",
    "%run -i \"evaluate_predictions_TCDF.py\" --data data/standard_1_1_noisy_EBT_20_70_dataset.csv --learning_rate 0.1 --hidden_layers 2 --epochs 2000 --log_interval 250 --dilation_coefficient 4 --kernel_size 4 --seed 9238 --plot --train_test_split 0.5"
   ]
  },
  {
   "cell_type": "code",
   "execution_count": null,
   "id": "7c8ba751",
   "metadata": {},
   "outputs": [],
   "source": [
    "%matplotlib inline\n",
    "\n",
    "# Run TCDF with the selected total dataset of EBT data\n",
    "\n",
    "%run -i \"runTCDF.py\"  --ground_truth data/standard_1_1_noisy_EBT_20_70_dataset.csv=data/EBT_demo_groundtruth.csv --learning_rate 0.1 --hidden_layers 2 --epochs 2000 --log_interval 250 --significance 0.9 --dilation_coefficient 4 --kernel_size 4 --seed 157\n"
   ]
  },
  {
   "cell_type": "code",
   "execution_count": null,
   "id": "8e76b3fe",
   "metadata": {},
   "outputs": [],
   "source": [
    "# Run TCDF for predictive accuracy\n",
    "\n",
    "%run -i \"evaluate_predictions_TCDF.py\" --data data/standard_1_1_noisy_EBT_20_70_dataset.csv --learning_rate 0.1 --hidden_layers 2 --epochs 2000 --log_interval 250 --dilation_coefficient 4 --kernel_size 4 --seed 157 --plot --train_test_split 0.5"
   ]
  },
  {
   "cell_type": "code",
   "execution_count": null,
   "id": "25f2d69e",
   "metadata": {},
   "outputs": [],
   "source": [
    "%matplotlib inline\n",
    "# Set figure size \n",
    "plt.rcParams['figure.figsize'] = [25, 10]\n",
    "\n",
    "# Plot training losses\n",
    "plot_performance(alllosses)"
   ]
  },
  {
   "cell_type": "code",
   "execution_count": null,
   "id": "0cf3ad04",
   "metadata": {},
   "outputs": [],
   "source": [
    "%matplotlib inline\n",
    "# Set figure size \n",
    "plt.rcParams['figure.figsize'] = [25, 10]\n",
    "\n",
    "# Plot accuracy (MASE values)\n",
    "plot_performance(accuracy)"
   ]
  },
  {
   "cell_type": "markdown",
   "id": "7b6034d2",
   "metadata": {},
   "source": [
    "#### 0 - 100 years"
   ]
  },
  {
   "cell_type": "code",
   "execution_count": null,
   "id": "81e6bb08",
   "metadata": {},
   "outputs": [],
   "source": [
    "# Select data between 0 and 100 years\n",
    "noisy_ebt_0_100 = select_data(noisy_ebt, 0, 100, 'standard')\n",
    "\n",
    "# Create file path for new file\n",
    "EBTScaled_path = os.path.join(TCDFdata_path, 'standard_1_1_noisy_EBT_0_100_dataset.csv')\n",
    "\n",
    "# Write clean dataframe demo_ebt to a new .csv file\n",
    "noisy_ebt_0_100.to_csv(EBTScaled_path, index = False)"
   ]
  },
  {
   "cell_type": "markdown",
   "id": "03eec8c4",
   "metadata": {},
   "source": [
    "#### TCDF 0-100 years: first run (in triplicate)"
   ]
  },
  {
   "cell_type": "code",
   "execution_count": null,
   "id": "9f153b0a",
   "metadata": {},
   "outputs": [],
   "source": [
    "%matplotlib inline\n",
    "\n",
    "# Run TCDF with the selected total dataset of EBT data\n",
    "\n",
    "%run -i \"runTCDF.py\"  --ground_truth data/standard_1_1_noisy_EBT_0_100_dataset.csv=data/EBT_demo_groundtruth.csv --learning_rate 0.1 --hidden_layers 2 --epochs 2000 --log_interval 250 --significance 0.9 --dilation_coefficient 4 --kernel_size 4 --seed 37519"
   ]
  },
  {
   "cell_type": "code",
   "execution_count": null,
   "id": "9795cb6d",
   "metadata": {},
   "outputs": [],
   "source": [
    "# Run TCDF for predictive accuracy\n",
    "\n",
    "%run -i \"evaluate_predictions_TCDF.py\" --data data/standard_1_1_noisy_EBT_0_100_dataset.csv --learning_rate 0.1 --hidden_layers 2 --epochs 2000 --log_interval 250 --dilation_coefficient 4 --kernel_size 4 --seed 37519 --plot --train_test_split 0.4"
   ]
  },
  {
   "cell_type": "code",
   "execution_count": null,
   "id": "d639cfa4",
   "metadata": {},
   "outputs": [],
   "source": [
    "%matplotlib inline\n",
    "# Set figure size \n",
    "plt.rcParams['figure.figsize'] = [25, 10]\n",
    "\n",
    "# Plot training losses\n",
    "plot_performance(alllosses)"
   ]
  },
  {
   "cell_type": "code",
   "execution_count": null,
   "id": "1b14bc95",
   "metadata": {},
   "outputs": [],
   "source": [
    "%matplotlib inline\n",
    "# Set figure size \n",
    "plt.rcParams['figure.figsize'] = [25, 10]\n",
    "\n",
    "# Plot training losses\n",
    "plot_performance(accuracy)"
   ]
  },
  {
   "cell_type": "code",
   "execution_count": null,
   "id": "e82bf5c3",
   "metadata": {},
   "outputs": [],
   "source": [
    "%matplotlib inline\n",
    "\n",
    "# Run TCDF with the selected total dataset of EBT data\n",
    "\n",
    "%run -i \"runTCDF.py\"  --ground_truth data/standard_1_1_noisy_EBT_0_100_dataset.csv=data/EBT_demo_groundtruth.csv --learning_rate 0.1 --hidden_layers 2 --epochs 2000 --log_interval 250 --significance 0.9 --dilation_coefficient 4 --kernel_size 4 --seed 15787"
   ]
  },
  {
   "cell_type": "code",
   "execution_count": null,
   "id": "7e829e93",
   "metadata": {},
   "outputs": [],
   "source": [
    "# Run TCDF for predictive accuracy\n",
    "\n",
    "%run -i \"evaluate_predictions_TCDF.py\" --data data/standard_1_1_noisy_EBT_0_100_dataset.csv --learning_rate 0.1 --hidden_layers 2 --epochs 2000 --log_interval 250 --dilation_coefficient 4 --kernel_size 4 --seed 15787 --plot --train_test_split 0.4"
   ]
  },
  {
   "cell_type": "code",
   "execution_count": null,
   "id": "77abfc62",
   "metadata": {},
   "outputs": [],
   "source": [
    "%matplotlib inline\n",
    "# Set figure size \n",
    "plt.rcParams['figure.figsize'] = [25, 10]\n",
    "\n",
    "# Plot training losses\n",
    "plot_performance(alllosses)"
   ]
  },
  {
   "cell_type": "code",
   "execution_count": null,
   "id": "e6094b58",
   "metadata": {},
   "outputs": [],
   "source": [
    "%matplotlib inline\n",
    "# Set figure size \n",
    "plt.rcParams['figure.figsize'] = [25, 10]\n",
    "\n",
    "# Plot training losses\n",
    "plot_performance(accuracy)"
   ]
  },
  {
   "cell_type": "code",
   "execution_count": null,
   "id": "5aa4042a",
   "metadata": {},
   "outputs": [],
   "source": [
    "%matplotlib inline\n",
    "\n",
    "# Run TCDF with the selected total dataset of EBT data\n",
    "\n",
    "%run -i \"runTCDF.py\"  --ground_truth data/standard_1_1_noisy_EBT_0_100_dataset.csv=data/EBT_demo_groundtruth.csv --learning_rate 0.1 --hidden_layers 2 --epochs 2000 --log_interval 250 --significance 0.9 --dilation_coefficient 4 --kernel_size 4 --seed 74326"
   ]
  },
  {
   "cell_type": "code",
   "execution_count": null,
   "id": "2f1c139d",
   "metadata": {},
   "outputs": [],
   "source": [
    "# Run TCDF for predictive accuracy\n",
    "\n",
    "%run -i \"evaluate_predictions_TCDF.py\" --data data/standard_1_1_noisy_EBT_0_100_dataset.csv --learning_rate 0.1 --hidden_layers 2 --epochs 2000 --log_interval 250 --dilation_coefficient 4 --kernel_size 4 --seed 74326 --plot --train_test_split 0.4"
   ]
  },
  {
   "cell_type": "code",
   "execution_count": null,
   "id": "ac64412f",
   "metadata": {},
   "outputs": [],
   "source": [
    "%matplotlib inline\n",
    "# Set figure size \n",
    "plt.rcParams['figure.figsize'] = [25, 10]\n",
    "\n",
    "# Plot training losses\n",
    "plot_performance(alllosses)"
   ]
  },
  {
   "cell_type": "code",
   "execution_count": null,
   "id": "f937ffbd",
   "metadata": {},
   "outputs": [],
   "source": [
    "%matplotlib inline\n",
    "# Set figure size \n",
    "plt.rcParams['figure.figsize'] = [25, 10]\n",
    "\n",
    "# Plot training losses\n",
    "plot_performance(accuracy)"
   ]
  },
  {
   "cell_type": "markdown",
   "id": "57bc4cf3",
   "metadata": {},
   "source": [
    "#### TCDF 0-100 years: second run (increased hidden layers by 1, decreased dilation coefficient and kernel size by 1)"
   ]
  },
  {
   "cell_type": "code",
   "execution_count": null,
   "id": "09188f20",
   "metadata": {},
   "outputs": [],
   "source": [
    "%matplotlib inline\n",
    "\n",
    "# Run TCDF with the selected total dataset of EBT data\n",
    "\n",
    "%run -i \"runTCDF.py\"  --ground_truth data/standard_1_1_noisy_EBT_0_100_dataset.csv=data/EBT_demo_groundtruth.csv --learning_rate 0.1 --hidden_layers 3 --epochs 2000 --log_interval 250 --significance 0.9 --dilation_coefficient 3 --kernel_size 3 --seed 1111"
   ]
  },
  {
   "cell_type": "code",
   "execution_count": null,
   "id": "67cd6461",
   "metadata": {},
   "outputs": [],
   "source": [
    "# Run TCDF for predictive accuracy\n",
    "\n",
    "%run -i \"evaluate_predictions_TCDF.py\" --data data/standard_1_1_noisy_EBT_0_100_dataset.csv --learning_rate 0.1 --hidden_layers 3 --epochs 2000 --log_interval 250 --dilation_coefficient 3 --kernel_size 3 --seed 1111 --plot --train_test_split 0.4"
   ]
  },
  {
   "cell_type": "code",
   "execution_count": null,
   "id": "24d2200c",
   "metadata": {},
   "outputs": [],
   "source": [
    "%matplotlib inline\n",
    "# Set figure size \n",
    "plt.rcParams['figure.figsize'] = [25, 10]\n",
    "\n",
    "# Plot training losses\n",
    "plot_performance(alllosses)"
   ]
  },
  {
   "cell_type": "code",
   "execution_count": null,
   "id": "95092828",
   "metadata": {},
   "outputs": [],
   "source": [
    "%matplotlib inline\n",
    "# Set figure size \n",
    "plt.rcParams['figure.figsize'] = [25, 10]\n",
    "\n",
    "# Plot training losses\n",
    "plot_performance(accuracy)"
   ]
  },
  {
   "cell_type": "code",
   "execution_count": null,
   "id": "a683ed76",
   "metadata": {},
   "outputs": [],
   "source": [
    "%matplotlib inline\n",
    "\n",
    "# Run TCDF with the selected total dataset of EBT data\n",
    "\n",
    "%run -i \"runTCDF.py\"  --ground_truth data/standard_1_1_noisy_EBT_0_100_dataset.csv=data/EBT_demo_groundtruth.csv --learning_rate 0.1 --hidden_layers 3 --epochs 2000 --log_interval 250 --significance 0.9 --dilation_coefficient 3 --kernel_size 3 --seed 18040"
   ]
  },
  {
   "cell_type": "code",
   "execution_count": null,
   "id": "cbf7a2d4",
   "metadata": {},
   "outputs": [],
   "source": [
    "# Run TCDF for predictive accuracy\n",
    "\n",
    "%run -i \"evaluate_predictions_TCDF.py\" --data data/standard_1_1_noisy_EBT_0_100_dataset.csv --learning_rate 0.1 --hidden_layers 3 --epochs 2000 --log_interval 250 --dilation_coefficient 3 --kernel_size 3 --seed 18040 --plot --train_test_split 0.4"
   ]
  },
  {
   "cell_type": "code",
   "execution_count": null,
   "id": "6a4d006c",
   "metadata": {},
   "outputs": [],
   "source": [
    "%matplotlib inline\n",
    "# Set figure size \n",
    "plt.rcParams['figure.figsize'] = [25, 10]\n",
    "\n",
    "# Plot training losses\n",
    "plot_performance(alllosses)"
   ]
  },
  {
   "cell_type": "code",
   "execution_count": null,
   "id": "498d4f1a",
   "metadata": {},
   "outputs": [],
   "source": [
    "%matplotlib inline\n",
    "# Set figure size \n",
    "plt.rcParams['figure.figsize'] = [25, 10]\n",
    "\n",
    "# Plot training losses\n",
    "plot_performance(accuracy)"
   ]
  },
  {
   "cell_type": "code",
   "execution_count": null,
   "id": "a5b72009",
   "metadata": {},
   "outputs": [],
   "source": [
    "%matplotlib inline\n",
    "\n",
    "# Run TCDF with the selected total dataset of EBT data\n",
    "\n",
    "%run -i \"runTCDF.py\"  --ground_truth data/standard_1_1_noisy_EBT_0_100_dataset.csv=data/EBT_demo_groundtruth.csv --learning_rate 0.1 --hidden_layers 3 --epochs 2000 --log_interval 250 --significance 0.9 --dilation_coefficient 3 --kernel_size 3 --seed 86547"
   ]
  },
  {
   "cell_type": "code",
   "execution_count": null,
   "id": "77ea6cd7",
   "metadata": {},
   "outputs": [],
   "source": [
    "# Run TCDF for predictive accuracy\n",
    "\n",
    "%run -i \"evaluate_predictions_TCDF.py\" --data data/standard_1_1_noisy_EBT_0_100_dataset.csv --learning_rate 0.1 --hidden_layers 3 --epochs 2000 --log_interval 250 --dilation_coefficient 3 --kernel_size 3 --seed 86547 --plot --train_test_split 0.4"
   ]
  },
  {
   "cell_type": "code",
   "execution_count": null,
   "id": "3322b64b",
   "metadata": {},
   "outputs": [],
   "source": [
    "%matplotlib inline\n",
    "# Set figure size \n",
    "plt.rcParams['figure.figsize'] = [25, 10]\n",
    "\n",
    "# Plot training losses\n",
    "plot_performance(alllosses)"
   ]
  },
  {
   "cell_type": "code",
   "execution_count": null,
   "id": "4d00fadc",
   "metadata": {},
   "outputs": [],
   "source": [
    "%matplotlib inline\n",
    "# Set figure size \n",
    "plt.rcParams['figure.figsize'] = [25, 10]\n",
    "\n",
    "# Plot training losses\n",
    "plot_performance(accuracy)"
   ]
  },
  {
   "cell_type": "markdown",
   "id": "d5203d23",
   "metadata": {},
   "source": [
    "#### 0 - 20 years"
   ]
  },
  {
   "cell_type": "code",
   "execution_count": null,
   "id": "6071bd77",
   "metadata": {},
   "outputs": [],
   "source": [
    "# Select data between 0 and 20 years\n",
    "noisy_ebt_0_20 = select_data(noisy_ebt, 0, 20, 'standard')\n",
    "\n",
    "# Create file path for new file\n",
    "EBTScaled_path = os.path.join(TCDFdata_path, 'standard_1_1_noisy_EBT_0_20_dataset.csv')\n",
    "\n",
    "# Write clean dataframe demo_ebt to a new .csv file\n",
    "noisy_ebt_0_20.to_csv(EBTScaled_path, index = False)"
   ]
  },
  {
   "cell_type": "markdown",
   "id": "3a903c42",
   "metadata": {},
   "source": [
    "#### TCDF 0 - 20 years: first run (in triplicate)"
   ]
  },
  {
   "cell_type": "code",
   "execution_count": null,
   "id": "6e7c7f28",
   "metadata": {},
   "outputs": [],
   "source": [
    "%matplotlib inline\n",
    "\n",
    "# Run TCDF with the selected equilibrium dataset of EBT data\n",
    "\n",
    "%run -i \"runTCDF.py\"  --ground_truth data/standard_1_1_noisy_EBT_0_20_dataset.csv=data/EBT_demo_groundtruth.csv --learning_rate 0.1 --hidden_layers 2 --epochs 2000 --log_interval 250 --significance 0.9 --dilation_coefficient 4 --kernel_size 4 --seed 37519"
   ]
  },
  {
   "cell_type": "code",
   "execution_count": null,
   "id": "dbc3cd93",
   "metadata": {},
   "outputs": [],
   "source": [
    "# Run TCDF for predictive accuracy\n",
    "\n",
    "%run -i \"evaluate_predictions_TCDF.py\" --data data/standard_1_1_noisy_EBT_0_20_dataset.csv --learning_rate 0.1 --hidden_layers 2 --epochs 2000 --log_interval 250 --dilation_coefficient 4 --kernel_size 4 --seed 37519 --plot --train_test_split 0.8"
   ]
  },
  {
   "cell_type": "code",
   "execution_count": null,
   "id": "7d5c8194",
   "metadata": {},
   "outputs": [],
   "source": [
    "%matplotlib inline\n",
    "# Set figure size \n",
    "plt.rcParams['figure.figsize'] = [25, 10]\n",
    "\n",
    "# Plot training losses\n",
    "plot_performance(alllosses)"
   ]
  },
  {
   "cell_type": "code",
   "execution_count": null,
   "id": "a53f294e",
   "metadata": {},
   "outputs": [],
   "source": [
    "%matplotlib inline\n",
    "# Set figure size \n",
    "plt.rcParams['figure.figsize'] = [25, 10]\n",
    "\n",
    "# Plot accuracy (MASE values)\n",
    "plot_performance(accuracy)"
   ]
  },
  {
   "cell_type": "code",
   "execution_count": null,
   "id": "ca5a00ed",
   "metadata": {},
   "outputs": [],
   "source": [
    "%matplotlib inline\n",
    "\n",
    "# Run TCDF with the selected equilibrium dataset of EBT data\n",
    "\n",
    "%run -i \"runTCDF.py\"  --ground_truth data/standard_1_1_noisy_EBT_0_20_dataset.csv=data/EBT_demo_groundtruth.csv --learning_rate 0.1 --hidden_layers 2 --epochs 2000 --log_interval 250 --significance 0.9 --dilation_coefficient 4 --kernel_size 4 --seed 49741"
   ]
  },
  {
   "cell_type": "code",
   "execution_count": null,
   "id": "9f1659a5",
   "metadata": {},
   "outputs": [],
   "source": [
    "# Run TCDF for predictive accuracy\n",
    "\n",
    "%run -i \"evaluate_predictions_TCDF.py\" --data data/standard_1_1_noisy_EBT_0_20_dataset.csv --learning_rate 0.1 --hidden_layers 2 --epochs 2000 --log_interval 250 --dilation_coefficient 4 --kernel_size 4 --seed 49741 --plot --train_test_split 0.8"
   ]
  },
  {
   "cell_type": "code",
   "execution_count": null,
   "id": "ff872dec",
   "metadata": {},
   "outputs": [],
   "source": [
    "%matplotlib inline\n",
    "# Set figure size \n",
    "plt.rcParams['figure.figsize'] = [25, 10]\n",
    "\n",
    "# Plot training losses\n",
    "plot_performance(alllosses)"
   ]
  },
  {
   "cell_type": "code",
   "execution_count": null,
   "id": "1ce473f7",
   "metadata": {},
   "outputs": [],
   "source": [
    "%matplotlib inline\n",
    "# Set figure size \n",
    "plt.rcParams['figure.figsize'] = [25, 10]\n",
    "\n",
    "# Plot accuracy (MASE values)\n",
    "plot_performance(accuracy)"
   ]
  },
  {
   "cell_type": "code",
   "execution_count": null,
   "id": "d111e8cb",
   "metadata": {},
   "outputs": [],
   "source": [
    "%matplotlib inline\n",
    "\n",
    "# Run TCDF with the selected equilibrium dataset of EBT data\n",
    "\n",
    "%run -i \"runTCDF.py\"  --ground_truth data/standard_1_1_noisy_EBT_0_20_dataset.csv=data/EBT_demo_groundtruth.csv --learning_rate 0.1 --hidden_layers 2 --epochs 2000 --log_interval 250 --significance 0.9 --dilation_coefficient 4 --kernel_size 4 --seed 37786"
   ]
  },
  {
   "cell_type": "code",
   "execution_count": null,
   "id": "ee7341c4",
   "metadata": {},
   "outputs": [],
   "source": [
    "# Run TCDF for predictive accuracy\n",
    "\n",
    "%run -i \"evaluate_predictions_TCDF.py\" --data data/standard_1_1_noisy_EBT_0_20_dataset.csv --learning_rate 0.1 --hidden_layers 2 --epochs 2000 --log_interval 250 --dilation_coefficient 4 --kernel_size 4 --seed 37786 --plot --train_test_split 0.8"
   ]
  },
  {
   "cell_type": "code",
   "execution_count": null,
   "id": "bd1a5cee",
   "metadata": {},
   "outputs": [],
   "source": [
    "%matplotlib inline\n",
    "# Set figure size \n",
    "plt.rcParams['figure.figsize'] = [25, 10]\n",
    "\n",
    "# Plot training losses\n",
    "plot_performance(alllosses)"
   ]
  },
  {
   "cell_type": "code",
   "execution_count": null,
   "id": "b8001985",
   "metadata": {},
   "outputs": [],
   "source": [
    "%matplotlib inline\n",
    "# Set figure size \n",
    "plt.rcParams['figure.figsize'] = [25, 10]\n",
    "\n",
    "# Plot accuracy (MASE values)\n",
    "plot_performance(accuracy)"
   ]
  },
  {
   "cell_type": "markdown",
   "id": "eda3b998",
   "metadata": {},
   "source": [
    "#### TCDF 0-20 years: second run (increased hidden layers by 1, decreased dilation coefficient and kernel size by 1)"
   ]
  },
  {
   "cell_type": "code",
   "execution_count": null,
   "id": "c6f71c7a",
   "metadata": {},
   "outputs": [],
   "source": [
    "%matplotlib inline\n",
    "\n",
    "# Run TCDF with the selected equilibrium dataset of EBT data\n",
    "\n",
    "%run -i \"runTCDF.py\"  --ground_truth data/standard_1_1_noisy_EBT_0_20_dataset.csv=data/EBT_demo_groundtruth.csv --learning_rate 0.1 --hidden_layers 3 --epochs 2000 --log_interval 250 --significance 0.9 --dilation_coefficient 3 --kernel_size 3 --seed 94139\n"
   ]
  },
  {
   "cell_type": "code",
   "execution_count": null,
   "id": "905a9778",
   "metadata": {},
   "outputs": [],
   "source": [
    "# Run TCDF for predictive accuracy\n",
    "\n",
    "%run -i \"evaluate_predictions_TCDF.py\" --data data/standard_1_1_noisy_EBT_0_20_dataset.csv --learning_rate 0.1 --hidden_layers 3 --epochs 2000 --log_interval 250 --dilation_coefficient 3 --kernel_size 3 --seed 94139 --plot --train_test_split 0.8"
   ]
  },
  {
   "cell_type": "code",
   "execution_count": null,
   "id": "0938f49a",
   "metadata": {},
   "outputs": [],
   "source": [
    "%matplotlib inline\n",
    "# Set figure size \n",
    "plt.rcParams['figure.figsize'] = [25, 10]\n",
    "\n",
    "# Plot training losses\n",
    "plot_performance(alllosses)"
   ]
  },
  {
   "cell_type": "code",
   "execution_count": null,
   "id": "63897fbb",
   "metadata": {},
   "outputs": [],
   "source": [
    "%matplotlib inline\n",
    "# Set figure size \n",
    "plt.rcParams['figure.figsize'] = [25, 10]\n",
    "\n",
    "# Plot accuracy (MASE values)\n",
    "plot_performance(accuracy)"
   ]
  },
  {
   "cell_type": "code",
   "execution_count": null,
   "id": "d29476ad",
   "metadata": {},
   "outputs": [],
   "source": [
    "%matplotlib inline\n",
    "\n",
    "# Run TCDF with the selected equilibrium dataset of EBT data\n",
    "\n",
    "%run -i \"runTCDF.py\"  --ground_truth data/standard_1_1_noisy_EBT_0_20_dataset.csv=data/EBT_demo_groundtruth.csv --learning_rate 0.1 --hidden_layers 3 --epochs 2000 --log_interval 250 --significance 0.9 --dilation_coefficient 3 --kernel_size 3 --seed 18147\n"
   ]
  },
  {
   "cell_type": "code",
   "execution_count": null,
   "id": "0c077ea6",
   "metadata": {},
   "outputs": [],
   "source": [
    "# Run TCDF for predictive accuracy\n",
    "\n",
    "%run -i \"evaluate_predictions_TCDF.py\" --data data/standard_1_1_noisy_EBT_0_20_dataset.csv --learning_rate 0.1 --hidden_layers 3 --epochs 2000 --log_interval 250 --dilation_coefficient 3 --kernel_size 3 --seed 18147 --plot --train_test_split 0.8"
   ]
  },
  {
   "cell_type": "code",
   "execution_count": null,
   "id": "0fac163e",
   "metadata": {},
   "outputs": [],
   "source": [
    "%matplotlib inline\n",
    "# Set figure size \n",
    "plt.rcParams['figure.figsize'] = [25, 10]\n",
    "\n",
    "# Plot training losses\n",
    "plot_performance(alllosses)"
   ]
  },
  {
   "cell_type": "code",
   "execution_count": null,
   "id": "2edc4feb",
   "metadata": {},
   "outputs": [],
   "source": [
    "%matplotlib inline\n",
    "# Set figure size \n",
    "plt.rcParams['figure.figsize'] = [25, 10]\n",
    "\n",
    "# Plot accuracy (MASE values)\n",
    "plot_performance(accuracy)"
   ]
  },
  {
   "cell_type": "code",
   "execution_count": null,
   "id": "c58e9f8d",
   "metadata": {},
   "outputs": [],
   "source": [
    "%matplotlib inline\n",
    "\n",
    "# Run TCDF with the selected equilibrium dataset of EBT data\n",
    "\n",
    "%run -i \"runTCDF.py\"  --ground_truth data/standard_1_1_noisy_EBT_0_20_dataset.csv=data/EBT_demo_groundtruth.csv --learning_rate 0.1 --hidden_layers 3 --epochs 2000 --log_interval 250 --significance 0.9 --dilation_coefficient 3 --kernel_size 3 --seed 69089\n"
   ]
  },
  {
   "cell_type": "code",
   "execution_count": null,
   "id": "72ddc8b6",
   "metadata": {},
   "outputs": [],
   "source": [
    "# Run TCDF for predictive accuracy\n",
    "\n",
    "%run -i \"evaluate_predictions_TCDF.py\" --data data/standard_1_1_noisy_EBT_0_20_dataset.csv --learning_rate 0.1 --hidden_layers 3 --epochs 2000 --log_interval 250 --dilation_coefficient 3 --kernel_size 3 --seed 69089 --plot --train_test_split 0.8"
   ]
  },
  {
   "cell_type": "code",
   "execution_count": null,
   "id": "4ea5d750",
   "metadata": {},
   "outputs": [],
   "source": [
    "%matplotlib inline\n",
    "# Set figure size \n",
    "plt.rcParams['figure.figsize'] = [25, 10]\n",
    "\n",
    "# Plot training losses\n",
    "plot_performance(alllosses)"
   ]
  },
  {
   "cell_type": "code",
   "execution_count": null,
   "id": "c8aaa6b7",
   "metadata": {},
   "outputs": [],
   "source": [
    "%matplotlib inline\n",
    "# Set figure size \n",
    "plt.rcParams['figure.figsize'] = [25, 10]\n",
    "\n",
    "# Plot accuracy (MASE values)\n",
    "plot_performance(accuracy)"
   ]
  },
  {
   "cell_type": "markdown",
   "id": "26835369",
   "metadata": {},
   "source": [
    "#### 70 - 100 years"
   ]
  },
  {
   "cell_type": "code",
   "execution_count": null,
   "id": "292772c3",
   "metadata": {},
   "outputs": [],
   "source": [
    "# Select data between 70 and 100 years\n",
    "noisy_ebt_70_100 = select_data(noisy_ebt, 70, 100, 'standard')\n",
    "\n",
    "# Create file path for new file\n",
    "EBTScaled_path = os.path.join(TCDFdata_path, 'standard_1_1_noisy_EBT_70_100_dataset.csv')\n",
    "\n",
    "# Write clean dataframe demo_ebt to a new .csv file\n",
    "noisy_ebt_70_100.to_csv(EBTScaled_path, index = False)"
   ]
  },
  {
   "cell_type": "markdown",
   "id": "9e22af8f",
   "metadata": {},
   "source": [
    "#### TCDF 70-100: first run (in triplicate)"
   ]
  },
  {
   "cell_type": "code",
   "execution_count": null,
   "id": "458eb186",
   "metadata": {},
   "outputs": [],
   "source": [
    "%matplotlib inline\n",
    "\n",
    "# Run TCDF with the selected equilibrium dataset of EBT data\n",
    "\n",
    "%run -i \"runTCDF.py\"  --ground_truth data/standard_1_1_noisy_EBT_70_100_dataset.csv=data/EBT_demo_groundtruth.csv --learning_rate 0.1 --hidden_layers 2 --epochs 2000 --log_interval 250 --significance 0.9 --dilation_coefficient 4 --kernel_size 4 --seed 34321"
   ]
  },
  {
   "cell_type": "code",
   "execution_count": null,
   "id": "8c3816bd",
   "metadata": {},
   "outputs": [],
   "source": [
    "# Run TCDF for predictive accuracy\n",
    "\n",
    "%run -i \"evaluate_predictions_TCDF.py\" --data data/standard_1_1_noisy_EBT_70_100_dataset.csv --learning_rate 0.1 --hidden_layers 2 --epochs 2000 --log_interval 250 --dilation_coefficient 4 --kernel_size 4 --seed 34321 --plot --train_test_split 0.8"
   ]
  },
  {
   "cell_type": "code",
   "execution_count": null,
   "id": "1628bb30",
   "metadata": {},
   "outputs": [],
   "source": [
    "%matplotlib inline\n",
    "# Set figure size \n",
    "plt.rcParams['figure.figsize'] = [25, 10]\n",
    "\n",
    "# Plot training losses\n",
    "plot_performance(alllosses)"
   ]
  },
  {
   "cell_type": "code",
   "execution_count": null,
   "id": "2ba3894a",
   "metadata": {},
   "outputs": [],
   "source": [
    "%matplotlib inline\n",
    "# Set figure size \n",
    "plt.rcParams['figure.figsize'] = [25, 10]\n",
    "\n",
    "# Plot accuracy (MASE values)\n",
    "plot_performance(accuracy)"
   ]
  },
  {
   "cell_type": "code",
   "execution_count": null,
   "id": "6f1cadd3",
   "metadata": {},
   "outputs": [],
   "source": [
    "%matplotlib inline\n",
    "\n",
    "# Run TCDF with the selected equilibrium dataset of EBT data\n",
    "\n",
    "%run -i \"runTCDF.py\"  --ground_truth data/standard_1_1_noisy_EBT_70_100_dataset.csv=data/EBT_demo_groundtruth.csv --learning_rate 0.1 --hidden_layers 2 --epochs 2000 --log_interval 250 --significance 0.9 --dilation_coefficient 4 --kernel_size 4 --seed 85672"
   ]
  },
  {
   "cell_type": "code",
   "execution_count": null,
   "id": "59b51efb",
   "metadata": {},
   "outputs": [],
   "source": [
    "# Run TCDF for predictive accuracy\n",
    "\n",
    "%run -i \"evaluate_predictions_TCDF.py\" --data data/standard_1_1_noisy_EBT_70_100_dataset.csv --learning_rate 0.1 --hidden_layers 2 --epochs 2000 --log_interval 250 --dilation_coefficient 4 --kernel_size 4 --seed 85672 --plot --train_test_split 0.8"
   ]
  },
  {
   "cell_type": "code",
   "execution_count": null,
   "id": "26fd692b",
   "metadata": {},
   "outputs": [],
   "source": [
    "%matplotlib inline\n",
    "# Set figure size \n",
    "plt.rcParams['figure.figsize'] = [25, 10]\n",
    "\n",
    "# Plot training losses\n",
    "plot_performance(alllosses)"
   ]
  },
  {
   "cell_type": "code",
   "execution_count": null,
   "id": "d81c00a4",
   "metadata": {},
   "outputs": [],
   "source": [
    "%matplotlib inline\n",
    "# Set figure size \n",
    "plt.rcParams['figure.figsize'] = [25, 10]\n",
    "\n",
    "# Plot accuracy (MASE values)\n",
    "plot_performance(accuracy)"
   ]
  },
  {
   "cell_type": "code",
   "execution_count": null,
   "id": "204f3df9",
   "metadata": {},
   "outputs": [],
   "source": [
    "%matplotlib inline\n",
    "\n",
    "# Run TCDF with the selected equilibrium dataset of EBT data\n",
    "\n",
    "%run -i \"runTCDF.py\"  --ground_truth data/standard_1_1_noisy_EBT_70_100_dataset.csv=data/EBT_demo_groundtruth.csv --learning_rate 0.1 --hidden_layers 2 --epochs 2000 --log_interval 250 --significance 0.9 --dilation_coefficient 4 --kernel_size 4 --seed 63109"
   ]
  },
  {
   "cell_type": "code",
   "execution_count": null,
   "id": "0f428940",
   "metadata": {},
   "outputs": [],
   "source": [
    "# Run TCDF for predictive accuracy\n",
    "\n",
    "%run -i \"evaluate_predictions_TCDF.py\" --data data/standard_1_1_noisy_EBT_70_100_dataset.csv --learning_rate 0.1 --hidden_layers 2 --epochs 2000 --log_interval 250 --dilation_coefficient 4 --kernel_size 4 --seed 63109 --plot --train_test_split 0.8"
   ]
  },
  {
   "cell_type": "code",
   "execution_count": null,
   "id": "88fc1e65",
   "metadata": {},
   "outputs": [],
   "source": [
    "%matplotlib inline\n",
    "# Set figure size \n",
    "plt.rcParams['figure.figsize'] = [25, 10]\n",
    "\n",
    "# Plot training losses\n",
    "plot_performance(alllosses)"
   ]
  },
  {
   "cell_type": "code",
   "execution_count": null,
   "id": "d64bcfcb",
   "metadata": {},
   "outputs": [],
   "source": [
    "%matplotlib inline\n",
    "# Set figure size \n",
    "plt.rcParams['figure.figsize'] = [25, 10]\n",
    "\n",
    "# Plot accuracy (MASE values)\n",
    "plot_performance(accuracy)"
   ]
  },
  {
   "cell_type": "markdown",
   "id": "211f32b5",
   "metadata": {},
   "source": [
    "#### TCDF 70-100: second run  (increased hidden layers by 1, decreased dilation coefficient and kernel size by 1)"
   ]
  },
  {
   "cell_type": "code",
   "execution_count": null,
   "id": "20c16471",
   "metadata": {},
   "outputs": [],
   "source": [
    "%matplotlib inline\n",
    "\n",
    "# Run TCDF with the selected equilibrium dataset of EBT data\n",
    "\n",
    "%run -i \"runTCDF.py\"  --ground_truth data/standard_1_1_noisy_EBT_70_100_dataset.csv=data/EBT_demo_groundtruth.csv --learning_rate 0.1 --hidden_layers 3 --epochs 2000 --log_interval 250 --significance 0.9 --dilation_coefficient 3 --kernel_size 3 --seed 1238"
   ]
  },
  {
   "cell_type": "code",
   "execution_count": null,
   "id": "63d8f772",
   "metadata": {},
   "outputs": [],
   "source": [
    "# Run TCDF for predictive accuracy\n",
    "\n",
    "%run -i \"evaluate_predictions_TCDF.py\" --data data/standard_1_1_noisy_EBT_70_100_dataset.csv --learning_rate 0.1 --hidden_layers 3 --epochs 2000 --log_interval 250 --dilation_coefficient 3 --kernel_size 3 --seed 1238 --plot --train_test_split 0.8"
   ]
  },
  {
   "cell_type": "code",
   "execution_count": null,
   "id": "5a399ac8",
   "metadata": {},
   "outputs": [],
   "source": [
    "%matplotlib inline\n",
    "# Set figure size \n",
    "plt.rcParams['figure.figsize'] = [25, 10]\n",
    "\n",
    "# Plot training losses\n",
    "plot_performance(alllosses)"
   ]
  },
  {
   "cell_type": "code",
   "execution_count": null,
   "id": "811f5666",
   "metadata": {},
   "outputs": [],
   "source": [
    "%matplotlib inline\n",
    "# Set figure size \n",
    "plt.rcParams['figure.figsize'] = [25, 10]\n",
    "\n",
    "# Plot accuracy (MASE values)\n",
    "plot_performance(accuracy)"
   ]
  },
  {
   "cell_type": "code",
   "execution_count": null,
   "id": "86ae2f8c",
   "metadata": {},
   "outputs": [],
   "source": [
    "%matplotlib inline\n",
    "\n",
    "# Run TCDF with the selected equilibrium dataset of EBT data\n",
    "\n",
    "%run -i \"runTCDF.py\"  --ground_truth data/standard_1_1_noisy_EBT_70_100_dataset.csv=data/EBT_demo_groundtruth.csv --learning_rate 0.1 --hidden_layers 3 --epochs 2000 --log_interval 250 --significance 0.9 --dilation_coefficient 3 --kernel_size 3 --seed 53988"
   ]
  },
  {
   "cell_type": "code",
   "execution_count": null,
   "id": "aa2c7a50",
   "metadata": {},
   "outputs": [],
   "source": [
    "# Run TCDF for predictive accuracy\n",
    "\n",
    "%run -i \"evaluate_predictions_TCDF.py\" --data data/standard_1_1_noisy_EBT_70_100_dataset.csv --learning_rate 0.1 --hidden_layers 3 --epochs 2000 --log_interval 250 --dilation_coefficient 3 --kernel_size 3 --seed 53988 --plot --train_test_split 0.8"
   ]
  },
  {
   "cell_type": "code",
   "execution_count": null,
   "id": "010c3d23",
   "metadata": {},
   "outputs": [],
   "source": [
    "%matplotlib inline\n",
    "# Set figure size \n",
    "plt.rcParams['figure.figsize'] = [25, 10]\n",
    "\n",
    "# Plot training losses\n",
    "plot_performance(alllosses)"
   ]
  },
  {
   "cell_type": "code",
   "execution_count": null,
   "id": "917b54e8",
   "metadata": {},
   "outputs": [],
   "source": [
    "%matplotlib inline\n",
    "# Set figure size \n",
    "plt.rcParams['figure.figsize'] = [25, 10]\n",
    "\n",
    "# Plot accuracy (MASE values)\n",
    "plot_performance(accuracy)"
   ]
  },
  {
   "cell_type": "code",
   "execution_count": null,
   "id": "d4f2a972",
   "metadata": {},
   "outputs": [],
   "source": [
    "%matplotlib inline\n",
    "\n",
    "# Run TCDF with the selected equilibrium dataset of EBT data\n",
    "\n",
    "%run -i \"runTCDF.py\"  --ground_truth data/standard_1_1_noisy_EBT_70_100_dataset.csv=data/EBT_demo_groundtruth.csv --learning_rate 0.1 --hidden_layers 3 --epochs 2000 --log_interval 250 --significance 0.9 --dilation_coefficient 3 --kernel_size 3 --seed 92422"
   ]
  },
  {
   "cell_type": "code",
   "execution_count": null,
   "id": "7a5f9317",
   "metadata": {},
   "outputs": [],
   "source": [
    "# Run TCDF for predictive accuracy\n",
    "\n",
    "%run -i \"evaluate_predictions_TCDF.py\" --data data/standard_1_1_noisy_EBT_70_100_dataset.csv --learning_rate 0.1 --hidden_layers 3 --epochs 2000 --log_interval 250 --dilation_coefficient 3 --kernel_size 3 --seed 92422 --plot --train_test_split 0.8"
   ]
  },
  {
   "cell_type": "code",
   "execution_count": null,
   "id": "d673d7b6",
   "metadata": {},
   "outputs": [],
   "source": [
    "%matplotlib inline\n",
    "# Set figure size \n",
    "plt.rcParams['figure.figsize'] = [25, 10]\n",
    "\n",
    "# Plot training losses\n",
    "plot_performance(alllosses)"
   ]
  },
  {
   "cell_type": "code",
   "execution_count": null,
   "id": "1b59570a",
   "metadata": {},
   "outputs": [],
   "source": [
    "%matplotlib inline\n",
    "# Set figure size \n",
    "plt.rcParams['figure.figsize'] = [25, 10]\n",
    "\n",
    "# Plot accuracy (MASE values)\n",
    "plot_performance(accuracy)"
   ]
  },
  {
   "cell_type": "markdown",
   "id": "8c027750",
   "metadata": {},
   "source": [
    "#### 20 - 60 years"
   ]
  },
  {
   "cell_type": "code",
   "execution_count": null,
   "id": "da54fdab",
   "metadata": {},
   "outputs": [],
   "source": [
    "# Select data between 20 and 60 years\n",
    "noisy_ebt_20_60 = select_data(noisy_ebt, 20, 60, 'standard')\n",
    "\n",
    "# Create file path for new file\n",
    "EBTScaled_path = os.path.join(TCDFdata_path, 'standard_1_1_noisy_EBT_20_60_dataset.csv')\n",
    "\n",
    "# Write clean dataframe demo_ebt to a new .csv file\n",
    "noisy_ebt_20_60.to_csv(EBTScaled_path, index = False)"
   ]
  },
  {
   "cell_type": "markdown",
   "id": "37dccbc0",
   "metadata": {},
   "source": [
    "#### TCDF 20-60 years: first run (in triplicate)"
   ]
  },
  {
   "cell_type": "code",
   "execution_count": null,
   "id": "cfdc3c59",
   "metadata": {},
   "outputs": [],
   "source": [
    "%matplotlib inline\n",
    "\n",
    "# Run TCDF with the selected equilibrium dataset of EBT data\n",
    "\n",
    "%run -i \"runTCDF.py\"  --ground_truth data/standard_1_1_noisy_EBT_20_60_dataset.csv=data/EBT_demo_groundtruth.csv --learning_rate 0.1 --hidden_layers 3 --epochs 2000 --log_interval 250 --significance 0.9 --dilation_coefficient 3 --kernel_size 3 --seed 24310"
   ]
  },
  {
   "cell_type": "code",
   "execution_count": null,
   "id": "5a5e1b05",
   "metadata": {},
   "outputs": [],
   "source": [
    "# Run TCDF for predictive accuracy\n",
    "\n",
    "%run -i \"evaluate_predictions_TCDF.py\" --data data/standard_1_1_noisy_EBT_20_60_dataset.csv --learning_rate 0.1 --hidden_layers 3 --epochs 2000 --log_interval 250 --dilation_coefficient 3 --kernel_size 3 --seed 24310 --plot --train_test_split 0.7"
   ]
  },
  {
   "cell_type": "code",
   "execution_count": null,
   "id": "c7f7822d",
   "metadata": {},
   "outputs": [],
   "source": [
    "%matplotlib inline\n",
    "# Set figure size \n",
    "plt.rcParams['figure.figsize'] = [25, 10]\n",
    "\n",
    "# Plot training losses\n",
    "plot_performance(alllosses)"
   ]
  },
  {
   "cell_type": "code",
   "execution_count": null,
   "id": "28e21046",
   "metadata": {},
   "outputs": [],
   "source": [
    "%matplotlib inline\n",
    "# Set figure size \n",
    "plt.rcParams['figure.figsize'] = [25, 10]\n",
    "\n",
    "# Plot accuracy (MASE values)\n",
    "plot_performance(accuracy)"
   ]
  },
  {
   "cell_type": "code",
   "execution_count": null,
   "id": "ede55820",
   "metadata": {},
   "outputs": [],
   "source": [
    "%matplotlib inline\n",
    "\n",
    "# Run TCDF with the selected equilibrium dataset of EBT data\n",
    "\n",
    "%run -i \"runTCDF.py\"  --ground_truth data/standard_1_1_noisy_EBT_20_60_dataset.csv=data/EBT_demo_groundtruth.csv --learning_rate 0.1 --hidden_layers 3 --epochs 2000 --log_interval 250 --significance 0.9 --dilation_coefficient 3 --kernel_size 3 --seed 77139"
   ]
  },
  {
   "cell_type": "code",
   "execution_count": null,
   "id": "684adc4e",
   "metadata": {},
   "outputs": [],
   "source": [
    "# Run TCDF for predictive accuracy\n",
    "\n",
    "%run -i \"evaluate_predictions_TCDF.py\" --data data/standard_1_1_noisy_EBT_20_60_dataset.csv --learning_rate 0.1 --hidden_layers 3 --epochs 2000 --log_interval 250 --dilation_coefficient 3 --kernel_size 3 --seed 77139 --plot --train_test_split 0.7"
   ]
  },
  {
   "cell_type": "code",
   "execution_count": null,
   "id": "9eb4db92",
   "metadata": {},
   "outputs": [],
   "source": [
    "%matplotlib inline\n",
    "# Set figure size \n",
    "plt.rcParams['figure.figsize'] = [25, 10]\n",
    "\n",
    "# Plot training losses\n",
    "plot_performance(alllosses)"
   ]
  },
  {
   "cell_type": "code",
   "execution_count": null,
   "id": "5e621e06",
   "metadata": {},
   "outputs": [],
   "source": [
    "%matplotlib inline\n",
    "# Set figure size \n",
    "plt.rcParams['figure.figsize'] = [25, 10]\n",
    "\n",
    "# Plot accuracy (MASE values)\n",
    "plot_performance(accuracy)"
   ]
  },
  {
   "cell_type": "code",
   "execution_count": null,
   "id": "d7821b38",
   "metadata": {},
   "outputs": [],
   "source": [
    "%matplotlib inline\n",
    "\n",
    "# Run TCDF with the selected equilibrium dataset of EBT data\n",
    "\n",
    "%run -i \"runTCDF.py\"  --ground_truth data/standard_1_1_noisy_EBT_20_60_dataset.csv=data/EBT_demo_groundtruth.csv --learning_rate 0.1 --hidden_layers 3 --epochs 2000 --log_interval 250 --significance 0.9 --dilation_coefficient 3 --kernel_size 3 --seed 45184"
   ]
  },
  {
   "cell_type": "code",
   "execution_count": null,
   "id": "6d0dc02e",
   "metadata": {},
   "outputs": [],
   "source": [
    "# Run TCDF for predictive accuracy\n",
    "\n",
    "%run -i \"evaluate_predictions_TCDF.py\" --data data/standard_1_1_noisy_EBT_20_60_dataset.csv --learning_rate 0.1 --hidden_layers 3 --epochs 2000 --log_interval 250 --dilation_coefficient 3 --kernel_size 3 --seed 45184 --plot --train_test_split 0.7"
   ]
  },
  {
   "cell_type": "code",
   "execution_count": null,
   "id": "92118c8e",
   "metadata": {},
   "outputs": [],
   "source": [
    "%matplotlib inline\n",
    "# Set figure size \n",
    "plt.rcParams['figure.figsize'] = [25, 10]\n",
    "\n",
    "# Plot training losses\n",
    "plot_performance(alllosses)"
   ]
  },
  {
   "cell_type": "code",
   "execution_count": null,
   "id": "3dfced42",
   "metadata": {},
   "outputs": [],
   "source": [
    "%matplotlib inline\n",
    "# Set figure size \n",
    "plt.rcParams['figure.figsize'] = [25, 10]\n",
    "\n",
    "# Plot accuracy (MASE values)\n",
    "plot_performance(accuracy)"
   ]
  },
  {
   "cell_type": "markdown",
   "id": "3a4cef44",
   "metadata": {},
   "source": [
    "#### TCDF 20-60 years: second run  (decreased hidden layers by 1, increased dilation coefficient and kernel size by 1)"
   ]
  },
  {
   "cell_type": "code",
   "execution_count": null,
   "id": "0bae09f7",
   "metadata": {},
   "outputs": [],
   "source": [
    "%matplotlib inline\n",
    "\n",
    "# Run TCDF with the selected equilibrium dataset of EBT data\n",
    "\n",
    "%run -i \"runTCDF.py\"  --ground_truth data/standard_1_1_noisy_EBT_20_60_dataset.csv=data/EBT_demo_groundtruth.csv --learning_rate 0.1 --hidden_layers 2 --epochs 2000 --log_interval 250 --significance 0.9 --dilation_coefficient 4 --kernel_size 4 --seed 78025"
   ]
  },
  {
   "cell_type": "code",
   "execution_count": null,
   "id": "0b83e9b1",
   "metadata": {},
   "outputs": [],
   "source": [
    "# Run TCDF for predictive accuracy\n",
    "\n",
    "%run -i \"evaluate_predictions_TCDF.py\" --data data/standard_1_1_noisy_EBT_20_60_dataset.csv --learning_rate 0.1 --hidden_layers 2 --epochs 2000 --log_interval 250 --dilation_coefficient 4 --kernel_size 4 --seed 78025 --plot --train_test_split 0.7"
   ]
  },
  {
   "cell_type": "code",
   "execution_count": null,
   "id": "cb6170cb",
   "metadata": {},
   "outputs": [],
   "source": [
    "%matplotlib inline\n",
    "# Set figure size \n",
    "plt.rcParams['figure.figsize'] = [25, 10]\n",
    "\n",
    "# Plot training losses\n",
    "plot_performance(alllosses)"
   ]
  },
  {
   "cell_type": "code",
   "execution_count": null,
   "id": "b7a7f19d",
   "metadata": {},
   "outputs": [],
   "source": [
    "%matplotlib inline\n",
    "# Set figure size \n",
    "plt.rcParams['figure.figsize'] = [25, 10]\n",
    "\n",
    "# Plot accuracy (MASE values)\n",
    "plot_performance(accuracy)"
   ]
  },
  {
   "cell_type": "code",
   "execution_count": null,
   "id": "03ecad41",
   "metadata": {},
   "outputs": [],
   "source": [
    "%matplotlib inline\n",
    "\n",
    "# Run TCDF with the selected equilibrium dataset of EBT data\n",
    "\n",
    "%run -i \"runTCDF.py\"  --ground_truth data/standard_1_1_noisy_EBT_20_60_dataset.csv=data/EBT_demo_groundtruth.csv --learning_rate 0.1 --hidden_layers 2 --epochs 2000 --log_interval 250 --significance 0.9 --dilation_coefficient 4 --kernel_size 4 --seed 53391"
   ]
  },
  {
   "cell_type": "code",
   "execution_count": null,
   "id": "c546a6d3",
   "metadata": {},
   "outputs": [],
   "source": [
    "# Run TCDF for predictive accuracy\n",
    "\n",
    "%run -i \"evaluate_predictions_TCDF.py\" --data data/standard_1_1_noisy_EBT_20_60_dataset.csv --learning_rate 0.1 --hidden_layers 2 --epochs 2000 --log_interval 250 --dilation_coefficient 4 --kernel_size 4 --seed 53391 --plot --train_test_split 0.7"
   ]
  },
  {
   "cell_type": "code",
   "execution_count": null,
   "id": "3d22bd93",
   "metadata": {},
   "outputs": [],
   "source": [
    "%matplotlib inline\n",
    "# Set figure size \n",
    "plt.rcParams['figure.figsize'] = [25, 10]\n",
    "\n",
    "# Plot training losses\n",
    "plot_performance(alllosses)"
   ]
  },
  {
   "cell_type": "code",
   "execution_count": null,
   "id": "03580f07",
   "metadata": {},
   "outputs": [],
   "source": [
    "%matplotlib inline\n",
    "# Set figure size \n",
    "plt.rcParams['figure.figsize'] = [25, 10]\n",
    "\n",
    "# Plot accuracy (MASE values)\n",
    "plot_performance(accuracy)"
   ]
  },
  {
   "cell_type": "code",
   "execution_count": null,
   "id": "00ab7e25",
   "metadata": {},
   "outputs": [],
   "source": [
    "%matplotlib inline\n",
    "\n",
    "# Run TCDF with the selected equilibrium dataset of EBT data\n",
    "\n",
    "%run -i \"runTCDF.py\"  --ground_truth data/standard_1_1_noisy_EBT_20_60_dataset.csv=data/EBT_demo_groundtruth.csv --learning_rate 0.1 --hidden_layers 2 --epochs 2000 --log_interval 250 --significance 0.9 --dilation_coefficient 4 --kernel_size 4 --seed 34061"
   ]
  },
  {
   "cell_type": "code",
   "execution_count": null,
   "id": "a4d22ee8",
   "metadata": {},
   "outputs": [],
   "source": [
    "# Run TCDF for predictive accuracy\n",
    "\n",
    "%run -i \"evaluate_predictions_TCDF.py\" --data data/standard_1_1_noisy_EBT_20_60_dataset.csv --learning_rate 0.1 --hidden_layers 2 --epochs 2000 --log_interval 250 --dilation_coefficient 4 --kernel_size 4 --seed 34061 --plot --train_test_split 0.7"
   ]
  },
  {
   "cell_type": "code",
   "execution_count": null,
   "id": "c50e8b04",
   "metadata": {},
   "outputs": [],
   "source": [
    "%matplotlib inline\n",
    "# Set figure size \n",
    "plt.rcParams['figure.figsize'] = [25, 10]\n",
    "\n",
    "# Plot training losses\n",
    "plot_performance(alllosses)"
   ]
  },
  {
   "cell_type": "code",
   "execution_count": null,
   "id": "e0c4b8ee",
   "metadata": {},
   "outputs": [],
   "source": [
    "%matplotlib inline\n",
    "# Set figure size \n",
    "plt.rcParams['figure.figsize'] = [25, 10]\n",
    "\n",
    "# Plot accuracy (MASE values)\n",
    "plot_performance(accuracy)"
   ]
  },
  {
   "cell_type": "markdown",
   "id": "f5c3cc92",
   "metadata": {},
   "source": [
    "#### 60 - 70 years"
   ]
  },
  {
   "cell_type": "code",
   "execution_count": null,
   "id": "4a3ac955",
   "metadata": {},
   "outputs": [],
   "source": [
    "# Select data between 60 and 70 years\n",
    "noisy_ebt_60_70 = select_data(noisy_ebt, 60, 70, 'standard')\n",
    "\n",
    "# Create file path for new file\n",
    "EBTScaled_path = os.path.join(TCDFdata_path, 'standard_1_1_noisy_EBT_60_70_dataset.csv')\n",
    "\n",
    "# Write clean dataframe demo_ebt to a new .csv file\n",
    "noisy_ebt_60_70.to_csv(EBTScaled_path, index = False)"
   ]
  },
  {
   "cell_type": "markdown",
   "id": "32e1cf1d",
   "metadata": {},
   "source": [
    "#### TCDF 60-70 years: first run (in triplicate)"
   ]
  },
  {
   "cell_type": "code",
   "execution_count": null,
   "id": "efd8d894",
   "metadata": {
    "scrolled": true
   },
   "outputs": [],
   "source": [
    "%matplotlib inline\n",
    "\n",
    "# Run TCDF with the selected equilibrium dataset of EBT data\n",
    "\n",
    "%run -i \"runTCDF.py\"  --ground_truth data/standard_1_1_noisy_EBT_60_70_dataset.csv=data/EBT_demo_groundtruth.csv --learning_rate 0.1 --hidden_layers 3 --epochs 2000 --log_interval 250 --significance 0.9 --dilation_coefficient 3 --kernel_size 3 --seed 2369"
   ]
  },
  {
   "cell_type": "code",
   "execution_count": null,
   "id": "dceec84a",
   "metadata": {
    "scrolled": true
   },
   "outputs": [],
   "source": [
    "# Run TCDF for predictive accuracy\n",
    "\n",
    "%run -i \"evaluate_predictions_TCDF.py\" --data data/standard_1_1_noisy_EBT_60_70_dataset.csv --learning_rate 0.1 --hidden_layers 3 --epochs 2000 --log_interval 250 --dilation_coefficient 3 --kernel_size 3 --seed 2369 --plot --train_test_split 0.7"
   ]
  },
  {
   "cell_type": "code",
   "execution_count": null,
   "id": "f0c8f05a",
   "metadata": {},
   "outputs": [],
   "source": [
    "%matplotlib inline\n",
    "# Set figure size \n",
    "plt.rcParams['figure.figsize'] = [25, 10]\n",
    "\n",
    "# Plot training losses\n",
    "plot_performance(alllosses)"
   ]
  },
  {
   "cell_type": "code",
   "execution_count": null,
   "id": "f31739a8",
   "metadata": {},
   "outputs": [],
   "source": [
    "%matplotlib inline\n",
    "# Set figure size \n",
    "plt.rcParams['figure.figsize'] = [25, 10]\n",
    "\n",
    "# Plot accuracy (MASE values)\n",
    "plot_performance(accuracy)"
   ]
  },
  {
   "cell_type": "code",
   "execution_count": null,
   "id": "6aeac459",
   "metadata": {
    "scrolled": true
   },
   "outputs": [],
   "source": [
    "%matplotlib inline\n",
    "\n",
    "# Run TCDF with the selected equilibrium dataset of EBT data\n",
    "\n",
    "%run -i \"runTCDF.py\"  --ground_truth data/standard_1_1_noisy_EBT_60_70_dataset.csv=data/EBT_demo_groundtruth.csv --learning_rate 0.1 --hidden_layers 3 --epochs 2000 --log_interval 250 --significance 0.9 --dilation_coefficient 3 --kernel_size 3 --seed 33520"
   ]
  },
  {
   "cell_type": "code",
   "execution_count": null,
   "id": "53f2baab",
   "metadata": {
    "scrolled": true
   },
   "outputs": [],
   "source": [
    "# Run TCDF for predictive accuracy\n",
    "\n",
    "%run -i \"evaluate_predictions_TCDF.py\" --data data/standard_1_1_noisy_EBT_60_70_dataset.csv --learning_rate 0.1 --hidden_layers 3 --epochs 2000 --log_interval 250 --dilation_coefficient 3 --kernel_size 3 --seed 33520 --plot --train_test_split 0.7"
   ]
  },
  {
   "cell_type": "code",
   "execution_count": null,
   "id": "0431c60a",
   "metadata": {},
   "outputs": [],
   "source": [
    "%matplotlib inline\n",
    "# Set figure size \n",
    "plt.rcParams['figure.figsize'] = [25, 10]\n",
    "\n",
    "# Plot training losses\n",
    "plot_performance(alllosses)"
   ]
  },
  {
   "cell_type": "code",
   "execution_count": null,
   "id": "14e5c867",
   "metadata": {},
   "outputs": [],
   "source": [
    "%matplotlib inline\n",
    "# Set figure size \n",
    "plt.rcParams['figure.figsize'] = [25, 10]\n",
    "\n",
    "# Plot accuracy (MASE values)\n",
    "plot_performance(accuracy)"
   ]
  },
  {
   "cell_type": "code",
   "execution_count": null,
   "id": "bc3dec2d",
   "metadata": {
    "scrolled": true
   },
   "outputs": [],
   "source": [
    "%matplotlib inline\n",
    "\n",
    "# Run TCDF with the selected equilibrium dataset of EBT data\n",
    "\n",
    "%run -i \"runTCDF.py\"  --ground_truth data/standard_1_1_noisy_EBT_60_70_dataset.csv=data/EBT_demo_groundtruth.csv --learning_rate 0.1 --hidden_layers 3 --epochs 2000 --log_interval 250 --significance 0.9 --dilation_coefficient 3 --kernel_size 3 --seed 66848"
   ]
  },
  {
   "cell_type": "code",
   "execution_count": null,
   "id": "5de1d9e3",
   "metadata": {
    "scrolled": true
   },
   "outputs": [],
   "source": [
    "# Run TCDF for predictive accuracy\n",
    "\n",
    "%run -i \"evaluate_predictions_TCDF.py\" --data data/standard_1_1_noisy_EBT_60_70_dataset.csv --learning_rate 0.1 --hidden_layers 3 --epochs 2000 --log_interval 250 --dilation_coefficient 3 --kernel_size 3 --seed 66848 --plot --train_test_split 0.7"
   ]
  },
  {
   "cell_type": "code",
   "execution_count": null,
   "id": "9af6268c",
   "metadata": {},
   "outputs": [],
   "source": [
    "%matplotlib inline\n",
    "# Set figure size \n",
    "plt.rcParams['figure.figsize'] = [25, 10]\n",
    "\n",
    "# Plot training losses\n",
    "plot_performance(alllosses)"
   ]
  },
  {
   "cell_type": "code",
   "execution_count": null,
   "id": "b751befb",
   "metadata": {},
   "outputs": [],
   "source": [
    "%matplotlib inline\n",
    "# Set figure size \n",
    "plt.rcParams['figure.figsize'] = [25, 10]\n",
    "\n",
    "# Plot accuracy (MASE values)\n",
    "plot_performance(accuracy)"
   ]
  },
  {
   "cell_type": "markdown",
   "id": "c19efb7d",
   "metadata": {},
   "source": [
    "#### TCDF 60-70 years: second run  (decreased hidden layers by 1, increased dilation coefficient and kernel size by 1)"
   ]
  },
  {
   "cell_type": "code",
   "execution_count": null,
   "id": "439327a6",
   "metadata": {
    "scrolled": true
   },
   "outputs": [],
   "source": [
    "%matplotlib inline\n",
    "\n",
    "# Run TCDF with the selected equilibrium dataset of EBT data\n",
    "\n",
    "%run -i \"runTCDF.py\"  --ground_truth data/standard_1_1_noisy_EBT_60_70_dataset.csv=data/EBT_demo_groundtruth.csv --learning_rate 0.1 --hidden_layers 2 --epochs 2000 --log_interval 250 --significance 0.9 --dilation_coefficient 4 --kernel_size 4 --seed 2369"
   ]
  },
  {
   "cell_type": "code",
   "execution_count": null,
   "id": "0b75cf89",
   "metadata": {
    "scrolled": true
   },
   "outputs": [],
   "source": [
    "# Run TCDF for predictive accuracy\n",
    "\n",
    "%run -i \"evaluate_predictions_TCDF.py\" --data data/standard_1_1_noisy_EBT_60_70_dataset.csv --learning_rate 0.1 --hidden_layers 2 --epochs 2000 --log_interval 250 --dilation_coefficient 4 --kernel_size 4 --seed 2369 --plot --train_test_split 0.7"
   ]
  },
  {
   "cell_type": "code",
   "execution_count": null,
   "id": "bcf1402c",
   "metadata": {
    "scrolled": false
   },
   "outputs": [],
   "source": [
    "%matplotlib inline\n",
    "# Set figure size \n",
    "plt.rcParams['figure.figsize'] = [25, 10]\n",
    "\n",
    "# Plot training losses\n",
    "plot_performance(alllosses)"
   ]
  },
  {
   "cell_type": "code",
   "execution_count": null,
   "id": "16e7546b",
   "metadata": {},
   "outputs": [],
   "source": [
    "%matplotlib inline\n",
    "# Set figure size \n",
    "plt.rcParams['figure.figsize'] = [25, 10]\n",
    "\n",
    "# Plot accuracy (MASE values)\n",
    "plot_performance(accuracy)"
   ]
  },
  {
   "cell_type": "code",
   "execution_count": null,
   "id": "b41b0d00",
   "metadata": {
    "scrolled": true
   },
   "outputs": [],
   "source": [
    "%matplotlib inline\n",
    "\n",
    "# Run TCDF with the selected equilibrium dataset of EBT data\n",
    "\n",
    "%run -i \"runTCDF.py\"  --ground_truth data/standard_1_1_noisy_EBT_60_70_dataset.csv=data/EBT_demo_groundtruth.csv --learning_rate 0.1 --hidden_layers 2 --epochs 2000 --log_interval 250 --significance 0.9 --dilation_coefficient 4 --kernel_size 4 --seed 21312"
   ]
  },
  {
   "cell_type": "code",
   "execution_count": null,
   "id": "aa1ac91e",
   "metadata": {
    "scrolled": true
   },
   "outputs": [],
   "source": [
    "# Run TCDF for predictive accuracy\n",
    "\n",
    "%run -i \"evaluate_predictions_TCDF.py\" --data data/standard_1_1_noisy_EBT_60_70_dataset.csv --learning_rate 0.1 --hidden_layers 2 --epochs 2000 --log_interval 250 --dilation_coefficient 4 --kernel_size 4 --seed 21312 --plot --train_test_split 0.7"
   ]
  },
  {
   "cell_type": "code",
   "execution_count": null,
   "id": "0fbbfc03",
   "metadata": {},
   "outputs": [],
   "source": [
    "%matplotlib inline\n",
    "# Set figure size \n",
    "plt.rcParams['figure.figsize'] = [25, 10]\n",
    "\n",
    "# Plot training losses\n",
    "plot_performance(alllosses)"
   ]
  },
  {
   "cell_type": "code",
   "execution_count": null,
   "id": "86ca0da0",
   "metadata": {},
   "outputs": [],
   "source": [
    "%matplotlib inline\n",
    "# Set figure size \n",
    "plt.rcParams['figure.figsize'] = [25, 10]\n",
    "\n",
    "# Plot accuracy (MASE values)\n",
    "plot_performance(accuracy)"
   ]
  },
  {
   "cell_type": "code",
   "execution_count": null,
   "id": "d37b4a17",
   "metadata": {
    "scrolled": true
   },
   "outputs": [],
   "source": [
    "%matplotlib inline\n",
    "\n",
    "# Run TCDF with the selected equilibrium dataset of EBT data\n",
    "\n",
    "%run -i \"runTCDF.py\"  --ground_truth data/standard_1_1_noisy_EBT_60_70_dataset.csv=data/EBT_demo_groundtruth.csv --learning_rate 0.1 --hidden_layers 2 --epochs 2000 --log_interval 250 --significance 0.9 --dilation_coefficient 4 --kernel_size 4 --seed 8023"
   ]
  },
  {
   "cell_type": "code",
   "execution_count": null,
   "id": "f3e3ab12",
   "metadata": {
    "scrolled": true
   },
   "outputs": [],
   "source": [
    "# Run TCDF for predictive accuracy\n",
    "\n",
    "%run -i \"evaluate_predictions_TCDF.py\" --data data/standard_1_1_noisy_EBT_60_70_dataset.csv --learning_rate 0.1 --hidden_layers 2 --epochs 2000 --log_interval 250 --dilation_coefficient 4 --kernel_size 4 --seed 8023 --plot --train_test_split 0.7"
   ]
  },
  {
   "cell_type": "code",
   "execution_count": null,
   "id": "7bf1c5a5",
   "metadata": {},
   "outputs": [],
   "source": [
    "%matplotlib inline\n",
    "# Set figure size \n",
    "plt.rcParams['figure.figsize'] = [25, 10]\n",
    "\n",
    "# Plot training losses\n",
    "plot_performance(alllosses)"
   ]
  },
  {
   "cell_type": "code",
   "execution_count": null,
   "id": "7a62b2f6",
   "metadata": {
    "scrolled": true
   },
   "outputs": [],
   "source": [
    "%matplotlib inline\n",
    "# Set figure size \n",
    "plt.rcParams['figure.figsize'] = [25, 10]\n",
    "\n",
    "# Plot accuracy (MASE values)\n",
    "plot_performance(accuracy)"
   ]
  },
  {
   "cell_type": "markdown",
   "id": "6f3ea381",
   "metadata": {},
   "source": [
    "### Signal to Noise ratio 1:10"
   ]
  },
  {
   "cell_type": "code",
   "execution_count": null,
   "id": "f7d36bd4",
   "metadata": {},
   "outputs": [],
   "source": [
    "# Create new dataset with snr 1:10\n",
    "noisy_ebt = noisy_data(0.1)"
   ]
  },
  {
   "cell_type": "markdown",
   "id": "d759ec85",
   "metadata": {},
   "source": [
    "#### 20 - 70 years"
   ]
  },
  {
   "cell_type": "code",
   "execution_count": null,
   "id": "b44a13bb",
   "metadata": {},
   "outputs": [],
   "source": [
    "# Select data between 20 and 70 years\n",
    "noisy_ebt_20_70 = select_data(noisy_ebt, 20, 70, 'standard')\n",
    "\n",
    "# Create file path for new file\n",
    "EBTScaled_path = os.path.join(TCDFdata_path, 'standard_1_10_noisy_EBT_20_70_dataset.csv')\n",
    "\n",
    "# Write clean dataframe demo_ebt to a new .csv file\n",
    "noisy_ebt_20_70.to_csv(EBTScaled_path, index = False)"
   ]
  },
  {
   "cell_type": "markdown",
   "id": "8f9e7bc5",
   "metadata": {},
   "source": [
    "#### TCDF 20-70 years: first run (in triplicate)"
   ]
  },
  {
   "cell_type": "code",
   "execution_count": null,
   "id": "746708f6",
   "metadata": {},
   "outputs": [],
   "source": [
    "%matplotlib inline\n",
    "\n",
    "# Run TCDF with the selected total dataset of EBT data\n",
    "\n",
    "%run -i \"runTCDF.py\"  --ground_truth data/standard_1_10_noisy_EBT_20_70_dataset.csv=data/EBT_demo_groundtruth.csv --learning_rate 0.1 --hidden_layers 3 --epochs 2000 --log_interval 250 --significance 0.9 --dilation_coefficient 3 --kernel_size 3 --seed 5678\n"
   ]
  },
  {
   "cell_type": "code",
   "execution_count": null,
   "id": "45068c4a",
   "metadata": {},
   "outputs": [],
   "source": [
    "# Run TCDF for predictive accuracy\n",
    "\n",
    "%run -i \"evaluate_predictions_TCDF.py\" --data data/standard_1_10_noisy_EBT_20_70_dataset.csv --learning_rate 0.1 --hidden_layers 3 --epochs 2000 --log_interval 250 --dilation_coefficient 3 --kernel_size 3 --seed 5467 --plot --train_test_split 0.5"
   ]
  },
  {
   "cell_type": "code",
   "execution_count": null,
   "id": "48239486",
   "metadata": {},
   "outputs": [],
   "source": [
    "%matplotlib inline\n",
    "\n",
    "# Run TCDF with the selected total dataset of EBT data\n",
    "\n",
    "%run -i \"runTCDF.py\"  --ground_truth data/standard_1_10_noisy_EBT_20_70_dataset.csv=data/EBT_demo_groundtruth.csv --learning_rate 0.1 --hidden_layers 3 --epochs 2000 --log_interval 250 --significance 0.9 --dilation_coefficient 3 --kernel_size 3 --seed 2371\n"
   ]
  },
  {
   "cell_type": "code",
   "execution_count": null,
   "id": "a15df4bc",
   "metadata": {},
   "outputs": [],
   "source": [
    "# Run TCDF for predictive accuracy\n",
    "\n",
    "%run -i \"evaluate_predictions_TCDF.py\" --data data/standard_1_10_noisy_EBT_20_70_dataset.csv --learning_rate 0.1 --hidden_layers 3 --epochs 2000 --log_interval 250 --dilation_coefficient 3 --kernel_size 3 --seed 2371 --plot --train_test_split 0.5"
   ]
  },
  {
   "cell_type": "code",
   "execution_count": null,
   "id": "6124d211",
   "metadata": {},
   "outputs": [],
   "source": [
    "%matplotlib inline\n",
    "\n",
    "# Run TCDF with the selected total dataset of EBT data\n",
    "\n",
    "%run -i \"runTCDF.py\"  --ground_truth data/standard_1_10_noisy_EBT_20_70_dataset.csv=data/EBT_demo_groundtruth.csv --learning_rate 0.1 --hidden_layers 3 --epochs 2000 --log_interval 250 --significance 0.9 --dilation_coefficient 3 --kernel_size 3 --seed 1084\n"
   ]
  },
  {
   "cell_type": "code",
   "execution_count": null,
   "id": "6d4c500e",
   "metadata": {},
   "outputs": [],
   "source": [
    "# Run TCDF for predictive accuracy\n",
    "\n",
    "%run -i \"evaluate_predictions_TCDF.py\" --data data/standard_1_10_noisy_EBT_20_70_dataset.csv --learning_rate 0.1 --hidden_layers 3 --epochs 2000 --log_interval 250 --dilation_coefficient 3 --kernel_size 3 --seed 1048 --plot --train_test_split 0.5"
   ]
  },
  {
   "cell_type": "code",
   "execution_count": null,
   "id": "9dae4e45",
   "metadata": {},
   "outputs": [],
   "source": [
    "%matplotlib inline\n",
    "# Set figure size \n",
    "plt.rcParams['figure.figsize'] = [25, 10]\n",
    "\n",
    "# Plot training losses\n",
    "plot_performance(alllosses)"
   ]
  },
  {
   "cell_type": "code",
   "execution_count": null,
   "id": "fde0905a",
   "metadata": {},
   "outputs": [],
   "source": [
    "%matplotlib inline\n",
    "# Set figure size \n",
    "plt.rcParams['figure.figsize'] = [25, 10]\n",
    "\n",
    "# Plot accuracy (MASE values)\n",
    "plot_performance(accuracy)"
   ]
  },
  {
   "cell_type": "markdown",
   "id": "98b7625d",
   "metadata": {},
   "source": [
    "#### TCDF 20-70 years: second run (decreased hidden layers by 1, incremented dilation coefficient and kernel size by 1)"
   ]
  },
  {
   "cell_type": "code",
   "execution_count": null,
   "id": "db5998d0",
   "metadata": {},
   "outputs": [],
   "source": [
    "%matplotlib inline\n",
    "\n",
    "# Run TCDF with the selected total dataset of EBT data\n",
    "\n",
    "%run -i \"runTCDF.py\"  --ground_truth data/standard_1_10_noisy_EBT_20_70_dataset.csv=data/EBT_demo_groundtruth.csv --learning_rate 0.1 --hidden_layers 2 --epochs 2000 --log_interval 250 --significance 0.9 --dilation_coefficient 4 --kernel_size 4 --seed 5467\n"
   ]
  },
  {
   "cell_type": "code",
   "execution_count": null,
   "id": "4863fc0f",
   "metadata": {},
   "outputs": [],
   "source": [
    "# Run TCDF for predictive accuracy\n",
    "\n",
    "%run -i \"evaluate_predictions_TCDF.py\" --data data/standard_1_10_noisy_EBT_20_70_dataset.csv --learning_rate 0.1 --hidden_layers 2 --epochs 2000 --log_interval 250 --dilation_coefficient 4 --kernel_size 4 --seed 5467 --plot --train_test_split 0.5"
   ]
  },
  {
   "cell_type": "code",
   "execution_count": null,
   "id": "6c2fecf3",
   "metadata": {},
   "outputs": [],
   "source": [
    "%matplotlib inline\n",
    "\n",
    "# Run TCDF with the selected total dataset of EBT data\n",
    "\n",
    "%run -i \"runTCDF.py\"  --ground_truth data/standard_1_10_noisy_EBT_20_70_dataset.csv=data/EBT_demo_groundtruth.csv --learning_rate 0.1 --hidden_layers 2 --epochs 2000 --log_interval 250 --significance 0.9 --dilation_coefficient 4 --kernel_size 4 --seed 9238\n"
   ]
  },
  {
   "cell_type": "code",
   "execution_count": null,
   "id": "72898989",
   "metadata": {},
   "outputs": [],
   "source": [
    "# Run TCDF for predictive accuracy\n",
    "\n",
    "%run -i \"evaluate_predictions_TCDF.py\" --data data/standard_1_10_noisy_EBT_20_70_dataset.csv --learning_rate 0.1 --hidden_layers 2 --epochs 2000 --log_interval 250 --dilation_coefficient 4 --kernel_size 4 --seed 9238 --plot --train_test_split 0.5"
   ]
  },
  {
   "cell_type": "code",
   "execution_count": null,
   "id": "f753faeb",
   "metadata": {},
   "outputs": [],
   "source": [
    "%matplotlib inline\n",
    "\n",
    "# Run TCDF with the selected total dataset of EBT data\n",
    "\n",
    "%run -i \"runTCDF.py\"  --ground_truth data/standard_1_10_noisy_EBT_20_70_dataset.csv=data/EBT_demo_groundtruth.csv --learning_rate 0.1 --hidden_layers 2 --epochs 2000 --log_interval 250 --significance 0.9 --dilation_coefficient 4 --kernel_size 4 --seed 157\n"
   ]
  },
  {
   "cell_type": "code",
   "execution_count": null,
   "id": "ce17ba3a",
   "metadata": {},
   "outputs": [],
   "source": [
    "# Run TCDF for predictive accuracy\n",
    "\n",
    "%run -i \"evaluate_predictions_TCDF.py\" --data data/standard_1_10_noisy_EBT_20_70_dataset.csv --learning_rate 0.1 --hidden_layers 2 --epochs 2000 --log_interval 250 --dilation_coefficient 4 --kernel_size 4 --seed 157 --plot --train_test_split 0.5"
   ]
  },
  {
   "cell_type": "code",
   "execution_count": null,
   "id": "67001e58",
   "metadata": {},
   "outputs": [],
   "source": [
    "%matplotlib inline\n",
    "# Set figure size \n",
    "plt.rcParams['figure.figsize'] = [25, 10]\n",
    "\n",
    "# Plot training losses\n",
    "plot_performance(alllosses)"
   ]
  },
  {
   "cell_type": "code",
   "execution_count": null,
   "id": "39c98bac",
   "metadata": {},
   "outputs": [],
   "source": [
    "%matplotlib inline\n",
    "# Set figure size \n",
    "plt.rcParams['figure.figsize'] = [25, 10]\n",
    "\n",
    "# Plot accuracy (MASE values)\n",
    "plot_performance(accuracy)"
   ]
  },
  {
   "cell_type": "markdown",
   "id": "a5dec29b",
   "metadata": {},
   "source": [
    "#### 0 - 100 years"
   ]
  },
  {
   "cell_type": "code",
   "execution_count": null,
   "id": "573934fd",
   "metadata": {},
   "outputs": [],
   "source": [
    "# Select data between 0 and 100 years\n",
    "noisy_ebt_0_100 = select_data(noisy_ebt, 0, 100, 'standard')\n",
    "\n",
    "# Create file path for new file\n",
    "EBTScaled_path = os.path.join(TCDFdata_path, 'standard_1_10_noisy_EBT_0_100_dataset.csv')\n",
    "\n",
    "# Write clean dataframe demo_ebt to a new .csv file\n",
    "noisy_ebt_0_100.to_csv(EBTScaled_path, index = False)"
   ]
  },
  {
   "cell_type": "markdown",
   "id": "1ab06595",
   "metadata": {},
   "source": [
    "#### TCDF 0-100 years: first run (in triplicate)"
   ]
  },
  {
   "cell_type": "code",
   "execution_count": null,
   "id": "7ab3556f",
   "metadata": {},
   "outputs": [],
   "source": [
    "%matplotlib inline\n",
    "\n",
    "# Run TCDF with the selected total dataset of EBT data\n",
    "\n",
    "%run -i \"runTCDF.py\"  --ground_truth data/standard_1_10_noisy_EBT_0_100_dataset.csv=data/EBT_demo_groundtruth.csv --learning_rate 0.1 --hidden_layers 2 --epochs 2000 --log_interval 250 --significance 0.9 --dilation_coefficient 4 --kernel_size 4 --seed 37519"
   ]
  },
  {
   "cell_type": "code",
   "execution_count": null,
   "id": "e34b53fa",
   "metadata": {},
   "outputs": [],
   "source": [
    "# Run TCDF for predictive accuracy\n",
    "\n",
    "%run -i \"evaluate_predictions_TCDF.py\" --data data/standard_1_10_noisy_EBT_0_100_dataset.csv --learning_rate 0.1 --hidden_layers 2 --epochs 2000 --log_interval 250 --dilation_coefficient 4 --kernel_size 4 --seed 37519 --plot --train_test_split 0.4"
   ]
  },
  {
   "cell_type": "code",
   "execution_count": null,
   "id": "38f942aa",
   "metadata": {},
   "outputs": [],
   "source": [
    "%matplotlib inline\n",
    "# Set figure size \n",
    "plt.rcParams['figure.figsize'] = [25, 10]\n",
    "\n",
    "# Plot training losses\n",
    "plot_performance(alllosses)"
   ]
  },
  {
   "cell_type": "code",
   "execution_count": null,
   "id": "6be80879",
   "metadata": {},
   "outputs": [],
   "source": [
    "%matplotlib inline\n",
    "# Set figure size \n",
    "plt.rcParams['figure.figsize'] = [25, 10]\n",
    "\n",
    "# Plot training losses\n",
    "plot_performance(accuracy)"
   ]
  },
  {
   "cell_type": "code",
   "execution_count": null,
   "id": "161c4e45",
   "metadata": {},
   "outputs": [],
   "source": [
    "%matplotlib inline\n",
    "\n",
    "# Run TCDF with the selected total dataset of EBT data\n",
    "\n",
    "%run -i \"runTCDF.py\"  --ground_truth data/standard_1_10_noisy_EBT_0_100_dataset.csv=data/EBT_demo_groundtruth.csv --learning_rate 0.1 --hidden_layers 2 --epochs 2000 --log_interval 250 --significance 0.9 --dilation_coefficient 4 --kernel_size 4 --seed 15787"
   ]
  },
  {
   "cell_type": "code",
   "execution_count": null,
   "id": "0b4f8a51",
   "metadata": {},
   "outputs": [],
   "source": [
    "# Run TCDF for predictive accuracy\n",
    "\n",
    "%run -i \"evaluate_predictions_TCDF.py\" --data data/standard_1_10_noisy_EBT_0_100_dataset.csv --learning_rate 0.1 --hidden_layers 2 --epochs 2000 --log_interval 250 --dilation_coefficient 4 --kernel_size 4 --seed 15787 --plot --train_test_split 0.4"
   ]
  },
  {
   "cell_type": "code",
   "execution_count": null,
   "id": "ea446bcb",
   "metadata": {},
   "outputs": [],
   "source": [
    "%matplotlib inline\n",
    "# Set figure size \n",
    "plt.rcParams['figure.figsize'] = [25, 10]\n",
    "\n",
    "# Plot training losses\n",
    "plot_performance(alllosses)"
   ]
  },
  {
   "cell_type": "code",
   "execution_count": null,
   "id": "a1f23063",
   "metadata": {},
   "outputs": [],
   "source": [
    "%matplotlib inline\n",
    "# Set figure size \n",
    "plt.rcParams['figure.figsize'] = [25, 10]\n",
    "\n",
    "# Plot training losses\n",
    "plot_performance(accuracy)"
   ]
  },
  {
   "cell_type": "code",
   "execution_count": null,
   "id": "7ebb1f10",
   "metadata": {},
   "outputs": [],
   "source": [
    "%matplotlib inline\n",
    "\n",
    "# Run TCDF with the selected total dataset of EBT data\n",
    "\n",
    "%run -i \"runTCDF.py\"  --ground_truth data/standard_1_10_noisy_EBT_0_100_dataset.csv=data/EBT_demo_groundtruth.csv --learning_rate 0.1 --hidden_layers 2 --epochs 2000 --log_interval 250 --significance 0.9 --dilation_coefficient 4 --kernel_size 4 --seed 74326"
   ]
  },
  {
   "cell_type": "code",
   "execution_count": null,
   "id": "906448d0",
   "metadata": {},
   "outputs": [],
   "source": [
    "# Run TCDF for predictive accuracy\n",
    "\n",
    "%run -i \"evaluate_predictions_TCDF.py\" --data data/standard_1_10_noisy_EBT_0_100_dataset.csv --learning_rate 0.1 --hidden_layers 2 --epochs 2000 --log_interval 250 --dilation_coefficient 4 --kernel_size 4 --seed 74326 --plot --train_test_split 0.4"
   ]
  },
  {
   "cell_type": "code",
   "execution_count": null,
   "id": "402a157e",
   "metadata": {},
   "outputs": [],
   "source": [
    "%matplotlib inline\n",
    "# Set figure size \n",
    "plt.rcParams['figure.figsize'] = [25, 10]\n",
    "\n",
    "# Plot training losses\n",
    "plot_performance(alllosses)"
   ]
  },
  {
   "cell_type": "code",
   "execution_count": null,
   "id": "8a063ce9",
   "metadata": {},
   "outputs": [],
   "source": [
    "%matplotlib inline\n",
    "# Set figure size \n",
    "plt.rcParams['figure.figsize'] = [25, 10]\n",
    "\n",
    "# Plot training losses\n",
    "plot_performance(accuracy)"
   ]
  },
  {
   "cell_type": "markdown",
   "id": "d4cbd110",
   "metadata": {},
   "source": [
    "#### TCDF 0-100 years: second run (increased hidden layers by 1, decreased dilation coefficient and kernel size by 1)"
   ]
  },
  {
   "cell_type": "code",
   "execution_count": null,
   "id": "596b9508",
   "metadata": {},
   "outputs": [],
   "source": [
    "%matplotlib inline\n",
    "\n",
    "# Run TCDF with the selected total dataset of EBT data\n",
    "\n",
    "%run -i \"runTCDF.py\"  --ground_truth data/standard_1_10_noisy_EBT_0_100_dataset.csv=data/EBT_demo_groundtruth.csv --learning_rate 0.1 --hidden_layers 3 --epochs 2000 --log_interval 250 --significance 0.9 --dilation_coefficient 3 --kernel_size 3 --seed 1111"
   ]
  },
  {
   "cell_type": "code",
   "execution_count": null,
   "id": "b80961bf",
   "metadata": {},
   "outputs": [],
   "source": [
    "# Run TCDF for predictive accuracy\n",
    "\n",
    "%run -i \"evaluate_predictions_TCDF.py\" --data data/standard_1_10_noisy_EBT_0_100_dataset.csv --learning_rate 0.1 --hidden_layers 3 --epochs 2000 --log_interval 250 --dilation_coefficient 3 --kernel_size 3 --seed 1111 --plot --train_test_split 0.4"
   ]
  },
  {
   "cell_type": "code",
   "execution_count": null,
   "id": "76cd786a",
   "metadata": {},
   "outputs": [],
   "source": [
    "%matplotlib inline\n",
    "# Set figure size \n",
    "plt.rcParams['figure.figsize'] = [25, 10]\n",
    "\n",
    "# Plot training losses\n",
    "plot_performance(alllosses)"
   ]
  },
  {
   "cell_type": "code",
   "execution_count": null,
   "id": "238d9011",
   "metadata": {},
   "outputs": [],
   "source": [
    "%matplotlib inline\n",
    "# Set figure size \n",
    "plt.rcParams['figure.figsize'] = [25, 10]\n",
    "\n",
    "# Plot training losses\n",
    "plot_performance(accuracy)"
   ]
  },
  {
   "cell_type": "code",
   "execution_count": null,
   "id": "9d5e5b8e",
   "metadata": {},
   "outputs": [],
   "source": [
    "%matplotlib inline\n",
    "\n",
    "# Run TCDF with the selected total dataset of EBT data\n",
    "\n",
    "%run -i \"runTCDF.py\"  --ground_truth data/standard_1_10_noisy_EBT_0_100_dataset.csv=data/EBT_demo_groundtruth.csv --learning_rate 0.1 --hidden_layers 3 --epochs 2000 --log_interval 250 --significance 0.9 --dilation_coefficient 3 --kernel_size 3 --seed 18040"
   ]
  },
  {
   "cell_type": "code",
   "execution_count": null,
   "id": "6e43cffb",
   "metadata": {},
   "outputs": [],
   "source": [
    "# Run TCDF for predictive accuracy\n",
    "\n",
    "%run -i \"evaluate_predictions_TCDF.py\" --data data/standard_1_10_noisy_EBT_0_100_dataset.csv --learning_rate 0.1 --hidden_layers 3 --epochs 2000 --log_interval 250 --dilation_coefficient 3 --kernel_size 3 --seed 18040 --plot --train_test_split 0.4"
   ]
  },
  {
   "cell_type": "code",
   "execution_count": null,
   "id": "e2681503",
   "metadata": {},
   "outputs": [],
   "source": [
    "%matplotlib inline\n",
    "# Set figure size \n",
    "plt.rcParams['figure.figsize'] = [25, 10]\n",
    "\n",
    "# Plot training losses\n",
    "plot_performance(alllosses)"
   ]
  },
  {
   "cell_type": "code",
   "execution_count": null,
   "id": "14ffc97c",
   "metadata": {},
   "outputs": [],
   "source": [
    "%matplotlib inline\n",
    "# Set figure size \n",
    "plt.rcParams['figure.figsize'] = [25, 10]\n",
    "\n",
    "# Plot training losses\n",
    "plot_performance(accuracy)"
   ]
  },
  {
   "cell_type": "code",
   "execution_count": null,
   "id": "50319b5d",
   "metadata": {},
   "outputs": [],
   "source": [
    "%matplotlib inline\n",
    "\n",
    "# Run TCDF with the selected total dataset of EBT data\n",
    "\n",
    "%run -i \"runTCDF.py\"  --ground_truth data/standard_1_10_noisy_EBT_0_100_dataset.csv=data/EBT_demo_groundtruth.csv --learning_rate 0.1 --hidden_layers 3 --epochs 2000 --log_interval 250 --significance 0.9 --dilation_coefficient 3 --kernel_size 3 --seed 86547"
   ]
  },
  {
   "cell_type": "code",
   "execution_count": null,
   "id": "a0babb1c",
   "metadata": {},
   "outputs": [],
   "source": [
    "# Run TCDF for predictive accuracy\n",
    "\n",
    "%run -i \"evaluate_predictions_TCDF.py\" --data data/standard_1_10_noisy_EBT_0_100_dataset.csv --learning_rate 0.1 --hidden_layers 3 --epochs 2000 --log_interval 250 --dilation_coefficient 3 --kernel_size 3 --seed 86547 --plot --train_test_split 0.4"
   ]
  },
  {
   "cell_type": "code",
   "execution_count": null,
   "id": "9bcaeecf",
   "metadata": {},
   "outputs": [],
   "source": [
    "%matplotlib inline\n",
    "# Set figure size \n",
    "plt.rcParams['figure.figsize'] = [25, 10]\n",
    "\n",
    "# Plot training losses\n",
    "plot_performance(alllosses)"
   ]
  },
  {
   "cell_type": "code",
   "execution_count": null,
   "id": "ad7233b6",
   "metadata": {},
   "outputs": [],
   "source": [
    "%matplotlib inline\n",
    "# Set figure size \n",
    "plt.rcParams['figure.figsize'] = [25, 10]\n",
    "\n",
    "# Plot training losses\n",
    "plot_performance(accuracy)"
   ]
  },
  {
   "cell_type": "markdown",
   "id": "a5023b45",
   "metadata": {},
   "source": [
    "#### 0 - 20 years"
   ]
  },
  {
   "cell_type": "code",
   "execution_count": null,
   "id": "1dce16fb",
   "metadata": {},
   "outputs": [],
   "source": [
    "# Select data between 0 and 20 years\n",
    "noisy_ebt_0_20 = select_data(noisy_ebt, 0, 20, 'standard')\n",
    "\n",
    "# Create file path for new file\n",
    "EBTScaled_path = os.path.join(TCDFdata_path, 'standard_1_10_noisy_EBT_0_20_dataset.csv')\n",
    "\n",
    "# Write clean dataframe demo_ebt to a new .csv file\n",
    "noisy_ebt_0_20.to_csv(EBTScaled_path, index = False)"
   ]
  },
  {
   "cell_type": "markdown",
   "id": "f97a28e6",
   "metadata": {},
   "source": [
    "#### TCDF 0 - 20 years: first run (in triplicate)"
   ]
  },
  {
   "cell_type": "code",
   "execution_count": null,
   "id": "262da7d6",
   "metadata": {},
   "outputs": [],
   "source": [
    "%matplotlib inline\n",
    "\n",
    "# Run TCDF with the selected equilibrium dataset of EBT data\n",
    "\n",
    "%run -i \"runTCDF.py\"  --ground_truth data/standard_1_10_noisy_EBT_0_20_dataset.csv=data/EBT_demo_groundtruth.csv --learning_rate 0.1 --hidden_layers 2 --epochs 2000 --log_interval 250 --significance 0.9 --dilation_coefficient 4 --kernel_size 4 --seed 37519"
   ]
  },
  {
   "cell_type": "code",
   "execution_count": null,
   "id": "8354590a",
   "metadata": {},
   "outputs": [],
   "source": [
    "# Run TCDF for predictive accuracy\n",
    "\n",
    "%run -i \"evaluate_predictions_TCDF.py\" --data data/standard_1_10_noisy_EBT_0_20_dataset.csv --learning_rate 0.1 --hidden_layers 2 --epochs 2000 --log_interval 250 --dilation_coefficient 4 --kernel_size 4 --seed 37519 --plot --train_test_split 0.8"
   ]
  },
  {
   "cell_type": "code",
   "execution_count": null,
   "id": "2219edc4",
   "metadata": {},
   "outputs": [],
   "source": [
    "%matplotlib inline\n",
    "# Set figure size \n",
    "plt.rcParams['figure.figsize'] = [25, 10]\n",
    "\n",
    "# Plot training losses\n",
    "plot_performance(alllosses)"
   ]
  },
  {
   "cell_type": "code",
   "execution_count": null,
   "id": "bde9ed11",
   "metadata": {},
   "outputs": [],
   "source": [
    "%matplotlib inline\n",
    "# Set figure size \n",
    "plt.rcParams['figure.figsize'] = [25, 10]\n",
    "\n",
    "# Plot accuracy (MASE values)\n",
    "plot_performance(accuracy)"
   ]
  },
  {
   "cell_type": "code",
   "execution_count": null,
   "id": "a361f5d2",
   "metadata": {},
   "outputs": [],
   "source": [
    "%matplotlib inline\n",
    "\n",
    "# Run TCDF with the selected equilibrium dataset of EBT data\n",
    "\n",
    "%run -i \"runTCDF.py\"  --ground_truth data/standard_1_10_noisy_EBT_0_20_dataset.csv=data/EBT_demo_groundtruth.csv --learning_rate 0.1 --hidden_layers 2 --epochs 2000 --log_interval 250 --significance 0.9 --dilation_coefficient 4 --kernel_size 4 --seed 49741"
   ]
  },
  {
   "cell_type": "code",
   "execution_count": null,
   "id": "5db4ce21",
   "metadata": {},
   "outputs": [],
   "source": [
    "# Run TCDF for predictive accuracy\n",
    "\n",
    "%run -i \"evaluate_predictions_TCDF.py\" --data data/standard_1_10_noisy_EBT_0_20_dataset.csv --learning_rate 0.1 --hidden_layers 2 --epochs 2000 --log_interval 250 --dilation_coefficient 4 --kernel_size 4 --seed 49741 --plot --train_test_split 0.8"
   ]
  },
  {
   "cell_type": "code",
   "execution_count": null,
   "id": "513e6d3a",
   "metadata": {},
   "outputs": [],
   "source": [
    "%matplotlib inline\n",
    "# Set figure size \n",
    "plt.rcParams['figure.figsize'] = [25, 10]\n",
    "\n",
    "# Plot training losses\n",
    "plot_performance(alllosses)"
   ]
  },
  {
   "cell_type": "code",
   "execution_count": null,
   "id": "be66511a",
   "metadata": {},
   "outputs": [],
   "source": [
    "%matplotlib inline\n",
    "# Set figure size \n",
    "plt.rcParams['figure.figsize'] = [25, 10]\n",
    "\n",
    "# Plot accuracy (MASE values)\n",
    "plot_performance(accuracy)"
   ]
  },
  {
   "cell_type": "code",
   "execution_count": null,
   "id": "4437de17",
   "metadata": {},
   "outputs": [],
   "source": [
    "%matplotlib inline\n",
    "\n",
    "# Run TCDF with the selected equilibrium dataset of EBT data\n",
    "\n",
    "%run -i \"runTCDF.py\"  --ground_truth data/standard_1_10_noisy_EBT_0_20_dataset.csv=data/EBT_demo_groundtruth.csv --learning_rate 0.1 --hidden_layers 2 --epochs 2000 --log_interval 250 --significance 0.9 --dilation_coefficient 4 --kernel_size 4 --seed 37786"
   ]
  },
  {
   "cell_type": "code",
   "execution_count": null,
   "id": "a9c85403",
   "metadata": {},
   "outputs": [],
   "source": [
    "# Run TCDF for predictive accuracy\n",
    "\n",
    "%run -i \"evaluate_predictions_TCDF.py\" --data data/standard_1_10_noisy_EBT_0_20_dataset.csv --learning_rate 0.1 --hidden_layers 2 --epochs 2000 --log_interval 250 --dilation_coefficient 4 --kernel_size 4 --seed 37786 --plot --train_test_split 0.8"
   ]
  },
  {
   "cell_type": "code",
   "execution_count": null,
   "id": "bae270f9",
   "metadata": {},
   "outputs": [],
   "source": [
    "%matplotlib inline\n",
    "# Set figure size \n",
    "plt.rcParams['figure.figsize'] = [25, 10]\n",
    "\n",
    "# Plot training losses\n",
    "plot_performance(alllosses)"
   ]
  },
  {
   "cell_type": "code",
   "execution_count": null,
   "id": "d308e921",
   "metadata": {},
   "outputs": [],
   "source": [
    "%matplotlib inline\n",
    "# Set figure size \n",
    "plt.rcParams['figure.figsize'] = [25, 10]\n",
    "\n",
    "# Plot accuracy (MASE values)\n",
    "plot_performance(accuracy)"
   ]
  },
  {
   "cell_type": "markdown",
   "id": "eb8c8eb4",
   "metadata": {},
   "source": [
    "#### TCDF 0-20 years: second run (increased hidden layers by 1, decreased dilation coefficient and kernel size by 1)"
   ]
  },
  {
   "cell_type": "code",
   "execution_count": null,
   "id": "b805d9c4",
   "metadata": {},
   "outputs": [],
   "source": [
    "%matplotlib inline\n",
    "\n",
    "# Run TCDF with the selected equilibrium dataset of EBT data\n",
    "\n",
    "%run -i \"runTCDF.py\"  --ground_truth data/standard_1_10_noisy_EBT_0_20_dataset.csv=data/EBT_demo_groundtruth.csv --learning_rate 0.1 --hidden_layers 3 --epochs 2000 --log_interval 250 --significance 0.9 --dilation_coefficient 3 --kernel_size 3 --seed 94139\n"
   ]
  },
  {
   "cell_type": "code",
   "execution_count": null,
   "id": "3da45235",
   "metadata": {},
   "outputs": [],
   "source": [
    "# Run TCDF for predictive accuracy\n",
    "\n",
    "%run -i \"evaluate_predictions_TCDF.py\" --data data/standard_1_10_noisy_EBT_0_20_dataset.csv --learning_rate 0.1 --hidden_layers 3 --epochs 2000 --log_interval 250 --dilation_coefficient 3 --kernel_size 3 --seed 94139 --plot --train_test_split 0.8"
   ]
  },
  {
   "cell_type": "code",
   "execution_count": null,
   "id": "21de2075",
   "metadata": {},
   "outputs": [],
   "source": [
    "%matplotlib inline\n",
    "# Set figure size \n",
    "plt.rcParams['figure.figsize'] = [25, 10]\n",
    "\n",
    "# Plot training losses\n",
    "plot_performance(alllosses)"
   ]
  },
  {
   "cell_type": "code",
   "execution_count": null,
   "id": "7543a2e0",
   "metadata": {},
   "outputs": [],
   "source": [
    "%matplotlib inline\n",
    "# Set figure size \n",
    "plt.rcParams['figure.figsize'] = [25, 10]\n",
    "\n",
    "# Plot accuracy (MASE values)\n",
    "plot_performance(accuracy)"
   ]
  },
  {
   "cell_type": "code",
   "execution_count": null,
   "id": "cba0ebd1",
   "metadata": {},
   "outputs": [],
   "source": [
    "%matplotlib inline\n",
    "\n",
    "# Run TCDF with the selected equilibrium dataset of EBT data\n",
    "\n",
    "%run -i \"runTCDF.py\"  --ground_truth data/standard_1_10_noisy_EBT_0_20_dataset.csv=data/EBT_demo_groundtruth.csv --learning_rate 0.1 --hidden_layers 3 --epochs 2000 --log_interval 250 --significance 0.9 --dilation_coefficient 3 --kernel_size 3 --seed 18147\n"
   ]
  },
  {
   "cell_type": "code",
   "execution_count": null,
   "id": "ca154360",
   "metadata": {},
   "outputs": [],
   "source": [
    "# Run TCDF for predictive accuracy\n",
    "\n",
    "%run -i \"evaluate_predictions_TCDF.py\" --data data/standard_1_10_noisy_EBT_0_20_dataset.csv --learning_rate 0.1 --hidden_layers 3 --epochs 2000 --log_interval 250 --dilation_coefficient 3 --kernel_size 3 --seed 18147 --plot --train_test_split 0.8"
   ]
  },
  {
   "cell_type": "code",
   "execution_count": null,
   "id": "051da598",
   "metadata": {},
   "outputs": [],
   "source": [
    "%matplotlib inline\n",
    "# Set figure size \n",
    "plt.rcParams['figure.figsize'] = [25, 10]\n",
    "\n",
    "# Plot training losses\n",
    "plot_performance(alllosses)"
   ]
  },
  {
   "cell_type": "code",
   "execution_count": null,
   "id": "a2350018",
   "metadata": {},
   "outputs": [],
   "source": [
    "%matplotlib inline\n",
    "# Set figure size \n",
    "plt.rcParams['figure.figsize'] = [25, 10]\n",
    "\n",
    "# Plot accuracy (MASE values)\n",
    "plot_performance(accuracy)"
   ]
  },
  {
   "cell_type": "code",
   "execution_count": null,
   "id": "e9b8c199",
   "metadata": {},
   "outputs": [],
   "source": [
    "%matplotlib inline\n",
    "\n",
    "# Run TCDF with the selected equilibrium dataset of EBT data\n",
    "\n",
    "%run -i \"runTCDF.py\"  --ground_truth data/standard_1_10_noisy_EBT_0_20_dataset.csv=data/EBT_demo_groundtruth.csv --learning_rate 0.1 --hidden_layers 3 --epochs 2000 --log_interval 250 --significance 0.9 --dilation_coefficient 3 --kernel_size 3 --seed 69089\n"
   ]
  },
  {
   "cell_type": "code",
   "execution_count": null,
   "id": "5ead927b",
   "metadata": {},
   "outputs": [],
   "source": [
    "# Run TCDF for predictive accuracy\n",
    "\n",
    "%run -i \"evaluate_predictions_TCDF.py\" --data data/standard_1_10_noisy_EBT_0_20_dataset.csv --learning_rate 0.1 --hidden_layers 3 --epochs 2000 --log_interval 250 --dilation_coefficient 3 --kernel_size 3 --seed 69089 --plot --train_test_split 0.8"
   ]
  },
  {
   "cell_type": "code",
   "execution_count": null,
   "id": "7cb6b348",
   "metadata": {},
   "outputs": [],
   "source": [
    "%matplotlib inline\n",
    "# Set figure size \n",
    "plt.rcParams['figure.figsize'] = [25, 10]\n",
    "\n",
    "# Plot training losses\n",
    "plot_performance(alllosses)"
   ]
  },
  {
   "cell_type": "code",
   "execution_count": null,
   "id": "a6755926",
   "metadata": {},
   "outputs": [],
   "source": [
    "%matplotlib inline\n",
    "# Set figure size \n",
    "plt.rcParams['figure.figsize'] = [25, 10]\n",
    "\n",
    "# Plot accuracy (MASE values)\n",
    "plot_performance(accuracy)"
   ]
  },
  {
   "cell_type": "markdown",
   "id": "6e3a60a3",
   "metadata": {},
   "source": [
    "#### 70 - 100 years"
   ]
  },
  {
   "cell_type": "code",
   "execution_count": null,
   "id": "6e96e839",
   "metadata": {},
   "outputs": [],
   "source": [
    "# Select data between 70 and 100 years\n",
    "noisy_ebt_70_100 = select_data(noisy_ebt, 70, 100, 'standard')\n",
    "\n",
    "# Create file path for new file\n",
    "EBTScaled_path = os.path.join(TCDFdata_path, 'standard_1_10_noisy_EBT_70_100_dataset.csv')\n",
    "\n",
    "# Write clean dataframe demo_ebt to a new .csv file\n",
    "noisy_ebt_70_100.to_csv(EBTScaled_path, index = False)"
   ]
  },
  {
   "cell_type": "markdown",
   "id": "cec78ae1",
   "metadata": {},
   "source": [
    "#### TCDF 70-100: first run (in triplicate)"
   ]
  },
  {
   "cell_type": "code",
   "execution_count": null,
   "id": "1bba377f",
   "metadata": {},
   "outputs": [],
   "source": [
    "%matplotlib inline\n",
    "\n",
    "# Run TCDF with the selected equilibrium dataset of EBT data\n",
    "\n",
    "%run -i \"runTCDF.py\"  --ground_truth data/standard_1_10_noisy_EBT_70_100_dataset.csv=data/EBT_demo_groundtruth.csv --learning_rate 0.1 --hidden_layers 2 --epochs 2000 --log_interval 250 --significance 0.9 --dilation_coefficient 4 --kernel_size 4 --seed 34321"
   ]
  },
  {
   "cell_type": "code",
   "execution_count": null,
   "id": "4fcdfc1a",
   "metadata": {},
   "outputs": [],
   "source": [
    "# Run TCDF for predictive accuracy\n",
    "\n",
    "%run -i \"evaluate_predictions_TCDF.py\" --data data/standard_1_10_noisy_EBT_70_100_dataset.csv --learning_rate 0.1 --hidden_layers 2 --epochs 2000 --log_interval 250 --dilation_coefficient 4 --kernel_size 4 --seed 34321 --plot --train_test_split 0.8"
   ]
  },
  {
   "cell_type": "code",
   "execution_count": null,
   "id": "d091a2c7",
   "metadata": {},
   "outputs": [],
   "source": [
    "%matplotlib inline\n",
    "# Set figure size \n",
    "plt.rcParams['figure.figsize'] = [25, 10]\n",
    "\n",
    "# Plot training losses\n",
    "plot_performance(alllosses)"
   ]
  },
  {
   "cell_type": "code",
   "execution_count": null,
   "id": "c574608b",
   "metadata": {},
   "outputs": [],
   "source": [
    "%matplotlib inline\n",
    "# Set figure size \n",
    "plt.rcParams['figure.figsize'] = [25, 10]\n",
    "\n",
    "# Plot accuracy (MASE values)\n",
    "plot_performance(accuracy)"
   ]
  },
  {
   "cell_type": "code",
   "execution_count": null,
   "id": "59ed1188",
   "metadata": {},
   "outputs": [],
   "source": [
    "%matplotlib inline\n",
    "\n",
    "# Run TCDF with the selected equilibrium dataset of EBT data\n",
    "\n",
    "%run -i \"runTCDF.py\"  --ground_truth data/standard_1_10_noisy_EBT_70_100_dataset.csv=data/EBT_demo_groundtruth.csv --learning_rate 0.1 --hidden_layers 2 --epochs 2000 --log_interval 250 --significance 0.9 --dilation_coefficient 4 --kernel_size 4 --seed 85672"
   ]
  },
  {
   "cell_type": "code",
   "execution_count": null,
   "id": "0de8ac2a",
   "metadata": {},
   "outputs": [],
   "source": [
    "# Run TCDF for predictive accuracy\n",
    "\n",
    "%run -i \"evaluate_predictions_TCDF.py\" --data data/standard_1_10_noisy_EBT_70_100_dataset.csv --learning_rate 0.1 --hidden_layers 2 --epochs 2000 --log_interval 250 --dilation_coefficient 4 --kernel_size 4 --seed 85672 --plot --train_test_split 0.8"
   ]
  },
  {
   "cell_type": "code",
   "execution_count": null,
   "id": "0c1e065c",
   "metadata": {},
   "outputs": [],
   "source": [
    "%matplotlib inline\n",
    "# Set figure size \n",
    "plt.rcParams['figure.figsize'] = [25, 10]\n",
    "\n",
    "# Plot training losses\n",
    "plot_performance(alllosses)"
   ]
  },
  {
   "cell_type": "code",
   "execution_count": null,
   "id": "12f5c145",
   "metadata": {},
   "outputs": [],
   "source": [
    "%matplotlib inline\n",
    "# Set figure size \n",
    "plt.rcParams['figure.figsize'] = [25, 10]\n",
    "\n",
    "# Plot accuracy (MASE values)\n",
    "plot_performance(accuracy)"
   ]
  },
  {
   "cell_type": "code",
   "execution_count": null,
   "id": "068dc33f",
   "metadata": {},
   "outputs": [],
   "source": [
    "%matplotlib inline\n",
    "\n",
    "# Run TCDF with the selected equilibrium dataset of EBT data\n",
    "\n",
    "%run -i \"runTCDF.py\"  --ground_truth data/standard_1_10_noisy_EBT_70_100_dataset.csv=data/EBT_demo_groundtruth.csv --learning_rate 0.1 --hidden_layers 2 --epochs 2000 --log_interval 250 --significance 0.9 --dilation_coefficient 4 --kernel_size 4 --seed 63109"
   ]
  },
  {
   "cell_type": "code",
   "execution_count": null,
   "id": "0f08b4fa",
   "metadata": {},
   "outputs": [],
   "source": [
    "# Run TCDF for predictive accuracy\n",
    "\n",
    "%run -i \"evaluate_predictions_TCDF.py\" --data data/standard_1_10_noisy_EBT_70_100_dataset.csv --learning_rate 0.1 --hidden_layers 2 --epochs 2000 --log_interval 250 --dilation_coefficient 4 --kernel_size 4 --seed 63109 --plot --train_test_split 0.8"
   ]
  },
  {
   "cell_type": "code",
   "execution_count": null,
   "id": "00535871",
   "metadata": {},
   "outputs": [],
   "source": [
    "%matplotlib inline\n",
    "# Set figure size \n",
    "plt.rcParams['figure.figsize'] = [25, 10]\n",
    "\n",
    "# Plot training losses\n",
    "plot_performance(alllosses)"
   ]
  },
  {
   "cell_type": "code",
   "execution_count": null,
   "id": "9613f790",
   "metadata": {},
   "outputs": [],
   "source": [
    "%matplotlib inline\n",
    "# Set figure size \n",
    "plt.rcParams['figure.figsize'] = [25, 10]\n",
    "\n",
    "# Plot accuracy (MASE values)\n",
    "plot_performance(accuracy)"
   ]
  },
  {
   "cell_type": "markdown",
   "id": "64f33638",
   "metadata": {},
   "source": [
    "#### TCDF 70-100: second run  (increased hidden layers by 1, decreased dilation coefficient and kernel size by 1)"
   ]
  },
  {
   "cell_type": "code",
   "execution_count": null,
   "id": "f1301e2e",
   "metadata": {},
   "outputs": [],
   "source": [
    "%matplotlib inline\n",
    "\n",
    "# Run TCDF with the selected equilibrium dataset of EBT data\n",
    "\n",
    "%run -i \"runTCDF.py\"  --ground_truth data/standard_1_10_noisy_EBT_70_100_dataset.csv=data/EBT_demo_groundtruth.csv --learning_rate 0.1 --hidden_layers 3 --epochs 2000 --log_interval 250 --significance 0.9 --dilation_coefficient 3 --kernel_size 3 --seed 1238"
   ]
  },
  {
   "cell_type": "code",
   "execution_count": null,
   "id": "fd3d983e",
   "metadata": {},
   "outputs": [],
   "source": [
    "# Run TCDF for predictive accuracy\n",
    "\n",
    "%run -i \"evaluate_predictions_TCDF.py\" --data data/standard_1_10_noisy_EBT_70_100_dataset.csv --learning_rate 0.1 --hidden_layers 3 --epochs 2000 --log_interval 250 --dilation_coefficient 3 --kernel_size 3 --seed 1238 --plot --train_test_split 0.8"
   ]
  },
  {
   "cell_type": "code",
   "execution_count": null,
   "id": "1d97416f",
   "metadata": {},
   "outputs": [],
   "source": [
    "%matplotlib inline\n",
    "# Set figure size \n",
    "plt.rcParams['figure.figsize'] = [25, 10]\n",
    "\n",
    "# Plot training losses\n",
    "plot_performance(alllosses)"
   ]
  },
  {
   "cell_type": "code",
   "execution_count": null,
   "id": "c45de73b",
   "metadata": {},
   "outputs": [],
   "source": [
    "%matplotlib inline\n",
    "# Set figure size \n",
    "plt.rcParams['figure.figsize'] = [25, 10]\n",
    "\n",
    "# Plot accuracy (MASE values)\n",
    "plot_performance(accuracy)"
   ]
  },
  {
   "cell_type": "code",
   "execution_count": null,
   "id": "576c6f63",
   "metadata": {},
   "outputs": [],
   "source": [
    "%matplotlib inline\n",
    "\n",
    "# Run TCDF with the selected equilibrium dataset of EBT data\n",
    "\n",
    "%run -i \"runTCDF.py\"  --ground_truth data/standard_1_10_noisy_EBT_70_100_dataset.csv=data/EBT_demo_groundtruth.csv --learning_rate 0.1 --hidden_layers 3 --epochs 2000 --log_interval 250 --significance 0.9 --dilation_coefficient 3 --kernel_size 3 --seed 53988"
   ]
  },
  {
   "cell_type": "code",
   "execution_count": null,
   "id": "e14bcdb6",
   "metadata": {},
   "outputs": [],
   "source": [
    "# Run TCDF for predictive accuracy\n",
    "\n",
    "%run -i \"evaluate_predictions_TCDF.py\" --data data/standard_1_10_noisy_EBT_70_100_dataset.csv --learning_rate 0.1 --hidden_layers 3 --epochs 2000 --log_interval 250 --dilation_coefficient 3 --kernel_size 3 --seed 53988 --plot --train_test_split 0.8"
   ]
  },
  {
   "cell_type": "code",
   "execution_count": null,
   "id": "c34af92b",
   "metadata": {},
   "outputs": [],
   "source": [
    "%matplotlib inline\n",
    "# Set figure size \n",
    "plt.rcParams['figure.figsize'] = [25, 10]\n",
    "\n",
    "# Plot training losses\n",
    "plot_performance(alllosses)"
   ]
  },
  {
   "cell_type": "code",
   "execution_count": null,
   "id": "5525dd95",
   "metadata": {},
   "outputs": [],
   "source": [
    "%matplotlib inline\n",
    "# Set figure size \n",
    "plt.rcParams['figure.figsize'] = [25, 10]\n",
    "\n",
    "# Plot accuracy (MASE values)\n",
    "plot_performance(accuracy)"
   ]
  },
  {
   "cell_type": "code",
   "execution_count": null,
   "id": "110a30c2",
   "metadata": {},
   "outputs": [],
   "source": [
    "%matplotlib inline\n",
    "\n",
    "# Run TCDF with the selected equilibrium dataset of EBT data\n",
    "\n",
    "%run -i \"runTCDF.py\"  --ground_truth data/standard_1_10_noisy_EBT_70_100_dataset.csv=data/EBT_demo_groundtruth.csv --learning_rate 0.1 --hidden_layers 3 --epochs 2000 --log_interval 250 --significance 0.9 --dilation_coefficient 3 --kernel_size 3 --seed 92422"
   ]
  },
  {
   "cell_type": "code",
   "execution_count": null,
   "id": "02df0762",
   "metadata": {},
   "outputs": [],
   "source": [
    "# Run TCDF for predictive accuracy\n",
    "\n",
    "%run -i \"evaluate_predictions_TCDF.py\" --data data/standard_1_10_noisy_EBT_70_100_dataset.csv --learning_rate 0.1 --hidden_layers 3 --epochs 2000 --log_interval 250 --dilation_coefficient 3 --kernel_size 3 --seed 92422 --plot --train_test_split 0.8"
   ]
  },
  {
   "cell_type": "code",
   "execution_count": null,
   "id": "cab95777",
   "metadata": {},
   "outputs": [],
   "source": [
    "%matplotlib inline\n",
    "# Set figure size \n",
    "plt.rcParams['figure.figsize'] = [25, 10]\n",
    "\n",
    "# Plot training losses\n",
    "plot_performance(alllosses)"
   ]
  },
  {
   "cell_type": "code",
   "execution_count": null,
   "id": "fdb8f1ac",
   "metadata": {},
   "outputs": [],
   "source": [
    "%matplotlib inline\n",
    "# Set figure size \n",
    "plt.rcParams['figure.figsize'] = [25, 10]\n",
    "\n",
    "# Plot accuracy (MASE values)\n",
    "plot_performance(accuracy)"
   ]
  },
  {
   "cell_type": "markdown",
   "id": "e747075d",
   "metadata": {},
   "source": [
    "#### 20 - 60 years"
   ]
  },
  {
   "cell_type": "code",
   "execution_count": null,
   "id": "89fe4920",
   "metadata": {},
   "outputs": [],
   "source": [
    "# Select data between 20 and 60 years\n",
    "noisy_ebt_20_60 = select_data(noisy_ebt, 20, 60, 'standard')\n",
    "\n",
    "# Create file path for new file\n",
    "EBTScaled_path = os.path.join(TCDFdata_path, 'standard_1_10_noisy_EBT_20_60_dataset.csv')\n",
    "\n",
    "# Write clean dataframe demo_ebt to a new .csv file\n",
    "noisy_ebt_20_60.to_csv(EBTScaled_path, index = False)"
   ]
  },
  {
   "cell_type": "markdown",
   "id": "8cce04bc",
   "metadata": {},
   "source": [
    "#### TCDF 20-60 years: first run (in triplicate)"
   ]
  },
  {
   "cell_type": "code",
   "execution_count": null,
   "id": "7d6491b0",
   "metadata": {},
   "outputs": [],
   "source": [
    "%matplotlib inline\n",
    "\n",
    "# Run TCDF with the selected equilibrium dataset of EBT data\n",
    "\n",
    "%run -i \"runTCDF.py\"  --ground_truth data/standard_1_10_noisy_EBT_20_60_dataset.csv=data/EBT_demo_groundtruth.csv --learning_rate 0.1 --hidden_layers 3 --epochs 2000 --log_interval 250 --significance 0.9 --dilation_coefficient 3 --kernel_size 3 --seed 24310"
   ]
  },
  {
   "cell_type": "code",
   "execution_count": null,
   "id": "34ded415",
   "metadata": {},
   "outputs": [],
   "source": [
    "# Run TCDF for predictive accuracy\n",
    "\n",
    "%run -i \"evaluate_predictions_TCDF.py\" --data data/standard_1_10_noisy_EBT_20_60_dataset.csv --learning_rate 0.1 --hidden_layers 3 --epochs 2000 --log_interval 250 --dilation_coefficient 3 --kernel_size 3 --seed 24310 --plot --train_test_split 0.7"
   ]
  },
  {
   "cell_type": "code",
   "execution_count": null,
   "id": "9273b531",
   "metadata": {},
   "outputs": [],
   "source": [
    "%matplotlib inline\n",
    "# Set figure size \n",
    "plt.rcParams['figure.figsize'] = [25, 10]\n",
    "\n",
    "# Plot training losses\n",
    "plot_performance(alllosses)"
   ]
  },
  {
   "cell_type": "code",
   "execution_count": null,
   "id": "372b194d",
   "metadata": {},
   "outputs": [],
   "source": [
    "%matplotlib inline\n",
    "# Set figure size \n",
    "plt.rcParams['figure.figsize'] = [25, 10]\n",
    "\n",
    "# Plot accuracy (MASE values)\n",
    "plot_performance(accuracy)"
   ]
  },
  {
   "cell_type": "code",
   "execution_count": null,
   "id": "1fec6740",
   "metadata": {},
   "outputs": [],
   "source": [
    "%matplotlib inline\n",
    "\n",
    "# Run TCDF with the selected equilibrium dataset of EBT data\n",
    "\n",
    "%run -i \"runTCDF.py\"  --ground_truth data/standard_1_10_noisy_EBT_20_60_dataset.csv=data/EBT_demo_groundtruth.csv --learning_rate 0.1 --hidden_layers 3 --epochs 2000 --log_interval 250 --significance 0.9 --dilation_coefficient 3 --kernel_size 3 --seed 77139"
   ]
  },
  {
   "cell_type": "code",
   "execution_count": null,
   "id": "785e249f",
   "metadata": {},
   "outputs": [],
   "source": [
    "# Run TCDF for predictive accuracy\n",
    "\n",
    "%run -i \"evaluate_predictions_TCDF.py\" --data data/standard_1_10_noisy_EBT_20_60_dataset.csv --learning_rate 0.1 --hidden_layers 3 --epochs 2000 --log_interval 250 --dilation_coefficient 3 --kernel_size 3 --seed 77139 --plot --train_test_split 0.7"
   ]
  },
  {
   "cell_type": "code",
   "execution_count": null,
   "id": "9af157ab",
   "metadata": {},
   "outputs": [],
   "source": [
    "%matplotlib inline\n",
    "# Set figure size \n",
    "plt.rcParams['figure.figsize'] = [25, 10]\n",
    "\n",
    "# Plot training losses\n",
    "plot_performance(alllosses)"
   ]
  },
  {
   "cell_type": "code",
   "execution_count": null,
   "id": "e3f9eaaf",
   "metadata": {},
   "outputs": [],
   "source": [
    "%matplotlib inline\n",
    "# Set figure size \n",
    "plt.rcParams['figure.figsize'] = [25, 10]\n",
    "\n",
    "# Plot accuracy (MASE values)\n",
    "plot_performance(accuracy)"
   ]
  },
  {
   "cell_type": "code",
   "execution_count": null,
   "id": "9102b958",
   "metadata": {},
   "outputs": [],
   "source": [
    "%matplotlib inline\n",
    "\n",
    "# Run TCDF with the selected equilibrium dataset of EBT data\n",
    "\n",
    "%run -i \"runTCDF.py\"  --ground_truth data/standard_1_10_noisy_EBT_20_60_dataset.csv=data/EBT_demo_groundtruth.csv --learning_rate 0.1 --hidden_layers 3 --epochs 2000 --log_interval 250 --significance 0.9 --dilation_coefficient 3 --kernel_size 3 --seed 45184"
   ]
  },
  {
   "cell_type": "code",
   "execution_count": null,
   "id": "f30e2df7",
   "metadata": {},
   "outputs": [],
   "source": [
    "# Run TCDF for predictive accuracy\n",
    "\n",
    "%run -i \"evaluate_predictions_TCDF.py\" --data data/standard_1_10_noisy_EBT_20_60_dataset.csv --learning_rate 0.1 --hidden_layers 3 --epochs 2000 --log_interval 250 --dilation_coefficient 3 --kernel_size 3 --seed 45184 --plot --train_test_split 0.7"
   ]
  },
  {
   "cell_type": "code",
   "execution_count": null,
   "id": "d7711e33",
   "metadata": {},
   "outputs": [],
   "source": [
    "%matplotlib inline\n",
    "# Set figure size \n",
    "plt.rcParams['figure.figsize'] = [25, 10]\n",
    "\n",
    "# Plot training losses\n",
    "plot_performance(alllosses)"
   ]
  },
  {
   "cell_type": "code",
   "execution_count": null,
   "id": "ca6257e8",
   "metadata": {},
   "outputs": [],
   "source": [
    "%matplotlib inline\n",
    "# Set figure size \n",
    "plt.rcParams['figure.figsize'] = [25, 10]\n",
    "\n",
    "# Plot accuracy (MASE values)\n",
    "plot_performance(accuracy)"
   ]
  },
  {
   "cell_type": "markdown",
   "id": "49d6a7f9",
   "metadata": {},
   "source": [
    "#### TCDF 20-60 years: second run  (decreased hidden layers by 1, increased dilation coefficient and kernel size by 1)"
   ]
  },
  {
   "cell_type": "code",
   "execution_count": null,
   "id": "49fed8c5",
   "metadata": {},
   "outputs": [],
   "source": [
    "%matplotlib inline\n",
    "\n",
    "# Run TCDF with the selected equilibrium dataset of EBT data\n",
    "\n",
    "%run -i \"runTCDF.py\"  --ground_truth data/standard_1_10_noisy_EBT_20_60_dataset.csv=data/EBT_demo_groundtruth.csv --learning_rate 0.1 --hidden_layers 2 --epochs 2000 --log_interval 250 --significance 0.9 --dilation_coefficient 4 --kernel_size 4 --seed 78025"
   ]
  },
  {
   "cell_type": "code",
   "execution_count": null,
   "id": "797ac5e0",
   "metadata": {},
   "outputs": [],
   "source": [
    "# Run TCDF for predictive accuracy\n",
    "\n",
    "%run -i \"evaluate_predictions_TCDF.py\" --data data/standard_1_10_noisy_EBT_20_60_dataset.csv --learning_rate 0.1 --hidden_layers 2 --epochs 2000 --log_interval 250 --dilation_coefficient 4 --kernel_size 4 --seed 78025 --plot --train_test_split 0.7"
   ]
  },
  {
   "cell_type": "code",
   "execution_count": null,
   "id": "705fcd49",
   "metadata": {},
   "outputs": [],
   "source": [
    "%matplotlib inline\n",
    "# Set figure size \n",
    "plt.rcParams['figure.figsize'] = [25, 10]\n",
    "\n",
    "# Plot training losses\n",
    "plot_performance(alllosses)"
   ]
  },
  {
   "cell_type": "code",
   "execution_count": null,
   "id": "9026064e",
   "metadata": {},
   "outputs": [],
   "source": [
    "%matplotlib inline\n",
    "# Set figure size \n",
    "plt.rcParams['figure.figsize'] = [25, 10]\n",
    "\n",
    "# Plot accuracy (MASE values)\n",
    "plot_performance(accuracy)"
   ]
  },
  {
   "cell_type": "code",
   "execution_count": null,
   "id": "ce768d83",
   "metadata": {},
   "outputs": [],
   "source": [
    "%matplotlib inline\n",
    "\n",
    "# Run TCDF with the selected equilibrium dataset of EBT data\n",
    "\n",
    "%run -i \"runTCDF.py\"  --ground_truth data/standard_1_10_noisy_EBT_20_60_dataset.csv=data/EBT_demo_groundtruth.csv --learning_rate 0.1 --hidden_layers 2 --epochs 2000 --log_interval 250 --significance 0.9 --dilation_coefficient 4 --kernel_size 4 --seed 53391"
   ]
  },
  {
   "cell_type": "code",
   "execution_count": null,
   "id": "c9dfbb9f",
   "metadata": {
    "scrolled": true
   },
   "outputs": [],
   "source": [
    "# Run TCDF for predictive accuracy\n",
    "\n",
    "%run -i \"evaluate_predictions_TCDF.py\" --data data/standard_1_10_noisy_EBT_20_60_dataset.csv --learning_rate 0.1 --hidden_layers 2 --epochs 2000 --log_interval 250 --dilation_coefficient 4 --kernel_size 4 --seed 53391 --plot --train_test_split 0.7"
   ]
  },
  {
   "cell_type": "code",
   "execution_count": null,
   "id": "02367ce5",
   "metadata": {},
   "outputs": [],
   "source": [
    "%matplotlib inline\n",
    "# Set figure size \n",
    "plt.rcParams['figure.figsize'] = [25, 10]\n",
    "\n",
    "# Plot training losses\n",
    "plot_performance(alllosses)"
   ]
  },
  {
   "cell_type": "code",
   "execution_count": null,
   "id": "5735aa59",
   "metadata": {},
   "outputs": [],
   "source": [
    "%matplotlib inline\n",
    "# Set figure size \n",
    "plt.rcParams['figure.figsize'] = [25, 10]\n",
    "\n",
    "# Plot accuracy (MASE values)\n",
    "plot_performance(accuracy)"
   ]
  },
  {
   "cell_type": "code",
   "execution_count": null,
   "id": "9fe857c7",
   "metadata": {
    "scrolled": true
   },
   "outputs": [],
   "source": [
    "%matplotlib inline\n",
    "\n",
    "# Run TCDF with the selected equilibrium dataset of EBT data\n",
    "\n",
    "%run -i \"runTCDF.py\"  --ground_truth data/standard_1_10_noisy_EBT_20_60_dataset.csv=data/EBT_demo_groundtruth.csv --learning_rate 0.1 --hidden_layers 2 --epochs 2000 --log_interval 250 --significance 0.9 --dilation_coefficient 4 --kernel_size 4 --seed 34061"
   ]
  },
  {
   "cell_type": "code",
   "execution_count": null,
   "id": "8a54cf70",
   "metadata": {},
   "outputs": [],
   "source": [
    "# Run TCDF for predictive accuracy\n",
    "\n",
    "%run -i \"evaluate_predictions_TCDF.py\" --data data/standard_1_10_noisy_EBT_20_60_dataset.csv --learning_rate 0.1 --hidden_layers 2 --epochs 2000 --log_interval 250 --dilation_coefficient 4 --kernel_size 4 --seed 34061 --plot --train_test_split 0.7"
   ]
  },
  {
   "cell_type": "code",
   "execution_count": null,
   "id": "6d5691fa",
   "metadata": {},
   "outputs": [],
   "source": [
    "%matplotlib inline\n",
    "# Set figure size \n",
    "plt.rcParams['figure.figsize'] = [25, 10]\n",
    "\n",
    "# Plot training losses\n",
    "plot_performance(alllosses)"
   ]
  },
  {
   "cell_type": "code",
   "execution_count": null,
   "id": "a1f4e633",
   "metadata": {},
   "outputs": [],
   "source": [
    "%matplotlib inline\n",
    "# Set figure size \n",
    "plt.rcParams['figure.figsize'] = [25, 10]\n",
    "\n",
    "# Plot accuracy (MASE values)\n",
    "plot_performance(accuracy)"
   ]
  },
  {
   "cell_type": "markdown",
   "id": "3168adf8",
   "metadata": {},
   "source": [
    "#### 60 - 70 years"
   ]
  },
  {
   "cell_type": "code",
   "execution_count": null,
   "id": "593dcd80",
   "metadata": {},
   "outputs": [],
   "source": [
    "# Select data between 20 and 60 years\n",
    "noisy_ebt_60_70 = select_data(noisy_ebt, 60, 70, 'standard')\n",
    "\n",
    "# Create file path for new file\n",
    "EBTScaled_path = os.path.join(TCDFdata_path, 'standard_1_10_noisy_EBT_60_70_dataset.csv')\n",
    "\n",
    "# Write clean dataframe demo_ebt to a new .csv file\n",
    "noisy_ebt_60_70.to_csv(EBTScaled_path, index = False)"
   ]
  },
  {
   "cell_type": "markdown",
   "id": "d67d6bb8",
   "metadata": {},
   "source": [
    "#### TCDF 60-70 years: first run (in triplicate)"
   ]
  },
  {
   "cell_type": "code",
   "execution_count": null,
   "id": "8c84d9ba",
   "metadata": {
    "scrolled": true
   },
   "outputs": [],
   "source": [
    "%matplotlib inline\n",
    "\n",
    "# Run TCDF with the selected equilibrium dataset of EBT data\n",
    "\n",
    "%run -i \"runTCDF.py\"  --ground_truth data/standard_1_10_noisy_EBT_60_70_dataset.csv=data/EBT_demo_groundtruth.csv --learning_rate 0.1 --hidden_layers 3 --epochs 2000 --log_interval 250 --significance 0.9 --dilation_coefficient 3 --kernel_size 3 --seed 2369"
   ]
  },
  {
   "cell_type": "code",
   "execution_count": null,
   "id": "08f79e90",
   "metadata": {
    "scrolled": true
   },
   "outputs": [],
   "source": [
    "# Run TCDF for predictive accuracy\n",
    "\n",
    "%run -i \"evaluate_predictions_TCDF.py\" --data data/standard_1_10_noisy_EBT_60_70_dataset.csv --learning_rate 0.1 --hidden_layers 3 --epochs 2000 --log_interval 250 --dilation_coefficient 3 --kernel_size 3 --seed 2369 --plot --train_test_split 0.7"
   ]
  },
  {
   "cell_type": "code",
   "execution_count": null,
   "id": "8afcb6f1",
   "metadata": {},
   "outputs": [],
   "source": [
    "%matplotlib inline\n",
    "# Set figure size \n",
    "plt.rcParams['figure.figsize'] = [25, 10]\n",
    "\n",
    "# Plot training losses\n",
    "plot_performance(alllosses)"
   ]
  },
  {
   "cell_type": "code",
   "execution_count": null,
   "id": "e0087c0d",
   "metadata": {},
   "outputs": [],
   "source": [
    "%matplotlib inline\n",
    "# Set figure size \n",
    "plt.rcParams['figure.figsize'] = [25, 10]\n",
    "\n",
    "# Plot accuracy (MASE values)\n",
    "plot_performance(accuracy)"
   ]
  },
  {
   "cell_type": "code",
   "execution_count": null,
   "id": "2ff7405e",
   "metadata": {
    "scrolled": true
   },
   "outputs": [],
   "source": [
    "%matplotlib inline\n",
    "\n",
    "# Run TCDF with the selected equilibrium dataset of EBT data\n",
    "\n",
    "%run -i \"runTCDF.py\"  --ground_truth data/standard_1_10_noisy_EBT_60_70_dataset.csv=data/EBT_demo_groundtruth.csv --learning_rate 0.1 --hidden_layers 3 --epochs 2000 --log_interval 250 --significance 0.9 --dilation_coefficient 3 --kernel_size 3 --seed 33520"
   ]
  },
  {
   "cell_type": "code",
   "execution_count": null,
   "id": "e442de63",
   "metadata": {
    "scrolled": true
   },
   "outputs": [],
   "source": [
    "# Run TCDF for predictive accuracy\n",
    "\n",
    "%run -i \"evaluate_predictions_TCDF.py\" --data data/standard_1_10_noisy_EBT_60_70_dataset.csv --learning_rate 0.1 --hidden_layers 3 --epochs 2000 --log_interval 250 --dilation_coefficient 3 --kernel_size 3 --seed 33520 --plot --train_test_split 0.7"
   ]
  },
  {
   "cell_type": "code",
   "execution_count": null,
   "id": "be9ad111",
   "metadata": {},
   "outputs": [],
   "source": [
    "%matplotlib inline\n",
    "# Set figure size \n",
    "plt.rcParams['figure.figsize'] = [25, 10]\n",
    "\n",
    "# Plot training losses\n",
    "plot_performance(alllosses)"
   ]
  },
  {
   "cell_type": "code",
   "execution_count": null,
   "id": "4441c37c",
   "metadata": {},
   "outputs": [],
   "source": [
    "%matplotlib inline\n",
    "# Set figure size \n",
    "plt.rcParams['figure.figsize'] = [25, 10]\n",
    "\n",
    "# Plot accuracy (MASE values)\n",
    "plot_performance(accuracy)"
   ]
  },
  {
   "cell_type": "code",
   "execution_count": null,
   "id": "7ed69749",
   "metadata": {
    "scrolled": true
   },
   "outputs": [],
   "source": [
    "%matplotlib inline\n",
    "\n",
    "# Run TCDF with the selected equilibrium dataset of EBT data\n",
    "\n",
    "%run -i \"runTCDF.py\"  --ground_truth data/standard_1_10_noisy_EBT_60_70_dataset.csv=data/EBT_demo_groundtruth.csv --learning_rate 0.1 --hidden_layers 3 --epochs 2000 --log_interval 250 --significance 0.9 --dilation_coefficient 3 --kernel_size 3 --seed 66848"
   ]
  },
  {
   "cell_type": "code",
   "execution_count": null,
   "id": "e70e369a",
   "metadata": {
    "scrolled": true
   },
   "outputs": [],
   "source": [
    "# Run TCDF for predictive accuracy\n",
    "\n",
    "%run -i \"evaluate_predictions_TCDF.py\" --data data/standard_1_10_noisy_EBT_60_70_dataset.csv --learning_rate 0.1 --hidden_layers 3 --epochs 2000 --log_interval 250 --dilation_coefficient 3 --kernel_size 3 --seed 66848 --plot --train_test_split 0.7"
   ]
  },
  {
   "cell_type": "code",
   "execution_count": null,
   "id": "13b91feb",
   "metadata": {},
   "outputs": [],
   "source": [
    "%matplotlib inline\n",
    "# Set figure size \n",
    "plt.rcParams['figure.figsize'] = [25, 10]\n",
    "\n",
    "# Plot training losses\n",
    "plot_performance(alllosses)"
   ]
  },
  {
   "cell_type": "code",
   "execution_count": null,
   "id": "a5135794",
   "metadata": {},
   "outputs": [],
   "source": [
    "%matplotlib inline\n",
    "# Set figure size \n",
    "plt.rcParams['figure.figsize'] = [25, 10]\n",
    "\n",
    "# Plot accuracy (MASE values)\n",
    "plot_performance(accuracy)"
   ]
  },
  {
   "cell_type": "markdown",
   "id": "3319a5a0",
   "metadata": {},
   "source": [
    "#### TCDF 60-70 years: second run  (decreased hidden layers by 1, increased dilation coefficient and kernel size by 1)"
   ]
  },
  {
   "cell_type": "code",
   "execution_count": null,
   "id": "146efde1",
   "metadata": {
    "scrolled": true
   },
   "outputs": [],
   "source": [
    "%matplotlib inline\n",
    "\n",
    "# Run TCDF with the selected equilibrium dataset of EBT data\n",
    "\n",
    "%run -i \"runTCDF.py\"  --ground_truth data/standard_1_10_noisy_EBT_60_70_dataset.csv=data/EBT_demo_groundtruth.csv --learning_rate 0.1 --hidden_layers 2 --epochs 2000 --log_interval 250 --significance 0.9 --dilation_coefficient 4 --kernel_size 4 --seed 2369"
   ]
  },
  {
   "cell_type": "code",
   "execution_count": null,
   "id": "496ae063",
   "metadata": {
    "scrolled": true
   },
   "outputs": [],
   "source": [
    "# Run TCDF for predictive accuracy\n",
    "\n",
    "%run -i \"evaluate_predictions_TCDF.py\" --data data/standard_1_10_noisy_EBT_60_70_dataset.csv --learning_rate 0.1 --hidden_layers 2 --epochs 2000 --log_interval 250 --dilation_coefficient 4 --kernel_size 4 --seed 2369 --plot --train_test_split 0.7"
   ]
  },
  {
   "cell_type": "code",
   "execution_count": null,
   "id": "5064fed9",
   "metadata": {
    "scrolled": false
   },
   "outputs": [],
   "source": [
    "%matplotlib inline\n",
    "# Set figure size \n",
    "plt.rcParams['figure.figsize'] = [25, 10]\n",
    "\n",
    "# Plot training losses\n",
    "plot_performance(alllosses)"
   ]
  },
  {
   "cell_type": "code",
   "execution_count": null,
   "id": "494b7e2b",
   "metadata": {},
   "outputs": [],
   "source": [
    "%matplotlib inline\n",
    "# Set figure size \n",
    "plt.rcParams['figure.figsize'] = [25, 10]\n",
    "\n",
    "# Plot accuracy (MASE values)\n",
    "plot_performance(accuracy)"
   ]
  },
  {
   "cell_type": "code",
   "execution_count": null,
   "id": "70ed7bf5",
   "metadata": {
    "scrolled": true
   },
   "outputs": [],
   "source": [
    "%matplotlib inline\n",
    "\n",
    "# Run TCDF with the selected equilibrium dataset of EBT data\n",
    "\n",
    "%run -i \"runTCDF.py\"  --ground_truth data/standard_1_10_noisy_EBT_60_70_dataset.csv=data/EBT_demo_groundtruth.csv --learning_rate 0.1 --hidden_layers 2 --epochs 2000 --log_interval 250 --significance 0.9 --dilation_coefficient 4 --kernel_size 4 --seed 21312"
   ]
  },
  {
   "cell_type": "code",
   "execution_count": null,
   "id": "fb79d783",
   "metadata": {
    "scrolled": true
   },
   "outputs": [],
   "source": [
    "# Run TCDF for predictive accuracy\n",
    "\n",
    "%run -i \"evaluate_predictions_TCDF.py\" --data data/standard_1_10_noisy_EBT_60_70_dataset.csv --learning_rate 0.1 --hidden_layers 2 --epochs 2000 --log_interval 250 --dilation_coefficient 4 --kernel_size 4 --seed 21312 --plot --train_test_split 0.7"
   ]
  },
  {
   "cell_type": "code",
   "execution_count": null,
   "id": "dac6a5de",
   "metadata": {},
   "outputs": [],
   "source": [
    "%matplotlib inline\n",
    "# Set figure size \n",
    "plt.rcParams['figure.figsize'] = [25, 10]\n",
    "\n",
    "# Plot training losses\n",
    "plot_performance(alllosses)"
   ]
  },
  {
   "cell_type": "code",
   "execution_count": null,
   "id": "60e38123",
   "metadata": {},
   "outputs": [],
   "source": [
    "%matplotlib inline\n",
    "# Set figure size \n",
    "plt.rcParams['figure.figsize'] = [25, 10]\n",
    "\n",
    "# Plot accuracy (MASE values)\n",
    "plot_performance(accuracy)"
   ]
  },
  {
   "cell_type": "code",
   "execution_count": null,
   "id": "8dcc6d3e",
   "metadata": {
    "scrolled": true
   },
   "outputs": [],
   "source": [
    "%matplotlib inline\n",
    "\n",
    "# Run TCDF with the selected equilibrium dataset of EBT data\n",
    "\n",
    "%run -i \"runTCDF.py\"  --ground_truth data/standard_1_10_noisy_EBT_60_70_dataset.csv=data/EBT_demo_groundtruth.csv --learning_rate 0.1 --hidden_layers 2 --epochs 2000 --log_interval 250 --significance 0.9 --dilation_coefficient 4 --kernel_size 4 --seed 8023"
   ]
  },
  {
   "cell_type": "code",
   "execution_count": null,
   "id": "8dde02cb",
   "metadata": {
    "scrolled": true
   },
   "outputs": [],
   "source": [
    "# Run TCDF for predictive accuracy\n",
    "\n",
    "%run -i \"evaluate_predictions_TCDF.py\" --data data/standard_1_10_noisy_EBT_60_70_dataset.csv --learning_rate 0.1 --hidden_layers 2 --epochs 2000 --log_interval 250 --dilation_coefficient 4 --kernel_size 4 --seed 8023 --plot --train_test_split 0.7"
   ]
  },
  {
   "cell_type": "code",
   "execution_count": null,
   "id": "a4bf1a67",
   "metadata": {
    "scrolled": true
   },
   "outputs": [],
   "source": [
    "%matplotlib inline\n",
    "# Set figure size \n",
    "plt.rcParams['figure.figsize'] = [25, 10]\n",
    "\n",
    "# Plot training losses\n",
    "plot_performance(alllosses)"
   ]
  },
  {
   "cell_type": "code",
   "execution_count": null,
   "id": "bf267e72",
   "metadata": {
    "scrolled": true
   },
   "outputs": [],
   "source": [
    "## Prologue\n",
    "\n",
    "# Set figure size \n",
    "plt.rcParams['figure.figsize'] = [25, 10]\n",
    "\n",
    "# Plot accuracy (MASE values)\n",
    "plot_performance(accuracy)"
   ]
  },
  {
   "cell_type": "code",
   "execution_count": null,
   "id": "f59cbc5b",
   "metadata": {},
   "outputs": [],
   "source": []
  }
 ],
 "metadata": {
  "kernelspec": {
   "display_name": "Python 3",
   "language": "python",
   "name": "python3"
  },
  "language_info": {
   "codemirror_mode": {
    "name": "ipython",
    "version": 3
   },
   "file_extension": ".py",
   "mimetype": "text/x-python",
   "name": "python",
   "nbconvert_exporter": "python",
   "pygments_lexer": "ipython3",
   "version": "3.8.8"
  }
 },
 "nbformat": 4,
 "nbformat_minor": 5
}
