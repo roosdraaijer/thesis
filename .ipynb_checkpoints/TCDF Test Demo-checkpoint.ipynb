{
 "cells": [
  {
   "cell_type": "code",
   "execution_count": 1,
   "metadata": {},
   "outputs": [],
   "source": [
    "import os\n",
    "\n",
    "# Create universally (i.e. across various operating systems) recognized paths\n",
    "\n",
    "notebook_path = os.path.abspath('TCDF Test Demo.ipynb')                  # Jupyter notebook path\n",
    "TCDF_path = os.path.join(os.path.dirname(notebook_path), 'TCDF')       # TCDF folder path\n",
    "TCDFdata_path = os.path.join(TCDF_path, 'data')                        # TCDF/data folder path\n",
    "file_path = os.path.join(TCDFdata_path, 'random-rels_20_1_3_returns30007000_header.csv')\n"
   ]
  },
  {
   "cell_type": "code",
   "execution_count": 3,
   "metadata": {},
   "outputs": [
    {
     "data": {
      "text/plain": [
       "'/Users/apple/Desktop/MSc Thesis 1/MSc Thesis/Coding/GitHub/thesis/TCDF/data/random-rels_20_1_3_returns30007000_header.csv'"
      ]
     },
     "execution_count": 3,
     "metadata": {},
     "output_type": "execute_result"
    }
   ],
   "source": [
    "file_path"
   ]
  },
  {
   "cell_type": "code",
   "execution_count": 8,
   "metadata": {},
   "outputs": [
    {
     "data": {
      "text/plain": [
       "'/Users/apple/Desktop/MSc Thesis 1/MSc Thesis/Coding/GitHub/thesis/TCDF'"
      ]
     },
     "execution_count": 8,
     "metadata": {},
     "output_type": "execute_result"
    }
   ],
   "source": [
    "# Define needed directory\n",
    "directory = TCDF_path\n",
    "\n",
    "# Check current working directory\n",
    "current_directory = os.getcwd()\n",
    "\n",
    "# Change working directory to perform TCDF\n",
    "if current_directory != directory:\n",
    "    os.chdir(TCDF_path)\n",
    "\n",
    "# Check new current working directory\n",
    "os.getcwd()"
   ]
  },
  {
   "cell_type": "code",
   "execution_count": 6,
   "metadata": {},
   "outputs": [
    {
     "name": "stdout",
     "output_type": "stream",
     "text": [
      "Collecting package metadata (current_repodata.json): done\n",
      "Solving environment: done\n",
      "\n",
      "# All requested packages already installed.\n",
      "\n",
      "Requirement already satisfied: torchvision in /opt/anaconda3/lib/python3.8/site-packages (0.9.1)\n",
      "Requirement already satisfied: numpy in /opt/anaconda3/lib/python3.8/site-packages (from torchvision) (1.19.2)\n",
      "Requirement already satisfied: pillow>=4.1.1 in /opt/anaconda3/lib/python3.8/site-packages (from torchvision) (8.0.1)\n",
      "Requirement already satisfied: torch==1.8.1 in /opt/anaconda3/lib/python3.8/site-packages (from torchvision) (1.8.1)\n",
      "Requirement already satisfied: typing_extensions in /opt/anaconda3/lib/python3.8/site-packages (from torch==1.8.1->torchvision) (3.7.4.3)\n"
     ]
    }
   ],
   "source": [
    "# Install conda- and pip packages in the current Jupyter kernel\n",
    "import sys\n",
    "!conda install --yes --prefix {sys.prefix} git\n",
    "!{sys.executable} -m pip install torchvision"
   ]
  },
  {
   "cell_type": "code",
   "execution_count": null,
   "metadata": {
    "scrolled": true
   },
   "outputs": [],
   "source": [
    "%matplotlib inline\n",
    "\n",
    "# Run TCDF with the selected demo dataset of EBT data\n",
    "\n",
    "%run -i \"runTCDF.py\"  --ground_truth data/random-rels_20_1_3_returns30007000_header.csv=data/random-rels_20_1_3.csv --learning_rate 0.01 --hidden_layers 1 --epochs 5000 --log_interval 1000 --significance 0.8 --dilation_coefficient 4 --kernel_size 4 --seed 5467 --plot"
   ]
  },
  {
   "cell_type": "code",
   "execution_count": null,
   "metadata": {},
   "outputs": [],
   "source": []
  }
 ],
 "metadata": {
  "kernelspec": {
   "display_name": "Python 3",
   "language": "python",
   "name": "python3"
  },
  "language_info": {
   "codemirror_mode": {
    "name": "ipython",
    "version": 3
   },
   "file_extension": ".py",
   "mimetype": "text/x-python",
   "name": "python",
   "nbconvert_exporter": "python",
   "pygments_lexer": "ipython3",
   "version": "3.8.5"
  }
 },
 "nbformat": 4,
 "nbformat_minor": 4
}
