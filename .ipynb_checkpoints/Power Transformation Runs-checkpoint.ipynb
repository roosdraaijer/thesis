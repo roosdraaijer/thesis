{
 "cells": [
  {
   "cell_type": "markdown",
   "id": "126ea097",
   "metadata": {},
   "source": [
    "## Prologue\n",
    "\n",
    "Run these cells prior to running any cell below, in order for the script and models to function in a proper way."
   ]
  },
  {
   "cell_type": "code",
   "execution_count": 1,
   "id": "9a84dce7",
   "metadata": {},
   "outputs": [],
   "source": [
    "# Install libraries\n",
    "\n",
    "import os\n",
    "import sys\n",
    "import pandas as pd\n",
    "import numpy as np\n",
    "import math\n",
    "import matplotlib.pyplot as plt\n",
    "import matplotlib.lines as lines\n",
    "\n",
    "from sklearn.preprocessing import MinMaxScaler, PowerTransformer, StandardScaler\n",
    "from IPython.display import display, HTML\n",
    "\n",
    "# Ignore warnings \n",
    "pd.options.mode.chained_assignment = None\n",
    "\n",
    "\n",
    "plt.rcParams['figure.figsize'] = [25, 10]"
   ]
  },
  {
   "cell_type": "code",
   "execution_count": null,
   "id": "631221f7",
   "metadata": {},
   "outputs": [],
   "source": [
    "# Create universally (i.e. across various operating systems) recognized paths\n",
    "\n",
    "notebook_path = os.path.abspath('Experiments Notebook.ipynb')          # Jupyter notebook path\n",
    "TCDF_path = os.path.join(os.path.dirname(notebook_path), 'TCDF')       # TCDF folder path\n",
    "TCDFdata_path = os.path.join(TCDF_path, 'data')                        # TCDF/data folder path\n",
    "EBT_path = os.path.join(os.path.dirname(notebook_path), 'EBT Data')    # EBT folder path\n",
    "DefaultCod_path = os.path.join(EBT_path, 'Modified Default Cod')       # EBT/Modified Default Cod folder path\n",
    "Cod_path = os.path.join(DefaultCod_path, 'Modified Default.out')       # EBT/Modified Default Cod/Modified Default.out file path"
   ]
  },
  {
   "cell_type": "code",
   "execution_count": null,
   "id": "a220af8d",
   "metadata": {
    "scrolled": true
   },
   "outputs": [],
   "source": [
    "# Install conda- and pip packages in the current Jupyter kernel\n",
    "\n",
    "!conda install -c anaconda tensorflow --y\n",
    "!pip3 install torch torchvision torchaudio\n",
    "!{sys.executable} -m pip install torchvision"
   ]
  },
  {
   "cell_type": "code",
   "execution_count": null,
   "id": "30d472f0",
   "metadata": {},
   "outputs": [],
   "source": [
    "# Load clean data from EBT tool into DataFrame\n",
    "file_path = os.path.join(TCDFdata_path, 'EBT_dataset.csv')\n",
    "ebt = pd.read_csv(file_path, delimiter = ',', header = 0)\n",
    "\n",
    "# Define labels\n",
    "labels = ['Time (year)',\n",
    "          'Rs', 'Rj', 'Ra',                               # Shared resources biomass\n",
    "          'Sj', 'Sa', 'Sb',                               # Sprat stages biomass\n",
    "          'Cj', 'Ca', 'Cb',                               # Cod stages biomass\n",
    "          'Fc']\n",
    "biomass_labels = ['Rs', 'Rj', 'Ra',                       # Shared resources biomass\n",
    "                  'Sj', 'Sa', 'Sb',                       # Sprat stages biomass\n",
    "                  'Cj', 'Ca', 'Cb',                       # Cod stages biomass\n",
    "                  'Fc']\n",
    "\n",
    "ebt = ebt[labels]"
   ]
  },
  {
   "cell_type": "code",
   "execution_count": null,
   "id": "ed708569",
   "metadata": {},
   "outputs": [],
   "source": [
    "# Define function for visualisation of scaled data \n",
    "\n",
    "def plot_data(data, years):                      # Add argument 'transformation', for (non)scaling methods\n",
    "    \"\"\"This function plots selected data within given timeframe [years] for the triptrophic community. \n",
    "    Provided data should be a DataFrame with at least columns [Cj, Ca, Cb, Sj, Sa, Sb, Rj, Rs, Ra].\n",
    "    The years argument is given as a list with two numbers between 0 and 100.\"\"\"\n",
    "    \n",
    "    # Select data to be visualized\n",
    "    cod = data[['Cj', 'Ca', 'Cb']]\n",
    "    sprat = data[['Sj', 'Sa', 'Sb']]\n",
    "    resource = data[['Rj', 'Rs', 'Ra']]\n",
    "    data['Time'] = np.linspace(years[0], years[1], len(data))\n",
    "    time = data['Time']\n",
    "\n",
    "    # Set subplot figure defaults\n",
    "    fig, [cod_plt, sprat_plt, resource_plt] = plt.subplots(3, 1, sharex = True)\n",
    "    fig.subplots_adjust(hspace = 0)\n",
    "    fig.suptitle('Cod-sprat-resource dynamics {start}-{stop} years (scaled)'.format(start=years[0],stop=years[1]))\n",
    "\n",
    "    # Set labels for shared x-axis and individual y-axes\n",
    "    cod_plt.set(ylabel = 'Cod biomass')\n",
    "    sprat_plt.set(ylabel = 'Sprat biomass')\n",
    "    resource_plt.set(ylabel = 'Resource biomass')\n",
    "    plt.xlabel('Time (years)')\n",
    "\n",
    "    # Visualize data\n",
    "    cod_plt.plot(time, cod)\n",
    "    sprat_plt.plot(time, sprat)\n",
    "    resource_plt.plot(time, resource)\n",
    "\n",
    "    # Add legends\n",
    "    cod_plt.legend(['Cj', 'Ca', 'Cb'], loc = 'center left')\n",
    "    sprat_plt.legend(['Sj', 'Sa', 'Sb'], loc = 'center left')\n",
    "    resource_plt.legend(['Rj', 'Rs', 'Ra'], loc = 'center left')\n",
    "\n",
    "    # Remove Time column\n",
    "    data.drop(['Time'], axis = 1, inplace = True)"
   ]
  },
  {
   "cell_type": "code",
   "execution_count": null,
   "id": "9f00c8f5",
   "metadata": {},
   "outputs": [],
   "source": [
    "# Define function that preprocesses (i.e. scale min-max) and select data from desired timeframe \n",
    "\n",
    "def select_data(data, start, stop, preprocessor='min-max'):        \n",
    "    \"\"\"This function preprocesses selected data.\n",
    "    Three processing methods can be used (min-max, standard, power) - min-max default.\n",
    "    Selection of data timeframe is specified with the [start] and [stop] arguments.\"\"\"\n",
    "\n",
    "    # Select information of datapoints\n",
    "    selected_data = data[(data['Time (year)'] >= start) & (data['Time (year)'] <= stop)]\n",
    "\n",
    "    # Normalize data\n",
    "    # Min-max normalization\n",
    "    if preprocessor == 'min-max':\n",
    "        scaler = MinMaxScaler()\n",
    "    # Power transformer normalization\n",
    "    elif preprocessor == 'power':\n",
    "        scaler = PowerTransformer()  \n",
    "    # Standard normalization\n",
    "    elif preprocessor == 'standard':\n",
    "        scaler = StandardScaler()\n",
    "    \n",
    "    scaled = scaler.fit_transform(selected_data[biomass_labels])\n",
    "    \n",
    "    # Write scaled data to DataFrame\n",
    "    processed_data = pd.DataFrame(scaled, columns = biomass_labels)\n",
    "\n",
    "    # Check the scaled DataFrame\n",
    "    display(processed_data.head(-10))\n",
    "    # Plot scaled data \n",
    "    plot_data(processed_data, [start,stop])\n",
    "    \n",
    "    return processed_data"
   ]
  },
  {
   "cell_type": "code",
   "execution_count": null,
   "id": "a74e9d21",
   "metadata": {},
   "outputs": [],
   "source": [
    "# Define function to plot the model's loss or accuracy (i.e. performance) after running \n",
    "\n",
    "def plot_performance(losses_or_accuracy):\n",
    "    \"\"\"This function plots the losses for each trained variable for the TCDF model.\n",
    "    Takes a dictionary with either losses or accuracy for each variable as input\"\"\"\n",
    "    \n",
    "    # Preallocate plots in subplots\n",
    "    fig, axs = plt.subplots(3, 3, sharex = True)\n",
    "    for ax in axs.flat:\n",
    "        ax.set(xlabel='Epochs', ylabel='Performance measure')\n",
    "\n",
    "    # Iterate over each key in dictionary\n",
    "    keys = list(losses_or_accuracy.keys())\n",
    "    \n",
    "    # Plot every variable in different subplot\n",
    "    axs[0, 0].plot(np.arange(len(losses_or_accuracy[keys[0]])), losses_or_accuracy[keys[0]])\n",
    "    axs[0, 0].set_title('Performance Rs')\n",
    "    axs[0, 1].plot(np.arange(len(losses_or_accuracy[keys[1]])), losses_or_accuracy[keys[1]])\n",
    "    axs[0, 1].set_title('Performance Rj')\n",
    "    axs[0, 2].plot(np.arange(len(losses_or_accuracy[keys[2]])), losses_or_accuracy[keys[2]])\n",
    "    axs[0, 2].set_title('Performance Ra')\n",
    "    axs[1, 0].plot(np.arange(len(losses_or_accuracy[keys[3]])), losses_or_accuracy[keys[3]])\n",
    "    axs[1, 0].set_title('Performance Sj')\n",
    "    axs[1, 1].plot(np.arange(len(losses_or_accuracy[keys[4]])), losses_or_accuracy[keys[4]])\n",
    "    axs[1, 1].set_title('Performance Sa')\n",
    "    axs[1, 2].plot(np.arange(len(losses_or_accuracy[keys[5]])), losses_or_accuracy[keys[5]])\n",
    "    axs[1, 2].set_title('Performance Sb')\n",
    "    axs[2, 0].plot(np.arange(len(losses_or_accuracy[keys[6]])), losses_or_accuracy[keys[6]])\n",
    "    axs[2, 0].set_title('Performance Cj')\n",
    "    axs[2, 1].plot(np.arange(len(losses_or_accuracy[keys[7]])), losses_or_accuracy[keys[7]])\n",
    "    axs[2, 1].set_title('Performance Ca')\n",
    "    axs[2, 2].plot(np.arange(len(losses_or_accuracy[keys[8]])), losses_or_accuracy[keys[8]])\n",
    "    axs[2, 2].set_title('Performance Cb')\n"
   ]
  },
  {
   "cell_type": "code",
   "execution_count": null,
   "id": "a21662d0",
   "metadata": {},
   "outputs": [],
   "source": [
    "# Define function for adding white noise\n",
    "def noise(signal, snr):\n",
    "    \"\"\"This function adds white Gaussian noise to a signal.\n",
    "    Noise is added to existing signal and created by a desired signal-to-noise ratio (SNR).\n",
    "    Function returns the original signal with added noise by the given SNR.\"\"\"\n",
    "\n",
    "    # Set mean noise to 0, indicative for white noise\n",
    "    mean_noise = 0\n",
    "    sample = len(signal)\n",
    "    \n",
    "    # Calculate averages to determine signal power\n",
    "    average_mean = np.mean(signal)\n",
    "    average_snr = (10 * np.log10(average_mean)) - snr    \n",
    "    average_noise = 10 ** (average_snr / 10)\n",
    "\n",
    "    # Generate noisy signal\n",
    "    noise_variation = np.random.normal(mean_noise, np.sqrt(average_noise), sample)\n",
    "    \n",
    "    # Add noise to the original signal\n",
    "    noise_signal = signal + noise_variation\n",
    "    \n",
    "    return noise_signal"
   ]
  },
  {
   "cell_type": "code",
   "execution_count": null,
   "id": "8ad14c90",
   "metadata": {
    "scrolled": false
   },
   "outputs": [],
   "source": [
    "# Define function for creating noisy dataset\n",
    "def noisy_data(snr):\n",
    "\n",
    "    # Create dataframe for noisy data\n",
    "    noisy_ebt = pd.DataFrame(ebt)\n",
    "\n",
    "    # Add noise for relevant columns\n",
    "    for col in ebt[biomass_labels]:\n",
    "        noisy_ebt[col] = noise(ebt[col], snr)\n",
    "\n",
    "    # Visualise unscaled and scaled data \n",
    "    plot_data(noisy_ebt, [0,100])\n",
    "    \n",
    "    # Write the final dataset to DataFrame named noisy_ebt\n",
    "    noisy_ebt['Time (year)'] = ebt['Time (year)']\n",
    "    \n",
    "    return noisy_ebt"
   ]
  },
  {
   "cell_type": "code",
   "execution_count": null,
   "id": "7d9c8fa5",
   "metadata": {},
   "outputs": [],
   "source": [
    "# Define needed directory\n",
    "directory = TCDF_path\n",
    "\n",
    "# Check current working directory\n",
    "current_directory = os.getcwd()\n",
    "\n",
    "# Change working directory to perform TCDF\n",
    "if current_directory != directory:\n",
    "    os.chdir(TCDF_path)\n",
    "\n",
    "# Check new current working directory\n",
    "os.getcwd()"
   ]
  },
  {
   "cell_type": "markdown",
   "id": "20ae1847",
   "metadata": {},
   "source": [
    "This part shows the functionality of TCDF.\n",
    "\n",
    "See the corresponding paper for more detail: [\"Causal Discovery with Attention-Based Convolutional Neural Networks\"](https://www.mdpi.com/2504-4990/1/1/19)."
   ]
  },
  {
   "cell_type": "markdown",
   "id": "29f5d37d",
   "metadata": {},
   "source": [
    "# TCDF\n",
    "\n",
    "These next code cells perform the analysis of the (demo) dataset with the TCDF. In the utils.py file you are able to adjust parameters for adaptive learning rate and early stopping. These parameters include type of optimizer (specified in runTCDF.py arguments), number of epochs before adapting learning rate, minimum learning rate, and size of decreasing learning rate factor. For early stopping two parameters are given, the number of epochs before stopping when loss is not improving and the minimum difference in loss improvement."
   ]
  },
  {
   "cell_type": "code",
   "execution_count": null,
   "id": "afc5b0c5",
   "metadata": {
    "scrolled": false
   },
   "outputs": [],
   "source": [
    "# Show all argument options\n",
    "\n",
    "%run -i \"runTCDF.py\" --help"
   ]
  },
  {
   "cell_type": "markdown",
   "id": "f09ab97b",
   "metadata": {},
   "source": [
    "# Start of Experiments\n",
    "\n",
    "## Power Transformation Scaling\n",
    "\n",
    "### Signal to Noise ratio 1:0"
   ]
  },
  {
   "cell_type": "markdown",
   "id": "a803e85f",
   "metadata": {},
   "source": [
    "### TCDF with EBT total dynamics\n",
    "\n",
    "This data represents the tritrophic biomasses including the total dynamics (shift change). The system first is at its equilibrium and remains stable for ~20 years, fishing pressure is introduced and a new equilibrium is to be found (at 70 years it is stable again). Data is split into two 'total dynamics', 0 - 100 years and 20 - 70 years respectively.\n",
    "\n",
    "#### 20 - 70 years"
   ]
  },
  {
   "cell_type": "code",
   "execution_count": null,
   "id": "a3531255",
   "metadata": {},
   "outputs": [],
   "source": [
    "# Select data between 20 and 70 years\n",
    "ebt_20_70 = select_data(ebt, 20, 70, 'power')\n",
    "\n",
    "# Create file path for new file\n",
    "EBTScaled_path = os.path.join(TCDFdata_path, 'power_EBT_20_70_dataset.csv')\n",
    "\n",
    "# Write clean dataframe demo_ebt to a new .csv file\n",
    "ebt_20_70.to_csv(EBTScaled_path, index = False)"
   ]
  },
  {
   "cell_type": "markdown",
   "id": "14e4b7c4",
   "metadata": {},
   "source": [
    "#### TCDF 20-70 years: first run (in triplicate)"
   ]
  },
  {
   "cell_type": "code",
   "execution_count": null,
   "id": "4b3d37c7",
   "metadata": {},
   "outputs": [],
   "source": [
    "%matplotlib inline\n",
    "\n",
    "# Run TCDF with the selected total dataset of EBT data\n",
    "\n",
    "%run -i \"runTCDF.py\"  --ground_truth data/power_EBT_20_70_dataset.csv=data/EBT_demo_groundtruth.csv --learning_rate 0.1 --hidden_layers 3 --epochs 1000 --log_interval 250 --significance 0.9 --dilation_coefficient 3 --kernel_size 3 --seed 5467 --plot\n"
   ]
  },
  {
   "cell_type": "code",
   "execution_count": null,
   "id": "ab66b3ae",
   "metadata": {},
   "outputs": [],
   "source": [
    "# Run TCDF for predictive accuracy\n",
    "\n",
    "%run -i \"evaluate_predictions_TCDF.py\" --data data/power_EBT_20_70_dataset.csv --learning_rate 0.1 --hidden_layers 3 --epochs 1000 --log_interval 250 --dilation_coefficient 3 --kernel_size 3 --seed 5467 --plot --train_test_split 0.5"
   ]
  },
  {
   "cell_type": "code",
   "execution_count": null,
   "id": "71585512",
   "metadata": {},
   "outputs": [],
   "source": [
    "%matplotlib inline\n",
    "\n",
    "# Run TCDF with the selected total dataset of EBT data\n",
    "\n",
    "%run -i \"runTCDF.py\"  --ground_truth data/power_EBT_20_70_dataset.csv=data/EBT_demo_groundtruth.csv --learning_rate 0.1 --hidden_layers 3 --epochs 1000 --log_interval 250 --significance 0.9 --dilation_coefficient 3 --kernel_size 3 --seed 2371 --plot\n"
   ]
  },
  {
   "cell_type": "code",
   "execution_count": null,
   "id": "588aa675",
   "metadata": {},
   "outputs": [],
   "source": [
    "# Run TCDF for predictive accuracy\n",
    "\n",
    "%run -i \"evaluate_predictions_TCDF.py\" --data data/power_EBT_20_70_dataset.csv --learning_rate 0.1 --hidden_layers 3 --epochs 1000 --log_interval 250 --dilation_coefficient 3 --kernel_size 3 --seed 2371 --plot --train_test_split 0.5"
   ]
  },
  {
   "cell_type": "code",
   "execution_count": null,
   "id": "604b6269",
   "metadata": {},
   "outputs": [],
   "source": [
    "%matplotlib inline\n",
    "\n",
    "# Run TCDF with the selected total dataset of EBT data\n",
    "\n",
    "%run -i \"runTCDF.py\"  --ground_truth data/power_EBT_20_70_dataset.csv=data/EBT_demo_groundtruth.csv --learning_rate 0.1 --hidden_layers 3 --epochs 1000 --log_interval 250 --significance 0.9 --dilation_coefficient 3 --kernel_size 3 --seed 1084 --plot\n"
   ]
  },
  {
   "cell_type": "code",
   "execution_count": null,
   "id": "42c1df1d",
   "metadata": {},
   "outputs": [],
   "source": [
    "# Run TCDF for predictive accuracy\n",
    "\n",
    "%run -i \"evaluate_predictions_TCDF.py\" --data data/power_EBT_20_70_dataset.csv --learning_rate 0.1 --hidden_layers 3 --epochs 1000 --log_interval 250 --dilation_coefficient 3 --kernel_size 3 --seed 1048 --plot --train_test_split 0.5"
   ]
  },
  {
   "cell_type": "code",
   "execution_count": null,
   "id": "a2b859fb",
   "metadata": {},
   "outputs": [],
   "source": [
    "%matplotlib inline\n",
    " \n",
    "\n",
    "\n",
    "# Plot training losses\n",
    "plot_performance(alllosses)"
   ]
  },
  {
   "cell_type": "code",
   "execution_count": null,
   "id": "604beb44",
   "metadata": {},
   "outputs": [],
   "source": [
    "%matplotlib inline\n",
    " \n",
    "\n",
    "\n",
    "# Plot accuracy (MASE values)\n",
    "plot_performance(accuracy)"
   ]
  },
  {
   "cell_type": "markdown",
   "id": "e7c3f5e1",
   "metadata": {},
   "source": [
    "#### TCDF 20-70 years: second run (decreased hidden layers by 1, incremented dilation coefficient and kernel size by 1)"
   ]
  },
  {
   "cell_type": "code",
   "execution_count": null,
   "id": "0aefcdf5",
   "metadata": {},
   "outputs": [],
   "source": [
    "%matplotlib inline\n",
    "\n",
    "# Run TCDF with the selected total dataset of EBT data\n",
    "\n",
    "%run -i \"runTCDF.py\"  --ground_truth data/power_EBT_20_70_dataset.csv=data/EBT_demo_groundtruth.csv --learning_rate 0.1 --hidden_layers 2 --epochs 2000 --log_interval 250 --significance 0.9 --dilation_coefficient 4 --kernel_size 4 --seed 5467 --plot\n"
   ]
  },
  {
   "cell_type": "code",
   "execution_count": null,
   "id": "926d6333",
   "metadata": {},
   "outputs": [],
   "source": [
    "# Run TCDF for predictive accuracy\n",
    "\n",
    "%run -i \"evaluate_predictions_TCDF.py\" --data data/power_EBT_20_70_dataset.csv --learning_rate 0.1 --hidden_layers 2 --epochs 2000 --log_interval 250 --dilation_coefficient 4 --kernel_size 4 --seed 5467 --plot --train_test_split 0.5"
   ]
  },
  {
   "cell_type": "code",
   "execution_count": null,
   "id": "946f683f",
   "metadata": {},
   "outputs": [],
   "source": [
    "%matplotlib inline\n",
    "\n",
    "# Run TCDF with the selected total dataset of EBT data\n",
    "\n",
    "%run -i \"runTCDF.py\"  --ground_truth data/power_EBT_20_70_dataset.csv=data/EBT_demo_groundtruth.csv --learning_rate 0.1 --hidden_layers 2 --epochs 2000 --log_interval 250 --significance 0.9 --dilation_coefficient 4 --kernel_size 4 --seed 9238 --plot\n"
   ]
  },
  {
   "cell_type": "code",
   "execution_count": null,
   "id": "521bb75f",
   "metadata": {},
   "outputs": [],
   "source": [
    "# Run TCDF for predictive accuracy\n",
    "\n",
    "%run -i \"evaluate_predictions_TCDF.py\" --data data/power_EBT_20_70_dataset.csv --learning_rate 0.1 --hidden_layers 2 --epochs 2000 --log_interval 250 --dilation_coefficient 4 --kernel_size 4 --seed 9238 --plot --train_test_split 0.5"
   ]
  },
  {
   "cell_type": "code",
   "execution_count": null,
   "id": "6b711851",
   "metadata": {},
   "outputs": [],
   "source": [
    "%matplotlib inline\n",
    "\n",
    "# Run TCDF with the selected total dataset of EBT data\n",
    "\n",
    "%run -i \"runTCDF.py\"  --ground_truth data/power_EBT_20_70_dataset.csv=data/EBT_demo_groundtruth.csv --learning_rate 0.1 --hidden_layers 2 --epochs 2000 --log_interval 250 --significance 0.9 --dilation_coefficient 4 --kernel_size 4 --seed 157 --plot\n"
   ]
  },
  {
   "cell_type": "code",
   "execution_count": null,
   "id": "e15c5b58",
   "metadata": {},
   "outputs": [],
   "source": [
    "# Run TCDF for predictive accuracy\n",
    "\n",
    "%run -i \"evaluate_predictions_TCDF.py\" --data data/power_EBT_20_70_dataset.csv --learning_rate 0.1 --hidden_layers 2 --epochs 2000 --log_interval 250 --dilation_coefficient 4 --kernel_size 4 --seed 157 --plot --train_test_split 0.5"
   ]
  },
  {
   "cell_type": "code",
   "execution_count": null,
   "id": "6d585254",
   "metadata": {},
   "outputs": [],
   "source": [
    "%matplotlib inline\n",
    " \n",
    "\n",
    "\n",
    "# Plot training losses\n",
    "plot_performance(alllosses)"
   ]
  },
  {
   "cell_type": "code",
   "execution_count": null,
   "id": "e30cfd3b",
   "metadata": {},
   "outputs": [],
   "source": [
    "%matplotlib inline\n",
    " \n",
    "\n",
    "\n",
    "# Plot accuracy (MASE values)\n",
    "plot_performance(accuracy)"
   ]
  },
  {
   "cell_type": "markdown",
   "id": "d39e9415",
   "metadata": {},
   "source": [
    "#### 0 - 100 years"
   ]
  },
  {
   "cell_type": "code",
   "execution_count": null,
   "id": "01d0f41e",
   "metadata": {},
   "outputs": [],
   "source": [
    "# Select data between 0 and 100 years\n",
    "ebt_0_100 = select_data(ebt, 0, 100, 'power')\n",
    "\n",
    "# Create file path for new file\n",
    "EBTScaled_path = os.path.join(TCDFdata_path, 'power_EBT_0_100_dataset.csv')\n",
    "\n",
    "# Write clean dataframe demo_ebt to a new .csv file\n",
    "ebt_0_100.to_csv(EBTScaled_path, index = False)"
   ]
  },
  {
   "cell_type": "markdown",
   "id": "823ed28d",
   "metadata": {},
   "source": [
    "#### TCDF 0-100 years: first run (in triplicate)"
   ]
  },
  {
   "cell_type": "code",
   "execution_count": null,
   "id": "a5a290af",
   "metadata": {},
   "outputs": [],
   "source": [
    "%matplotlib inline\n",
    "\n",
    "# Run TCDF with the selected total dataset of EBT data\n",
    "\n",
    "%run -i \"runTCDF.py\"  --ground_truth data/power_EBT_0_100_dataset.csv=data/EBT_demo_groundtruth.csv --learning_rate 0.1 --hidden_layers 2 --epochs 2000 --log_interval 250 --significance 0.9 --dilation_coefficient 4 --kernel_size 4 --seed 37519 --plot"
   ]
  },
  {
   "cell_type": "code",
   "execution_count": null,
   "id": "b1f49f02",
   "metadata": {},
   "outputs": [],
   "source": [
    "# Run TCDF for predictive accuracy\n",
    "\n",
    "%run -i \"evaluate_predictions_TCDF.py\" --data data/power_EBT_0_100_dataset.csv --learning_rate 0.1 --hidden_layers 2 --epochs 2000 --log_interval 250 --dilation_coefficient 4 --kernel_size 4 --seed 37519 --plot --train_test_split 0.4"
   ]
  },
  {
   "cell_type": "code",
   "execution_count": null,
   "id": "51a08c4a",
   "metadata": {},
   "outputs": [],
   "source": [
    "%matplotlib inline\n",
    " \n",
    "\n",
    "\n",
    "# Plot training losses\n",
    "plot_performance(alllosses)"
   ]
  },
  {
   "cell_type": "code",
   "execution_count": null,
   "id": "5ecb19ce",
   "metadata": {},
   "outputs": [],
   "source": [
    "%matplotlib inline\n",
    " \n",
    "\n",
    "\n",
    "# Plot training losses\n",
    "plot_performance(accuracy)"
   ]
  },
  {
   "cell_type": "code",
   "execution_count": null,
   "id": "2cde3edf",
   "metadata": {},
   "outputs": [],
   "source": [
    "%matplotlib inline\n",
    "\n",
    "# Run TCDF with the selected total dataset of EBT data\n",
    "\n",
    "%run -i \"runTCDF.py\"  --ground_truth data/power_EBT_0_100_dataset.csv=data/EBT_demo_groundtruth.csv --learning_rate 0.1 --hidden_layers 2 --epochs 2000 --log_interval 250 --significance 0.9 --dilation_coefficient 4 --kernel_size 4 --seed 15787 --plot"
   ]
  },
  {
   "cell_type": "code",
   "execution_count": null,
   "id": "db10a7eb",
   "metadata": {},
   "outputs": [],
   "source": [
    "# Run TCDF for predictive accuracy\n",
    "\n",
    "%run -i \"evaluate_predictions_TCDF.py\" --data data/power_EBT_0_100_dataset.csv --learning_rate 0.1 --hidden_layers 2 --epochs 2000 --log_interval 250 --dilation_coefficient 4 --kernel_size 4 --seed 15787 --plot --train_test_split 0.4"
   ]
  },
  {
   "cell_type": "code",
   "execution_count": null,
   "id": "1951f35a",
   "metadata": {},
   "outputs": [],
   "source": [
    "%matplotlib inline\n",
    " \n",
    "\n",
    "\n",
    "# Plot training losses\n",
    "plot_performance(alllosses)"
   ]
  },
  {
   "cell_type": "code",
   "execution_count": null,
   "id": "85793a17",
   "metadata": {},
   "outputs": [],
   "source": [
    "%matplotlib inline\n",
    " \n",
    "\n",
    "\n",
    "# Plot training losses\n",
    "plot_performance(accuracy)"
   ]
  },
  {
   "cell_type": "code",
   "execution_count": null,
   "id": "8514f27e",
   "metadata": {},
   "outputs": [],
   "source": [
    "%matplotlib inline\n",
    "\n",
    "# Run TCDF with the selected total dataset of EBT data\n",
    "\n",
    "%run -i \"runTCDF.py\"  --ground_truth data/power_EBT_0_100_dataset.csv=data/EBT_demo_groundtruth.csv --learning_rate 0.1 --hidden_layers 2 --epochs 2000 --log_interval 250 --significance 0.9 --dilation_coefficient 4 --kernel_size 4 --seed 74326 --plot"
   ]
  },
  {
   "cell_type": "code",
   "execution_count": null,
   "id": "662a5077",
   "metadata": {},
   "outputs": [],
   "source": [
    "# Run TCDF for predictive accuracy\n",
    "\n",
    "%run -i \"evaluate_predictions_TCDF.py\" --data data/power_EBT_0_100_dataset.csv --learning_rate 0.1 --hidden_layers 2 --epochs 2000 --log_interval 250 --dilation_coefficient 4 --kernel_size 4 --seed 74326 --plot --train_test_split 0.4"
   ]
  },
  {
   "cell_type": "code",
   "execution_count": null,
   "id": "8dcc578a",
   "metadata": {},
   "outputs": [],
   "source": [
    "%matplotlib inline\n",
    " \n",
    "\n",
    "\n",
    "# Plot training losses\n",
    "plot_performance(alllosses)"
   ]
  },
  {
   "cell_type": "code",
   "execution_count": null,
   "id": "8827fe17",
   "metadata": {},
   "outputs": [],
   "source": [
    "%matplotlib inline\n",
    " \n",
    "\n",
    "\n",
    "# Plot training losses\n",
    "plot_performance(accuracy)"
   ]
  },
  {
   "cell_type": "markdown",
   "id": "30bebf62",
   "metadata": {},
   "source": [
    "#### TCDF 0-100 years: second run (increased hidden layers by 1, decreased dilation coefficient and kernel size by 1)"
   ]
  },
  {
   "cell_type": "code",
   "execution_count": null,
   "id": "2681a1f4",
   "metadata": {},
   "outputs": [],
   "source": [
    "%matplotlib inline\n",
    "\n",
    "# Run TCDF with the selected total dataset of EBT data\n",
    "\n",
    "%run -i \"runTCDF.py\"  --ground_truth data/power_EBT_0_100_dataset.csv=data/EBT_demo_groundtruth.csv --learning_rate 0.1 --hidden_layers 3 --epochs 2000 --log_interval 250 --significance 0.9 --dilation_coefficient 3 --kernel_size 3 --seed 1111 --plot"
   ]
  },
  {
   "cell_type": "code",
   "execution_count": null,
   "id": "9e86d74b",
   "metadata": {},
   "outputs": [],
   "source": [
    "# Run TCDF for predictive accuracy\n",
    "\n",
    "%run -i \"evaluate_predictions_TCDF.py\" --data data/power_EBT_0_100_dataset.csv --learning_rate 0.1 --hidden_layers 3 --epochs 2000 --log_interval 250 --dilation_coefficient 3 --kernel_size 3 --seed 1111 --plot --train_test_split 0.4"
   ]
  },
  {
   "cell_type": "code",
   "execution_count": null,
   "id": "c77cbe3e",
   "metadata": {},
   "outputs": [],
   "source": [
    "%matplotlib inline\n",
    " \n",
    "\n",
    "\n",
    "# Plot training losses\n",
    "plot_performance(alllosses)"
   ]
  },
  {
   "cell_type": "code",
   "execution_count": null,
   "id": "251496d2",
   "metadata": {},
   "outputs": [],
   "source": [
    "%matplotlib inline\n",
    " \n",
    "\n",
    "\n",
    "# Plot training losses\n",
    "plot_performance(accuracy)"
   ]
  },
  {
   "cell_type": "code",
   "execution_count": null,
   "id": "a250867a",
   "metadata": {},
   "outputs": [],
   "source": [
    "%matplotlib inline\n",
    "\n",
    "# Run TCDF with the selected total dataset of EBT data\n",
    "\n",
    "%run -i \"runTCDF.py\"  --ground_truth data/power_EBT_0_100_dataset.csv=data/EBT_demo_groundtruth.csv --learning_rate 0.1 --hidden_layers 3 --epochs 2000 --log_interval 250 --significance 0.9 --dilation_coefficient 3 --kernel_size 3 --seed 18040 --plot"
   ]
  },
  {
   "cell_type": "code",
   "execution_count": null,
   "id": "1d92190b",
   "metadata": {},
   "outputs": [],
   "source": [
    "# Run TCDF for predictive accuracy\n",
    "\n",
    "%run -i \"evaluate_predictions_TCDF.py\" --data data/power_EBT_0_100_dataset.csv --learning_rate 0.1 --hidden_layers 3 --epochs 2000 --log_interval 250 --dilation_coefficient 3 --kernel_size 3 --seed 18040 --plot --train_test_split 0.4"
   ]
  },
  {
   "cell_type": "code",
   "execution_count": null,
   "id": "b791ab9e",
   "metadata": {},
   "outputs": [],
   "source": [
    "%matplotlib inline\n",
    " \n",
    "\n",
    "\n",
    "# Plot training losses\n",
    "plot_performance(alllosses)"
   ]
  },
  {
   "cell_type": "code",
   "execution_count": null,
   "id": "f66a629a",
   "metadata": {},
   "outputs": [],
   "source": [
    "%matplotlib inline\n",
    " \n",
    "\n",
    "\n",
    "# Plot training losses\n",
    "plot_performance(accuracy)"
   ]
  },
  {
   "cell_type": "code",
   "execution_count": null,
   "id": "f9c446dd",
   "metadata": {},
   "outputs": [],
   "source": [
    "%matplotlib inline\n",
    "\n",
    "# Run TCDF with the selected total dataset of EBT data\n",
    "\n",
    "%run -i \"runTCDF.py\"  --ground_truth data/power_EBT_0_100_dataset.csv=data/EBT_demo_groundtruth.csv --learning_rate 0.1 --hidden_layers 3 --epochs 2000 --log_interval 250 --significance 0.9 --dilation_coefficient 3 --kernel_size 3 --seed 86547 --plot"
   ]
  },
  {
   "cell_type": "code",
   "execution_count": null,
   "id": "ae23ff0a",
   "metadata": {},
   "outputs": [],
   "source": [
    "# Run TCDF for predictive accuracy\n",
    "\n",
    "%run -i \"evaluate_predictions_TCDF.py\" --data data/power_EBT_0_100_dataset.csv --learning_rate 0.1 --hidden_layers 3 --epochs 2000 --log_interval 250 --dilation_coefficient 3 --kernel_size 3 --seed 86547 --plot --train_test_split 0.4"
   ]
  },
  {
   "cell_type": "code",
   "execution_count": null,
   "id": "435798df",
   "metadata": {},
   "outputs": [],
   "source": [
    "%matplotlib inline\n",
    " \n",
    "\n",
    "\n",
    "# Plot training losses\n",
    "plot_performance(alllosses)"
   ]
  },
  {
   "cell_type": "code",
   "execution_count": null,
   "id": "65e6b406",
   "metadata": {},
   "outputs": [],
   "source": [
    "%matplotlib inline\n",
    " \n",
    "\n",
    "\n",
    "# Plot training losses\n",
    "plot_performance(accuracy)"
   ]
  },
  {
   "cell_type": "markdown",
   "id": "c29567a8",
   "metadata": {},
   "source": [
    "### TCDF with EBT equilibrium dynamics\n",
    "\n",
    "This data represents the tritrophic biomasses before the introduced fishing pressure on cod. The system first finds it equilibrium and remains stable for ~20 years. Therefore, no relations should be found by the machine learning model.\n",
    "\n",
    "#### 0 - 20 years"
   ]
  },
  {
   "cell_type": "code",
   "execution_count": null,
   "id": "4c5393ea",
   "metadata": {},
   "outputs": [],
   "source": [
    "# Select data between 0 and 20 years\n",
    "ebt_0_20 = select_data(ebt, 0, 20, 'power')\n",
    "\n",
    "# Create file path for new file\n",
    "EBTScaled_path = os.path.join(TCDFdata_path, 'power_EBT_0_20_dataset.csv')\n",
    "\n",
    "# Write clean dataframe demo_ebt to a new .csv file\n",
    "ebt_0_20.to_csv(EBTScaled_path, index = False)"
   ]
  },
  {
   "cell_type": "markdown",
   "id": "65c78de3",
   "metadata": {},
   "source": [
    "#### TCDF 0 - 20 years: first run (in triplicate)"
   ]
  },
  {
   "cell_type": "code",
   "execution_count": null,
   "id": "10b420e2",
   "metadata": {},
   "outputs": [],
   "source": [
    "%matplotlib inline\n",
    "\n",
    "# Run TCDF with the selected equilibrium dataset of EBT data\n",
    "\n",
    "%run -i \"runTCDF.py\"  --ground_truth data/power_EBT_0_20_dataset.csv=data/EBT_demo_groundtruth.csv --learning_rate 0.1 --hidden_layers 2 --epochs 2000 --log_interval 250 --significance 0.9 --dilation_coefficient 4 --kernel_size 4 --seed 37519 --plot"
   ]
  },
  {
   "cell_type": "code",
   "execution_count": null,
   "id": "5cd40edb",
   "metadata": {},
   "outputs": [],
   "source": [
    "# Run TCDF for predictive accuracy\n",
    "\n",
    "%run -i \"evaluate_predictions_TCDF.py\" --data data/power_EBT_0_20_dataset.csv --learning_rate 0.1 --hidden_layers 2 --epochs 2000 --log_interval 250 --dilation_coefficient 4 --kernel_size 4 --seed 37519 --plot --train_test_split 0.8"
   ]
  },
  {
   "cell_type": "code",
   "execution_count": null,
   "id": "fea451bd",
   "metadata": {},
   "outputs": [],
   "source": [
    "%matplotlib inline\n",
    " \n",
    "\n",
    "\n",
    "# Plot training losses\n",
    "plot_performance(alllosses)"
   ]
  },
  {
   "cell_type": "code",
   "execution_count": null,
   "id": "1e8b923a",
   "metadata": {},
   "outputs": [],
   "source": [
    "%matplotlib inline\n",
    " \n",
    "\n",
    "\n",
    "# Plot accuracy (MASE values)\n",
    "plot_performance(accuracy)"
   ]
  },
  {
   "cell_type": "code",
   "execution_count": null,
   "id": "c5946cee",
   "metadata": {},
   "outputs": [],
   "source": [
    "%matplotlib inline\n",
    "\n",
    "# Run TCDF with the selected equilibrium dataset of EBT data\n",
    "\n",
    "%run -i \"runTCDF.py\"  --ground_truth data/power_EBT_0_20_dataset.csv=data/EBT_demo_groundtruth.csv --learning_rate 0.1 --hidden_layers 2 --epochs 2000 --log_interval 250 --significance 0.9 --dilation_coefficient 4 --kernel_size 4 --seed 49741 --plot"
   ]
  },
  {
   "cell_type": "code",
   "execution_count": null,
   "id": "50d8bafc",
   "metadata": {},
   "outputs": [],
   "source": [
    "# Run TCDF for predictive accuracy\n",
    "\n",
    "%run -i \"evaluate_predictions_TCDF.py\" --data data/power_EBT_0_20_dataset.csv --learning_rate 0.1 --hidden_layers 2 --epochs 2000 --log_interval 250 --dilation_coefficient 4 --kernel_size 4 --seed 49741 --plot --train_test_split 0.8"
   ]
  },
  {
   "cell_type": "code",
   "execution_count": null,
   "id": "8e521ccf",
   "metadata": {},
   "outputs": [],
   "source": [
    "%matplotlib inline\n",
    " \n",
    "\n",
    "\n",
    "# Plot training losses\n",
    "plot_performance(alllosses)"
   ]
  },
  {
   "cell_type": "code",
   "execution_count": null,
   "id": "08d38ae8",
   "metadata": {},
   "outputs": [],
   "source": [
    "%matplotlib inline\n",
    " \n",
    "\n",
    "\n",
    "# Plot accuracy (MASE values)\n",
    "plot_performance(accuracy)"
   ]
  },
  {
   "cell_type": "code",
   "execution_count": null,
   "id": "af84a33a",
   "metadata": {},
   "outputs": [],
   "source": [
    "%matplotlib inline\n",
    "\n",
    "# Run TCDF with the selected equilibrium dataset of EBT data\n",
    "\n",
    "%run -i \"runTCDF.py\"  --ground_truth data/power_EBT_0_20_dataset.csv=data/EBT_demo_groundtruth.csv --learning_rate 0.1 --hidden_layers 2 --epochs 2000 --log_interval 250 --significance 0.9 --dilation_coefficient 4 --kernel_size 4 --seed 37786 --plot"
   ]
  },
  {
   "cell_type": "code",
   "execution_count": null,
   "id": "728989d1",
   "metadata": {},
   "outputs": [],
   "source": [
    "# Run TCDF for predictive accuracy\n",
    "\n",
    "%run -i \"evaluate_predictions_TCDF.py\" --data data/power_EBT_0_20_dataset.csv --learning_rate 0.1 --hidden_layers 2 --epochs 2000 --log_interval 250 --dilation_coefficient 4 --kernel_size 4 --seed 37786 --plot --train_test_split 0.8"
   ]
  },
  {
   "cell_type": "code",
   "execution_count": null,
   "id": "0da17ffc",
   "metadata": {},
   "outputs": [],
   "source": [
    "%matplotlib inline\n",
    " \n",
    "\n",
    "\n",
    "# Plot training losses\n",
    "plot_performance(alllosses)"
   ]
  },
  {
   "cell_type": "code",
   "execution_count": null,
   "id": "e25d6302",
   "metadata": {},
   "outputs": [],
   "source": [
    "%matplotlib inline\n",
    " \n",
    "\n",
    "\n",
    "# Plot accuracy (MASE values)\n",
    "plot_performance(accuracy)"
   ]
  },
  {
   "cell_type": "markdown",
   "id": "94b33d44",
   "metadata": {},
   "source": [
    "#### TCDF 0-20 years: second run (increased hidden layers by 1, decreased dilation coefficient and kernel size by 1)"
   ]
  },
  {
   "cell_type": "code",
   "execution_count": null,
   "id": "a7e2bd0b",
   "metadata": {},
   "outputs": [],
   "source": [
    "%matplotlib inline\n",
    "\n",
    "# Run TCDF with the selected equilibrium dataset of EBT data\n",
    "\n",
    "%run -i \"runTCDF.py\"  --ground_truth data/power_EBT_0_20_dataset.csv=data/EBT_demo_groundtruth.csv --learning_rate 0.1 --hidden_layers 3 --epochs 2000 --log_interval 250 --significance 0.9 --dilation_coefficient 3 --kernel_size 3 --seed 94139 --plot\n"
   ]
  },
  {
   "cell_type": "code",
   "execution_count": null,
   "id": "a18e2e3d",
   "metadata": {},
   "outputs": [],
   "source": [
    "# Run TCDF for predictive accuracy\n",
    "\n",
    "%run -i \"evaluate_predictions_TCDF.py\" --data data/power_EBT_0_20_dataset.csv --learning_rate 0.1 --hidden_layers 3 --epochs 2000 --log_interval 250 --dilation_coefficient 3 --kernel_size 3 --seed 94139 --plot --train_test_split 0.8"
   ]
  },
  {
   "cell_type": "code",
   "execution_count": null,
   "id": "5cb7be3f",
   "metadata": {},
   "outputs": [],
   "source": [
    "%matplotlib inline\n",
    " \n",
    "\n",
    "\n",
    "# Plot training losses\n",
    "plot_performance(alllosses)"
   ]
  },
  {
   "cell_type": "code",
   "execution_count": null,
   "id": "0314350f",
   "metadata": {},
   "outputs": [],
   "source": [
    "%matplotlib inline\n",
    " \n",
    "\n",
    "\n",
    "# Plot accuracy (MASE values)\n",
    "plot_performance(accuracy)"
   ]
  },
  {
   "cell_type": "code",
   "execution_count": null,
   "id": "318d8c75",
   "metadata": {},
   "outputs": [],
   "source": [
    "%matplotlib inline\n",
    "\n",
    "# Run TCDF with the selected equilibrium dataset of EBT data\n",
    "\n",
    "%run -i \"runTCDF.py\"  --ground_truth data/power_EBT_0_20_dataset.csv=data/EBT_demo_groundtruth.csv --learning_rate 0.1 --hidden_layers 3 --epochs 2000 --log_interval 250 --significance 0.9 --dilation_coefficient 3 --kernel_size 3 --seed 18147 --plot\n"
   ]
  },
  {
   "cell_type": "code",
   "execution_count": null,
   "id": "a937bd74",
   "metadata": {},
   "outputs": [],
   "source": [
    "# Run TCDF for predictive accuracy\n",
    "\n",
    "%run -i \"evaluate_predictions_TCDF.py\" --data data/power_EBT_0_20_dataset.csv --learning_rate 0.1 --hidden_layers 3 --epochs 2000 --log_interval 250 --dilation_coefficient 3 --kernel_size 3 --seed 18147 --plot --train_test_split 0.8"
   ]
  },
  {
   "cell_type": "code",
   "execution_count": null,
   "id": "62fabb38",
   "metadata": {},
   "outputs": [],
   "source": [
    "%matplotlib inline\n",
    " \n",
    "\n",
    "\n",
    "# Plot training losses\n",
    "plot_performance(alllosses)"
   ]
  },
  {
   "cell_type": "code",
   "execution_count": null,
   "id": "bc144b9d",
   "metadata": {},
   "outputs": [],
   "source": [
    "%matplotlib inline\n",
    " \n",
    "\n",
    "\n",
    "# Plot accuracy (MASE values)\n",
    "plot_performance(accuracy)"
   ]
  },
  {
   "cell_type": "code",
   "execution_count": null,
   "id": "e8743e9a",
   "metadata": {},
   "outputs": [],
   "source": [
    "%matplotlib inline\n",
    "\n",
    "# Run TCDF with the selected equilibrium dataset of EBT data\n",
    "\n",
    "%run -i \"runTCDF.py\"  --ground_truth data/power_EBT_0_20_dataset.csv=data/EBT_demo_groundtruth.csv --learning_rate 0.1 --hidden_layers 3 --epochs 2000 --log_interval 250 --significance 0.9 --dilation_coefficient 3 --kernel_size 3 --seed 69089 --plot\n"
   ]
  },
  {
   "cell_type": "code",
   "execution_count": null,
   "id": "4506b9df",
   "metadata": {},
   "outputs": [],
   "source": [
    "# Run TCDF for predictive accuracy\n",
    "\n",
    "%run -i \"evaluate_predictions_TCDF.py\" --data data/power_EBT_0_20_dataset.csv --learning_rate 0.1 --hidden_layers 3 --epochs 2000 --log_interval 250 --dilation_coefficient 3 --kernel_size 3 --seed 69089 --plot --train_test_split 0.8"
   ]
  },
  {
   "cell_type": "code",
   "execution_count": null,
   "id": "ee32973e",
   "metadata": {},
   "outputs": [],
   "source": [
    "%matplotlib inline\n",
    " \n",
    "\n",
    "\n",
    "# Plot training losses\n",
    "plot_performance(alllosses)"
   ]
  },
  {
   "cell_type": "code",
   "execution_count": null,
   "id": "86b758a3",
   "metadata": {},
   "outputs": [],
   "source": [
    "%matplotlib inline\n",
    " \n",
    "\n",
    "\n",
    "# Plot accuracy (MASE values)\n",
    "plot_performance(accuracy)"
   ]
  },
  {
   "cell_type": "markdown",
   "id": "77201499",
   "metadata": {},
   "source": [
    "#### 70 - 100 years"
   ]
  },
  {
   "cell_type": "code",
   "execution_count": null,
   "id": "40702cb4",
   "metadata": {},
   "outputs": [],
   "source": [
    "# Select data between 70 and 100 years\n",
    "ebt_70_100 = select_data(ebt, 70, 100, 'power')\n",
    "\n",
    "# Create file path for new file\n",
    "EBTScaled_path = os.path.join(TCDFdata_path, 'power_EBT_70_100_dataset.csv')\n",
    "\n",
    "# Write clean dataframe demo_ebt to a new .csv file\n",
    "ebt_70_100.to_csv(EBTScaled_path, index = False)"
   ]
  },
  {
   "cell_type": "markdown",
   "id": "a63a72fc",
   "metadata": {},
   "source": [
    "#### TCDF 70-100: first run (in triplicate)"
   ]
  },
  {
   "cell_type": "code",
   "execution_count": null,
   "id": "b57693bb",
   "metadata": {},
   "outputs": [],
   "source": [
    "%matplotlib inline\n",
    "\n",
    "# Run TCDF with the selected equilibrium dataset of EBT data\n",
    "\n",
    "%run -i \"runTCDF.py\"  --ground_truth data/power_EBT_70_100_dataset.csv=data/EBT_demo_groundtruth.csv --learning_rate 0.1 --hidden_layers 2 --epochs 2000 --log_interval 250 --significance 0.9 --dilation_coefficient 4 --kernel_size 4 --seed 34321 --plot"
   ]
  },
  {
   "cell_type": "code",
   "execution_count": null,
   "id": "9f3832f6",
   "metadata": {},
   "outputs": [],
   "source": [
    "# Run TCDF for predictive accuracy\n",
    "\n",
    "%run -i \"evaluate_predictions_TCDF.py\" --data data/power_EBT_70_100_dataset.csv --learning_rate 0.1 --hidden_layers 2 --epochs 2000 --log_interval 250 --dilation_coefficient 4 --kernel_size 4 --seed 34321 --plot --train_test_split 0.8"
   ]
  },
  {
   "cell_type": "code",
   "execution_count": null,
   "id": "50fca69b",
   "metadata": {},
   "outputs": [],
   "source": [
    "%matplotlib inline\n",
    " \n",
    "\n",
    "\n",
    "# Plot training losses\n",
    "plot_performance(alllosses)"
   ]
  },
  {
   "cell_type": "code",
   "execution_count": null,
   "id": "13874a1c",
   "metadata": {},
   "outputs": [],
   "source": [
    "%matplotlib inline\n",
    " \n",
    "\n",
    "\n",
    "# Plot accuracy (MASE values)\n",
    "plot_performance(accuracy)"
   ]
  },
  {
   "cell_type": "code",
   "execution_count": null,
   "id": "03887331",
   "metadata": {},
   "outputs": [],
   "source": [
    "%matplotlib inline\n",
    "\n",
    "# Run TCDF with the selected equilibrium dataset of EBT data\n",
    "\n",
    "%run -i \"runTCDF.py\"  --ground_truth data/power_EBT_70_100_dataset.csv=data/EBT_demo_groundtruth.csv --learning_rate 0.1 --hidden_layers 2 --epochs 2000 --log_interval 250 --significance 0.9 --dilation_coefficient 4 --kernel_size 4 --seed 85672 --plot"
   ]
  },
  {
   "cell_type": "code",
   "execution_count": null,
   "id": "2c675bcd",
   "metadata": {},
   "outputs": [],
   "source": [
    "# Run TCDF for predictive accuracy\n",
    "\n",
    "%run -i \"evaluate_predictions_TCDF.py\" --data data/power_EBT_70_100_dataset.csv --learning_rate 0.1 --hidden_layers 2 --epochs 2000 --log_interval 250 --dilation_coefficient 4 --kernel_size 4 --seed 85672 --plot --train_test_split 0.8"
   ]
  },
  {
   "cell_type": "code",
   "execution_count": null,
   "id": "54921bf7",
   "metadata": {},
   "outputs": [],
   "source": [
    "%matplotlib inline\n",
    " \n",
    "\n",
    "\n",
    "# Plot training losses\n",
    "plot_performance(alllosses)"
   ]
  },
  {
   "cell_type": "code",
   "execution_count": null,
   "id": "8aa35afa",
   "metadata": {},
   "outputs": [],
   "source": [
    "%matplotlib inline\n",
    " \n",
    "\n",
    "\n",
    "# Plot accuracy (MASE values)\n",
    "plot_performance(accuracy)"
   ]
  },
  {
   "cell_type": "code",
   "execution_count": null,
   "id": "5fb3a569",
   "metadata": {},
   "outputs": [],
   "source": [
    "%matplotlib inline\n",
    "\n",
    "# Run TCDF with the selected equilibrium dataset of EBT data\n",
    "\n",
    "%run -i \"runTCDF.py\"  --ground_truth data/power_EBT_70_100_dataset.csv=data/EBT_demo_groundtruth.csv --learning_rate 0.1 --hidden_layers 2 --epochs 2000 --log_interval 250 --significance 0.9 --dilation_coefficient 4 --kernel_size 4 --seed 63109 --plot"
   ]
  },
  {
   "cell_type": "code",
   "execution_count": null,
   "id": "0ced0edb",
   "metadata": {},
   "outputs": [],
   "source": [
    "# Run TCDF for predictive accuracy\n",
    "\n",
    "%run -i \"evaluate_predictions_TCDF.py\" --data data/power_EBT_70_100_dataset.csv --learning_rate 0.1 --hidden_layers 2 --epochs 2000 --log_interval 250 --dilation_coefficient 4 --kernel_size 4 --seed 63109 --plot --train_test_split 0.8"
   ]
  },
  {
   "cell_type": "code",
   "execution_count": null,
   "id": "212d1b85",
   "metadata": {},
   "outputs": [],
   "source": [
    "%matplotlib inline\n",
    " \n",
    "\n",
    "\n",
    "# Plot training losses\n",
    "plot_performance(alllosses)"
   ]
  },
  {
   "cell_type": "code",
   "execution_count": null,
   "id": "2ff97a3e",
   "metadata": {},
   "outputs": [],
   "source": [
    "%matplotlib inline\n",
    " \n",
    "\n",
    "\n",
    "# Plot accuracy (MASE values)\n",
    "plot_performance(accuracy)"
   ]
  },
  {
   "cell_type": "markdown",
   "id": "aea28acb",
   "metadata": {},
   "source": [
    "#### TCDF 70-100: second run  (increased hidden layers by 1, decreased dilation coefficient and kernel size by 1)"
   ]
  },
  {
   "cell_type": "code",
   "execution_count": null,
   "id": "fed2b5a6",
   "metadata": {},
   "outputs": [],
   "source": [
    "%matplotlib inline\n",
    "\n",
    "# Run TCDF with the selected equilibrium dataset of EBT data\n",
    "\n",
    "%run -i \"runTCDF.py\"  --ground_truth data/power_EBT_70_100_dataset.csv=data/EBT_demo_groundtruth.csv --learning_rate 0.1 --hidden_layers 3 --epochs 2000 --log_interval 250 --significance 0.9 --dilation_coefficient 3 --kernel_size 3 --seed 1238 --plot"
   ]
  },
  {
   "cell_type": "code",
   "execution_count": null,
   "id": "2c49bd7e",
   "metadata": {},
   "outputs": [],
   "source": [
    "# Run TCDF for predictive accuracy\n",
    "\n",
    "%run -i \"evaluate_predictions_TCDF.py\" --data data/power_EBT_70_100_dataset.csv --learning_rate 0.1 --hidden_layers 3 --epochs 2000 --log_interval 250 --dilation_coefficient 3 --kernel_size 3 --seed 1238 --plot --train_test_split 0.8"
   ]
  },
  {
   "cell_type": "code",
   "execution_count": null,
   "id": "76eb3547",
   "metadata": {},
   "outputs": [],
   "source": [
    "%matplotlib inline\n",
    " \n",
    "\n",
    "\n",
    "# Plot training losses\n",
    "plot_performance(alllosses)"
   ]
  },
  {
   "cell_type": "code",
   "execution_count": null,
   "id": "b9a79d1e",
   "metadata": {},
   "outputs": [],
   "source": [
    "%matplotlib inline\n",
    " \n",
    "\n",
    "\n",
    "# Plot accuracy (MASE values)\n",
    "plot_performance(accuracy)"
   ]
  },
  {
   "cell_type": "code",
   "execution_count": null,
   "id": "ba94d9b8",
   "metadata": {},
   "outputs": [],
   "source": [
    "%matplotlib inline\n",
    "\n",
    "# Run TCDF with the selected equilibrium dataset of EBT data\n",
    "\n",
    "%run -i \"runTCDF.py\"  --ground_truth data/power_EBT_70_100_dataset.csv=data/EBT_demo_groundtruth.csv --learning_rate 0.1 --hidden_layers 3 --epochs 2000 --log_interval 250 --significance 0.9 --dilation_coefficient 3 --kernel_size 3 --seed 53988 --plot"
   ]
  },
  {
   "cell_type": "code",
   "execution_count": null,
   "id": "a6733fc7",
   "metadata": {},
   "outputs": [],
   "source": [
    "# Run TCDF for predictive accuracy\n",
    "\n",
    "%run -i \"evaluate_predictions_TCDF.py\" --data data/power_EBT_70_100_dataset.csv --learning_rate 0.1 --hidden_layers 3 --epochs 2000 --log_interval 250 --dilation_coefficient 3 --kernel_size 3 --seed 53988 --plot --train_test_split 0.8"
   ]
  },
  {
   "cell_type": "code",
   "execution_count": null,
   "id": "c8f15023",
   "metadata": {},
   "outputs": [],
   "source": [
    "%matplotlib inline\n",
    " \n",
    "\n",
    "\n",
    "# Plot training losses\n",
    "plot_performance(alllosses)"
   ]
  },
  {
   "cell_type": "code",
   "execution_count": null,
   "id": "dcd8c750",
   "metadata": {},
   "outputs": [],
   "source": [
    "%matplotlib inline\n",
    " \n",
    "\n",
    "\n",
    "# Plot accuracy (MASE values)\n",
    "plot_performance(accuracy)"
   ]
  },
  {
   "cell_type": "code",
   "execution_count": null,
   "id": "46d8cb8a",
   "metadata": {},
   "outputs": [],
   "source": [
    "%matplotlib inline\n",
    "\n",
    "# Run TCDF with the selected equilibrium dataset of EBT data\n",
    "\n",
    "%run -i \"runTCDF.py\"  --ground_truth data/power_EBT_70_100_dataset.csv=data/EBT_demo_groundtruth.csv --learning_rate 0.1 --hidden_layers 3 --epochs 2000 --log_interval 250 --significance 0.9 --dilation_coefficient 3 --kernel_size 3 --seed 92422 --plot"
   ]
  },
  {
   "cell_type": "code",
   "execution_count": null,
   "id": "a7473dcc",
   "metadata": {},
   "outputs": [],
   "source": [
    "# Run TCDF for predictive accuracy\n",
    "\n",
    "%run -i \"evaluate_predictions_TCDF.py\" --data data/power_EBT_70_100_dataset.csv --learning_rate 0.1 --hidden_layers 3 --epochs 2000 --log_interval 250 --dilation_coefficient 3 --kernel_size 3 --seed 92422 --plot --train_test_split 0.8"
   ]
  },
  {
   "cell_type": "code",
   "execution_count": null,
   "id": "8591b67b",
   "metadata": {},
   "outputs": [],
   "source": [
    "%matplotlib inline\n",
    " \n",
    "\n",
    "\n",
    "# Plot training losses\n",
    "plot_performance(alllosses)"
   ]
  },
  {
   "cell_type": "code",
   "execution_count": null,
   "id": "acd4be2b",
   "metadata": {},
   "outputs": [],
   "source": [
    "%matplotlib inline\n",
    " \n",
    "\n",
    "\n",
    "# Plot accuracy (MASE values)\n",
    "plot_performance(accuracy)"
   ]
  },
  {
   "cell_type": "markdown",
   "id": "2ace86b4",
   "metadata": {},
   "source": [
    "### TCDF with EBT transient dynamics\n",
    "\n",
    "This data represents the tritrophic biomasses during the introduced fishing pressure on cod. At 20 years Fc increases and is put to a halt on 40 years. Therefore I split the transient dynamics into two separate transient phases: 20-40 years (fishing pressure increases linearly) and 40-70 years (searching for a new equilibrium).\n",
    "\n",
    "#### 20 - 60 years"
   ]
  },
  {
   "cell_type": "code",
   "execution_count": null,
   "id": "b60a2163",
   "metadata": {},
   "outputs": [],
   "source": [
    "# Select data between 20 and 60 years\n",
    "ebt_20_60 = select_data(ebt, 20, 60, 'power')\n",
    "\n",
    "# Create file path for new file\n",
    "EBTScaled_path = os.path.join(TCDFdata_path, 'power_EBT_20_60_dataset.csv')\n",
    "\n",
    "# Write clean dataframe demo_ebt to a new .csv file\n",
    "ebt_20_60.to_csv(EBTScaled_path, index = False)"
   ]
  },
  {
   "cell_type": "markdown",
   "id": "c3175466",
   "metadata": {},
   "source": [
    "#### TCDF 20-60 years: first run (in triplicate)"
   ]
  },
  {
   "cell_type": "code",
   "execution_count": null,
   "id": "8c4477ad",
   "metadata": {},
   "outputs": [],
   "source": [
    "%matplotlib inline\n",
    "\n",
    "# Run TCDF with the selected equilibrium dataset of EBT data\n",
    "\n",
    "%run -i \"runTCDF.py\"  --ground_truth data/power_EBT_20_60_dataset.csv=data/EBT_demo_groundtruth.csv --learning_rate 0.1 --hidden_layers 3 --epochs 1000 --log_interval 250 --significance 0.9 --dilation_coefficient 3 --kernel_size 3 --seed 24310 --plot"
   ]
  },
  {
   "cell_type": "code",
   "execution_count": null,
   "id": "7d81573d",
   "metadata": {},
   "outputs": [],
   "source": [
    "# Run TCDF for predictive accuracy\n",
    "\n",
    "%run -i \"evaluate_predictions_TCDF.py\" --data data/power_EBT_20_60_dataset.csv --learning_rate 0.1 --hidden_layers 3 --epochs 1000 --log_interval 250 --dilation_coefficient 3 --kernel_size 3 --seed 24310 --plot --train_test_split 0.7"
   ]
  },
  {
   "cell_type": "code",
   "execution_count": null,
   "id": "8a8538b5",
   "metadata": {},
   "outputs": [],
   "source": [
    "%matplotlib inline\n",
    " \n",
    "\n",
    "\n",
    "# Plot training losses\n",
    "plot_performance(alllosses)"
   ]
  },
  {
   "cell_type": "code",
   "execution_count": null,
   "id": "f4913a53",
   "metadata": {},
   "outputs": [],
   "source": [
    "%matplotlib inline\n",
    " \n",
    "\n",
    "\n",
    "# Plot accuracy (MASE values)\n",
    "plot_performance(accuracy)"
   ]
  },
  {
   "cell_type": "code",
   "execution_count": null,
   "id": "e3814654",
   "metadata": {},
   "outputs": [],
   "source": [
    "%matplotlib inline\n",
    "\n",
    "# Run TCDF with the selected equilibrium dataset of EBT data\n",
    "\n",
    "%run -i \"runTCDF.py\"  --ground_truth data/power_EBT_20_60_dataset.csv=data/EBT_demo_groundtruth.csv --learning_rate 0.1 --hidden_layers 3 --epochs 1000 --log_interval 250 --significance 0.9 --dilation_coefficient 3 --kernel_size 3 --seed 77139 --plot"
   ]
  },
  {
   "cell_type": "code",
   "execution_count": null,
   "id": "04a5e9bf",
   "metadata": {},
   "outputs": [],
   "source": [
    "# Run TCDF for predictive accuracy\n",
    "\n",
    "%run -i \"evaluate_predictions_TCDF.py\" --data data/power_EBT_20_60_dataset.csv --learning_rate 0.1 --hidden_layers 3 --epochs 1000 --log_interval 250 --dilation_coefficient 3 --kernel_size 3 --seed 77139 --plot --train_test_split 0.7"
   ]
  },
  {
   "cell_type": "code",
   "execution_count": null,
   "id": "3ef5d87c",
   "metadata": {},
   "outputs": [],
   "source": [
    "%matplotlib inline\n",
    " \n",
    "\n",
    "\n",
    "# Plot training losses\n",
    "plot_performance(alllosses)"
   ]
  },
  {
   "cell_type": "code",
   "execution_count": null,
   "id": "2e34c1c1",
   "metadata": {},
   "outputs": [],
   "source": [
    "%matplotlib inline\n",
    " \n",
    "\n",
    "\n",
    "# Plot accuracy (MASE values)\n",
    "plot_performance(accuracy)"
   ]
  },
  {
   "cell_type": "code",
   "execution_count": null,
   "id": "96a62387",
   "metadata": {},
   "outputs": [],
   "source": [
    "%matplotlib inline\n",
    "\n",
    "# Run TCDF with the selected equilibrium dataset of EBT data\n",
    "\n",
    "%run -i \"runTCDF.py\"  --ground_truth data/power_EBT_20_60_dataset.csv=data/EBT_demo_groundtruth.csv --learning_rate 0.1 --hidden_layers 3 --epochs 1000 --log_interval 250 --significance 0.9 --dilation_coefficient 3 --kernel_size 3 --seed 45184 --plot"
   ]
  },
  {
   "cell_type": "code",
   "execution_count": null,
   "id": "29bc10ac",
   "metadata": {},
   "outputs": [],
   "source": [
    "# Run TCDF for predictive accuracy\n",
    "\n",
    "%run -i \"evaluate_predictions_TCDF.py\" --data data/power_EBT_20_60_dataset.csv --learning_rate 0.1 --hidden_layers 3 --epochs 1000 --log_interval 250 --dilation_coefficient 3 --kernel_size 3 --seed 45184 --plot --train_test_split 0.7"
   ]
  },
  {
   "cell_type": "code",
   "execution_count": null,
   "id": "75b454ef",
   "metadata": {},
   "outputs": [],
   "source": [
    "%matplotlib inline\n",
    " \n",
    "\n",
    "\n",
    "# Plot training losses\n",
    "plot_performance(alllosses)"
   ]
  },
  {
   "cell_type": "code",
   "execution_count": null,
   "id": "f0e4ef31",
   "metadata": {},
   "outputs": [],
   "source": [
    "%matplotlib inline\n",
    " \n",
    "\n",
    "\n",
    "# Plot accuracy (MASE values)\n",
    "plot_performance(accuracy)"
   ]
  },
  {
   "cell_type": "markdown",
   "id": "fb75197e",
   "metadata": {},
   "source": [
    "#### TCDF 20-60 years: second run  (decreased hidden layers by 1, increased dilation coefficient and kernel size by 1)"
   ]
  },
  {
   "cell_type": "code",
   "execution_count": null,
   "id": "1f963f20",
   "metadata": {},
   "outputs": [],
   "source": [
    "%matplotlib inline\n",
    "\n",
    "# Run TCDF with the selected equilibrium dataset of EBT data\n",
    "\n",
    "%run -i \"runTCDF.py\"  --ground_truth data/power_EBT_20_60_dataset.csv=data/EBT_demo_groundtruth.csv --learning_rate 0.1 --hidden_layers 2 --epochs 2000 --log_interval 250 --significance 0.9 --dilation_coefficient 4 --kernel_size 4 --seed 78025 --plot"
   ]
  },
  {
   "cell_type": "code",
   "execution_count": null,
   "id": "b31e8007",
   "metadata": {},
   "outputs": [],
   "source": [
    "# Run TCDF for predictive accuracy\n",
    "\n",
    "%run -i \"evaluate_predictions_TCDF.py\" --data data/power_EBT_20_60_dataset.csv --learning_rate 0.1 --hidden_layers 2 --epochs 2000 --log_interval 250 --dilation_coefficient 4 --kernel_size 4 --seed 78025 --plot --train_test_split 0.7"
   ]
  },
  {
   "cell_type": "code",
   "execution_count": null,
   "id": "b5aa8f9a",
   "metadata": {},
   "outputs": [],
   "source": [
    "%matplotlib inline\n",
    " \n",
    "\n",
    "\n",
    "# Plot training losses\n",
    "plot_performance(alllosses)"
   ]
  },
  {
   "cell_type": "code",
   "execution_count": null,
   "id": "4a5d9ec0",
   "metadata": {},
   "outputs": [],
   "source": [
    "%matplotlib inline\n",
    " \n",
    "\n",
    "\n",
    "# Plot accuracy (MASE values)\n",
    "plot_performance(accuracy)"
   ]
  },
  {
   "cell_type": "code",
   "execution_count": null,
   "id": "fc53f806",
   "metadata": {},
   "outputs": [],
   "source": [
    "%matplotlib inline\n",
    "\n",
    "# Run TCDF with the selected equilibrium dataset of EBT data\n",
    "\n",
    "%run -i \"runTCDF.py\"  --ground_truth data/power_EBT_20_60_dataset.csv=data/EBT_demo_groundtruth.csv --learning_rate 0.1 --hidden_layers 2 --epochs 2000 --log_interval 250 --significance 0.9 --dilation_coefficient 4 --kernel_size 4 --seed 53391 --plot"
   ]
  },
  {
   "cell_type": "code",
   "execution_count": null,
   "id": "b02273f6",
   "metadata": {},
   "outputs": [],
   "source": [
    "# Run TCDF for predictive accuracy\n",
    "\n",
    "%run -i \"evaluate_predictions_TCDF.py\" --data data/power_EBT_20_60_dataset.csv --learning_rate 0.1 --hidden_layers 2 --epochs 2000 --log_interval 250 --dilation_coefficient 4 --kernel_size 4 --seed 53391 --plot --train_test_split 0.7"
   ]
  },
  {
   "cell_type": "code",
   "execution_count": null,
   "id": "d034e91a",
   "metadata": {},
   "outputs": [],
   "source": [
    "%matplotlib inline\n",
    " \n",
    "\n",
    "\n",
    "# Plot training losses\n",
    "plot_performance(alllosses)"
   ]
  },
  {
   "cell_type": "code",
   "execution_count": null,
   "id": "3bbd3232",
   "metadata": {},
   "outputs": [],
   "source": [
    "%matplotlib inline\n",
    " \n",
    "\n",
    "\n",
    "# Plot accuracy (MASE values)\n",
    "plot_performance(accuracy)"
   ]
  },
  {
   "cell_type": "code",
   "execution_count": null,
   "id": "b0f85dfa",
   "metadata": {},
   "outputs": [],
   "source": [
    "%matplotlib inline\n",
    "\n",
    "# Run TCDF with the selected equilibrium dataset of EBT data\n",
    "\n",
    "%run -i \"runTCDF.py\"  --ground_truth data/power_EBT_20_60_dataset.csv=data/EBT_demo_groundtruth.csv --learning_rate 0.1 --hidden_layers 2 --epochs 2000 --log_interval 250 --significance 0.9 --dilation_coefficient 4 --kernel_size 4 --seed 34061 --plot"
   ]
  },
  {
   "cell_type": "code",
   "execution_count": null,
   "id": "3b786ab8",
   "metadata": {},
   "outputs": [],
   "source": [
    "# Run TCDF for predictive accuracy\n",
    "\n",
    "%run -i \"evaluate_predictions_TCDF.py\" --data data/power_EBT_20_60_dataset.csv --learning_rate 0.1 --hidden_layers 2 --epochs 2000 --log_interval 250 --dilation_coefficient 4 --kernel_size 4 --seed 34061 --plot --train_test_split 0.7"
   ]
  },
  {
   "cell_type": "code",
   "execution_count": null,
   "id": "9ea2ca15",
   "metadata": {},
   "outputs": [],
   "source": [
    "%matplotlib inline\n",
    " \n",
    "\n",
    "\n",
    "# Plot training losses\n",
    "plot_performance(alllosses)"
   ]
  },
  {
   "cell_type": "code",
   "execution_count": null,
   "id": "3c04f6c5",
   "metadata": {},
   "outputs": [],
   "source": [
    "%matplotlib inline\n",
    " \n",
    "\n",
    "\n",
    "# Plot accuracy (MASE values)\n",
    "plot_performance(accuracy)"
   ]
  },
  {
   "cell_type": "markdown",
   "id": "fb022ec7",
   "metadata": {},
   "source": [
    "#### 60 - 70 years"
   ]
  },
  {
   "cell_type": "code",
   "execution_count": null,
   "id": "b6b21e25",
   "metadata": {},
   "outputs": [],
   "source": [
    "# Select data between 60 and 70 years\n",
    "ebt_60_70 = select_data(ebt, 60, 70, 'power')\n",
    "\n",
    "# Create file path for new file\n",
    "EBTScaled_path = os.path.join(TCDFdata_path, 'power_EBT_60_70_dataset.csv')\n",
    "\n",
    "# Write clean dataframe demo_ebt to a new .csv file\n",
    "ebt_60_70.to_csv(EBTScaled_path, index = False)"
   ]
  },
  {
   "cell_type": "markdown",
   "id": "2630d080",
   "metadata": {},
   "source": [
    "#### TCDF 60-70 years: first run (in triplicate)"
   ]
  },
  {
   "cell_type": "code",
   "execution_count": null,
   "id": "1c98bbb5",
   "metadata": {},
   "outputs": [],
   "source": [
    "%matplotlib inline\n",
    "\n",
    "# Run TCDF with the selected equilibrium dataset of EBT data\n",
    "\n",
    "%run -i \"runTCDF.py\"  --ground_truth data/power_EBT_60_70_dataset.csv=data/EBT_demo_groundtruth.csv --learning_rate 0.1 --hidden_layers 3 --epochs 2000 --log_interval 250 --significance 0.9 --dilation_coefficient 3 --kernel_size 3 --seed 2369 --plot"
   ]
  },
  {
   "cell_type": "code",
   "execution_count": null,
   "id": "98bb8ef7",
   "metadata": {},
   "outputs": [],
   "source": [
    "# Run TCDF for predictive accuracy\n",
    "\n",
    "%run -i \"evaluate_predictions_TCDF.py\" --data data/power_EBT_60_70_dataset.csv --learning_rate 0.1 --hidden_layers 3 --epochs 2000 --log_interval 250 --dilation_coefficient 3 --kernel_size 3 --seed 2369 --plot --train_test_split 0.7"
   ]
  },
  {
   "cell_type": "code",
   "execution_count": null,
   "id": "b7d3ca81",
   "metadata": {},
   "outputs": [],
   "source": [
    "%matplotlib inline\n",
    " \n",
    "\n",
    "\n",
    "# Plot training losses\n",
    "plot_performance(alllosses)"
   ]
  },
  {
   "cell_type": "code",
   "execution_count": null,
   "id": "0e553e68",
   "metadata": {},
   "outputs": [],
   "source": [
    "%matplotlib inline\n",
    " \n",
    "\n",
    "\n",
    "# Plot accuracy (MASE values)\n",
    "plot_performance(accuracy)"
   ]
  },
  {
   "cell_type": "code",
   "execution_count": null,
   "id": "0fe8e67d",
   "metadata": {},
   "outputs": [],
   "source": [
    "%matplotlib inline\n",
    "\n",
    "# Run TCDF with the selected equilibrium dataset of EBT data\n",
    "\n",
    "%run -i \"runTCDF.py\"  --ground_truth data/power_EBT_60_70_dataset.csv=data/EBT_demo_groundtruth.csv --learning_rate 0.1 --hidden_layers 3 --epochs 2000 --log_interval 250 --significance 0.9 --dilation_coefficient 3 --kernel_size 3 --seed 33520 --plot"
   ]
  },
  {
   "cell_type": "code",
   "execution_count": null,
   "id": "33b9ba53",
   "metadata": {},
   "outputs": [],
   "source": [
    "# Run TCDF for predictive accuracy\n",
    "\n",
    "%run -i \"evaluate_predictions_TCDF.py\" --data data/power_EBT_60_70_dataset.csv --learning_rate 0.1 --hidden_layers 3 --epochs 2000 --log_interval 250 --dilation_coefficient 3 --kernel_size 3 --seed 33520 --plot --train_test_split 0.7"
   ]
  },
  {
   "cell_type": "code",
   "execution_count": null,
   "id": "f2957ebb",
   "metadata": {},
   "outputs": [],
   "source": [
    "%matplotlib inline\n",
    " \n",
    "\n",
    "\n",
    "# Plot training losses\n",
    "plot_performance(alllosses)"
   ]
  },
  {
   "cell_type": "code",
   "execution_count": null,
   "id": "069f7b6c",
   "metadata": {},
   "outputs": [],
   "source": [
    "%matplotlib inline\n",
    " \n",
    "\n",
    "\n",
    "# Plot accuracy (MASE values)\n",
    "plot_performance(accuracy)"
   ]
  },
  {
   "cell_type": "code",
   "execution_count": null,
   "id": "198877fa",
   "metadata": {},
   "outputs": [],
   "source": [
    "%matplotlib inline\n",
    "\n",
    "# Run TCDF with the selected equilibrium dataset of EBT data\n",
    "\n",
    "%run -i \"runTCDF.py\"  --ground_truth data/power_EBT_60_70_dataset.csv=data/EBT_demo_groundtruth.csv --learning_rate 0.1 --hidden_layers 3 --epochs 2000 --log_interval 250 --significance 0.9 --dilation_coefficient 3 --kernel_size 3 --seed 66848 --plot"
   ]
  },
  {
   "cell_type": "code",
   "execution_count": null,
   "id": "a39c9e4f",
   "metadata": {},
   "outputs": [],
   "source": [
    "# Run TCDF for predictive accuracy\n",
    "\n",
    "%run -i \"evaluate_predictions_TCDF.py\" --data data/power_EBT_60_70_dataset.csv --learning_rate 0.1 --hidden_layers 3 --epochs 2000 --log_interval 250 --dilation_coefficient 3 --kernel_size 3 --seed 66848 --plot --train_test_split 0.7"
   ]
  },
  {
   "cell_type": "code",
   "execution_count": null,
   "id": "b68eb8a0",
   "metadata": {},
   "outputs": [],
   "source": [
    "%matplotlib inline\n",
    " \n",
    "\n",
    "\n",
    "# Plot training losses\n",
    "plot_performance(alllosses)"
   ]
  },
  {
   "cell_type": "code",
   "execution_count": null,
   "id": "48dc7baf",
   "metadata": {},
   "outputs": [],
   "source": [
    "%matplotlib inline\n",
    " \n",
    "\n",
    "\n",
    "# Plot accuracy (MASE values)\n",
    "plot_performance(accuracy)"
   ]
  },
  {
   "cell_type": "markdown",
   "id": "9ae388d2",
   "metadata": {},
   "source": [
    "#### TCDF 60-70 years: second run  (decreased hidden layers by 1, increased dilation coefficient and kernel size by 1)"
   ]
  },
  {
   "cell_type": "code",
   "execution_count": null,
   "id": "bf72f4ba",
   "metadata": {},
   "outputs": [],
   "source": [
    "%matplotlib inline\n",
    "\n",
    "# Run TCDF with the selected equilibrium dataset of EBT data\n",
    "\n",
    "%run -i \"runTCDF.py\"  --ground_truth data/power_EBT_60_70_dataset.csv=data/EBT_demo_groundtruth.csv --learning_rate 0.1 --hidden_layers 2 --epochs 2000 --log_interval 250 --significance 0.9 --dilation_coefficient 4 --kernel_size 4 --seed 2369 --plot"
   ]
  },
  {
   "cell_type": "code",
   "execution_count": null,
   "id": "79e7261c",
   "metadata": {},
   "outputs": [],
   "source": [
    "# Run TCDF for predictive accuracy\n",
    "\n",
    "%run -i \"evaluate_predictions_TCDF.py\" --data data/power_EBT_60_70_dataset.csv --learning_rate 0.1 --hidden_layers 2 --epochs 2000 --log_interval 250 --dilation_coefficient 4 --kernel_size 4 --seed 2369 --plot --train_test_split 0.7"
   ]
  },
  {
   "cell_type": "code",
   "execution_count": null,
   "id": "462dde4b",
   "metadata": {},
   "outputs": [],
   "source": [
    "%matplotlib inline\n",
    " \n",
    "\n",
    "\n",
    "# Plot training losses\n",
    "plot_performance(alllosses)"
   ]
  },
  {
   "cell_type": "code",
   "execution_count": null,
   "id": "ee4791ac",
   "metadata": {},
   "outputs": [],
   "source": [
    "%matplotlib inline\n",
    " \n",
    "\n",
    "\n",
    "# Plot accuracy (MASE values)\n",
    "plot_performance(accuracy)"
   ]
  },
  {
   "cell_type": "code",
   "execution_count": null,
   "id": "c2cd091e",
   "metadata": {},
   "outputs": [],
   "source": [
    "%matplotlib inline\n",
    "\n",
    "# Run TCDF with the selected equilibrium dataset of EBT data\n",
    "\n",
    "%run -i \"runTCDF.py\"  --ground_truth data/power_EBT_60_70_dataset.csv=data/EBT_demo_groundtruth.csv --learning_rate 0.1 --hidden_layers 2 --epochs 2000 --log_interval 250 --significance 0.9 --dilation_coefficient 4 --kernel_size 4 --seed 21312 --plot"
   ]
  },
  {
   "cell_type": "code",
   "execution_count": null,
   "id": "d753f596",
   "metadata": {},
   "outputs": [],
   "source": [
    "# Run TCDF for predictive accuracy\n",
    "\n",
    "%run -i \"evaluate_predictions_TCDF.py\" --data data/power_EBT_60_70_dataset.csv --learning_rate 0.1 --hidden_layers 2 --epochs 2000 --log_interval 250 --dilation_coefficient 4 --kernel_size 4 --seed 21312 --plot --train_test_split 0.7"
   ]
  },
  {
   "cell_type": "code",
   "execution_count": null,
   "id": "f8cbc0bd",
   "metadata": {},
   "outputs": [],
   "source": [
    "%matplotlib inline\n",
    " \n",
    "\n",
    "\n",
    "# Plot training losses\n",
    "plot_performance(alllosses)"
   ]
  },
  {
   "cell_type": "code",
   "execution_count": null,
   "id": "2996a43e",
   "metadata": {},
   "outputs": [],
   "source": [
    "%matplotlib inline\n",
    " \n",
    "\n",
    "\n",
    "# Plot accuracy (MASE values)\n",
    "plot_performance(accuracy)"
   ]
  },
  {
   "cell_type": "code",
   "execution_count": null,
   "id": "97a1fea4",
   "metadata": {},
   "outputs": [],
   "source": [
    "%matplotlib inline\n",
    "\n",
    "# Run TCDF with the selected equilibrium dataset of EBT data\n",
    "\n",
    "%run -i \"runTCDF.py\"  --ground_truth data/power_EBT_60_70_dataset.csv=data/EBT_demo_groundtruth.csv --learning_rate 0.1 --hidden_layers 2 --epochs 2000 --log_interval 250 --significance 0.9 --dilation_coefficient 4 --kernel_size 4 --seed 8023 --plot"
   ]
  },
  {
   "cell_type": "code",
   "execution_count": null,
   "id": "54935e5e",
   "metadata": {},
   "outputs": [],
   "source": [
    "# Run TCDF for predictive accuracy\n",
    "\n",
    "%run -i \"evaluate_predictions_TCDF.py\" --data data/power_EBT_60_70_dataset.csv --learning_rate 0.1 --hidden_layers 2 --epochs 2000 --log_interval 250 --dilation_coefficient 4 --kernel_size 4 --seed 8023 --plot --train_test_split 0.7"
   ]
  },
  {
   "cell_type": "code",
   "execution_count": null,
   "id": "150bd443",
   "metadata": {},
   "outputs": [],
   "source": [
    "%matplotlib inline\n",
    " \n",
    "\n",
    "\n",
    "# Plot training losses\n",
    "plot_performance(alllosses)"
   ]
  },
  {
   "cell_type": "code",
   "execution_count": null,
   "id": "6bab4104",
   "metadata": {},
   "outputs": [],
   "source": [
    "%matplotlib inline\n",
    " \n",
    "\n",
    "\n",
    "# Plot accuracy (MASE values)\n",
    "plot_performance(accuracy)"
   ]
  },
  {
   "cell_type": "markdown",
   "id": "e526753f",
   "metadata": {},
   "source": [
    "## TCDF: Noisy Data\n",
    "\n",
    "Same exact models are run with noisy data."
   ]
  },
  {
   "cell_type": "markdown",
   "id": "f7681502",
   "metadata": {},
   "source": [
    "### Adding white noise (Additive White Gaussian Noise)\n",
    "\n",
    "Training the model with additive noise might be helpful in avoiding overfitting of the model. Data in this section is augmented by adding noise with additive white Gaussian noise. Three different datasets are provided - SNR 1:0.1, 1:1, 1:10. Each noisy dataset is analysed with optimized (hyper)parameters for the particular dataset to increase performance and accuracy."
   ]
  },
  {
   "cell_type": "markdown",
   "id": "8b596bf3",
   "metadata": {},
   "source": [
    "### Signal to Noise ratio 1:0.1"
   ]
  },
  {
   "cell_type": "code",
   "execution_count": null,
   "id": "096e2fea",
   "metadata": {},
   "outputs": [],
   "source": [
    "# Create new dataset with snr 1:0.1\n",
    "noisy_ebt = noisy_data(10)"
   ]
  },
  {
   "cell_type": "markdown",
   "id": "9f60bc75",
   "metadata": {},
   "source": [
    "#### 20 - 70 years"
   ]
  },
  {
   "cell_type": "code",
   "execution_count": null,
   "id": "eea27d07",
   "metadata": {},
   "outputs": [],
   "source": [
    "# Select data between 20 and 70 years\n",
    "noisy_ebt_20_70 = select_data(noisy_ebt, 20, 70, 'power')\n",
    "\n",
    "# Create file path for new file\n",
    "EBTScaled_path = os.path.join(TCDFdata_path, 'power_1_0.1_noisy_EBT_20_70_dataset.csv')\n",
    "\n",
    "# Write clean dataframe demo_ebt to a new .csv file\n",
    "noisy_ebt_20_70.to_csv(EBTScaled_path, index = False)"
   ]
  },
  {
   "cell_type": "markdown",
   "id": "dda7eec4",
   "metadata": {},
   "source": [
    "#### TCDF 20-70 years: first run (in triplicate)"
   ]
  },
  {
   "cell_type": "code",
   "execution_count": null,
   "id": "dbe2ac1b",
   "metadata": {},
   "outputs": [],
   "source": [
    "%matplotlib inline\n",
    "\n",
    "# Run TCDF with the selected total dataset of EBT data\n",
    "\n",
    "%run -i \"runTCDF.py\"  --ground_truth data/power_1_0.1_noisy_EBT_20_70_dataset.csv=data/EBT_demo_groundtruth.csv --learning_rate 0.1 --hidden_layers 3 --epochs 2000 --log_interval 250 --significance 0.9 --dilation_coefficient 3 --kernel_size 3 --seed 5678\n"
   ]
  },
  {
   "cell_type": "code",
   "execution_count": null,
   "id": "64dccf56",
   "metadata": {},
   "outputs": [],
   "source": [
    "# Run TCDF for predictive accuracy\n",
    "\n",
    "%run -i \"evaluate_predictions_TCDF.py\" --data data/power_1_0.1_noisy_EBT_20_70_dataset.csv --learning_rate 0.1 --hidden_layers 3 --epochs 2000 --log_interval 250 --dilation_coefficient 3 --kernel_size 3 --seed 5467 --plot --train_test_split 0.5"
   ]
  },
  {
   "cell_type": "code",
   "execution_count": null,
   "id": "4ea2a82d",
   "metadata": {},
   "outputs": [],
   "source": [
    "%matplotlib inline\n",
    "\n",
    "# Run TCDF with the selected total dataset of EBT data\n",
    "\n",
    "%run -i \"runTCDF.py\"  --ground_truth data/power_1_0.1_noisy_EBT_20_70_dataset.csv=data/EBT_demo_groundtruth.csv --learning_rate 0.1 --hidden_layers 3 --epochs 2000 --log_interval 250 --significance 0.9 --dilation_coefficient 3 --kernel_size 3 --seed 2371\n"
   ]
  },
  {
   "cell_type": "code",
   "execution_count": null,
   "id": "6b5be6d0",
   "metadata": {},
   "outputs": [],
   "source": [
    "# Run TCDF for predictive accuracy\n",
    "\n",
    "%run -i \"evaluate_predictions_TCDF.py\" --data data/power_1_0.1_noisy_EBT_20_70_dataset.csv --learning_rate 0.1 --hidden_layers 3 --epochs 2000 --log_interval 250 --dilation_coefficient 3 --kernel_size 3 --seed 2371 --plot --train_test_split 0.5"
   ]
  },
  {
   "cell_type": "code",
   "execution_count": null,
   "id": "f424697c",
   "metadata": {},
   "outputs": [],
   "source": [
    "%matplotlib inline\n",
    "\n",
    "# Run TCDF with the selected total dataset of EBT data\n",
    "\n",
    "%run -i \"runTCDF.py\"  --ground_truth data/power_1_0.1_noisy_EBT_20_70_dataset.csv=data/EBT_demo_groundtruth.csv --learning_rate 0.1 --hidden_layers 3 --epochs 2000 --log_interval 250 --significance 0.9 --dilation_coefficient 3 --kernel_size 3 --seed 1084\n"
   ]
  },
  {
   "cell_type": "code",
   "execution_count": null,
   "id": "b27c5a37",
   "metadata": {},
   "outputs": [],
   "source": [
    "# Run TCDF for predictive accuracy\n",
    "\n",
    "%run -i \"evaluate_predictions_TCDF.py\" --data data/power_1_0.1_noisy_EBT_20_70_dataset.csv --learning_rate 0.1 --hidden_layers 3 --epochs 2000 --log_interval 250 --dilation_coefficient 3 --kernel_size 3 --seed 1048 --plot --train_test_split 0.5"
   ]
  },
  {
   "cell_type": "code",
   "execution_count": null,
   "id": "29d40c34",
   "metadata": {},
   "outputs": [],
   "source": [
    "%matplotlib inline\n",
    " \n",
    "\n",
    "\n",
    "# Plot training losses\n",
    "plot_performance(alllosses)"
   ]
  },
  {
   "cell_type": "code",
   "execution_count": null,
   "id": "db7a6379",
   "metadata": {},
   "outputs": [],
   "source": [
    "%matplotlib inline\n",
    " \n",
    "\n",
    "\n",
    "# Plot accuracy (MASE values)\n",
    "plot_performance(accuracy)"
   ]
  },
  {
   "cell_type": "markdown",
   "id": "b93f73ae",
   "metadata": {},
   "source": [
    "#### TCDF 20-70 years: second run (decreased hidden layers by 1, incremented dilation coefficient and kernel size by 1)"
   ]
  },
  {
   "cell_type": "code",
   "execution_count": null,
   "id": "1ae856e6",
   "metadata": {},
   "outputs": [],
   "source": [
    "%matplotlib inline\n",
    "\n",
    "# Run TCDF with the selected total dataset of EBT data\n",
    "\n",
    "%run -i \"runTCDF.py\"  --ground_truth data/power_1_0.1_noisy_EBT_20_70_dataset.csv=data/EBT_demo_groundtruth.csv --learning_rate 0.1 --hidden_layers 2 --epochs 2000 --log_interval 250 --significance 0.9 --dilation_coefficient 4 --kernel_size 4 --seed 5467\n"
   ]
  },
  {
   "cell_type": "code",
   "execution_count": null,
   "id": "64b18fd9",
   "metadata": {},
   "outputs": [],
   "source": [
    "# Run TCDF for predictive accuracy\n",
    "\n",
    "%run -i \"evaluate_predictions_TCDF.py\" --data data/power_1_0.1_noisy_EBT_20_70_dataset.csv --learning_rate 0.1 --hidden_layers 2 --epochs 2000 --log_interval 250 --dilation_coefficient 4 --kernel_size 4 --seed 5467 --plot --train_test_split 0.5"
   ]
  },
  {
   "cell_type": "code",
   "execution_count": null,
   "id": "53cd0014",
   "metadata": {},
   "outputs": [],
   "source": [
    "%matplotlib inline\n",
    "\n",
    "# Run TCDF with the selected total dataset of EBT data\n",
    "\n",
    "%run -i \"runTCDF.py\"  --ground_truth data/power_1_0.1_noisy_EBT_20_70_dataset.csv=data/EBT_demo_groundtruth.csv --learning_rate 0.1 --hidden_layers 2 --epochs 2000 --log_interval 250 --significance 0.9 --dilation_coefficient 4 --kernel_size 4 --seed 9238\n"
   ]
  },
  {
   "cell_type": "code",
   "execution_count": null,
   "id": "2e3cac04",
   "metadata": {},
   "outputs": [],
   "source": [
    "# Run TCDF for predictive accuracy\n",
    "\n",
    "%run -i \"evaluate_predictions_TCDF.py\" --data data/power_1_0.1_noisy_EBT_20_70_dataset.csv --learning_rate 0.1 --hidden_layers 2 --epochs 2000 --log_interval 250 --dilation_coefficient 4 --kernel_size 4 --seed 9238 --plot --train_test_split 0.5"
   ]
  },
  {
   "cell_type": "code",
   "execution_count": null,
   "id": "1faec49b",
   "metadata": {},
   "outputs": [],
   "source": [
    "%matplotlib inline\n",
    "\n",
    "# Run TCDF with the selected total dataset of EBT data\n",
    "\n",
    "%run -i \"runTCDF.py\"  --ground_truth data/power_1_0.1_noisy_EBT_20_70_dataset.csv=data/EBT_demo_groundtruth.csv --learning_rate 0.1 --hidden_layers 2 --epochs 2000 --log_interval 250 --significance 0.9 --dilation_coefficient 4 --kernel_size 4 --seed 157\n"
   ]
  },
  {
   "cell_type": "code",
   "execution_count": null,
   "id": "e8bf37c6",
   "metadata": {},
   "outputs": [],
   "source": [
    "# Run TCDF for predictive accuracy\n",
    "\n",
    "%run -i \"evaluate_predictions_TCDF.py\" --data data/power_1_0.1_noisy_EBT_20_70_dataset.csv --learning_rate 0.1 --hidden_layers 2 --epochs 2000 --log_interval 250 --dilation_coefficient 4 --kernel_size 4 --seed 157 --plot --train_test_split 0.5"
   ]
  },
  {
   "cell_type": "code",
   "execution_count": null,
   "id": "bfb9dde1",
   "metadata": {},
   "outputs": [],
   "source": [
    "%matplotlib inline\n",
    " \n",
    "\n",
    "\n",
    "# Plot training losses\n",
    "plot_performance(alllosses)"
   ]
  },
  {
   "cell_type": "code",
   "execution_count": null,
   "id": "ca25ae45",
   "metadata": {},
   "outputs": [],
   "source": [
    "%matplotlib inline\n",
    " \n",
    "\n",
    "\n",
    "# Plot accuracy (MASE values)\n",
    "plot_performance(accuracy)"
   ]
  },
  {
   "cell_type": "markdown",
   "id": "b759c851",
   "metadata": {},
   "source": [
    "#### 0 - 100 years"
   ]
  },
  {
   "cell_type": "code",
   "execution_count": null,
   "id": "124bdfe3",
   "metadata": {},
   "outputs": [],
   "source": [
    "# Select data between 0 and 100 years\n",
    "noisy_ebt_0_100 = select_data(noisy_ebt, 0, 100, 'power')\n",
    "\n",
    "# Create file path for new file\n",
    "EBTScaled_path = os.path.join(TCDFdata_path, 'power_1_0.1_noisy_EBT_0_100_dataset.csv')\n",
    "\n",
    "# Write clean dataframe demo_ebt to a new .csv file\n",
    "noisy_ebt_0_100.to_csv(EBTScaled_path, index = False)"
   ]
  },
  {
   "cell_type": "markdown",
   "id": "b83c7666",
   "metadata": {},
   "source": [
    "#### TCDF 0-100 years: first run (in triplicate)"
   ]
  },
  {
   "cell_type": "code",
   "execution_count": null,
   "id": "5bd854db",
   "metadata": {},
   "outputs": [],
   "source": [
    "%matplotlib inline\n",
    "\n",
    "# Run TCDF with the selected total dataset of EBT data\n",
    "\n",
    "%run -i \"runTCDF.py\"  --ground_truth data/power_1_0.1_noisy_EBT_0_100_dataset.csv=data/EBT_demo_groundtruth.csv --learning_rate 0.1 --hidden_layers 2 --epochs 2000 --log_interval 250 --significance 0.9 --dilation_coefficient 4 --kernel_size 4 --seed 37519"
   ]
  },
  {
   "cell_type": "code",
   "execution_count": null,
   "id": "26194ab9",
   "metadata": {},
   "outputs": [],
   "source": [
    "# Run TCDF for predictive accuracy\n",
    "\n",
    "%run -i \"evaluate_predictions_TCDF.py\" --data data/power_1_0.1_noisy_EBT_0_100_dataset.csv --learning_rate 0.1 --hidden_layers 2 --epochs 2000 --log_interval 250 --dilation_coefficient 4 --kernel_size 4 --seed 37519 --plot --train_test_split 0.4"
   ]
  },
  {
   "cell_type": "code",
   "execution_count": null,
   "id": "7ae18327",
   "metadata": {},
   "outputs": [],
   "source": [
    "%matplotlib inline\n",
    " \n",
    "\n",
    "\n",
    "# Plot training losses\n",
    "plot_performance(alllosses)"
   ]
  },
  {
   "cell_type": "code",
   "execution_count": null,
   "id": "dda38c16",
   "metadata": {},
   "outputs": [],
   "source": [
    "%matplotlib inline\n",
    " \n",
    "\n",
    "\n",
    "# Plot training losses\n",
    "plot_performance(accuracy)"
   ]
  },
  {
   "cell_type": "code",
   "execution_count": null,
   "id": "a0ee2644",
   "metadata": {},
   "outputs": [],
   "source": [
    "%matplotlib inline\n",
    "\n",
    "# Run TCDF with the selected total dataset of EBT data\n",
    "\n",
    "%run -i \"runTCDF.py\"  --ground_truth data/power_1_0.1_noisy_EBT_0_100_dataset.csv=data/EBT_demo_groundtruth.csv --learning_rate 0.1 --hidden_layers 2 --epochs 2000 --log_interval 250 --significance 0.9 --dilation_coefficient 4 --kernel_size 4 --seed 15787"
   ]
  },
  {
   "cell_type": "code",
   "execution_count": null,
   "id": "76c1cfb0",
   "metadata": {},
   "outputs": [],
   "source": [
    "# Run TCDF for predictive accuracy\n",
    "\n",
    "%run -i \"evaluate_predictions_TCDF.py\" --data data/power_1_0.1_noisy_EBT_0_100_dataset.csv --learning_rate 0.1 --hidden_layers 2 --epochs 2000 --log_interval 250 --dilation_coefficient 4 --kernel_size 4 --seed 15787 --plot --train_test_split 0.4"
   ]
  },
  {
   "cell_type": "code",
   "execution_count": null,
   "id": "ed68ffcc",
   "metadata": {},
   "outputs": [],
   "source": [
    "%matplotlib inline\n",
    " \n",
    "\n",
    "\n",
    "# Plot training losses\n",
    "plot_performance(alllosses)"
   ]
  },
  {
   "cell_type": "code",
   "execution_count": null,
   "id": "ff83b9e4",
   "metadata": {},
   "outputs": [],
   "source": [
    "%matplotlib inline\n",
    " \n",
    "\n",
    "\n",
    "# Plot training losses\n",
    "plot_performance(accuracy)"
   ]
  },
  {
   "cell_type": "code",
   "execution_count": null,
   "id": "d8e16175",
   "metadata": {},
   "outputs": [],
   "source": [
    "%matplotlib inline\n",
    "\n",
    "# Run TCDF with the selected total dataset of EBT data\n",
    "\n",
    "%run -i \"runTCDF.py\"  --ground_truth data/power_1_0.1_noisy_EBT_0_100_dataset.csv=data/EBT_demo_groundtruth.csv --learning_rate 0.1 --hidden_layers 2 --epochs 2000 --log_interval 250 --significance 0.9 --dilation_coefficient 4 --kernel_size 4 --seed 74326"
   ]
  },
  {
   "cell_type": "code",
   "execution_count": null,
   "id": "d6184fa9",
   "metadata": {},
   "outputs": [],
   "source": [
    "# Run TCDF for predictive accuracy\n",
    "\n",
    "%run -i \"evaluate_predictions_TCDF.py\" --data data/power_1_0.1_noisy_EBT_0_100_dataset.csv --learning_rate 0.1 --hidden_layers 2 --epochs 2000 --log_interval 250 --dilation_coefficient 4 --kernel_size 4 --seed 74326 --plot --train_test_split 0.4"
   ]
  },
  {
   "cell_type": "code",
   "execution_count": null,
   "id": "9096df72",
   "metadata": {},
   "outputs": [],
   "source": [
    "%matplotlib inline\n",
    " \n",
    "\n",
    "\n",
    "# Plot training losses\n",
    "plot_performance(alllosses)"
   ]
  },
  {
   "cell_type": "code",
   "execution_count": null,
   "id": "400b17c2",
   "metadata": {},
   "outputs": [],
   "source": [
    "%matplotlib inline\n",
    " \n",
    "\n",
    "\n",
    "# Plot training losses\n",
    "plot_performance(accuracy)"
   ]
  },
  {
   "cell_type": "markdown",
   "id": "22fecbd1",
   "metadata": {},
   "source": [
    "#### TCDF 0-100 years: second run (increased hidden layers by 1, decreased dilation coefficient and kernel size by 1)"
   ]
  },
  {
   "cell_type": "code",
   "execution_count": null,
   "id": "b0a369b7",
   "metadata": {},
   "outputs": [],
   "source": [
    "%matplotlib inline\n",
    "\n",
    "# Run TCDF with the selected total dataset of EBT data\n",
    "\n",
    "%run -i \"runTCDF.py\"  --ground_truth data/power_1_0.1_noisy_EBT_0_100_dataset.csv=data/EBT_demo_groundtruth.csv --learning_rate 0.1 --hidden_layers 3 --epochs 2000 --log_interval 250 --significance 0.9 --dilation_coefficient 3 --kernel_size 3 --seed 1111"
   ]
  },
  {
   "cell_type": "code",
   "execution_count": null,
   "id": "053bbd20",
   "metadata": {},
   "outputs": [],
   "source": [
    "# Run TCDF for predictive accuracy\n",
    "\n",
    "%run -i \"evaluate_predictions_TCDF.py\" --data data/power_1_0.1_noisy_EBT_0_100_dataset.csv --learning_rate 0.1 --hidden_layers 3 --epochs 2000 --log_interval 250 --dilation_coefficient 3 --kernel_size 3 --seed 1111 --plot --train_test_split 0.4"
   ]
  },
  {
   "cell_type": "code",
   "execution_count": null,
   "id": "1d8f7c08",
   "metadata": {},
   "outputs": [],
   "source": [
    "%matplotlib inline\n",
    " \n",
    "\n",
    "\n",
    "# Plot training losses\n",
    "plot_performance(alllosses)"
   ]
  },
  {
   "cell_type": "code",
   "execution_count": null,
   "id": "551ee709",
   "metadata": {},
   "outputs": [],
   "source": [
    "%matplotlib inline\n",
    " \n",
    "\n",
    "\n",
    "# Plot training losses\n",
    "plot_performance(accuracy)"
   ]
  },
  {
   "cell_type": "code",
   "execution_count": null,
   "id": "42deecce",
   "metadata": {},
   "outputs": [],
   "source": [
    "%matplotlib inline\n",
    "\n",
    "# Run TCDF with the selected total dataset of EBT data\n",
    "\n",
    "%run -i \"runTCDF.py\"  --ground_truth data/power_1_0.1_noisy_EBT_0_100_dataset.csv=data/EBT_demo_groundtruth.csv --learning_rate 0.1 --hidden_layers 3 --epochs 2000 --log_interval 250 --significance 0.9 --dilation_coefficient 3 --kernel_size 3 --seed 18040"
   ]
  },
  {
   "cell_type": "code",
   "execution_count": null,
   "id": "b81a6094",
   "metadata": {},
   "outputs": [],
   "source": [
    "# Run TCDF for predictive accuracy\n",
    "\n",
    "%run -i \"evaluate_predictions_TCDF.py\" --data data/power_1_0.1_noisy_EBT_0_100_dataset.csv --learning_rate 0.1 --hidden_layers 3 --epochs 2000 --log_interval 250 --dilation_coefficient 3 --kernel_size 3 --seed 18040 --plot --train_test_split 0.4"
   ]
  },
  {
   "cell_type": "code",
   "execution_count": null,
   "id": "b43e2652",
   "metadata": {},
   "outputs": [],
   "source": [
    "%matplotlib inline\n",
    " \n",
    "\n",
    "\n",
    "# Plot training losses\n",
    "plot_performance(alllosses)"
   ]
  },
  {
   "cell_type": "code",
   "execution_count": null,
   "id": "84583e91",
   "metadata": {},
   "outputs": [],
   "source": [
    "%matplotlib inline\n",
    " \n",
    "\n",
    "\n",
    "# Plot training losses\n",
    "plot_performance(accuracy)"
   ]
  },
  {
   "cell_type": "code",
   "execution_count": null,
   "id": "942a076c",
   "metadata": {},
   "outputs": [],
   "source": [
    "%matplotlib inline\n",
    "\n",
    "# Run TCDF with the selected total dataset of EBT data\n",
    "\n",
    "%run -i \"runTCDF.py\"  --ground_truth data/power_1_0.1_noisy_EBT_0_100_dataset.csv=data/EBT_demo_groundtruth.csv --learning_rate 0.1 --hidden_layers 3 --epochs 2000 --log_interval 250 --significance 0.9 --dilation_coefficient 3 --kernel_size 3 --seed 86547"
   ]
  },
  {
   "cell_type": "code",
   "execution_count": null,
   "id": "aba76c3d",
   "metadata": {},
   "outputs": [],
   "source": [
    "# Run TCDF for predictive accuracy\n",
    "\n",
    "%run -i \"evaluate_predictions_TCDF.py\" --data data/power_1_0.1_noisy_EBT_0_100_dataset.csv --learning_rate 0.1 --hidden_layers 3 --epochs 2000 --log_interval 250 --dilation_coefficient 3 --kernel_size 3 --seed 86547 --plot --train_test_split 0.4"
   ]
  },
  {
   "cell_type": "code",
   "execution_count": null,
   "id": "5d0b0821",
   "metadata": {},
   "outputs": [],
   "source": [
    "%matplotlib inline\n",
    " \n",
    "\n",
    "\n",
    "# Plot training losses\n",
    "plot_performance(alllosses)"
   ]
  },
  {
   "cell_type": "code",
   "execution_count": null,
   "id": "49526259",
   "metadata": {},
   "outputs": [],
   "source": [
    "%matplotlib inline\n",
    " \n",
    "\n",
    "\n",
    "# Plot training losses\n",
    "plot_performance(accuracy)"
   ]
  },
  {
   "cell_type": "markdown",
   "id": "eb10ffd8",
   "metadata": {},
   "source": [
    "#### 0 - 20 years"
   ]
  },
  {
   "cell_type": "code",
   "execution_count": null,
   "id": "a30aac21",
   "metadata": {},
   "outputs": [],
   "source": [
    "# Select data between 0 and 20 years\n",
    "noisy_ebt_0_20 = select_data(noisy_ebt, 0, 20, 'power')\n",
    "\n",
    "# Create file path for new file\n",
    "EBTScaled_path = os.path.join(TCDFdata_path, 'power_1_0.1_noisy_EBT_0_20_dataset.csv')\n",
    "\n",
    "# Write clean dataframe demo_ebt to a new .csv file\n",
    "noisy_ebt_0_20.to_csv(EBTScaled_path, index = False)"
   ]
  },
  {
   "cell_type": "markdown",
   "id": "6d0d2668",
   "metadata": {},
   "source": [
    "#### TCDF 0 - 20 years: first run (in triplicate)"
   ]
  },
  {
   "cell_type": "code",
   "execution_count": null,
   "id": "a87b8dbd",
   "metadata": {},
   "outputs": [],
   "source": [
    "%matplotlib inline\n",
    "\n",
    "# Run TCDF with the selected equilibrium dataset of EBT data\n",
    "\n",
    "%run -i \"runTCDF.py\"  --ground_truth data/power_1_0.1_noisy_EBT_0_20_dataset.csv=data/EBT_demo_groundtruth.csv --learning_rate 0.1 --hidden_layers 2 --epochs 2000 --log_interval 250 --significance 0.9 --dilation_coefficient 4 --kernel_size 4 --seed 37519"
   ]
  },
  {
   "cell_type": "code",
   "execution_count": null,
   "id": "54086cb8",
   "metadata": {},
   "outputs": [],
   "source": [
    "# Run TCDF for predictive accuracy\n",
    "\n",
    "%run -i \"evaluate_predictions_TCDF.py\" --data data/power_1_0.1_noisy_EBT_0_20_dataset.csv --learning_rate 0.1 --hidden_layers 2 --epochs 2000 --log_interval 250 --dilation_coefficient 4 --kernel_size 4 --seed 37519 --plot --train_test_split 0.8"
   ]
  },
  {
   "cell_type": "code",
   "execution_count": null,
   "id": "d12ed89b",
   "metadata": {},
   "outputs": [],
   "source": [
    "%matplotlib inline\n",
    " \n",
    "\n",
    "\n",
    "# Plot training losses\n",
    "plot_performance(alllosses)"
   ]
  },
  {
   "cell_type": "code",
   "execution_count": null,
   "id": "9731fce7",
   "metadata": {},
   "outputs": [],
   "source": [
    "%matplotlib inline\n",
    " \n",
    "\n",
    "\n",
    "# Plot accuracy (MASE values)\n",
    "plot_performance(accuracy)"
   ]
  },
  {
   "cell_type": "code",
   "execution_count": null,
   "id": "419bedd5",
   "metadata": {},
   "outputs": [],
   "source": [
    "%matplotlib inline\n",
    "\n",
    "# Run TCDF with the selected equilibrium dataset of EBT data\n",
    "\n",
    "%run -i \"runTCDF.py\"  --ground_truth data/power_1_0.1_noisy_EBT_0_20_dataset.csv=data/EBT_demo_groundtruth.csv --learning_rate 0.1 --hidden_layers 2 --epochs 2000 --log_interval 250 --significance 0.9 --dilation_coefficient 4 --kernel_size 4 --seed 49741"
   ]
  },
  {
   "cell_type": "code",
   "execution_count": null,
   "id": "f938e39b",
   "metadata": {},
   "outputs": [],
   "source": [
    "# Run TCDF for predictive accuracy\n",
    "\n",
    "%run -i \"evaluate_predictions_TCDF.py\" --data data/power_1_0.1_noisy_EBT_0_20_dataset.csv --learning_rate 0.1 --hidden_layers 2 --epochs 2000 --log_interval 250 --dilation_coefficient 4 --kernel_size 4 --seed 49741 --plot --train_test_split 0.8"
   ]
  },
  {
   "cell_type": "code",
   "execution_count": null,
   "id": "1714de06",
   "metadata": {},
   "outputs": [],
   "source": [
    "%matplotlib inline\n",
    " \n",
    "\n",
    "\n",
    "# Plot training losses\n",
    "plot_performance(alllosses)"
   ]
  },
  {
   "cell_type": "code",
   "execution_count": null,
   "id": "0718ba6a",
   "metadata": {},
   "outputs": [],
   "source": [
    "%matplotlib inline\n",
    " \n",
    "\n",
    "\n",
    "# Plot accuracy (MASE values)\n",
    "plot_performance(accuracy)"
   ]
  },
  {
   "cell_type": "code",
   "execution_count": null,
   "id": "4a756320",
   "metadata": {},
   "outputs": [],
   "source": [
    "%matplotlib inline\n",
    "\n",
    "# Run TCDF with the selected equilibrium dataset of EBT data\n",
    "\n",
    "%run -i \"runTCDF.py\"  --ground_truth data/power_1_0.1_noisy_EBT_0_20_dataset.csv=data/EBT_demo_groundtruth.csv --learning_rate 0.1 --hidden_layers 2 --epochs 2000 --log_interval 250 --significance 0.9 --dilation_coefficient 4 --kernel_size 4 --seed 37786"
   ]
  },
  {
   "cell_type": "code",
   "execution_count": null,
   "id": "66657e0e",
   "metadata": {},
   "outputs": [],
   "source": [
    "# Run TCDF for predictive accuracy\n",
    "\n",
    "%run -i \"evaluate_predictions_TCDF.py\" --data data/power_1_0.1_noisy_EBT_0_20_dataset.csv --learning_rate 0.1 --hidden_layers 2 --epochs 2000 --log_interval 250 --dilation_coefficient 4 --kernel_size 4 --seed 37786 --plot --train_test_split 0.8"
   ]
  },
  {
   "cell_type": "code",
   "execution_count": null,
   "id": "f7175200",
   "metadata": {},
   "outputs": [],
   "source": [
    "%matplotlib inline\n",
    " \n",
    "\n",
    "\n",
    "# Plot training losses\n",
    "plot_performance(alllosses)"
   ]
  },
  {
   "cell_type": "code",
   "execution_count": null,
   "id": "9edef43f",
   "metadata": {},
   "outputs": [],
   "source": [
    "%matplotlib inline\n",
    " \n",
    "\n",
    "\n",
    "# Plot accuracy (MASE values)\n",
    "plot_performance(accuracy)"
   ]
  },
  {
   "cell_type": "markdown",
   "id": "8837adff",
   "metadata": {},
   "source": [
    "#### TCDF 0-20 years: second run (increased hidden layers by 1, decreased dilation coefficient and kernel size by 1)"
   ]
  },
  {
   "cell_type": "code",
   "execution_count": null,
   "id": "89889fe4",
   "metadata": {},
   "outputs": [],
   "source": [
    "%matplotlib inline\n",
    "\n",
    "# Run TCDF with the selected equilibrium dataset of EBT data\n",
    "\n",
    "%run -i \"runTCDF.py\"  --ground_truth data/power_1_0.1_noisy_EBT_0_20_dataset.csv=data/EBT_demo_groundtruth.csv --learning_rate 0.1 --hidden_layers 3 --epochs 2000 --log_interval 250 --significance 0.9 --dilation_coefficient 3 --kernel_size 3 --seed 94139\n"
   ]
  },
  {
   "cell_type": "code",
   "execution_count": null,
   "id": "34283400",
   "metadata": {},
   "outputs": [],
   "source": [
    "# Run TCDF for predictive accuracy\n",
    "\n",
    "%run -i \"evaluate_predictions_TCDF.py\" --data data/power_1_0.1_noisy_EBT_0_20_dataset.csv --learning_rate 0.1 --hidden_layers 3 --epochs 2000 --log_interval 250 --dilation_coefficient 3 --kernel_size 3 --seed 94139 --plot --train_test_split 0.8"
   ]
  },
  {
   "cell_type": "code",
   "execution_count": null,
   "id": "d3e7ba21",
   "metadata": {},
   "outputs": [],
   "source": [
    "%matplotlib inline\n",
    " \n",
    "\n",
    "\n",
    "# Plot training losses\n",
    "plot_performance(alllosses)"
   ]
  },
  {
   "cell_type": "code",
   "execution_count": null,
   "id": "0addaed4",
   "metadata": {},
   "outputs": [],
   "source": [
    "%matplotlib inline\n",
    " \n",
    "\n",
    "\n",
    "# Plot accuracy (MASE values)\n",
    "plot_performance(accuracy)"
   ]
  },
  {
   "cell_type": "code",
   "execution_count": null,
   "id": "7fd7c23b",
   "metadata": {},
   "outputs": [],
   "source": [
    "%matplotlib inline\n",
    "\n",
    "# Run TCDF with the selected equilibrium dataset of EBT data\n",
    "\n",
    "%run -i \"runTCDF.py\"  --ground_truth data/power_1_0.1_noisy_EBT_0_20_dataset.csv=data/EBT_demo_groundtruth.csv --learning_rate 0.1 --hidden_layers 3 --epochs 2000 --log_interval 250 --significance 0.9 --dilation_coefficient 3 --kernel_size 3 --seed 18147\n"
   ]
  },
  {
   "cell_type": "code",
   "execution_count": null,
   "id": "798794c1",
   "metadata": {},
   "outputs": [],
   "source": [
    "# Run TCDF for predictive accuracy\n",
    "\n",
    "%run -i \"evaluate_predictions_TCDF.py\" --data data/power_1_0.1_noisy_EBT_0_20_dataset.csv --learning_rate 0.1 --hidden_layers 3 --epochs 2000 --log_interval 250 --dilation_coefficient 3 --kernel_size 3 --seed 18147 --plot --train_test_split 0.8"
   ]
  },
  {
   "cell_type": "code",
   "execution_count": null,
   "id": "959abb6b",
   "metadata": {},
   "outputs": [],
   "source": [
    "%matplotlib inline\n",
    " \n",
    "\n",
    "\n",
    "# Plot training losses\n",
    "plot_performance(alllosses)"
   ]
  },
  {
   "cell_type": "code",
   "execution_count": null,
   "id": "8055a40a",
   "metadata": {},
   "outputs": [],
   "source": [
    "%matplotlib inline\n",
    " \n",
    "\n",
    "\n",
    "# Plot accuracy (MASE values)\n",
    "plot_performance(accuracy)"
   ]
  },
  {
   "cell_type": "code",
   "execution_count": null,
   "id": "25cba8c5",
   "metadata": {},
   "outputs": [],
   "source": [
    "%matplotlib inline\n",
    "\n",
    "# Run TCDF with the selected equilibrium dataset of EBT data\n",
    "\n",
    "%run -i \"runTCDF.py\"  --ground_truth data/power_1_0.1_noisy_EBT_0_20_dataset.csv=data/EBT_demo_groundtruth.csv --learning_rate 0.1 --hidden_layers 3 --epochs 2000 --log_interval 250 --significance 0.9 --dilation_coefficient 3 --kernel_size 3 --seed 69089\n"
   ]
  },
  {
   "cell_type": "code",
   "execution_count": null,
   "id": "3cd77a84",
   "metadata": {},
   "outputs": [],
   "source": [
    "# Run TCDF for predictive accuracy\n",
    "\n",
    "%run -i \"evaluate_predictions_TCDF.py\" --data data/power_1_0.1_noisy_EBT_0_20_dataset.csv --learning_rate 0.1 --hidden_layers 3 --epochs 2000 --log_interval 250 --dilation_coefficient 3 --kernel_size 3 --seed 69089 --plot --train_test_split 0.8"
   ]
  },
  {
   "cell_type": "code",
   "execution_count": null,
   "id": "6a442dd9",
   "metadata": {},
   "outputs": [],
   "source": [
    "%matplotlib inline\n",
    " \n",
    "\n",
    "\n",
    "# Plot training losses\n",
    "plot_performance(alllosses)"
   ]
  },
  {
   "cell_type": "code",
   "execution_count": null,
   "id": "8003a69e",
   "metadata": {},
   "outputs": [],
   "source": [
    "%matplotlib inline\n",
    " \n",
    "\n",
    "\n",
    "# Plot accuracy (MASE values)\n",
    "plot_performance(accuracy)"
   ]
  },
  {
   "cell_type": "markdown",
   "id": "03d9b24c",
   "metadata": {},
   "source": [
    "#### 70 - 100 years"
   ]
  },
  {
   "cell_type": "code",
   "execution_count": null,
   "id": "a3339375",
   "metadata": {},
   "outputs": [],
   "source": [
    "# Select data between 70 and 100 years\n",
    "noisy_ebt_70_100 = select_data(noisy_ebt, 70, 100, 'power')\n",
    "\n",
    "# Create file path for new file\n",
    "EBTScaled_path = os.path.join(TCDFdata_path, 'power_1_0.1_noisy_EBT_70_100_dataset.csv')\n",
    "\n",
    "# Write clean dataframe demo_ebt to a new .csv file\n",
    "noisy_ebt_70_100.to_csv(EBTScaled_path, index = False)"
   ]
  },
  {
   "cell_type": "markdown",
   "id": "45c1c9aa",
   "metadata": {},
   "source": [
    "#### TCDF 70-100: first run (in triplicate)"
   ]
  },
  {
   "cell_type": "code",
   "execution_count": null,
   "id": "b82fb8da",
   "metadata": {},
   "outputs": [],
   "source": [
    "%matplotlib inline\n",
    "\n",
    "# Run TCDF with the selected equilibrium dataset of EBT data\n",
    "\n",
    "%run -i \"runTCDF.py\"  --ground_truth data/power_1_0.1_noisy_EBT_70_100_dataset.csv=data/EBT_demo_groundtruth.csv --learning_rate 0.1 --hidden_layers 2 --epochs 2000 --log_interval 250 --significance 0.9 --dilation_coefficient 4 --kernel_size 4 --seed 34321"
   ]
  },
  {
   "cell_type": "code",
   "execution_count": null,
   "id": "aa98755e",
   "metadata": {},
   "outputs": [],
   "source": [
    "# Run TCDF for predictive accuracy\n",
    "\n",
    "%run -i \"evaluate_predictions_TCDF.py\" --data data/power_1_0.1_noisy_EBT_70_100_dataset.csv --learning_rate 0.1 --hidden_layers 2 --epochs 2000 --log_interval 250 --dilation_coefficient 4 --kernel_size 4 --seed 34321 --plot --train_test_split 0.8"
   ]
  },
  {
   "cell_type": "code",
   "execution_count": null,
   "id": "d811cc4f",
   "metadata": {},
   "outputs": [],
   "source": [
    "%matplotlib inline\n",
    " \n",
    "\n",
    "\n",
    "# Plot training losses\n",
    "plot_performance(alllosses)"
   ]
  },
  {
   "cell_type": "code",
   "execution_count": null,
   "id": "38ae79a8",
   "metadata": {},
   "outputs": [],
   "source": [
    "%matplotlib inline\n",
    " \n",
    "\n",
    "\n",
    "# Plot accuracy (MASE values)\n",
    "plot_performance(accuracy)"
   ]
  },
  {
   "cell_type": "code",
   "execution_count": null,
   "id": "95b68a9c",
   "metadata": {},
   "outputs": [],
   "source": [
    "%matplotlib inline\n",
    "\n",
    "# Run TCDF with the selected equilibrium dataset of EBT data\n",
    "\n",
    "%run -i \"runTCDF.py\"  --ground_truth data/power_1_0.1_noisy_EBT_70_100_dataset.csv=data/EBT_demo_groundtruth.csv --learning_rate 0.1 --hidden_layers 2 --epochs 2000 --log_interval 250 --significance 0.9 --dilation_coefficient 4 --kernel_size 4 --seed 85672"
   ]
  },
  {
   "cell_type": "code",
   "execution_count": null,
   "id": "f84cf6e7",
   "metadata": {},
   "outputs": [],
   "source": [
    "# Run TCDF for predictive accuracy\n",
    "\n",
    "%run -i \"evaluate_predictions_TCDF.py\" --data data/power_1_0.1_noisy_EBT_70_100_dataset.csv --learning_rate 0.1 --hidden_layers 2 --epochs 2000 --log_interval 250 --dilation_coefficient 4 --kernel_size 4 --seed 85672 --plot --train_test_split 0.8"
   ]
  },
  {
   "cell_type": "code",
   "execution_count": null,
   "id": "a8adfb0f",
   "metadata": {},
   "outputs": [],
   "source": [
    "%matplotlib inline\n",
    " \n",
    "\n",
    "\n",
    "# Plot training losses\n",
    "plot_performance(alllosses)"
   ]
  },
  {
   "cell_type": "code",
   "execution_count": null,
   "id": "6ad3e2dd",
   "metadata": {},
   "outputs": [],
   "source": [
    "%matplotlib inline\n",
    " \n",
    "\n",
    "\n",
    "# Plot accuracy (MASE values)\n",
    "plot_performance(accuracy)"
   ]
  },
  {
   "cell_type": "code",
   "execution_count": null,
   "id": "841a638c",
   "metadata": {},
   "outputs": [],
   "source": [
    "%matplotlib inline\n",
    "\n",
    "# Run TCDF with the selected equilibrium dataset of EBT data\n",
    "\n",
    "%run -i \"runTCDF.py\"  --ground_truth data/power_1_0.1_noisy_EBT_70_100_dataset.csv=data/EBT_demo_groundtruth.csv --learning_rate 0.1 --hidden_layers 2 --epochs 2000 --log_interval 250 --significance 0.9 --dilation_coefficient 4 --kernel_size 4 --seed 63109"
   ]
  },
  {
   "cell_type": "code",
   "execution_count": null,
   "id": "0b2db813",
   "metadata": {},
   "outputs": [],
   "source": [
    "# Run TCDF for predictive accuracy\n",
    "\n",
    "%run -i \"evaluate_predictions_TCDF.py\" --data data/power_1_0.1_noisy_EBT_70_100_dataset.csv --learning_rate 0.1 --hidden_layers 2 --epochs 2000 --log_interval 250 --dilation_coefficient 4 --kernel_size 4 --seed 63109 --plot --train_test_split 0.8"
   ]
  },
  {
   "cell_type": "code",
   "execution_count": null,
   "id": "3491296b",
   "metadata": {},
   "outputs": [],
   "source": [
    "%matplotlib inline\n",
    " \n",
    "\n",
    "\n",
    "# Plot training losses\n",
    "plot_performance(alllosses)"
   ]
  },
  {
   "cell_type": "code",
   "execution_count": null,
   "id": "89444766",
   "metadata": {},
   "outputs": [],
   "source": [
    "%matplotlib inline\n",
    " \n",
    "\n",
    "\n",
    "# Plot accuracy (MASE values)\n",
    "plot_performance(accuracy)"
   ]
  },
  {
   "cell_type": "markdown",
   "id": "6028eb44",
   "metadata": {},
   "source": [
    "#### TCDF 70-100: second run  (increased hidden layers by 1, decreased dilation coefficient and kernel size by 1)"
   ]
  },
  {
   "cell_type": "code",
   "execution_count": null,
   "id": "8d14898d",
   "metadata": {},
   "outputs": [],
   "source": [
    "%matplotlib inline\n",
    "\n",
    "# Run TCDF with the selected equilibrium dataset of EBT data\n",
    "\n",
    "%run -i \"runTCDF.py\"  --ground_truth data/power_1_0.1_noisy_EBT_70_100_dataset.csv=data/EBT_demo_groundtruth.csv --learning_rate 0.1 --hidden_layers 3 --epochs 2000 --log_interval 250 --significance 0.9 --dilation_coefficient 3 --kernel_size 3 --seed 1238"
   ]
  },
  {
   "cell_type": "code",
   "execution_count": null,
   "id": "6cb1e3f6",
   "metadata": {},
   "outputs": [],
   "source": [
    "# Run TCDF for predictive accuracy\n",
    "\n",
    "%run -i \"evaluate_predictions_TCDF.py\" --data data/power_1_0.1_noisy_EBT_70_100_dataset.csv --learning_rate 0.1 --hidden_layers 3 --epochs 2000 --log_interval 250 --dilation_coefficient 3 --kernel_size 3 --seed 1238 --plot --train_test_split 0.8"
   ]
  },
  {
   "cell_type": "code",
   "execution_count": null,
   "id": "2123a105",
   "metadata": {},
   "outputs": [],
   "source": [
    "%matplotlib inline\n",
    " \n",
    "\n",
    "\n",
    "# Plot training losses\n",
    "plot_performance(alllosses)"
   ]
  },
  {
   "cell_type": "code",
   "execution_count": null,
   "id": "98faf43d",
   "metadata": {},
   "outputs": [],
   "source": [
    "%matplotlib inline\n",
    " \n",
    "\n",
    "\n",
    "# Plot accuracy (MASE values)\n",
    "plot_performance(accuracy)"
   ]
  },
  {
   "cell_type": "code",
   "execution_count": null,
   "id": "371b9b53",
   "metadata": {},
   "outputs": [],
   "source": [
    "%matplotlib inline\n",
    "\n",
    "# Run TCDF with the selected equilibrium dataset of EBT data\n",
    "\n",
    "%run -i \"runTCDF.py\"  --ground_truth data/power_1_0.1_noisy_EBT_70_100_dataset.csv=data/EBT_demo_groundtruth.csv --learning_rate 0.1 --hidden_layers 3 --epochs 2000 --log_interval 250 --significance 0.9 --dilation_coefficient 3 --kernel_size 3 --seed 53988"
   ]
  },
  {
   "cell_type": "code",
   "execution_count": null,
   "id": "dcdc9053",
   "metadata": {},
   "outputs": [],
   "source": [
    "# Run TCDF for predictive accuracy\n",
    "\n",
    "%run -i \"evaluate_predictions_TCDF.py\" --data data/power_1_0.1_noisy_EBT_70_100_dataset.csv --learning_rate 0.1 --hidden_layers 3 --epochs 2000 --log_interval 250 --dilation_coefficient 3 --kernel_size 3 --seed 53988 --plot --train_test_split 0.8"
   ]
  },
  {
   "cell_type": "code",
   "execution_count": null,
   "id": "3c567b64",
   "metadata": {},
   "outputs": [],
   "source": [
    "%matplotlib inline\n",
    " \n",
    "\n",
    "\n",
    "# Plot training losses\n",
    "plot_performance(alllosses)"
   ]
  },
  {
   "cell_type": "code",
   "execution_count": null,
   "id": "13596533",
   "metadata": {},
   "outputs": [],
   "source": [
    "%matplotlib inline\n",
    " \n",
    "\n",
    "\n",
    "# Plot accuracy (MASE values)\n",
    "plot_performance(accuracy)"
   ]
  },
  {
   "cell_type": "code",
   "execution_count": null,
   "id": "7113d123",
   "metadata": {},
   "outputs": [],
   "source": [
    "%matplotlib inline\n",
    "\n",
    "# Run TCDF with the selected equilibrium dataset of EBT data\n",
    "\n",
    "%run -i \"runTCDF.py\"  --ground_truth data/power_1_0.1_noisy_EBT_70_100_dataset.csv=data/EBT_demo_groundtruth.csv --learning_rate 0.1 --hidden_layers 3 --epochs 2000 --log_interval 250 --significance 0.9 --dilation_coefficient 3 --kernel_size 3 --seed 92422"
   ]
  },
  {
   "cell_type": "code",
   "execution_count": null,
   "id": "b6eaf335",
   "metadata": {},
   "outputs": [],
   "source": [
    "# Run TCDF for predictive accuracy\n",
    "\n",
    "%run -i \"evaluate_predictions_TCDF.py\" --data data/power_1_0.1_noisy_EBT_70_100_dataset.csv --learning_rate 0.1 --hidden_layers 3 --epochs 2000 --log_interval 250 --dilation_coefficient 3 --kernel_size 3 --seed 92422 --plot --train_test_split 0.8"
   ]
  },
  {
   "cell_type": "code",
   "execution_count": null,
   "id": "f8028e99",
   "metadata": {},
   "outputs": [],
   "source": [
    "%matplotlib inline\n",
    " \n",
    "\n",
    "\n",
    "# Plot training losses\n",
    "plot_performance(alllosses)"
   ]
  },
  {
   "cell_type": "code",
   "execution_count": null,
   "id": "4d53d521",
   "metadata": {},
   "outputs": [],
   "source": [
    "%matplotlib inline\n",
    " \n",
    "\n",
    "\n",
    "# Plot accuracy (MASE values)\n",
    "plot_performance(accuracy)"
   ]
  },
  {
   "cell_type": "markdown",
   "id": "09a7ef03",
   "metadata": {},
   "source": [
    "#### 20 - 60 years"
   ]
  },
  {
   "cell_type": "code",
   "execution_count": null,
   "id": "3aae8247",
   "metadata": {},
   "outputs": [],
   "source": [
    "# Select data between 20 and 60 years\n",
    "noisy_ebt_20_60 = select_data(noisy_ebt, 20, 60, 'power')\n",
    "\n",
    "# Create file path for new file\n",
    "EBTScaled_path = os.path.join(TCDFdata_path, 'power_1_0.1_noisy_EBT_20_60_dataset.csv')\n",
    "\n",
    "# Write clean dataframe demo_ebt to a new .csv file\n",
    "noisy_ebt_20_60.to_csv(EBTScaled_path, index = False)"
   ]
  },
  {
   "cell_type": "markdown",
   "id": "218118b2",
   "metadata": {},
   "source": [
    "#### TCDF 20-60 years: first run (in triplicate)"
   ]
  },
  {
   "cell_type": "code",
   "execution_count": null,
   "id": "093de8f2",
   "metadata": {},
   "outputs": [],
   "source": [
    "%matplotlib inline\n",
    "\n",
    "# Run TCDF with the selected equilibrium dataset of EBT data\n",
    "\n",
    "%run -i \"runTCDF.py\"  --ground_truth data/power_1_0.1_noisy_EBT_20_60_dataset.csv=data/EBT_demo_groundtruth.csv --learning_rate 0.1 --hidden_layers 3 --epochs 2000 --log_interval 250 --significance 0.9 --dilation_coefficient 3 --kernel_size 3 --seed 24310"
   ]
  },
  {
   "cell_type": "code",
   "execution_count": null,
   "id": "474778fb",
   "metadata": {},
   "outputs": [],
   "source": [
    "# Run TCDF for predictive accuracy\n",
    "\n",
    "%run -i \"evaluate_predictions_TCDF.py\" --data data/power_1_0.1_noisy_EBT_20_60_dataset.csv --learning_rate 0.1 --hidden_layers 3 --epochs 2000 --log_interval 250 --dilation_coefficient 3 --kernel_size 3 --seed 24310 --plot --train_test_split 0.7"
   ]
  },
  {
   "cell_type": "code",
   "execution_count": null,
   "id": "9574edb5",
   "metadata": {},
   "outputs": [],
   "source": [
    "%matplotlib inline\n",
    " \n",
    "\n",
    "\n",
    "# Plot training losses\n",
    "plot_performance(alllosses)"
   ]
  },
  {
   "cell_type": "code",
   "execution_count": null,
   "id": "ec63418b",
   "metadata": {},
   "outputs": [],
   "source": [
    "%matplotlib inline\n",
    " \n",
    "\n",
    "\n",
    "# Plot accuracy (MASE values)\n",
    "plot_performance(accuracy)"
   ]
  },
  {
   "cell_type": "code",
   "execution_count": null,
   "id": "aecb55e5",
   "metadata": {},
   "outputs": [],
   "source": [
    "%matplotlib inline\n",
    "\n",
    "# Run TCDF with the selected equilibrium dataset of EBT data\n",
    "\n",
    "%run -i \"runTCDF.py\"  --ground_truth data/power_1_0.1_noisy_EBT_20_60_dataset.csv=data/EBT_demo_groundtruth.csv --learning_rate 0.1 --hidden_layers 3 --epochs 2000 --log_interval 250 --significance 0.9 --dilation_coefficient 3 --kernel_size 3 --seed 77139"
   ]
  },
  {
   "cell_type": "code",
   "execution_count": null,
   "id": "eb6f8881",
   "metadata": {},
   "outputs": [],
   "source": [
    "# Run TCDF for predictive accuracy\n",
    "\n",
    "%run -i \"evaluate_predictions_TCDF.py\" --data data/power_1_0.1_noisy_EBT_20_60_dataset.csv --learning_rate 0.1 --hidden_layers 3 --epochs 2000 --log_interval 250 --dilation_coefficient 3 --kernel_size 3 --seed 77139 --plot --train_test_split 0.7"
   ]
  },
  {
   "cell_type": "code",
   "execution_count": null,
   "id": "a5d35a84",
   "metadata": {},
   "outputs": [],
   "source": [
    "%matplotlib inline\n",
    " \n",
    "\n",
    "\n",
    "# Plot training losses\n",
    "plot_performance(alllosses)"
   ]
  },
  {
   "cell_type": "code",
   "execution_count": null,
   "id": "192c87b8",
   "metadata": {},
   "outputs": [],
   "source": [
    "%matplotlib inline\n",
    " \n",
    "\n",
    "\n",
    "# Plot accuracy (MASE values)\n",
    "plot_performance(accuracy)"
   ]
  },
  {
   "cell_type": "code",
   "execution_count": null,
   "id": "8a56bb06",
   "metadata": {},
   "outputs": [],
   "source": [
    "%matplotlib inline\n",
    "\n",
    "# Run TCDF with the selected equilibrium dataset of EBT data\n",
    "\n",
    "%run -i \"runTCDF.py\"  --ground_truth data/power_1_0.1_noisy_EBT_20_60_dataset.csv=data/EBT_demo_groundtruth.csv --learning_rate 0.1 --hidden_layers 3 --epochs 2000 --log_interval 250 --significance 0.9 --dilation_coefficient 3 --kernel_size 3 --seed 45184"
   ]
  },
  {
   "cell_type": "code",
   "execution_count": null,
   "id": "39404030",
   "metadata": {},
   "outputs": [],
   "source": [
    "# Run TCDF for predictive accuracy\n",
    "\n",
    "%run -i \"evaluate_predictions_TCDF.py\" --data data/power_1_0.1_noisy_EBT_20_60_dataset.csv --learning_rate 0.1 --hidden_layers 3 --epochs 2000 --log_interval 250 --dilation_coefficient 3 --kernel_size 3 --seed 45184 --plot --train_test_split 0.7"
   ]
  },
  {
   "cell_type": "code",
   "execution_count": null,
   "id": "3a22822c",
   "metadata": {},
   "outputs": [],
   "source": [
    "%matplotlib inline\n",
    " \n",
    "\n",
    "\n",
    "# Plot training losses\n",
    "plot_performance(alllosses)"
   ]
  },
  {
   "cell_type": "code",
   "execution_count": null,
   "id": "a2a187d4",
   "metadata": {},
   "outputs": [],
   "source": [
    "%matplotlib inline\n",
    " \n",
    "\n",
    "\n",
    "# Plot accuracy (MASE values)\n",
    "plot_performance(accuracy)"
   ]
  },
  {
   "cell_type": "markdown",
   "id": "1d504264",
   "metadata": {},
   "source": [
    "#### TCDF 20-60 years: second run  (decreased hidden layers by 1, increased dilation coefficient and kernel size by 1)"
   ]
  },
  {
   "cell_type": "code",
   "execution_count": null,
   "id": "c23a386b",
   "metadata": {},
   "outputs": [],
   "source": [
    "%matplotlib inline\n",
    "\n",
    "# Run TCDF with the selected equilibrium dataset of EBT data\n",
    "\n",
    "%run -i \"runTCDF.py\"  --ground_truth data/power_1_0.1_noisy_EBT_20_60_dataset.csv=data/EBT_demo_groundtruth.csv --learning_rate 0.1 --hidden_layers 2 --epochs 2000 --log_interval 250 --significance 0.9 --dilation_coefficient 4 --kernel_size 4 --seed 78025"
   ]
  },
  {
   "cell_type": "code",
   "execution_count": null,
   "id": "c09f2fb5",
   "metadata": {},
   "outputs": [],
   "source": [
    "# Run TCDF for predictive accuracy\n",
    "\n",
    "%run -i \"evaluate_predictions_TCDF.py\" --data data/power_1_0.1_noisy_EBT_20_60_dataset.csv --learning_rate 0.1 --hidden_layers 2 --epochs 2000 --log_interval 250 --dilation_coefficient 4 --kernel_size 4 --seed 78025 --plot --train_test_split 0.7"
   ]
  },
  {
   "cell_type": "code",
   "execution_count": null,
   "id": "0a4ccb0c",
   "metadata": {},
   "outputs": [],
   "source": [
    "%matplotlib inline\n",
    " \n",
    "\n",
    "\n",
    "# Plot training losses\n",
    "plot_performance(alllosses)"
   ]
  },
  {
   "cell_type": "code",
   "execution_count": null,
   "id": "5a726c58",
   "metadata": {},
   "outputs": [],
   "source": [
    "%matplotlib inline\n",
    " \n",
    "\n",
    "\n",
    "# Plot accuracy (MASE values)\n",
    "plot_performance(accuracy)"
   ]
  },
  {
   "cell_type": "code",
   "execution_count": null,
   "id": "a693c986",
   "metadata": {},
   "outputs": [],
   "source": [
    "%matplotlib inline\n",
    "\n",
    "# Run TCDF with the selected equilibrium dataset of EBT data\n",
    "\n",
    "%run -i \"runTCDF.py\"  --ground_truth data/power_1_0.1_noisy_EBT_20_60_dataset.csv=data/EBT_demo_groundtruth.csv --learning_rate 0.1 --hidden_layers 2 --epochs 2000 --log_interval 250 --significance 0.9 --dilation_coefficient 4 --kernel_size 4 --seed 53391"
   ]
  },
  {
   "cell_type": "code",
   "execution_count": null,
   "id": "d725a4a8",
   "metadata": {},
   "outputs": [],
   "source": [
    "# Run TCDF for predictive accuracy\n",
    "\n",
    "%run -i \"evaluate_predictions_TCDF.py\" --data data/power_1_0.1_noisy_EBT_20_60_dataset.csv --learning_rate 0.1 --hidden_layers 2 --epochs 2000 --log_interval 250 --dilation_coefficient 4 --kernel_size 4 --seed 53391 --plot --train_test_split 0.7"
   ]
  },
  {
   "cell_type": "code",
   "execution_count": null,
   "id": "24fc19f7",
   "metadata": {},
   "outputs": [],
   "source": [
    "%matplotlib inline\n",
    " \n",
    "\n",
    "\n",
    "# Plot training losses\n",
    "plot_performance(alllosses)"
   ]
  },
  {
   "cell_type": "code",
   "execution_count": null,
   "id": "1deddfa6",
   "metadata": {},
   "outputs": [],
   "source": [
    "%matplotlib inline\n",
    " \n",
    "\n",
    "\n",
    "# Plot accuracy (MASE values)\n",
    "plot_performance(accuracy)"
   ]
  },
  {
   "cell_type": "code",
   "execution_count": null,
   "id": "c7b5296e",
   "metadata": {},
   "outputs": [],
   "source": [
    "%matplotlib inline\n",
    "\n",
    "# Run TCDF with the selected equilibrium dataset of EBT data\n",
    "\n",
    "%run -i \"runTCDF.py\"  --ground_truth data/power_1_0.1_noisy_EBT_20_60_dataset.csv=data/EBT_demo_groundtruth.csv --learning_rate 0.1 --hidden_layers 2 --epochs 2000 --log_interval 250 --significance 0.9 --dilation_coefficient 4 --kernel_size 4 --seed 34061"
   ]
  },
  {
   "cell_type": "code",
   "execution_count": null,
   "id": "1f50bc2f",
   "metadata": {},
   "outputs": [],
   "source": [
    "# Run TCDF for predictive accuracy\n",
    "\n",
    "%run -i \"evaluate_predictions_TCDF.py\" --data data/power_1_0.1_noisy_EBT_20_60_dataset.csv --learning_rate 0.1 --hidden_layers 2 --epochs 2000 --log_interval 250 --dilation_coefficient 4 --kernel_size 4 --seed 34061 --plot --train_test_split 0.7"
   ]
  },
  {
   "cell_type": "code",
   "execution_count": null,
   "id": "6da72297",
   "metadata": {},
   "outputs": [],
   "source": [
    "%matplotlib inline\n",
    " \n",
    "\n",
    "\n",
    "# Plot training losses\n",
    "plot_performance(alllosses)"
   ]
  },
  {
   "cell_type": "code",
   "execution_count": null,
   "id": "698fdd51",
   "metadata": {},
   "outputs": [],
   "source": [
    "%matplotlib inline\n",
    " \n",
    "\n",
    "\n",
    "# Plot accuracy (MASE values)\n",
    "plot_performance(accuracy)"
   ]
  },
  {
   "cell_type": "markdown",
   "id": "bfbf1c8c",
   "metadata": {},
   "source": [
    "#### 60 - 70 years"
   ]
  },
  {
   "cell_type": "code",
   "execution_count": null,
   "id": "598eca03",
   "metadata": {},
   "outputs": [],
   "source": [
    "# Select data between 60 and 70 years\n",
    "noisy_ebt_60_70 = select_data(noisy_ebt, 60, 70, 'power')\n",
    "\n",
    "# Create file path for new file\n",
    "EBTScaled_path = os.path.join(TCDFdata_path, 'power_1_0.1_noisy_EBT_60_70_dataset.csv')\n",
    "\n",
    "# Write clean dataframe demo_ebt to a new .csv file\n",
    "noisy_ebt_60_70.to_csv(EBTScaled_path, index = False)"
   ]
  },
  {
   "cell_type": "markdown",
   "id": "aa8c77d0",
   "metadata": {},
   "source": [
    "#### TCDF 60-70 years: first run (in triplicate)"
   ]
  },
  {
   "cell_type": "code",
   "execution_count": null,
   "id": "837107a3",
   "metadata": {},
   "outputs": [],
   "source": [
    "%matplotlib inline\n",
    "\n",
    "# Run TCDF with the selected equilibrium dataset of EBT data\n",
    "\n",
    "%run -i \"runTCDF.py\"  --ground_truth data/power_1_0.1_noisy_EBT_60_70_dataset.csv=data/EBT_demo_groundtruth.csv --learning_rate 0.1 --hidden_layers 3 --epochs 2000 --log_interval 250 --significance 0.9 --dilation_coefficient 3 --kernel_size 3 --seed 2369"
   ]
  },
  {
   "cell_type": "code",
   "execution_count": null,
   "id": "efaf5ef8",
   "metadata": {},
   "outputs": [],
   "source": [
    "# Run TCDF for predictive accuracy\n",
    "\n",
    "%run -i \"evaluate_predictions_TCDF.py\" --data data/power_1_0.1_noisy_EBT_60_70_dataset.csv --learning_rate 0.1 --hidden_layers 3 --epochs 2000 --log_interval 250 --dilation_coefficient 3 --kernel_size 3 --seed 2369 --plot --train_test_split 0.7"
   ]
  },
  {
   "cell_type": "code",
   "execution_count": null,
   "id": "5971fcd6",
   "metadata": {},
   "outputs": [],
   "source": [
    "%matplotlib inline\n",
    " \n",
    "\n",
    "\n",
    "# Plot training losses\n",
    "plot_performance(alllosses)"
   ]
  },
  {
   "cell_type": "code",
   "execution_count": null,
   "id": "93efc3ac",
   "metadata": {},
   "outputs": [],
   "source": [
    "%matplotlib inline\n",
    " \n",
    "\n",
    "\n",
    "# Plot accuracy (MASE values)\n",
    "plot_performance(accuracy)"
   ]
  },
  {
   "cell_type": "code",
   "execution_count": null,
   "id": "9f727f81",
   "metadata": {},
   "outputs": [],
   "source": [
    "%matplotlib inline\n",
    "\n",
    "# Run TCDF with the selected equilibrium dataset of EBT data\n",
    "\n",
    "%run -i \"runTCDF.py\"  --ground_truth data/power_1_0.1_noisy_EBT_60_70_dataset.csv=data/EBT_demo_groundtruth.csv --learning_rate 0.1 --hidden_layers 3 --epochs 2000 --log_interval 250 --significance 0.9 --dilation_coefficient 3 --kernel_size 3 --seed 33520"
   ]
  },
  {
   "cell_type": "code",
   "execution_count": null,
   "id": "e7a803ff",
   "metadata": {},
   "outputs": [],
   "source": [
    "# Run TCDF for predictive accuracy\n",
    "\n",
    "%run -i \"evaluate_predictions_TCDF.py\" --data data/power_1_0.1_noisy_EBT_60_70_dataset.csv --learning_rate 0.1 --hidden_layers 3 --epochs 2000 --log_interval 250 --dilation_coefficient 3 --kernel_size 3 --seed 33520 --plot --train_test_split 0.7"
   ]
  },
  {
   "cell_type": "code",
   "execution_count": null,
   "id": "010522d4",
   "metadata": {},
   "outputs": [],
   "source": [
    "%matplotlib inline\n",
    " \n",
    "\n",
    "\n",
    "# Plot training losses\n",
    "plot_performance(alllosses)"
   ]
  },
  {
   "cell_type": "code",
   "execution_count": null,
   "id": "ab5e8381",
   "metadata": {},
   "outputs": [],
   "source": [
    "%matplotlib inline\n",
    " \n",
    "\n",
    "\n",
    "# Plot accuracy (MASE values)\n",
    "plot_performance(accuracy)"
   ]
  },
  {
   "cell_type": "code",
   "execution_count": null,
   "id": "1d08492c",
   "metadata": {},
   "outputs": [],
   "source": [
    "%matplotlib inline\n",
    "\n",
    "# Run TCDF with the selected equilibrium dataset of EBT data\n",
    "\n",
    "%run -i \"runTCDF.py\"  --ground_truth data/power_1_0.1_noisy_EBT_60_70_dataset.csv=data/EBT_demo_groundtruth.csv --learning_rate 0.1 --hidden_layers 3 --epochs 2000 --log_interval 250 --significance 0.9 --dilation_coefficient 3 --kernel_size 3 --seed 66848"
   ]
  },
  {
   "cell_type": "code",
   "execution_count": null,
   "id": "f6f28712",
   "metadata": {},
   "outputs": [],
   "source": [
    "# Run TCDF for predictive accuracy\n",
    "\n",
    "%run -i \"evaluate_predictions_TCDF.py\" --data data/power_1_0.1_noisy_EBT_60_70_dataset.csv --learning_rate 0.1 --hidden_layers 3 --epochs 2000 --log_interval 250 --dilation_coefficient 3 --kernel_size 3 --seed 66848 --plot --train_test_split 0.7"
   ]
  },
  {
   "cell_type": "code",
   "execution_count": null,
   "id": "eab6bb66",
   "metadata": {},
   "outputs": [],
   "source": [
    "%matplotlib inline\n",
    " \n",
    "\n",
    "\n",
    "# Plot training losses\n",
    "plot_performance(alllosses)"
   ]
  },
  {
   "cell_type": "code",
   "execution_count": null,
   "id": "79f86622",
   "metadata": {},
   "outputs": [],
   "source": [
    "%matplotlib inline\n",
    " \n",
    "\n",
    "\n",
    "# Plot accuracy (MASE values)\n",
    "plot_performance(accuracy)"
   ]
  },
  {
   "cell_type": "markdown",
   "id": "426fcd05",
   "metadata": {},
   "source": [
    "#### TCDF 60-70 years: second run  (decreased hidden layers by 1, increased dilation coefficient and kernel size by 1)"
   ]
  },
  {
   "cell_type": "code",
   "execution_count": null,
   "id": "7f51b2e0",
   "metadata": {},
   "outputs": [],
   "source": [
    "%matplotlib inline\n",
    "\n",
    "# Run TCDF with the selected equilibrium dataset of EBT data\n",
    "\n",
    "%run -i \"runTCDF.py\"  --ground_truth data/power_1_0.1_noisy_EBT_60_70_dataset.csv=data/EBT_demo_groundtruth.csv --learning_rate 0.1 --hidden_layers 2 --epochs 2000 --log_interval 250 --significance 0.9 --dilation_coefficient 4 --kernel_size 4 --seed 2369"
   ]
  },
  {
   "cell_type": "code",
   "execution_count": null,
   "id": "82607eae",
   "metadata": {},
   "outputs": [],
   "source": [
    "# Run TCDF for predictive accuracy\n",
    "\n",
    "%run -i \"evaluate_predictions_TCDF.py\" --data data/power_1_0.1_noisy_EBT_60_70_dataset.csv --learning_rate 0.1 --hidden_layers 2 --epochs 2000 --log_interval 250 --dilation_coefficient 4 --kernel_size 4 --seed 2369 --plot --train_test_split 0.7"
   ]
  },
  {
   "cell_type": "code",
   "execution_count": null,
   "id": "6dbd7cbe",
   "metadata": {},
   "outputs": [],
   "source": [
    "%matplotlib inline\n",
    " \n",
    "\n",
    "\n",
    "# Plot training losses\n",
    "plot_performance(alllosses)"
   ]
  },
  {
   "cell_type": "code",
   "execution_count": null,
   "id": "c755e543",
   "metadata": {},
   "outputs": [],
   "source": [
    "%matplotlib inline\n",
    " \n",
    "\n",
    "\n",
    "# Plot accuracy (MASE values)\n",
    "plot_performance(accuracy)"
   ]
  },
  {
   "cell_type": "code",
   "execution_count": null,
   "id": "241cbaa2",
   "metadata": {},
   "outputs": [],
   "source": [
    "%matplotlib inline\n",
    "\n",
    "# Run TCDF with the selected equilibrium dataset of EBT data\n",
    "\n",
    "%run -i \"runTCDF.py\"  --ground_truth data/power_1_0.1_noisy_EBT_60_70_dataset.csv=data/EBT_demo_groundtruth.csv --learning_rate 0.1 --hidden_layers 2 --epochs 2000 --log_interval 250 --significance 0.9 --dilation_coefficient 4 --kernel_size 4 --seed 21312"
   ]
  },
  {
   "cell_type": "code",
   "execution_count": null,
   "id": "0c671640",
   "metadata": {},
   "outputs": [],
   "source": [
    "# Run TCDF for predictive accuracy\n",
    "\n",
    "%run -i \"evaluate_predictions_TCDF.py\" --data data/power_1_0.1_noisy_EBT_60_70_dataset.csv --learning_rate 0.1 --hidden_layers 2 --epochs 2000 --log_interval 250 --dilation_coefficient 4 --kernel_size 4 --seed 21312 --plot --train_test_split 0.7"
   ]
  },
  {
   "cell_type": "code",
   "execution_count": null,
   "id": "4c299d31",
   "metadata": {},
   "outputs": [],
   "source": [
    "%matplotlib inline\n",
    " \n",
    "\n",
    "\n",
    "# Plot training losses\n",
    "plot_performance(alllosses)"
   ]
  },
  {
   "cell_type": "code",
   "execution_count": null,
   "id": "576817e0",
   "metadata": {},
   "outputs": [],
   "source": [
    "%matplotlib inline\n",
    " \n",
    "\n",
    "\n",
    "# Plot accuracy (MASE values)\n",
    "plot_performance(accuracy)"
   ]
  },
  {
   "cell_type": "code",
   "execution_count": null,
   "id": "a38155a3",
   "metadata": {},
   "outputs": [],
   "source": [
    "%matplotlib inline\n",
    "\n",
    "# Run TCDF with the selected equilibrium dataset of EBT data\n",
    "\n",
    "%run -i \"runTCDF.py\"  --ground_truth data/power_1_0.1_noisy_EBT_60_70_dataset.csv=data/EBT_demo_groundtruth.csv --learning_rate 0.1 --hidden_layers 2 --epochs 2000 --log_interval 250 --significance 0.9 --dilation_coefficient 4 --kernel_size 4 --seed 8023"
   ]
  },
  {
   "cell_type": "code",
   "execution_count": null,
   "id": "38432781",
   "metadata": {},
   "outputs": [],
   "source": [
    "# Run TCDF for predictive accuracy\n",
    "\n",
    "%run -i \"evaluate_predictions_TCDF.py\" --data data/power_1_0.1_noisy_EBT_60_70_dataset.csv --learning_rate 0.1 --hidden_layers 2 --epochs 2000 --log_interval 250 --dilation_coefficient 4 --kernel_size 4 --seed 8023 --plot --train_test_split 0.7"
   ]
  },
  {
   "cell_type": "code",
   "execution_count": null,
   "id": "6cac4234",
   "metadata": {},
   "outputs": [],
   "source": [
    "%matplotlib inline\n",
    " \n",
    "\n",
    "\n",
    "# Plot training losses\n",
    "plot_performance(alllosses)"
   ]
  },
  {
   "cell_type": "code",
   "execution_count": null,
   "id": "57ac758f",
   "metadata": {},
   "outputs": [],
   "source": [
    "%matplotlib inline\n",
    " \n",
    "\n",
    "\n",
    "# Plot accuracy (MASE values)\n",
    "plot_performance(accuracy)"
   ]
  },
  {
   "cell_type": "markdown",
   "id": "c03f55b4",
   "metadata": {},
   "source": [
    "### Signal to Noise ratio 1:1"
   ]
  },
  {
   "cell_type": "code",
   "execution_count": null,
   "id": "f0406c19",
   "metadata": {},
   "outputs": [],
   "source": [
    "# Create new dataset with snr 1:1\n",
    "noisy_ebt = noisy_data(1)"
   ]
  },
  {
   "cell_type": "markdown",
   "id": "a5494bdd",
   "metadata": {},
   "source": [
    "#### 20 - 70 years"
   ]
  },
  {
   "cell_type": "code",
   "execution_count": null,
   "id": "3c8533dd",
   "metadata": {},
   "outputs": [],
   "source": [
    "# Select data between 20 and 70 years\n",
    "noisy_ebt_20_70 = select_data(noisy_ebt, 20, 70, 'power')\n",
    "\n",
    "# Create file path for new file\n",
    "EBTScaled_path = os.path.join(TCDFdata_path, 'power_1_1_noisy_EBT_20_70_dataset.csv')\n",
    "\n",
    "# Write clean dataframe demo_ebt to a new .csv file\n",
    "noisy_ebt_20_70.to_csv(EBTScaled_path, index = False)"
   ]
  },
  {
   "cell_type": "markdown",
   "id": "35eb5721",
   "metadata": {},
   "source": [
    "#### TCDF 20-70 years: first run (in triplicate)"
   ]
  },
  {
   "cell_type": "code",
   "execution_count": null,
   "id": "cb1c5267",
   "metadata": {},
   "outputs": [],
   "source": [
    "%matplotlib inline\n",
    "\n",
    "# Run TCDF with the selected total dataset of EBT data\n",
    "\n",
    "%run -i \"runTCDF.py\"  --ground_truth data/power_1_1_noisy_EBT_20_70_dataset.csv=data/EBT_demo_groundtruth.csv --learning_rate 0.1 --hidden_layers 3 --epochs 2000 --log_interval 250 --significance 0.9 --dilation_coefficient 3 --kernel_size 3 --seed 5678\n"
   ]
  },
  {
   "cell_type": "code",
   "execution_count": null,
   "id": "5b426c35",
   "metadata": {},
   "outputs": [],
   "source": [
    "# Run TCDF for predictive accuracy\n",
    "\n",
    "%run -i \"evaluate_predictions_TCDF.py\" --data data/power_1_1_noisy_EBT_20_70_dataset.csv --learning_rate 0.1 --hidden_layers 3 --epochs 2000 --log_interval 250 --dilation_coefficient 3 --kernel_size 3 --seed 5467 --plot --train_test_split 0.5"
   ]
  },
  {
   "cell_type": "code",
   "execution_count": null,
   "id": "f06f6667",
   "metadata": {},
   "outputs": [],
   "source": [
    "%matplotlib inline\n",
    "\n",
    "# Run TCDF with the selected total dataset of EBT data\n",
    "\n",
    "%run -i \"runTCDF.py\"  --ground_truth data/power_1_1_noisy_EBT_20_70_dataset.csv=data/EBT_demo_groundtruth.csv --learning_rate 0.1 --hidden_layers 3 --epochs 2000 --log_interval 250 --significance 0.9 --dilation_coefficient 3 --kernel_size 3 --seed 2371\n"
   ]
  },
  {
   "cell_type": "code",
   "execution_count": null,
   "id": "ee4923fa",
   "metadata": {},
   "outputs": [],
   "source": [
    "# Run TCDF for predictive accuracy\n",
    "\n",
    "%run -i \"evaluate_predictions_TCDF.py\" --data data/power_1_1_noisy_EBT_20_70_dataset.csv --learning_rate 0.1 --hidden_layers 3 --epochs 2000 --log_interval 250 --dilation_coefficient 3 --kernel_size 3 --seed 2371 --plot --train_test_split 0.5"
   ]
  },
  {
   "cell_type": "code",
   "execution_count": null,
   "id": "a60b964b",
   "metadata": {},
   "outputs": [],
   "source": [
    "%matplotlib inline\n",
    "\n",
    "# Run TCDF with the selected total dataset of EBT data\n",
    "\n",
    "%run -i \"runTCDF.py\"  --ground_truth data/power_1_1_noisy_EBT_20_70_dataset.csv=data/EBT_demo_groundtruth.csv --learning_rate 0.1 --hidden_layers 3 --epochs 2000 --log_interval 250 --significance 0.9 --dilation_coefficient 3 --kernel_size 3 --seed 1084\n"
   ]
  },
  {
   "cell_type": "code",
   "execution_count": null,
   "id": "ff4e7798",
   "metadata": {},
   "outputs": [],
   "source": [
    "# Run TCDF for predictive accuracy\n",
    "\n",
    "%run -i \"evaluate_predictions_TCDF.py\" --data data/power_1_1_noisy_EBT_20_70_dataset.csv --learning_rate 0.1 --hidden_layers 3 --epochs 2000 --log_interval 250 --dilation_coefficient 3 --kernel_size 3 --seed 1048 --plot --train_test_split 0.5"
   ]
  },
  {
   "cell_type": "code",
   "execution_count": null,
   "id": "782ca491",
   "metadata": {},
   "outputs": [],
   "source": [
    "%matplotlib inline\n",
    " \n",
    "\n",
    "\n",
    "# Plot training losses\n",
    "plot_performance(alllosses)"
   ]
  },
  {
   "cell_type": "code",
   "execution_count": null,
   "id": "9e31aa67",
   "metadata": {},
   "outputs": [],
   "source": [
    "%matplotlib inline\n",
    " \n",
    "\n",
    "\n",
    "# Plot accuracy (MASE values)\n",
    "plot_performance(accuracy)"
   ]
  },
  {
   "cell_type": "markdown",
   "id": "d3a33da0",
   "metadata": {},
   "source": [
    "#### TCDF 20-70 years: second run (decreased hidden layers by 1, incremented dilation coefficient and kernel size by 1)"
   ]
  },
  {
   "cell_type": "code",
   "execution_count": null,
   "id": "512656c6",
   "metadata": {},
   "outputs": [],
   "source": [
    "%matplotlib inline\n",
    "\n",
    "# Run TCDF with the selected total dataset of EBT data\n",
    "\n",
    "%run -i \"runTCDF.py\"  --ground_truth data/power_1_1_noisy_EBT_20_70_dataset.csv=data/EBT_demo_groundtruth.csv --learning_rate 0.1 --hidden_layers 2 --epochs 2000 --log_interval 250 --significance 0.9 --dilation_coefficient 4 --kernel_size 4 --seed 5467\n"
   ]
  },
  {
   "cell_type": "code",
   "execution_count": null,
   "id": "859c3cc0",
   "metadata": {},
   "outputs": [],
   "source": [
    "# Run TCDF for predictive accuracy\n",
    "\n",
    "%run -i \"evaluate_predictions_TCDF.py\" --data data/power_1_1_noisy_EBT_20_70_dataset.csv --learning_rate 0.1 --hidden_layers 2 --epochs 2000 --log_interval 250 --dilation_coefficient 4 --kernel_size 4 --seed 5467 --plot --train_test_split 0.5"
   ]
  },
  {
   "cell_type": "code",
   "execution_count": null,
   "id": "8c95c21c",
   "metadata": {},
   "outputs": [],
   "source": [
    "%matplotlib inline\n",
    "\n",
    "# Run TCDF with the selected total dataset of EBT data\n",
    "\n",
    "%run -i \"runTCDF.py\"  --ground_truth data/power_1_1_noisy_EBT_20_70_dataset.csv=data/EBT_demo_groundtruth.csv --learning_rate 0.1 --hidden_layers 2 --epochs 2000 --log_interval 250 --significance 0.9 --dilation_coefficient 4 --kernel_size 4 --seed 9238\n"
   ]
  },
  {
   "cell_type": "code",
   "execution_count": null,
   "id": "fa2f8262",
   "metadata": {},
   "outputs": [],
   "source": [
    "# Run TCDF for predictive accuracy\n",
    "\n",
    "%run -i \"evaluate_predictions_TCDF.py\" --data data/power_1_1_noisy_EBT_20_70_dataset.csv --learning_rate 0.1 --hidden_layers 2 --epochs 2000 --log_interval 250 --dilation_coefficient 4 --kernel_size 4 --seed 9238 --plot --train_test_split 0.5"
   ]
  },
  {
   "cell_type": "code",
   "execution_count": null,
   "id": "841373e6",
   "metadata": {},
   "outputs": [],
   "source": [
    "%matplotlib inline\n",
    "\n",
    "# Run TCDF with the selected total dataset of EBT data\n",
    "\n",
    "%run -i \"runTCDF.py\"  --ground_truth data/power_1_1_noisy_EBT_20_70_dataset.csv=data/EBT_demo_groundtruth.csv --learning_rate 0.1 --hidden_layers 2 --epochs 2000 --log_interval 250 --significance 0.9 --dilation_coefficient 4 --kernel_size 4 --seed 157\n"
   ]
  },
  {
   "cell_type": "code",
   "execution_count": null,
   "id": "d7fe0b07",
   "metadata": {},
   "outputs": [],
   "source": [
    "# Run TCDF for predictive accuracy\n",
    "\n",
    "%run -i \"evaluate_predictions_TCDF.py\" --data data/power_1_1_noisy_EBT_20_70_dataset.csv --learning_rate 0.1 --hidden_layers 2 --epochs 2000 --log_interval 250 --dilation_coefficient 4 --kernel_size 4 --seed 157 --plot --train_test_split 0.5"
   ]
  },
  {
   "cell_type": "code",
   "execution_count": null,
   "id": "09430046",
   "metadata": {},
   "outputs": [],
   "source": [
    "%matplotlib inline\n",
    " \n",
    "\n",
    "\n",
    "# Plot training losses\n",
    "plot_performance(alllosses)"
   ]
  },
  {
   "cell_type": "code",
   "execution_count": null,
   "id": "653309db",
   "metadata": {},
   "outputs": [],
   "source": [
    "%matplotlib inline\n",
    " \n",
    "\n",
    "\n",
    "# Plot accuracy (MASE values)\n",
    "plot_performance(accuracy)"
   ]
  },
  {
   "cell_type": "markdown",
   "id": "292377a4",
   "metadata": {},
   "source": [
    "#### 0 - 100 years"
   ]
  },
  {
   "cell_type": "code",
   "execution_count": null,
   "id": "fcf82970",
   "metadata": {},
   "outputs": [],
   "source": [
    "# Select data between 0 and 100 years\n",
    "noisy_ebt_0_100 = select_data(noisy_ebt, 0, 100, 'power')\n",
    "\n",
    "# Create file path for new file\n",
    "EBTScaled_path = os.path.join(TCDFdata_path, 'power_1_1_noisy_EBT_0_100_dataset.csv')\n",
    "\n",
    "# Write clean dataframe demo_ebt to a new .csv file\n",
    "noisy_ebt_0_100.to_csv(EBTScaled_path, index = False)"
   ]
  },
  {
   "cell_type": "markdown",
   "id": "c6df0871",
   "metadata": {},
   "source": [
    "#### TCDF 0-100 years: first run (in triplicate)"
   ]
  },
  {
   "cell_type": "code",
   "execution_count": null,
   "id": "9e41acf3",
   "metadata": {},
   "outputs": [],
   "source": [
    "%matplotlib inline\n",
    "\n",
    "# Run TCDF with the selected total dataset of EBT data\n",
    "\n",
    "%run -i \"runTCDF.py\"  --ground_truth data/power_1_1_noisy_EBT_0_100_dataset.csv=data/EBT_demo_groundtruth.csv --learning_rate 0.1 --hidden_layers 2 --epochs 2000 --log_interval 250 --significance 0.9 --dilation_coefficient 4 --kernel_size 4 --seed 37519"
   ]
  },
  {
   "cell_type": "code",
   "execution_count": null,
   "id": "af56bfac",
   "metadata": {},
   "outputs": [],
   "source": [
    "# Run TCDF for predictive accuracy\n",
    "\n",
    "%run -i \"evaluate_predictions_TCDF.py\" --data data/power_1_1_noisy_EBT_0_100_dataset.csv --learning_rate 0.1 --hidden_layers 2 --epochs 2000 --log_interval 250 --dilation_coefficient 4 --kernel_size 4 --seed 37519 --plot --train_test_split 0.4"
   ]
  },
  {
   "cell_type": "code",
   "execution_count": null,
   "id": "1ab94bc3",
   "metadata": {},
   "outputs": [],
   "source": [
    "%matplotlib inline\n",
    " \n",
    "\n",
    "\n",
    "# Plot training losses\n",
    "plot_performance(alllosses)"
   ]
  },
  {
   "cell_type": "code",
   "execution_count": null,
   "id": "c8c01f5c",
   "metadata": {},
   "outputs": [],
   "source": [
    "%matplotlib inline\n",
    " \n",
    "\n",
    "\n",
    "# Plot training losses\n",
    "plot_performance(accuracy)"
   ]
  },
  {
   "cell_type": "code",
   "execution_count": null,
   "id": "eb8a3b42",
   "metadata": {},
   "outputs": [],
   "source": [
    "%matplotlib inline\n",
    "\n",
    "# Run TCDF with the selected total dataset of EBT data\n",
    "\n",
    "%run -i \"runTCDF.py\"  --ground_truth data/power_1_1_noisy_EBT_0_100_dataset.csv=data/EBT_demo_groundtruth.csv --learning_rate 0.1 --hidden_layers 2 --epochs 2000 --log_interval 250 --significance 0.9 --dilation_coefficient 4 --kernel_size 4 --seed 15787"
   ]
  },
  {
   "cell_type": "code",
   "execution_count": null,
   "id": "ad27c353",
   "metadata": {},
   "outputs": [],
   "source": [
    "# Run TCDF for predictive accuracy\n",
    "\n",
    "%run -i \"evaluate_predictions_TCDF.py\" --data data/power_1_1_noisy_EBT_0_100_dataset.csv --learning_rate 0.1 --hidden_layers 2 --epochs 2000 --log_interval 250 --dilation_coefficient 4 --kernel_size 4 --seed 15787 --plot --train_test_split 0.4"
   ]
  },
  {
   "cell_type": "code",
   "execution_count": null,
   "id": "6e50683f",
   "metadata": {},
   "outputs": [],
   "source": [
    "%matplotlib inline\n",
    " \n",
    "\n",
    "\n",
    "# Plot training losses\n",
    "plot_performance(alllosses)"
   ]
  },
  {
   "cell_type": "code",
   "execution_count": null,
   "id": "748ee265",
   "metadata": {},
   "outputs": [],
   "source": [
    "%matplotlib inline\n",
    " \n",
    "\n",
    "\n",
    "# Plot training losses\n",
    "plot_performance(accuracy)"
   ]
  },
  {
   "cell_type": "code",
   "execution_count": null,
   "id": "27302603",
   "metadata": {},
   "outputs": [],
   "source": [
    "%matplotlib inline\n",
    "\n",
    "# Run TCDF with the selected total dataset of EBT data\n",
    "\n",
    "%run -i \"runTCDF.py\"  --ground_truth data/power_1_1_noisy_EBT_0_100_dataset.csv=data/EBT_demo_groundtruth.csv --learning_rate 0.1 --hidden_layers 2 --epochs 2000 --log_interval 250 --significance 0.9 --dilation_coefficient 4 --kernel_size 4 --seed 74326"
   ]
  },
  {
   "cell_type": "code",
   "execution_count": null,
   "id": "e1f60005",
   "metadata": {},
   "outputs": [],
   "source": [
    "# Run TCDF for predictive accuracy\n",
    "\n",
    "%run -i \"evaluate_predictions_TCDF.py\" --data data/power_1_1_noisy_EBT_0_100_dataset.csv --learning_rate 0.1 --hidden_layers 2 --epochs 2000 --log_interval 250 --dilation_coefficient 4 --kernel_size 4 --seed 74326 --plot --train_test_split 0.4"
   ]
  },
  {
   "cell_type": "code",
   "execution_count": null,
   "id": "cbba46fc",
   "metadata": {},
   "outputs": [],
   "source": [
    "%matplotlib inline\n",
    " \n",
    "\n",
    "\n",
    "# Plot training losses\n",
    "plot_performance(alllosses)"
   ]
  },
  {
   "cell_type": "code",
   "execution_count": null,
   "id": "e5498f44",
   "metadata": {},
   "outputs": [],
   "source": [
    "%matplotlib inline\n",
    " \n",
    "\n",
    "\n",
    "# Plot training losses\n",
    "plot_performance(accuracy)"
   ]
  },
  {
   "cell_type": "markdown",
   "id": "a3035480",
   "metadata": {},
   "source": [
    "#### TCDF 0-100 years: second run (increased hidden layers by 1, decreased dilation coefficient and kernel size by 1)"
   ]
  },
  {
   "cell_type": "code",
   "execution_count": null,
   "id": "039f86d0",
   "metadata": {},
   "outputs": [],
   "source": [
    "%matplotlib inline\n",
    "\n",
    "# Run TCDF with the selected total dataset of EBT data\n",
    "\n",
    "%run -i \"runTCDF.py\"  --ground_truth data/power_1_1_noisy_EBT_0_100_dataset.csv=data/EBT_demo_groundtruth.csv --learning_rate 0.1 --hidden_layers 3 --epochs 2000 --log_interval 250 --significance 0.9 --dilation_coefficient 3 --kernel_size 3 --seed 1111"
   ]
  },
  {
   "cell_type": "code",
   "execution_count": null,
   "id": "bdab0637",
   "metadata": {},
   "outputs": [],
   "source": [
    "# Run TCDF for predictive accuracy\n",
    "\n",
    "%run -i \"evaluate_predictions_TCDF.py\" --data data/power_1_1_noisy_EBT_0_100_dataset.csv --learning_rate 0.1 --hidden_layers 3 --epochs 2000 --log_interval 250 --dilation_coefficient 3 --kernel_size 3 --seed 1111 --plot --train_test_split 0.4"
   ]
  },
  {
   "cell_type": "code",
   "execution_count": null,
   "id": "d81d6015",
   "metadata": {},
   "outputs": [],
   "source": [
    "%matplotlib inline\n",
    " \n",
    "\n",
    "\n",
    "# Plot training losses\n",
    "plot_performance(alllosses)"
   ]
  },
  {
   "cell_type": "code",
   "execution_count": null,
   "id": "91d4952d",
   "metadata": {},
   "outputs": [],
   "source": [
    "%matplotlib inline\n",
    " \n",
    "\n",
    "\n",
    "# Plot training losses\n",
    "plot_performance(accuracy)"
   ]
  },
  {
   "cell_type": "code",
   "execution_count": null,
   "id": "8ff65a48",
   "metadata": {},
   "outputs": [],
   "source": [
    "%matplotlib inline\n",
    "\n",
    "# Run TCDF with the selected total dataset of EBT data\n",
    "\n",
    "%run -i \"runTCDF.py\"  --ground_truth data/power_1_1_noisy_EBT_0_100_dataset.csv=data/EBT_demo_groundtruth.csv --learning_rate 0.1 --hidden_layers 3 --epochs 2000 --log_interval 250 --significance 0.9 --dilation_coefficient 3 --kernel_size 3 --seed 18040"
   ]
  },
  {
   "cell_type": "code",
   "execution_count": null,
   "id": "dba33414",
   "metadata": {},
   "outputs": [],
   "source": [
    "# Run TCDF for predictive accuracy\n",
    "\n",
    "%run -i \"evaluate_predictions_TCDF.py\" --data data/power_1_1_noisy_EBT_0_100_dataset.csv --learning_rate 0.1 --hidden_layers 3 --epochs 2000 --log_interval 250 --dilation_coefficient 3 --kernel_size 3 --seed 18040 --plot --train_test_split 0.4"
   ]
  },
  {
   "cell_type": "code",
   "execution_count": null,
   "id": "b302683d",
   "metadata": {},
   "outputs": [],
   "source": [
    "%matplotlib inline\n",
    " \n",
    "\n",
    "\n",
    "# Plot training losses\n",
    "plot_performance(alllosses)"
   ]
  },
  {
   "cell_type": "code",
   "execution_count": null,
   "id": "dfc720e3",
   "metadata": {},
   "outputs": [],
   "source": [
    "%matplotlib inline\n",
    " \n",
    "\n",
    "\n",
    "# Plot training losses\n",
    "plot_performance(accuracy)"
   ]
  },
  {
   "cell_type": "code",
   "execution_count": null,
   "id": "fd0f28ef",
   "metadata": {},
   "outputs": [],
   "source": [
    "%matplotlib inline\n",
    "\n",
    "# Run TCDF with the selected total dataset of EBT data\n",
    "\n",
    "%run -i \"runTCDF.py\"  --ground_truth data/power_1_1_noisy_EBT_0_100_dataset.csv=data/EBT_demo_groundtruth.csv --learning_rate 0.1 --hidden_layers 3 --epochs 2000 --log_interval 250 --significance 0.9 --dilation_coefficient 3 --kernel_size 3 --seed 86547"
   ]
  },
  {
   "cell_type": "code",
   "execution_count": null,
   "id": "dae2101d",
   "metadata": {},
   "outputs": [],
   "source": [
    "# Run TCDF for predictive accuracy\n",
    "\n",
    "%run -i \"evaluate_predictions_TCDF.py\" --data data/power_1_1_noisy_EBT_0_100_dataset.csv --learning_rate 0.1 --hidden_layers 3 --epochs 2000 --log_interval 250 --dilation_coefficient 3 --kernel_size 3 --seed 86547 --plot --train_test_split 0.4"
   ]
  },
  {
   "cell_type": "code",
   "execution_count": null,
   "id": "c070e791",
   "metadata": {},
   "outputs": [],
   "source": [
    "%matplotlib inline\n",
    " \n",
    "\n",
    "\n",
    "# Plot training losses\n",
    "plot_performance(alllosses)"
   ]
  },
  {
   "cell_type": "code",
   "execution_count": null,
   "id": "5aa46c29",
   "metadata": {},
   "outputs": [],
   "source": [
    "%matplotlib inline\n",
    " \n",
    "\n",
    "\n",
    "# Plot training losses\n",
    "plot_performance(accuracy)"
   ]
  },
  {
   "cell_type": "markdown",
   "id": "05af80d5",
   "metadata": {},
   "source": [
    "#### 0 - 20 years"
   ]
  },
  {
   "cell_type": "code",
   "execution_count": null,
   "id": "cd86f3a3",
   "metadata": {},
   "outputs": [],
   "source": [
    "# Select data between 0 and 20 years\n",
    "noisy_ebt_0_20 = select_data(noisy_ebt, 0, 20, 'power')\n",
    "\n",
    "# Create file path for new file\n",
    "EBTScaled_path = os.path.join(TCDFdata_path, 'power_1_1_noisy_EBT_0_20_dataset.csv')\n",
    "\n",
    "# Write clean dataframe demo_ebt to a new .csv file\n",
    "noisy_ebt_0_20.to_csv(EBTScaled_path, index = False)"
   ]
  },
  {
   "cell_type": "markdown",
   "id": "8c35fa24",
   "metadata": {},
   "source": [
    "#### TCDF 0 - 20 years: first run (in triplicate)"
   ]
  },
  {
   "cell_type": "code",
   "execution_count": null,
   "id": "fb564830",
   "metadata": {},
   "outputs": [],
   "source": [
    "%matplotlib inline\n",
    "\n",
    "# Run TCDF with the selected equilibrium dataset of EBT data\n",
    "\n",
    "%run -i \"runTCDF.py\"  --ground_truth data/power_1_1_noisy_EBT_0_20_dataset.csv=data/EBT_demo_groundtruth.csv --learning_rate 0.1 --hidden_layers 2 --epochs 2000 --log_interval 250 --significance 0.9 --dilation_coefficient 4 --kernel_size 4 --seed 37519"
   ]
  },
  {
   "cell_type": "code",
   "execution_count": null,
   "id": "76439e4b",
   "metadata": {},
   "outputs": [],
   "source": [
    "# Run TCDF for predictive accuracy\n",
    "\n",
    "%run -i \"evaluate_predictions_TCDF.py\" --data data/power_1_1_noisy_EBT_0_20_dataset.csv --learning_rate 0.1 --hidden_layers 2 --epochs 2000 --log_interval 250 --dilation_coefficient 4 --kernel_size 4 --seed 37519 --plot --train_test_split 0.8"
   ]
  },
  {
   "cell_type": "code",
   "execution_count": null,
   "id": "767bec46",
   "metadata": {},
   "outputs": [],
   "source": [
    "%matplotlib inline\n",
    " \n",
    "\n",
    "\n",
    "# Plot training losses\n",
    "plot_performance(alllosses)"
   ]
  },
  {
   "cell_type": "code",
   "execution_count": null,
   "id": "b6e95a88",
   "metadata": {},
   "outputs": [],
   "source": [
    "%matplotlib inline\n",
    " \n",
    "\n",
    "\n",
    "# Plot accuracy (MASE values)\n",
    "plot_performance(accuracy)"
   ]
  },
  {
   "cell_type": "code",
   "execution_count": null,
   "id": "4a3ed45b",
   "metadata": {},
   "outputs": [],
   "source": [
    "%matplotlib inline\n",
    "\n",
    "# Run TCDF with the selected equilibrium dataset of EBT data\n",
    "\n",
    "%run -i \"runTCDF.py\"  --ground_truth data/power_1_1_noisy_EBT_0_20_dataset.csv=data/EBT_demo_groundtruth.csv --learning_rate 0.1 --hidden_layers 2 --epochs 2000 --log_interval 250 --significance 0.9 --dilation_coefficient 4 --kernel_size 4 --seed 49741"
   ]
  },
  {
   "cell_type": "code",
   "execution_count": null,
   "id": "cdeb72bd",
   "metadata": {},
   "outputs": [],
   "source": [
    "# Run TCDF for predictive accuracy\n",
    "\n",
    "%run -i \"evaluate_predictions_TCDF.py\" --data data/power_1_1_noisy_EBT_0_20_dataset.csv --learning_rate 0.1 --hidden_layers 2 --epochs 2000 --log_interval 250 --dilation_coefficient 4 --kernel_size 4 --seed 49741 --plot --train_test_split 0.8"
   ]
  },
  {
   "cell_type": "code",
   "execution_count": null,
   "id": "f9e52c64",
   "metadata": {},
   "outputs": [],
   "source": [
    "%matplotlib inline\n",
    " \n",
    "\n",
    "\n",
    "# Plot training losses\n",
    "plot_performance(alllosses)"
   ]
  },
  {
   "cell_type": "code",
   "execution_count": null,
   "id": "8776aae8",
   "metadata": {},
   "outputs": [],
   "source": [
    "%matplotlib inline\n",
    " \n",
    "\n",
    "\n",
    "# Plot accuracy (MASE values)\n",
    "plot_performance(accuracy)"
   ]
  },
  {
   "cell_type": "code",
   "execution_count": null,
   "id": "5bed3804",
   "metadata": {},
   "outputs": [],
   "source": [
    "%matplotlib inline\n",
    "\n",
    "# Run TCDF with the selected equilibrium dataset of EBT data\n",
    "\n",
    "%run -i \"runTCDF.py\"  --ground_truth data/power_1_1_noisy_EBT_0_20_dataset.csv=data/EBT_demo_groundtruth.csv --learning_rate 0.1 --hidden_layers 2 --epochs 2000 --log_interval 250 --significance 0.9 --dilation_coefficient 4 --kernel_size 4 --seed 37786"
   ]
  },
  {
   "cell_type": "code",
   "execution_count": null,
   "id": "c78e6721",
   "metadata": {},
   "outputs": [],
   "source": [
    "# Run TCDF for predictive accuracy\n",
    "\n",
    "%run -i \"evaluate_predictions_TCDF.py\" --data data/power_1_1_noisy_EBT_0_20_dataset.csv --learning_rate 0.1 --hidden_layers 2 --epochs 2000 --log_interval 250 --dilation_coefficient 4 --kernel_size 4 --seed 37786 --plot --train_test_split 0.8"
   ]
  },
  {
   "cell_type": "code",
   "execution_count": null,
   "id": "1e12feb5",
   "metadata": {},
   "outputs": [],
   "source": [
    "%matplotlib inline\n",
    " \n",
    "\n",
    "\n",
    "# Plot training losses\n",
    "plot_performance(alllosses)"
   ]
  },
  {
   "cell_type": "code",
   "execution_count": null,
   "id": "fb056c41",
   "metadata": {},
   "outputs": [],
   "source": [
    "%matplotlib inline\n",
    " \n",
    "\n",
    "\n",
    "# Plot accuracy (MASE values)\n",
    "plot_performance(accuracy)"
   ]
  },
  {
   "cell_type": "markdown",
   "id": "e8a90cef",
   "metadata": {},
   "source": [
    "#### TCDF 0-20 years: second run (increased hidden layers by 1, decreased dilation coefficient and kernel size by 1)"
   ]
  },
  {
   "cell_type": "code",
   "execution_count": null,
   "id": "14062d2d",
   "metadata": {},
   "outputs": [],
   "source": [
    "%matplotlib inline\n",
    "\n",
    "# Run TCDF with the selected equilibrium dataset of EBT data\n",
    "\n",
    "%run -i \"runTCDF.py\"  --ground_truth data/power_1_1_noisy_EBT_0_20_dataset.csv=data/EBT_demo_groundtruth.csv --learning_rate 0.1 --hidden_layers 3 --epochs 2000 --log_interval 250 --significance 0.9 --dilation_coefficient 3 --kernel_size 3 --seed 94139\n"
   ]
  },
  {
   "cell_type": "code",
   "execution_count": null,
   "id": "6c424e5d",
   "metadata": {},
   "outputs": [],
   "source": [
    "# Run TCDF for predictive accuracy\n",
    "\n",
    "%run -i \"evaluate_predictions_TCDF.py\" --data data/power_1_1_noisy_EBT_0_20_dataset.csv --learning_rate 0.1 --hidden_layers 3 --epochs 2000 --log_interval 250 --dilation_coefficient 3 --kernel_size 3 --seed 94139 --plot --train_test_split 0.8"
   ]
  },
  {
   "cell_type": "code",
   "execution_count": null,
   "id": "79ccbfc2",
   "metadata": {},
   "outputs": [],
   "source": [
    "%matplotlib inline\n",
    " \n",
    "\n",
    "\n",
    "# Plot training losses\n",
    "plot_performance(alllosses)"
   ]
  },
  {
   "cell_type": "code",
   "execution_count": null,
   "id": "39d83344",
   "metadata": {},
   "outputs": [],
   "source": [
    "%matplotlib inline\n",
    " \n",
    "\n",
    "\n",
    "# Plot accuracy (MASE values)\n",
    "plot_performance(accuracy)"
   ]
  },
  {
   "cell_type": "code",
   "execution_count": null,
   "id": "2a422e66",
   "metadata": {},
   "outputs": [],
   "source": [
    "%matplotlib inline\n",
    "\n",
    "# Run TCDF with the selected equilibrium dataset of EBT data\n",
    "\n",
    "%run -i \"runTCDF.py\"  --ground_truth data/power_1_1_noisy_EBT_0_20_dataset.csv=data/EBT_demo_groundtruth.csv --learning_rate 0.1 --hidden_layers 3 --epochs 2000 --log_interval 250 --significance 0.9 --dilation_coefficient 3 --kernel_size 3 --seed 18147\n"
   ]
  },
  {
   "cell_type": "code",
   "execution_count": null,
   "id": "9f49413f",
   "metadata": {},
   "outputs": [],
   "source": [
    "# Run TCDF for predictive accuracy\n",
    "\n",
    "%run -i \"evaluate_predictions_TCDF.py\" --data data/power_1_1_noisy_EBT_0_20_dataset.csv --learning_rate 0.1 --hidden_layers 3 --epochs 2000 --log_interval 250 --dilation_coefficient 3 --kernel_size 3 --seed 18147 --plot --train_test_split 0.8"
   ]
  },
  {
   "cell_type": "code",
   "execution_count": null,
   "id": "746ca94e",
   "metadata": {},
   "outputs": [],
   "source": [
    "%matplotlib inline\n",
    "# Plot training losses\n",
    "plot_performance(alllosses)"
   ]
  },
  {
   "cell_type": "code",
   "execution_count": null,
   "id": "bc183fbc",
   "metadata": {},
   "outputs": [],
   "source": [
    "%matplotlib inline\n",
    "# Plot accuracy (MASE values)\n",
    "plot_performance(accuracy)"
   ]
  },
  {
   "cell_type": "code",
   "execution_count": null,
   "id": "520bcfad",
   "metadata": {},
   "outputs": [],
   "source": [
    "%matplotlib inline\n",
    "\n",
    "# Run TCDF with the selected equilibrium dataset of EBT data\n",
    "\n",
    "%run -i \"runTCDF.py\"  --ground_truth data/power_1_1_noisy_EBT_0_20_dataset.csv=data/EBT_demo_groundtruth.csv --learning_rate 0.1 --hidden_layers 3 --epochs 2000 --log_interval 250 --significance 0.9 --dilation_coefficient 3 --kernel_size 3 --seed 69089\n"
   ]
  },
  {
   "cell_type": "code",
   "execution_count": null,
   "id": "d2ae14bb",
   "metadata": {},
   "outputs": [],
   "source": [
    "# Run TCDF for predictive accuracy\n",
    "\n",
    "%run -i \"evaluate_predictions_TCDF.py\" --data data/power_1_1_noisy_EBT_0_20_dataset.csv --learning_rate 0.1 --hidden_layers 3 --epochs 2000 --log_interval 250 --dilation_coefficient 3 --kernel_size 3 --seed 69089 --plot --train_test_split 0.8"
   ]
  },
  {
   "cell_type": "code",
   "execution_count": null,
   "id": "0f09ad38",
   "metadata": {},
   "outputs": [],
   "source": [
    "%matplotlib inline\n",
    "# Plot training losses\n",
    "plot_performance(alllosses)"
   ]
  },
  {
   "cell_type": "code",
   "execution_count": null,
   "id": "61540899",
   "metadata": {},
   "outputs": [],
   "source": [
    "%matplotlib inline\n",
    "# Plot accuracy (MASE values)\n",
    "plot_performance(accuracy)"
   ]
  },
  {
   "cell_type": "markdown",
   "id": "04c4c6d4",
   "metadata": {},
   "source": [
    "#### 70 - 100 years"
   ]
  },
  {
   "cell_type": "code",
   "execution_count": null,
   "id": "ba0d6c88",
   "metadata": {},
   "outputs": [],
   "source": [
    "# Select data between 70 and 100 years\n",
    "noisy_ebt_70_100 = select_data(noisy_ebt, 70, 100, 'power')\n",
    "\n",
    "# Create file path for new file\n",
    "EBTScaled_path = os.path.join(TCDFdata_path, 'power_1_1_noisy_EBT_70_100_dataset.csv')\n",
    "\n",
    "# Write clean dataframe demo_ebt to a new .csv file\n",
    "noisy_ebt_70_100.to_csv(EBTScaled_path, index = False)"
   ]
  },
  {
   "cell_type": "markdown",
   "id": "726637c5",
   "metadata": {},
   "source": [
    "#### TCDF 70-100: first run (in triplicate)"
   ]
  },
  {
   "cell_type": "code",
   "execution_count": null,
   "id": "d0875d1b",
   "metadata": {},
   "outputs": [],
   "source": [
    "%matplotlib inline\n",
    "\n",
    "# Run TCDF with the selected equilibrium dataset of EBT data\n",
    "\n",
    "%run -i \"runTCDF.py\"  --ground_truth data/power_1_1_noisy_EBT_70_100_dataset.csv=data/EBT_demo_groundtruth.csv --learning_rate 0.1 --hidden_layers 2 --epochs 2000 --log_interval 250 --significance 0.9 --dilation_coefficient 4 --kernel_size 4 --seed 34321"
   ]
  },
  {
   "cell_type": "code",
   "execution_count": null,
   "id": "0f6b0ef8",
   "metadata": {},
   "outputs": [],
   "source": [
    "# Run TCDF for predictive accuracy\n",
    "\n",
    "%run -i \"evaluate_predictions_TCDF.py\" --data data/power_1_1_noisy_EBT_70_100_dataset.csv --learning_rate 0.1 --hidden_layers 2 --epochs 2000 --log_interval 250 --dilation_coefficient 4 --kernel_size 4 --seed 34321 --plot --train_test_split 0.8"
   ]
  },
  {
   "cell_type": "code",
   "execution_count": null,
   "id": "c94725da",
   "metadata": {},
   "outputs": [],
   "source": [
    "%matplotlib inline\n",
    "# Plot training losses\n",
    "plot_performance(alllosses)"
   ]
  },
  {
   "cell_type": "code",
   "execution_count": null,
   "id": "760db70e",
   "metadata": {},
   "outputs": [],
   "source": [
    "%matplotlib inline\n",
    "# Plot accuracy (MASE values)\n",
    "plot_performance(accuracy)"
   ]
  },
  {
   "cell_type": "code",
   "execution_count": null,
   "id": "d91c1467",
   "metadata": {},
   "outputs": [],
   "source": [
    "%matplotlib inline\n",
    "\n",
    "# Run TCDF with the selected equilibrium dataset of EBT data\n",
    "\n",
    "%run -i \"runTCDF.py\"  --ground_truth data/power_1_1_noisy_EBT_70_100_dataset.csv=data/EBT_demo_groundtruth.csv --learning_rate 0.1 --hidden_layers 2 --epochs 2000 --log_interval 250 --significance 0.9 --dilation_coefficient 4 --kernel_size 4 --seed 85672"
   ]
  },
  {
   "cell_type": "code",
   "execution_count": null,
   "id": "0aa671cc",
   "metadata": {},
   "outputs": [],
   "source": [
    "# Run TCDF for predictive accuracy\n",
    "\n",
    "%run -i \"evaluate_predictions_TCDF.py\" --data data/power_1_1_noisy_EBT_70_100_dataset.csv --learning_rate 0.1 --hidden_layers 2 --epochs 2000 --log_interval 250 --dilation_coefficient 4 --kernel_size 4 --seed 85672 --plot --train_test_split 0.8"
   ]
  },
  {
   "cell_type": "code",
   "execution_count": null,
   "id": "51e3ddb6",
   "metadata": {},
   "outputs": [],
   "source": [
    "%matplotlib inline\n",
    "# Plot training losses\n",
    "plot_performance(alllosses)"
   ]
  },
  {
   "cell_type": "code",
   "execution_count": null,
   "id": "5fdb1b17",
   "metadata": {},
   "outputs": [],
   "source": [
    "%matplotlib inline\n",
    "# Plot accuracy (MASE values)\n",
    "plot_performance(accuracy)"
   ]
  },
  {
   "cell_type": "code",
   "execution_count": null,
   "id": "33ae6987",
   "metadata": {},
   "outputs": [],
   "source": [
    "%matplotlib inline\n",
    "\n",
    "# Run TCDF with the selected equilibrium dataset of EBT data\n",
    "\n",
    "%run -i \"runTCDF.py\"  --ground_truth data/power_1_1_noisy_EBT_70_100_dataset.csv=data/EBT_demo_groundtruth.csv --learning_rate 0.1 --hidden_layers 2 --epochs 2000 --log_interval 250 --significance 0.9 --dilation_coefficient 4 --kernel_size 4 --seed 63109"
   ]
  },
  {
   "cell_type": "code",
   "execution_count": null,
   "id": "db27c913",
   "metadata": {},
   "outputs": [],
   "source": [
    "# Run TCDF for predictive accuracy\n",
    "\n",
    "%run -i \"evaluate_predictions_TCDF.py\" --data data/power_1_1_noisy_EBT_70_100_dataset.csv --learning_rate 0.1 --hidden_layers 2 --epochs 2000 --log_interval 250 --dilation_coefficient 4 --kernel_size 4 --seed 63109 --plot --train_test_split 0.8"
   ]
  },
  {
   "cell_type": "code",
   "execution_count": null,
   "id": "315ce6fe",
   "metadata": {},
   "outputs": [],
   "source": [
    "%matplotlib inline\n",
    "# Plot training losses\n",
    "plot_performance(alllosses)"
   ]
  },
  {
   "cell_type": "code",
   "execution_count": null,
   "id": "3ef23d0a",
   "metadata": {},
   "outputs": [],
   "source": [
    "%matplotlib inline\n",
    "# Plot accuracy (MASE values)\n",
    "plot_performance(accuracy)"
   ]
  },
  {
   "cell_type": "markdown",
   "id": "b40ce9ef",
   "metadata": {},
   "source": [
    "#### TCDF 70-100: second run  (increased hidden layers by 1, decreased dilation coefficient and kernel size by 1)"
   ]
  },
  {
   "cell_type": "code",
   "execution_count": null,
   "id": "c1d088a7",
   "metadata": {},
   "outputs": [],
   "source": [
    "%matplotlib inline\n",
    "\n",
    "# Run TCDF with the selected equilibrium dataset of EBT data\n",
    "\n",
    "%run -i \"runTCDF.py\"  --ground_truth data/power_1_1_noisy_EBT_70_100_dataset.csv=data/EBT_demo_groundtruth.csv --learning_rate 0.1 --hidden_layers 3 --epochs 2000 --log_interval 250 --significance 0.9 --dilation_coefficient 3 --kernel_size 3 --seed 1238"
   ]
  },
  {
   "cell_type": "code",
   "execution_count": null,
   "id": "12c615a7",
   "metadata": {},
   "outputs": [],
   "source": [
    "# Run TCDF for predictive accuracy\n",
    "\n",
    "%run -i \"evaluate_predictions_TCDF.py\" --data data/power_1_1_noisy_EBT_70_100_dataset.csv --learning_rate 0.1 --hidden_layers 3 --epochs 2000 --log_interval 250 --dilation_coefficient 3 --kernel_size 3 --seed 1238 --plot --train_test_split 0.8"
   ]
  },
  {
   "cell_type": "code",
   "execution_count": null,
   "id": "b4b9612c",
   "metadata": {},
   "outputs": [],
   "source": [
    "%matplotlib inline\n",
    "# Plot training losses\n",
    "plot_performance(alllosses)"
   ]
  },
  {
   "cell_type": "code",
   "execution_count": null,
   "id": "d8d5fe4d",
   "metadata": {},
   "outputs": [],
   "source": [
    "%matplotlib inline\n",
    "# Plot accuracy (MASE values)\n",
    "plot_performance(accuracy)"
   ]
  },
  {
   "cell_type": "code",
   "execution_count": null,
   "id": "0055f1b3",
   "metadata": {},
   "outputs": [],
   "source": [
    "%matplotlib inline\n",
    "\n",
    "# Run TCDF with the selected equilibrium dataset of EBT data\n",
    "\n",
    "%run -i \"runTCDF.py\"  --ground_truth data/power_1_1_noisy_EBT_70_100_dataset.csv=data/EBT_demo_groundtruth.csv --learning_rate 0.1 --hidden_layers 3 --epochs 2000 --log_interval 250 --significance 0.9 --dilation_coefficient 3 --kernel_size 3 --seed 53988"
   ]
  },
  {
   "cell_type": "code",
   "execution_count": null,
   "id": "1132ee23",
   "metadata": {},
   "outputs": [],
   "source": [
    "# Run TCDF for predictive accuracy\n",
    "\n",
    "%run -i \"evaluate_predictions_TCDF.py\" --data data/power_1_1_noisy_EBT_70_100_dataset.csv --learning_rate 0.1 --hidden_layers 3 --epochs 2000 --log_interval 250 --dilation_coefficient 3 --kernel_size 3 --seed 53988 --plot --train_test_split 0.8"
   ]
  },
  {
   "cell_type": "code",
   "execution_count": null,
   "id": "a9a96606",
   "metadata": {},
   "outputs": [],
   "source": [
    "%matplotlib inline\n",
    "# Plot training losses\n",
    "plot_performance(alllosses)"
   ]
  },
  {
   "cell_type": "code",
   "execution_count": null,
   "id": "8fc9af04",
   "metadata": {},
   "outputs": [],
   "source": [
    "%matplotlib inline\n",
    "# Plot accuracy (MASE values)\n",
    "plot_performance(accuracy)"
   ]
  },
  {
   "cell_type": "code",
   "execution_count": null,
   "id": "bb686783",
   "metadata": {},
   "outputs": [],
   "source": [
    "%matplotlib inline\n",
    "\n",
    "# Run TCDF with the selected equilibrium dataset of EBT data\n",
    "\n",
    "%run -i \"runTCDF.py\"  --ground_truth data/power_1_1_noisy_EBT_70_100_dataset.csv=data/EBT_demo_groundtruth.csv --learning_rate 0.1 --hidden_layers 3 --epochs 2000 --log_interval 250 --significance 0.9 --dilation_coefficient 3 --kernel_size 3 --seed 92422"
   ]
  },
  {
   "cell_type": "code",
   "execution_count": null,
   "id": "c61fdc7e",
   "metadata": {},
   "outputs": [],
   "source": [
    "# Run TCDF for predictive accuracy\n",
    "\n",
    "%run -i \"evaluate_predictions_TCDF.py\" --data data/power_1_1_noisy_EBT_70_100_dataset.csv --learning_rate 0.1 --hidden_layers 3 --epochs 2000 --log_interval 250 --dilation_coefficient 3 --kernel_size 3 --seed 92422 --plot --train_test_split 0.8"
   ]
  },
  {
   "cell_type": "code",
   "execution_count": null,
   "id": "41d4dad8",
   "metadata": {},
   "outputs": [],
   "source": [
    "%matplotlib inline\n",
    "# Plot training losses\n",
    "plot_performance(alllosses)"
   ]
  },
  {
   "cell_type": "code",
   "execution_count": null,
   "id": "df22d3b9",
   "metadata": {},
   "outputs": [],
   "source": [
    "%matplotlib inline\n",
    "# Plot accuracy (MASE values)\n",
    "plot_performance(accuracy)"
   ]
  },
  {
   "cell_type": "markdown",
   "id": "07b184ac",
   "metadata": {},
   "source": [
    "#### 20 - 60 years"
   ]
  },
  {
   "cell_type": "code",
   "execution_count": null,
   "id": "edec5eaa",
   "metadata": {},
   "outputs": [],
   "source": [
    "# Select data between 20 and 60 years\n",
    "noisy_ebt_20_60 = select_data(noisy_ebt, 20, 60, 'power')\n",
    "\n",
    "# Create file path for new file\n",
    "EBTScaled_path = os.path.join(TCDFdata_path, 'power_1_1_noisy_EBT_20_60_dataset.csv')\n",
    "\n",
    "# Write clean dataframe demo_ebt to a new .csv file\n",
    "noisy_ebt_20_60.to_csv(EBTScaled_path, index = False)"
   ]
  },
  {
   "cell_type": "markdown",
   "id": "280c6083",
   "metadata": {},
   "source": [
    "#### TCDF 20-60 years: first run (in triplicate)"
   ]
  },
  {
   "cell_type": "code",
   "execution_count": null,
   "id": "33e1dec8",
   "metadata": {},
   "outputs": [],
   "source": [
    "%matplotlib inline\n",
    "\n",
    "# Run TCDF with the selected equilibrium dataset of EBT data\n",
    "\n",
    "%run -i \"runTCDF.py\"  --ground_truth data/power_1_1_noisy_EBT_20_60_dataset.csv=data/EBT_demo_groundtruth.csv --learning_rate 0.1 --hidden_layers 3 --epochs 2000 --log_interval 250 --significance 0.9 --dilation_coefficient 3 --kernel_size 3 --seed 24310"
   ]
  },
  {
   "cell_type": "code",
   "execution_count": null,
   "id": "9e13969d",
   "metadata": {},
   "outputs": [],
   "source": [
    "# Run TCDF for predictive accuracy\n",
    "\n",
    "%run -i \"evaluate_predictions_TCDF.py\" --data data/power_1_1_noisy_EBT_20_60_dataset.csv --learning_rate 0.1 --hidden_layers 3 --epochs 2000 --log_interval 250 --dilation_coefficient 3 --kernel_size 3 --seed 24310 --plot --train_test_split 0.7"
   ]
  },
  {
   "cell_type": "code",
   "execution_count": null,
   "id": "7c4d5ee0",
   "metadata": {},
   "outputs": [],
   "source": [
    "%matplotlib inline\n",
    "# Plot training losses\n",
    "plot_performance(alllosses)"
   ]
  },
  {
   "cell_type": "code",
   "execution_count": null,
   "id": "2b41f3b7",
   "metadata": {},
   "outputs": [],
   "source": [
    "%matplotlib inline\n",
    "# Plot accuracy (MASE values)\n",
    "plot_performance(accuracy)"
   ]
  },
  {
   "cell_type": "code",
   "execution_count": null,
   "id": "3496377e",
   "metadata": {},
   "outputs": [],
   "source": [
    "%matplotlib inline\n",
    "\n",
    "# Run TCDF with the selected equilibrium dataset of EBT data\n",
    "\n",
    "%run -i \"runTCDF.py\"  --ground_truth data/power_1_1_noisy_EBT_20_60_dataset.csv=data/EBT_demo_groundtruth.csv --learning_rate 0.1 --hidden_layers 3 --epochs 2000 --log_interval 250 --significance 0.9 --dilation_coefficient 3 --kernel_size 3 --seed 77139"
   ]
  },
  {
   "cell_type": "code",
   "execution_count": null,
   "id": "ae5c385c",
   "metadata": {},
   "outputs": [],
   "source": [
    "# Run TCDF for predictive accuracy\n",
    "\n",
    "%run -i \"evaluate_predictions_TCDF.py\" --data data/power_1_1_noisy_EBT_20_60_dataset.csv --learning_rate 0.1 --hidden_layers 3 --epochs 2000 --log_interval 250 --dilation_coefficient 3 --kernel_size 3 --seed 77139 --plot --train_test_split 0.7"
   ]
  },
  {
   "cell_type": "code",
   "execution_count": null,
   "id": "537fa19e",
   "metadata": {},
   "outputs": [],
   "source": [
    "%matplotlib inline\n",
    "# Plot training losses\n",
    "plot_performance(alllosses)"
   ]
  },
  {
   "cell_type": "code",
   "execution_count": null,
   "id": "e5800e62",
   "metadata": {},
   "outputs": [],
   "source": [
    "%matplotlib inline\n",
    "# Plot accuracy (MASE values)\n",
    "plot_performance(accuracy)"
   ]
  },
  {
   "cell_type": "code",
   "execution_count": null,
   "id": "5473467c",
   "metadata": {},
   "outputs": [],
   "source": [
    "%matplotlib inline\n",
    "\n",
    "# Run TCDF with the selected equilibrium dataset of EBT data\n",
    "\n",
    "%run -i \"runTCDF.py\"  --ground_truth data/power_1_1_noisy_EBT_20_60_dataset.csv=data/EBT_demo_groundtruth.csv --learning_rate 0.1 --hidden_layers 3 --epochs 2000 --log_interval 250 --significance 0.9 --dilation_coefficient 3 --kernel_size 3 --seed 45184"
   ]
  },
  {
   "cell_type": "code",
   "execution_count": null,
   "id": "bb724fa0",
   "metadata": {},
   "outputs": [],
   "source": [
    "# Run TCDF for predictive accuracy\n",
    "\n",
    "%run -i \"evaluate_predictions_TCDF.py\" --data data/power_1_1_noisy_EBT_20_60_dataset.csv --learning_rate 0.1 --hidden_layers 3 --epochs 2000 --log_interval 250 --dilation_coefficient 3 --kernel_size 3 --seed 45184 --plot --train_test_split 0.7"
   ]
  },
  {
   "cell_type": "code",
   "execution_count": null,
   "id": "f39aa78c",
   "metadata": {},
   "outputs": [],
   "source": [
    "%matplotlib inline\n",
    "# Plot training losses\n",
    "plot_performance(alllosses)"
   ]
  },
  {
   "cell_type": "code",
   "execution_count": null,
   "id": "e273225b",
   "metadata": {},
   "outputs": [],
   "source": [
    "%matplotlib inline\n",
    "# Plot accuracy (MASE values)\n",
    "plot_performance(accuracy)"
   ]
  },
  {
   "cell_type": "markdown",
   "id": "fbe848d9",
   "metadata": {},
   "source": [
    "#### TCDF 20-60 years: second run  (decreased hidden layers by 1, increased dilation coefficient and kernel size by 1)"
   ]
  },
  {
   "cell_type": "code",
   "execution_count": null,
   "id": "eb0eca3e",
   "metadata": {},
   "outputs": [],
   "source": [
    "%matplotlib inline\n",
    "\n",
    "# Run TCDF with the selected equilibrium dataset of EBT data\n",
    "\n",
    "%run -i \"runTCDF.py\"  --ground_truth data/power_1_1_noisy_EBT_20_60_dataset.csv=data/EBT_demo_groundtruth.csv --learning_rate 0.1 --hidden_layers 2 --epochs 2000 --log_interval 250 --significance 0.9 --dilation_coefficient 4 --kernel_size 4 --seed 78025"
   ]
  },
  {
   "cell_type": "code",
   "execution_count": null,
   "id": "151c3088",
   "metadata": {},
   "outputs": [],
   "source": [
    "# Run TCDF for predictive accuracy\n",
    "\n",
    "%run -i \"evaluate_predictions_TCDF.py\" --data data/power_1_1_noisy_EBT_20_60_dataset.csv --learning_rate 0.1 --hidden_layers 2 --epochs 2000 --log_interval 250 --dilation_coefficient 4 --kernel_size 4 --seed 78025 --plot --train_test_split 0.7"
   ]
  },
  {
   "cell_type": "code",
   "execution_count": null,
   "id": "283b29d1",
   "metadata": {},
   "outputs": [],
   "source": [
    "%matplotlib inline\n",
    "# Plot training losses\n",
    "plot_performance(alllosses)"
   ]
  },
  {
   "cell_type": "code",
   "execution_count": null,
   "id": "ad87d36a",
   "metadata": {},
   "outputs": [],
   "source": [
    "%matplotlib inline\n",
    "# Plot accuracy (MASE values)\n",
    "plot_performance(accuracy)"
   ]
  },
  {
   "cell_type": "code",
   "execution_count": null,
   "id": "f20c3128",
   "metadata": {},
   "outputs": [],
   "source": [
    "%matplotlib inline\n",
    "\n",
    "# Run TCDF with the selected equilibrium dataset of EBT data\n",
    "\n",
    "%run -i \"runTCDF.py\"  --ground_truth data/power_1_1_noisy_EBT_20_60_dataset.csv=data/EBT_demo_groundtruth.csv --learning_rate 0.1 --hidden_layers 2 --epochs 2000 --log_interval 250 --significance 0.9 --dilation_coefficient 4 --kernel_size 4 --seed 53391"
   ]
  },
  {
   "cell_type": "code",
   "execution_count": null,
   "id": "371f28d0",
   "metadata": {},
   "outputs": [],
   "source": [
    "# Run TCDF for predictive accuracy\n",
    "\n",
    "%run -i \"evaluate_predictions_TCDF.py\" --data data/power_1_1_noisy_EBT_20_60_dataset.csv --learning_rate 0.1 --hidden_layers 2 --epochs 2000 --log_interval 250 --dilation_coefficient 4 --kernel_size 4 --seed 53391 --plot --train_test_split 0.7"
   ]
  },
  {
   "cell_type": "code",
   "execution_count": null,
   "id": "46b52870",
   "metadata": {},
   "outputs": [],
   "source": [
    "%matplotlib inline\n",
    "# Plot training losses\n",
    "plot_performance(alllosses)"
   ]
  },
  {
   "cell_type": "code",
   "execution_count": null,
   "id": "d778a788",
   "metadata": {},
   "outputs": [],
   "source": [
    "%matplotlib inline\n",
    "# Plot accuracy (MASE values)\n",
    "plot_performance(accuracy)"
   ]
  },
  {
   "cell_type": "code",
   "execution_count": null,
   "id": "30d9357c",
   "metadata": {},
   "outputs": [],
   "source": [
    "%matplotlib inline\n",
    "\n",
    "# Run TCDF with the selected equilibrium dataset of EBT data\n",
    "\n",
    "%run -i \"runTCDF.py\"  --ground_truth data/power_1_1_noisy_EBT_20_60_dataset.csv=data/EBT_demo_groundtruth.csv --learning_rate 0.1 --hidden_layers 2 --epochs 2000 --log_interval 250 --significance 0.9 --dilation_coefficient 4 --kernel_size 4 --seed 34061"
   ]
  },
  {
   "cell_type": "code",
   "execution_count": null,
   "id": "58590e57",
   "metadata": {},
   "outputs": [],
   "source": [
    "# Run TCDF for predictive accuracy\n",
    "\n",
    "%run -i \"evaluate_predictions_TCDF.py\" --data data/power_1_1_noisy_EBT_20_60_dataset.csv --learning_rate 0.1 --hidden_layers 2 --epochs 2000 --log_interval 250 --dilation_coefficient 4 --kernel_size 4 --seed 34061 --plot --train_test_split 0.7"
   ]
  },
  {
   "cell_type": "code",
   "execution_count": null,
   "id": "469989df",
   "metadata": {},
   "outputs": [],
   "source": [
    "%matplotlib inline\n",
    "# Plot training losses\n",
    "plot_performance(alllosses)"
   ]
  },
  {
   "cell_type": "code",
   "execution_count": null,
   "id": "432d2e40",
   "metadata": {},
   "outputs": [],
   "source": [
    "%matplotlib inline\n",
    "# Plot accuracy (MASE values)\n",
    "plot_performance(accuracy)"
   ]
  },
  {
   "cell_type": "markdown",
   "id": "502b6836",
   "metadata": {},
   "source": [
    "#### 60 - 70 years"
   ]
  },
  {
   "cell_type": "code",
   "execution_count": null,
   "id": "8e0e7060",
   "metadata": {},
   "outputs": [],
   "source": [
    "# Select data between 60 and 70 years\n",
    "noisy_ebt_60_70 = select_data(noisy_ebt, 60, 70, 'power')\n",
    "\n",
    "# Create file path for new file\n",
    "EBTScaled_path = os.path.join(TCDFdata_path, 'power_1_1_noisy_EBT_60_70_dataset.csv')\n",
    "\n",
    "# Write clean dataframe demo_ebt to a new .csv file\n",
    "noisy_ebt_60_70.to_csv(EBTScaled_path, index = False)"
   ]
  },
  {
   "cell_type": "markdown",
   "id": "e5977578",
   "metadata": {},
   "source": [
    "#### TCDF 60-70 years: first run (in triplicate)"
   ]
  },
  {
   "cell_type": "code",
   "execution_count": null,
   "id": "b34b29a3",
   "metadata": {
    "scrolled": true
   },
   "outputs": [],
   "source": [
    "%matplotlib inline\n",
    "\n",
    "# Run TCDF with the selected equilibrium dataset of EBT data\n",
    "\n",
    "%run -i \"runTCDF.py\"  --ground_truth data/power_1_1_noisy_EBT_60_70_dataset.csv=data/EBT_demo_groundtruth.csv --learning_rate 0.1 --hidden_layers 3 --epochs 2000 --log_interval 250 --significance 0.9 --dilation_coefficient 3 --kernel_size 3 --seed 2369"
   ]
  },
  {
   "cell_type": "code",
   "execution_count": null,
   "id": "f2a13055",
   "metadata": {
    "scrolled": true
   },
   "outputs": [],
   "source": [
    "# Run TCDF for predictive accuracy\n",
    "\n",
    "%run -i \"evaluate_predictions_TCDF.py\" --data data/power_1_1_noisy_EBT_60_70_dataset.csv --learning_rate 0.1 --hidden_layers 3 --epochs 2000 --log_interval 250 --dilation_coefficient 3 --kernel_size 3 --seed 2369 --plot --train_test_split 0.7"
   ]
  },
  {
   "cell_type": "code",
   "execution_count": null,
   "id": "4db026e2",
   "metadata": {},
   "outputs": [],
   "source": [
    "%matplotlib inline\n",
    "# Plot training losses\n",
    "plot_performance(alllosses)"
   ]
  },
  {
   "cell_type": "code",
   "execution_count": null,
   "id": "d5369048",
   "metadata": {},
   "outputs": [],
   "source": [
    "%matplotlib inline\n",
    "# Plot accuracy (MASE values)\n",
    "plot_performance(accuracy)"
   ]
  },
  {
   "cell_type": "code",
   "execution_count": null,
   "id": "2fa75d18",
   "metadata": {
    "scrolled": true
   },
   "outputs": [],
   "source": [
    "%matplotlib inline\n",
    "\n",
    "# Run TCDF with the selected equilibrium dataset of EBT data\n",
    "\n",
    "%run -i \"runTCDF.py\"  --ground_truth data/power_1_1_noisy_EBT_60_70_dataset.csv=data/EBT_demo_groundtruth.csv --learning_rate 0.1 --hidden_layers 3 --epochs 2000 --log_interval 250 --significance 0.9 --dilation_coefficient 3 --kernel_size 3 --seed 33520"
   ]
  },
  {
   "cell_type": "code",
   "execution_count": null,
   "id": "d7ab352a",
   "metadata": {
    "scrolled": true
   },
   "outputs": [],
   "source": [
    "# Run TCDF for predictive accuracy\n",
    "\n",
    "%run -i \"evaluate_predictions_TCDF.py\" --data data/power_1_1_noisy_EBT_60_70_dataset.csv --learning_rate 0.1 --hidden_layers 3 --epochs 2000 --log_interval 250 --dilation_coefficient 3 --kernel_size 3 --seed 33520 --plot --train_test_split 0.7"
   ]
  },
  {
   "cell_type": "code",
   "execution_count": null,
   "id": "5f5457b8",
   "metadata": {},
   "outputs": [],
   "source": [
    "%matplotlib inline\n",
    "# Plot training losses\n",
    "plot_performance(alllosses)"
   ]
  },
  {
   "cell_type": "code",
   "execution_count": null,
   "id": "7b55ed60",
   "metadata": {},
   "outputs": [],
   "source": [
    "%matplotlib inline\n",
    "# Plot accuracy (MASE values)\n",
    "plot_performance(accuracy)"
   ]
  },
  {
   "cell_type": "code",
   "execution_count": null,
   "id": "1aa12733",
   "metadata": {
    "scrolled": true
   },
   "outputs": [],
   "source": [
    "%matplotlib inline\n",
    "\n",
    "# Run TCDF with the selected equilibrium dataset of EBT data\n",
    "\n",
    "%run -i \"runTCDF.py\"  --ground_truth data/power_1_1_noisy_EBT_60_70_dataset.csv=data/EBT_demo_groundtruth.csv --learning_rate 0.1 --hidden_layers 3 --epochs 2000 --log_interval 250 --significance 0.9 --dilation_coefficient 3 --kernel_size 3 --seed 66848"
   ]
  },
  {
   "cell_type": "code",
   "execution_count": null,
   "id": "3b2a0e35",
   "metadata": {
    "scrolled": true
   },
   "outputs": [],
   "source": [
    "# Run TCDF for predictive accuracy\n",
    "\n",
    "%run -i \"evaluate_predictions_TCDF.py\" --data data/power_1_1_noisy_EBT_60_70_dataset.csv --learning_rate 0.1 --hidden_layers 3 --epochs 2000 --log_interval 250 --dilation_coefficient 3 --kernel_size 3 --seed 66848 --plot --train_test_split 0.7"
   ]
  },
  {
   "cell_type": "code",
   "execution_count": null,
   "id": "f854499d",
   "metadata": {},
   "outputs": [],
   "source": [
    "%matplotlib inline\n",
    "# Plot training losses\n",
    "plot_performance(alllosses)"
   ]
  },
  {
   "cell_type": "code",
   "execution_count": null,
   "id": "41471bf2",
   "metadata": {},
   "outputs": [],
   "source": [
    "%matplotlib inline\n",
    "# Plot accuracy (MASE values)\n",
    "plot_performance(accuracy)"
   ]
  },
  {
   "cell_type": "markdown",
   "id": "37dc55f5",
   "metadata": {},
   "source": [
    "#### TCDF 60-70 years: second run  (decreased hidden layers by 1, increased dilation coefficient and kernel size by 1)"
   ]
  },
  {
   "cell_type": "code",
   "execution_count": null,
   "id": "84c95aa1",
   "metadata": {
    "scrolled": true
   },
   "outputs": [],
   "source": [
    "%matplotlib inline\n",
    "\n",
    "# Run TCDF with the selected equilibrium dataset of EBT data\n",
    "\n",
    "%run -i \"runTCDF.py\"  --ground_truth data/power_1_1_noisy_EBT_60_70_dataset.csv=data/EBT_demo_groundtruth.csv --learning_rate 0.1 --hidden_layers 2 --epochs 2000 --log_interval 250 --significance 0.9 --dilation_coefficient 4 --kernel_size 4 --seed 2369"
   ]
  },
  {
   "cell_type": "code",
   "execution_count": null,
   "id": "51b938f5",
   "metadata": {
    "scrolled": true
   },
   "outputs": [],
   "source": [
    "# Run TCDF for predictive accuracy\n",
    "\n",
    "%run -i \"evaluate_predictions_TCDF.py\" --data data/power_1_1_noisy_EBT_60_70_dataset.csv --learning_rate 0.1 --hidden_layers 2 --epochs 2000 --log_interval 250 --dilation_coefficient 4 --kernel_size 4 --seed 2369 --plot --train_test_split 0.7"
   ]
  },
  {
   "cell_type": "code",
   "execution_count": null,
   "id": "b6b13ed3",
   "metadata": {
    "scrolled": false
   },
   "outputs": [],
   "source": [
    "%matplotlib inline\n",
    "# Plot training losses\n",
    "plot_performance(alllosses)"
   ]
  },
  {
   "cell_type": "code",
   "execution_count": null,
   "id": "5a800714",
   "metadata": {},
   "outputs": [],
   "source": [
    "%matplotlib inline\n",
    "# Plot accuracy (MASE values)\n",
    "plot_performance(accuracy)"
   ]
  },
  {
   "cell_type": "code",
   "execution_count": null,
   "id": "e6ccfe3f",
   "metadata": {
    "scrolled": true
   },
   "outputs": [],
   "source": [
    "%matplotlib inline\n",
    "\n",
    "# Run TCDF with the selected equilibrium dataset of EBT data\n",
    "\n",
    "%run -i \"runTCDF.py\"  --ground_truth data/power_1_1_noisy_EBT_60_70_dataset.csv=data/EBT_demo_groundtruth.csv --learning_rate 0.1 --hidden_layers 2 --epochs 2000 --log_interval 250 --significance 0.9 --dilation_coefficient 4 --kernel_size 4 --seed 21312"
   ]
  },
  {
   "cell_type": "code",
   "execution_count": null,
   "id": "62678834",
   "metadata": {
    "scrolled": true
   },
   "outputs": [],
   "source": [
    "# Run TCDF for predictive accuracy\n",
    "\n",
    "%run -i \"evaluate_predictions_TCDF.py\" --data data/power_1_1_noisy_EBT_60_70_dataset.csv --learning_rate 0.1 --hidden_layers 2 --epochs 2000 --log_interval 250 --dilation_coefficient 4 --kernel_size 4 --seed 21312 --plot --train_test_split 0.7"
   ]
  },
  {
   "cell_type": "code",
   "execution_count": null,
   "id": "b7a833b5",
   "metadata": {},
   "outputs": [],
   "source": [
    "%matplotlib inline\n",
    "# Plot training losses\n",
    "plot_performance(alllosses)"
   ]
  },
  {
   "cell_type": "code",
   "execution_count": null,
   "id": "8691a2da",
   "metadata": {},
   "outputs": [],
   "source": [
    "%matplotlib inline\n",
    "# Plot accuracy (MASE values)\n",
    "plot_performance(accuracy)"
   ]
  },
  {
   "cell_type": "code",
   "execution_count": null,
   "id": "6489c067",
   "metadata": {
    "scrolled": true
   },
   "outputs": [],
   "source": [
    "%matplotlib inline\n",
    "\n",
    "# Run TCDF with the selected equilibrium dataset of EBT data\n",
    "\n",
    "%run -i \"runTCDF.py\"  --ground_truth data/power_1_1_noisy_EBT_60_70_dataset.csv=data/EBT_demo_groundtruth.csv --learning_rate 0.1 --hidden_layers 2 --epochs 2000 --log_interval 250 --significance 0.9 --dilation_coefficient 4 --kernel_size 4 --seed 8023"
   ]
  },
  {
   "cell_type": "code",
   "execution_count": null,
   "id": "78fa6c64",
   "metadata": {
    "scrolled": true
   },
   "outputs": [],
   "source": [
    "# Run TCDF for predictive accuracy\n",
    "\n",
    "%run -i \"evaluate_predictions_TCDF.py\" --data data/power_1_1_noisy_EBT_60_70_dataset.csv --learning_rate 0.1 --hidden_layers 2 --epochs 2000 --log_interval 250 --dilation_coefficient 4 --kernel_size 4 --seed 8023 --plot --train_test_split 0.7"
   ]
  },
  {
   "cell_type": "code",
   "execution_count": null,
   "id": "9e9a4b01",
   "metadata": {},
   "outputs": [],
   "source": [
    "%matplotlib inline\n",
    "# Plot training losses\n",
    "plot_performance(alllosses)"
   ]
  },
  {
   "cell_type": "code",
   "execution_count": null,
   "id": "2afe998d",
   "metadata": {
    "scrolled": true
   },
   "outputs": [],
   "source": [
    "%matplotlib inline\n",
    "# Plot accuracy (MASE values)\n",
    "plot_performance(accuracy)"
   ]
  },
  {
   "cell_type": "markdown",
   "id": "79d18497",
   "metadata": {},
   "source": [
    "### Signal to Noise ratio 1:10"
   ]
  },
  {
   "cell_type": "code",
   "execution_count": null,
   "id": "a1509480",
   "metadata": {},
   "outputs": [],
   "source": [
    "# Create new dataset with snr 1:10\n",
    "noisy_ebt = noisy_data(0.1)"
   ]
  },
  {
   "cell_type": "markdown",
   "id": "acc9e939",
   "metadata": {},
   "source": [
    "#### 20 - 70 years"
   ]
  },
  {
   "cell_type": "code",
   "execution_count": null,
   "id": "46222be4",
   "metadata": {},
   "outputs": [],
   "source": [
    "# Select data between 20 and 70 years\n",
    "noisy_ebt_20_70 = select_data(noisy_ebt, 20, 70, 'power')\n",
    "\n",
    "# Create file path for new file\n",
    "EBTScaled_path = os.path.join(TCDFdata_path, 'power_1_10_noisy_EBT_20_70_dataset.csv')\n",
    "\n",
    "# Write clean dataframe demo_ebt to a new .csv file\n",
    "noisy_ebt_20_70.to_csv(EBTScaled_path, index = False)"
   ]
  },
  {
   "cell_type": "markdown",
   "id": "85291d65",
   "metadata": {},
   "source": [
    "#### TCDF 20-70 years: first run (in triplicate)"
   ]
  },
  {
   "cell_type": "code",
   "execution_count": null,
   "id": "82e7a9a7",
   "metadata": {},
   "outputs": [],
   "source": [
    "%matplotlib inline\n",
    "\n",
    "# Run TCDF with the selected total dataset of EBT data\n",
    "\n",
    "%run -i \"runTCDF.py\"  --ground_truth data/power_1_10_noisy_EBT_20_70_dataset.csv=data/EBT_demo_groundtruth.csv --learning_rate 0.1 --hidden_layers 3 --epochs 2000 --log_interval 250 --significance 0.9 --dilation_coefficient 3 --kernel_size 3 --seed 5678\n"
   ]
  },
  {
   "cell_type": "code",
   "execution_count": null,
   "id": "5b2be42b",
   "metadata": {},
   "outputs": [],
   "source": [
    "# Run TCDF for predictive accuracy\n",
    "\n",
    "%run -i \"evaluate_predictions_TCDF.py\" --data data/power_1_10_noisy_EBT_20_70_dataset.csv --learning_rate 0.1 --hidden_layers 3 --epochs 2000 --log_interval 250 --dilation_coefficient 3 --kernel_size 3 --seed 5467 --plot --train_test_split 0.5"
   ]
  },
  {
   "cell_type": "code",
   "execution_count": null,
   "id": "12db9490",
   "metadata": {},
   "outputs": [],
   "source": [
    "%matplotlib inline\n",
    "\n",
    "# Run TCDF with the selected total dataset of EBT data\n",
    "\n",
    "%run -i \"runTCDF.py\"  --ground_truth data/power_1_10_noisy_EBT_20_70_dataset.csv=data/EBT_demo_groundtruth.csv --learning_rate 0.1 --hidden_layers 3 --epochs 2000 --log_interval 250 --significance 0.9 --dilation_coefficient 3 --kernel_size 3 --seed 2371\n"
   ]
  },
  {
   "cell_type": "code",
   "execution_count": null,
   "id": "d90c091c",
   "metadata": {},
   "outputs": [],
   "source": [
    "# Run TCDF for predictive accuracy\n",
    "\n",
    "%run -i \"evaluate_predictions_TCDF.py\" --data data/power_1_10_noisy_EBT_20_70_dataset.csv --learning_rate 0.1 --hidden_layers 3 --epochs 2000 --log_interval 250 --dilation_coefficient 3 --kernel_size 3 --seed 2371 --plot --train_test_split 0.5"
   ]
  },
  {
   "cell_type": "code",
   "execution_count": null,
   "id": "3cc7e1fd",
   "metadata": {},
   "outputs": [],
   "source": [
    "%matplotlib inline\n",
    "\n",
    "# Run TCDF with the selected total dataset of EBT data\n",
    "\n",
    "%run -i \"runTCDF.py\"  --ground_truth data/power_1_10_noisy_EBT_20_70_dataset.csv=data/EBT_demo_groundtruth.csv --learning_rate 0.1 --hidden_layers 3 --epochs 2000 --log_interval 250 --significance 0.9 --dilation_coefficient 3 --kernel_size 3 --seed 1084\n"
   ]
  },
  {
   "cell_type": "code",
   "execution_count": null,
   "id": "3e13e70e",
   "metadata": {},
   "outputs": [],
   "source": [
    "# Run TCDF for predictive accuracy\n",
    "\n",
    "%run -i \"evaluate_predictions_TCDF.py\" --data data/power_1_10_noisy_EBT_20_70_dataset.csv --learning_rate 0.1 --hidden_layers 3 --epochs 2000 --log_interval 250 --dilation_coefficient 3 --kernel_size 3 --seed 1048 --plot --train_test_split 0.5"
   ]
  },
  {
   "cell_type": "code",
   "execution_count": null,
   "id": "ed9e0b1b",
   "metadata": {},
   "outputs": [],
   "source": [
    "%matplotlib inline\n",
    "# Plot training losses\n",
    "plot_performance(alllosses)"
   ]
  },
  {
   "cell_type": "code",
   "execution_count": null,
   "id": "24e5686a",
   "metadata": {},
   "outputs": [],
   "source": [
    "%matplotlib inline\n",
    "# Plot accuracy (MASE values)\n",
    "plot_performance(accuracy)"
   ]
  },
  {
   "cell_type": "markdown",
   "id": "22e14552",
   "metadata": {},
   "source": [
    "#### TCDF 20-70 years: second run (decreased hidden layers by 1, incremented dilation coefficient and kernel size by 1)"
   ]
  },
  {
   "cell_type": "code",
   "execution_count": null,
   "id": "8b469896",
   "metadata": {},
   "outputs": [],
   "source": [
    "%matplotlib inline\n",
    "\n",
    "# Run TCDF with the selected total dataset of EBT data\n",
    "\n",
    "%run -i \"runTCDF.py\"  --ground_truth data/power_1_10_noisy_EBT_20_70_dataset.csv=data/EBT_demo_groundtruth.csv --learning_rate 0.1 --hidden_layers 2 --epochs 2000 --log_interval 250 --significance 0.9 --dilation_coefficient 4 --kernel_size 4 --seed 5467\n"
   ]
  },
  {
   "cell_type": "code",
   "execution_count": null,
   "id": "f79ab362",
   "metadata": {},
   "outputs": [],
   "source": [
    "# Run TCDF for predictive accuracy\n",
    "\n",
    "%run -i \"evaluate_predictions_TCDF.py\" --data data/power_1_10_noisy_EBT_20_70_dataset.csv --learning_rate 0.1 --hidden_layers 2 --epochs 2000 --log_interval 250 --dilation_coefficient 4 --kernel_size 4 --seed 5467 --plot --train_test_split 0.5"
   ]
  },
  {
   "cell_type": "code",
   "execution_count": null,
   "id": "555b92fe",
   "metadata": {},
   "outputs": [],
   "source": [
    "%matplotlib inline\n",
    "\n",
    "# Run TCDF with the selected total dataset of EBT data\n",
    "\n",
    "%run -i \"runTCDF.py\"  --ground_truth data/power_1_10_noisy_EBT_20_70_dataset.csv=data/EBT_demo_groundtruth.csv --learning_rate 0.1 --hidden_layers 2 --epochs 2000 --log_interval 250 --significance 0.9 --dilation_coefficient 4 --kernel_size 4 --seed 9238\n"
   ]
  },
  {
   "cell_type": "code",
   "execution_count": null,
   "id": "762cdc2f",
   "metadata": {},
   "outputs": [],
   "source": [
    "# Run TCDF for predictive accuracy\n",
    "\n",
    "%run -i \"evaluate_predictions_TCDF.py\" --data data/power_1_10_noisy_EBT_20_70_dataset.csv --learning_rate 0.1 --hidden_layers 2 --epochs 2000 --log_interval 250 --dilation_coefficient 4 --kernel_size 4 --seed 9238 --plot --train_test_split 0.5"
   ]
  },
  {
   "cell_type": "code",
   "execution_count": null,
   "id": "aa7088fa",
   "metadata": {},
   "outputs": [],
   "source": [
    "%matplotlib inline\n",
    "\n",
    "# Run TCDF with the selected total dataset of EBT data\n",
    "\n",
    "%run -i \"runTCDF.py\"  --ground_truth data/power_1_10_noisy_EBT_20_70_dataset.csv=data/EBT_demo_groundtruth.csv --learning_rate 0.1 --hidden_layers 2 --epochs 2000 --log_interval 250 --significance 0.9 --dilation_coefficient 4 --kernel_size 4 --seed 157\n"
   ]
  },
  {
   "cell_type": "code",
   "execution_count": null,
   "id": "94500084",
   "metadata": {},
   "outputs": [],
   "source": [
    "# Run TCDF for predictive accuracy\n",
    "\n",
    "%run -i \"evaluate_predictions_TCDF.py\" --data data/power_1_10_noisy_EBT_20_70_dataset.csv --learning_rate 0.1 --hidden_layers 2 --epochs 2000 --log_interval 250 --dilation_coefficient 4 --kernel_size 4 --seed 157 --plot --train_test_split 0.5"
   ]
  },
  {
   "cell_type": "code",
   "execution_count": null,
   "id": "167fcba1",
   "metadata": {},
   "outputs": [],
   "source": [
    "%matplotlib inline\n",
    "# Plot training losses\n",
    "plot_performance(alllosses)"
   ]
  },
  {
   "cell_type": "code",
   "execution_count": null,
   "id": "9932258c",
   "metadata": {},
   "outputs": [],
   "source": [
    "%matplotlib inline\n",
    "# Plot accuracy (MASE values)\n",
    "plot_performance(accuracy)"
   ]
  },
  {
   "cell_type": "markdown",
   "id": "b93d2a61",
   "metadata": {},
   "source": [
    "#### 0 - 100 years"
   ]
  },
  {
   "cell_type": "code",
   "execution_count": null,
   "id": "d53de45a",
   "metadata": {},
   "outputs": [],
   "source": [
    "# Select data between 0 and 100 years\n",
    "noisy_ebt_0_100 = select_data(noisy_ebt, 0, 100, 'power')\n",
    "\n",
    "# Create file path for new file\n",
    "EBTScaled_path = os.path.join(TCDFdata_path, 'power_1_10_noisy_EBT_0_100_dataset.csv')\n",
    "\n",
    "# Write clean dataframe demo_ebt to a new .csv file\n",
    "noisy_ebt_0_100.to_csv(EBTScaled_path, index = False)"
   ]
  },
  {
   "cell_type": "markdown",
   "id": "77aac7f7",
   "metadata": {},
   "source": [
    "#### TCDF 0-100 years: first run (in triplicate)"
   ]
  },
  {
   "cell_type": "code",
   "execution_count": null,
   "id": "ab046c80",
   "metadata": {},
   "outputs": [],
   "source": [
    "%matplotlib inline\n",
    "\n",
    "# Run TCDF with the selected total dataset of EBT data\n",
    "\n",
    "%run -i \"runTCDF.py\"  --ground_truth data/power_1_10_noisy_EBT_0_100_dataset.csv=data/EBT_demo_groundtruth.csv --learning_rate 0.1 --hidden_layers 2 --epochs 2000 --log_interval 250 --significance 0.9 --dilation_coefficient 4 --kernel_size 4 --seed 37519"
   ]
  },
  {
   "cell_type": "code",
   "execution_count": null,
   "id": "70f95997",
   "metadata": {},
   "outputs": [],
   "source": [
    "# Run TCDF for predictive accuracy\n",
    "\n",
    "%run -i \"evaluate_predictions_TCDF.py\" --data data/power_1_10_noisy_EBT_0_100_dataset.csv --learning_rate 0.1 --hidden_layers 2 --epochs 2000 --log_interval 250 --dilation_coefficient 4 --kernel_size 4 --seed 37519 --plot --train_test_split 0.4"
   ]
  },
  {
   "cell_type": "code",
   "execution_count": null,
   "id": "633ef2b2",
   "metadata": {},
   "outputs": [],
   "source": [
    "%matplotlib inline\n",
    "# Plot training losses\n",
    "plot_performance(alllosses)"
   ]
  },
  {
   "cell_type": "code",
   "execution_count": null,
   "id": "29fd46b8",
   "metadata": {},
   "outputs": [],
   "source": [
    "%matplotlib inline\n",
    "# Plot training losses\n",
    "plot_performance(accuracy)"
   ]
  },
  {
   "cell_type": "code",
   "execution_count": null,
   "id": "b59c6dfb",
   "metadata": {},
   "outputs": [],
   "source": [
    "%matplotlib inline\n",
    "\n",
    "# Run TCDF with the selected total dataset of EBT data\n",
    "\n",
    "%run -i \"runTCDF.py\"  --ground_truth data/power_1_10_noisy_EBT_0_100_dataset.csv=data/EBT_demo_groundtruth.csv --learning_rate 0.1 --hidden_layers 2 --epochs 2000 --log_interval 250 --significance 0.9 --dilation_coefficient 4 --kernel_size 4 --seed 15787"
   ]
  },
  {
   "cell_type": "code",
   "execution_count": null,
   "id": "7ac42325",
   "metadata": {},
   "outputs": [],
   "source": [
    "# Run TCDF for predictive accuracy\n",
    "\n",
    "%run -i \"evaluate_predictions_TCDF.py\" --data data/power_1_10_noisy_EBT_0_100_dataset.csv --learning_rate 0.1 --hidden_layers 2 --epochs 2000 --log_interval 250 --dilation_coefficient 4 --kernel_size 4 --seed 15787 --plot --train_test_split 0.4"
   ]
  },
  {
   "cell_type": "code",
   "execution_count": null,
   "id": "3f0dc414",
   "metadata": {},
   "outputs": [],
   "source": [
    "%matplotlib inline\n",
    "# Plot training losses\n",
    "plot_performance(alllosses)"
   ]
  },
  {
   "cell_type": "code",
   "execution_count": null,
   "id": "5ec91bf1",
   "metadata": {},
   "outputs": [],
   "source": [
    "%matplotlib inline\n",
    "# Plot training losses\n",
    "plot_performance(accuracy)"
   ]
  },
  {
   "cell_type": "code",
   "execution_count": null,
   "id": "f64c19e6",
   "metadata": {},
   "outputs": [],
   "source": [
    "%matplotlib inline\n",
    "\n",
    "# Run TCDF with the selected total dataset of EBT data\n",
    "\n",
    "%run -i \"runTCDF.py\"  --ground_truth data/power_1_10_noisy_EBT_0_100_dataset.csv=data/EBT_demo_groundtruth.csv --learning_rate 0.1 --hidden_layers 2 --epochs 2000 --log_interval 250 --significance 0.9 --dilation_coefficient 4 --kernel_size 4 --seed 74326"
   ]
  },
  {
   "cell_type": "code",
   "execution_count": null,
   "id": "8d5583fa",
   "metadata": {},
   "outputs": [],
   "source": [
    "# Run TCDF for predictive accuracy\n",
    "\n",
    "%run -i \"evaluate_predictions_TCDF.py\" --data data/power_1_10_noisy_EBT_0_100_dataset.csv --learning_rate 0.1 --hidden_layers 2 --epochs 2000 --log_interval 250 --dilation_coefficient 4 --kernel_size 4 --seed 74326 --plot --train_test_split 0.4"
   ]
  },
  {
   "cell_type": "code",
   "execution_count": null,
   "id": "010cb942",
   "metadata": {},
   "outputs": [],
   "source": [
    "%matplotlib inline\n",
    "# Plot training losses\n",
    "plot_performance(alllosses)"
   ]
  },
  {
   "cell_type": "code",
   "execution_count": null,
   "id": "4eb681a4",
   "metadata": {},
   "outputs": [],
   "source": [
    "%matplotlib inline\n",
    "# Plot training losses\n",
    "plot_performance(accuracy)"
   ]
  },
  {
   "cell_type": "markdown",
   "id": "27d058f4",
   "metadata": {},
   "source": [
    "#### TCDF 0-100 years: second run (increased hidden layers by 1, decreased dilation coefficient and kernel size by 1)"
   ]
  },
  {
   "cell_type": "code",
   "execution_count": null,
   "id": "316ce123",
   "metadata": {},
   "outputs": [],
   "source": [
    "%matplotlib inline\n",
    "\n",
    "# Run TCDF with the selected total dataset of EBT data\n",
    "\n",
    "%run -i \"runTCDF.py\"  --ground_truth data/power_1_10_noisy_EBT_0_100_dataset.csv=data/EBT_demo_groundtruth.csv --learning_rate 0.1 --hidden_layers 3 --epochs 2000 --log_interval 250 --significance 0.9 --dilation_coefficient 3 --kernel_size 3 --seed 1111"
   ]
  },
  {
   "cell_type": "code",
   "execution_count": null,
   "id": "a2adfb92",
   "metadata": {},
   "outputs": [],
   "source": [
    "# Run TCDF for predictive accuracy\n",
    "\n",
    "%run -i \"evaluate_predictions_TCDF.py\" --data data/power_1_10_noisy_EBT_0_100_dataset.csv --learning_rate 0.1 --hidden_layers 3 --epochs 2000 --log_interval 250 --dilation_coefficient 3 --kernel_size 3 --seed 1111 --plot --train_test_split 0.4"
   ]
  },
  {
   "cell_type": "code",
   "execution_count": null,
   "id": "eb10c4fc",
   "metadata": {},
   "outputs": [],
   "source": [
    "%matplotlib inline\n",
    "# Plot training losses\n",
    "plot_performance(alllosses)"
   ]
  },
  {
   "cell_type": "code",
   "execution_count": null,
   "id": "1e40ba9b",
   "metadata": {},
   "outputs": [],
   "source": [
    "%matplotlib inline\n",
    "# Plot training losses\n",
    "plot_performance(accuracy)"
   ]
  },
  {
   "cell_type": "code",
   "execution_count": null,
   "id": "6887d7b2",
   "metadata": {},
   "outputs": [],
   "source": [
    "%matplotlib inline\n",
    "\n",
    "# Run TCDF with the selected total dataset of EBT data\n",
    "\n",
    "%run -i \"runTCDF.py\"  --ground_truth data/power_1_10_noisy_EBT_0_100_dataset.csv=data/EBT_demo_groundtruth.csv --learning_rate 0.1 --hidden_layers 3 --epochs 2000 --log_interval 250 --significance 0.9 --dilation_coefficient 3 --kernel_size 3 --seed 18040"
   ]
  },
  {
   "cell_type": "code",
   "execution_count": null,
   "id": "ce94cdb6",
   "metadata": {},
   "outputs": [],
   "source": [
    "# Run TCDF for predictive accuracy\n",
    "\n",
    "%run -i \"evaluate_predictions_TCDF.py\" --data data/power_1_10_noisy_EBT_0_100_dataset.csv --learning_rate 0.1 --hidden_layers 3 --epochs 2000 --log_interval 250 --dilation_coefficient 3 --kernel_size 3 --seed 18040 --plot --train_test_split 0.4"
   ]
  },
  {
   "cell_type": "code",
   "execution_count": null,
   "id": "4b6e3a77",
   "metadata": {},
   "outputs": [],
   "source": [
    "%matplotlib inline\n",
    "# Plot training losses\n",
    "plot_performance(alllosses)"
   ]
  },
  {
   "cell_type": "code",
   "execution_count": null,
   "id": "8cc81e2e",
   "metadata": {},
   "outputs": [],
   "source": [
    "%matplotlib inline\n",
    "# Plot training losses\n",
    "plot_performance(accuracy)"
   ]
  },
  {
   "cell_type": "code",
   "execution_count": null,
   "id": "7de6bd1f",
   "metadata": {},
   "outputs": [],
   "source": [
    "%matplotlib inline\n",
    "\n",
    "# Run TCDF with the selected total dataset of EBT data\n",
    "\n",
    "%run -i \"runTCDF.py\"  --ground_truth data/power_1_10_noisy_EBT_0_100_dataset.csv=data/EBT_demo_groundtruth.csv --learning_rate 0.1 --hidden_layers 3 --epochs 2000 --log_interval 250 --significance 0.9 --dilation_coefficient 3 --kernel_size 3 --seed 86547"
   ]
  },
  {
   "cell_type": "code",
   "execution_count": null,
   "id": "787cb46b",
   "metadata": {},
   "outputs": [],
   "source": [
    "# Run TCDF for predictive accuracy\n",
    "\n",
    "%run -i \"evaluate_predictions_TCDF.py\" --data data/power_1_10_noisy_EBT_0_100_dataset.csv --learning_rate 0.1 --hidden_layers 3 --epochs 2000 --log_interval 250 --dilation_coefficient 3 --kernel_size 3 --seed 86547 --plot --train_test_split 0.4"
   ]
  },
  {
   "cell_type": "code",
   "execution_count": null,
   "id": "1929745a",
   "metadata": {},
   "outputs": [],
   "source": [
    "%matplotlib inline\n",
    "# Plot training losses\n",
    "plot_performance(alllosses)"
   ]
  },
  {
   "cell_type": "code",
   "execution_count": null,
   "id": "2160e69c",
   "metadata": {},
   "outputs": [],
   "source": [
    "%matplotlib inline\n",
    "# Plot training losses\n",
    "plot_performance(accuracy)"
   ]
  },
  {
   "cell_type": "markdown",
   "id": "b26863d3",
   "metadata": {},
   "source": [
    "#### 0 - 20 years"
   ]
  },
  {
   "cell_type": "code",
   "execution_count": null,
   "id": "10405417",
   "metadata": {},
   "outputs": [],
   "source": [
    "# Select data between 0 and 20 years\n",
    "noisy_ebt_0_20 = select_data(noisy_ebt, 0, 20, 'power')\n",
    "\n",
    "# Create file path for new file\n",
    "EBTScaled_path = os.path.join(TCDFdata_path, 'power_1_10_noisy_EBT_0_20_dataset.csv')\n",
    "\n",
    "# Write clean dataframe demo_ebt to a new .csv file\n",
    "noisy_ebt_0_20.to_csv(EBTScaled_path, index = False)"
   ]
  },
  {
   "cell_type": "markdown",
   "id": "d0377b3e",
   "metadata": {},
   "source": [
    "#### TCDF 0 - 20 years: first run (in triplicate)"
   ]
  },
  {
   "cell_type": "code",
   "execution_count": null,
   "id": "842ab2fe",
   "metadata": {},
   "outputs": [],
   "source": [
    "%matplotlib inline\n",
    "\n",
    "# Run TCDF with the selected equilibrium dataset of EBT data\n",
    "\n",
    "%run -i \"runTCDF.py\"  --ground_truth data/power_1_10_noisy_EBT_0_20_dataset.csv=data/EBT_demo_groundtruth.csv --learning_rate 0.1 --hidden_layers 2 --epochs 2000 --log_interval 250 --significance 0.9 --dilation_coefficient 4 --kernel_size 4 --seed 37519"
   ]
  },
  {
   "cell_type": "code",
   "execution_count": null,
   "id": "d4ac2f8f",
   "metadata": {},
   "outputs": [],
   "source": [
    "# Run TCDF for predictive accuracy\n",
    "\n",
    "%run -i \"evaluate_predictions_TCDF.py\" --data data/power_1_10_noisy_EBT_0_20_dataset.csv --learning_rate 0.1 --hidden_layers 2 --epochs 2000 --log_interval 250 --dilation_coefficient 4 --kernel_size 4 --seed 37519 --plot --train_test_split 0.8"
   ]
  },
  {
   "cell_type": "code",
   "execution_count": null,
   "id": "2ce41da2",
   "metadata": {},
   "outputs": [],
   "source": [
    "%matplotlib inline\n",
    "# Plot training losses\n",
    "plot_performance(alllosses)"
   ]
  },
  {
   "cell_type": "code",
   "execution_count": null,
   "id": "3e9efa64",
   "metadata": {},
   "outputs": [],
   "source": [
    "%matplotlib inline\n",
    "# Plot accuracy (MASE values)\n",
    "plot_performance(accuracy)"
   ]
  },
  {
   "cell_type": "code",
   "execution_count": null,
   "id": "c1c4de6f",
   "metadata": {},
   "outputs": [],
   "source": [
    "%matplotlib inline\n",
    "\n",
    "# Run TCDF with the selected equilibrium dataset of EBT data\n",
    "\n",
    "%run -i \"runTCDF.py\"  --ground_truth data/power_1_10_noisy_EBT_0_20_dataset.csv=data/EBT_demo_groundtruth.csv --learning_rate 0.1 --hidden_layers 2 --epochs 2000 --log_interval 250 --significance 0.9 --dilation_coefficient 4 --kernel_size 4 --seed 49741"
   ]
  },
  {
   "cell_type": "code",
   "execution_count": null,
   "id": "4ac0658f",
   "metadata": {},
   "outputs": [],
   "source": [
    "# Run TCDF for predictive accuracy\n",
    "\n",
    "%run -i \"evaluate_predictions_TCDF.py\" --data data/power_1_10_noisy_EBT_0_20_dataset.csv --learning_rate 0.1 --hidden_layers 2 --epochs 2000 --log_interval 250 --dilation_coefficient 4 --kernel_size 4 --seed 49741 --plot --train_test_split 0.8"
   ]
  },
  {
   "cell_type": "code",
   "execution_count": null,
   "id": "4a71b128",
   "metadata": {},
   "outputs": [],
   "source": [
    "%matplotlib inline\n",
    "# Plot training losses\n",
    "plot_performance(alllosses)"
   ]
  },
  {
   "cell_type": "code",
   "execution_count": null,
   "id": "eaf3c5f9",
   "metadata": {},
   "outputs": [],
   "source": [
    "%matplotlib inline\n",
    "# Plot accuracy (MASE values)\n",
    "plot_performance(accuracy)"
   ]
  },
  {
   "cell_type": "code",
   "execution_count": null,
   "id": "3446cfa9",
   "metadata": {},
   "outputs": [],
   "source": [
    "%matplotlib inline\n",
    "\n",
    "# Run TCDF with the selected equilibrium dataset of EBT data\n",
    "\n",
    "%run -i \"runTCDF.py\"  --ground_truth data/power_1_10_noisy_EBT_0_20_dataset.csv=data/EBT_demo_groundtruth.csv --learning_rate 0.1 --hidden_layers 2 --epochs 2000 --log_interval 250 --significance 0.9 --dilation_coefficient 4 --kernel_size 4 --seed 37786"
   ]
  },
  {
   "cell_type": "code",
   "execution_count": null,
   "id": "c113c1cd",
   "metadata": {},
   "outputs": [],
   "source": [
    "# Run TCDF for predictive accuracy\n",
    "\n",
    "%run -i \"evaluate_predictions_TCDF.py\" --data data/power_1_10_noisy_EBT_0_20_dataset.csv --learning_rate 0.1 --hidden_layers 2 --epochs 2000 --log_interval 250 --dilation_coefficient 4 --kernel_size 4 --seed 37786 --plot --train_test_split 0.8"
   ]
  },
  {
   "cell_type": "code",
   "execution_count": null,
   "id": "7ef29f5d",
   "metadata": {},
   "outputs": [],
   "source": [
    "%matplotlib inline\n",
    "# Plot training losses\n",
    "plot_performance(alllosses)"
   ]
  },
  {
   "cell_type": "code",
   "execution_count": null,
   "id": "87fe7ff2",
   "metadata": {},
   "outputs": [],
   "source": [
    "%matplotlib inline\n",
    "# Plot accuracy (MASE values)\n",
    "plot_performance(accuracy)"
   ]
  },
  {
   "cell_type": "markdown",
   "id": "ed433ff0",
   "metadata": {},
   "source": [
    "#### TCDF 0-20 years: second run (increased hidden layers by 1, decreased dilation coefficient and kernel size by 1)"
   ]
  },
  {
   "cell_type": "code",
   "execution_count": null,
   "id": "d1b40bdd",
   "metadata": {},
   "outputs": [],
   "source": [
    "%matplotlib inline\n",
    "\n",
    "# Run TCDF with the selected equilibrium dataset of EBT data\n",
    "\n",
    "%run -i \"runTCDF.py\"  --ground_truth data/power_1_10_noisy_EBT_0_20_dataset.csv=data/EBT_demo_groundtruth.csv --learning_rate 0.1 --hidden_layers 3 --epochs 2000 --log_interval 250 --significance 0.9 --dilation_coefficient 3 --kernel_size 3 --seed 94139\n"
   ]
  },
  {
   "cell_type": "code",
   "execution_count": null,
   "id": "50a6cbb1",
   "metadata": {},
   "outputs": [],
   "source": [
    "# Run TCDF for predictive accuracy\n",
    "\n",
    "%run -i \"evaluate_predictions_TCDF.py\" --data data/power_1_10_noisy_EBT_0_20_dataset.csv --learning_rate 0.1 --hidden_layers 3 --epochs 2000 --log_interval 250 --dilation_coefficient 3 --kernel_size 3 --seed 94139 --plot --train_test_split 0.8"
   ]
  },
  {
   "cell_type": "code",
   "execution_count": null,
   "id": "47136525",
   "metadata": {},
   "outputs": [],
   "source": [
    "%matplotlib inline\n",
    "# Plot training losses\n",
    "plot_performance(alllosses)"
   ]
  },
  {
   "cell_type": "code",
   "execution_count": null,
   "id": "4382c640",
   "metadata": {},
   "outputs": [],
   "source": [
    "%matplotlib inline\n",
    "# Plot accuracy (MASE values)\n",
    "plot_performance(accuracy)"
   ]
  },
  {
   "cell_type": "code",
   "execution_count": null,
   "id": "4d84b00b",
   "metadata": {},
   "outputs": [],
   "source": [
    "%matplotlib inline\n",
    "\n",
    "# Run TCDF with the selected equilibrium dataset of EBT data\n",
    "\n",
    "%run -i \"runTCDF.py\"  --ground_truth data/power_1_10_noisy_EBT_0_20_dataset.csv=data/EBT_demo_groundtruth.csv --learning_rate 0.1 --hidden_layers 3 --epochs 2000 --log_interval 250 --significance 0.9 --dilation_coefficient 3 --kernel_size 3 --seed 18147\n"
   ]
  },
  {
   "cell_type": "code",
   "execution_count": null,
   "id": "c8ed0474",
   "metadata": {},
   "outputs": [],
   "source": [
    "# Run TCDF for predictive accuracy\n",
    "\n",
    "%run -i \"evaluate_predictions_TCDF.py\" --data data/power_1_10_noisy_EBT_0_20_dataset.csv --learning_rate 0.1 --hidden_layers 3 --epochs 2000 --log_interval 250 --dilation_coefficient 3 --kernel_size 3 --seed 18147 --plot --train_test_split 0.8"
   ]
  },
  {
   "cell_type": "code",
   "execution_count": null,
   "id": "f3cecfb9",
   "metadata": {},
   "outputs": [],
   "source": [
    "%matplotlib inline\n",
    "# Plot training losses\n",
    "plot_performance(alllosses)"
   ]
  },
  {
   "cell_type": "code",
   "execution_count": null,
   "id": "24514acc",
   "metadata": {},
   "outputs": [],
   "source": [
    "%matplotlib inline\n",
    "# Plot accuracy (MASE values)\n",
    "plot_performance(accuracy)"
   ]
  },
  {
   "cell_type": "code",
   "execution_count": null,
   "id": "6d65a86d",
   "metadata": {},
   "outputs": [],
   "source": [
    "%matplotlib inline\n",
    "\n",
    "# Run TCDF with the selected equilibrium dataset of EBT data\n",
    "\n",
    "%run -i \"runTCDF.py\"  --ground_truth data/power_1_10_noisy_EBT_0_20_dataset.csv=data/EBT_demo_groundtruth.csv --learning_rate 0.1 --hidden_layers 3 --epochs 2000 --log_interval 250 --significance 0.9 --dilation_coefficient 3 --kernel_size 3 --seed 69089\n"
   ]
  },
  {
   "cell_type": "code",
   "execution_count": null,
   "id": "1bc60e8a",
   "metadata": {},
   "outputs": [],
   "source": [
    "# Run TCDF for predictive accuracy\n",
    "\n",
    "%run -i \"evaluate_predictions_TCDF.py\" --data data/power_1_10_noisy_EBT_0_20_dataset.csv --learning_rate 0.1 --hidden_layers 3 --epochs 2000 --log_interval 250 --dilation_coefficient 3 --kernel_size 3 --seed 69089 --plot --train_test_split 0.8"
   ]
  },
  {
   "cell_type": "code",
   "execution_count": null,
   "id": "430fe9f3",
   "metadata": {},
   "outputs": [],
   "source": [
    "%matplotlib inline\n",
    "# Plot training losses\n",
    "plot_performance(alllosses)"
   ]
  },
  {
   "cell_type": "code",
   "execution_count": null,
   "id": "faf046ba",
   "metadata": {},
   "outputs": [],
   "source": [
    "%matplotlib inline\n",
    "# Plot accuracy (MASE values)\n",
    "plot_performance(accuracy)"
   ]
  },
  {
   "cell_type": "markdown",
   "id": "8035f23d",
   "metadata": {},
   "source": [
    "#### 70 - 100 years"
   ]
  },
  {
   "cell_type": "code",
   "execution_count": null,
   "id": "56eb4856",
   "metadata": {},
   "outputs": [],
   "source": [
    "# Select data between 70 and 100 years\n",
    "noisy_ebt_70_100 = select_data(noisy_ebt, 70, 100, 'power')\n",
    "\n",
    "# Create file path for new file\n",
    "EBTScaled_path = os.path.join(TCDFdata_path, 'power_1_10_noisy_EBT_70_100_dataset.csv')\n",
    "\n",
    "# Write clean dataframe demo_ebt to a new .csv file\n",
    "noisy_ebt_70_100.to_csv(EBTScaled_path, index = False)"
   ]
  },
  {
   "cell_type": "markdown",
   "id": "35809164",
   "metadata": {},
   "source": [
    "#### TCDF 70-100: first run (in triplicate)"
   ]
  },
  {
   "cell_type": "code",
   "execution_count": null,
   "id": "4d8a2710",
   "metadata": {},
   "outputs": [],
   "source": [
    "%matplotlib inline\n",
    "\n",
    "# Run TCDF with the selected equilibrium dataset of EBT data\n",
    "\n",
    "%run -i \"runTCDF.py\"  --ground_truth data/power_1_10_noisy_EBT_70_100_dataset.csv=data/EBT_demo_groundtruth.csv --learning_rate 0.1 --hidden_layers 2 --epochs 2000 --log_interval 250 --significance 0.9 --dilation_coefficient 4 --kernel_size 4 --seed 34321"
   ]
  },
  {
   "cell_type": "code",
   "execution_count": null,
   "id": "c782becc",
   "metadata": {},
   "outputs": [],
   "source": [
    "# Run TCDF for predictive accuracy\n",
    "\n",
    "%run -i \"evaluate_predictions_TCDF.py\" --data data/power_1_10_noisy_EBT_70_100_dataset.csv --learning_rate 0.1 --hidden_layers 2 --epochs 2000 --log_interval 250 --dilation_coefficient 4 --kernel_size 4 --seed 34321 --plot --train_test_split 0.8"
   ]
  },
  {
   "cell_type": "code",
   "execution_count": null,
   "id": "5695fc2b",
   "metadata": {},
   "outputs": [],
   "source": [
    "%matplotlib inline\n",
    "# Plot training losses\n",
    "plot_performance(alllosses)"
   ]
  },
  {
   "cell_type": "code",
   "execution_count": null,
   "id": "eb54f38b",
   "metadata": {},
   "outputs": [],
   "source": [
    "%matplotlib inline\n",
    "# Plot accuracy (MASE values)\n",
    "plot_performance(accuracy)"
   ]
  },
  {
   "cell_type": "code",
   "execution_count": null,
   "id": "12a8e406",
   "metadata": {},
   "outputs": [],
   "source": [
    "%matplotlib inline\n",
    "\n",
    "# Run TCDF with the selected equilibrium dataset of EBT data\n",
    "\n",
    "%run -i \"runTCDF.py\"  --ground_truth data/power_1_10_noisy_EBT_70_100_dataset.csv=data/EBT_demo_groundtruth.csv --learning_rate 0.1 --hidden_layers 2 --epochs 2000 --log_interval 250 --significance 0.9 --dilation_coefficient 4 --kernel_size 4 --seed 85672"
   ]
  },
  {
   "cell_type": "code",
   "execution_count": null,
   "id": "9ca69108",
   "metadata": {},
   "outputs": [],
   "source": [
    "# Run TCDF for predictive accuracy\n",
    "\n",
    "%run -i \"evaluate_predictions_TCDF.py\" --data data/power_1_10_noisy_EBT_70_100_dataset.csv --learning_rate 0.1 --hidden_layers 2 --epochs 2000 --log_interval 250 --dilation_coefficient 4 --kernel_size 4 --seed 85672 --plot --train_test_split 0.8"
   ]
  },
  {
   "cell_type": "code",
   "execution_count": null,
   "id": "e597a03d",
   "metadata": {},
   "outputs": [],
   "source": [
    "%matplotlib inline\n",
    "# Plot training losses\n",
    "plot_performance(alllosses)"
   ]
  },
  {
   "cell_type": "code",
   "execution_count": null,
   "id": "1140ff04",
   "metadata": {},
   "outputs": [],
   "source": [
    "%matplotlib inline\n",
    "# Plot accuracy (MASE values)\n",
    "plot_performance(accuracy)"
   ]
  },
  {
   "cell_type": "code",
   "execution_count": null,
   "id": "b0569925",
   "metadata": {},
   "outputs": [],
   "source": [
    "%matplotlib inline\n",
    "\n",
    "# Run TCDF with the selected equilibrium dataset of EBT data\n",
    "\n",
    "%run -i \"runTCDF.py\"  --ground_truth data/power_1_10_noisy_EBT_70_100_dataset.csv=data/EBT_demo_groundtruth.csv --learning_rate 0.1 --hidden_layers 2 --epochs 2000 --log_interval 250 --significance 0.9 --dilation_coefficient 4 --kernel_size 4 --seed 63109"
   ]
  },
  {
   "cell_type": "code",
   "execution_count": null,
   "id": "b9163224",
   "metadata": {},
   "outputs": [],
   "source": [
    "# Run TCDF for predictive accuracy\n",
    "\n",
    "%run -i \"evaluate_predictions_TCDF.py\" --data data/power_1_10_noisy_EBT_70_100_dataset.csv --learning_rate 0.1 --hidden_layers 2 --epochs 2000 --log_interval 250 --dilation_coefficient 4 --kernel_size 4 --seed 63109 --plot --train_test_split 0.8"
   ]
  },
  {
   "cell_type": "code",
   "execution_count": null,
   "id": "06130af5",
   "metadata": {},
   "outputs": [],
   "source": [
    "%matplotlib inline\n",
    "# Plot training losses\n",
    "plot_performance(alllosses)"
   ]
  },
  {
   "cell_type": "code",
   "execution_count": null,
   "id": "5b0d2918",
   "metadata": {},
   "outputs": [],
   "source": [
    "%matplotlib inline\n",
    "# Plot accuracy (MASE values)\n",
    "plot_performance(accuracy)"
   ]
  },
  {
   "cell_type": "markdown",
   "id": "78b4aabf",
   "metadata": {},
   "source": [
    "#### TCDF 70-100: second run  (increased hidden layers by 1, decreased dilation coefficient and kernel size by 1)"
   ]
  },
  {
   "cell_type": "code",
   "execution_count": null,
   "id": "e5d04582",
   "metadata": {},
   "outputs": [],
   "source": [
    "%matplotlib inline\n",
    "\n",
    "# Run TCDF with the selected equilibrium dataset of EBT data\n",
    "\n",
    "%run -i \"runTCDF.py\"  --ground_truth data/power_1_10_noisy_EBT_70_100_dataset.csv=data/EBT_demo_groundtruth.csv --learning_rate 0.1 --hidden_layers 3 --epochs 2000 --log_interval 250 --significance 0.9 --dilation_coefficient 3 --kernel_size 3 --seed 1238"
   ]
  },
  {
   "cell_type": "code",
   "execution_count": null,
   "id": "db813b70",
   "metadata": {},
   "outputs": [],
   "source": [
    "# Run TCDF for predictive accuracy\n",
    "\n",
    "%run -i \"evaluate_predictions_TCDF.py\" --data data/power_1_10_noisy_EBT_70_100_dataset.csv --learning_rate 0.1 --hidden_layers 3 --epochs 2000 --log_interval 250 --dilation_coefficient 3 --kernel_size 3 --seed 1238 --plot --train_test_split 0.8"
   ]
  },
  {
   "cell_type": "code",
   "execution_count": null,
   "id": "70b08485",
   "metadata": {},
   "outputs": [],
   "source": [
    "%matplotlib inline\n",
    "# Plot training losses\n",
    "plot_performance(alllosses)"
   ]
  },
  {
   "cell_type": "code",
   "execution_count": null,
   "id": "a9b94730",
   "metadata": {},
   "outputs": [],
   "source": [
    "%matplotlib inline\n",
    "# Plot accuracy (MASE values)\n",
    "plot_performance(accuracy)"
   ]
  },
  {
   "cell_type": "code",
   "execution_count": null,
   "id": "c8918d00",
   "metadata": {},
   "outputs": [],
   "source": [
    "%matplotlib inline\n",
    "\n",
    "# Run TCDF with the selected equilibrium dataset of EBT data\n",
    "\n",
    "%run -i \"runTCDF.py\"  --ground_truth data/power_1_10_noisy_EBT_70_100_dataset.csv=data/EBT_demo_groundtruth.csv --learning_rate 0.1 --hidden_layers 3 --epochs 2000 --log_interval 250 --significance 0.9 --dilation_coefficient 3 --kernel_size 3 --seed 53988"
   ]
  },
  {
   "cell_type": "code",
   "execution_count": null,
   "id": "6ea5bf64",
   "metadata": {},
   "outputs": [],
   "source": [
    "# Run TCDF for predictive accuracy\n",
    "\n",
    "%run -i \"evaluate_predictions_TCDF.py\" --data data/power_1_10_noisy_EBT_70_100_dataset.csv --learning_rate 0.1 --hidden_layers 3 --epochs 2000 --log_interval 250 --dilation_coefficient 3 --kernel_size 3 --seed 53988 --plot --train_test_split 0.8"
   ]
  },
  {
   "cell_type": "code",
   "execution_count": null,
   "id": "a4e4740a",
   "metadata": {},
   "outputs": [],
   "source": [
    "%matplotlib inline\n",
    "# Plot training losses\n",
    "plot_performance(alllosses)"
   ]
  },
  {
   "cell_type": "code",
   "execution_count": null,
   "id": "d8c928a6",
   "metadata": {},
   "outputs": [],
   "source": [
    "%matplotlib inline\n",
    "# Plot accuracy (MASE values)\n",
    "plot_performance(accuracy)"
   ]
  },
  {
   "cell_type": "code",
   "execution_count": null,
   "id": "ca6ef1f8",
   "metadata": {},
   "outputs": [],
   "source": [
    "%matplotlib inline\n",
    "\n",
    "# Run TCDF with the selected equilibrium dataset of EBT data\n",
    "\n",
    "%run -i \"runTCDF.py\"  --ground_truth data/power_1_10_noisy_EBT_70_100_dataset.csv=data/EBT_demo_groundtruth.csv --learning_rate 0.1 --hidden_layers 3 --epochs 2000 --log_interval 250 --significance 0.9 --dilation_coefficient 3 --kernel_size 3 --seed 92422"
   ]
  },
  {
   "cell_type": "code",
   "execution_count": null,
   "id": "df406344",
   "metadata": {},
   "outputs": [],
   "source": [
    "# Run TCDF for predictive accuracy\n",
    "\n",
    "%run -i \"evaluate_predictions_TCDF.py\" --data data/power_1_10_noisy_EBT_70_100_dataset.csv --learning_rate 0.1 --hidden_layers 3 --epochs 2000 --log_interval 250 --dilation_coefficient 3 --kernel_size 3 --seed 92422 --plot --train_test_split 0.8"
   ]
  },
  {
   "cell_type": "code",
   "execution_count": null,
   "id": "214b1ac4",
   "metadata": {},
   "outputs": [],
   "source": [
    "%matplotlib inline\n",
    "# Plot training losses\n",
    "plot_performance(alllosses)"
   ]
  },
  {
   "cell_type": "code",
   "execution_count": null,
   "id": "b81de41c",
   "metadata": {},
   "outputs": [],
   "source": [
    "%matplotlib inline\n",
    "# Plot accuracy (MASE values)\n",
    "plot_performance(accuracy)"
   ]
  },
  {
   "cell_type": "markdown",
   "id": "564fe993",
   "metadata": {},
   "source": [
    "#### 20 - 60 years"
   ]
  },
  {
   "cell_type": "code",
   "execution_count": null,
   "id": "83e957fa",
   "metadata": {},
   "outputs": [],
   "source": [
    "# Select data between 20 and 60 years\n",
    "noisy_ebt_20_60 = select_data(noisy_ebt, 20, 60, 'power')\n",
    "\n",
    "# Create file path for new file\n",
    "EBTScaled_path = os.path.join(TCDFdata_path, 'power_1_10_noisy_EBT_20_60_dataset.csv')\n",
    "\n",
    "# Write clean dataframe demo_ebt to a new .csv file\n",
    "noisy_ebt_20_60.to_csv(EBTScaled_path, index = False)"
   ]
  },
  {
   "cell_type": "markdown",
   "id": "cd292311",
   "metadata": {},
   "source": [
    "#### TCDF 20-60 years: first run (in triplicate)"
   ]
  },
  {
   "cell_type": "code",
   "execution_count": null,
   "id": "2227a8c8",
   "metadata": {},
   "outputs": [],
   "source": [
    "%matplotlib inline\n",
    "\n",
    "# Run TCDF with the selected equilibrium dataset of EBT data\n",
    "\n",
    "%run -i \"runTCDF.py\"  --ground_truth data/power_1_10_noisy_EBT_20_60_dataset.csv=data/EBT_demo_groundtruth.csv --learning_rate 0.1 --hidden_layers 3 --epochs 2000 --log_interval 250 --significance 0.9 --dilation_coefficient 3 --kernel_size 3 --seed 24310"
   ]
  },
  {
   "cell_type": "code",
   "execution_count": null,
   "id": "e5bf8ec1",
   "metadata": {},
   "outputs": [],
   "source": [
    "# Run TCDF for predictive accuracy\n",
    "\n",
    "%run -i \"evaluate_predictions_TCDF.py\" --data data/power_1_10_noisy_EBT_20_60_dataset.csv --learning_rate 0.1 --hidden_layers 3 --epochs 2000 --log_interval 250 --dilation_coefficient 3 --kernel_size 3 --seed 24310 --plot --train_test_split 0.7"
   ]
  },
  {
   "cell_type": "code",
   "execution_count": null,
   "id": "3d54336d",
   "metadata": {},
   "outputs": [],
   "source": [
    "%matplotlib inline\n",
    "# Plot training losses\n",
    "plot_performance(alllosses)"
   ]
  },
  {
   "cell_type": "code",
   "execution_count": null,
   "id": "f5231430",
   "metadata": {},
   "outputs": [],
   "source": [
    "%matplotlib inline\n",
    "# Plot accuracy (MASE values)\n",
    "plot_performance(accuracy)"
   ]
  },
  {
   "cell_type": "code",
   "execution_count": null,
   "id": "b63a1942",
   "metadata": {},
   "outputs": [],
   "source": [
    "%matplotlib inline\n",
    "\n",
    "# Run TCDF with the selected equilibrium dataset of EBT data\n",
    "\n",
    "%run -i \"runTCDF.py\"  --ground_truth data/power_1_10_noisy_EBT_20_60_dataset.csv=data/EBT_demo_groundtruth.csv --learning_rate 0.1 --hidden_layers 3 --epochs 2000 --log_interval 250 --significance 0.9 --dilation_coefficient 3 --kernel_size 3 --seed 77139"
   ]
  },
  {
   "cell_type": "code",
   "execution_count": null,
   "id": "2614e914",
   "metadata": {},
   "outputs": [],
   "source": [
    "# Run TCDF for predictive accuracy\n",
    "\n",
    "%run -i \"evaluate_predictions_TCDF.py\" --data data/power_1_10_noisy_EBT_20_60_dataset.csv --learning_rate 0.1 --hidden_layers 3 --epochs 2000 --log_interval 250 --dilation_coefficient 3 --kernel_size 3 --seed 77139 --plot --train_test_split 0.7"
   ]
  },
  {
   "cell_type": "code",
   "execution_count": null,
   "id": "e11de338",
   "metadata": {},
   "outputs": [],
   "source": [
    "%matplotlib inline\n",
    "# Plot training losses\n",
    "plot_performance(alllosses)"
   ]
  },
  {
   "cell_type": "code",
   "execution_count": null,
   "id": "51cedb68",
   "metadata": {},
   "outputs": [],
   "source": [
    "%matplotlib inline\n",
    "# Plot accuracy (MASE values)\n",
    "plot_performance(accuracy)"
   ]
  },
  {
   "cell_type": "code",
   "execution_count": null,
   "id": "c159f0aa",
   "metadata": {},
   "outputs": [],
   "source": [
    "%matplotlib inline\n",
    "\n",
    "# Run TCDF with the selected equilibrium dataset of EBT data\n",
    "\n",
    "%run -i \"runTCDF.py\"  --ground_truth data/power_1_10_noisy_EBT_20_60_dataset.csv=data/EBT_demo_groundtruth.csv --learning_rate 0.1 --hidden_layers 3 --epochs 2000 --log_interval 250 --significance 0.9 --dilation_coefficient 3 --kernel_size 3 --seed 45184"
   ]
  },
  {
   "cell_type": "code",
   "execution_count": null,
   "id": "e7bc3080",
   "metadata": {},
   "outputs": [],
   "source": [
    "# Run TCDF for predictive accuracy\n",
    "\n",
    "%run -i \"evaluate_predictions_TCDF.py\" --data data/power_1_10_noisy_EBT_20_60_dataset.csv --learning_rate 0.1 --hidden_layers 3 --epochs 2000 --log_interval 250 --dilation_coefficient 3 --kernel_size 3 --seed 45184 --plot --train_test_split 0.7"
   ]
  },
  {
   "cell_type": "code",
   "execution_count": null,
   "id": "da0e002a",
   "metadata": {},
   "outputs": [],
   "source": [
    "%matplotlib inline\n",
    "# Plot training losses\n",
    "plot_performance(alllosses)"
   ]
  },
  {
   "cell_type": "code",
   "execution_count": null,
   "id": "88b4fb63",
   "metadata": {},
   "outputs": [],
   "source": [
    "%matplotlib inline\n",
    "# Plot accuracy (MASE values)\n",
    "plot_performance(accuracy)"
   ]
  },
  {
   "cell_type": "markdown",
   "id": "c7570001",
   "metadata": {},
   "source": [
    "#### TCDF 20-60 years: second run  (decreased hidden layers by 1, increased dilation coefficient and kernel size by 1)"
   ]
  },
  {
   "cell_type": "code",
   "execution_count": null,
   "id": "adb28c3d",
   "metadata": {},
   "outputs": [],
   "source": [
    "%matplotlib inline\n",
    "\n",
    "# Run TCDF with the selected equilibrium dataset of EBT data\n",
    "\n",
    "%run -i \"runTCDF.py\"  --ground_truth data/power_1_10_noisy_EBT_20_60_dataset.csv=data/EBT_demo_groundtruth.csv --learning_rate 0.1 --hidden_layers 2 --epochs 2000 --log_interval 250 --significance 0.9 --dilation_coefficient 4 --kernel_size 4 --seed 78025"
   ]
  },
  {
   "cell_type": "code",
   "execution_count": null,
   "id": "9d3c34be",
   "metadata": {},
   "outputs": [],
   "source": [
    "# Run TCDF for predictive accuracy\n",
    "\n",
    "%run -i \"evaluate_predictions_TCDF.py\" --data data/power_1_10_noisy_EBT_20_60_dataset.csv --learning_rate 0.1 --hidden_layers 2 --epochs 2000 --log_interval 250 --dilation_coefficient 4 --kernel_size 4 --seed 78025 --plot --train_test_split 0.7"
   ]
  },
  {
   "cell_type": "code",
   "execution_count": null,
   "id": "0dc4d99c",
   "metadata": {},
   "outputs": [],
   "source": [
    "%matplotlib inline\n",
    "# Plot training losses\n",
    "plot_performance(alllosses)"
   ]
  },
  {
   "cell_type": "code",
   "execution_count": null,
   "id": "b61bb7b8",
   "metadata": {},
   "outputs": [],
   "source": [
    "%matplotlib inline\n",
    "# Plot accuracy (MASE values)\n",
    "plot_performance(accuracy)"
   ]
  },
  {
   "cell_type": "code",
   "execution_count": null,
   "id": "7a3d1e5c",
   "metadata": {},
   "outputs": [],
   "source": [
    "%matplotlib inline\n",
    "\n",
    "# Run TCDF with the selected equilibrium dataset of EBT data\n",
    "\n",
    "%run -i \"runTCDF.py\"  --ground_truth data/power_1_10_noisy_EBT_20_60_dataset.csv=data/EBT_demo_groundtruth.csv --learning_rate 0.1 --hidden_layers 2 --epochs 2000 --log_interval 250 --significance 0.9 --dilation_coefficient 4 --kernel_size 4 --seed 53391"
   ]
  },
  {
   "cell_type": "code",
   "execution_count": null,
   "id": "8f905525",
   "metadata": {
    "scrolled": true
   },
   "outputs": [],
   "source": [
    "# Run TCDF for predictive accuracy\n",
    "\n",
    "%run -i \"evaluate_predictions_TCDF.py\" --data data/power_1_10_noisy_EBT_20_60_dataset.csv --learning_rate 0.1 --hidden_layers 2 --epochs 2000 --log_interval 250 --dilation_coefficient 4 --kernel_size 4 --seed 53391 --plot --train_test_split 0.7"
   ]
  },
  {
   "cell_type": "code",
   "execution_count": null,
   "id": "38e5610d",
   "metadata": {},
   "outputs": [],
   "source": [
    "%matplotlib inline\n",
    "# Plot training losses\n",
    "plot_performance(alllosses)"
   ]
  },
  {
   "cell_type": "code",
   "execution_count": null,
   "id": "d308e644",
   "metadata": {},
   "outputs": [],
   "source": [
    "%matplotlib inline\n",
    "# Plot accuracy (MASE values)\n",
    "plot_performance(accuracy)"
   ]
  },
  {
   "cell_type": "code",
   "execution_count": null,
   "id": "380eb768",
   "metadata": {
    "scrolled": true
   },
   "outputs": [],
   "source": [
    "%matplotlib inline\n",
    "\n",
    "# Run TCDF with the selected equilibrium dataset of EBT data\n",
    "\n",
    "%run -i \"runTCDF.py\"  --ground_truth data/power_1_10_noisy_EBT_20_60_dataset.csv=data/EBT_demo_groundtruth.csv --learning_rate 0.1 --hidden_layers 2 --epochs 2000 --log_interval 250 --significance 0.9 --dilation_coefficient 4 --kernel_size 4 --seed 34061"
   ]
  },
  {
   "cell_type": "code",
   "execution_count": null,
   "id": "fb4cdfcd",
   "metadata": {},
   "outputs": [],
   "source": [
    "# Run TCDF for predictive accuracy\n",
    "\n",
    "%run -i \"evaluate_predictions_TCDF.py\" --data data/power_1_10_noisy_EBT_20_60_dataset.csv --learning_rate 0.1 --hidden_layers 2 --epochs 2000 --log_interval 250 --dilation_coefficient 4 --kernel_size 4 --seed 34061 --plot --train_test_split 0.7"
   ]
  },
  {
   "cell_type": "code",
   "execution_count": null,
   "id": "2b630438",
   "metadata": {},
   "outputs": [],
   "source": [
    "%matplotlib inline\n",
    "# Plot training losses\n",
    "plot_performance(alllosses)"
   ]
  },
  {
   "cell_type": "code",
   "execution_count": null,
   "id": "3f5c8acf",
   "metadata": {},
   "outputs": [],
   "source": [
    "%matplotlib inline\n",
    "# Plot accuracy (MASE values)\n",
    "plot_performance(accuracy)"
   ]
  },
  {
   "cell_type": "markdown",
   "id": "48bc5e93",
   "metadata": {},
   "source": [
    "#### 60 - 70 years"
   ]
  },
  {
   "cell_type": "code",
   "execution_count": null,
   "id": "bff7a2fa",
   "metadata": {},
   "outputs": [],
   "source": [
    "# Select data between 20 and 60 years\n",
    "noisy_ebt_60_70 = select_data(noisy_ebt, 60, 70, 'power')\n",
    "\n",
    "# Create file path for new file\n",
    "EBTScaled_path = os.path.join(TCDFdata_path, 'power_1_10_noisy_EBT_60_70_dataset.csv')\n",
    "\n",
    "# Write clean dataframe demo_ebt to a new .csv file\n",
    "noisy_ebt_60_70.to_csv(EBTScaled_path, index = False)"
   ]
  },
  {
   "cell_type": "markdown",
   "id": "384b3a8d",
   "metadata": {},
   "source": [
    "#### TCDF 60-70 years: first run (in triplicate)"
   ]
  },
  {
   "cell_type": "code",
   "execution_count": null,
   "id": "e8f32959",
   "metadata": {
    "scrolled": true
   },
   "outputs": [],
   "source": [
    "%matplotlib inline\n",
    "\n",
    "# Run TCDF with the selected equilibrium dataset of EBT data\n",
    "\n",
    "%run -i \"runTCDF.py\"  --ground_truth data/power_1_10_noisy_EBT_60_70_dataset.csv=data/EBT_demo_groundtruth.csv --learning_rate 0.1 --hidden_layers 3 --epochs 2000 --log_interval 250 --significance 0.9 --dilation_coefficient 3 --kernel_size 3 --seed 2369"
   ]
  },
  {
   "cell_type": "code",
   "execution_count": null,
   "id": "0185209d",
   "metadata": {
    "scrolled": true
   },
   "outputs": [],
   "source": [
    "# Run TCDF for predictive accuracy\n",
    "\n",
    "%run -i \"evaluate_predictions_TCDF.py\" --data data/power_1_10_noisy_EBT_60_70_dataset.csv --learning_rate 0.1 --hidden_layers 3 --epochs 2000 --log_interval 250 --dilation_coefficient 3 --kernel_size 3 --seed 2369 --plot --train_test_split 0.7"
   ]
  },
  {
   "cell_type": "code",
   "execution_count": null,
   "id": "f8f09920",
   "metadata": {},
   "outputs": [],
   "source": [
    "%matplotlib inline\n",
    "# Plot training losses\n",
    "plot_performance(alllosses)"
   ]
  },
  {
   "cell_type": "code",
   "execution_count": null,
   "id": "3047f17c",
   "metadata": {},
   "outputs": [],
   "source": [
    "%matplotlib inline\n",
    "# Plot accuracy (MASE values)\n",
    "plot_performance(accuracy)"
   ]
  },
  {
   "cell_type": "code",
   "execution_count": null,
   "id": "5b7ab847",
   "metadata": {
    "scrolled": true
   },
   "outputs": [],
   "source": [
    "%matplotlib inline\n",
    "\n",
    "# Run TCDF with the selected equilibrium dataset of EBT data\n",
    "\n",
    "%run -i \"runTCDF.py\"  --ground_truth data/power_1_10_noisy_EBT_60_70_dataset.csv=data/EBT_demo_groundtruth.csv --learning_rate 0.1 --hidden_layers 3 --epochs 2000 --log_interval 250 --significance 0.9 --dilation_coefficient 3 --kernel_size 3 --seed 33520"
   ]
  },
  {
   "cell_type": "code",
   "execution_count": null,
   "id": "b4f2ed02",
   "metadata": {
    "scrolled": true
   },
   "outputs": [],
   "source": [
    "# Run TCDF for predictive accuracy\n",
    "\n",
    "%run -i \"evaluate_predictions_TCDF.py\" --data data/power_1_10_noisy_EBT_60_70_dataset.csv --learning_rate 0.1 --hidden_layers 3 --epochs 2000 --log_interval 250 --dilation_coefficient 3 --kernel_size 3 --seed 33520 --plot --train_test_split 0.7"
   ]
  },
  {
   "cell_type": "code",
   "execution_count": null,
   "id": "afdb7d54",
   "metadata": {},
   "outputs": [],
   "source": [
    "%matplotlib inline\n",
    "# Plot training losses\n",
    "plot_performance(alllosses)"
   ]
  },
  {
   "cell_type": "code",
   "execution_count": null,
   "id": "2ed2e2b5",
   "metadata": {},
   "outputs": [],
   "source": [
    "%matplotlib inline\n",
    "# Plot accuracy (MASE values)\n",
    "plot_performance(accuracy)"
   ]
  },
  {
   "cell_type": "code",
   "execution_count": null,
   "id": "522d5ab2",
   "metadata": {
    "scrolled": true
   },
   "outputs": [],
   "source": [
    "%matplotlib inline\n",
    "\n",
    "# Run TCDF with the selected equilibrium dataset of EBT data\n",
    "\n",
    "%run -i \"runTCDF.py\"  --ground_truth data/power_1_10_noisy_EBT_60_70_dataset.csv=data/EBT_demo_groundtruth.csv --learning_rate 0.1 --hidden_layers 3 --epochs 2000 --log_interval 250 --significance 0.9 --dilation_coefficient 3 --kernel_size 3 --seed 66848"
   ]
  },
  {
   "cell_type": "code",
   "execution_count": null,
   "id": "3c2b48b5",
   "metadata": {
    "scrolled": true
   },
   "outputs": [],
   "source": [
    "# Run TCDF for predictive accuracy\n",
    "\n",
    "%run -i \"evaluate_predictions_TCDF.py\" --data data/power_1_10_noisy_EBT_60_70_dataset.csv --learning_rate 0.1 --hidden_layers 3 --epochs 2000 --log_interval 250 --dilation_coefficient 3 --kernel_size 3 --seed 66848 --plot --train_test_split 0.7"
   ]
  },
  {
   "cell_type": "code",
   "execution_count": null,
   "id": "ac6a29aa",
   "metadata": {},
   "outputs": [],
   "source": [
    "%matplotlib inline\n",
    "# Plot training losses\n",
    "plot_performance(alllosses)"
   ]
  },
  {
   "cell_type": "code",
   "execution_count": null,
   "id": "76e6cdc2",
   "metadata": {},
   "outputs": [],
   "source": [
    "%matplotlib inline\n",
    "# Plot accuracy (MASE values)\n",
    "plot_performance(accuracy)"
   ]
  },
  {
   "cell_type": "markdown",
   "id": "cb8537d3",
   "metadata": {},
   "source": [
    "#### TCDF 60-70 years: second run  (decreased hidden layers by 1, increased dilation coefficient and kernel size by 1)"
   ]
  },
  {
   "cell_type": "code",
   "execution_count": null,
   "id": "3edf90a2",
   "metadata": {
    "scrolled": true
   },
   "outputs": [],
   "source": [
    "%matplotlib inline\n",
    "\n",
    "# Run TCDF with the selected equilibrium dataset of EBT data\n",
    "\n",
    "%run -i \"runTCDF.py\"  --ground_truth data/power_1_10_noisy_EBT_60_70_dataset.csv=data/EBT_demo_groundtruth.csv --learning_rate 0.1 --hidden_layers 2 --epochs 2000 --log_interval 250 --significance 0.9 --dilation_coefficient 4 --kernel_size 4 --seed 2369"
   ]
  },
  {
   "cell_type": "code",
   "execution_count": null,
   "id": "15f4cb34",
   "metadata": {
    "scrolled": true
   },
   "outputs": [],
   "source": [
    "# Run TCDF for predictive accuracy\n",
    "\n",
    "%run -i \"evaluate_predictions_TCDF.py\" --data data/power_1_10_noisy_EBT_60_70_dataset.csv --learning_rate 0.1 --hidden_layers 2 --epochs 2000 --log_interval 250 --dilation_coefficient 4 --kernel_size 4 --seed 2369 --plot --train_test_split 0.7"
   ]
  },
  {
   "cell_type": "code",
   "execution_count": null,
   "id": "5e819f9e",
   "metadata": {
    "scrolled": false
   },
   "outputs": [],
   "source": [
    "%matplotlib inline\n",
    "# Plot training losses\n",
    "plot_performance(alllosses)"
   ]
  },
  {
   "cell_type": "code",
   "execution_count": null,
   "id": "630508b9",
   "metadata": {},
   "outputs": [],
   "source": [
    "%matplotlib inline\n",
    "# Plot accuracy (MASE values)\n",
    "plot_performance(accuracy)"
   ]
  },
  {
   "cell_type": "code",
   "execution_count": null,
   "id": "25374cad",
   "metadata": {
    "scrolled": true
   },
   "outputs": [],
   "source": [
    "%matplotlib inline\n",
    "\n",
    "# Run TCDF with the selected equilibrium dataset of EBT data\n",
    "\n",
    "%run -i \"runTCDF.py\"  --ground_truth data/power_1_10_noisy_EBT_60_70_dataset.csv=data/EBT_demo_groundtruth.csv --learning_rate 0.1 --hidden_layers 2 --epochs 2000 --log_interval 250 --significance 0.9 --dilation_coefficient 4 --kernel_size 4 --seed 21312"
   ]
  },
  {
   "cell_type": "code",
   "execution_count": null,
   "id": "1277bbd3",
   "metadata": {
    "scrolled": true
   },
   "outputs": [],
   "source": [
    "# Run TCDF for predictive accuracy\n",
    "\n",
    "%run -i \"evaluate_predictions_TCDF.py\" --data data/power_1_10_noisy_EBT_60_70_dataset.csv --learning_rate 0.1 --hidden_layers 2 --epochs 2000 --log_interval 250 --dilation_coefficient 4 --kernel_size 4 --seed 21312 --plot --train_test_split 0.7"
   ]
  },
  {
   "cell_type": "code",
   "execution_count": null,
   "id": "727a4824",
   "metadata": {},
   "outputs": [],
   "source": [
    "%matplotlib inline\n",
    "# Plot training losses\n",
    "plot_performance(alllosses)"
   ]
  },
  {
   "cell_type": "code",
   "execution_count": null,
   "id": "7de3b77d",
   "metadata": {},
   "outputs": [],
   "source": [
    "%matplotlib inline\n",
    "# Plot accuracy (MASE values)\n",
    "plot_performance(accuracy)"
   ]
  },
  {
   "cell_type": "code",
   "execution_count": null,
   "id": "6b8096ed",
   "metadata": {
    "scrolled": true
   },
   "outputs": [],
   "source": [
    "%matplotlib inline\n",
    "\n",
    "# Run TCDF with the selected equilibrium dataset of EBT data\n",
    "\n",
    "%run -i \"runTCDF.py\"  --ground_truth data/power_1_10_noisy_EBT_60_70_dataset.csv=data/EBT_demo_groundtruth.csv --learning_rate 0.1 --hidden_layers 2 --epochs 2000 --log_interval 250 --significance 0.9 --dilation_coefficient 4 --kernel_size 4 --seed 8023"
   ]
  },
  {
   "cell_type": "code",
   "execution_count": null,
   "id": "3a1921ba",
   "metadata": {
    "scrolled": true
   },
   "outputs": [],
   "source": [
    "# Run TCDF for predictive accuracy\n",
    "\n",
    "%run -i \"evaluate_predictions_TCDF.py\" --data data/power_1_10_noisy_EBT_60_70_dataset.csv --learning_rate 0.1 --hidden_layers 2 --epochs 2000 --log_interval 250 --dilation_coefficient 4 --kernel_size 4 --seed 8023 --plot --train_test_split 0.7"
   ]
  },
  {
   "cell_type": "code",
   "execution_count": null,
   "id": "2a7ee3c8",
   "metadata": {
    "scrolled": true
   },
   "outputs": [],
   "source": [
    "%matplotlib inline\n",
    "# Plot training losses\n",
    "plot_performance(alllosses)"
   ]
  },
  {
   "cell_type": "code",
   "execution_count": null,
   "id": "4d2de2ea",
   "metadata": {
    "scrolled": true
   },
   "outputs": [],
   "source": [
    "%matplotlib inline\n",
    "# Plot accuracy (MASE values)\n",
    "plot_performance(accuracy)"
   ]
  },
  {
   "cell_type": "code",
   "execution_count": null,
   "id": "459831fb",
   "metadata": {},
   "outputs": [],
   "source": []
  }
 ],
 "metadata": {
  "kernelspec": {
   "display_name": "Python 3",
   "language": "python",
   "name": "python3"
  },
  "language_info": {
   "codemirror_mode": {
    "name": "ipython",
    "version": 3
   },
   "file_extension": ".py",
   "mimetype": "text/x-python",
   "name": "python",
   "nbconvert_exporter": "python",
   "pygments_lexer": "ipython3",
   "version": "3.8.8"
  }
 },
 "nbformat": 4,
 "nbformat_minor": 5
}
