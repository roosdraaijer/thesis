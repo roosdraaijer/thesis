{
 "cells": [
  {
   "cell_type": "markdown",
   "metadata": {},
   "source": [
    "# Ecological models: relevant?\n",
    "## NIOZ Master Thesis Project\n",
    "\n",
    "This Jupyter Notebook contains a detailed description and workflow to train two machine learning models for my thesis. Every section is denoted with a second level heading to keep track of my experiments. First the data from the EBT Tool is imported - a deterministic population model resembling a tri-trophic system in the Baltic Sea (Van Leeuwen et al., 2008). This data is used to train two machine learning models (TCDF and PCMCI respectively) to infer (ecological) causal relations. Both are convolutional machine learning models, and able to handle non-stationary temporal data. \n",
    "\n",
    "Author: R. Draaijer"
   ]
  },
  {
   "cell_type": "markdown",
   "metadata": {},
   "source": [
    "## Enabling notebook to be run on any device"
   ]
  },
  {
   "cell_type": "code",
   "execution_count": 1,
   "metadata": {},
   "outputs": [],
   "source": [
    "import os\n",
    "\n",
    "# Create universally (i.e. across various operating systems) recognized paths\n",
    "\n",
    "notebook_path = os.path.abspath('MSc Thesis 1.ipynb')                  # Jupyter notebook path\n",
    "TCDF_path = os.path.join(os.path.dirname(notebook_path), 'TCDF')       # TCDF folder path\n",
    "TCDFdata_path = os.path.join(TCDF_path, 'data')                        # TCDF/data folder path\n",
    "EBT_path = os.path.join(os.path.dirname(notebook_path), 'EBT Data')    # EBT folder path\n",
    "DefaultCod_path = os.path.join(EBT_path, 'Modified Default Cod')       # EBT/Modified Default Cod folder path\n",
    "Cod_path = os.path.join(DefaultCod_path, 'Modified Default.out')       # EBT/Modified Default Cod/Modified Default.out file path"
   ]
  },
  {
   "cell_type": "markdown",
   "metadata": {},
   "source": [
    "## EBT Tool"
   ]
  },
  {
   "cell_type": "markdown",
   "metadata": {},
   "source": [
    "### Import EBT Tool Data with NumPy\n",
    "Two different datasets can be distinguished: Default Cod and Cannibalistic Cod. See paper (2008) and EBT Tutorial (2020) by Anieke van Leeuwen et al.\n",
    "\n",
    "*Note that objects with uppercase namespaces are solely used for raw data files"
   ]
  },
  {
   "cell_type": "code",
   "execution_count": 2,
   "metadata": {
    "scrolled": true
   },
   "outputs": [],
   "source": [
    "# Get path for EBT data (.txt file)\n",
    "path = Cod_path\n",
    "\n",
    "# Check first entries of data\n",
    "with open(path) as Default_Cod:\n",
    "    print(Default_Cod.readline())"
   ]
  },
  {
   "cell_type": "code",
   "execution_count": 3,
   "metadata": {
    "scrolled": true
   },
   "outputs": [
    {
     "name": "stdout",
     "output_type": "stream",
     "text": [
      "[[0.00000000e+00 0.00000000e+00 5.48212970e+01 ... 3.07874116e-01\n",
      "  9.83841000e+00 0.00000000e+00]\n",
      " [1.00000000e+00 2.73972600e-03 5.48213227e+01 ... 3.07874682e-01\n",
      "  9.83841208e+00 0.00000000e+00]\n",
      " [2.00000000e+00 5.47945210e-03 5.48213485e+01 ... 3.07875243e-01\n",
      "  9.83841413e+00 0.00000000e+00]\n",
      " ...\n",
      " [3.64980000e+04 9.99945205e+01 6.25598481e+00 ... 2.24811300e-08\n",
      "  6.26818600e-07 0.00000000e+00]\n",
      " [3.64990000e+04 9.99972603e+01 6.25598481e+00 ... 2.24691700e-08\n",
      "  6.26477700e-07 0.00000000e+00]\n",
      " [3.65000000e+04 1.00000000e+02 6.25598481e+00 ... 2.24572100e-08\n",
      "  6.26137000e-07 0.00000000e+00]]\n",
      "(36501, 24)\n",
      "float64\n"
     ]
    }
   ],
   "source": [
    "# Convert dataset to ndarray\n",
    "import numpy as np\n",
    "\n",
    "with open(path) as Default_Cod:\n",
    "    default_cod = np.loadtxt(Default_Cod)\n",
    "\n",
    "# Check (dimensions of) array\n",
    "print(default_cod) \n",
    "print(default_cod.shape)           # Must be identical to ('Maximum integration time' + 1, OUTPUT_VAR_NR + 1) in EBT tool\n",
    "print(default_cod.dtype)           # Should be float64"
   ]
  },
  {
   "cell_type": "markdown",
   "metadata": {},
   "source": [
    "In hindsight the library pandas can be highly useful for loading data, therefore:\n",
    "\n",
    "### Import EBT Tool Data with pandas\n",
    "Two different datasets can be distinguished: Default Cod and Cannibalistic Cod. See paper (2008) and EBT Tutorial (2020) by Anieke van Leeuwen et al.\n",
    "\n",
    "*Note that objects with uppercase namespaces are solely used for raw data files*"
   ]
  },
  {
   "cell_type": "code",
   "execution_count": 4,
   "metadata": {},
   "outputs": [
    {
     "name": "stdout",
     "output_type": "stream",
     "text": [
      "(36501, 23)\n"
     ]
    },
    {
     "data": {
      "text/html": [
       "<div>\n",
       "<style scoped>\n",
       "    .dataframe tbody tr th:only-of-type {\n",
       "        vertical-align: middle;\n",
       "    }\n",
       "\n",
       "    .dataframe tbody tr th {\n",
       "        vertical-align: top;\n",
       "    }\n",
       "\n",
       "    .dataframe thead th {\n",
       "        text-align: right;\n",
       "    }\n",
       "</style>\n",
       "<table border=\"1\" class=\"dataframe\">\n",
       "  <thead>\n",
       "    <tr style=\"text-align: right;\">\n",
       "      <th></th>\n",
       "      <th>Years</th>\n",
       "      <th>RS</th>\n",
       "      <th>RJ</th>\n",
       "      <th>RA</th>\n",
       "      <th>SJ</th>\n",
       "      <th>SA</th>\n",
       "      <th>SB</th>\n",
       "      <th>CJ</th>\n",
       "      <th>CA</th>\n",
       "      <th>CB</th>\n",
       "      <th>...</th>\n",
       "      <th>ΔCA with Fc</th>\n",
       "      <th>ΔC with Fc</th>\n",
       "      <th>ΔSB</th>\n",
       "      <th>ΔSJ</th>\n",
       "      <th>ΔSA</th>\n",
       "      <th>ΔCB</th>\n",
       "      <th>ΔCJ</th>\n",
       "      <th>ΔCA</th>\n",
       "      <th>ΣC</th>\n",
       "      <th>Fs</th>\n",
       "    </tr>\n",
       "    <tr>\n",
       "      <th>Time</th>\n",
       "      <th></th>\n",
       "      <th></th>\n",
       "      <th></th>\n",
       "      <th></th>\n",
       "      <th></th>\n",
       "      <th></th>\n",
       "      <th></th>\n",
       "      <th></th>\n",
       "      <th></th>\n",
       "      <th></th>\n",
       "      <th></th>\n",
       "      <th></th>\n",
       "      <th></th>\n",
       "      <th></th>\n",
       "      <th></th>\n",
       "      <th></th>\n",
       "      <th></th>\n",
       "      <th></th>\n",
       "      <th></th>\n",
       "      <th></th>\n",
       "      <th></th>\n",
       "    </tr>\n",
       "  </thead>\n",
       "  <tbody>\n",
       "    <tr>\n",
       "      <th>0.0</th>\n",
       "      <td>0.000000</td>\n",
       "      <td>54.821297</td>\n",
       "      <td>0.268207</td>\n",
       "      <td>0.989287</td>\n",
       "      <td>8.511213</td>\n",
       "      <td>9.955314</td>\n",
       "      <td>50.033894</td>\n",
       "      <td>8.186889</td>\n",
       "      <td>0.809228</td>\n",
       "      <td>0.842293</td>\n",
       "      <td>...</td>\n",
       "      <td>0.0</td>\n",
       "      <td>0.0</td>\n",
       "      <td>56.602835</td>\n",
       "      <td>22.673092</td>\n",
       "      <td>25.988747</td>\n",
       "      <td>0.830739</td>\n",
       "      <td>0.149208</td>\n",
       "      <td>0.307874</td>\n",
       "      <td>9.838410</td>\n",
       "      <td>0.0</td>\n",
       "    </tr>\n",
       "    <tr>\n",
       "      <th>1.0</th>\n",
       "      <td>0.002740</td>\n",
       "      <td>54.821323</td>\n",
       "      <td>0.268207</td>\n",
       "      <td>0.989287</td>\n",
       "      <td>8.511207</td>\n",
       "      <td>9.955310</td>\n",
       "      <td>50.033881</td>\n",
       "      <td>8.186888</td>\n",
       "      <td>0.809230</td>\n",
       "      <td>0.842294</td>\n",
       "      <td>...</td>\n",
       "      <td>0.0</td>\n",
       "      <td>0.0</td>\n",
       "      <td>56.602823</td>\n",
       "      <td>22.673058</td>\n",
       "      <td>25.988736</td>\n",
       "      <td>0.830741</td>\n",
       "      <td>0.149204</td>\n",
       "      <td>0.307875</td>\n",
       "      <td>9.838412</td>\n",
       "      <td>0.0</td>\n",
       "    </tr>\n",
       "    <tr>\n",
       "      <th>2.0</th>\n",
       "      <td>0.005479</td>\n",
       "      <td>54.821349</td>\n",
       "      <td>0.268207</td>\n",
       "      <td>0.989287</td>\n",
       "      <td>8.511201</td>\n",
       "      <td>9.955306</td>\n",
       "      <td>50.033867</td>\n",
       "      <td>8.186887</td>\n",
       "      <td>0.809231</td>\n",
       "      <td>0.842295</td>\n",
       "      <td>...</td>\n",
       "      <td>0.0</td>\n",
       "      <td>0.0</td>\n",
       "      <td>56.602811</td>\n",
       "      <td>22.673023</td>\n",
       "      <td>25.988726</td>\n",
       "      <td>0.830742</td>\n",
       "      <td>0.149200</td>\n",
       "      <td>0.307875</td>\n",
       "      <td>9.838414</td>\n",
       "      <td>0.0</td>\n",
       "    </tr>\n",
       "    <tr>\n",
       "      <th>3.0</th>\n",
       "      <td>0.008219</td>\n",
       "      <td>54.821374</td>\n",
       "      <td>0.268207</td>\n",
       "      <td>0.989287</td>\n",
       "      <td>8.511194</td>\n",
       "      <td>9.955302</td>\n",
       "      <td>50.033854</td>\n",
       "      <td>8.186887</td>\n",
       "      <td>0.809233</td>\n",
       "      <td>0.842297</td>\n",
       "      <td>...</td>\n",
       "      <td>0.0</td>\n",
       "      <td>0.0</td>\n",
       "      <td>56.602799</td>\n",
       "      <td>22.672989</td>\n",
       "      <td>25.988715</td>\n",
       "      <td>0.830743</td>\n",
       "      <td>0.149195</td>\n",
       "      <td>0.307876</td>\n",
       "      <td>9.838416</td>\n",
       "      <td>0.0</td>\n",
       "    </tr>\n",
       "    <tr>\n",
       "      <th>4.0</th>\n",
       "      <td>0.010959</td>\n",
       "      <td>54.821401</td>\n",
       "      <td>0.268207</td>\n",
       "      <td>0.989287</td>\n",
       "      <td>8.511188</td>\n",
       "      <td>9.955297</td>\n",
       "      <td>50.033840</td>\n",
       "      <td>8.186886</td>\n",
       "      <td>0.809235</td>\n",
       "      <td>0.842298</td>\n",
       "      <td>...</td>\n",
       "      <td>0.0</td>\n",
       "      <td>0.0</td>\n",
       "      <td>56.602787</td>\n",
       "      <td>22.672955</td>\n",
       "      <td>25.988704</td>\n",
       "      <td>0.830744</td>\n",
       "      <td>0.149191</td>\n",
       "      <td>0.307876</td>\n",
       "      <td>9.838418</td>\n",
       "      <td>0.0</td>\n",
       "    </tr>\n",
       "  </tbody>\n",
       "</table>\n",
       "<p>5 rows × 23 columns</p>\n",
       "</div>"
      ],
      "text/plain": [
       "         Years         RS        RJ        RA        SJ        SA         SB  \\\n",
       "Time                                                                           \n",
       "0.0   0.000000  54.821297  0.268207  0.989287  8.511213  9.955314  50.033894   \n",
       "1.0   0.002740  54.821323  0.268207  0.989287  8.511207  9.955310  50.033881   \n",
       "2.0   0.005479  54.821349  0.268207  0.989287  8.511201  9.955306  50.033867   \n",
       "3.0   0.008219  54.821374  0.268207  0.989287  8.511194  9.955302  50.033854   \n",
       "4.0   0.010959  54.821401  0.268207  0.989287  8.511188  9.955297  50.033840   \n",
       "\n",
       "            CJ        CA        CB  ...  ΔCA with Fc  ΔC with Fc        ΔSB  \\\n",
       "Time                                ...                                       \n",
       "0.0   8.186889  0.809228  0.842293  ...          0.0         0.0  56.602835   \n",
       "1.0   8.186888  0.809230  0.842294  ...          0.0         0.0  56.602823   \n",
       "2.0   8.186887  0.809231  0.842295  ...          0.0         0.0  56.602811   \n",
       "3.0   8.186887  0.809233  0.842297  ...          0.0         0.0  56.602799   \n",
       "4.0   8.186886  0.809235  0.842298  ...          0.0         0.0  56.602787   \n",
       "\n",
       "            ΔSJ        ΔSA       ΔCB       ΔCJ       ΔCA        ΣC   Fs  \n",
       "Time                                                                     \n",
       "0.0   22.673092  25.988747  0.830739  0.149208  0.307874  9.838410  0.0  \n",
       "1.0   22.673058  25.988736  0.830741  0.149204  0.307875  9.838412  0.0  \n",
       "2.0   22.673023  25.988726  0.830742  0.149200  0.307875  9.838414  0.0  \n",
       "3.0   22.672989  25.988715  0.830743  0.149195  0.307876  9.838416  0.0  \n",
       "4.0   22.672955  25.988704  0.830744  0.149191  0.307876  9.838418  0.0  \n",
       "\n",
       "[5 rows x 23 columns]"
      ]
     },
     "execution_count": 4,
     "metadata": {},
     "output_type": "execute_result"
    }
   ],
   "source": [
    "import pandas as pd\n",
    "\n",
    "# Get path for EBT data (.txt file)\n",
    "path = Cod_path\n",
    "\n",
    "# Define column names (see EBT .c file in output variables section) for multilevel indexing\n",
    "variables = ['Time', 'Years', 'RS', 'RJ', 'RA', 'SJ', 'SA', 'SB', 'CJ', 'CA', 'CB', 'Fc', 'ΔCJ with Fc', 'ΔCS with Fc',\n",
    "             'ΔCA with Fc', 'ΔC with Fc', 'ΔSB', 'ΔSJ', 'ΔSA', 'ΔCB', 'ΔCJ', 'ΔCA', 'ΣC', 'Fs']\n",
    "units = ['[day]', '[year]', '[g V-1]', '[g V-1]', '[g V-1]', '[g V-1]', '[g V-1]', '[g V-1]', '[g V-1]', '[g V-1]',\n",
    "         '[g V-1]', '[-]', '[g V-1 year-1]', '[g V-1 year-1]', '[g V-1 year-1]', '[g V-1 year-1]', '[g V-1 year-1]',\n",
    "         '[g V-1 year-1]', '[g V-1 year-1]', '[g V-1 year-1]', '[g V-1 year-1]', '[g V-1 year-1]', '[g V-1]', '[-]']\n",
    "\n",
    "with open(path) as Default_Cod:\n",
    "    default_cod = pd.read_csv(Default_Cod, delimiter = '\\t', header=None)\n",
    "\n",
    "# Set column names and index\n",
    "#columns = pd.MultiIndex.set_codes([[variables, units]], names = ['Output variable', 'Unit'])\n",
    "default_cod.columns = variables\n",
    "#default_cod.columns = columns\n",
    "default_cod = default_cod.set_index('Time')\n",
    "\n",
    "# Check (dimensions of) array\n",
    "print(default_cod.shape)           # Must be identical to ('Maximum integration time' + 1, OUTPUT_VAR_NR + 1) in EBT tool\n",
    "\n",
    "default_cod.head()"
   ]
  },
  {
   "cell_type": "code",
   "execution_count": 5,
   "metadata": {},
   "outputs": [
    {
     "data": {
      "text/plain": [
       "Text(0.5, 0, 'Time [year]')"
      ]
     },
     "execution_count": 5,
     "metadata": {},
     "output_type": "execute_result"
    },
    {
     "data": {
      "image/png": "[encoded data removed]",
      "text/plain": [
       "<Figure size 432x288 with 2 Axes>"
      ]
     },
     "metadata": {
      "needs_background": "light"
     },
     "output_type": "display_data"
    }
   ],
   "source": [
    "# Visualize default_cod as is visualized by the EBT tool\n",
    "%matplotlib inline\n",
    "import matplotlib.pyplot as plt\n",
    "import numpy as np\n",
    "\n",
    "# Make figure to visualize plots in\n",
    "fig, axes = plt.subplots(2, 1, sharex=True)\n",
    "plt.subplots_adjust(hspace=0)\n",
    "\n",
    "# Select the biomass columns\n",
    "# Cod biomass\n",
    "cod_fig = fig.add_subplot(axes[0])\n",
    "cod_fig.plot(default_cod['Years'], default_cod[['CJ','CA','CB']])\n",
    "\n",
    "cod_fig.set_xticks(np.arange(0,110,20))\n",
    "cod_fig.set_yticks(np.arange(0,12,2))\n",
    "\n",
    "\n",
    "# Sprat biomass\n",
    "sprat_fig = fig.add_subplot(axes[1])\n",
    "sprat_fig.plot(default_cod['Years'], default_cod[['SJ','SA','SB']])\n",
    "\n",
    "cod_fig.set_xticks(np.arange(0,110,20))\n",
    "cod_fig.set_yticks(np.arange(0,12,2))\n",
    "sprat_fig.set_xlabel('Time [year]')"
   ]
  },
  {
   "cell_type": "markdown",
   "metadata": {},
   "source": [
    "## TCDF Demo\n",
    "\n",
    "This is a short demo for the first machine learning model, to get familiar with the training and testing of data. "
   ]
  },
  {
   "cell_type": "code",
   "execution_count": 6,
   "metadata": {},
   "outputs": [
    {
     "data": {
      "text/html": [
       "<div>\n",
       "<style scoped>\n",
       "    .dataframe tbody tr th:only-of-type {\n",
       "        vertical-align: middle;\n",
       "    }\n",
       "\n",
       "    .dataframe tbody tr th {\n",
       "        vertical-align: top;\n",
       "    }\n",
       "\n",
       "    .dataframe thead th {\n",
       "        text-align: right;\n",
       "    }\n",
       "</style>\n",
       "<table border=\"1\" class=\"dataframe\">\n",
       "  <thead>\n",
       "    <tr style=\"text-align: right;\">\n",
       "      <th></th>\n",
       "      <th>0</th>\n",
       "      <th>1</th>\n",
       "      <th>2</th>\n",
       "      <th>3</th>\n",
       "      <th>4</th>\n",
       "      <th>5</th>\n",
       "      <th>6</th>\n",
       "      <th>7</th>\n",
       "      <th>8</th>\n",
       "      <th>9</th>\n",
       "      <th>...</th>\n",
       "      <th>14</th>\n",
       "      <th>15</th>\n",
       "      <th>16</th>\n",
       "      <th>17</th>\n",
       "      <th>18</th>\n",
       "      <th>19</th>\n",
       "      <th>20</th>\n",
       "      <th>21</th>\n",
       "      <th>22</th>\n",
       "      <th>23</th>\n",
       "    </tr>\n",
       "  </thead>\n",
       "  <tbody>\n",
       "    <tr>\n",
       "      <th>0</th>\n",
       "      <td>0.0</td>\n",
       "      <td>0.000000</td>\n",
       "      <td>54.821297</td>\n",
       "      <td>0.268207</td>\n",
       "      <td>0.989287</td>\n",
       "      <td>8.511213</td>\n",
       "      <td>9.955314</td>\n",
       "      <td>50.033894</td>\n",
       "      <td>8.186889</td>\n",
       "      <td>0.809228</td>\n",
       "      <td>...</td>\n",
       "      <td>0.0</td>\n",
       "      <td>0.0</td>\n",
       "      <td>56.602835</td>\n",
       "      <td>22.673092</td>\n",
       "      <td>25.988747</td>\n",
       "      <td>0.830739</td>\n",
       "      <td>0.149208</td>\n",
       "      <td>0.307874</td>\n",
       "      <td>9.838410</td>\n",
       "      <td>0.0</td>\n",
       "    </tr>\n",
       "    <tr>\n",
       "      <th>1</th>\n",
       "      <td>1.0</td>\n",
       "      <td>0.002740</td>\n",
       "      <td>54.821323</td>\n",
       "      <td>0.268207</td>\n",
       "      <td>0.989287</td>\n",
       "      <td>8.511207</td>\n",
       "      <td>9.955310</td>\n",
       "      <td>50.033881</td>\n",
       "      <td>8.186888</td>\n",
       "      <td>0.809230</td>\n",
       "      <td>...</td>\n",
       "      <td>0.0</td>\n",
       "      <td>0.0</td>\n",
       "      <td>56.602823</td>\n",
       "      <td>22.673058</td>\n",
       "      <td>25.988736</td>\n",
       "      <td>0.830741</td>\n",
       "      <td>0.149204</td>\n",
       "      <td>0.307875</td>\n",
       "      <td>9.838412</td>\n",
       "      <td>0.0</td>\n",
       "    </tr>\n",
       "    <tr>\n",
       "      <th>2</th>\n",
       "      <td>2.0</td>\n",
       "      <td>0.005479</td>\n",
       "      <td>54.821349</td>\n",
       "      <td>0.268207</td>\n",
       "      <td>0.989287</td>\n",
       "      <td>8.511201</td>\n",
       "      <td>9.955306</td>\n",
       "      <td>50.033867</td>\n",
       "      <td>8.186887</td>\n",
       "      <td>0.809231</td>\n",
       "      <td>...</td>\n",
       "      <td>0.0</td>\n",
       "      <td>0.0</td>\n",
       "      <td>56.602811</td>\n",
       "      <td>22.673023</td>\n",
       "      <td>25.988726</td>\n",
       "      <td>0.830742</td>\n",
       "      <td>0.149200</td>\n",
       "      <td>0.307875</td>\n",
       "      <td>9.838414</td>\n",
       "      <td>0.0</td>\n",
       "    </tr>\n",
       "    <tr>\n",
       "      <th>3</th>\n",
       "      <td>3.0</td>\n",
       "      <td>0.008219</td>\n",
       "      <td>54.821374</td>\n",
       "      <td>0.268207</td>\n",
       "      <td>0.989287</td>\n",
       "      <td>8.511194</td>\n",
       "      <td>9.955302</td>\n",
       "      <td>50.033854</td>\n",
       "      <td>8.186887</td>\n",
       "      <td>0.809233</td>\n",
       "      <td>...</td>\n",
       "      <td>0.0</td>\n",
       "      <td>0.0</td>\n",
       "      <td>56.602799</td>\n",
       "      <td>22.672989</td>\n",
       "      <td>25.988715</td>\n",
       "      <td>0.830743</td>\n",
       "      <td>0.149195</td>\n",
       "      <td>0.307876</td>\n",
       "      <td>9.838416</td>\n",
       "      <td>0.0</td>\n",
       "    </tr>\n",
       "    <tr>\n",
       "      <th>4</th>\n",
       "      <td>4.0</td>\n",
       "      <td>0.010959</td>\n",
       "      <td>54.821401</td>\n",
       "      <td>0.268207</td>\n",
       "      <td>0.989287</td>\n",
       "      <td>8.511188</td>\n",
       "      <td>9.955297</td>\n",
       "      <td>50.033840</td>\n",
       "      <td>8.186886</td>\n",
       "      <td>0.809235</td>\n",
       "      <td>...</td>\n",
       "      <td>0.0</td>\n",
       "      <td>0.0</td>\n",
       "      <td>56.602787</td>\n",
       "      <td>22.672955</td>\n",
       "      <td>25.988704</td>\n",
       "      <td>0.830744</td>\n",
       "      <td>0.149191</td>\n",
       "      <td>0.307876</td>\n",
       "      <td>9.838418</td>\n",
       "      <td>0.0</td>\n",
       "    </tr>\n",
       "    <tr>\n",
       "      <th>5</th>\n",
       "      <td>5.0</td>\n",
       "      <td>0.013699</td>\n",
       "      <td>54.821427</td>\n",
       "      <td>0.268207</td>\n",
       "      <td>0.989287</td>\n",
       "      <td>8.511182</td>\n",
       "      <td>9.955293</td>\n",
       "      <td>50.033827</td>\n",
       "      <td>8.186885</td>\n",
       "      <td>0.809236</td>\n",
       "      <td>...</td>\n",
       "      <td>0.0</td>\n",
       "      <td>0.0</td>\n",
       "      <td>56.602775</td>\n",
       "      <td>22.672921</td>\n",
       "      <td>25.988692</td>\n",
       "      <td>0.830745</td>\n",
       "      <td>0.149187</td>\n",
       "      <td>0.307877</td>\n",
       "      <td>9.838420</td>\n",
       "      <td>0.0</td>\n",
       "    </tr>\n",
       "    <tr>\n",
       "      <th>6</th>\n",
       "      <td>6.0</td>\n",
       "      <td>0.016438</td>\n",
       "      <td>54.821453</td>\n",
       "      <td>0.268207</td>\n",
       "      <td>0.989287</td>\n",
       "      <td>8.511175</td>\n",
       "      <td>9.955289</td>\n",
       "      <td>50.033813</td>\n",
       "      <td>8.186884</td>\n",
       "      <td>0.809238</td>\n",
       "      <td>...</td>\n",
       "      <td>0.0</td>\n",
       "      <td>0.0</td>\n",
       "      <td>56.602763</td>\n",
       "      <td>22.672887</td>\n",
       "      <td>25.988681</td>\n",
       "      <td>0.830747</td>\n",
       "      <td>0.149183</td>\n",
       "      <td>0.307877</td>\n",
       "      <td>9.838422</td>\n",
       "      <td>0.0</td>\n",
       "    </tr>\n",
       "    <tr>\n",
       "      <th>7</th>\n",
       "      <td>7.0</td>\n",
       "      <td>0.019178</td>\n",
       "      <td>54.821479</td>\n",
       "      <td>0.268207</td>\n",
       "      <td>0.989287</td>\n",
       "      <td>8.511169</td>\n",
       "      <td>9.955284</td>\n",
       "      <td>50.033799</td>\n",
       "      <td>8.186883</td>\n",
       "      <td>0.809240</td>\n",
       "      <td>...</td>\n",
       "      <td>0.0</td>\n",
       "      <td>0.0</td>\n",
       "      <td>56.602751</td>\n",
       "      <td>22.672853</td>\n",
       "      <td>25.988669</td>\n",
       "      <td>0.830748</td>\n",
       "      <td>0.149179</td>\n",
       "      <td>0.307878</td>\n",
       "      <td>9.838424</td>\n",
       "      <td>0.0</td>\n",
       "    </tr>\n",
       "    <tr>\n",
       "      <th>8</th>\n",
       "      <td>8.0</td>\n",
       "      <td>0.021918</td>\n",
       "      <td>54.821506</td>\n",
       "      <td>0.268206</td>\n",
       "      <td>0.989287</td>\n",
       "      <td>8.511163</td>\n",
       "      <td>9.955279</td>\n",
       "      <td>50.033786</td>\n",
       "      <td>8.186882</td>\n",
       "      <td>0.809241</td>\n",
       "      <td>...</td>\n",
       "      <td>0.0</td>\n",
       "      <td>0.0</td>\n",
       "      <td>56.602739</td>\n",
       "      <td>22.672819</td>\n",
       "      <td>25.988657</td>\n",
       "      <td>0.830749</td>\n",
       "      <td>0.149175</td>\n",
       "      <td>0.307879</td>\n",
       "      <td>9.838426</td>\n",
       "      <td>0.0</td>\n",
       "    </tr>\n",
       "    <tr>\n",
       "      <th>9</th>\n",
       "      <td>9.0</td>\n",
       "      <td>0.024658</td>\n",
       "      <td>54.821533</td>\n",
       "      <td>0.268206</td>\n",
       "      <td>0.989287</td>\n",
       "      <td>8.511157</td>\n",
       "      <td>9.955275</td>\n",
       "      <td>50.033772</td>\n",
       "      <td>8.186881</td>\n",
       "      <td>0.809243</td>\n",
       "      <td>...</td>\n",
       "      <td>0.0</td>\n",
       "      <td>0.0</td>\n",
       "      <td>56.602727</td>\n",
       "      <td>22.672785</td>\n",
       "      <td>25.988645</td>\n",
       "      <td>0.830750</td>\n",
       "      <td>0.149171</td>\n",
       "      <td>0.307879</td>\n",
       "      <td>9.838428</td>\n",
       "      <td>0.0</td>\n",
       "    </tr>\n",
       "  </tbody>\n",
       "</table>\n",
       "<p>10 rows × 24 columns</p>\n",
       "</div>"
      ],
      "text/plain": [
       "    0         1          2         3         4         5         6   \\\n",
       "0  0.0  0.000000  54.821297  0.268207  0.989287  8.511213  9.955314   \n",
       "1  1.0  0.002740  54.821323  0.268207  0.989287  8.511207  9.955310   \n",
       "2  2.0  0.005479  54.821349  0.268207  0.989287  8.511201  9.955306   \n",
       "3  3.0  0.008219  54.821374  0.268207  0.989287  8.511194  9.955302   \n",
       "4  4.0  0.010959  54.821401  0.268207  0.989287  8.511188  9.955297   \n",
       "5  5.0  0.013699  54.821427  0.268207  0.989287  8.511182  9.955293   \n",
       "6  6.0  0.016438  54.821453  0.268207  0.989287  8.511175  9.955289   \n",
       "7  7.0  0.019178  54.821479  0.268207  0.989287  8.511169  9.955284   \n",
       "8  8.0  0.021918  54.821506  0.268206  0.989287  8.511163  9.955279   \n",
       "9  9.0  0.024658  54.821533  0.268206  0.989287  8.511157  9.955275   \n",
       "\n",
       "          7         8         9   ...   14   15         16         17  \\\n",
       "0  50.033894  8.186889  0.809228  ...  0.0  0.0  56.602835  22.673092   \n",
       "1  50.033881  8.186888  0.809230  ...  0.0  0.0  56.602823  22.673058   \n",
       "2  50.033867  8.186887  0.809231  ...  0.0  0.0  56.602811  22.673023   \n",
       "3  50.033854  8.186887  0.809233  ...  0.0  0.0  56.602799  22.672989   \n",
       "4  50.033840  8.186886  0.809235  ...  0.0  0.0  56.602787  22.672955   \n",
       "5  50.033827  8.186885  0.809236  ...  0.0  0.0  56.602775  22.672921   \n",
       "6  50.033813  8.186884  0.809238  ...  0.0  0.0  56.602763  22.672887   \n",
       "7  50.033799  8.186883  0.809240  ...  0.0  0.0  56.602751  22.672853   \n",
       "8  50.033786  8.186882  0.809241  ...  0.0  0.0  56.602739  22.672819   \n",
       "9  50.033772  8.186881  0.809243  ...  0.0  0.0  56.602727  22.672785   \n",
       "\n",
       "          18        19        20        21        22   23  \n",
       "0  25.988747  0.830739  0.149208  0.307874  9.838410  0.0  \n",
       "1  25.988736  0.830741  0.149204  0.307875  9.838412  0.0  \n",
       "2  25.988726  0.830742  0.149200  0.307875  9.838414  0.0  \n",
       "3  25.988715  0.830743  0.149195  0.307876  9.838416  0.0  \n",
       "4  25.988704  0.830744  0.149191  0.307876  9.838418  0.0  \n",
       "5  25.988692  0.830745  0.149187  0.307877  9.838420  0.0  \n",
       "6  25.988681  0.830747  0.149183  0.307877  9.838422  0.0  \n",
       "7  25.988669  0.830748  0.149179  0.307878  9.838424  0.0  \n",
       "8  25.988657  0.830749  0.149175  0.307879  9.838426  0.0  \n",
       "9  25.988645  0.830750  0.149171  0.307879  9.838428  0.0  \n",
       "\n",
       "[10 rows x 24 columns]"
      ]
     },
     "execution_count": 6,
     "metadata": {},
     "output_type": "execute_result"
    }
   ],
   "source": [
    "import numpy as np\n",
    "import pandas as pd\n",
    "pd.options.mode.chained_assignment = None\n",
    "\n",
    "# Load data from EBT tool into DataFrame\n",
    "path = Cod_path\n",
    "ebt = pd.read_csv(path, delimiter = '\\t', header = None)\n",
    "\n",
    "# Show first 10 rows of dataset\n",
    "ebt.head(10)"
   ]
  },
  {
   "cell_type": "markdown",
   "metadata": {},
   "source": [
    "### Data Cleaning"
   ]
  },
  {
   "cell_type": "code",
   "execution_count": 7,
   "metadata": {},
   "outputs": [
    {
     "name": "stdout",
     "output_type": "stream",
     "text": [
      "Index(['Time (day)', 'Time (year)', 'Rs', 'Rj', 'Ra', 'Sj', 'Sa', 'Sb', 'Cj',\n",
      "       'Ca', 'Cb', 'Fc', 'ΔCj + Fc', 'ΔCa + Fc', 'ΔCb + Fc', 'ΔC + Fc', 'ΔSb',\n",
      "       'ΔSj', 'ΔSa', 'ΔCb', 'ΔCj', 'ΔCa', 'ΣC', 'Fs'],\n",
      "      dtype='object')\n"
     ]
    }
   ],
   "source": [
    "# Rename columns (see file /Users/apple/Desktop/MSc Thesis 1/MSc Thesis/Coding/Explanation Output Parameters.docx)\n",
    "labels = ['Time (day)', 'Time (year)',                    # Time labels\n",
    "          'Rs', 'Rj', 'Ra',                               # Shared resources biomass\n",
    "          'Sj', 'Sa', 'Sb',                               # Sprat stages biomass\n",
    "          'Cj', 'Ca', 'Cb',                               # Cod stages biomass\n",
    "          'Fc',                                           # Fishing imposed on cod\n",
    "          'ΔCj + Fc', 'ΔCa + Fc', 'ΔCb + Fc', 'ΔC + Fc', # Changes in cod biomass when fishing present\n",
    "          'ΔSb', 'ΔSj', 'ΔSa',                           # Changes in sprat biomass\n",
    "          'ΔCb', 'ΔCj', 'ΔCa',                           # Changes in cod biomass\n",
    "          'ΣC',                                           # Sum of cod biomass\n",
    "          'Fs']                                           # Fishing imposed on sprat\n",
    "ebt.columns = labels\n",
    "\n",
    "# Show new column labels\n",
    "print(ebt.columns)"
   ]
  },
  {
   "cell_type": "code",
   "execution_count": 8,
   "metadata": {},
   "outputs": [
    {
     "data": {
      "text/plain": [
       "[<matplotlib.lines.Line2D at 0x7ff0004e0e50>]"
      ]
     },
     "execution_count": 8,
     "metadata": {},
     "output_type": "execute_result"
    },
    {
     "data": {
      "image/png": "[encoded data removed]",
      "text/plain": [
       "<Figure size 432x288 with 2 Axes>"
      ]
     },
     "metadata": {
      "needs_background": "light"
     },
     "output_type": "display_data"
    }
   ],
   "source": [
    "%matplotlib inline\n",
    "import matplotlib.pyplot as plt\n",
    "import matplotlib.lines as lines\n",
    "\n",
    "# Select data to be visualized\n",
    "cod = ebt[['Cj', 'Ca', 'Cb']]\n",
    "sprat = ebt[['Sj', 'Sa', 'Sb']]\n",
    "time = ebt['Time (year)']\n",
    "\n",
    "# Set subplot figure defaults\n",
    "fig, [cod_plt, sprat_plt] = plt.subplots(2, 1, sharex = True)\n",
    "fig.subplots_adjust(hspace = 0)\n",
    "fig.suptitle('Cod-sprat dynamics')\n",
    "\n",
    "# Set labels for shared x-axis and individual y-axes\n",
    "cod_plt.set(ylabel = 'Cod biomass ($\\mathregular{g^V}$)')\n",
    "sprat_plt.set(ylabel = 'Sprat biomass ($\\mathregular{g^V}$)')\n",
    "plt.xlabel('Time (years)')\n",
    "\n",
    "# Visualize data\n",
    "cod_plt.plot(time, cod)\n",
    "sprat_plt.plot(time, sprat)\n",
    "\n",
    "# Add legends\n",
    "cod_plt.legend(['Cj', 'Ca', 'Cb'], loc = 'center right')\n",
    "sprat_plt.legend(['Sj', 'Sa', 'Sb'], loc = 'center right')\n",
    "\n",
    "# Draw vertical line at 20 years and 30 years to visualize data selection\n",
    "cod_plt.plot([20] * 10, np.arange(0,10), '--k')\n",
    "sprat_plt.plot([20] * 150, np.arange(0,150), '--k')\n",
    "\n",
    "cod_plt.plot([30] * 10, np.arange(0,10), '--k')\n",
    "sprat_plt.plot([30] * 150, np.arange(0,150), '--k')"
   ]
  },
  {
   "cell_type": "markdown",
   "metadata": {},
   "source": [
    "In the above figure dashed lines represent the data I have selected to carry out a demo of the TCDF machine learning model. For the purpose of this demo I have aditionally selected a low resolution of 30 day timesteps over 100 years. Next I will clean the data for this demo purpose too, with the following characteristics:\n",
    "> - Data between year 20 and 30 (i.e. 120 datapoints) \n",
    "> - Inclusion of the columns representing sprat- and cod stages\n",
    "> - Inclusion of the shared resources columns\n",
    "\n",
    "The data needs to be converted into a .csv file with every column representative of a (continuous) timeseries and the header needs explanatory column names (for eventually we will create a temporal causal graph with each node representing a timeseries)."
   ]
  },
  {
   "cell_type": "code",
   "execution_count": 9,
   "metadata": {
    "scrolled": false
   },
   "outputs": [
    {
     "data": {
      "text/html": [
       "<div>\n",
       "<style scoped>\n",
       "    .dataframe tbody tr th:only-of-type {\n",
       "        vertical-align: middle;\n",
       "    }\n",
       "\n",
       "    .dataframe tbody tr th {\n",
       "        vertical-align: top;\n",
       "    }\n",
       "\n",
       "    .dataframe thead th {\n",
       "        text-align: right;\n",
       "    }\n",
       "</style>\n",
       "<table border=\"1\" class=\"dataframe\">\n",
       "  <thead>\n",
       "    <tr style=\"text-align: right;\">\n",
       "      <th></th>\n",
       "      <th>Rs</th>\n",
       "      <th>Rj</th>\n",
       "      <th>Ra</th>\n",
       "      <th>Sj</th>\n",
       "      <th>Sa</th>\n",
       "      <th>Sb</th>\n",
       "      <th>Cj</th>\n",
       "      <th>Ca</th>\n",
       "      <th>Cb</th>\n",
       "      <th>Fc</th>\n",
       "    </tr>\n",
       "  </thead>\n",
       "  <tbody>\n",
       "    <tr>\n",
       "      <th>0</th>\n",
       "      <td>54.838332</td>\n",
       "      <td>0.268238</td>\n",
       "      <td>0.989280</td>\n",
       "      <td>8.510205</td>\n",
       "      <td>9.956561</td>\n",
       "      <td>50.013244</td>\n",
       "      <td>8.184919</td>\n",
       "      <td>0.809400</td>\n",
       "      <td>0.843533</td>\n",
       "      <td>0.000000</td>\n",
       "    </tr>\n",
       "    <tr>\n",
       "      <th>1</th>\n",
       "      <td>54.838332</td>\n",
       "      <td>0.268238</td>\n",
       "      <td>0.989280</td>\n",
       "      <td>8.510205</td>\n",
       "      <td>9.956561</td>\n",
       "      <td>50.013244</td>\n",
       "      <td>8.184919</td>\n",
       "      <td>0.809399</td>\n",
       "      <td>0.843532</td>\n",
       "      <td>0.001027</td>\n",
       "    </tr>\n",
       "    <tr>\n",
       "      <th>2</th>\n",
       "      <td>54.838332</td>\n",
       "      <td>0.268238</td>\n",
       "      <td>0.989280</td>\n",
       "      <td>8.510205</td>\n",
       "      <td>9.956561</td>\n",
       "      <td>50.013244</td>\n",
       "      <td>8.184919</td>\n",
       "      <td>0.809399</td>\n",
       "      <td>0.843530</td>\n",
       "      <td>0.002055</td>\n",
       "    </tr>\n",
       "    <tr>\n",
       "      <th>3</th>\n",
       "      <td>54.838332</td>\n",
       "      <td>0.268238</td>\n",
       "      <td>0.989280</td>\n",
       "      <td>8.510205</td>\n",
       "      <td>9.956561</td>\n",
       "      <td>50.013244</td>\n",
       "      <td>8.184918</td>\n",
       "      <td>0.809398</td>\n",
       "      <td>0.843527</td>\n",
       "      <td>0.003082</td>\n",
       "    </tr>\n",
       "    <tr>\n",
       "      <th>4</th>\n",
       "      <td>54.838332</td>\n",
       "      <td>0.268238</td>\n",
       "      <td>0.989280</td>\n",
       "      <td>8.510205</td>\n",
       "      <td>9.956561</td>\n",
       "      <td>50.013244</td>\n",
       "      <td>8.184917</td>\n",
       "      <td>0.809396</td>\n",
       "      <td>0.843522</td>\n",
       "      <td>0.004110</td>\n",
       "    </tr>\n",
       "    <tr>\n",
       "      <th>...</th>\n",
       "      <td>...</td>\n",
       "      <td>...</td>\n",
       "      <td>...</td>\n",
       "      <td>...</td>\n",
       "      <td>...</td>\n",
       "      <td>...</td>\n",
       "      <td>...</td>\n",
       "      <td>...</td>\n",
       "      <td>...</td>\n",
       "      <td>...</td>\n",
       "    </tr>\n",
       "    <tr>\n",
       "      <th>3641</th>\n",
       "      <td>25.940005</td>\n",
       "      <td>0.290546</td>\n",
       "      <td>0.969713</td>\n",
       "      <td>11.992235</td>\n",
       "      <td>20.165629</td>\n",
       "      <td>69.478724</td>\n",
       "      <td>8.987906</td>\n",
       "      <td>3.973822</td>\n",
       "      <td>0.076795</td>\n",
       "      <td>3.740753</td>\n",
       "    </tr>\n",
       "    <tr>\n",
       "      <th>3642</th>\n",
       "      <td>25.957505</td>\n",
       "      <td>0.290461</td>\n",
       "      <td>0.969712</td>\n",
       "      <td>11.986605</td>\n",
       "      <td>20.150119</td>\n",
       "      <td>69.483323</td>\n",
       "      <td>8.989210</td>\n",
       "      <td>3.972971</td>\n",
       "      <td>0.076769</td>\n",
       "      <td>3.741781</td>\n",
       "    </tr>\n",
       "    <tr>\n",
       "      <th>3643</th>\n",
       "      <td>25.975086</td>\n",
       "      <td>0.290377</td>\n",
       "      <td>0.969711</td>\n",
       "      <td>11.980978</td>\n",
       "      <td>20.134557</td>\n",
       "      <td>69.487854</td>\n",
       "      <td>8.990512</td>\n",
       "      <td>3.972101</td>\n",
       "      <td>0.076743</td>\n",
       "      <td>3.742808</td>\n",
       "    </tr>\n",
       "    <tr>\n",
       "      <th>3644</th>\n",
       "      <td>25.992747</td>\n",
       "      <td>0.290292</td>\n",
       "      <td>0.969711</td>\n",
       "      <td>11.975354</td>\n",
       "      <td>20.118942</td>\n",
       "      <td>69.492318</td>\n",
       "      <td>8.991813</td>\n",
       "      <td>3.971212</td>\n",
       "      <td>0.076716</td>\n",
       "      <td>3.743836</td>\n",
       "    </tr>\n",
       "    <tr>\n",
       "      <th>3645</th>\n",
       "      <td>26.010489</td>\n",
       "      <td>0.290208</td>\n",
       "      <td>0.969711</td>\n",
       "      <td>11.969734</td>\n",
       "      <td>20.103275</td>\n",
       "      <td>69.496714</td>\n",
       "      <td>8.993112</td>\n",
       "      <td>3.970304</td>\n",
       "      <td>0.076689</td>\n",
       "      <td>3.744863</td>\n",
       "    </tr>\n",
       "  </tbody>\n",
       "</table>\n",
       "<p>3646 rows × 10 columns</p>\n",
       "</div>"
      ],
      "text/plain": [
       "             Rs        Rj        Ra         Sj         Sa         Sb  \\\n",
       "0     54.838332  0.268238  0.989280   8.510205   9.956561  50.013244   \n",
       "1     54.838332  0.268238  0.989280   8.510205   9.956561  50.013244   \n",
       "2     54.838332  0.268238  0.989280   8.510205   9.956561  50.013244   \n",
       "3     54.838332  0.268238  0.989280   8.510205   9.956561  50.013244   \n",
       "4     54.838332  0.268238  0.989280   8.510205   9.956561  50.013244   \n",
       "...         ...       ...       ...        ...        ...        ...   \n",
       "3641  25.940005  0.290546  0.969713  11.992235  20.165629  69.478724   \n",
       "3642  25.957505  0.290461  0.969712  11.986605  20.150119  69.483323   \n",
       "3643  25.975086  0.290377  0.969711  11.980978  20.134557  69.487854   \n",
       "3644  25.992747  0.290292  0.969711  11.975354  20.118942  69.492318   \n",
       "3645  26.010489  0.290208  0.969711  11.969734  20.103275  69.496714   \n",
       "\n",
       "            Cj        Ca        Cb        Fc  \n",
       "0     8.184919  0.809400  0.843533  0.000000  \n",
       "1     8.184919  0.809399  0.843532  0.001027  \n",
       "2     8.184919  0.809399  0.843530  0.002055  \n",
       "3     8.184918  0.809398  0.843527  0.003082  \n",
       "4     8.184917  0.809396  0.843522  0.004110  \n",
       "...        ...       ...       ...       ...  \n",
       "3641  8.987906  3.973822  0.076795  3.740753  \n",
       "3642  8.989210  3.972971  0.076769  3.741781  \n",
       "3643  8.990512  3.972101  0.076743  3.742808  \n",
       "3644  8.991813  3.971212  0.076716  3.743836  \n",
       "3645  8.993112  3.970304  0.076689  3.744863  \n",
       "\n",
       "[3646 rows x 10 columns]"
      ]
     },
     "execution_count": 9,
     "metadata": {},
     "output_type": "execute_result"
    }
   ],
   "source": [
    "# Select information of datapoints between year 20 and 30\n",
    "demo_ebt = ebt[(ebt['Time (year)'] >= 20) & (ebt['Time (year)'] <= 30)]\n",
    "\n",
    "# Select only the necessary biomass columns as timeseries\n",
    "demo_ebt = demo_ebt[['Rs', 'Rj', 'Ra',\n",
    "                     'Sj', 'Sa', 'Sb',\n",
    "                     'Cj', 'Ca', 'Cb',\n",
    "                     'Fc']]\n",
    "\n",
    "# Reset index\n",
    "demo_ebt.reset_index(inplace = True)\n",
    "demo_ebt.drop('index', axis = 'columns', inplace = True)\n",
    "\n",
    "# Show first and last five columns of clean dataframe\n",
    "demo_ebt.head(-5)"
   ]
  },
  {
   "cell_type": "markdown",
   "metadata": {},
   "source": [
    "### Low Resolution Dataset\n",
    "Run these cells when performing machine learning model with low res dataset"
   ]
  },
  {
   "cell_type": "code",
   "execution_count": 10,
   "metadata": {},
   "outputs": [
    {
     "data": {
      "text/html": [
       "<div>\n",
       "<style scoped>\n",
       "    .dataframe tbody tr th:only-of-type {\n",
       "        vertical-align: middle;\n",
       "    }\n",
       "\n",
       "    .dataframe tbody tr th {\n",
       "        vertical-align: top;\n",
       "    }\n",
       "\n",
       "    .dataframe thead th {\n",
       "        text-align: right;\n",
       "    }\n",
       "</style>\n",
       "<table border=\"1\" class=\"dataframe\">\n",
       "  <thead>\n",
       "    <tr style=\"text-align: right;\">\n",
       "      <th></th>\n",
       "      <th>Rs</th>\n",
       "      <th>Rj</th>\n",
       "      <th>Ra</th>\n",
       "      <th>Sj</th>\n",
       "      <th>Sa</th>\n",
       "      <th>Sb</th>\n",
       "      <th>Cj</th>\n",
       "      <th>Ca</th>\n",
       "      <th>Cb</th>\n",
       "      <th>Fc</th>\n",
       "      <th>Time</th>\n",
       "    </tr>\n",
       "  </thead>\n",
       "  <tbody>\n",
       "    <tr>\n",
       "      <th>0</th>\n",
       "      <td>54.838332</td>\n",
       "      <td>0.268238</td>\n",
       "      <td>0.989280</td>\n",
       "      <td>8.510205</td>\n",
       "      <td>9.956561</td>\n",
       "      <td>50.013244</td>\n",
       "      <td>8.184919</td>\n",
       "      <td>0.809400</td>\n",
       "      <td>0.843533</td>\n",
       "      <td>0.000000</td>\n",
       "      <td>20.000000</td>\n",
       "    </tr>\n",
       "    <tr>\n",
       "      <th>1</th>\n",
       "      <td>54.838330</td>\n",
       "      <td>0.268238</td>\n",
       "      <td>0.989280</td>\n",
       "      <td>8.510207</td>\n",
       "      <td>9.956563</td>\n",
       "      <td>50.013248</td>\n",
       "      <td>8.184903</td>\n",
       "      <td>0.809379</td>\n",
       "      <td>0.843464</td>\n",
       "      <td>0.010274</td>\n",
       "      <td>20.027397</td>\n",
       "    </tr>\n",
       "    <tr>\n",
       "      <th>2</th>\n",
       "      <td>54.838303</td>\n",
       "      <td>0.268239</td>\n",
       "      <td>0.989280</td>\n",
       "      <td>8.510224</td>\n",
       "      <td>9.956576</td>\n",
       "      <td>50.013281</td>\n",
       "      <td>8.184851</td>\n",
       "      <td>0.809317</td>\n",
       "      <td>0.843258</td>\n",
       "      <td>0.020548</td>\n",
       "      <td>20.054795</td>\n",
       "    </tr>\n",
       "    <tr>\n",
       "      <th>3</th>\n",
       "      <td>54.838202</td>\n",
       "      <td>0.268241</td>\n",
       "      <td>0.989282</td>\n",
       "      <td>8.510272</td>\n",
       "      <td>9.956614</td>\n",
       "      <td>50.013370</td>\n",
       "      <td>8.184762</td>\n",
       "      <td>0.809213</td>\n",
       "      <td>0.842916</td>\n",
       "      <td>0.030822</td>\n",
       "      <td>20.082192</td>\n",
       "    </tr>\n",
       "    <tr>\n",
       "      <th>4</th>\n",
       "      <td>54.837966</td>\n",
       "      <td>0.268244</td>\n",
       "      <td>0.989284</td>\n",
       "      <td>8.510369</td>\n",
       "      <td>9.956694</td>\n",
       "      <td>50.013544</td>\n",
       "      <td>8.184634</td>\n",
       "      <td>0.809070</td>\n",
       "      <td>0.842440</td>\n",
       "      <td>0.041096</td>\n",
       "      <td>20.109589</td>\n",
       "    </tr>\n",
       "    <tr>\n",
       "      <th>...</th>\n",
       "      <td>...</td>\n",
       "      <td>...</td>\n",
       "      <td>...</td>\n",
       "      <td>...</td>\n",
       "      <td>...</td>\n",
       "      <td>...</td>\n",
       "      <td>...</td>\n",
       "      <td>...</td>\n",
       "      <td>...</td>\n",
       "      <td>...</td>\n",
       "      <td>...</td>\n",
       "    </tr>\n",
       "    <tr>\n",
       "      <th>361</th>\n",
       "      <td>25.440350</td>\n",
       "      <td>0.293186</td>\n",
       "      <td>0.969794</td>\n",
       "      <td>12.167928</td>\n",
       "      <td>20.617554</td>\n",
       "      <td>69.302405</td>\n",
       "      <td>8.946928</td>\n",
       "      <td>3.990450</td>\n",
       "      <td>0.077369</td>\n",
       "      <td>3.708904</td>\n",
       "      <td>29.890411</td>\n",
       "    </tr>\n",
       "    <tr>\n",
       "      <th>362</th>\n",
       "      <td>25.592090</td>\n",
       "      <td>0.292331</td>\n",
       "      <td>0.969755</td>\n",
       "      <td>12.111058</td>\n",
       "      <td>20.478283</td>\n",
       "      <td>69.366466</td>\n",
       "      <td>8.960258</td>\n",
       "      <td>3.987189</td>\n",
       "      <td>0.077231</td>\n",
       "      <td>3.719178</td>\n",
       "      <td>29.917808</td>\n",
       "    </tr>\n",
       "    <tr>\n",
       "      <th>363</th>\n",
       "      <td>25.753000</td>\n",
       "      <td>0.291479</td>\n",
       "      <td>0.969728</td>\n",
       "      <td>12.054347</td>\n",
       "      <td>20.332621</td>\n",
       "      <td>69.423668</td>\n",
       "      <td>8.973486</td>\n",
       "      <td>3.981907</td>\n",
       "      <td>0.077048</td>\n",
       "      <td>3.729452</td>\n",
       "      <td>29.945205</td>\n",
       "    </tr>\n",
       "    <tr>\n",
       "      <th>364</th>\n",
       "      <td>25.922587</td>\n",
       "      <td>0.290631</td>\n",
       "      <td>0.969713</td>\n",
       "      <td>11.997868</td>\n",
       "      <td>20.181086</td>\n",
       "      <td>69.474057</td>\n",
       "      <td>8.986601</td>\n",
       "      <td>3.974654</td>\n",
       "      <td>0.076820</td>\n",
       "      <td>3.739726</td>\n",
       "      <td>29.972603</td>\n",
       "    </tr>\n",
       "    <tr>\n",
       "      <th>365</th>\n",
       "      <td>26.100388</td>\n",
       "      <td>0.289787</td>\n",
       "      <td>0.969711</td>\n",
       "      <td>11.941679</td>\n",
       "      <td>20.024186</td>\n",
       "      <td>69.517690</td>\n",
       "      <td>8.999591</td>\n",
       "      <td>3.965480</td>\n",
       "      <td>0.076547</td>\n",
       "      <td>3.750000</td>\n",
       "      <td>30.000000</td>\n",
       "    </tr>\n",
       "  </tbody>\n",
       "</table>\n",
       "<p>366 rows × 11 columns</p>\n",
       "</div>"
      ],
      "text/plain": [
       "            Rs        Rj        Ra         Sj         Sa         Sb        Cj  \\\n",
       "0    54.838332  0.268238  0.989280   8.510205   9.956561  50.013244  8.184919   \n",
       "1    54.838330  0.268238  0.989280   8.510207   9.956563  50.013248  8.184903   \n",
       "2    54.838303  0.268239  0.989280   8.510224   9.956576  50.013281  8.184851   \n",
       "3    54.838202  0.268241  0.989282   8.510272   9.956614  50.013370  8.184762   \n",
       "4    54.837966  0.268244  0.989284   8.510369   9.956694  50.013544  8.184634   \n",
       "..         ...       ...       ...        ...        ...        ...       ...   \n",
       "361  25.440350  0.293186  0.969794  12.167928  20.617554  69.302405  8.946928   \n",
       "362  25.592090  0.292331  0.969755  12.111058  20.478283  69.366466  8.960258   \n",
       "363  25.753000  0.291479  0.969728  12.054347  20.332621  69.423668  8.973486   \n",
       "364  25.922587  0.290631  0.969713  11.997868  20.181086  69.474057  8.986601   \n",
       "365  26.100388  0.289787  0.969711  11.941679  20.024186  69.517690  8.999591   \n",
       "\n",
       "           Ca        Cb        Fc       Time  \n",
       "0    0.809400  0.843533  0.000000  20.000000  \n",
       "1    0.809379  0.843464  0.010274  20.027397  \n",
       "2    0.809317  0.843258  0.020548  20.054795  \n",
       "3    0.809213  0.842916  0.030822  20.082192  \n",
       "4    0.809070  0.842440  0.041096  20.109589  \n",
       "..        ...       ...       ...        ...  \n",
       "361  3.990450  0.077369  3.708904  29.890411  \n",
       "362  3.987189  0.077231  3.719178  29.917808  \n",
       "363  3.981907  0.077048  3.729452  29.945205  \n",
       "364  3.974654  0.076820  3.739726  29.972603  \n",
       "365  3.965480  0.076547  3.750000  30.000000  \n",
       "\n",
       "[366 rows x 11 columns]"
      ]
     },
     "execution_count": 10,
     "metadata": {},
     "output_type": "execute_result"
    }
   ],
   "source": [
    "# Compress dataset to lower resolution (~365 datapoints)\n",
    "low_demo_ebt = demo_ebt.iloc[::10, :]\n",
    "low_demo_ebt.reset_index(drop = True, inplace = True)\n",
    "low_demo_ebt['Time'] = np.linspace(20, 30, 366)\n",
    "\n",
    "# Check format of low resolution dataset\n",
    "low_demo_ebt"
   ]
  },
  {
   "cell_type": "code",
   "execution_count": 11,
   "metadata": {},
   "outputs": [
    {
     "data": {
      "image/png": "[encoded data removed]",
      "text/plain": [
       "<Figure size 432x288 with 2 Axes>"
      ]
     },
     "metadata": {
      "needs_background": "light"
     },
     "output_type": "display_data"
    }
   ],
   "source": [
    "# Visualize data from lower resolution dataset \n",
    "%matplotlib inline\n",
    "import matplotlib.pyplot as plt\n",
    "import matplotlib.lines as lines\n",
    "\n",
    "# Select data to be visualized\n",
    "cod = low_demo_ebt[['Cj', 'Ca', 'Cb']]\n",
    "sprat = low_demo_ebt[['Sj', 'Sa', 'Sb']]\n",
    "time = low_demo_ebt['Time']\n",
    "\n",
    "# Set subplot figure defaults\n",
    "fig, [cod_plt, sprat_plt] = plt.subplots(2, 1, sharex = True)\n",
    "fig.subplots_adjust(hspace = 0)\n",
    "fig.suptitle('Cod-sprat dynamics 20-30 years')\n",
    "\n",
    "# Set labels for shared x-axis and individual y-axes\n",
    "cod_plt.set(ylabel = 'Cod biomass ($\\mathregular{g^V}$)')\n",
    "sprat_plt.set(ylabel = 'Sprat biomass ($\\mathregular{g^V}$)')\n",
    "plt.xlabel('Time (years)')\n",
    "\n",
    "# Visualize data\n",
    "cod_plt.plot(time, cod)\n",
    "sprat_plt.plot(time, sprat)\n",
    "\n",
    "# Add legends\n",
    "cod_plt.legend(['Cj', 'Ca', 'Cb'], loc = 'center left')\n",
    "sprat_plt.legend(['Sj', 'Sa', 'Sb'], loc = 'center left')\n",
    "\n",
    "# Remove Time column\n",
    "low_demo_ebt.drop(['Time'], axis = 1, inplace = True)"
   ]
  },
  {
   "cell_type": "code",
   "execution_count": 12,
   "metadata": {
    "scrolled": false
   },
   "outputs": [
    {
     "data": {
      "text/html": [
       "<div>\n",
       "<style scoped>\n",
       "    .dataframe tbody tr th:only-of-type {\n",
       "        vertical-align: middle;\n",
       "    }\n",
       "\n",
       "    .dataframe tbody tr th {\n",
       "        vertical-align: top;\n",
       "    }\n",
       "\n",
       "    .dataframe thead th {\n",
       "        text-align: right;\n",
       "    }\n",
       "</style>\n",
       "<table border=\"1\" class=\"dataframe\">\n",
       "  <thead>\n",
       "    <tr style=\"text-align: right;\">\n",
       "      <th></th>\n",
       "      <th>Rs</th>\n",
       "      <th>Rj</th>\n",
       "      <th>Ra</th>\n",
       "      <th>Sj</th>\n",
       "      <th>Sa</th>\n",
       "      <th>Sb</th>\n",
       "      <th>Cj</th>\n",
       "      <th>Ca</th>\n",
       "      <th>Cb</th>\n",
       "      <th>Fc</th>\n",
       "    </tr>\n",
       "  </thead>\n",
       "  <tbody>\n",
       "    <tr>\n",
       "      <th>0</th>\n",
       "      <td>1.000000</td>\n",
       "      <td>0.165405</td>\n",
       "      <td>0.984417</td>\n",
       "      <td>0.000000e+00</td>\n",
       "      <td>0.000123</td>\n",
       "      <td>0.000000e+00</td>\n",
       "      <td>0.011209</td>\n",
       "      <td>0.002429</td>\n",
       "      <td>1.000000</td>\n",
       "      <td>0.000000</td>\n",
       "    </tr>\n",
       "    <tr>\n",
       "      <th>1</th>\n",
       "      <td>1.000000</td>\n",
       "      <td>0.165409</td>\n",
       "      <td>0.984422</td>\n",
       "      <td>5.055820e-07</td>\n",
       "      <td>0.000123</td>\n",
       "      <td>2.369050e-07</td>\n",
       "      <td>0.011189</td>\n",
       "      <td>0.002423</td>\n",
       "      <td>0.999912</td>\n",
       "      <td>0.002740</td>\n",
       "    </tr>\n",
       "    <tr>\n",
       "      <th>2</th>\n",
       "      <td>0.999999</td>\n",
       "      <td>0.165428</td>\n",
       "      <td>0.984450</td>\n",
       "      <td>4.195656e-06</td>\n",
       "      <td>0.000124</td>\n",
       "      <td>1.907222e-06</td>\n",
       "      <td>0.011126</td>\n",
       "      <td>0.002403</td>\n",
       "      <td>0.999650</td>\n",
       "      <td>0.005479</td>\n",
       "    </tr>\n",
       "    <tr>\n",
       "      <th>3</th>\n",
       "      <td>0.999996</td>\n",
       "      <td>0.165470</td>\n",
       "      <td>0.984512</td>\n",
       "      <td>1.458505e-05</td>\n",
       "      <td>0.000128</td>\n",
       "      <td>6.462716e-06</td>\n",
       "      <td>0.011018</td>\n",
       "      <td>0.002371</td>\n",
       "      <td>0.999214</td>\n",
       "      <td>0.008219</td>\n",
       "    </tr>\n",
       "    <tr>\n",
       "      <th>4</th>\n",
       "      <td>0.999988</td>\n",
       "      <td>0.165540</td>\n",
       "      <td>0.984610</td>\n",
       "      <td>3.547577e-05</td>\n",
       "      <td>0.000135</td>\n",
       "      <td>1.537952e-05</td>\n",
       "      <td>0.010862</td>\n",
       "      <td>0.002326</td>\n",
       "      <td>0.998606</td>\n",
       "      <td>0.010959</td>\n",
       "    </tr>\n",
       "    <tr>\n",
       "      <th>...</th>\n",
       "      <td>...</td>\n",
       "      <td>...</td>\n",
       "      <td>...</td>\n",
       "      <td>...</td>\n",
       "      <td>...</td>\n",
       "      <td>...</td>\n",
       "      <td>...</td>\n",
       "      <td>...</td>\n",
       "      <td>...</td>\n",
       "      <td>...</td>\n",
       "    </tr>\n",
       "    <tr>\n",
       "      <th>351</th>\n",
       "      <td>0.000394</td>\n",
       "      <td>0.834836</td>\n",
       "      <td>0.058395</td>\n",
       "      <td>9.102274e-01</td>\n",
       "      <td>0.994137</td>\n",
       "      <td>9.365301e-01</td>\n",
       "      <td>0.771108</td>\n",
       "      <td>0.972165</td>\n",
       "      <td>0.021485</td>\n",
       "      <td>0.961644</td>\n",
       "    </tr>\n",
       "    <tr>\n",
       "      <th>352</th>\n",
       "      <td>0.001315</td>\n",
       "      <td>0.818991</td>\n",
       "      <td>0.050148</td>\n",
       "      <td>8.991905e-01</td>\n",
       "      <td>0.990120</td>\n",
       "      <td>9.433765e-01</td>\n",
       "      <td>0.787616</td>\n",
       "      <td>0.978138</td>\n",
       "      <td>0.021878</td>\n",
       "      <td>0.964384</td>\n",
       "    </tr>\n",
       "    <tr>\n",
       "      <th>353</th>\n",
       "      <td>0.002741</td>\n",
       "      <td>0.802812</td>\n",
       "      <td>0.042518</td>\n",
       "      <td>8.878420e-01</td>\n",
       "      <td>0.985123</td>\n",
       "      <td>9.498690e-01</td>\n",
       "      <td>0.804167</td>\n",
       "      <td>0.983378</td>\n",
       "      <td>0.022219</td>\n",
       "      <td>0.967123</td>\n",
       "    </tr>\n",
       "    <tr>\n",
       "      <th>354</th>\n",
       "      <td>0.004649</td>\n",
       "      <td>0.786351</td>\n",
       "      <td>0.035513</td>\n",
       "      <td>8.762325e-01</td>\n",
       "      <td>0.979184</td>\n",
       "      <td>9.560058e-01</td>\n",
       "      <td>0.820744</td>\n",
       "      <td>0.987887</td>\n",
       "      <td>0.022505</td>\n",
       "      <td>0.969863</td>\n",
       "    </tr>\n",
       "    <tr>\n",
       "      <th>355</th>\n",
       "      <td>0.007018</td>\n",
       "      <td>0.769659</td>\n",
       "      <td>0.029136</td>\n",
       "      <td>8.644091e-01</td>\n",
       "      <td>0.972341</td>\n",
       "      <td>9.617859e-01</td>\n",
       "      <td>0.837330</td>\n",
       "      <td>0.991670</td>\n",
       "      <td>0.022736</td>\n",
       "      <td>0.972603</td>\n",
       "    </tr>\n",
       "  </tbody>\n",
       "</table>\n",
       "<p>356 rows × 10 columns</p>\n",
       "</div>"
      ],
      "text/plain": [
       "           Rs        Rj        Ra            Sj        Sa            Sb  \\\n",
       "0    1.000000  0.165405  0.984417  0.000000e+00  0.000123  0.000000e+00   \n",
       "1    1.000000  0.165409  0.984422  5.055820e-07  0.000123  2.369050e-07   \n",
       "2    0.999999  0.165428  0.984450  4.195656e-06  0.000124  1.907222e-06   \n",
       "3    0.999996  0.165470  0.984512  1.458505e-05  0.000128  6.462716e-06   \n",
       "4    0.999988  0.165540  0.984610  3.547577e-05  0.000135  1.537952e-05   \n",
       "..        ...       ...       ...           ...       ...           ...   \n",
       "351  0.000394  0.834836  0.058395  9.102274e-01  0.994137  9.365301e-01   \n",
       "352  0.001315  0.818991  0.050148  8.991905e-01  0.990120  9.433765e-01   \n",
       "353  0.002741  0.802812  0.042518  8.878420e-01  0.985123  9.498690e-01   \n",
       "354  0.004649  0.786351  0.035513  8.762325e-01  0.979184  9.560058e-01   \n",
       "355  0.007018  0.769659  0.029136  8.644091e-01  0.972341  9.617859e-01   \n",
       "\n",
       "           Cj        Ca        Cb        Fc  \n",
       "0    0.011209  0.002429  1.000000  0.000000  \n",
       "1    0.011189  0.002423  0.999912  0.002740  \n",
       "2    0.011126  0.002403  0.999650  0.005479  \n",
       "3    0.011018  0.002371  0.999214  0.008219  \n",
       "4    0.010862  0.002326  0.998606  0.010959  \n",
       "..        ...       ...       ...       ...  \n",
       "351  0.771108  0.972165  0.021485  0.961644  \n",
       "352  0.787616  0.978138  0.021878  0.964384  \n",
       "353  0.804167  0.983378  0.022219  0.967123  \n",
       "354  0.820744  0.987887  0.022505  0.969863  \n",
       "355  0.837330  0.991670  0.022736  0.972603  \n",
       "\n",
       "[356 rows x 10 columns]"
      ]
     },
     "execution_count": 12,
     "metadata": {},
     "output_type": "execute_result"
    }
   ],
   "source": [
    "from sklearn.preprocessing import MinMaxScaler\n",
    "\n",
    "# Normalize data with min-max normalization\n",
    "scaler = MinMaxScaler()\n",
    "ebt_scaled = scaler.fit_transform(low_demo_ebt)\n",
    "\n",
    "# Write scaled data to DataFrame\n",
    "labels = ['Rs', 'Rj', 'Ra',\n",
    "          'Sj', 'Sa', 'Sb',\n",
    "          'Cj', 'Ca', 'Cb',\n",
    "          'Fc']\n",
    "demo_ebt_scaled = pd.DataFrame(ebt_scaled, columns = labels)\n",
    "\n",
    "# Check the scaled DataFrame\n",
    "demo_ebt_scaled.head(-10)"
   ]
  },
  {
   "cell_type": "markdown",
   "metadata": {},
   "source": [
    "### High Resolution Dataset\n",
    "Run these cells when performing machine learning model with high res dataset"
   ]
  },
  {
   "cell_type": "code",
   "execution_count": 13,
   "metadata": {
    "scrolled": false
   },
   "outputs": [
    {
     "data": {
      "image/png": "[encoded data removed]",
      "text/plain": [
       "<Figure size 432x288 with 2 Axes>"
      ]
     },
     "metadata": {
      "needs_background": "light"
     },
     "output_type": "display_data"
    }
   ],
   "source": [
    "# Visualize data from lower resolution dataset \n",
    "%matplotlib inline\n",
    "import matplotlib.pyplot as plt\n",
    "import matplotlib.lines as lines\n",
    "\n",
    "# Select data to be visualized\n",
    "cod = demo_ebt[['Cj', 'Ca', 'Cb']]\n",
    "sprat = demo_ebt[['Sj', 'Sa', 'Sb']]\n",
    "demo_ebt['Time'] = np.linspace(20, 30, 3651)\n",
    "time = demo_ebt['Time']\n",
    "\n",
    "# Set subplot figure defaults\n",
    "fig, [cod_plt, sprat_plt] = plt.subplots(2, 1, sharex = True)\n",
    "fig.subplots_adjust(hspace = 0)\n",
    "fig.suptitle('Cod-sprat dynamics 20-30 years')\n",
    "\n",
    "# Set labels for shared x-axis and individual y-axes\n",
    "cod_plt.set(ylabel = 'Cod biomass ($\\mathregular{g^V}$)')\n",
    "sprat_plt.set(ylabel = 'Sprat biomass ($\\mathregular{g^V}$)')\n",
    "plt.xlabel('Time (years)')\n",
    "\n",
    "# Visualize data\n",
    "cod_plt.plot(time, cod)\n",
    "sprat_plt.plot(time, sprat)\n",
    "\n",
    "# Add legends\n",
    "cod_plt.legend(['Cj', 'Ca', 'Cb'], loc = 'center left')\n",
    "sprat_plt.legend(['Sj', 'Sa', 'Sb'], loc = 'center left')\n",
    "\n",
    "# Remove Time column\n",
    "demo_ebt.drop(['Time'], axis = 1, inplace = True)"
   ]
  },
  {
   "cell_type": "code",
   "execution_count": 14,
   "metadata": {
    "scrolled": false
   },
   "outputs": [
    {
     "data": {
      "text/html": [
       "<div>\n",
       "<style scoped>\n",
       "    .dataframe tbody tr th:only-of-type {\n",
       "        vertical-align: middle;\n",
       "    }\n",
       "\n",
       "    .dataframe tbody tr th {\n",
       "        vertical-align: top;\n",
       "    }\n",
       "\n",
       "    .dataframe thead th {\n",
       "        text-align: right;\n",
       "    }\n",
       "</style>\n",
       "<table border=\"1\" class=\"dataframe\">\n",
       "  <thead>\n",
       "    <tr style=\"text-align: right;\">\n",
       "      <th></th>\n",
       "      <th>Rs</th>\n",
       "      <th>Rj</th>\n",
       "      <th>Ra</th>\n",
       "      <th>Sj</th>\n",
       "      <th>Sa</th>\n",
       "      <th>Sb</th>\n",
       "      <th>Cj</th>\n",
       "      <th>Ca</th>\n",
       "      <th>Cb</th>\n",
       "      <th>Fc</th>\n",
       "    </tr>\n",
       "  </thead>\n",
       "  <tbody>\n",
       "    <tr>\n",
       "      <th>0</th>\n",
       "      <td>1.000000</td>\n",
       "      <td>0.165474</td>\n",
       "      <td>0.984412</td>\n",
       "      <td>0.000000e+00</td>\n",
       "      <td>0.000190</td>\n",
       "      <td>0.000000e+00</td>\n",
       "      <td>0.011218</td>\n",
       "      <td>0.002431</td>\n",
       "      <td>1.000000</td>\n",
       "      <td>0.000000</td>\n",
       "    </tr>\n",
       "    <tr>\n",
       "      <th>1</th>\n",
       "      <td>1.000000</td>\n",
       "      <td>0.165474</td>\n",
       "      <td>0.984412</td>\n",
       "      <td>3.460767e-10</td>\n",
       "      <td>0.000190</td>\n",
       "      <td>1.384297e-10</td>\n",
       "      <td>0.011218</td>\n",
       "      <td>0.002431</td>\n",
       "      <td>0.999999</td>\n",
       "      <td>0.000274</td>\n",
       "    </tr>\n",
       "    <tr>\n",
       "      <th>2</th>\n",
       "      <td>1.000000</td>\n",
       "      <td>0.165474</td>\n",
       "      <td>0.984412</td>\n",
       "      <td>3.655434e-09</td>\n",
       "      <td>0.000190</td>\n",
       "      <td>1.697049e-09</td>\n",
       "      <td>0.011217</td>\n",
       "      <td>0.002431</td>\n",
       "      <td>0.999996</td>\n",
       "      <td>0.000548</td>\n",
       "    </tr>\n",
       "    <tr>\n",
       "      <th>3</th>\n",
       "      <td>1.000000</td>\n",
       "      <td>0.165474</td>\n",
       "      <td>0.984412</td>\n",
       "      <td>1.286972e-08</td>\n",
       "      <td>0.000190</td>\n",
       "      <td>6.111426e-09</td>\n",
       "      <td>0.011216</td>\n",
       "      <td>0.002430</td>\n",
       "      <td>0.999992</td>\n",
       "      <td>0.000822</td>\n",
       "    </tr>\n",
       "    <tr>\n",
       "      <th>4</th>\n",
       "      <td>1.000000</td>\n",
       "      <td>0.165474</td>\n",
       "      <td>0.984413</td>\n",
       "      <td>3.110363e-08</td>\n",
       "      <td>0.000190</td>\n",
       "      <td>1.480175e-08</td>\n",
       "      <td>0.011215</td>\n",
       "      <td>0.002430</td>\n",
       "      <td>0.999986</td>\n",
       "      <td>0.001096</td>\n",
       "    </tr>\n",
       "    <tr>\n",
       "      <th>...</th>\n",
       "      <td>...</td>\n",
       "      <td>...</td>\n",
       "      <td>...</td>\n",
       "      <td>...</td>\n",
       "      <td>...</td>\n",
       "      <td>...</td>\n",
       "      <td>...</td>\n",
       "      <td>...</td>\n",
       "      <td>...</td>\n",
       "      <td>...</td>\n",
       "    </tr>\n",
       "    <tr>\n",
       "      <th>3636</th>\n",
       "      <td>0.043359</td>\n",
       "      <td>0.622474</td>\n",
       "      <td>0.000372</td>\n",
       "      <td>7.592537e-01</td>\n",
       "      <td>0.882482</td>\n",
       "      <td>9.967713e-01</td>\n",
       "      <td>0.977885</td>\n",
       "      <td>0.995656</td>\n",
       "      <td>0.022334</td>\n",
       "      <td>0.996164</td>\n",
       "    </tr>\n",
       "    <tr>\n",
       "      <th>3637</th>\n",
       "      <td>0.043923</td>\n",
       "      <td>0.620770</td>\n",
       "      <td>0.000308</td>\n",
       "      <td>7.580328e-01</td>\n",
       "      <td>0.881175</td>\n",
       "      <td>9.970244e-01</td>\n",
       "      <td>0.979474</td>\n",
       "      <td>0.995420</td>\n",
       "      <td>0.022304</td>\n",
       "      <td>0.996438</td>\n",
       "    </tr>\n",
       "    <tr>\n",
       "      <th>3638</th>\n",
       "      <td>0.044489</td>\n",
       "      <td>0.619066</td>\n",
       "      <td>0.000250</td>\n",
       "      <td>7.568126e-01</td>\n",
       "      <td>0.879863</td>\n",
       "      <td>9.972741e-01</td>\n",
       "      <td>0.981062</td>\n",
       "      <td>0.995177</td>\n",
       "      <td>0.022273</td>\n",
       "      <td>0.996712</td>\n",
       "    </tr>\n",
       "    <tr>\n",
       "      <th>3639</th>\n",
       "      <td>0.045059</td>\n",
       "      <td>0.617363</td>\n",
       "      <td>0.000198</td>\n",
       "      <td>7.555930e-01</td>\n",
       "      <td>0.878546</td>\n",
       "      <td>9.975202e-01</td>\n",
       "      <td>0.982649</td>\n",
       "      <td>0.994929</td>\n",
       "      <td>0.022242</td>\n",
       "      <td>0.996986</td>\n",
       "    </tr>\n",
       "    <tr>\n",
       "      <th>3640</th>\n",
       "      <td>0.045631</td>\n",
       "      <td>0.615661</td>\n",
       "      <td>0.000152</td>\n",
       "      <td>7.543740e-01</td>\n",
       "      <td>0.877225</td>\n",
       "      <td>9.977629e-01</td>\n",
       "      <td>0.984234</td>\n",
       "      <td>0.994674</td>\n",
       "      <td>0.022211</td>\n",
       "      <td>0.997260</td>\n",
       "    </tr>\n",
       "  </tbody>\n",
       "</table>\n",
       "<p>3641 rows × 10 columns</p>\n",
       "</div>"
      ],
      "text/plain": [
       "            Rs        Rj        Ra            Sj        Sa            Sb  \\\n",
       "0     1.000000  0.165474  0.984412  0.000000e+00  0.000190  0.000000e+00   \n",
       "1     1.000000  0.165474  0.984412  3.460767e-10  0.000190  1.384297e-10   \n",
       "2     1.000000  0.165474  0.984412  3.655434e-09  0.000190  1.697049e-09   \n",
       "3     1.000000  0.165474  0.984412  1.286972e-08  0.000190  6.111426e-09   \n",
       "4     1.000000  0.165474  0.984413  3.110363e-08  0.000190  1.480175e-08   \n",
       "...        ...       ...       ...           ...       ...           ...   \n",
       "3636  0.043359  0.622474  0.000372  7.592537e-01  0.882482  9.967713e-01   \n",
       "3637  0.043923  0.620770  0.000308  7.580328e-01  0.881175  9.970244e-01   \n",
       "3638  0.044489  0.619066  0.000250  7.568126e-01  0.879863  9.972741e-01   \n",
       "3639  0.045059  0.617363  0.000198  7.555930e-01  0.878546  9.975202e-01   \n",
       "3640  0.045631  0.615661  0.000152  7.543740e-01  0.877225  9.977629e-01   \n",
       "\n",
       "            Cj        Ca        Cb        Fc  \n",
       "0     0.011218  0.002431  1.000000  0.000000  \n",
       "1     0.011218  0.002431  0.999999  0.000274  \n",
       "2     0.011217  0.002431  0.999996  0.000548  \n",
       "3     0.011216  0.002430  0.999992  0.000822  \n",
       "4     0.011215  0.002430  0.999986  0.001096  \n",
       "...        ...       ...       ...       ...  \n",
       "3636  0.977885  0.995656  0.022334  0.996164  \n",
       "3637  0.979474  0.995420  0.022304  0.996438  \n",
       "3638  0.981062  0.995177  0.022273  0.996712  \n",
       "3639  0.982649  0.994929  0.022242  0.996986  \n",
       "3640  0.984234  0.994674  0.022211  0.997260  \n",
       "\n",
       "[3641 rows x 10 columns]"
      ]
     },
     "execution_count": 14,
     "metadata": {},
     "output_type": "execute_result"
    }
   ],
   "source": [
    "from sklearn.preprocessing import MinMaxScaler\n",
    "\n",
    "# Normalize data with min-max normalization\n",
    "scaler = MinMaxScaler()\n",
    "ebt_scaled = scaler.fit_transform(demo_ebt)\n",
    "\n",
    "# Write scaled data to DataFrame\n",
    "labels = ['Rs', 'Rj', 'Ra',\n",
    "          'Sj', 'Sa', 'Sb',\n",
    "          'Cj', 'Ca', 'Cb',\n",
    "          'Fc']\n",
    "demo_ebt_scaled = pd.DataFrame(ebt_scaled, columns = labels)\n",
    "\n",
    "# Check the scaled DataFrame\n",
    "demo_ebt_scaled.head(-10)"
   ]
  },
  {
   "cell_type": "markdown",
   "metadata": {},
   "source": [
    "### Continue here after selection of dataset resolution"
   ]
  },
  {
   "cell_type": "code",
   "execution_count": 15,
   "metadata": {},
   "outputs": [],
   "source": [
    "# Define function for visualisation of scaled data \n",
    "\n",
    "def visualise_scaled(ebt_scaled, years):\n",
    "    # Select data to be visualized\n",
    "    cod = ebt_scaled[['Cj', 'Ca', 'Cb']]\n",
    "    sprat = ebt_scaled[['Sj', 'Sa', 'Sb']]\n",
    "    resource = ebt_scaled[['Rj', 'Rs', 'Ra']]\n",
    "    ebt_scaled['Time'] = np.linspace(years[0], years[1], len(ebt_scaled))\n",
    "    time = ebt_scaled['Time']\n",
    "\n",
    "    # Set subplot figure defaults\n",
    "    fig, [cod_plt, sprat_plt, resource_plt] = plt.subplots(3, 1, sharex = True)\n",
    "    fig.subplots_adjust(hspace = 0)\n",
    "    fig.suptitle('Cod-sprat-resource dynamics {start}-{stop} years (scaled min-max)'.format(start=years[0],stop=years[1]))\n",
    "\n",
    "    # Set labels for shared x-axis and individual y-axes\n",
    "    cod_plt.set(ylabel = 'Cod biomass')\n",
    "    sprat_plt.set(ylabel = 'Sprat biomass')\n",
    "    resource_plt.set(ylabel = 'Resource biomass')\n",
    "    plt.xlabel('Time (years)')\n",
    "\n",
    "    # Visualize data\n",
    "    cod_plt.plot(time, cod)\n",
    "    sprat_plt.plot(time, sprat)\n",
    "    resource_plt.plot(time, resource)\n",
    "\n",
    "    # Add legends\n",
    "    cod_plt.legend(['Cj', 'Ca', 'Cb'], loc = 'center left')\n",
    "    sprat_plt.legend(['Sj', 'Sa', 'Sb'], loc = 'center left')\n",
    "    resource_plt.legend(['Rj', 'Rs', 'Ra'], loc = 'center left')\n",
    "\n",
    "    # Remove Time column\n",
    "    ebt_scaled.drop(['Time'], axis = 1, inplace = True)"
   ]
  },
  {
   "cell_type": "code",
   "execution_count": 16,
   "metadata": {},
   "outputs": [
    {
     "data": {
      "image/png": "[encoded data removed]",
      "text/plain": [
       "<Figure size 432x288 with 3 Axes>"
      ]
     },
     "metadata": {
      "needs_background": "light"
     },
     "output_type": "display_data"
    }
   ],
   "source": [
    "# Visualize scaled data \n",
    "%matplotlib inline\n",
    "import matplotlib.pyplot as plt\n",
    "import matplotlib.lines as lines\n",
    "\n",
    "# Plot scaled data \n",
    "visualise_scaled(demo_ebt_scaled, [20,30])"
   ]
  },
  {
   "cell_type": "code",
   "execution_count": 17,
   "metadata": {},
   "outputs": [],
   "source": [
    "# Create file path for new file\n",
    "DemoEBTScaled_path = os.path.join(TCDFdata_path, 'EBT_demo_dataset.csv')\n",
    "\n",
    "# Write clean dataframe demo_ebt to a new .csv file\n",
    "demo_ebt_scaled.to_csv(DemoEBTScaled_path, index = False)"
   ]
  },
  {
   "cell_type": "markdown",
   "metadata": {},
   "source": [
    "For implementation of the first machine model (i.e. TCDF) we have to create a reference to the 'groundtruth' of the model. This makes it possible to compare the found relations by the model to the true relations we have defined in the dataset.\n",
    "\n",
    "The groundtruth file needs to be .csv file, have no heading and contains three columns. The first column consists of the index of the cause (corresponds to the columnnumber in the EBT_demo_dataset.csv file), index of effect (idem dito), and time delay between index and cause.\n",
    "\n",
    "For the corresponding causes and effects see the paper by A. van Leeuwen et al. (2008)."
   ]
  },
  {
   "cell_type": "code",
   "execution_count": 18,
   "metadata": {},
   "outputs": [],
   "source": [
    "# Create list of lists for the rows to the groundtruth.csv file\n",
    "groundtruth_rows = [[9, 7, 0],  # Fc - Ca\n",
    "                    [9, 8, 0],  # Fc - Cb\n",
    "                    [6, 1, 0],  # Cj - Rj\n",
    "                    [6, 3, 0],  # Cj - Sj\n",
    "                    [7, 3, 0],  # Ca - Sj\n",
    "                    [7, 4, 0],  # Ca - Sa\n",
    "                    [7, 5, 0],  # Ca - Sb\n",
    "                    [8, 3, 0],  # Cb - Sj\n",
    "                    [8, 4, 0],  # Cb - Sa\n",
    "                    [8, 5, 0],  # Cb - Sb\n",
    "                    [8, 2, 0],  # Cb - Ra\n",
    "                    [3, 0, 0],  # Sj - Rs\n",
    "                    [4, 0, 0],  # Sa - Rs\n",
    "                    [5, 0, 0]]  # Sb - Rs\n",
    "\n",
    "# Convert list into DataFrame\n",
    "groundtruth = pd.DataFrame(groundtruth_rows)\n",
    "\n",
    "# Create file path for new file\n",
    "DemoEBTGroundtruth_path = os.path.join(TCDFdata_path, 'EBT_demo_groundtruth.csv')\n",
    "\n",
    "# Write DataFrame to .csv\n",
    "groundtruth.to_csv(DemoEBTGroundtruth_path, index = False, header = False)\n"
   ]
  },
  {
   "cell_type": "markdown",
   "metadata": {},
   "source": [
    "Performing the TCDF requires a different directory (where the TCDF is located). Check if the current directory is set at `'/.../TCDF'`."
   ]
  },
  {
   "cell_type": "code",
   "execution_count": 19,
   "metadata": {},
   "outputs": [
    {
     "data": {
      "text/plain": [
       "'/Users/apple/Desktop/MSc Thesis 1/MSc Thesis/Coding/GitHub/thesis/TCDF'"
      ]
     },
     "execution_count": 19,
     "metadata": {},
     "output_type": "execute_result"
    }
   ],
   "source": [
    "# Define needed directory\n",
    "directory = TCDF_path\n",
    "\n",
    "# Check current working directory\n",
    "current_directory = os.getcwd()\n",
    "\n",
    "# Change working directory to perform TCDF\n",
    "if current_directory != directory:\n",
    "    os.chdir(TCDF_path)\n",
    "\n",
    "# Check new current working directory\n",
    "os.getcwd()"
   ]
  },
  {
   "cell_type": "markdown",
   "metadata": {},
   "source": [
    "This part shows the functionality of TCDF.\n",
    "\n",
    "See the corresponding paper for more detail: [\"Causal Discovery with Attention-Based Convolutional Neural Networks\"](https://www.mdpi.com/2504-4990/1/1/19)."
   ]
  },
  {
   "cell_type": "code",
   "execution_count": 20,
   "metadata": {
    "scrolled": false
   },
   "outputs": [
    {
     "name": "stdout",
     "output_type": "stream",
     "text": [
      "Collecting package metadata (current_repodata.json): done\n",
      "Solving environment: done\n",
      "\n",
      "# All requested packages already installed.\n",
      "\n",
      "Requirement already satisfied: torchvision in /opt/anaconda3/lib/python3.8/site-packages (0.9.1)\n",
      "Requirement already satisfied: numpy in /opt/anaconda3/lib/python3.8/site-packages (from torchvision) (1.19.2)\n",
      "Requirement already satisfied: torch==1.8.1 in /opt/anaconda3/lib/python3.8/site-packages (from torchvision) (1.8.1)\n",
      "Requirement already satisfied: pillow>=4.1.1 in /opt/anaconda3/lib/python3.8/site-packages (from torchvision) (8.0.1)\n",
      "Requirement already satisfied: typing_extensions in /opt/anaconda3/lib/python3.8/site-packages (from torch==1.8.1->torchvision) (3.7.4.3)\n"
     ]
    }
   ],
   "source": [
    "# Install conda- and pip packages in the current Jupyter kernel\n",
    "import sys\n",
    "!conda install --yes --prefix {sys.prefix} git\n",
    "!{sys.executable} -m pip install torchvision"
   ]
  },
  {
   "cell_type": "markdown",
   "metadata": {},
   "source": [
    "# TCDF\n",
    "\n",
    "These next code cells perform the analysis of the (demo) dataset with the TCDF. In the utils.py file you are able to adjust parameters for adaptive learning rate and early stopping. These parameters include type of optimizer (specified in runTCDF.py arguments), number of epochs before adapting learning rate, minimum learning rate, and size of decreasing learning rate factor. For early stopping two parameters are given, the number of epochs before stopping when loss is not improving and the minimum difference in loss improvement."
   ]
  },
  {
   "cell_type": "code",
   "execution_count": 21,
   "metadata": {
    "scrolled": false
   },
   "outputs": [
    {
     "name": "stdout",
     "output_type": "stream",
     "text": [
      "usage: runTCDF.py [-h] [--cuda] [--epochs EPOCHS] [--kernel_size KERNEL_SIZE]\n",
      "                  [--hidden_layers HIDDEN_LAYERS]\n",
      "                  [--learning_rate LEARNING_RATE] [--optimizer {Adam,RMSprop}]\n",
      "                  [--log_interval LOG_INTERVAL] [--seed SEED]\n",
      "                  [--dilation_coefficient DILATION_COEFFICIENT]\n",
      "                  [--significance SIGNIFICANCE] [--plot]\n",
      "                  (--ground_truth GROUND_TRUTH | --data DATA [DATA ...])\n",
      "                  [--lr_scheduler] [--early_stopping]\n",
      "\n",
      "TCDF: Temporal Causal Discovery Framework\n",
      "\n",
      "optional arguments:\n",
      "  -h, --help            show this help message and exit\n",
      "  --cuda                Use CUDA (GPU) (default: False)\n",
      "  --epochs EPOCHS       Number of epochs (default: 1000)\n",
      "  --kernel_size KERNEL_SIZE\n",
      "                        Size of kernel, i.e. window size. Maximum delay to be\n",
      "                        found is kernel size - 1. Recommended to be equal to\n",
      "                        dilation coeffient (default: 4)\n",
      "  --hidden_layers HIDDEN_LAYERS\n",
      "                        Number of hidden layers in the depthwise convolution\n",
      "                        (default: 0)\n",
      "  --learning_rate LEARNING_RATE\n",
      "                        Learning rate (default: 0.01)\n",
      "  --optimizer {Adam,RMSprop}\n",
      "                        Optimizer to use (default: Adam)\n",
      "  --log_interval LOG_INTERVAL\n",
      "                        Epoch interval to report loss (default: 500)\n",
      "  --seed SEED           Random seed (default: 1111)\n",
      "  --dilation_coefficient DILATION_COEFFICIENT\n",
      "                        Dilation coefficient, recommended to be equal to\n",
      "                        kernel size (default: 4)\n",
      "  --significance SIGNIFICANCE\n",
      "                        Significance number stating when an increase in loss\n",
      "                        is significant enough to label a potential cause as\n",
      "                        true (validated) cause. See paper for more details\n",
      "                        (default: 0.8)\n",
      "  --plot                Show causal graph (default: False)\n",
      "  --ground_truth GROUND_TRUTH\n",
      "                        Provide dataset(s) and the ground truth(s) to evaluate\n",
      "                        the results of TCDF. Argument format:\n",
      "                        DataFile1=GroundtruthFile1,Key2=Value2,... with a key\n",
      "                        for each dataset containing multivariate time series\n",
      "                        (required file format: csv, a column with header for\n",
      "                        each time series) and a value for the corresponding\n",
      "                        ground truth (required file format: csv, no header,\n",
      "                        index of cause in first column, index of effect in\n",
      "                        second column, time delay between cause and effect in\n",
      "                        third column)\n",
      "  --data DATA [DATA ...]\n",
      "                        (Path to) one or more datasets to analyse by TCDF\n",
      "                        containing multiple time series. Required file format:\n",
      "                        csv with a column (incl. header) for each time series\n",
      "  --lr_scheduler        Train model with adaptive learning rate (default:\n",
      "                        True). Optional to tweak parameters in utensils.py\n",
      "                        (default: patience=5, min_lr=1e-6, factor=0.1).\n",
      "  --early_stopping      Train model with early stopping (default: True).\n",
      "                        Optional to tweak parameters in utensils.py (default:\n",
      "                        patience=150, min_delta=0).\n"
     ]
    },
    {
     "data": {
      "text/plain": [
       "<Figure size 432x288 with 0 Axes>"
      ]
     },
     "metadata": {},
     "output_type": "display_data"
    }
   ],
   "source": [
    "# Show all argument options\n",
    "\n",
    "%run -i \"runTCDF.py\" --help"
   ]
  },
  {
   "cell_type": "markdown",
   "metadata": {},
   "source": [
    "### Function for plotting"
   ]
  },
  {
   "cell_type": "code",
   "execution_count": 22,
   "metadata": {},
   "outputs": [],
   "source": [
    "# This function is to be used to plot the model's loss or accuracy (i.e. performance) after running \n",
    "def plot_performance(losses_or_accuracy):\n",
    "    \"\"\"Plots the losses for each trained variable for the TCDF model.\n",
    "    Takes a dictionary with either losses or accuracy for each variable as input\"\"\"\n",
    "    # Preallocate plots in subplots\n",
    "    fig, axs = plt.subplots(3, 3, sharex = True)\n",
    "    for ax in axs.flat:\n",
    "        ax.set(xlabel='Epochs', ylabel='Performance measure')\n",
    "\n",
    "    # Iterate over each key in dictionary\n",
    "    keys = list(losses_or_accuracy.keys())\n",
    "    \n",
    "    # Plot every variable in different subplot\n",
    "    axs[0, 0].plot(np.arange(len(losses_or_accuracy[keys[0]])), losses_or_accuracy[keys[0]])\n",
    "    axs[0, 0].set_title('Performance Rs')\n",
    "    axs[0, 1].plot(np.arange(len(losses_or_accuracy[keys[1]])), losses_or_accuracy[keys[1]])\n",
    "    axs[0, 1].set_title('Performance Rj')\n",
    "    axs[0, 2].plot(np.arange(len(losses_or_accuracy[keys[2]])), losses_or_accuracy[keys[2]])\n",
    "    axs[0, 2].set_title('Performance Ra')\n",
    "    axs[1, 0].plot(np.arange(len(losses_or_accuracy[keys[3]])), losses_or_accuracy[keys[3]])\n",
    "    axs[1, 0].set_title('Performance Sj')\n",
    "    axs[1, 1].plot(np.arange(len(losses_or_accuracy[keys[4]])), losses_or_accuracy[keys[4]])\n",
    "    axs[1, 1].set_title('Performance Sa')\n",
    "    axs[1, 2].plot(np.arange(len(losses_or_accuracy[keys[5]])), losses_or_accuracy[keys[5]])\n",
    "    axs[1, 2].set_title('Performance Sb')\n",
    "    axs[2, 0].plot(np.arange(len(losses_or_accuracy[keys[6]])), losses_or_accuracy[keys[6]])\n",
    "    axs[2, 0].set_title('Performance Cj')\n",
    "    axs[2, 1].plot(np.arange(len(losses_or_accuracy[keys[7]])), losses_or_accuracy[keys[7]])\n",
    "    axs[2, 1].set_title('Performance Ca')\n",
    "    axs[2, 2].plot(np.arange(len(losses_or_accuracy[keys[8]])), losses_or_accuracy[keys[8]])\n",
    "    axs[2, 2].set_title('Performance Cb')\n"
   ]
  },
  {
   "cell_type": "markdown",
   "metadata": {},
   "source": [
    "## TCDF Training\n",
    "\n",
    "In this section I will tweak (hyper)parameters and save the best outcomes thus far. After implementation of a learning rate scheduler and early stopping to help the process of training the model (see the ~.py files in the TCDF folder, any adjustments are highlighted by '# Adjusted implementation by Draaijer, R.'). Besides, I have also implemented some extra code to save predictive accuracy of the model to plot the performance of the model after the run. Each run is accompanied by two plots (losses and accuracy) to keep track of training the model. "
   ]
  },
  {
   "cell_type": "markdown",
   "metadata": {},
   "source": [
    "### TCDF with EBT demo data\n",
    "#### TCDF: first run"
   ]
  },
  {
   "cell_type": "code",
   "execution_count": 27,
   "metadata": {
    "scrolled": true
   },
   "outputs": [
    {
     "name": "stdout",
     "output_type": "stream",
     "text": [
      "Arguments: Namespace(cuda=False, data=None, dilation_coefficient=4, early_stopping=True, epochs=500, ground_truth={'data/EBT_demo_dataset.csv': 'data/EBT_demo_groundtruth.csv'}, hidden_layers=2, kernel_size=4, learning_rate=0.1, log_interval=1000, lr_scheduler=True, optimizer='Adam', plot=True, seed=5467, significance=0.9)\n",
      "\n",
      " Dataset:  EBT_demo_dataset.csv\n",
      "\n",
      " Analysis started for target:  Rs\n",
      "INFO: Initializing learning rate scheduler\n",
      "INFO: Initializing early stopping\n",
      "Epoch:  1 [0%] \tLoss: 0.315483\n",
      "Epoch    32: reducing learning rate of group 0 to 1.0000e-02.\n",
      "Epoch: 500 [100%] \tLoss: 0.000129\n",
      "Potential causes:  [4, 2]\n",
      "Validated causes:  [4]\n",
      "\n",
      " Analysis started for target:  Rj\n",
      "INFO: Initializing learning rate scheduler\n",
      "INFO: Initializing early stopping\n",
      "Epoch:  1 [0%] \tLoss: 0.088744\n",
      "Epoch    34: reducing learning rate of group 0 to 1.0000e-02.\n",
      "Epoch    45: reducing learning rate of group 0 to 1.0000e-03.\n",
      "Epoch    56: reducing learning rate of group 0 to 1.0000e-04.\n",
      "Epoch    67: reducing learning rate of group 0 to 1.0000e-05.\n",
      "Epoch    78: reducing learning rate of group 0 to 1.0000e-06.\n",
      "Epoch: 500 [100%] \tLoss: 0.029226\n",
      "Potential causes:  [0, 8, 4, 2]\n",
      "Validated causes:  [0]\n",
      "\n",
      " Analysis started for target:  Ra\n",
      "INFO: Initializing learning rate scheduler\n",
      "INFO: Initializing early stopping\n",
      "Epoch:  1 [0%] \tLoss: 0.309657\n",
      "Epoch    56: reducing learning rate of group 0 to 1.0000e-02.\n",
      "Epoch: 500 [100%] \tLoss: 0.000161\n",
      "Potential causes:  [4, 2]\n",
      "Validated causes:  [2]\n",
      "\n",
      " Analysis started for target:  Sj\n",
      "INFO: Initializing learning rate scheduler\n",
      "INFO: Initializing early stopping\n",
      "Epoch:  1 [0%] \tLoss: 0.091067\n",
      "Epoch   138: reducing learning rate of group 0 to 1.0000e-02.\n",
      "Epoch   149: reducing learning rate of group 0 to 1.0000e-03.\n",
      "Epoch   160: reducing learning rate of group 0 to 1.0000e-04.\n",
      "Epoch   171: reducing learning rate of group 0 to 1.0000e-05.\n",
      "Epoch   182: reducing learning rate of group 0 to 1.0000e-06.\n",
      "Epoch: 500 [100%] \tLoss: 0.002098\n",
      "Potential causes:  [0, 8, 4]\n",
      "Validated causes:  []\n",
      "\n",
      " Analysis started for target:  Sa\n",
      "INFO: Initializing learning rate scheduler\n",
      "INFO: Initializing early stopping\n",
      "Epoch:  1 [0%] \tLoss: 0.079456\n",
      "Epoch    37: reducing learning rate of group 0 to 1.0000e-02.\n",
      "Epoch    81: reducing learning rate of group 0 to 1.0000e-03.\n",
      "Epoch    92: reducing learning rate of group 0 to 1.0000e-04.\n",
      "Epoch   103: reducing learning rate of group 0 to 1.0000e-05.\n",
      "Epoch   114: reducing learning rate of group 0 to 1.0000e-06.\n",
      "Epoch: 500 [100%] \tLoss: 0.005234\n",
      "Potential causes:  [0, 8]\n",
      "Validated causes:  [0]\n",
      "\n",
      " Analysis started for target:  Sb\n",
      "INFO: Initializing learning rate scheduler\n",
      "INFO: Initializing early stopping\n",
      "Epoch:  1 [0%] \tLoss: 0.076466\n",
      "Epoch    34: reducing learning rate of group 0 to 1.0000e-02.\n",
      "Epoch: 500 [100%] \tLoss: 0.000564\n",
      "Potential causes:  [8, 0]\n",
      "Validated causes:  [0]\n",
      "\n",
      " Analysis started for target:  Cj\n",
      "INFO: Initializing learning rate scheduler\n",
      "INFO: Initializing early stopping\n",
      "Epoch:  1 [0%] \tLoss: 0.090259\n",
      "Epoch    30: reducing learning rate of group 0 to 1.0000e-02.\n",
      "Epoch    41: reducing learning rate of group 0 to 1.0000e-03.\n",
      "Epoch: 500 [100%] \tLoss: 0.013476\n",
      "Potential causes:  [8, 0]\n",
      "Validated causes:  [8]\n",
      "\n",
      " Analysis started for target:  Ca\n",
      "INFO: Initializing learning rate scheduler\n",
      "INFO: Initializing early stopping\n",
      "Epoch:  1 [0%] \tLoss: 0.080412\n",
      "Epoch    29: reducing learning rate of group 0 to 1.0000e-02.\n",
      "Epoch    40: reducing learning rate of group 0 to 1.0000e-03.\n",
      "Epoch    51: reducing learning rate of group 0 to 1.0000e-04.\n",
      "Epoch    62: reducing learning rate of group 0 to 1.0000e-05.\n",
      "Epoch    73: reducing learning rate of group 0 to 1.0000e-06.\n",
      "Epoch: 500 [100%] \tLoss: 0.077307\n",
      "Potential causes:  [8, 0]\n",
      "Validated causes:  []\n",
      "\n",
      " Analysis started for target:  Cb\n",
      "INFO: Initializing learning rate scheduler\n",
      "INFO: Initializing early stopping\n",
      "Epoch:  1 [0%] \tLoss: 0.130652\n",
      "Epoch    70: reducing learning rate of group 0 to 1.0000e-02.\n",
      "Epoch: 500 [100%] \tLoss: 0.002204\n",
      "Potential causes:  [9, 4]\n",
      "Validated causes:  [9]\n",
      "\n",
      " Analysis started for target:  Fc\n",
      "INFO: Initializing learning rate scheduler\n",
      "INFO: Initializing early stopping\n",
      "Epoch:  1 [0%] \tLoss: 0.173820\n",
      "Epoch    20: reducing learning rate of group 0 to 1.0000e-02.\n",
      "Epoch    70: reducing learning rate of group 0 to 1.0000e-03.\n",
      "Epoch: 500 [100%] \tLoss: 0.017386\n",
      "Potential causes:  [1, 2]\n",
      "Validated causes:  [2]\n",
      "\n",
      "===================Results for EBT_demo_dataset.csv ==================================\n",
      "Sa causes Rs with a delay of 48 time steps.\n",
      "Rs causes Rj with a delay of 19 time steps.\n",
      "Ra causes Ra with a delay of 51 time steps.\n",
      "Rs causes Sa with a delay of 19 time steps.\n",
      "Rs causes Sb with a delay of 19 time steps.\n",
      "Cb causes Cj with a delay of 4 time steps.\n",
      "Fc causes Cb with a delay of 12 time steps.\n",
      "Ra causes Fc with a delay of 54 time steps.\n",
      "\n",
      "===================Evaluation for EBT_demo_dataset.csv ===============================\n",
      "Total False Positives':  6\n",
      "Total True Positives':  2\n",
      "Total False Negatives:  12\n",
      "Total Direct False Positives:  6\n",
      "Total Direct True Positives:  2\n",
      "TPs':  [(0, 4), (8, 9)]\n",
      "FPs':  [(1, 0), (2, 2), (4, 0), (5, 0), (6, 8), (9, 2)]\n",
      "TPs direct:  [(0, 4), (8, 9)]\n",
      "FPs direct:  [(1, 0), (2, 2), (4, 0), (5, 0), (6, 8), (9, 2)]\n",
      "FNs:  [(0, 3), (0, 5), (1, 6), (2, 8), (3, 6), (3, 7), (3, 8), (4, 7), (4, 8), (5, 7), (5, 8), (7, 9)]\n",
      "Precision':  0.25\n",
      "Recall':  0.14285714285714285\n",
      "F1' score:  0.18181818181818182 (includes direct and indirect causal relationships)\n",
      "Precision:  0.25\n",
      "Recall:  0.14285714285714285\n",
      "F1 score:  0.18181818181818182 (includes only direct causal relationships)\n",
      "Percentage of delays that are correctly discovered:  0.0 %\n",
      "==================================================================================\n"
     ]
    },
    {
     "data": {
      "image/png": "[encoded data removed]",
      "text/plain": [
       "<Figure size 432x288 with 1 Axes>"
      ]
     },
     "metadata": {},
     "output_type": "display_data"
    },
    {
     "data": {
      "text/plain": [
       "<Figure size 432x288 with 0 Axes>"
      ]
     },
     "metadata": {},
     "output_type": "display_data"
    }
   ],
   "source": [
    "%matplotlib inline\n",
    "\n",
    "# Run TCDF with the selected demo dataset of EBT data\n",
    "\n",
    "%run -i \"runTCDF.py\"  --ground_truth data/EBT_demo_dataset.csv=data/EBT_demo_groundtruth.csv --learning_rate 0.1 --hidden_layers 2 --epochs 500 --log_interval 1000 --significance 0.9 --dilation_coefficient 4 --kernel_size 4 --seed 5467 --plot"
   ]
  },
  {
   "cell_type": "markdown",
   "metadata": {},
   "source": [
    "#### TCDF: second run (1 extra hidden layer)"
   ]
  },
  {
   "cell_type": "code",
   "execution_count": 24,
   "metadata": {
    "scrolled": true
   },
   "outputs": [
    {
     "name": "stdout",
     "output_type": "stream",
     "text": [
      "Arguments: Namespace(cuda=False, data=None, dilation_coefficient=4, early_stopping=True, epochs=5000, ground_truth={'data/EBT_demo_dataset.csv': 'data/EBT_demo_groundtruth.csv'}, hidden_layers=3, kernel_size=4, learning_rate=0.1, log_interval=1000, lr_scheduler=True, optimizer='Adam', plot=True, seed=5467, significance=0.9)\n",
      "\n",
      " Dataset:  EBT_demo_dataset.csv\n",
      "\n",
      " Analysis started for target:  Rs\n",
      "INFO: Initializing learning rate scheduler\n",
      "INFO: Initializing early stopping\n",
      "Epoch:  1 [0%] \tLoss: 0.944516\n",
      "Epoch    32: reducing learning rate of group 0 to 1.0000e-02.\n",
      "Epoch    43: reducing learning rate of group 0 to 1.0000e-03.\n",
      "Epoch    54: reducing learning rate of group 0 to 1.0000e-04.\n",
      "Epoch    65: reducing learning rate of group 0 to 1.0000e-05.\n",
      "Epoch    76: reducing learning rate of group 0 to 1.0000e-06.\n"
     ]
    },
    {
     "ename": "KeyboardInterrupt",
     "evalue": "",
     "output_type": "error",
     "traceback": [
      "\u001b[0;31m---------------------------------------------------------------------------\u001b[0m",
      "\u001b[0;31mKeyboardInterrupt\u001b[0m                         Traceback (most recent call last)",
      "\u001b[0;32m~/Desktop/MSc Thesis 1/MSc Thesis/Coding/GitHub/thesis/TCDF/runTCDF.py\u001b[0m in \u001b[0;36m<module>\u001b[0;34m\u001b[0m\n\u001b[1;32m    356\u001b[0m \u001b[0;32mif\u001b[0m \u001b[0margs\u001b[0m\u001b[0;34m.\u001b[0m\u001b[0mground_truth\u001b[0m \u001b[0;32mis\u001b[0m \u001b[0;32mnot\u001b[0m \u001b[0;32mNone\u001b[0m\u001b[0;34m:\u001b[0m\u001b[0;34m\u001b[0m\u001b[0;34m\u001b[0m\u001b[0m\n\u001b[1;32m    357\u001b[0m     \u001b[0mdatafiles\u001b[0m \u001b[0;34m=\u001b[0m \u001b[0margs\u001b[0m\u001b[0;34m.\u001b[0m\u001b[0mground_truth\u001b[0m\u001b[0;34m\u001b[0m\u001b[0;34m\u001b[0m\u001b[0m\n\u001b[0;32m--> 358\u001b[0;31m     \u001b[0mmain\u001b[0m\u001b[0;34m(\u001b[0m\u001b[0mdatafiles\u001b[0m\u001b[0;34m,\u001b[0m \u001b[0mevaluation\u001b[0m\u001b[0;34m=\u001b[0m\u001b[0;32mTrue\u001b[0m\u001b[0;34m)\u001b[0m\u001b[0;34m\u001b[0m\u001b[0;34m\u001b[0m\u001b[0m\n\u001b[0m\u001b[1;32m    359\u001b[0m \u001b[0;34m\u001b[0m\u001b[0m\n\u001b[1;32m    360\u001b[0m \u001b[0;32melse\u001b[0m\u001b[0;34m:\u001b[0m\u001b[0;34m\u001b[0m\u001b[0;34m\u001b[0m\u001b[0m\n",
      "\u001b[0;32m~/Desktop/MSc Thesis 1/MSc Thesis/Coding/GitHub/thesis/TCDF/runTCDF.py\u001b[0m in \u001b[0;36mmain\u001b[0;34m(datafiles, evaluation)\u001b[0m\n\u001b[1;32m    268\u001b[0m \u001b[0;34m\u001b[0m\u001b[0m\n\u001b[1;32m    269\u001b[0m         \u001b[0;31m# run TCDF\u001b[0m\u001b[0;34m\u001b[0m\u001b[0;34m\u001b[0m\u001b[0;34m\u001b[0m\u001b[0m\n\u001b[0;32m--> 270\u001b[0;31m         \u001b[0mallcauses\u001b[0m\u001b[0;34m,\u001b[0m \u001b[0malldelays\u001b[0m\u001b[0;34m,\u001b[0m \u001b[0mallreallosses\u001b[0m\u001b[0;34m,\u001b[0m \u001b[0mallscores\u001b[0m\u001b[0;34m,\u001b[0m \u001b[0mcolumns\u001b[0m\u001b[0;34m,\u001b[0m \u001b[0malllosses\u001b[0m \u001b[0;34m=\u001b[0m \u001b[0mrunTCDF\u001b[0m\u001b[0;34m(\u001b[0m\u001b[0mdatafile\u001b[0m\u001b[0;34m)\u001b[0m \u001b[0;31m#results of TCDF containing indices of causes and effects\u001b[0m\u001b[0;34m\u001b[0m\u001b[0;34m\u001b[0m\u001b[0m\n\u001b[0m\u001b[1;32m    271\u001b[0m \u001b[0;34m\u001b[0m\u001b[0m\n\u001b[1;32m    272\u001b[0m         \u001b[0mprint\u001b[0m\u001b[0;34m(\u001b[0m\u001b[0;34m\"\\n===================Results for\"\u001b[0m\u001b[0;34m,\u001b[0m \u001b[0mstringdatafile\u001b[0m\u001b[0;34m,\u001b[0m\u001b[0;34m\"==================================\"\u001b[0m\u001b[0;34m)\u001b[0m\u001b[0;34m\u001b[0m\u001b[0;34m\u001b[0m\u001b[0m\n",
      "\u001b[0;32m~/Desktop/MSc Thesis 1/MSc Thesis/Coding/GitHub/thesis/TCDF/runTCDF.py\u001b[0m in \u001b[0;36mrunTCDF\u001b[0;34m(datafile)\u001b[0m\n\u001b[1;32m    209\u001b[0m     \u001b[0;32mfor\u001b[0m \u001b[0mc\u001b[0m \u001b[0;32min\u001b[0m \u001b[0mcolumns\u001b[0m\u001b[0;34m:\u001b[0m\u001b[0;34m\u001b[0m\u001b[0;34m\u001b[0m\u001b[0m\n\u001b[1;32m    210\u001b[0m         \u001b[0midx\u001b[0m \u001b[0;34m=\u001b[0m \u001b[0mdf_data\u001b[0m\u001b[0;34m.\u001b[0m\u001b[0mcolumns\u001b[0m\u001b[0;34m.\u001b[0m\u001b[0mget_loc\u001b[0m\u001b[0;34m(\u001b[0m\u001b[0mc\u001b[0m\u001b[0;34m)\u001b[0m\u001b[0;34m\u001b[0m\u001b[0;34m\u001b[0m\u001b[0m\n\u001b[0;32m--> 211\u001b[0;31m         causes, causeswithdelay, realloss, scores, losses = TCDF.findcauses(c, cuda=cuda, epochs=nrepochs, \n\u001b[0m\u001b[1;32m    212\u001b[0m         \u001b[0mkernel_size\u001b[0m\u001b[0;34m=\u001b[0m\u001b[0mkernel_size\u001b[0m\u001b[0;34m,\u001b[0m \u001b[0mlayers\u001b[0m\u001b[0;34m=\u001b[0m\u001b[0mlevels\u001b[0m\u001b[0;34m,\u001b[0m \u001b[0mlog_interval\u001b[0m\u001b[0;34m=\u001b[0m\u001b[0mloginterval\u001b[0m\u001b[0;34m,\u001b[0m\u001b[0;34m\u001b[0m\u001b[0;34m\u001b[0m\u001b[0m\n\u001b[1;32m    213\u001b[0m         \u001b[0mlr\u001b[0m\u001b[0;34m=\u001b[0m\u001b[0mlearningrate\u001b[0m\u001b[0;34m,\u001b[0m \u001b[0moptimizername\u001b[0m\u001b[0;34m=\u001b[0m\u001b[0moptimizername\u001b[0m\u001b[0;34m,\u001b[0m\u001b[0;34m\u001b[0m\u001b[0;34m\u001b[0m\u001b[0m\n",
      "\u001b[0;32m~/Desktop/MSc Thesis 1/MSc Thesis/Coding/GitHub/thesis/TCDF/TCDF.py\u001b[0m in \u001b[0;36mfindcauses\u001b[0;34m(target, cuda, epochs, kernel_size, layers, log_interval, lr, optimizername, seed, dilation_c, significance, file, lr_scheduler, early_stopping)\u001b[0m\n\u001b[1;32m     95\u001b[0m \u001b[0;34m\u001b[0m\u001b[0m\n\u001b[1;32m     96\u001b[0m     \u001b[0;32mfor\u001b[0m \u001b[0mep\u001b[0m \u001b[0;32min\u001b[0m \u001b[0mrange\u001b[0m\u001b[0;34m(\u001b[0m\u001b[0;36m2\u001b[0m\u001b[0;34m,\u001b[0m \u001b[0mepochs\u001b[0m\u001b[0;34m+\u001b[0m\u001b[0;36m1\u001b[0m\u001b[0;34m)\u001b[0m\u001b[0;34m:\u001b[0m\u001b[0;34m\u001b[0m\u001b[0;34m\u001b[0m\u001b[0m\n\u001b[0;32m---> 97\u001b[0;31m         scores, realloss = train(ep, X_train, Y_train, model, optimizer,\n\u001b[0m\u001b[1;32m     98\u001b[0m                                  log_interval, epochs, lr_scheduler, early_stopping)\n\u001b[1;32m     99\u001b[0m         \u001b[0;31m# Adjusted implementation by Draaijer, R.\u001b[0m\u001b[0;34m\u001b[0m\u001b[0;34m\u001b[0m\u001b[0;34m\u001b[0m\u001b[0m\n",
      "\u001b[0;32m~/Desktop/MSc Thesis 1/MSc Thesis/Coding/GitHub/thesis/TCDF/TCDF.py\u001b[0m in \u001b[0;36mtrain\u001b[0;34m(epoch, traindata, traintarget, modelname, optimizer, log_interval, epochs, lr_scheduler, early_stopping)\u001b[0m\n\u001b[1;32m     46\u001b[0m \u001b[0;34m\u001b[0m\u001b[0m\n\u001b[1;32m     47\u001b[0m     \u001b[0mloss\u001b[0m \u001b[0;34m=\u001b[0m \u001b[0mF\u001b[0m\u001b[0;34m.\u001b[0m\u001b[0mmse_loss\u001b[0m\u001b[0;34m(\u001b[0m\u001b[0moutput\u001b[0m\u001b[0;34m,\u001b[0m \u001b[0my\u001b[0m\u001b[0;34m)\u001b[0m\u001b[0;34m\u001b[0m\u001b[0;34m\u001b[0m\u001b[0m\n\u001b[0;32m---> 48\u001b[0;31m     \u001b[0mloss\u001b[0m\u001b[0;34m.\u001b[0m\u001b[0mbackward\u001b[0m\u001b[0;34m(\u001b[0m\u001b[0;34m)\u001b[0m\u001b[0;34m\u001b[0m\u001b[0;34m\u001b[0m\u001b[0m\n\u001b[0m\u001b[1;32m     49\u001b[0m     \u001b[0moptimizer\u001b[0m\u001b[0;34m.\u001b[0m\u001b[0mstep\u001b[0m\u001b[0;34m(\u001b[0m\u001b[0;34m)\u001b[0m\u001b[0;34m\u001b[0m\u001b[0;34m\u001b[0m\u001b[0m\n\u001b[1;32m     50\u001b[0m \u001b[0;34m\u001b[0m\u001b[0m\n",
      "\u001b[0;32m/opt/anaconda3/lib/python3.8/site-packages/torch/tensor.py\u001b[0m in \u001b[0;36mbackward\u001b[0;34m(self, gradient, retain_graph, create_graph, inputs)\u001b[0m\n\u001b[1;32m    243\u001b[0m                 \u001b[0mcreate_graph\u001b[0m\u001b[0;34m=\u001b[0m\u001b[0mcreate_graph\u001b[0m\u001b[0;34m,\u001b[0m\u001b[0;34m\u001b[0m\u001b[0;34m\u001b[0m\u001b[0m\n\u001b[1;32m    244\u001b[0m                 inputs=inputs)\n\u001b[0;32m--> 245\u001b[0;31m         \u001b[0mtorch\u001b[0m\u001b[0;34m.\u001b[0m\u001b[0mautograd\u001b[0m\u001b[0;34m.\u001b[0m\u001b[0mbackward\u001b[0m\u001b[0;34m(\u001b[0m\u001b[0mself\u001b[0m\u001b[0;34m,\u001b[0m \u001b[0mgradient\u001b[0m\u001b[0;34m,\u001b[0m \u001b[0mretain_graph\u001b[0m\u001b[0;34m,\u001b[0m \u001b[0mcreate_graph\u001b[0m\u001b[0;34m,\u001b[0m \u001b[0minputs\u001b[0m\u001b[0;34m=\u001b[0m\u001b[0minputs\u001b[0m\u001b[0;34m)\u001b[0m\u001b[0;34m\u001b[0m\u001b[0;34m\u001b[0m\u001b[0m\n\u001b[0m\u001b[1;32m    246\u001b[0m \u001b[0;34m\u001b[0m\u001b[0m\n\u001b[1;32m    247\u001b[0m     \u001b[0;32mdef\u001b[0m \u001b[0mregister_hook\u001b[0m\u001b[0;34m(\u001b[0m\u001b[0mself\u001b[0m\u001b[0;34m,\u001b[0m \u001b[0mhook\u001b[0m\u001b[0;34m)\u001b[0m\u001b[0;34m:\u001b[0m\u001b[0;34m\u001b[0m\u001b[0;34m\u001b[0m\u001b[0m\n",
      "\u001b[0;32m/opt/anaconda3/lib/python3.8/site-packages/torch/autograd/__init__.py\u001b[0m in \u001b[0;36mbackward\u001b[0;34m(tensors, grad_tensors, retain_graph, create_graph, grad_variables, inputs)\u001b[0m\n\u001b[1;32m    143\u001b[0m         \u001b[0mretain_graph\u001b[0m \u001b[0;34m=\u001b[0m \u001b[0mcreate_graph\u001b[0m\u001b[0;34m\u001b[0m\u001b[0;34m\u001b[0m\u001b[0m\n\u001b[1;32m    144\u001b[0m \u001b[0;34m\u001b[0m\u001b[0m\n\u001b[0;32m--> 145\u001b[0;31m     Variable._execution_engine.run_backward(\n\u001b[0m\u001b[1;32m    146\u001b[0m         \u001b[0mtensors\u001b[0m\u001b[0;34m,\u001b[0m \u001b[0mgrad_tensors_\u001b[0m\u001b[0;34m,\u001b[0m \u001b[0mretain_graph\u001b[0m\u001b[0;34m,\u001b[0m \u001b[0mcreate_graph\u001b[0m\u001b[0;34m,\u001b[0m \u001b[0minputs\u001b[0m\u001b[0;34m,\u001b[0m\u001b[0;34m\u001b[0m\u001b[0;34m\u001b[0m\u001b[0m\n\u001b[1;32m    147\u001b[0m         allow_unreachable=True, accumulate_grad=True)  # allow_unreachable flag\n",
      "\u001b[0;31mKeyboardInterrupt\u001b[0m: "
     ]
    }
   ],
   "source": [
    "%matplotlib inline\n",
    "\n",
    "# Run TCDF with the selected demo dataset of EBT data\n",
    "\n",
    "%run -i \"runTCDF.py\"  --ground_truth data/EBT_demo_dataset.csv=data/EBT_demo_groundtruth.csv --learning_rate 0.1 --hidden_layers 3 --epochs 5000 --log_interval 1000 --significance 0.9 --dilation_coefficient 4 --kernel_size 4 --seed 5467 --plot"
   ]
  },
  {
   "cell_type": "code",
   "execution_count": 25,
   "metadata": {
    "scrolled": true
   },
   "outputs": [
    {
     "name": "stdout",
     "output_type": "stream",
     "text": [
      "Arguments: Namespace(cuda=False, data=['data/EBT_demo_dataset.csv'], dilation_coefficient=4, early_stopping=True, epochs=5000, hidden_layers=3, kernel_size=4, learning_rate=0.1, log_interval=1000, lr_scheduler=True, optimizer='Adam', plot=True, seed=5467, train_test_split=0.5)\n",
      "\n",
      " Analysis started for target:  Rs\n",
      "INFO: Initializing learning rate scheduler\n",
      "INFO: Initializing early stopping\n",
      "Epoch:  1 [0%] \tLoss: 1.271688\n"
     ]
    },
    {
     "ename": "KeyboardInterrupt",
     "evalue": "",
     "output_type": "error",
     "traceback": [
      "\u001b[0;31m---------------------------------------------------------------------------\u001b[0m",
      "\u001b[0;31mKeyboardInterrupt\u001b[0m                         Traceback (most recent call last)",
      "\u001b[0;32m~/Desktop/MSc Thesis 1/MSc Thesis/Coding/GitHub/thesis/TCDF/evaluate_predictions_TCDF.py\u001b[0m in \u001b[0;36m<module>\u001b[0;34m\u001b[0m\n\u001b[1;32m    231\u001b[0m \u001b[0mallres\u001b[0m \u001b[0;34m=\u001b[0m \u001b[0;34m[\u001b[0m\u001b[0;34m]\u001b[0m\u001b[0;34m\u001b[0m\u001b[0;34m\u001b[0m\u001b[0m\n\u001b[1;32m    232\u001b[0m \u001b[0;32mfor\u001b[0m \u001b[0mdatafile\u001b[0m \u001b[0;32min\u001b[0m \u001b[0mdatasets\u001b[0m\u001b[0;34m:\u001b[0m\u001b[0;34m\u001b[0m\u001b[0;34m\u001b[0m\u001b[0m\n\u001b[0;32m--> 233\u001b[0;31m     \u001b[0mallres\u001b[0m\u001b[0;34m,\u001b[0m\u001b[0mavg\u001b[0m\u001b[0;34m,\u001b[0m\u001b[0mstd\u001b[0m\u001b[0;34m,\u001b[0m\u001b[0mpredictions\u001b[0m\u001b[0;34m,\u001b[0m\u001b[0maccuracy\u001b[0m \u001b[0;34m=\u001b[0m \u001b[0mevaluate\u001b[0m\u001b[0;34m(\u001b[0m\u001b[0mdatafile\u001b[0m\u001b[0;34m)\u001b[0m\u001b[0;34m\u001b[0m\u001b[0;34m\u001b[0m\u001b[0m\n\u001b[0m\u001b[1;32m    234\u001b[0m     \u001b[0mevalresults\u001b[0m\u001b[0;34m[\u001b[0m\u001b[0mdatafile\u001b[0m\u001b[0;34m]\u001b[0m\u001b[0;34m=\u001b[0m\u001b[0;34m(\u001b[0m\u001b[0mavg\u001b[0m\u001b[0;34m,\u001b[0m \u001b[0mstd\u001b[0m\u001b[0;34m)\u001b[0m\u001b[0;34m\u001b[0m\u001b[0;34m\u001b[0m\u001b[0m\n\u001b[1;32m    235\u001b[0m     \u001b[0mprint\u001b[0m\u001b[0;34m(\u001b[0m\u001b[0;34m\"\\nMean Absolute Scaled Error (MASE) averaged over all time series in\"\u001b[0m\u001b[0;34m,\u001b[0m \u001b[0mdatafile\u001b[0m\u001b[0;34m,\u001b[0m\u001b[0;34m\":\"\u001b[0m\u001b[0;34m,\u001b[0m\u001b[0mevalresults\u001b[0m\u001b[0;34m[\u001b[0m\u001b[0mdatafile\u001b[0m\u001b[0;34m]\u001b[0m\u001b[0;34m[\u001b[0m\u001b[0;36m0\u001b[0m\u001b[0;34m]\u001b[0m\u001b[0;34m,\u001b[0m\u001b[0;34m\"with standard deviation\"\u001b[0m\u001b[0;34m,\u001b[0m\u001b[0mevalresults\u001b[0m\u001b[0;34m[\u001b[0m\u001b[0mdatafile\u001b[0m\u001b[0;34m]\u001b[0m\u001b[0;34m[\u001b[0m\u001b[0;36m1\u001b[0m\u001b[0;34m]\u001b[0m\u001b[0;34m)\u001b[0m\u001b[0;34m\u001b[0m\u001b[0;34m\u001b[0m\u001b[0m\n",
      "\u001b[0;32m~/Desktop/MSc Thesis 1/MSc Thesis/Coding/GitHub/thesis/TCDF/evaluate_predictions_TCDF.py\u001b[0m in \u001b[0;36mevaluate\u001b[0;34m(datafile)\u001b[0m\n\u001b[1;32m    167\u001b[0m     \u001b[0maccuracy\u001b[0m \u001b[0;34m=\u001b[0m \u001b[0mdict\u001b[0m\u001b[0;34m(\u001b[0m\u001b[0;34m)\u001b[0m\u001b[0;34m\u001b[0m\u001b[0;34m\u001b[0m\u001b[0m\n\u001b[1;32m    168\u001b[0m     \u001b[0;32mfor\u001b[0m \u001b[0mc\u001b[0m \u001b[0;32min\u001b[0m \u001b[0mcolumns\u001b[0m\u001b[0;34m:\u001b[0m\u001b[0;34m\u001b[0m\u001b[0;34m\u001b[0m\u001b[0m\n\u001b[0;32m--> 169\u001b[0;31m         MASE, prediction = evaluate_prediction(c, cuda=cuda, epochs=nrepochs, \n\u001b[0m\u001b[1;32m    170\u001b[0m         \u001b[0mkernel_size\u001b[0m\u001b[0;34m=\u001b[0m\u001b[0mkernel_size\u001b[0m\u001b[0;34m,\u001b[0m \u001b[0mlayers\u001b[0m\u001b[0;34m=\u001b[0m\u001b[0mlevels\u001b[0m\u001b[0;34m,\u001b[0m \u001b[0mlog_interval\u001b[0m\u001b[0;34m=\u001b[0m\u001b[0mlog_interval\u001b[0m\u001b[0;34m,\u001b[0m\u001b[0;34m\u001b[0m\u001b[0;34m\u001b[0m\u001b[0m\n\u001b[1;32m    171\u001b[0m         \u001b[0mlr\u001b[0m\u001b[0;34m=\u001b[0m\u001b[0mlearningrate\u001b[0m\u001b[0;34m,\u001b[0m \u001b[0moptimizername\u001b[0m\u001b[0;34m=\u001b[0m\u001b[0moptimizername\u001b[0m\u001b[0;34m,\u001b[0m\u001b[0;34m\u001b[0m\u001b[0;34m\u001b[0m\u001b[0m\n",
      "\u001b[0;32m~/Desktop/MSc Thesis 1/MSc Thesis/Coding/GitHub/thesis/TCDF/evaluate_predictions_TCDF.py\u001b[0m in \u001b[0;36mevaluate_prediction\u001b[0;34m(target, cuda, epochs, kernel_size, layers, log_interval, lr, optimizername, seed, dilation_c, split, file, lr_scheduler, early_stopping)\u001b[0m\n\u001b[1;32m    122\u001b[0m             \u001b[0mreal\u001b[0m \u001b[0;34m=\u001b[0m \u001b[0mY_test\u001b[0m\u001b[0;34m[\u001b[0m\u001b[0;34m:\u001b[0m\u001b[0;34m,\u001b[0m\u001b[0mt\u001b[0m\u001b[0;34m,\u001b[0m\u001b[0;34m:\u001b[0m\u001b[0;34m]\u001b[0m\u001b[0;34m\u001b[0m\u001b[0;34m\u001b[0m\u001b[0m\n\u001b[1;32m    123\u001b[0m             \u001b[0mpredicted\u001b[0m \u001b[0;34m=\u001b[0m \u001b[0moutput\u001b[0m\u001b[0;34m[\u001b[0m\u001b[0;34m:\u001b[0m\u001b[0;34m,\u001b[0m\u001b[0mt\u001b[0m\u001b[0;34m,\u001b[0m\u001b[0;34m:\u001b[0m\u001b[0;34m]\u001b[0m\u001b[0;34m\u001b[0m\u001b[0;34m\u001b[0m\u001b[0m\n\u001b[0;32m--> 124\u001b[0;31m             \u001b[0me\u001b[0m \u001b[0;34m=\u001b[0m \u001b[0mabs\u001b[0m\u001b[0;34m(\u001b[0m\u001b[0mreal\u001b[0m \u001b[0;34m-\u001b[0m \u001b[0mpredicted\u001b[0m\u001b[0;34m)\u001b[0m\u001b[0;34m\u001b[0m\u001b[0;34m\u001b[0m\u001b[0m\n\u001b[0m\u001b[1;32m    125\u001b[0m             \u001b[0mtotal_e\u001b[0m\u001b[0;34m+=\u001b[0m\u001b[0me\u001b[0m\u001b[0;34m\u001b[0m\u001b[0;34m\u001b[0m\u001b[0m\n\u001b[1;32m    126\u001b[0m \u001b[0;34m\u001b[0m\u001b[0m\n",
      "\u001b[0;31mKeyboardInterrupt\u001b[0m: "
     ]
    }
   ],
   "source": [
    "# Run TCDF for predictive accuracy\n",
    "\n",
    "%run -i \"evaluate_predictions_TCDF.py\" --data data/EBT_demo_dataset.csv --learning_rate 0.1 --hidden_layers 3 --epochs 5000 --log_interval 1000 --dilation_coefficient 4 --kernel_size 4 --seed 5467 --plot"
   ]
  },
  {
   "cell_type": "code",
   "execution_count": 26,
   "metadata": {
    "scrolled": false
   },
   "outputs": [
    {
     "ename": "NameError",
     "evalue": "name 'alllosses' is not defined",
     "output_type": "error",
     "traceback": [
      "\u001b[0;31m---------------------------------------------------------------------------\u001b[0m",
      "\u001b[0;31mNameError\u001b[0m                                 Traceback (most recent call last)",
      "\u001b[0;32m~/Desktop/MSc Thesis 1/MSc Thesis/Coding/GitHub/thesis/TCDF/evaluate_predictions_TCDF.py\u001b[0m in \u001b[0;36m<module>\u001b[0;34m\u001b[0m\n\u001b[1;32m      4\u001b[0m \u001b[0;34m\u001b[0m\u001b[0m\n\u001b[1;32m      5\u001b[0m \u001b[0;31m# Plot training losses\u001b[0m\u001b[0;34m\u001b[0m\u001b[0;34m\u001b[0m\u001b[0;34m\u001b[0m\u001b[0m\n\u001b[0;32m----> 6\u001b[0;31m \u001b[0mplot_performance\u001b[0m\u001b[0;34m(\u001b[0m\u001b[0malllosses\u001b[0m\u001b[0;34m)\u001b[0m\u001b[0;34m\u001b[0m\u001b[0;34m\u001b[0m\u001b[0m\n\u001b[0m",
      "\u001b[0;31mNameError\u001b[0m: name 'alllosses' is not defined"
     ]
    }
   ],
   "source": [
    "%matplotlib inline\n",
    "# Set figure size \n",
    "plt.rcParams['figure.figsize'] = [25, 10]\n",
    "\n",
    "# Plot training losses\n",
    "plot_performance(alllosses)"
   ]
  },
  {
   "cell_type": "code",
   "execution_count": null,
   "metadata": {},
   "outputs": [],
   "source": [
    "%matplotlib inline\n",
    "# Set figure size \n",
    "plt.rcParams['figure.figsize'] = [25, 10]\n",
    "\n",
    "# Plot accuracy (MASE values)\n",
    "plot_performance(accuracy)"
   ]
  },
  {
   "cell_type": "markdown",
   "metadata": {},
   "source": [
    "#### TCDF: third run (different seed)"
   ]
  },
  {
   "cell_type": "code",
   "execution_count": null,
   "metadata": {
    "scrolled": true
   },
   "outputs": [],
   "source": [
    "%matplotlib inline\n",
    "\n",
    "# Run TCDF and evaluate by comparing the results to the ground truth\n",
    "\n",
    "%run -i \"runTCDF.py\"  --ground_truth data/EBT_demo_dataset.csv=data/EBT_demo_groundtruth.csv --learning_rate 0.1 --hidden_layers 3 --epochs 5000 --significance 0.9 --dilation_coefficient 4 --kernel_size 4 --seed 1111 --plot"
   ]
  },
  {
   "cell_type": "code",
   "execution_count": null,
   "metadata": {
    "scrolled": true
   },
   "outputs": [],
   "source": [
    "# Run TCDF for predictive accuracy\n",
    "\n",
    "%run -i \"evaluate_predictions_TCDF.py\" --data data/EBT_demo_dataset.csv --learning_rate 0.1 --hidden_layers 3 --epochs 5000 --dilation_coefficient 4 --kernel_size 4 --seed 1111 --plot"
   ]
  },
  {
   "cell_type": "code",
   "execution_count": null,
   "metadata": {},
   "outputs": [],
   "source": [
    "%matplotlib inline\n",
    "# Set figure size \n",
    "plt.rcParams['figure.figsize'] = [25, 10]\n",
    "\n",
    "# Plot training losses\n",
    "plot_performance(alllosses)"
   ]
  },
  {
   "cell_type": "code",
   "execution_count": null,
   "metadata": {
    "scrolled": false
   },
   "outputs": [],
   "source": [
    "%matplotlib inline\n",
    "# Set figure size \n",
    "plt.rcParams['figure.figsize'] = [25, 10]\n",
    "\n",
    "# Plot accuracy (MASE values)\n",
    "plot_performance(accuracy)"
   ]
  },
  {
   "cell_type": "markdown",
   "metadata": {},
   "source": [
    "#### TCDF: fourth run (different seed)"
   ]
  },
  {
   "cell_type": "code",
   "execution_count": null,
   "metadata": {
    "scrolled": true
   },
   "outputs": [],
   "source": [
    "%matplotlib inline\n",
    "\n",
    "# Run TCDF and evaluate by comparing the results to the ground truth\n",
    "\n",
    "%run -i \"runTCDF.py\"  --ground_truth data/EBT_demo_dataset.csv=data/EBT_demo_groundtruth.csv --learning_rate 0.1 --hidden_layers 3 --epochs 5000 --significance 0.9 --dilation_coefficient 4 --kernel_size 4 --seed 25942 --plot"
   ]
  },
  {
   "cell_type": "code",
   "execution_count": null,
   "metadata": {
    "scrolled": true
   },
   "outputs": [],
   "source": [
    "# Run TCDF for predictive accuracy\n",
    "\n",
    "%run -i \"evaluate_predictions_TCDF.py\" --data data/EBT_demo_dataset.csv --learning_rate 0.1 --hidden_layers 3 --epochs 5000 --dilation_coefficient 4 --kernel_size 4 --seed 25942 --plot"
   ]
  },
  {
   "cell_type": "code",
   "execution_count": null,
   "metadata": {
    "scrolled": false
   },
   "outputs": [],
   "source": [
    "%matplotlib inline\n",
    "# Set figure size \n",
    "plt.rcParams['figure.figsize'] = [25, 10]\n",
    "\n",
    "# Plot training losses\n",
    "plot_performance(alllosses)"
   ]
  },
  {
   "cell_type": "code",
   "execution_count": null,
   "metadata": {},
   "outputs": [],
   "source": [
    "%matplotlib inline\n",
    "# Set figure size \n",
    "plt.rcParams['figure.figsize'] = [25, 10]\n",
    "\n",
    "# Plot accuracy (MASE values)\n",
    "plot_performance(accuracy)"
   ]
  },
  {
   "cell_type": "markdown",
   "metadata": {},
   "source": [
    "There seems to be big differences in performance and loss when changing the seed, this indicates an unstable pattern and have to find better (hyper)parameters. Or maybe because there is too little data for now?"
   ]
  },
  {
   "cell_type": "markdown",
   "metadata": {},
   "source": [
    "### TCDF with EBT total dynamics\n",
    "\n",
    "This data represents the tritrophic biomasses including the total dynamics (shift change). The system first is at its equilibrium and remains stable for ~20 years, fishing pressure is introduced and a new equilibrium is to be found (at 70 years it is stable again). Data is split into two 'total dynamics', 0 - 100 years and 20 - 70 years respectively.\n",
    "\n",
    "#### Data cleaning"
   ]
  },
  {
   "cell_type": "code",
   "execution_count": null,
   "metadata": {},
   "outputs": [],
   "source": [
    "from sklearn.preprocessing import MinMaxScaler\n",
    "from IPython.display import display, HTML\n",
    "\n",
    "# Select information of datapoints between year 20 and 70\n",
    "total_ebt = ebt[(ebt['Time (year)'] >= 20) & (ebt['Time (year)'] <= 70)]\n",
    "total_ebt_2 = ebt[(ebt['Time (year)'] >= 0) & (ebt['Time (year)'] <= 100)]\n",
    "\n",
    "\n",
    "# Normalize data with min-max normalization\n",
    "scaler = MinMaxScaler()\n",
    "ebt_scaled_1 = scaler.fit_transform(total_ebt[['Rs', 'Rj', 'Ra',\n",
    "                                             'Sj', 'Sa', 'Sb',\n",
    "                                             'Cj', 'Ca', 'Cb',\n",
    "                                             'Fc']])\n",
    "ebt_scaled_2 = scaler.fit_transform(total_ebt_2[['Rs', 'Rj', 'Ra',\n",
    "                                             'Sj', 'Sa', 'Sb',\n",
    "                                             'Cj', 'Ca', 'Cb',\n",
    "                                             'Fc']])\n",
    "\n",
    "# Write scaled data to DataFrame\n",
    "labels = ['Rs', 'Rj', 'Ra',\n",
    "          'Sj', 'Sa', 'Sb',\n",
    "          'Cj', 'Ca', 'Cb',\n",
    "          'Fc']\n",
    "ebt_scaled_1 = pd.DataFrame(ebt_scaled_1, columns = labels)\n",
    "ebt_scaled_2 = pd.DataFrame(ebt_scaled_2, columns = labels)\n",
    "\n",
    "# Check the scaled DataFrame\n",
    "display(ebt_scaled_1.head(-10))\n",
    "display(ebt_scaled_2.head(-10))"
   ]
  },
  {
   "cell_type": "code",
   "execution_count": null,
   "metadata": {},
   "outputs": [],
   "source": [
    "# Visualize scaled data \n",
    "%matplotlib inline\n",
    "import matplotlib.pyplot as plt\n",
    "import matplotlib.lines as lines\n",
    "\n",
    "# Plot scaled data \n",
    "visualise_scaled(ebt_scaled_1, [20,70])"
   ]
  },
  {
   "cell_type": "code",
   "execution_count": null,
   "metadata": {},
   "outputs": [],
   "source": [
    "# Visualize scaled data \n",
    "%matplotlib inline\n",
    "import matplotlib.pyplot as plt\n",
    "import matplotlib.lines as lines\n",
    "\n",
    "# Plot scaled data \n",
    "visualise_scaled(ebt_scaled_2, [0,100])"
   ]
  },
  {
   "cell_type": "code",
   "execution_count": null,
   "metadata": {},
   "outputs": [],
   "source": [
    "# Create file path for new file\n",
    "EBTScaled_path_1 = os.path.join(TCDFdata_path, 'EBT_20_70_dataset.csv')\n",
    "EBTScaled_path_2 = os.path.join(TCDFdata_path, 'EBT_0_100_dataset.csv')\n",
    "\n",
    "# Write clean dataframe demo_ebt to a new .csv file\n",
    "ebt_scaled_1.to_csv(EBTScaled_path_1, index = False)\n",
    "ebt_scaled_2.to_csv(EBTScaled_path_2, index = False)"
   ]
  },
  {
   "cell_type": "markdown",
   "metadata": {},
   "source": [
    "#### TCDF 20-70 years: first run"
   ]
  },
  {
   "cell_type": "code",
   "execution_count": null,
   "metadata": {
    "scrolled": true
   },
   "outputs": [],
   "source": [
    "%matplotlib inline\n",
    "\n",
    "# Run TCDF with the selected total dataset of EBT data\n",
    "\n",
    "%run -i \"runTCDF.py\"  --ground_truth data/EBT_20_70_dataset.csv=data/EBT_demo_groundtruth.csv --learning_rate 0.1 --hidden_layers 3 --epochs 2000 --log_interval 1000 --significance 0.9 --dilation_coefficient 4 --kernel_size 4 --seed 5467 --plot\n"
   ]
  },
  {
   "cell_type": "code",
   "execution_count": null,
   "metadata": {
    "scrolled": true
   },
   "outputs": [],
   "source": [
    "# Run TCDF for predictive accuracy\n",
    "\n",
    "%run -i \"evaluate_predictions_TCDF.py\" --data data/EBT_20_70_dataset.csv --learning_rate 0.1 --hidden_layers 3 --epochs 2000 --log_interval 1000 --dilation_coefficient 4 --kernel_size 4 --seed 5467 --plot"
   ]
  },
  {
   "cell_type": "code",
   "execution_count": null,
   "metadata": {},
   "outputs": [],
   "source": [
    "%matplotlib inline\n",
    "# Set figure size \n",
    "plt.rcParams['figure.figsize'] = [25, 10]\n",
    "\n",
    "# Plot training losses\n",
    "plot_performance(alllosses)"
   ]
  },
  {
   "cell_type": "code",
   "execution_count": null,
   "metadata": {},
   "outputs": [],
   "source": [
    "%matplotlib inline\n",
    "# Set figure size \n",
    "plt.rcParams['figure.figsize'] = [25, 10]\n",
    "\n",
    "# Plot accuracy (MASE values)\n",
    "plot_performance(accuracy)"
   ]
  },
  {
   "cell_type": "markdown",
   "metadata": {},
   "source": [
    "#### TCDF 20-70 years: second run (1 less hidden layer)"
   ]
  },
  {
   "cell_type": "code",
   "execution_count": null,
   "metadata": {
    "scrolled": true
   },
   "outputs": [],
   "source": [
    "%matplotlib inline\n",
    "\n",
    "# Run TCDF with the selected total dataset of EBT data\n",
    "\n",
    "%run -i \"runTCDF.py\"  --ground_truth data/EBT_20_70_dataset.csv=data/EBT_demo_groundtruth.csv --learning_rate 0.1 --hidden_layers 2 --epochs 2000 --log_interval 1000 --significance 0.9 --dilation_coefficient 4 --kernel_size 4 --seed 5467 --plot\n"
   ]
  },
  {
   "cell_type": "code",
   "execution_count": null,
   "metadata": {
    "scrolled": true
   },
   "outputs": [],
   "source": [
    "# Run TCDF for predictive accuracy\n",
    "\n",
    "%run -i \"evaluate_predictions_TCDF.py\" --data data/EBT_20_70_dataset.csv --learning_rate 0.1 --hidden_layers 2 --epochs 2000 --log_interval 1000 --dilation_coefficient 4 --kernel_size 4 --seed 37519 --plot"
   ]
  },
  {
   "cell_type": "code",
   "execution_count": null,
   "metadata": {},
   "outputs": [],
   "source": [
    "%matplotlib inline\n",
    "# Set figure size \n",
    "plt.rcParams['figure.figsize'] = [25, 10]\n",
    "\n",
    "# Plot training losses\n",
    "plot_performance(alllosses)"
   ]
  },
  {
   "cell_type": "code",
   "execution_count": null,
   "metadata": {},
   "outputs": [],
   "source": [
    "%matplotlib inline\n",
    "# Set figure size \n",
    "plt.rcParams['figure.figsize'] = [25, 10]\n",
    "\n",
    "# Plot accuracy (MASE values)\n",
    "plot_performance(accuracy)"
   ]
  },
  {
   "cell_type": "markdown",
   "metadata": {},
   "source": [
    "#### TCDF 20-70 years: third run (different seed)"
   ]
  },
  {
   "cell_type": "code",
   "execution_count": null,
   "metadata": {
    "scrolled": true
   },
   "outputs": [],
   "source": [
    "%matplotlib inline\n",
    "\n",
    "# Run TCDF with the selected total dataset of EBT data\n",
    "\n",
    "%run -i \"runTCDF.py\"  --ground_truth data/EBT_20_70_dataset.csv=data/EBT_demo_groundtruth.csv --learning_rate 0.1 --hidden_layers 2 --epochs 2000 --log_interval 1000 --significance 0.9 --dilation_coefficient 4 --kernel_size 4 --seed 37519 --plot\n"
   ]
  },
  {
   "cell_type": "code",
   "execution_count": null,
   "metadata": {
    "scrolled": true
   },
   "outputs": [],
   "source": [
    "# Run TCDF for predictive accuracy\n",
    "\n",
    "%run -i \"evaluate_predictions_TCDF.py\" --data data/EBT_20_70_dataset.csv --learning_rate 0.1 --hidden_layers 2 --epochs 2000 --log_interval 1000 --dilation_coefficient 4 --kernel_size 4 --seed 37519 --plot"
   ]
  },
  {
   "cell_type": "code",
   "execution_count": null,
   "metadata": {},
   "outputs": [],
   "source": [
    "%matplotlib inline\n",
    "# Set figure size \n",
    "plt.rcParams['figure.figsize'] = [25, 10]\n",
    "\n",
    "# Plot training losses\n",
    "plot_performance(alllosses)"
   ]
  },
  {
   "cell_type": "code",
   "execution_count": null,
   "metadata": {},
   "outputs": [],
   "source": [
    "%matplotlib inline\n",
    "# Set figure size \n",
    "plt.rcParams['figure.figsize'] = [25, 10]\n",
    "\n",
    "# Plot accuracy (MASE values)\n",
    "plot_performance(accuracy)"
   ]
  },
  {
   "cell_type": "markdown",
   "metadata": {},
   "source": [
    "#### TCDF 0-100 years: first run"
   ]
  },
  {
   "cell_type": "code",
   "execution_count": null,
   "metadata": {
    "scrolled": true
   },
   "outputs": [],
   "source": [
    "%matplotlib inline\n",
    "\n",
    "# Run TCDF with the selected total dataset of EBT data\n",
    "\n",
    "%run -i \"runTCDF.py\"  --ground_truth data/EBT_0_100_dataset.csv=data/EBT_demo_groundtruth.csv --learning_rate 0.1 --hidden_layers 2 --epochs 2000 --log_interval 1000 --significance 0.95 --dilation_coefficient 4 --kernel_size 4 --seed 37519 --plot"
   ]
  },
  {
   "cell_type": "code",
   "execution_count": null,
   "metadata": {},
   "outputs": [],
   "source": [
    "%matplotlib inline\n",
    "# Set figure size \n",
    "plt.rcParams['figure.figsize'] = [25, 10]\n",
    "\n",
    "# Plot training losses\n",
    "plot_performance(alllosses)"
   ]
  },
  {
   "cell_type": "markdown",
   "metadata": {},
   "source": [
    "#### TCDF 0-100 years: second run (1 extra hidden layer, different seed)"
   ]
  },
  {
   "cell_type": "code",
   "execution_count": null,
   "metadata": {
    "scrolled": true
   },
   "outputs": [],
   "source": [
    "%matplotlib inline\n",
    "\n",
    "# Run TCDF with the selected total dataset of EBT data\n",
    "\n",
    "%run -i \"runTCDF.py\"  --ground_truth data/EBT_0_100_dataset.csv=data/EBT_demo_groundtruth.csv --learning_rate 0.1 --hidden_layers 3 --epochs 2000 --log_interval 1000 --significance 0.95 --dilation_coefficient 4 --kernel_size 4 --seed 1111 --plot"
   ]
  },
  {
   "cell_type": "code",
   "execution_count": null,
   "metadata": {},
   "outputs": [],
   "source": [
    "%matplotlib inline\n",
    "# Set figure size \n",
    "plt.rcParams['figure.figsize'] = [25, 10]\n",
    "\n",
    "# Plot training losses\n",
    "plot_performance(alllosses)"
   ]
  },
  {
   "cell_type": "markdown",
   "metadata": {},
   "source": [
    "### TCDF with EBT equilibrium dynamics\n",
    "\n",
    "This data represents the tritrophic biomasses before the introduced fishing pressure on cod. The system first finds it equilibrium and remains stable for ~20 years. Therefore, no relations should be found by the machine learning model.\n",
    "\n",
    "#### Data cleaning"
   ]
  },
  {
   "cell_type": "code",
   "execution_count": null,
   "metadata": {},
   "outputs": [],
   "source": [
    "from sklearn.preprocessing import MinMaxScaler\n",
    "from IPython.display import display, HTML\n",
    "\n",
    "# Select information of datapoints for each equilibrium state (i.e. between year 0 and 20 & 70 and 100)\n",
    "first_eq_ebt = ebt[(ebt['Time (year)'] >= 0) & (ebt['Time (year)'] <= 20)]\n",
    "second_eq_ebt = ebt[(ebt['Time (year)'] >= 70) & (ebt['Time (year)'] <= 100)]\n",
    "\n",
    "# Normalize data with min-max normalization\n",
    "scaler = MinMaxScaler()\n",
    "ebt_scaled_1 = scaler.fit_transform(first_eq_ebt[['Rs', 'Rj', 'Ra',\n",
    "                                                  'Sj', 'Sa', 'Sb',\n",
    "                                                  'Cj', 'Ca', 'Cb',\n",
    "                                                  'Fc']])\n",
    "ebt_scaled_2 = scaler.fit_transform(second_eq_ebt[['Rs', 'Rj', 'Ra',\n",
    "                                                   'Sj', 'Sa', 'Sb',\n",
    "                                                   'Cj', 'Ca', 'Cb',\n",
    "                                                   'Fc']])\n",
    "\n",
    "# Write scaled data to DataFrame\n",
    "labels = ['Rs', 'Rj', 'Ra',\n",
    "          'Sj', 'Sa', 'Sb',\n",
    "          'Cj', 'Ca', 'Cb',\n",
    "          'Fc']\n",
    "ebt_scaled_1 = pd.DataFrame(ebt_scaled_1, columns = labels)\n",
    "ebt_scaled_2 = pd.DataFrame(ebt_scaled_2, columns = labels)\n",
    "\n",
    "# Check the scaled DataFrame\n",
    "display(ebt_scaled_1.head(-10))\n",
    "display(ebt_scaled_2.head(-10))"
   ]
  },
  {
   "cell_type": "code",
   "execution_count": null,
   "metadata": {},
   "outputs": [],
   "source": [
    "# Visualize scaled data first equilibrium\n",
    "%matplotlib inline\n",
    "import matplotlib.pyplot as plt\n",
    "import matplotlib.lines as lines\n",
    "\n",
    "visualise_scaled(ebt_scaled_1, [0,20])"
   ]
  },
  {
   "cell_type": "code",
   "execution_count": null,
   "metadata": {},
   "outputs": [],
   "source": [
    "# Visualize scaled data second equilibrium\n",
    "%matplotlib inline\n",
    "import matplotlib.pyplot as plt\n",
    "import matplotlib.lines as lines\n",
    "\n",
    "visualise_scaled(ebt_scaled_2, [70,100])"
   ]
  },
  {
   "cell_type": "code",
   "execution_count": null,
   "metadata": {},
   "outputs": [],
   "source": [
    "# Create file path for new file\n",
    "EBTScaled_path = os.path.join(TCDFdata_path, 'EBT_first_eq_dataset.csv')\n",
    "\n",
    "# Write clean dataframe demo_ebt to a new .csv file\n",
    "ebt_scaled_1.to_csv(EBTScaled_path, index = False)\n",
    "\n",
    "# Create file path for new file\n",
    "EBTScaled_path = os.path.join(TCDFdata_path, 'EBT_second_eq_dataset.csv')\n",
    "\n",
    "# Write clean dataframe demo_ebt to a new .csv file\n",
    "ebt_scaled_2.to_csv(EBTScaled_path, index = False)"
   ]
  },
  {
   "cell_type": "markdown",
   "metadata": {},
   "source": [
    "#### TCDF first equilibrium: first run "
   ]
  },
  {
   "cell_type": "code",
   "execution_count": null,
   "metadata": {
    "scrolled": true
   },
   "outputs": [],
   "source": [
    "%matplotlib inline\n",
    "\n",
    "# Run TCDF with the selected equilibrium dataset of EBT data\n",
    "\n",
    "%run -i \"runTCDF.py\"  --ground_truth data/EBT_first_eq_dataset.csv=data/EBT_demo_groundtruth.csv --learning_rate 0.1 --hidden_layers 2 --epochs 4000 --log_interval 1000 --significance 0.9 --dilation_coefficient 4 --kernel_size 4 --seed 37519 --plot"
   ]
  },
  {
   "cell_type": "code",
   "execution_count": null,
   "metadata": {
    "scrolled": true
   },
   "outputs": [],
   "source": [
    "# Run TCDF for predictive accuracy\n",
    "\n",
    "%run -i \"evaluate_predictions_TCDF.py\" --data data/EBT_first_eq_dataset.csv --learning_rate 0.1 --hidden_layers 2 --epochs 4000 --log_interval 1000 --dilation_coefficient 4 --kernel_size 4 --seed 37519 --plot"
   ]
  },
  {
   "cell_type": "code",
   "execution_count": null,
   "metadata": {},
   "outputs": [],
   "source": [
    "%matplotlib inline\n",
    "# Set figure size \n",
    "plt.rcParams['figure.figsize'] = [25, 10]\n",
    "\n",
    "# Plot training losses\n",
    "plot_performance(alllosses)"
   ]
  },
  {
   "cell_type": "code",
   "execution_count": null,
   "metadata": {},
   "outputs": [],
   "source": [
    "%matplotlib inline\n",
    "# Set figure size \n",
    "plt.rcParams['figure.figsize'] = [25, 10]\n",
    "\n",
    "# Plot accuracy (MASE values)\n",
    "plot_performance(accuracy)"
   ]
  },
  {
   "cell_type": "markdown",
   "metadata": {},
   "source": [
    "#### TCDF first equilibrium: second run (different seed)"
   ]
  },
  {
   "cell_type": "code",
   "execution_count": null,
   "metadata": {
    "scrolled": true
   },
   "outputs": [],
   "source": [
    "%matplotlib inline\n",
    "\n",
    "# Run TCDF with the selected equilibrium dataset of EBT data\n",
    "\n",
    "%run -i \"runTCDF.py\"  --ground_truth data/EBT_first_eq_dataset.csv=data/EBT_demo_groundtruth.csv --learning_rate 0.1 --hidden_layers 2 --epochs 4000 --log_interval 1000 --significance 0.9 --dilation_coefficient 4 --kernel_size 4 --seed 1111 --plot\n"
   ]
  },
  {
   "cell_type": "code",
   "execution_count": null,
   "metadata": {
    "scrolled": true
   },
   "outputs": [],
   "source": [
    "# Run TCDF for predictive accuracy\n",
    "\n",
    "%run -i \"evaluate_predictions_TCDF.py\" --data data/EBT_first_eq_dataset.csv --learning_rate 0.1 --hidden_layers 2 --epochs 4000 --log_interval 1000 --dilation_coefficient 4 --kernel_size 4 --seed 1111 --plot"
   ]
  },
  {
   "cell_type": "code",
   "execution_count": null,
   "metadata": {},
   "outputs": [],
   "source": [
    "%matplotlib inline\n",
    "# Set figure size \n",
    "plt.rcParams['figure.figsize'] = [25, 10]\n",
    "\n",
    "# Plot training losses\n",
    "plot_performance(alllosses)"
   ]
  },
  {
   "cell_type": "code",
   "execution_count": null,
   "metadata": {},
   "outputs": [],
   "source": [
    "%matplotlib inline\n",
    "# Set figure size \n",
    "plt.rcParams['figure.figsize'] = [25, 10]\n",
    "\n",
    "# Plot accuracy (MASE values)\n",
    "plot_performance(accuracy)"
   ]
  },
  {
   "cell_type": "markdown",
   "metadata": {},
   "source": [
    "#### TCDF second equilibrium: first run "
   ]
  },
  {
   "cell_type": "code",
   "execution_count": null,
   "metadata": {
    "scrolled": true
   },
   "outputs": [],
   "source": [
    "%matplotlib inline\n",
    "\n",
    "# Run TCDF with the selected equilibrium dataset of EBT data\n",
    "\n",
    "%run -i \"runTCDF.py\"  --ground_truth data/EBT_second_eq_dataset.csv=data/EBT_demo_groundtruth.csv --learning_rate 0.1 --hidden_layers 2 --epochs 4000 --log_interval 1000 --significance 0.9 --dilation_coefficient 4 --kernel_size 4 --seed 34321 --plot"
   ]
  },
  {
   "cell_type": "code",
   "execution_count": null,
   "metadata": {
    "scrolled": true
   },
   "outputs": [],
   "source": [
    "# Run TCDF for predictive accuracy\n",
    "\n",
    "%run -i \"evaluate_predictions_TCDF.py\" --data data/EBT_second_eq_dataset.csv --learning_rate 0.1 --hidden_layers 2 --epochs 4000 --log_interval 1000 --dilation_coefficient 4 --kernel_size 4 --seed 34321 --plot"
   ]
  },
  {
   "cell_type": "code",
   "execution_count": null,
   "metadata": {},
   "outputs": [],
   "source": [
    "%matplotlib inline\n",
    "# Set figure size \n",
    "plt.rcParams['figure.figsize'] = [25, 10]\n",
    "\n",
    "# Plot training losses\n",
    "plot_performance(alllosses)"
   ]
  },
  {
   "cell_type": "code",
   "execution_count": null,
   "metadata": {},
   "outputs": [],
   "source": [
    "%matplotlib inline\n",
    "# Set figure size \n",
    "plt.rcParams['figure.figsize'] = [25, 10]\n",
    "\n",
    "# Plot accuracy (MASE values)\n",
    "plot_performance(accuracy)"
   ]
  },
  {
   "cell_type": "markdown",
   "metadata": {},
   "source": [
    "#### TCDF second equilibrium: second run (different seed)"
   ]
  },
  {
   "cell_type": "code",
   "execution_count": null,
   "metadata": {
    "scrolled": true
   },
   "outputs": [],
   "source": [
    "%matplotlib inline\n",
    "\n",
    "# Run TCDF with the selected equilibrium dataset of EBT data\n",
    "\n",
    "%run -i \"runTCDF.py\"  --ground_truth data/EBT_second_eq_dataset.csv=data/EBT_demo_groundtruth.csv --learning_rate 0.1 --hidden_layers 2 --epochs 4000 --log_interval 1000 --significance 0.9 --dilation_coefficient 4 --kernel_size 4 --seed 1238 --plot"
   ]
  },
  {
   "cell_type": "code",
   "execution_count": null,
   "metadata": {
    "scrolled": true
   },
   "outputs": [],
   "source": [
    "# Run TCDF for predictive accuracy\n",
    "\n",
    "%run -i \"evaluate_predictions_TCDF.py\" --data data/EBT_second_eq_dataset.csv --learning_rate 0.1 --hidden_layers 2 --epochs 4000 --log_interval 1000 --dilation_coefficient 4 --kernel_size 4 --seed 1238 --plot"
   ]
  },
  {
   "cell_type": "code",
   "execution_count": null,
   "metadata": {},
   "outputs": [],
   "source": [
    "%matplotlib inline\n",
    "# Set figure size \n",
    "plt.rcParams['figure.figsize'] = [25, 10]\n",
    "\n",
    "# Plot training losses\n",
    "plot_performance(alllosses)"
   ]
  },
  {
   "cell_type": "code",
   "execution_count": null,
   "metadata": {},
   "outputs": [],
   "source": [
    "%matplotlib inline\n",
    "# Set figure size \n",
    "plt.rcParams['figure.figsize'] = [25, 10]\n",
    "\n",
    "# Plot accuracy (MASE values)\n",
    "plot_performance(accuracy)"
   ]
  },
  {
   "cell_type": "markdown",
   "metadata": {},
   "source": [
    "### TCDF with EBT transient dynamics\n",
    "\n",
    "This data represents the tritrophic biomasses during the introduced fishing pressure on cod. At 20 years Fc increases and is put to a halt on 40 years. Therefore I split the transient dynamics into two separate transient phases: 20-40 years (fishing pressure increases linearly) and 40-70 years (searching for a new equilibrium).\n",
    "\n",
    "#### Data cleaning"
   ]
  },
  {
   "cell_type": "code",
   "execution_count": null,
   "metadata": {},
   "outputs": [],
   "source": [
    "from sklearn.preprocessing import MinMaxScaler\n",
    "from IPython.display import display, HTML\n",
    "\n",
    "# Select information of datapoints for each transient state (i.e. between year 20 and 60 & 60 and 70)\n",
    "first_trans_ebt = ebt[(ebt['Time (year)'] >= 20) & (ebt['Time (year)'] <= 60)]\n",
    "second_trans_ebt = ebt[(ebt['Time (year)'] >= 60) & (ebt['Time (year)'] <= 70)]\n",
    "\n",
    "# Normalize data with min-max normalization\n",
    "scaler = MinMaxScaler()\n",
    "ebt_scaled_1 = scaler.fit_transform(first_trans_ebt[['Rs', 'Rj', 'Ra',\n",
    "                                                  'Sj', 'Sa', 'Sb',\n",
    "                                                  'Cj', 'Ca', 'Cb',\n",
    "                                                  'Fc']])\n",
    "ebt_scaled_2 = scaler.fit_transform(second_trans_ebt[['Rs', 'Rj', 'Ra',\n",
    "                                                   'Sj', 'Sa', 'Sb',\n",
    "                                                   'Cj', 'Ca', 'Cb',\n",
    "                                                   'Fc']])\n",
    "\n",
    "# Write scaled data to DataFrame\n",
    "labels = ['Rs', 'Rj', 'Ra',\n",
    "          'Sj', 'Sa', 'Sb',\n",
    "          'Cj', 'Ca', 'Cb',\n",
    "          'Fc']\n",
    "ebt_scaled_1 = pd.DataFrame(ebt_scaled_1, columns = labels)\n",
    "ebt_scaled_2 = pd.DataFrame(ebt_scaled_2, columns = labels)\n",
    "\n",
    "# Check the scaled DataFrame\n",
    "display(ebt_scaled_1.head(-10))\n",
    "display(ebt_scaled_2.head(-10))"
   ]
  },
  {
   "cell_type": "code",
   "execution_count": null,
   "metadata": {},
   "outputs": [],
   "source": [
    "# Visualize scaled data first transient\n",
    "%matplotlib inline\n",
    "import matplotlib.pyplot as plt\n",
    "import matplotlib.lines as lines\n",
    "\n",
    "visualise_scaled(ebt_scaled_1, [20,60])"
   ]
  },
  {
   "cell_type": "code",
   "execution_count": null,
   "metadata": {},
   "outputs": [],
   "source": [
    "# Visualize scaled data second transient\n",
    "%matplotlib inline\n",
    "import matplotlib.pyplot as plt\n",
    "import matplotlib.lines as lines\n",
    "\n",
    "visualise_scaled(ebt_scaled_2, [60,70])"
   ]
  },
  {
   "cell_type": "code",
   "execution_count": null,
   "metadata": {},
   "outputs": [],
   "source": [
    "# Create file path for new file\n",
    "EBTScaled_path = os.path.join(TCDFdata_path, 'EBT_first_trans_dataset.csv')\n",
    "\n",
    "# Write clean dataframe demo_ebt to a new .csv file\n",
    "ebt_scaled_1.to_csv(EBTScaled_path, index = False)\n",
    "\n",
    "# Create file path for new file\n",
    "EBTScaled_path = os.path.join(TCDFdata_path, 'EBT_second_trans_dataset.csv')\n",
    "\n",
    "# Write clean dataframe demo_ebt to a new .csv file\n",
    "ebt_scaled_2.to_csv(EBTScaled_path, index = False)"
   ]
  },
  {
   "cell_type": "markdown",
   "metadata": {},
   "source": [
    "#### TCDF first transient: first run "
   ]
  },
  {
   "cell_type": "code",
   "execution_count": null,
   "metadata": {},
   "outputs": [],
   "source": [
    "%matplotlib inline\n",
    "\n",
    "# Run TCDF with the selected equilibrium dataset of EBT data\n",
    "\n",
    "%run -i \"runTCDF.py\"  --ground_truth data/EBT_first_trans_dataset.csv=data/EBT_demo_groundtruth.csv --learning_rate 0.1 --hidden_layers 3 --epochs 5000 --log_interval 1000 --significance 0.9 --dilation_coefficient 4 --kernel_size 4 --seed 24310 --plot"
   ]
  },
  {
   "cell_type": "code",
   "execution_count": null,
   "metadata": {},
   "outputs": [],
   "source": [
    "# Run TCDF for predictive accuracy\n",
    "\n",
    "%run -i \"evaluate_predictions_TCDF.py\" --data data/EBT_first_trans_dataset.csv --learning_rate 0.1 --hidden_layers 3 --epochs 5000 --log_interval 1000 --dilation_coefficient 4 --kernel_size 4 --seed 24310 --plot"
   ]
  },
  {
   "cell_type": "code",
   "execution_count": null,
   "metadata": {},
   "outputs": [],
   "source": [
    "%matplotlib inline\n",
    "# Set figure size \n",
    "plt.rcParams['figure.figsize'] = [25, 10]\n",
    "\n",
    "# Plot training losses\n",
    "plot_performance(alllosses)"
   ]
  },
  {
   "cell_type": "code",
   "execution_count": null,
   "metadata": {},
   "outputs": [],
   "source": [
    "%matplotlib inline\n",
    "# Set figure size \n",
    "plt.rcParams['figure.figsize'] = [25, 10]\n",
    "\n",
    "# Plot accuracy (MASE values)\n",
    "plot_performance(accuracy)"
   ]
  },
  {
   "cell_type": "markdown",
   "metadata": {},
   "source": [
    "#### TCDF first transient: second run (1 less hidden layer)"
   ]
  },
  {
   "cell_type": "code",
   "execution_count": null,
   "metadata": {
    "scrolled": true
   },
   "outputs": [],
   "source": [
    "%matplotlib inline\n",
    "\n",
    "# Run TCDF with the selected equilibrium dataset of EBT data\n",
    "\n",
    "%run -i \"runTCDF.py\"  --ground_truth data/EBT_first_trans_dataset.csv=data/EBT_demo_groundtruth.csv --learning_rate 0.1 --hidden_layers 2 --epochs 5000 --log_interval 1000 --significance 0.9 --dilation_coefficient 4 --kernel_size 4 --seed 24310 --plot"
   ]
  },
  {
   "cell_type": "code",
   "execution_count": null,
   "metadata": {},
   "outputs": [],
   "source": [
    "%matplotlib inline\n",
    "# Set figure size \n",
    "plt.rcParams['figure.figsize'] = [25, 10]\n",
    "\n",
    "# Plot training losses\n",
    "plot_performance(alllosses)"
   ]
  },
  {
   "cell_type": "markdown",
   "metadata": {},
   "source": [
    "#### TCDF first transient: third run (1 more hidden layer, different seed)"
   ]
  },
  {
   "cell_type": "code",
   "execution_count": null,
   "metadata": {
    "scrolled": true
   },
   "outputs": [],
   "source": [
    "%matplotlib inline\n",
    "\n",
    "# Run TCDF with the selected equilibrium dataset of EBT data\n",
    "\n",
    "%run -i \"runTCDF.py\"  --ground_truth data/EBT_first_trans_dataset.csv=data/EBT_demo_groundtruth.csv --learning_rate 0.1 --hidden_layers 3 --epochs 5000 --log_interval 1000 --significance 0.9 --dilation_coefficient 4 --kernel_size 4 --seed 568943 --plot"
   ]
  },
  {
   "cell_type": "code",
   "execution_count": null,
   "metadata": {},
   "outputs": [],
   "source": [
    "%matplotlib inline\n",
    "# Set figure size \n",
    "plt.rcParams['figure.figsize'] = [25, 10]\n",
    "\n",
    "# Plot training losses\n",
    "plot_performance(alllosses)"
   ]
  },
  {
   "cell_type": "markdown",
   "metadata": {},
   "source": [
    "#### TCDF second transient: first run "
   ]
  },
  {
   "cell_type": "code",
   "execution_count": null,
   "metadata": {
    "scrolled": true
   },
   "outputs": [],
   "source": [
    "%matplotlib inline\n",
    "\n",
    "# Run TCDF with the selected equilibrium dataset of EBT data\n",
    "\n",
    "%run -i \"runTCDF.py\"  --ground_truth data/EBT_second_trans_dataset.csv=data/EBT_demo_groundtruth.csv --learning_rate 0.1 --hidden_layers 3 --epochs 5000 --log_interval 1000 --significance 0.9 --dilation_coefficient 4 --kernel_size 4 --seed 2369 --plot"
   ]
  },
  {
   "cell_type": "code",
   "execution_count": null,
   "metadata": {
    "scrolled": true
   },
   "outputs": [],
   "source": [
    "# Run TCDF for predictive accuracy\n",
    "\n",
    "%run -i \"evaluate_predictions_TCDF.py\" --data data/EBT_second_trans_dataset.csv --learning_rate 0.1 --hidden_layers 3 --epochs 5000 --log_interval 1000 --dilation_coefficient 4 --kernel_size 4 --seed 2369 --plot"
   ]
  },
  {
   "cell_type": "code",
   "execution_count": null,
   "metadata": {},
   "outputs": [],
   "source": [
    "%matplotlib inline\n",
    "# Set figure size \n",
    "plt.rcParams['figure.figsize'] = [25, 10]\n",
    "\n",
    "# Plot training losses\n",
    "plot_performance(alllosses)"
   ]
  },
  {
   "cell_type": "code",
   "execution_count": null,
   "metadata": {},
   "outputs": [],
   "source": [
    "%matplotlib inline\n",
    "# Set figure size \n",
    "plt.rcParams['figure.figsize'] = [25, 10]\n",
    "\n",
    "# Plot accuracy (MASE values)\n",
    "plot_performance(accuracy)"
   ]
  },
  {
   "cell_type": "markdown",
   "metadata": {},
   "source": [
    "#### TCDF second transient: second run (1 less hidden layer)"
   ]
  },
  {
   "cell_type": "code",
   "execution_count": null,
   "metadata": {
    "scrolled": true
   },
   "outputs": [],
   "source": [
    "%matplotlib inline\n",
    "\n",
    "# Run TCDF with the selected equilibrium dataset of EBT data\n",
    "\n",
    "%run -i \"runTCDF.py\"  --ground_truth data/EBT_second_trans_dataset.csv=data/EBT_demo_groundtruth.csv --learning_rate 0.1 --hidden_layers 2 --epochs 5000 --log_interval 1000 --significance 0.95 --dilation_coefficient 4 --kernel_size 4 --seed 2369 --plot"
   ]
  },
  {
   "cell_type": "code",
   "execution_count": null,
   "metadata": {
    "scrolled": true
   },
   "outputs": [],
   "source": [
    "# Run TCDF for predictive accuracy\n",
    "\n",
    "%run -i \"evaluate_predictions_TCDF.py\" --data data/EBT_second_trans_dataset.csv --learning_rate 0.1 --hidden_layers 2 --epochs 5000 --log_interval 1000 --dilation_coefficient 4 --kernel_size 4 --seed 2369 --plot"
   ]
  },
  {
   "cell_type": "code",
   "execution_count": null,
   "metadata": {},
   "outputs": [],
   "source": [
    "%matplotlib inline\n",
    "# Set figure size \n",
    "plt.rcParams['figure.figsize'] = [25, 10]\n",
    "\n",
    "# Plot training losses\n",
    "plot_performance(alllosses)"
   ]
  },
  {
   "cell_type": "code",
   "execution_count": null,
   "metadata": {},
   "outputs": [],
   "source": [
    "%matplotlib inline\n",
    "# Set figure size \n",
    "plt.rcParams['figure.figsize'] = [25, 10]\n",
    "\n",
    "# Plot accuracy (MASE values)\n",
    "plot_performance(accuracy)"
   ]
  },
  {
   "cell_type": "markdown",
   "metadata": {},
   "source": [
    "## Adding white noise (Additive White Gaussian Noise)\n",
    "\n",
    "Training the model with additive noise might be helpful in avoiding overfitting of the model. Data in this section is augmented by adding noise with additive white Gaussian noise."
   ]
  },
  {
   "cell_type": "code",
   "execution_count": null,
   "metadata": {},
   "outputs": [],
   "source": []
  },
  {
   "cell_type": "code",
   "execution_count": null,
   "metadata": {},
   "outputs": [],
   "source": [
    "# Adding noise using target SNR\n",
    "\n",
    "# Set a target SNR\n",
    "target_snr = 0.001\n",
    "# Calculate signal power and convert to dB \n",
    "average_ca = np.mean(ebt['Ca'])\n",
    "\n",
    "# Calculate noise according to [2] then convert to watts\n",
    "noise = abs(average_ca - target_snr)\n",
    "\n",
    "# Generate an sample of white noise\n",
    "mean_noise = 0\n",
    "noise_volts = np.random.normal(mean_noise, np.sqrt(noise), len(ebt['Ca']))\n",
    "# Noise up the original signal\n",
    "ca_noise = ebt['Ca'] + noise_volts\n",
    "\n",
    "plt.plot(np.arange(len(ca_noise)), ca_noise)\n",
    "plt.plot(np.arange(len(ebt['Ca'])), ebt['Ca'])\n",
    "ca_noise"
   ]
  },
  {
   "cell_type": "code",
   "execution_count": null,
   "metadata": {},
   "outputs": [],
   "source": [
    "from sklearn.preprocessing import MinMaxScaler\n",
    "from IPython.display import display, HTML\n",
    "\n",
    "# Select information of datapoints \n",
    "total_ebt = ebt[(ebt['Time (year)'] >= 0) & (ebt['Time (year)'] <= 100)]\n",
    "\n",
    "\n",
    "# Normalize data with min-max normalization\n",
    "scaler = MinMaxScaler()\n",
    "ebt_scaled = scaler.fit_transform(total_ebt[['Rs', 'Rj', 'Ra',\n",
    "                                             'Sj', 'Sa', 'Sb',\n",
    "                                             'Cj', 'Ca', 'Cb',\n",
    "                                             'Fc']])\n",
    "\n",
    "\n",
    "# Write scaled data to DataFrame\n",
    "labels = ['Rs', 'Rj', 'Ra',\n",
    "          'Sj', 'Sa', 'Sb',\n",
    "          'Cj', 'Ca', 'Cb',\n",
    "          'Fc']\n",
    "ebt_scaled = pd.DataFrame(ebt_scaled, columns = labels)\n",
    "\n",
    "# Check the scaled DataFrame\n",
    "display(ebt_scaled.head(-10))"
   ]
  },
  {
   "cell_type": "code",
   "execution_count": null,
   "metadata": {},
   "outputs": [],
   "source": [
    "# Adding noise using target SNR\n",
    "\n",
    "# Set a target SNR\n",
    "target_snr = 1e-1000\n",
    "# Calculate signal power and convert to dB \n",
    "average_ca = np.mean(ebt_scaled['Cj'])\n",
    "\n",
    "# Calculate noise according to [2] then convert to watts\n",
    "noise = abs(average_ca - target_snr)\n",
    "\n",
    "# Generate an sample of white noise\n",
    "mean_noise = 0\n",
    "noise_volts = np.random.normal(mean_noise, np.sqrt(noise), len(ebt_scaled['Cj']))\n",
    "# Noise up the original signal\n",
    "ca_noise = ebt_scaled['Cj'] + noise_volts\n",
    "\n",
    "plt.plot(np.arange(len(ca_noise)), ca_noise)\n",
    "plt.plot(np.arange(len(ebt_scaled['Cj'])), ebt_scaled['Cj'])\n",
    "ca_noise"
   ]
  },
  {
   "cell_type": "code",
   "execution_count": null,
   "metadata": {},
   "outputs": [],
   "source": []
  }
 ],
 "metadata": {
  "kernelspec": {
   "display_name": "Python 3",
   "language": "python",
   "name": "python3"
  },
  "language_info": {
   "codemirror_mode": {
    "name": "ipython",
    "version": 3
   },
   "file_extension": ".py",
   "mimetype": "text/x-python",
   "name": "python",
   "nbconvert_exporter": "python",
   "pygments_lexer": "ipython3",
   "version": "3.8.5"
  }
 },
 "nbformat": 4,
 "nbformat_minor": 4
}
